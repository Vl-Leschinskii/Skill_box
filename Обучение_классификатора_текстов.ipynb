{
  "nbformat": 4,
  "nbformat_minor": 0,
  "metadata": {
    "colab": {
      "name": "Обучение классификатора текстов",
      "provenance": [],
      "collapsed_sections": []
    },
    "kernelspec": {
      "name": "python3",
      "display_name": "Python 3"
    },
    "language_info": {
      "codemirror_mode": {
        "name": "ipython",
        "version": 3
      },
      "file_extension": ".py",
      "mimetype": "text/x-python",
      "name": "python",
      "nbconvert_exporter": "python",
      "pygments_lexer": "ipython3",
      "version": "3.7.1"
    },
    "accelerator": "GPU"
  },
  "cells": [
    {
      "cell_type": "markdown",
      "metadata": {
        "id": "ZmZiFVcabyX1"
      },
      "source": [
        "#Реализация  и обучение классификатора текстов"
      ]
    },
    {
      "cell_type": "markdown",
      "metadata": {
        "id": "8jekN1XJ01c6"
      },
      "source": [
        "Обучите модель для определения жанра фильма по его краткому описанию"
      ]
    },
    {
      "cell_type": "code",
      "metadata": {
        "id": "cMnq-IQdUYef"
      },
      "source": [
        "%tensorflow_version 2.x"
      ],
      "execution_count": null,
      "outputs": []
    },
    {
      "cell_type": "code",
      "metadata": {
        "id": "RPPLHfVBOO-s"
      },
      "source": [
        "import nltk\r\n",
        "import string\r\n",
        "from itertools import chain"
      ],
      "execution_count": null,
      "outputs": []
    },
    {
      "cell_type": "code",
      "metadata": {
        "id": "2ew7HTbPpCJH",
        "colab": {
          "base_uri": "https://localhost:8080/"
        },
        "outputId": "12fd33bf-3b22-4ae1-dab8-ba36e23303f4"
      },
      "source": [
        "import numpy as np\n",
        "from sklearn.model_selection import train_test_split\n",
        "import tensorflow as tf\n",
        "print(tf.__version__)\n",
        "import pandas as pd\n",
        "import matplotlib.pyplot as plt\n",
        "%matplotlib inline"
      ],
      "execution_count": null,
      "outputs": [
        {
          "output_type": "stream",
          "text": [
            "2.4.1\n"
          ],
          "name": "stdout"
        }
      ]
    },
    {
      "cell_type": "markdown",
      "metadata": {
        "id": "oH_vOZKxUUp_"
      },
      "source": [
        "### Загрузка данных испытания и тесты\n"
      ]
    },
    {
      "cell_type": "code",
      "metadata": {
        "id": "ioh71aje9pB6",
        "colab": {
          "base_uri": "https://localhost:8080/"
        },
        "outputId": "22cc41d6-ae2a-4016-9397-0f9a3befc385"
      },
      "source": [
        "df_train=pd.read_table('/content/train_data.txt',sep=' ::: ',names=['ID','TITLE','GENRE','DESCRIPTION'])"
      ],
      "execution_count": null,
      "outputs": [
        {
          "output_type": "stream",
          "text": [
            "/usr/local/lib/python3.6/dist-packages/pandas/io/parsers.py:767: ParserWarning: Falling back to the 'python' engine because the 'c' engine does not support regex separators (separators > 1 char and different from '\\s+' are interpreted as regex); you can avoid this warning by specifying engine='python'.\n",
            "  return read_csv(**locals())\n"
          ],
          "name": "stderr"
        }
      ]
    },
    {
      "cell_type": "code",
      "metadata": {
        "id": "qTX0DB83dOYl",
        "colab": {
          "base_uri": "https://localhost:8080/"
        },
        "outputId": "58cc0912-40c0-47d7-c22d-72e3c97a6993"
      },
      "source": [
        "#df_test=pd.read_table('/content/test_data.txt',sep=' ::: ',names=['ID','TITLE','DESCRIPTION'])"
      ],
      "execution_count": null,
      "outputs": [
        {
          "output_type": "stream",
          "text": [
            "/usr/local/lib/python3.6/dist-packages/pandas/io/parsers.py:767: ParserWarning: Falling back to the 'python' engine because the 'c' engine does not support regex separators (separators > 1 char and different from '\\s+' are interpreted as regex); you can avoid this warning by specifying engine='python'.\n",
            "  return read_csv(**locals())\n"
          ],
          "name": "stderr"
        }
      ]
    },
    {
      "cell_type": "markdown",
      "metadata": {
        "id": "FRK-fdb-B8UX"
      },
      "source": [
        "Во время загрузки датасета можно указать, какое подмножество словаря мы хотим использовать, указав `num_words=VOCAB_SIZE`, тогда останутся только самые частые слова.\r\n",
        "\r\n",
        "В датасете последовательности (предложения) уже представлены индексами слов."
      ]
    },
    {
      "cell_type": "code",
      "metadata": {
        "id": "-ix_1DplOM_p"
      },
      "source": [
        "# стоп-слова\r\n",
        "stop_words = [\r\n",
        "    'i', 'me', 'my', 'myself', 'we', 'our', 'ours', 'ourselves', 'you', \"you're\", \"you've\", \"you'll\", \"you'd\",\r\n",
        "    'your', 'yours', 'yourself', 'yourselves', 'he', 'him', 'his', 'himself', 'she', \"she's\", 'her', 'hers',\r\n",
        "    'herself', 'it', \"it's\", 'its', 'itself', 'they', 'them', 'their', 'theirs', 'themselves', 'what', 'which',\r\n",
        "    'who', 'whom', 'this', 'that', \"that'll\", 'these', 'those', 'am', 'is', 'are', 'was', 'were', 'be', 'been',\r\n",
        "    'being', 'have', 'has', 'had', 'having', 'do', 'does', 'did', 'doing', 'a', 'an', 'the', 'and', 'but', 'if',\r\n",
        "    'or', 'because', 'as', 'until', 'while', 'of', 'at', 'by', 'for', 'with', 'about', 'against', 'between',\r\n",
        "    'into', 'through', 'during', 'before', 'after', 'above', 'below', 'to', 'from', 'up', 'down', 'in', 'out',\r\n",
        "    'on', 'off', 'over', 'under', 'again', 'further', 'then', 'once', 'here', 'there', 'when', 'where', 'why',\r\n",
        "    'how', 'all', 'any', 'both', 'each', 'few', 'more', 'most', 'other', 'some', 'such', 'no', 'nor', 'not',\r\n",
        "    'only', 'own', 'same', 'so', 'than', 'too', 'very', 's', 't', 'can', 'will', 'just', 'don', \"don't\", 'shold',\r\n",
        "    \"should've\", 'now', 'd', 'll', 'm', 'o', 're', 've', 'y', 'ain', 'aren', \"aren't\", 'couldn', \"couldn't\",\r\n",
        "    'didn', \"didn't\", 'doesn', \"doesn't\", 'hadn', \"hadn't\", 'hasn', \"hasn't\", 'haven', \"haven't\", 'isn', \"isn't\",\r\n",
        "    'ma', 'mightn', \"mightn't\", 'mustn', \"mustn't\", 'needn', \"needn't\", 'shan', \"shan't\", 'shouldn', \"shouldn't\",\r\n",
        "    'wasn', \"wasn't\", 'weren', \"weren't\", 'won', \"won't\", 'wouldn', \"wouldn't\"]"
      ],
      "execution_count": null,
      "outputs": []
    },
    {
      "cell_type": "code",
      "metadata": {
        "id": "ERXtdlTCOSVf",
        "colab": {
          "base_uri": "https://localhost:8080/"
        },
        "outputId": "046d0d61-a8ad-4fa2-f86e-27c7f9b4381b"
      },
      "source": [
        "# дополнительный словарь со знаками пунктуации\r\n",
        "nltk.download('punkt', download_dir='.')"
      ],
      "execution_count": null,
      "outputs": [
        {
          "output_type": "stream",
          "text": [
            "[nltk_data] Downloading package punkt to ....\n",
            "[nltk_data]   Unzipping tokenizers/punkt.zip.\n"
          ],
          "name": "stdout"
        },
        {
          "output_type": "execute_result",
          "data": {
            "text/plain": [
              "True"
            ]
          },
          "metadata": {
            "tags": []
          },
          "execution_count": 5
        }
      ]
    },
    {
      "cell_type": "code",
      "metadata": {
        "id": "YREDKEjZN_Xm"
      },
      "source": [
        "def tokenize_text(raw_text: str):\r\n",
        "    \"\"\"Функция для токенизации текста    \r\n",
        "    :param raw_text: исходная текстовая строка\r\n",
        "    \"\"\"\r\n",
        "    tokenized_str = nltk.word_tokenize(raw_text)\r\n",
        "    tokens = [i.lower() for i in tokenized_str if ( i not in string.punctuation )]\r\n",
        "    filtered_tokens = [i for i in tokens if ( i not in stop_words )]\r\n",
        "    return filtered_tokens"
      ],
      "execution_count": null,
      "outputs": []
    },
    {
      "cell_type": "markdown",
      "metadata": {
        "id": "W1BJah2l4TuV"
      },
      "source": [
        "Получение собственного словаря"
      ]
    },
    {
      "cell_type": "code",
      "metadata": {
        "id": "PKwhWfqsUUTS"
      },
      "source": [
        "lite_list=['adult',  'crime',\r\n",
        "       'reality-tv', 'sport', 'animation', 'action', 'fantasy',\r\n",
        "        'sci-fi', 'music', 'adventure', 'talk-show', 'western',\r\n",
        "       'family', 'mystery', 'history', 'news', 'biography', 'romance',\r\n",
        "       'game-show', 'musical', 'war']\r\n",
        "df_train_lite=df_train[df_train['GENRE'].isin(lite_list)][['GENRE','DESCRIPTION']]\r\n"
      ],
      "execution_count": null,
      "outputs": []
    },
    {
      "cell_type": "code",
      "metadata": {
        "id": "WE1IMTZarE4o"
      },
      "source": [
        "tokens=df_train['DESCRIPTION'].apply(tokenize_text).sum()"
      ],
      "execution_count": null,
      "outputs": []
    },
    {
      "cell_type": "code",
      "metadata": {
        "id": "lmDcioW01rvC"
      },
      "source": [
        "tokens=df_train_lite['DESCRIPTION'].apply(tokenize_text).sum()"
      ],
      "execution_count": null,
      "outputs": []
    },
    {
      "cell_type": "code",
      "metadata": {
        "id": "8AtzNob0N3W_"
      },
      "source": [
        "unique, counts = np.unique(tokens, return_counts=True)\r\n",
        "\r\n",
        "token_count=np.asarray((unique, counts)).T\r\n",
        "#print(token_count)"
      ],
      "execution_count": null,
      "outputs": []
    },
    {
      "cell_type": "code",
      "metadata": {
        "id": "Ah_7JuHkOlFo",
        "colab": {
          "base_uri": "https://localhost:8080/",
          "height": 411
        },
        "outputId": "e250aa50-6f5b-4a66-e2eb-b20899b39edf"
      },
      "source": [
        "df_tokens=pd.DataFrame(data=token_count,\r\n",
        "          index=np.array(range(len(token_count))),\r\n",
        "          columns=['token','count'])\r\n",
        "df_tokens['count_int']=df_tokens['count'].astype(int)\r\n",
        "#df_tokens.head()\r\n",
        "df_tokens.sort_values('count_int',ascending=False)"
      ],
      "execution_count": null,
      "outputs": [
        {
          "output_type": "execute_result",
          "data": {
            "text/html": [
              "<div>\n",
              "<style scoped>\n",
              "    .dataframe tbody tr th:only-of-type {\n",
              "        vertical-align: middle;\n",
              "    }\n",
              "\n",
              "    .dataframe tbody tr th {\n",
              "        vertical-align: top;\n",
              "    }\n",
              "\n",
              "    .dataframe thead th {\n",
              "        text-align: right;\n",
              "    }\n",
              "</style>\n",
              "<table border=\"1\" class=\"dataframe\">\n",
              "  <thead>\n",
              "    <tr style=\"text-align: right;\">\n",
              "      <th></th>\n",
              "      <th>token</th>\n",
              "      <th>count</th>\n",
              "      <th>count_int</th>\n",
              "    </tr>\n",
              "  </thead>\n",
              "  <tbody>\n",
              "    <tr>\n",
              "      <th>818</th>\n",
              "      <td>'s</td>\n",
              "      <td>10852</td>\n",
              "      <td>10852</td>\n",
              "    </tr>\n",
              "    <tr>\n",
              "      <th>0</th>\n",
              "      <td>''</td>\n",
              "      <td>4686</td>\n",
              "      <td>4686</td>\n",
              "    </tr>\n",
              "    <tr>\n",
              "      <th>2526</th>\n",
              "      <td>``</td>\n",
              "      <td>4654</td>\n",
              "      <td>4654</td>\n",
              "    </tr>\n",
              "    <tr>\n",
              "      <th>37172</th>\n",
              "      <td>one</td>\n",
              "      <td>3363</td>\n",
              "      <td>3363</td>\n",
              "    </tr>\n",
              "    <tr>\n",
              "      <th>35917</th>\n",
              "      <td>new</td>\n",
              "      <td>2408</td>\n",
              "      <td>2408</td>\n",
              "    </tr>\n",
              "    <tr>\n",
              "      <th>...</th>\n",
              "      <td>...</td>\n",
              "      <td>...</td>\n",
              "      <td>...</td>\n",
              "    </tr>\n",
              "    <tr>\n",
              "      <th>25904</th>\n",
              "      <td>immigrating</td>\n",
              "      <td>1</td>\n",
              "      <td>1</td>\n",
              "    </tr>\n",
              "    <tr>\n",
              "      <th>25908</th>\n",
              "      <td>immodest</td>\n",
              "      <td>1</td>\n",
              "      <td>1</td>\n",
              "    </tr>\n",
              "    <tr>\n",
              "      <th>25909</th>\n",
              "      <td>immontrables</td>\n",
              "      <td>1</td>\n",
              "      <td>1</td>\n",
              "    </tr>\n",
              "    <tr>\n",
              "      <th>25914</th>\n",
              "      <td>immovable</td>\n",
              "      <td>1</td>\n",
              "      <td>1</td>\n",
              "    </tr>\n",
              "    <tr>\n",
              "      <th>57948</th>\n",
              "      <td>˝</td>\n",
              "      <td>1</td>\n",
              "      <td>1</td>\n",
              "    </tr>\n",
              "  </tbody>\n",
              "</table>\n",
              "<p>57949 rows × 3 columns</p>\n",
              "</div>"
            ],
            "text/plain": [
              "              token  count  count_int\n",
              "818              's  10852      10852\n",
              "0                ''   4686       4686\n",
              "2526             ``   4654       4654\n",
              "37172           one   3363       3363\n",
              "35917           new   2408       2408\n",
              "...             ...    ...        ...\n",
              "25904   immigrating      1          1\n",
              "25908      immodest      1          1\n",
              "25909  immontrables      1          1\n",
              "25914     immovable      1          1\n",
              "57948             ˝      1          1\n",
              "\n",
              "[57949 rows x 3 columns]"
            ]
          },
          "metadata": {
            "tags": []
          },
          "execution_count": 11
        }
      ]
    },
    {
      "cell_type": "code",
      "metadata": {
        "id": "bEqEKm2CYURY",
        "colab": {
          "base_uri": "https://localhost:8080/"
        },
        "outputId": "5837e90b-6361-4f5f-b62c-c99b4881ecce"
      },
      "source": [
        "tokens_lite=df_tokens[df_tokens['count_int']>35]\r\n",
        "tokens_lite.info()"
      ],
      "execution_count": null,
      "outputs": [
        {
          "output_type": "stream",
          "text": [
            "<class 'pandas.core.frame.DataFrame'>\n",
            "Int64Index: 3164 entries, 0 to 57808\n",
            "Data columns (total 3 columns):\n",
            " #   Column     Non-Null Count  Dtype \n",
            "---  ------     --------------  ----- \n",
            " 0   token      3164 non-null   object\n",
            " 1   count      3164 non-null   object\n",
            " 2   count_int  3164 non-null   int64 \n",
            "dtypes: int64(1), object(2)\n",
            "memory usage: 98.9+ KB\n"
          ],
          "name": "stdout"
        }
      ]
    },
    {
      "cell_type": "code",
      "metadata": {
        "id": "wnBXwlokuLYg"
      },
      "source": [
        "from tensorflow.keras.preprocessing.text import Tokenizer\r\n",
        "word= tokens_lite.token.values"
      ],
      "execution_count": null,
      "outputs": []
    },
    {
      "cell_type": "code",
      "metadata": {
        "id": "cyJh8mU7t4UR",
        "colab": {
          "base_uri": "https://localhost:8080/"
        },
        "outputId": "bebfeb70-3364-43f7-85f3-1f75f7986fe4"
      },
      "source": [
        "tokenizer = Tokenizer(num_words = 1)\r\n",
        "tokenizer.fit_on_texts(word)\r\n",
        "word_index = tokenizer.word_index\r\n",
        "print(word_index)"
      ],
      "execution_count": null,
      "outputs": [
        {
          "output_type": "stream",
          "text": [
            "{'10': 1, 'award': 2, 'winning': 3, 'dr': 4, 'half': 5, 'hour': 6, 'known': 7, 'mr': 8, 'u': 9, 's': 10, 'vs': 11, 'well': 12, \"''\": 13, \"'d\": 14, \"'ll\": 15, \"'re\": 16, \"'s\": 17, \"'the\": 18, \"'ve\": 19, '1': 20, '000': 21, '100': 22, '11': 23, '12': 24, '13': 25, '14': 26, '15': 27, '16': 28, '17': 29, '18': 30, '2': 31, '20': 32, '200': 33, '2000': 34, '2004': 35, '2005': 36, '2006': 37, '2007': 38, '2008': 39, '2009': 40, '2010': 41, '2011': 42, '2012': 43, '2013': 44, '2014': 45, '2015': 46, '2016': 47, '20th': 48, '22': 49, '24': 50, '25': 51, '26': 52, '3': 53, '30': 54, '3d': 55, '4': 56, '40': 57, '5': 58, '50': 59, '500': 60, '6': 61, '60': 62, '7': 63, '8': 64, '9': 65, '90': 66, 'abandoned': 67, 'abc': 68, 'abducted': 69, 'abilities': 70, 'ability': 71, 'able': 72, 'aboard': 73, 'abuse': 74, 'academy': 75, 'accept': 76, 'accepts': 77, 'access': 78, 'accident': 79, 'accidentally': 80, 'acclaimed': 81, 'accompanied': 82, 'according': 83, 'account': 84, 'accounts': 85, 'accused': 86, 'ace': 87, 'achieve': 88, 'across': 89, 'act': 90, 'acting': 91, 'action': 92, 'actions': 93, 'active': 94, 'activities': 95, 'actor': 96, 'actors': 97, 'actress': 98, 'acts': 99, 'actual': 100, 'actually': 101, 'adam': 102, 'adams': 103, 'add': 104, 'added': 105, 'addition': 106, 'adopted': 107, 'adult': 108, 'adults': 109, 'advanced': 110, 'advantage': 111, 'adventure': 112, 'adventures': 113, 'advice': 114, 'affair': 115, 'afraid': 116, 'africa': 117, 'african': 118, 'age': 119, 'agency': 120, 'agent': 121, 'agents': 122, 'ages': 123, 'ago': 124, 'agrees': 125, 'ahead': 126, 'aid': 127, 'aided': 128, 'air': 129, 'aired': 130, 'ajay': 131, 'aka': 132, 'al': 133, 'alan': 134, 'alaska': 135, 'album': 136, 'alex': 137, 'alexander': 138, 'ali': 139, 'alice': 140, 'alien': 141, 'aliens': 142, 'alive': 143, 'allen': 144, 'alliance': 145, 'allies': 146, 'allow': 147, 'allowed': 148, 'allows': 149, 'almost': 150, 'alone': 151, 'along': 152, 'alongside': 153, 'already': 154, 'also': 155, 'although': 156, 'always': 157, 'amateur': 158, 'amazing': 159, 'ambitious': 160, 'ambush': 161, 'america': 162, 'american': 163, 'americans': 164, 'among': 165, 'amongst': 166, 'amount': 167, 'amy': 168, 'ancient': 169, 'andrew': 170, 'andy': 171, 'angel': 172, 'angeles': 173, 'anger': 174, 'angry': 175, 'animal': 176, 'animals': 177, 'animated': 178, 'animation': 179, 'ann': 180, 'anna': 181, 'anne': 182, 'anniversary': 183, 'annual': 184, 'another': 185, 'answer': 186, 'answers': 187, 'anthony': 188, 'anyone': 189, 'anything': 190, 'apart': 191, 'apartment': 192, 'apparently': 193, 'appear': 194, 'appearance': 195, 'appearances': 196, 'appears': 197, 'approach': 198, 'april': 199, 'area': 200, 'areas': 201, 'arena': 202, 'arizona': 203, 'arjun': 204, 'arm': 205, 'armed': 206, 'arms': 207, 'army': 208, 'around': 209, 'arrest': 210, 'arrested': 211, 'arrests': 212, 'arrival': 213, 'arrive': 214, 'arrived': 215, 'arrives': 216, 'arriving': 217, 'art': 218, 'arthur': 219, 'artist': 220, 'artists': 221, 'arts': 222, 'asian': 223, 'ask': 224, 'asked': 225, 'asking': 226, 'asks': 227, 'aspects': 228, 'aspiring': 229, 'assassin': 230, 'assassins': 231, 'assigned': 232, 'assignment': 233, 'assistance': 234, 'assistant': 235, 'association': 236, 'athletes': 237, 'attack': 238, 'attacked': 239, 'attacks': 240, 'attempt': 241, 'attempting': 242, 'attempts': 243, 'attention': 244, 'attitude': 245, 'attorney': 246, 'attracted': 247, 'attractive': 248, 'audience': 249, 'audiences': 250, 'audio': 251, 'august': 252, 'aunt': 253, 'austin': 254, 'australia': 255, 'australian': 256, 'author': 257, 'authorities': 258, 'available': 259, 'avenge': 260, 'average': 261, 'avoid': 262, 'awarded': 263, 'awards': 264, 'aware': 265, 'away': 266, 'b': 267, 'baby': 268, 'back': 269, 'backdrop': 270, 'background': 271, 'bad': 272, 'bag': 273, 'baker': 274, 'balance': 275, 'ball': 276, 'ballet': 277, 'band': 278, 'bandit': 279, 'bandits': 280, 'bands': 281, 'bank': 282, 'banker': 283, 'bar': 284, 'barbara': 285, 'baron': 286, 'barry': 287, 'barton': 288, 'base': 289, 'baseball': 290, 'based': 291, 'basic': 292, 'battle': 293, 'battles': 294, 'battling': 295, 'bbc': 296, 'beach': 297, 'bear': 298, 'beast': 299, 'beat': 300, 'beaten': 301, 'beautiful': 302, 'beauty': 303, 'became': 304, 'become': 305, 'becomes': 306, 'becoming': 307, 'bed': 308, 'bedroom': 309, 'befriends': 310, 'began': 311, 'begin': 312, 'beginning': 313, 'begins': 314, 'behavior': 315, 'behind': 316, 'beings': 317, 'believe': 318, 'believed': 319, 'believes': 320, 'believing': 321, 'beloved': 322, 'ben': 323, 'berlin': 324, 'best': 325, 'betrayal': 326, 'betrayed': 327, 'better': 328, 'betty': 329, 'beyond': 330, 'big': 331, 'bigger': 332, 'biggest': 333, 'bill': 334, 'billy': 335, 'bird': 336, 'birth': 337, 'birthday': 338, 'bit': 339, 'bizarre': 340, 'black': 341, 'blake': 342, 'blame': 343, 'blind': 344, 'block': 345, 'blonde': 346, 'blood': 347, 'bloody': 348, 'blow': 349, 'blue': 350, 'blues': 351, 'board': 352, 'boat': 353, 'bob': 354, 'bobby': 355, 'bodies': 356, 'body': 357, 'bomb': 358, 'bombay': 359, 'bond': 360, 'bondage': 361, 'bonds': 362, 'bonus': 363, 'book': 364, 'books': 365, 'border': 366, 'born': 367, 'boss': 368, 'boston': 369, 'bottom': 370, 'bound': 371, 'bounty': 372, 'box': 373, 'boxing': 374, 'boy': 375, 'boyfriend': 376, 'boys': 377, 'brad': 378, 'brain': 379, 'brand': 380, 'brave': 381, 'brazil': 382, 'brazilian': 383, 'break': 384, 'breaking': 385, 'breaks': 386, 'brian': 387, 'bride': 388, 'bright': 389, 'brilliant': 390, 'bring': 391, 'bringing': 392, 'brings': 393, 'britain': 394, 'british': 395, 'broadcast': 396, 'broadway': 397, 'broke': 398, 'broken': 399, 'brother': 400, 'brothers': 401, 'brought': 402, 'brown': 403, 'bruce': 404, 'brunette': 405, 'brutal': 406, 'brutally': 407, 'buck': 408, 'bud': 409, 'buddy': 410, 'budget': 411, 'build': 412, 'building': 413, 'built': 414, 'bull': 415, 'bullet': 416, 'bunch': 417, 'burglar': 418, 'buried': 419, 'bus': 420, 'bush': 421, 'business': 422, 'businessman': 423, 'busy': 424, 'buxom': 425, 'buy': 426, 'c': 427, 'ca': 428, 'cabin': 429, 'california': 430, 'call': 431, 'called': 432, 'calling': 433, 'calls': 434, 'came': 435, 'camera': 436, 'cameras': 437, 'cameron': 438, 'camp': 439, 'campaign': 440, 'canada': 441, 'canadian': 442, 'cancer': 443, 'candy': 444, 'capital': 445, 'captain': 446, 'captive': 447, 'capture': 448, 'captured': 449, 'captures': 450, 'capturing': 451, 'car': 452, 'card': 453, 'cards': 454, 'care': 455, 'career': 456, 'carl': 457, 'carlos': 458, 'carol': 459, 'carried': 460, 'carry': 461, 'carrying': 462, 'cars': 463, 'carson': 464, 'carter': 465, 'case': 466, 'cases': 467, 'cash': 468, 'cassidy': 469, 'cast': 470, 'castle': 471, 'cat': 472, 'catch': 473, 'catches': 474, 'cattle': 475, 'caught': 476, 'cause': 477, 'caused': 478, 'causes': 479, 'causing': 480, 'cbs': 481, 'celebrate': 482, 'celebration': 483, 'celebrities': 484, 'celebrity': 485, 'cell': 486, 'center': 487, 'centers': 488, 'central': 489, 'century': 490, 'ceo': 491, 'ceremony': 492, 'certain': 493, 'chain': 494, 'challenge': 495, 'challenged': 496, 'challenges': 497, 'challenging': 498, 'champion': 499, 'champions': 500, 'championship': 501, 'chance': 502, 'change': 503, 'changed': 504, 'changes': 505, 'changing': 506, 'channel': 507, 'chaos': 508, 'chapter': 509, 'character': 510, 'characters': 511, 'charge': 512, 'charged': 513, 'charity': 514, 'charles': 515, 'charlie': 516, 'charming': 517, 'chase': 518, 'chasing': 519, 'check': 520, 'chef': 521, 'chefs': 522, 'cheyenne': 523, 'chicago': 524, 'chief': 525, 'child': 526, 'childhood': 527, 'children': 528, 'china': 529, 'chinese': 530, 'choice': 531, 'choices': 532, 'choose': 533, 'chose': 534, 'chosen': 535, 'chris': 536, 'christ': 537, 'christian': 538, 'christmas': 539, 'chronicles': 540, 'chuck': 541, 'church': 542, 'cia': 543, 'cinema': 544, 'circle': 545, 'circumstances': 546, 'circus': 547, 'cities': 548, 'citizens': 549, 'city': 550, 'civil': 551, 'civilization': 552, 'claim': 553, 'claims': 554, 'claire': 555, 'clark': 556, 'clash': 557, 'class': 558, 'classic': 559, 'classical': 560, 'clean': 561, 'clear': 562, 'client': 563, 'clients': 564, 'cliff': 565, 'clint': 566, 'clips': 567, 'clock': 568, 'close': 569, 'closer': 570, 'clothes': 571, 'clothing': 572, 'club': 573, 'clue': 574, 'clues': 575, 'coach': 576, 'coast': 577, 'code': 578, 'cody': 579, 'cold': 580, 'cole': 581, 'colleague': 582, 'collect': 583, 'collection': 584, 'college': 585, 'collins': 586, 'colonel': 587, 'color': 588, 'colorado': 589, 'colorful': 590, 'columbia': 591, 'combat': 592, 'combination': 593, 'combined': 594, 'combines': 595, 'come': 596, 'comedy': 597, 'comes': 598, 'comic': 599, 'coming': 600, 'command': 601, 'commander': 602, 'commentary': 603, 'commercial': 604, 'commit': 605, 'committed': 606, 'common': 607, 'communities': 608, 'community': 609, 'companies': 610, 'companion': 611, 'company': 612, 'compelling': 613, 'compete': 614, 'competing': 615, 'competition': 616, 'complete': 617, 'completely': 618, 'complex': 619, 'complicated': 620, 'composed': 621, 'composer': 622, 'computer': 623, 'concept': 624, 'concert': 625, 'conclusion': 626, 'condition': 627, 'conditions': 628, 'confederate': 629, 'confesses': 630, 'conflict': 631, 'conflicts': 632, 'confront': 633, 'confronts': 634, 'connected': 635, 'connection': 636, 'consequences': 637, 'considered': 638, 'consists': 639, 'conspiracy': 640, 'constant': 641, 'constantly': 642, 'construction': 643, 'contact': 644, 'contains': 645, 'contemporary': 646, 'content': 647, 'contest': 648, 'contestant': 649, 'contestants': 650, 'continue': 651, 'continues': 652, 'contract': 653, 'control': 654, 'controlled': 655, 'controversial': 656, 'conversation': 657, 'convicted': 658, 'convince': 659, 'convinced': 660, 'convinces': 661, 'cook': 662, 'cooking': 663, 'cool': 664, 'cooper': 665, 'cop': 666, 'cops': 667, 'core': 668, 'corner': 669, 'corporate': 670, 'corporation': 671, 'correct': 672, 'corrupt': 673, 'corruption': 674, 'cost': 675, 'costumes': 676, 'could': 677, 'count': 678, 'countries': 679, 'country': 680, 'county': 681, 'couple': 682, 'couples': 683, 'courage': 684, 'course': 685, 'court': 686, 'cousin': 687, 'cover': 688, 'coverage': 689, 'covered': 690, 'cowboy': 691, 'cowboys': 692, 'craig': 693, 'crash': 694, 'crashes': 695, 'crazy': 696, 'create': 697, 'created': 698, 'creates': 699, 'creating': 700, 'creation': 701, 'creative': 702, 'creature': 703, 'creatures': 704, 'crew': 705, 'crime': 706, 'crimes': 707, 'criminal': 708, 'criminals': 709, 'crisis': 710, 'crook': 711, 'crooked': 712, 'crooks': 713, 'cross': 714, 'crowd': 715, 'crown': 716, 'cruel': 717, 'crystal': 718, 'cult': 719, 'cultural': 720, 'culture': 721, 'cultures': 722, 'cup': 723, 'cure': 724, 'current': 725, 'currently': 726, 'curse': 727, 'customers': 728, 'cut': 729, 'cutting': 730, 'da': 731, 'dad': 732, 'daily': 733, 'dallas': 734, 'dan': 735, 'dance': 736, 'dancer': 737, 'dancers': 738, 'dancing': 739, 'danger': 740, 'dangerous': 741, 'daniel': 742, 'danny': 743, 'daring': 744, 'dark': 745, 'darkness': 746, 'date': 747, 'dating': 748, 'daughter': 749, 'daughters': 750, 'dave': 751, 'david': 752, 'davis': 753, 'dawn': 754, 'dawson': 755, 'day': 756, 'days': 757, 'de': 758, 'dead': 759, 'deadly': 760, 'deal': 761, 'dealer': 762, 'dealing': 763, 'deals': 764, 'dean': 765, 'death': 766, 'deaths': 767, 'debt': 768, 'debut': 769, 'decades': 770, 'december': 771, 'decide': 772, 'decided': 773, 'decides': 774, 'decision': 775, 'decisions': 776, 'dedicated': 777, 'deep': 778, 'deeper': 779, 'deeply': 780, 'defeat': 781, 'defeated': 782, 'defend': 783, 'defense': 784, 'deliver': 785, 'delivers': 786, 'demands': 787, 'demon': 788, 'demons': 789, 'department': 790, 'depicts': 791, 'deputy': 792, 'des': 793, 'desert': 794, 'design': 795, 'designed': 796, 'designer': 797, 'desire': 798, 'desires': 799, 'desperate': 800, 'desperately': 801, 'despite': 802, 'destination': 803, 'destinations': 804, 'destiny': 805, 'destroy': 806, 'destroyed': 807, 'destruction': 808, 'detail': 809, 'details': 810, 'detective': 811, 'detectives': 812, 'determine': 813, 'determined': 814, 'detroit': 815, 'develop': 816, 'developed': 817, 'development': 818, 'develops': 819, 'device': 820, 'devil': 821, 'devoted': 822, 'di': 823, 'diamond': 824, 'dick': 825, 'die': 826, 'died': 827, 'diego': 828, 'dies': 829, 'difference': 830, 'differences': 831, 'different': 832, 'difficult': 833, 'digital': 834, 'dimension': 835, 'dinner': 836, 'directed': 837, 'direction': 838, 'director': 839, 'directors': 840, 'dirty': 841, 'disappearance': 842, 'disappeared': 843, 'disappears': 844, 'disaster': 845, 'discover': 846, 'discovered': 847, 'discovering': 848, 'discovers': 849, 'discovery': 850, 'discuss': 851, 'disease': 852, 'distant': 853, 'district': 854, 'diverse': 855, 'division': 856, 'divorce': 857, 'dj': 858, 'doc': 859, 'doctor': 860, 'documentary': 861, 'dog': 862, 'dogs': 863, 'dollar': 864, 'dollars': 865, 'done': 866, 'door': 867, 'double': 868, 'dragon': 869, 'drama': 870, 'dramatic': 871, 'draw': 872, 'drawn': 873, 'dream': 874, 'dreams': 875, 'dress': 876, 'dressed': 877, 'drinking': 878, 'drive': 879, 'driven': 880, 'driver': 881, 'drives': 882, 'driving': 883, 'drop': 884, 'drug': 885, 'drugs': 886, 'drunk': 887, 'du': 888, 'dude': 889, 'due': 890, 'duke': 891, 'duo': 892, 'durango': 893, 'dutch': 894, 'duty': 895, 'dvd': 896, 'dying': 897, 'dynamic': 898, 'e': 899, 'eager': 900, 'earlier': 901, 'early': 902, 'earn': 903, 'earned': 904, 'earth': 905, 'easily': 906, 'east': 907, 'eastern': 908, 'easy': 909, 'eat': 910, 'eating': 911, 'eccentric': 912, 'economic': 913, 'ed': 914, 'eddie': 915, 'edge': 916, 'edition': 917, 'editor': 918, 'education': 919, 'educational': 920, 'edward': 921, 'effects': 922, 'effort': 923, 'efforts': 924, 'eight': 925, 'either': 926, 'el': 927, 'elder': 928, 'elements': 929, 'eliminate': 930, 'eliminated': 931, 'elite': 932, 'elizabeth': 933, 'else': 934, 'embark': 935, 'embarks': 936, 'emily': 937, 'emma': 938, 'emotional': 939, 'emotions': 940, 'emperor': 941, 'empire': 942, 'empty': 943, 'en': 944, 'encounter': 945, 'encounters': 946, 'end': 947, 'ended': 948, 'ending': 949, 'ends': 950, 'enemies': 951, 'enemy': 952, 'energy': 953, 'engage': 954, 'engaged': 955, 'engaging': 956, 'engineer': 957, 'england': 958, 'english': 959, 'enjoy': 960, 'enlists': 961, 'enough': 962, 'ensues': 963, 'ensure': 964, 'enter': 965, 'enters': 966, 'entertaining': 967, 'entertainment': 968, 'entire': 969, 'entirely': 970, 'environment': 971, 'epic': 972, 'episode': 973, 'episodes': 974, 'equipment': 975, 'era': 976, 'eric': 977, 'erotic': 978, 'escape': 979, 'escaped': 980, 'escapes': 981, 'escaping': 982, 'especially': 983, 'established': 984, 'estate': 985, 'estranged': 986, 'et': 987, 'etc': 988, 'europe': 989, 'european': 990, 'eve': 991, 'even': 992, 'evening': 993, 'event': 994, 'events': 995, 'eventually': 996, 'ever': 997, 'every': 998, 'everybody': 999, 'everyday': 1000, 'everyone': 1001, 'everything': 1002, 'evidence': 1003, 'evil': 1004, 'ex': 1005, 'exact': 1006, 'exactly': 1007, 'except': 1008, 'exchange': 1009, 'excitement': 1010, 'exciting': 1011, 'exclusive': 1012, 'executive': 1013, 'exist': 1014, 'existence': 1015, 'exotic': 1016, 'expect': 1017, 'expected': 1018, 'expedition': 1019, 'expensive': 1020, 'experience': 1021, 'experienced': 1022, 'experiences': 1023, 'experiment': 1024, 'experiments': 1025, 'expert': 1026, 'experts': 1027, 'explain': 1028, 'explains': 1029, 'exploration': 1030, 'explore': 1031, 'explores': 1032, 'exploring': 1033, 'explosive': 1034, 'expose': 1035, 'exposed': 1036, 'express': 1037, 'extra': 1038, 'extraordinary': 1039, 'extreme': 1040, 'extremely': 1041, 'eye': 1042, 'eyes': 1043, 'face': 1044, 'faced': 1045, 'faces': 1046, 'facility': 1047, 'facing': 1048, 'fact': 1049, 'factory': 1050, 'facts': 1051, 'failed': 1052, 'fails': 1053, 'fair': 1054, 'fairy': 1055, 'faith': 1056, 'fake': 1057, 'fall': 1058, 'fallen': 1059, 'falling': 1060, 'falls': 1061, 'fame': 1062, 'famed': 1063, 'families': 1064, 'family': 1065, 'famous': 1066, 'fan': 1067, 'fans': 1068, 'fantasies': 1069, 'fantastic': 1070, 'fantasy': 1071, 'far': 1072, 'farm': 1073, 'farmer': 1074, 'fascinating': 1075, 'fashion': 1076, 'fast': 1077, 'fate': 1078, 'father': 1079, 'favorite': 1080, 'fbi': 1081, 'fear': 1082, 'feared': 1083, 'fears': 1084, 'feature': 1085, 'featured': 1086, 'features': 1087, 'featuring': 1088, 'february': 1089, 'federal': 1090, 'feel': 1091, 'feeling': 1092, 'feelings': 1093, 'feels': 1094, 'feet': 1095, 'fell': 1096, 'fellow': 1097, 'female': 1098, 'festival': 1099, 'feud': 1100, 'fiancée': 1101, 'fiction': 1102, 'field': 1103, 'fields': 1104, 'fight': 1105, 'fighter': 1106, 'fighters': 1107, 'fighting': 1108, 'fights': 1109, 'figure': 1110, 'figures': 1111, 'filled': 1112, 'film': 1113, 'filmed': 1114, 'filmmaker': 1115, 'films': 1116, 'final': 1117, 'finally': 1118, 'financial': 1119, 'find': 1120, 'finding': 1121, 'finds': 1122, 'fine': 1123, 'finish': 1124, 'finished': 1125, 'fire': 1126, 'fired': 1127, 'firm': 1128, 'first': 1129, 'fish': 1130, 'fishing': 1131, 'fit': 1132, 'fitness': 1133, 'five': 1134, 'fix': 1135, 'flash': 1136, 'flee': 1137, 'flees': 1138, 'flight': 1139, 'floor': 1140, 'florida': 1141, 'fly': 1142, 'flying': 1143, 'focus': 1144, 'focused': 1145, 'focuses': 1146, 'folk': 1147, 'follow': 1148, 'followed': 1149, 'following': 1150, 'follows': 1151, 'food': 1152, 'foot': 1153, 'footage': 1154, 'football': 1155, 'forbidden': 1156, 'force': 1157, 'forced': 1158, 'forces': 1159, 'forcing': 1160, 'ford': 1161, 'foreign': 1162, 'foreman': 1163, 'forest': 1164, 'forever': 1165, 'forget': 1166, 'forgotten': 1167, 'form': 1168, 'format': 1169, 'formed': 1170, 'former': 1171, 'forms': 1172, 'formula': 1173, 'fort': 1174, 'fortune': 1175, 'forward': 1176, 'foster': 1177, 'fought': 1178, 'found': 1179, 'founded': 1180, 'founder': 1181, 'four': 1182, 'fourth': 1183, 'fox': 1184, 'frame': 1185, 'framed': 1186, 'france': 1187, 'francisco': 1188, 'frank': 1189, 'fred': 1190, 'free': 1191, 'freedom': 1192, 'french': 1193, 'fresh': 1194, 'friday': 1195, 'friend': 1196, 'friendly': 1197, 'friends': 1198, 'friendship': 1199, 'front': 1200, 'frontier': 1201, 'full': 1202, 'fully': 1203, 'fun': 1204, 'fund': 1205, 'funny': 1206, 'future': 1207, 'gagged': 1208, 'gags': 1209, 'gain': 1210, 'galaxy': 1211, 'gambler': 1212, 'gambling': 1213, 'game': 1214, 'games': 1215, 'gang': 1216, 'gangs': 1217, 'gangster': 1218, 'gangsters': 1219, 'garage': 1220, 'garden': 1221, 'gary': 1222, 'gather': 1223, 'gave': 1224, 'gay': 1225, 'gene': 1226, 'general': 1227, 'generation': 1228, 'generations': 1229, 'genius': 1230, 'genre': 1231, 'george': 1232, 'georgia': 1233, 'german': 1234, 'germany': 1235, 'get': 1236, 'gets': 1237, 'getting': 1238, 'ghost': 1239, 'ghosts': 1240, 'giant': 1241, 'gift': 1242, 'girl': 1243, 'girlfriend': 1244, 'girls': 1245, 'give': 1246, 'given': 1247, 'gives': 1248, 'giving': 1249, 'glamorous': 1250, 'glimpse': 1251, 'global': 1252, 'globe': 1253, 'glory': 1254, 'go': 1255, 'goal': 1256, 'goals': 1257, 'god': 1258, 'gods': 1259, 'goes': 1260, 'going': 1261, 'gold': 1262, 'golden': 1263, 'gone': 1264, 'good': 1265, 'gordon': 1266, 'gorgeous': 1267, 'got': 1268, 'government': 1269, 'governor': 1270, 'grace': 1271, 'gradually': 1272, 'grammy': 1273, 'grand': 1274, 'grandfather': 1275, 'grandmother': 1276, 'grant': 1277, 'grave': 1278, 'great': 1279, 'greater': 1280, 'greatest': 1281, 'greed': 1282, 'greek': 1283, 'green': 1284, 'greg': 1285, 'grew': 1286, 'ground': 1287, 'group': 1288, 'groups': 1289, 'grow': 1290, 'growing': 1291, 'grown': 1292, 'grows': 1293, 'guard': 1294, 'guardian': 1295, 'guess': 1296, 'guest': 1297, 'guests': 1298, 'guide': 1299, 'guilty': 1300, 'guitar': 1301, 'gun': 1302, 'guns': 1303, 'guru': 1304, 'guy': 1305, 'guys': 1306, 'hair': 1307, 'hall': 1308, 'hand': 1309, 'handle': 1310, 'hands': 1311, 'handsome': 1312, 'hang': 1313, 'hanging': 1314, 'hank': 1315, 'happen': 1316, 'happened': 1317, 'happening': 1318, 'happens': 1319, 'happiness': 1320, 'happy': 1321, 'hard': 1322, 'hardcore': 1323, 'harmony': 1324, 'harry': 1325, 'hart': 1326, 'haunted': 1327, 'havoc': 1328, 'hawk': 1329, 'head': 1330, 'headed': 1331, 'heading': 1332, 'heads': 1333, 'health': 1334, 'healthy': 1335, 'hear': 1336, 'heard': 1337, 'hearing': 1338, 'hears': 1339, 'heart': 1340, 'hearts': 1341, 'heat': 1342, 'heaven': 1343, 'heavily': 1344, 'heavy': 1345, 'heavyweight': 1346, 'heir': 1347, 'held': 1348, 'helen': 1349, 'hell': 1350, 'help': 1351, 'helped': 1352, 'helping': 1353, 'helpless': 1354, 'helps': 1355, 'henchman': 1356, 'henchmen': 1357, 'henry': 1358, 'herd': 1359, 'heritage': 1360, 'hero': 1361, 'heroes': 1362, 'heroic': 1363, 'heroine': 1364, 'hidden': 1365, 'hide': 1366, 'hideout': 1367, 'hides': 1368, 'hiding': 1369, 'high': 1370, 'higher': 1371, 'highest': 1372, 'highlights': 1373, 'highly': 1374, 'hilarious': 1375, 'hill': 1376, 'hills': 1377, 'hip': 1378, 'hire': 1379, 'hired': 1380, 'hires': 1381, 'historic': 1382, 'historical': 1383, 'history': 1384, 'hit': 1385, 'hits': 1386, 'hold': 1387, 'holding': 1388, 'holds': 1389, 'hole': 1390, 'holiday': 1391, 'hollywood': 1392, 'holmes': 1393, 'home': 1394, 'homes': 1395, 'hometown': 1396, 'honest': 1397, 'hong': 1398, 'honor': 1399, 'hop': 1400, 'hope': 1401, 'hopes': 1402, 'hoping': 1403, 'hoppy': 1404, 'horror': 1405, 'horse': 1406, 'horses': 1407, 'hospital': 1408, 'host': 1409, 'hostage': 1410, 'hosted': 1411, 'hostile': 1412, 'hosts': 1413, 'hot': 1414, 'hotel': 1415, 'hottest': 1416, 'hours': 1417, 'house': 1418, 'household': 1419, 'houses': 1420, 'houston': 1421, 'howard': 1422, 'however': 1423, 'huge': 1424, 'human': 1425, 'humanity': 1426, 'humans': 1427, 'humor': 1428, 'hundred': 1429, 'hundreds': 1430, 'hungry': 1431, 'hunt': 1432, 'hunted': 1433, 'hunter': 1434, 'hunters': 1435, 'hunting': 1436, 'husband': 1437, 'ian': 1438, 'ice': 1439, 'iconic': 1440, 'idea': 1441, 'ideas': 1442, 'identify': 1443, 'identity': 1444, 'idol': 1445, 'ii': 1446, 'iii': 1447, 'ill': 1448, 'illegal': 1449, 'image': 1450, 'images': 1451, 'imagination': 1452, 'immediately': 1453, 'impact': 1454, 'importance': 1455, 'important': 1456, 'impossible': 1457, 'imprisoned': 1458, 'improve': 1459, 'in': 1460, 'depth': 1461, 'incident': 1462, 'include': 1463, 'included': 1464, 'includes': 1465, 'including': 1466, 'increasingly': 1467, 'incredible': 1468, 'independent': 1469, 'india': 1470, 'indian': 1471, 'indians': 1472, 'individual': 1473, 'individuals': 1474, 'industry': 1475, 'infamous': 1476, 'influence': 1477, 'information': 1478, 'inhabitants': 1479, 'initially': 1480, 'injured': 1481, 'inner': 1482, 'innocence': 1483, 'innocent': 1484, 'innovative': 1485, 'inside': 1486, 'inspector': 1487, 'inspiration': 1488, 'inspire': 1489, 'inspired': 1490, 'inspiring': 1491, 'instead': 1492, 'intelligence': 1493, 'intended': 1494, 'intense': 1495, 'intent': 1496, 'interactive': 1497, 'interest': 1498, 'interested': 1499, 'interesting': 1500, 'internal': 1501, 'international': 1502, 'internet': 1503, 'interview': 1504, 'interviewed': 1505, 'interviews': 1506, 'intimate': 1507, 'introduced': 1508, 'introduces': 1509, 'invasion': 1510, 'investigate': 1511, 'investigates': 1512, 'investigating': 1513, 'investigation': 1514, 'investigator': 1515, 'invited': 1516, 'invites': 1517, 'involved': 1518, 'involving': 1519, 'ireland': 1520, 'irish': 1521, 'iron': 1522, 'island': 1523, 'islands': 1524, 'isolated': 1525, 'issues': 1526, 'italian': 1527, 'italy': 1528, 'items': 1529, 'jack': 1530, 'jackson': 1531, 'jail': 1532, 'jake': 1533, 'james': 1534, 'jane': 1535, 'january': 1536, 'japan': 1537, 'japanese': 1538, 'jason': 1539, 'jay': 1540, 'jazz': 1541, 'jealous': 1542, 'jean': 1543, 'jeff': 1544, 'jennifer': 1545, 'jeong': 1546, 'seo': 1547, 'jerry': 1548, 'jesse': 1549, 'jesus': 1550, 'jim': 1551, 'jimmy': 1552, 'joan': 1553, 'job': 1554, 'jobs': 1555, 'joe': 1556, 'john': 1557, 'johnny': 1558, 'johnson': 1559, 'join': 1560, 'joined': 1561, 'joining': 1562, 'joins': 1563, 'joint': 1564, 'jonathan': 1565, 'jones': 1566, 'jordan': 1567, 'joseph': 1568, 'journalist': 1569, 'journey': 1570, 'joy': 1571, 'jr': 1572, 'juan': 1573, 'judge': 1574, 'judges': 1575, 'julia': 1576, 'julie': 1577, 'july': 1578, 'jump': 1579, 'june': 1580, 'jungle': 1581, 'junior': 1582, 'justice': 1583, 'kane': 1584, 'kansas': 1585, 'kate': 1586, 'keep': 1587, 'keeping': 1588, 'keeps': 1589, 'kelly': 1590, 'ken': 1591, 'kept': 1592, 'kevin': 1593, 'key': 1594, 'khan': 1595, 'kick': 1596, 'kid': 1597, 'kidnap': 1598, 'kidnapped': 1599, 'kidnapping': 1600, 'kidnaps': 1601, 'kids': 1602, 'kill': 1603, 'killed': 1604, 'killer': 1605, 'killers': 1606, 'killing': 1607, 'kills': 1608, 'kim': 1609, 'kind': 1610, 'kinds': 1611, 'king': 1612, 'kingdom': 1613, 'kirk': 1614, 'kiss': 1615, 'kitchen': 1616, 'knew': 1617, 'knight': 1618, 'know': 1619, 'knowing': 1620, 'knowledge': 1621, 'knows': 1622, 'kong': 1623, 'korea': 1624, 'korean': 1625, 'kung': 1626, 'la': 1627, 'lack': 1628, 'ladies': 1629, 'lady': 1630, 'lake': 1631, 'land': 1632, 'lands': 1633, 'landscape': 1634, 'lane': 1635, 'language': 1636, 'large': 1637, 'largest': 1638, 'larry': 1639, 'las': 1640, 'last': 1641, 'late': 1642, 'later': 1643, 'latest': 1644, 'latin': 1645, 'latter': 1646, 'laugh': 1647, 'laura': 1648, 'law': 1649, 'lawyer': 1650, 'le': 1651, 'lead': 1652, 'leader': 1653, 'leaders': 1654, 'leading': 1655, 'leads': 1656, 'league': 1657, 'learn': 1658, 'learned': 1659, 'learning': 1660, 'learns': 1661, 'least': 1662, 'leave': 1663, 'leaves': 1664, 'leaving': 1665, 'led': 1666, 'lee': 1667, 'left': 1668, 'legacy': 1669, 'legal': 1670, 'legend': 1671, 'legendary': 1672, 'legends': 1673, 'length': 1674, 'les': 1675, 'lesbian': 1676, 'less': 1677, 'lesson': 1678, 'lessons': 1679, 'let': 1680, 'lets': 1681, 'letter': 1682, 'letters': 1683, 'level': 1684, 'levels': 1685, 'lewis': 1686, 'li': 1687, 'library': 1688, 'lies': 1689, 'lieutenant': 1690, 'life': 1691, 'lifestyle': 1692, 'lifetime': 1693, 'light': 1694, 'lights': 1695, 'like': 1696, 'likes': 1697, 'limits': 1698, 'lincoln': 1699, 'linda': 1700, 'line': 1701, 'lines': 1702, 'link': 1703, 'lisa': 1704, 'list': 1705, 'little': 1706, 'live': 1707, 'lived': 1708, 'lives': 1709, 'living': 1710, 'local': 1711, 'locals': 1712, 'locate': 1713, 'located': 1714, 'location': 1715, 'locations': 1716, 'locked': 1717, 'london': 1718, 'lone': 1719, 'lonely': 1720, 'long': 1721, 'longer': 1722, 'look': 1723, 'looking': 1724, 'looks': 1725, 'loose': 1726, 'loot': 1727, 'lord': 1728, 'los': 1729, 'lose': 1730, 'loses': 1731, 'losing': 1732, 'loss': 1733, 'lost': 1734, 'lot': 1735, 'lots': 1736, 'lou': 1737, 'louis': 1738, 'love': 1739, 'loved': 1740, 'lovely': 1741, 'lover': 1742, 'lovers': 1743, 'loves': 1744, 'loving': 1745, 'low': 1746, 'loyal': 1747, 'loyalty': 1748, 'luck': 1749, 'lucky': 1750, 'luke': 1751, 'lust': 1752, 'luxury': 1753, 'machine': 1754, 'mad': 1755, 'made': 1756, 'mafia': 1757, 'magazine': 1758, 'magic': 1759, 'magical': 1760, 'maid': 1761, 'mail': 1762, 'main': 1763, 'major': 1764, 'make': 1765, 'makes': 1766, 'making': 1767, 'male': 1768, 'man': 1769, 'manage': 1770, 'managed': 1771, 'management': 1772, 'manager': 1773, 'manages': 1774, 'mankind': 1775, 'manner': 1776, 'mansion': 1777, 'many': 1778, 'map': 1779, 'march': 1780, 'marco': 1781, 'maria': 1782, 'marie': 1783, 'marine': 1784, 'mark': 1785, 'market': 1786, 'marriage': 1787, 'married': 1788, 'marries': 1789, 'marry': 1790, 'mars': 1791, 'marshal': 1792, 'marshall': 1793, 'martial': 1794, 'martin': 1795, 'mary': 1796, 'masked': 1797, 'mason': 1798, 'mass': 1799, 'massive': 1800, 'master': 1801, 'masters': 1802, 'match': 1803, 'matches': 1804, 'mate': 1805, 'material': 1806, 'matt': 1807, 'matter': 1808, 'matters': 1809, 'max': 1810, 'may': 1811, 'maybe': 1812, 'mayor': 1813, 'mean': 1814, 'meaning': 1815, 'means': 1816, 'meant': 1817, 'meanwhile': 1818, 'media': 1819, 'medical': 1820, 'medicine': 1821, 'meet': 1822, 'meeting': 1823, 'meets': 1824, 'member': 1825, 'members': 1826, 'memorable': 1827, 'memories': 1828, 'memory': 1829, 'men': 1830, 'mental': 1831, 'message': 1832, 'met': 1833, 'metal': 1834, 'methods': 1835, 'mexican': 1836, 'mexico': 1837, 'miami': 1838, 'michael': 1839, 'middle': 1840, 'midnight': 1841, 'midst': 1842, 'might': 1843, 'mighty': 1844, 'mike': 1845, 'miles': 1846, 'military': 1847, 'miller': 1848, 'million': 1849, 'millions': 1850, 'mind': 1851, 'minds': 1852, 'mine': 1853, 'mining': 1854, 'minister': 1855, 'minute': 1856, 'minutes': 1857, 'miss': 1858, 'missing': 1859, 'mission': 1860, 'mistake': 1861, 'mistress': 1862, 'mix': 1863, 'mixed': 1864, 'mob': 1865, 'model': 1866, 'models': 1867, 'modern': 1868, 'molly': 1869, 'mom': 1870, 'moment': 1871, 'moments': 1872, 'money': 1873, 'monster': 1874, 'monsters': 1875, 'month': 1876, 'months': 1877, 'moon': 1878, 'morgan': 1879, 'morning': 1880, 'mother': 1881, 'motion': 1882, 'mountain': 1883, 'mountains': 1884, 'mouse': 1885, 'move': 1886, 'moved': 1887, 'movement': 1888, 'moves': 1889, 'movie': 1890, 'movies': 1891, 'moving': 1892, 'mrs': 1893, 'much': 1894, 'multiple': 1895, 'murder': 1896, 'murdered': 1897, 'murderer': 1898, 'murders': 1899, 'museum': 1900, 'music': 1901, 'musical': 1902, 'musician': 1903, 'musicians': 1904, 'must': 1905, 'mysterious': 1906, 'mystery': 1907, 'mystical': 1908, \"n't\": 1909, 'naked': 1910, 'name': 1911, 'named': 1912, 'names': 1913, 'nation': 1914, 'national': 1915, 'nations': 1916, 'native': 1917, 'natural': 1918, 'nature': 1919, 'navigate': 1920, 'navy': 1921, 'nazi': 1922, 'near': 1923, 'nearby': 1924, 'nearly': 1925, 'necessary': 1926, 'ned': 1927, 'need': 1928, 'needed': 1929, 'needs': 1930, 'neighbor': 1931, 'neighborhood': 1932, 'neighbors': 1933, 'neither': 1934, 'nelson': 1935, 'nephew': 1936, 'network': 1937, 'nevada': 1938, 'never': 1939, 'new': 1940, 'newly': 1941, 'news': 1942, 'newspaper': 1943, 'next': 1944, 'nice': 1945, 'nick': 1946, 'nicole': 1947, 'night': 1948, 'nightmare': 1949, 'nights': 1950, 'nina': 1951, 'nine': 1952, 'ninja': 1953, 'nobody': 1954, 'none': 1955, 'normal': 1956, 'north': 1957, 'northern': 1958, 'note': 1959, 'nothing': 1960, 'notorious': 1961, 'novel': 1962, 'november': 1963, 'nowhere': 1964, 'nuclear': 1965, 'number': 1966, 'numbers': 1967, 'numerous': 1968, 'nurse': 1969, 'object': 1970, 'objects': 1971, 'obsessed': 1972, 'obstacles': 1973, 'ocean': 1974, 'october': 1975, 'odds': 1976, 'offer': 1977, 'offered': 1978, 'offers': 1979, 'office': 1980, 'officer': 1981, 'officers': 1982, 'official': 1983, 'officials': 1984, 'often': 1985, 'oil': 1986, 'old': 1987, 'older': 1988, 'one': 1989, 'ones': 1990, 'online': 1991, 'onto': 1992, 'open': 1993, 'opening': 1994, 'opens': 1995, 'opera': 1996, 'operation': 1997, 'operations': 1998, 'opportunity': 1999, 'opposite': 2000, 'orchestra': 2001, 'order': 2002, 'ordered': 2003, 'orders': 2004, 'ordinary': 2005, 'organization': 2006, 'organized': 2007, 'original': 2008, 'originally': 2009, 'orphan': 2010, 'others': 2011, 'otherwise': 2012, 'outdoor': 2013, 'outlaw': 2014, 'outlaws': 2015, 'outside': 2016, 'overcome': 2017, 'owned': 2018, 'owner': 2019, 'owners': 2020, 'owns': 2021, 'pacific': 2022, 'packed': 2023, 'paid': 2024, 'pain': 2025, 'pair': 2026, 'pal': 2027, 'palace': 2028, 'pals': 2029, 'panel': 2030, 'paper': 2031, 'paradise': 2032, 'paranormal': 2033, 'parents': 2034, 'paris': 2035, 'park': 2036, 'parker': 2037, 'part': 2038, 'participants': 2039, 'participate': 2040, 'particular': 2041, 'parties': 2042, 'partner': 2043, 'partners': 2044, 'parts': 2045, 'party': 2046, 'pass': 2047, 'passed': 2048, 'passes': 2049, 'passing': 2050, 'passion': 2051, 'passionate': 2052, 'past': 2053, 'pat': 2054, 'path': 2055, 'paths': 2056, 'patients': 2057, 'patrick': 2058, 'paul': 2059, 'pay': 2060, 'peace': 2061, 'peaceful': 2062, 'people': 2063, 'per': 2064, 'perfect': 2065, 'perform': 2066, 'performance': 2067, 'performances': 2068, 'performed': 2069, 'performers': 2070, 'performing': 2071, 'performs': 2072, 'perhaps': 2073, 'peril': 2074, 'period': 2075, 'person': 2076, 'personal': 2077, 'personalities': 2078, 'personality': 2079, 'perspective': 2080, 'pet': 2081, 'pete': 2082, 'peter': 2083, 'phil': 2084, 'phone': 2085, 'photographer': 2086, 'physical': 2087, 'pick': 2088, 'picked': 2089, 'picks': 2090, 'picture': 2091, 'pictures': 2092, 'piece': 2093, 'pieces': 2094, 'pilot': 2095, 'pirate': 2096, 'pirates': 2097, 'place': 2098, 'placed': 2099, 'places': 2100, 'plan': 2101, 'plane': 2102, 'planet': 2103, 'planned': 2104, 'planning': 2105, 'plans': 2106, 'plant': 2107, 'play': 2108, 'played': 2109, 'player': 2110, 'players': 2111, 'playing': 2112, 'plays': 2113, 'pleasure': 2114, 'plenty': 2115, 'plot': 2116, 'plots': 2117, 'plus': 2118, 'point': 2119, 'points': 2120, 'poker': 2121, 'police': 2122, 'policeman': 2123, 'political': 2124, 'politicians': 2125, 'politics': 2126, 'pool': 2127, 'poor': 2128, 'pop': 2129, 'popular': 2130, 'population': 2131, 'porn': 2132, 'posing': 2133, 'position': 2134, 'positive': 2135, 'posse': 2136, 'possession': 2137, 'possible': 2138, 'possibly': 2139, 'post': 2140, 'potential': 2141, 'poverty': 2142, 'power': 2143, 'powerful': 2144, 'powers': 2145, 'practice': 2146, 'pregnant': 2147, 'premiere': 2148, 'prepare': 2149, 'prepared': 2150, 'prepares': 2151, 'presence': 2152, 'present': 2153, 'presented': 2154, 'presents': 2155, 'president': 2156, 'press': 2157, 'pressure': 2158, 'pretty': 2159, 'prevent': 2160, 'previous': 2161, 'previously': 2162, 'price': 2163, 'priest': 2164, 'prime': 2165, 'prince': 2166, 'princess': 2167, 'prior': 2168, 'prison': 2169, 'prisoner': 2170, 'prisoners': 2171, 'private': 2172, 'priya': 2173, 'prize': 2174, 'prizes': 2175, 'pro': 2176, 'probably': 2177, 'problem': 2178, 'problems': 2179, 'process': 2180, 'produced': 2181, 'producer': 2182, 'producers': 2183, 'production': 2184, 'productions': 2185, 'products': 2186, 'professional': 2187, 'professor': 2188, 'program': 2189, 'programs': 2190, 'progress': 2191, 'project': 2192, 'projects': 2193, 'prominent': 2194, 'promise': 2195, 'promised': 2196, 'promises': 2197, 'proof': 2198, 'property': 2199, 'proposal': 2200, 'prostitute': 2201, 'protagonist': 2202, 'protect': 2203, 'protection': 2204, 'prove': 2205, 'proves': 2206, 'provide': 2207, 'provided': 2208, 'provides': 2209, 'providing': 2210, 'psychic': 2211, 'public': 2212, 'pull': 2213, 'punishment': 2214, 'punk': 2215, 'pure': 2216, 'purpose': 2217, 'pursue': 2218, 'pursued': 2219, 'pursuing': 2220, 'pursuit': 2221, 'put': 2222, 'puts': 2223, 'putting': 2224, 'puzzle': 2225, 'quality': 2226, 'queen': 2227, 'quest': 2228, 'question': 2229, 'questions': 2230, 'quick': 2231, 'quickly': 2232, 'quiet': 2233, 'quirky': 2234, 'quite': 2235, 'quiz': 2236, 'qv': 2237, 'race': 2238, 'races': 2239, 'rachel': 2240, 'racing': 2241, 'radio': 2242, 'raid': 2243, 'railroad': 2244, 'rain': 2245, 'raise': 2246, 'raised': 2247, 'raising': 2248, 'raj': 2249, 'raja': 2250, 'raju': 2251, 'ram': 2252, 'ran': 2253, 'ranch': 2254, 'rancher': 2255, 'ranchers': 2256, 'randy': 2257, 'range': 2258, 'ranger': 2259, 'rangers': 2260, 'ransom': 2261, 'rare': 2262, 'rather': 2263, 'ravi': 2264, 'raw': 2265, 'ray': 2266, 'reach': 2267, 'reaches': 2268, 'read': 2269, 'reading': 2270, 'ready': 2271, 'real': 2272, 'reality': 2273, 'realize': 2274, 'realizes': 2275, 'realizing': 2276, 'really': 2277, 'reason': 2278, 'reasons': 2279, 'rebel': 2280, 'receive': 2281, 'received': 2282, 'receives': 2283, 'recent': 2284, 'recently': 2285, 'record': 2286, 'recorded': 2287, 'recording': 2288, 'records': 2289, 'recover': 2290, 'red': 2291, 'redemption': 2292, 'reed': 2293, 'refuge': 2294, 'refuses': 2295, 'region': 2296, 'regular': 2297, 'related': 2298, 'relationship': 2299, 'relationships': 2300, 'relatives': 2301, 'release': 2302, 'released': 2303, 'religion': 2304, 'religious': 2305, 'reluctantly': 2306, 'remain': 2307, 'remaining': 2308, 'remains': 2309, 'remarkable': 2310, 'remember': 2311, 'remote': 2312, 'renegade': 2313, 'renowned': 2314, 'report': 2315, 'reporter': 2316, 'reports': 2317, 'republic': 2318, 'reputation': 2319, 'rescue': 2320, 'rescued': 2321, 'rescues': 2322, 'research': 2323, 'residents': 2324, 'resistance': 2325, 'resort': 2326, 'resources': 2327, 'respect': 2328, 'respected': 2329, 'respective': 2330, 'responsible': 2331, 'rest': 2332, 'restaurant': 2333, 'restore': 2334, 'result': 2335, 'resulting': 2336, 'results': 2337, 'retired': 2338, 'retrieve': 2339, 'return': 2340, 'returned': 2341, 'returning': 2342, 'returns': 2343, 'reunion': 2344, 'reunited': 2345, 'reveal': 2346, 'revealed': 2347, 'revealing': 2348, 'reveals': 2349, 'revenge': 2350, 'revolution': 2351, 'revolves': 2352, 'reward': 2353, 'rex': 2354, 'rich': 2355, 'richard': 2356, 'rick': 2357, 'rid': 2358, 'ride': 2359, 'rider': 2360, 'riders': 2361, 'rides': 2362, 'riding': 2363, 'right': 2364, 'rights': 2365, 'ring': 2366, 'rio': 2367, 'rise': 2368, 'rising': 2369, 'risk': 2370, 'rival': 2371, 'rivals': 2372, 'river': 2373, 'road': 2374, 'rob': 2375, 'robbed': 2376, 'robberies': 2377, 'robbers': 2378, 'robbery': 2379, 'robbing': 2380, 'robert': 2381, 'roberts': 2382, 'robin': 2383, 'robot': 2384, 'rock': 2385, 'rocky': 2386, 'rodeo': 2387, 'roger': 2388, 'rogers': 2389, 'rogue': 2390, 'role': 2391, 'roles': 2392, 'roll': 2393, 'roman': 2394, 'romance': 2395, 'romantic': 2396, 'room': 2397, 'roommate': 2398, 'roots': 2399, 'roped': 2400, 'ropes': 2401, 'rose': 2402, 'rough': 2403, 'round': 2404, 'rounds': 2405, 'route': 2406, 'routine': 2407, 'roy': 2408, 'royal': 2409, 'rule': 2410, 'ruler': 2411, 'rules': 2412, 'run': 2413, 'running': 2414, 'runs': 2415, 'rural': 2416, 'rush': 2417, 'russell': 2418, 'russia': 2419, 'russian': 2420, 'rustlers': 2421, 'rustling': 2422, 'ruth': 2423, 'ruthless': 2424, 'ryan': 2425, 'sacrifice': 2426, 'safe': 2427, 'safety': 2428, 'said': 2429, 'sale': 2430, 'sally': 2431, 'saloon': 2432, 'sam': 2433, 'san': 2434, 'sandy': 2435, 'santa': 2436, 'sarah': 2437, 'saturday': 2438, 'save': 2439, 'saved': 2440, 'saves': 2441, 'saving': 2442, 'saw': 2443, 'say': 2444, 'saying': 2445, 'says': 2446, 'scene': 2447, 'scenes': 2448, 'scheme': 2449, 'school': 2450, 'schools': 2451, 'sci': 2452, 'fi': 2453, 'science': 2454, 'scientific': 2455, 'scientist': 2456, 'scientists': 2457, 'score': 2458, 'scott': 2459, 'scout': 2460, 'screen': 2461, 'sea': 2462, 'sean': 2463, 'search': 2464, 'searches': 2465, 'searching': 2466, 'season': 2467, 'seat': 2468, 'second': 2469, 'seconds': 2470, 'secret': 2471, 'secretary': 2472, 'secretly': 2473, 'secrets': 2474, 'section': 2475, 'secure': 2476, 'securely': 2477, 'security': 2478, 'seduces': 2479, 'see': 2480, 'seeing': 2481, 'seek': 2482, 'seeking': 2483, 'seeks': 2484, 'seem': 2485, 'seemingly': 2486, 'seems': 2487, 'seen': 2488, 'sees': 2489, 'segment': 2490, 'segments': 2491, 'selected': 2492, 'self': 2493, 'sell': 2494, 'selling': 2495, 'send': 2496, 'sends': 2497, 'senior': 2498, 'sense': 2499, 'sent': 2500, 'sentence': 2501, 'sentenced': 2502, 'separate': 2503, 'separated': 2504, 'september': 2505, 'sequel': 2506, 'serial': 2507, 'series': 2508, 'serious': 2509, 'servant': 2510, 'serve': 2511, 'served': 2512, 'service': 2513, 'services': 2514, 'serving': 2515, 'set': 2516, 'sets': 2517, 'setting': 2518, 'settle': 2519, 'settlers': 2520, 'seven': 2521, 'several': 2522, 'severe': 2523, 'sex': 2524, 'sexual': 2525, 'sexually': 2526, 'sexy': 2527, 'shadow': 2528, 'shane': 2529, 'shanghai': 2530, 'shankar': 2531, 'shape': 2532, 'share': 2533, 'shared': 2534, 'shares': 2535, 'sharing': 2536, 'sheriff': 2537, 'ship': 2538, 'shipment': 2539, 'ships': 2540, 'shiva': 2541, 'shock': 2542, 'shocked': 2543, 'shoot': 2544, 'shooting': 2545, 'shoots': 2546, 'shop': 2547, 'short': 2548, 'shortly': 2549, 'shot': 2550, 'should': 2551, 'show': 2552, 'showcase': 2553, 'showcases': 2554, 'showdown': 2555, 'showing': 2556, 'shown': 2557, 'shows': 2558, 'sick': 2559, 'siddhant': 2560, 'side': 2561, 'sidekick': 2562, 'sides': 2563, 'sight': 2564, 'sign': 2565, 'signs': 2566, 'silent': 2567, 'silver': 2568, 'similar': 2569, 'simon': 2570, 'simple': 2571, 'simply': 2572, 'since': 2573, 'sing': 2574, 'singer': 2575, 'singers': 2576, 'singh': 2577, 'singing': 2578, 'single': 2579, 'sings': 2580, 'sinister': 2581, 'sir': 2582, 'sister': 2583, 'sisters': 2584, 'site': 2585, 'situation': 2586, 'situations': 2587, 'six': 2588, 'skills': 2589, 'sky': 2590, 'slave': 2591, 'sleep': 2592, 'sleeping': 2593, 'slim': 2594, 'slowly': 2595, 'small': 2596, 'smart': 2597, 'smiley': 2598, 'smith': 2599, 'smuggling': 2600, 'snow': 2601, 'social': 2602, 'society': 2603, 'sold': 2604, 'soldier': 2605, 'soldiers': 2606, 'solo': 2607, 'solution': 2608, 'solve': 2609, 'someone': 2610, 'something': 2611, 'sometimes': 2612, 'somewhere': 2613, 'son': 2614, 'song': 2615, 'songs': 2616, 'sons': 2617, 'soon': 2618, 'soul': 2619, 'souls': 2620, 'sound': 2621, 'sounds': 2622, 'soundtrack': 2623, 'source': 2624, 'south': 2625, 'southern': 2626, 'soviet': 2627, 'space': 2628, 'spain': 2629, 'spanish': 2630, 'speak': 2631, 'special': 2632, 'species': 2633, 'spectacular': 2634, 'speed': 2635, 'spend': 2636, 'spending': 2637, 'spends': 2638, 'spent': 2639, 'spies': 2640, 'spirit': 2641, 'spirits': 2642, 'spiritual': 2643, 'split': 2644, 'sport': 2645, 'sports': 2646, 'spot': 2647, 'spread': 2648, 'spy': 2649, 'squad': 2650, 'square': 2651, 'st': 2652, 'staff': 2653, 'stage': 2654, 'stagecoach': 2655, 'stages': 2656, 'stand': 2657, 'standing': 2658, 'stands': 2659, 'stanley': 2660, 'star': 2661, 'starring': 2662, 'stars': 2663, 'start': 2664, 'started': 2665, 'starting': 2666, 'starts': 2667, 'state': 2668, 'states': 2669, 'station': 2670, 'status': 2671, 'stay': 2672, 'staying': 2673, 'stays': 2674, 'steal': 2675, 'stealing': 2676, 'steals': 2677, 'steel': 2678, 'steele': 2679, 'step': 2680, 'stephen': 2681, 'steps': 2682, 'steve': 2683, 'steven': 2684, 'still': 2685, 'stock': 2686, 'stolen': 2687, 'stone': 2688, 'stop': 2689, 'stops': 2690, 'store': 2691, 'stories': 2692, 'storm': 2693, 'story': 2694, 'straight': 2695, 'strange': 2696, 'stranger': 2697, 'strangers': 2698, 'street': 2699, 'streets': 2700, 'strength': 2701, 'strike': 2702, 'strikes': 2703, 'strip': 2704, 'stripped': 2705, 'strong': 2706, 'struggle': 2707, 'struggles': 2708, 'struggling': 2709, 'stuck': 2710, 'student': 2711, 'students': 2712, 'studies': 2713, 'studio': 2714, 'studios': 2715, 'study': 2716, 'stumbles': 2717, 'stunning': 2718, 'style': 2719, 'styles': 2720, 'subject': 2721, 'subjects': 2722, 'succeed': 2723, 'succeeds': 2724, 'success': 2725, 'successful': 2726, 'successfully': 2727, 'sudden': 2728, 'suddenly': 2729, 'suffering': 2730, 'suicide': 2731, 'summer': 2732, 'sun': 2733, 'sunday': 2734, 'super': 2735, 'supernatural': 2736, 'superstar': 2737, 'superstars': 2738, 'supplies': 2739, 'supply': 2740, 'support': 2741, 'supposed': 2742, 'suraj': 2743, 'sure': 2744, 'surprise': 2745, 'surprised': 2746, 'survival': 2747, 'survive': 2748, 'surviving': 2749, 'survivor': 2750, 'survivors': 2751, 'susan': 2752, 'suspect': 2753, 'suspects': 2754, 'suspicion': 2755, 'suspicious': 2756, 'sweet': 2757, 'sweetheart': 2758, 'sword': 2759, 'system': 2760, 'table': 2761, 'tag': 2762, 'take': 2763, 'taken': 2764, 'takes': 2765, 'taking': 2766, 'tale': 2767, 'talent': 2768, 'talented': 2769, 'talents': 2770, 'tales': 2771, 'talk': 2772, 'talking': 2773, 'talks': 2774, 'tape': 2775, 'taped': 2776, 'target': 2777, 'task': 2778, 'tasks': 2779, 'taste': 2780, 'taylor': 2781, 'teach': 2782, 'teacher': 2783, 'teaches': 2784, 'teaching': 2785, 'team': 2786, 'teams': 2787, 'technical': 2788, 'techniques': 2789, 'technology': 2790, 'ted': 2791, 'teen': 2792, 'teenage': 2793, 'teenager': 2794, 'teenagers': 2795, 'teens': 2796, 'television': 2797, 'tell': 2798, 'telling': 2799, 'tells': 2800, 'temple': 2801, 'ten': 2802, 'tension': 2803, 'terms': 2804, 'terrible': 2805, 'terrifying': 2806, 'territory': 2807, 'terror': 2808, 'terrorist': 2809, 'terrorists': 2810, 'terry': 2811, 'test': 2812, 'tested': 2813, 'tex': 2814, 'texas': 2815, 'thanks': 2816, 'theater': 2817, 'theatre': 2818, 'theme': 2819, 'therefore': 2820, 'thief': 2821, 'thieves': 2822, 'thing': 2823, 'things': 2824, 'think': 2825, 'thinking': 2826, 'thinks': 2827, 'third': 2828, 'thomas': 2829, 'though': 2830, 'thought': 2831, 'thoughts': 2832, 'thousand': 2833, 'thousands': 2834, 'threat': 2835, 'threatened': 2836, 'threatens': 2837, 'threats': 2838, 'three': 2839, 'thriller': 2840, 'thrilling': 2841, 'throne': 2842, 'throughout': 2843, 'throw': 2844, 'thrown': 2845, 'thug': 2846, 'thugs': 2847, 'thus': 2848, 'tied': 2849, 'ties': 2850, 'tiger': 2851, 'till': 2852, 'tim': 2853, 'time': 2854, 'times': 2855, 'tiny': 2856, 'tips': 2857, 'tired': 2858, 'title': 2859, 'titles': 2860, 'today': 2861, 'todd': 2862, 'together': 2863, 'tokyo': 2864, 'told': 2865, 'tom': 2866, 'tommy': 2867, 'tony': 2868, 'took': 2869, 'tools': 2870, 'top': 2871, 'topics': 2872, 'torn': 2873, 'total': 2874, 'totally': 2875, 'touch': 2876, 'tough': 2877, 'tour': 2878, 'tournament': 2879, 'toward': 2880, 'towards': 2881, 'town': 2882, 'townspeople': 2883, 'toys': 2884, 'track': 2885, 'tracks': 2886, 'trade': 2887, 'tradition': 2888, 'traditional': 2889, 'tragedy': 2890, 'tragic': 2891, 'trail': 2892, 'train': 2893, 'trained': 2894, 'training': 2895, 'trains': 2896, 'transport': 2897, 'trap': 2898, 'trapped': 2899, 'travel': 2900, 'traveled': 2901, 'traveling': 2902, 'travels': 2903, 'travis': 2904, 'treasure': 2905, 'treatment': 2906, 'tree': 2907, 'trial': 2908, 'tribe': 2909, 'tribute': 2910, 'tricks': 2911, 'tried': 2912, 'tries': 2913, 'trio': 2914, 'trip': 2915, 'triple': 2916, 'troops': 2917, 'trouble': 2918, 'troubled': 2919, 'truck': 2920, 'true': 2921, 'truly': 2922, 'trust': 2923, 'trusted': 2924, 'truth': 2925, 'try': 2926, 'trying': 2927, 'turn': 2928, 'turned': 2929, 'turning': 2930, 'turns': 2931, 'tv': 2932, 'twelve': 2933, 'twenty': 2934, 'twin': 2935, 'twins': 2936, 'twist': 2937, 'twisted': 2938, 'twists': 2939, 'two': 2940, 'type': 2941, 'types': 2942, 'typical': 2943, 'uk': 2944, 'ultimate': 2945, 'ultimately': 2946, 'un': 2947, 'unable': 2948, 'unaware': 2949, 'uncle': 2950, 'uncover': 2951, 'uncovers': 2952, 'undercover': 2953, 'underground': 2954, 'understand': 2955, 'understanding': 2956, 'underworld': 2957, 'unexpected': 2958, 'unexpectedly': 2959, 'unfolds': 2960, 'unforgettable': 2961, 'unfortunately': 2962, 'union': 2963, 'unique': 2964, 'unit': 2965, 'united': 2966, 'universal': 2967, 'universe': 2968, 'university': 2969, 'unknown': 2970, 'unless': 2971, 'unlike': 2972, 'unlikely': 2973, 'unravel': 2974, 'unusual': 2975, 'upcoming': 2976, 'upon': 2977, 'upside': 2978, 'urban': 2979, 'us': 2980, 'usa': 2981, 'use': 2982, 'used': 2983, 'uses': 2984, 'using': 2985, 'usually': 2986, 'vacation': 2987, 'valley': 2988, 'valuable': 2989, 'value': 2990, 'values': 2991, 'vampire': 2992, 'van': 2993, 'variety': 2994, 'various': 2995, 'vast': 2996, 'vegas': 2997, 'vengeance': 2998, 'version': 2999, 'veteran': 3000, 'via': 3001, 'vicious': 3002, 'victim': 3003, 'victims': 3004, 'victor': 3005, 'victoria': 3006, 'victory': 3007, 'video': 3008, 'videos': 3009, 'vietnam': 3010, 'view': 3011, 'viewer': 3012, 'viewers': 3013, 'views': 3014, 'vignettes': 3015, 'vijay': 3016, 'vikram': 3017, 'village': 3018, 'villagers': 3019, 'villain': 3020, 'villains': 3021, 'violence': 3022, 'violent': 3023, 'virtual': 3024, 'virus': 3025, 'vision': 3026, 'visit': 3027, 'visiting': 3028, 'visits': 3029, 'visual': 3030, 'voice': 3031, 'voices': 3032, 'von': 3033, 'vote': 3034, 'vows': 3035, 'wagon': 3036, 'wait': 3037, 'waiting': 3038, 'wake': 3039, 'wakes': 3040, 'walk': 3041, 'walker': 3042, 'walks': 3043, 'wall': 3044, 'walter': 3045, 'wang': 3046, 'want': 3047, 'wanted': 3048, 'wanting': 3049, 'wants': 3050, 'war': 3051, 'ward': 3052, 'warrior': 3053, 'warriors': 3054, 'wars': 3055, 'washington': 3056, 'watch': 3057, 'watching': 3058, 'water': 3059, 'waters': 3060, 'wave': 3061, 'way': 3062, 'wayne': 3063, 'ways': 3064, 'wcw': 3065, 'wealth': 3066, 'wealthy': 3067, 'weapon': 3068, 'weapons': 3069, 'wearing': 3070, 'web': 3071, 'wedding': 3072, 'week': 3073, 'weekend': 3074, 'weekly': 3075, 'weeks': 3076, 'welcome': 3077, 'went': 3078, 'west': 3079, 'western': 3080, 'whatever': 3081, 'whether': 3082, 'whilst': 3083, 'whip': 3084, 'white': 3085, 'whole': 3086, 'whose': 3087, 'wide': 3088, 'widow': 3089, 'widowed': 3090, 'wife': 3091, 'wild': 3092, 'wilderness': 3093, 'william': 3094, 'williams': 3095, 'willing': 3096, 'wilson': 3097, 'win': 3098, 'wind': 3099, 'winds': 3100, 'wine': 3101, 'winner': 3102, 'wins': 3103, 'winter': 3104, 'wisdom': 3105, 'wish': 3106, 'wishes': 3107, 'witch': 3108, 'within': 3109, 'without': 3110, 'witness': 3111, 'witnesses': 3112, 'wizard': 3113, 'wo': 3114, 'wolf': 3115, 'woman': 3116, 'women': 3117, 'wonder': 3118, 'wonderful': 3119, 'wood': 3120, 'woods': 3121, 'word': 3122, 'words': 3123, 'work': 3124, 'worked': 3125, 'workers': 3126, 'working': 3127, 'workout': 3128, 'works': 3129, 'world': 3130, 'worlds': 3131, 'worldwide': 3132, 'worse': 3133, 'worst': 3134, 'worth': 3135, 'would': 3136, 'wounded': 3137, 'wrestling': 3138, 'write': 3139, 'writer': 3140, 'writes': 3141, 'writing': 3142, 'written': 3143, 'wrong': 3144, 'wwe': 3145, 'wwf': 3146, 'x': 3147, 'yakuza': 3148, 'year': 3149, 'years': 3150, 'yet': 3151, 'yoga': 3152, 'york': 3153, 'young': 3154, 'younger': 3155, 'youth': 3156, 'zombie': 3157, 'zone': 3158}\n"
          ],
          "name": "stdout"
        }
      ]
    },
    {
      "cell_type": "markdown",
      "metadata": {
        "id": "9J8asYUL4e-b"
      },
      "source": [
        "Стандартный словарь"
      ]
    },
    {
      "cell_type": "code",
      "metadata": {
        "id": "3mFrm1QWuvV4",
        "colab": {
          "base_uri": "https://localhost:8080/"
        },
        "outputId": "ec6cb506-16d5-4968-bac4-6e40dc8de808"
      },
      "source": [
        "word_index = tf.keras.datasets.imdb.get_word_index()"
      ],
      "execution_count": null,
      "outputs": [
        {
          "output_type": "stream",
          "text": [
            "Downloading data from https://storage.googleapis.com/tensorflow/tf-keras-datasets/imdb_word_index.json\n",
            "1646592/1641221 [==============================] - 0s 0us/step\n"
          ],
          "name": "stdout"
        }
      ]
    },
    {
      "cell_type": "markdown",
      "metadata": {
        "id": "RwUwFV3U4kPO"
      },
      "source": [
        "# Подготовка данных для модели"
      ]
    },
    {
      "cell_type": "code",
      "metadata": {
        "id": "tr5s_1alpzop"
      },
      "source": [
        "word_index = {k:(v+3) for k,v in word_index.items()} \n",
        "word_index[\"<PAD>\"] = 0\n",
        "word_index[\"<START>\"] = 1\n",
        "word_index[\"<UNKNOWN>\"] = 2\n",
        "\n",
        "# последовательность индексов в текст\n",
        "def decode_review(text):\n",
        "    return ' '.join([reverse_word_index.get(i, '?') for i in text])\n",
        "\n",
        "# текст в последовательность индексов\n",
        "def encode_review(text):\n",
        "    words = text.lower().split()\n",
        "    words = ['<START>'] + words\n",
        "    idxs = [word_index.get(word, word_index['<UNKNOWN>']) for word in words]\n",
        "    return idxs"
      ],
      "execution_count": null,
      "outputs": []
    },
    {
      "cell_type": "code",
      "metadata": {
        "id": "XrMKxQOhe1Vr",
        "colab": {
          "base_uri": "https://localhost:8080/"
        },
        "outputId": "fb722e5a-3115-4ed0-949d-dfa5abb635bf"
      },
      "source": [
        "label_train=df_train['GENRE']\r\n",
        "label_train"
      ],
      "execution_count": null,
      "outputs": [
        {
          "output_type": "execute_result",
          "data": {
            "text/plain": [
              "0              drama\n",
              "1           thriller\n",
              "2              adult\n",
              "3              drama\n",
              "4              drama\n",
              "            ...     \n",
              "54209         comedy\n",
              "54210         horror\n",
              "54211    documentary\n",
              "54212         comedy\n",
              "54213        history\n",
              "Name: GENRE, Length: 54214, dtype: object"
            ]
          },
          "metadata": {
            "tags": []
          },
          "execution_count": 9
        }
      ]
    },
    {
      "cell_type": "code",
      "metadata": {
        "id": "RYLRmWk6aQbv"
      },
      "source": [
        "token_train=df_train['DESCRIPTION'].apply(encode_review)\r\n",
        "#token_test=df_test['DESCRIPTION'].apply(encode_review)"
      ],
      "execution_count": null,
      "outputs": []
    },
    {
      "cell_type": "code",
      "metadata": {
        "id": "b3d3XSVWm4R-"
      },
      "source": [
        "token_train=df_train_lite['DESCRIPTION'].apply(encode_review)"
      ],
      "execution_count": null,
      "outputs": []
    },
    {
      "cell_type": "code",
      "metadata": {
        "id": "qX2JN_FqeWrz"
      },
      "source": [
        "from gensim.models import Word2Vec\r\n",
        "import logging\r\n",
        "\r\n",
        "logging.basicConfig(format='%(asctime)s : %(levelname)s : %(message)s', level=logging.INFO)\r\n",
        "\r\n",
        "texts=df_train_lite['DESCRIPTION'].apply(tokenize_text)\r\n",
        "#texts = df_train_lite['DESCRIPTION'].tolist()[0]\r\n"
      ],
      "execution_count": null,
      "outputs": []
    },
    {
      "cell_type": "code",
      "metadata": {
        "colab": {
          "base_uri": "https://localhost:8080/"
        },
        "id": "cKK6wYGuEqta",
        "outputId": "40bfb0a1-1c09-4cab-9e54-9fcd281a2e3b"
      },
      "source": [
        "texts"
      ],
      "execution_count": null,
      "outputs": [
        {
          "output_type": "execute_result",
          "data": {
            "text/plain": [
              "2        [bus, empties, students, field, trip, museum, ...\n",
              "7        [ron, petrie, keanu, reeves, troubled, teen, w...\n",
              "8        [sudden, calamitous, event, causing, great, lo...\n",
              "18       [modern, roller, derby, began, austin, tx, 200...\n",
              "19       [story, revolves, around, bird, called, 'hummi...\n",
              "                               ...                        \n",
              "54201    [rhiannon, outlaw, regularly, robs, gold, stag...\n",
              "54203    [100, cupboards, chronicles, fantastical, jour...\n",
              "54206    [november, 2011, devin, townsend, project, pla...\n",
              "54208    [first, story, ``, temptation, '', two, kids, ...\n",
              "54213    [labor, day, weekend, 1935, intense, hurricane...\n",
              "Name: DESCRIPTION, Length: 11190, dtype: object"
            ]
          },
          "metadata": {
            "tags": []
          },
          "execution_count": 136
        }
      ]
    },
    {
      "cell_type": "code",
      "metadata": {
        "colab": {
          "base_uri": "https://localhost:8080/"
        },
        "id": "G9L6SSfL8Em-",
        "outputId": "1b032166-54b3-4761-8a42-e8e4e2f244b6"
      },
      "source": [
        "#model = Word2Vec(texts, size=10, window=7, min_count=2, workers=4, iter=10, sg=0)\r\n",
        "model = Word2Vec(texts,\r\n",
        "size=10,\r\n",
        "window=5,\r\n",
        "min_count=3,\r\n",
        "workers=8)\r\n"
      ],
      "execution_count": null,
      "outputs": [
        {
          "output_type": "stream",
          "text": [
            "WARNING:gensim.models.base_any2vec:consider setting layer size to a multiple of 4 for greater performance\n"
          ],
          "name": "stderr"
        }
      ]
    },
    {
      "cell_type": "code",
      "metadata": {
        "colab": {
          "base_uri": "https://localhost:8080/"
        },
        "id": "kmhezGZZDJbr",
        "outputId": "67caef26-ffa2-4a03-de53-9fda8a627ea2"
      },
      "source": [
        "voc= list(model.wv.vocab)\r\n",
        "voc100=voc[9000:10000]\r\n",
        "print(voc[0:100])"
      ],
      "execution_count": null,
      "outputs": [
        {
          "output_type": "stream",
          "text": [
            "['bus', 'empties', 'students', 'field', 'trip', 'museum', 'natural', 'history', 'little', 'tour', 'guide', 'suspect', 'another', 'first', 'lecture', 'films', 'coeds', 'drift', 'dreams', 'erotic', 'fantasies', 'one', 'imagine', 'release', 'emotion', 'uncommon', 'ways', 'slips', 'curator', \"'s\", 'office', '``', 'finds', 'anthropologist', 'see', 'bones', 'identified', 'even', 'head', 'teacher', \"n't\", 'immune', 'soon', 'departs', 'everyone', 'admits', 'quite', 'education', 'ron', 'keanu', 'reeves', 'troubled', 'teen', 'whose', 'life', 'hanging', 'thread', 'verge', 'suspension', 'school', 'subject', 'arrest', 'breaking', 'entering', 'cause', 'single', 'mother', 'impending', 'eviction', 'apartment', 'unless', 'find', 'resolution', 'option', 'seems', 'street', 'crime', 'sudden', 'event', 'causing', 'great', 'loss', 'damage', 'hardship', 'like', 'flood', 'tornado', 'airplane', 'crash', 'earthquake', 'documentary', 'live', 'account', 'dramatic', 'events', 'real', 'time', 'unique', 'part', 'series']\n"
          ],
          "name": "stdout"
        }
      ]
    },
    {
      "cell_type": "code",
      "metadata": {
        "colab": {
          "base_uri": "https://localhost:8080/"
        },
        "id": "_3d-ZZM-71VH",
        "outputId": "7bd5cb30-9e20-4e8f-ae6f-eaa867789af3"
      },
      "source": [
        "texts"
      ],
      "execution_count": null,
      "outputs": [
        {
          "output_type": "execute_result",
          "data": {
            "text/plain": [
              "2        [bus, empties, students, field, trip, museum, ...\n",
              "7        [ron, petrie, keanu, reeves, troubled, teen, w...\n",
              "8        [sudden, calamitous, event, causing, great, lo...\n",
              "18       [modern, roller, derby, began, austin, tx, 200...\n",
              "19       [story, revolves, around, bird, called, 'hummi...\n",
              "                               ...                        \n",
              "54201    [rhiannon, outlaw, regularly, robs, gold, stag...\n",
              "54203    [100, cupboards, chronicles, fantastical, jour...\n",
              "54206    [november, 2011, devin, townsend, project, pla...\n",
              "54208    [first, story, ``, temptation, '', two, kids, ...\n",
              "54213    [labor, day, weekend, 1935, intense, hurricane...\n",
              "Name: DESCRIPTION, Length: 11190, dtype: object"
            ]
          },
          "metadata": {
            "tags": []
          },
          "execution_count": 160
        }
      ]
    },
    {
      "cell_type": "code",
      "metadata": {
        "colab": {
          "base_uri": "https://localhost:8080/"
        },
        "id": "Oz8SiWJ4Hr7_",
        "outputId": "1de975f6-b1a4-49ec-e027-ad4c2fa69627"
      },
      "source": [
        "model.wv.most_similar('bus')"
      ],
      "execution_count": null,
      "outputs": [
        {
          "output_type": "execute_result",
          "data": {
            "text/plain": [
              "[('trace', 0.998897910118103),\n",
              " ('pizza', 0.9983689188957214),\n",
              " ('exact', 0.9981462955474854),\n",
              " ('blows', 0.9976801872253418),\n",
              " ('convinced', 0.9974757432937622),\n",
              " ('fearing', 0.9974141716957092),\n",
              " ('rendezvous', 0.9973757863044739),\n",
              " ('warned', 0.9972994923591614),\n",
              " ('empty', 0.9972875714302063),\n",
              " ('drives', 0.9972837567329407)]"
            ]
          },
          "metadata": {
            "tags": []
          },
          "execution_count": 169
        }
      ]
    },
    {
      "cell_type": "code",
      "metadata": {
        "colab": {
          "base_uri": "https://localhost:8080/",
          "height": 321
        },
        "id": "uan6J0HLMN_I",
        "outputId": "b711ddb2-7b39-4d8d-9eaa-424578a93b5e"
      },
      "source": [
        "from gensim.models import Word2Vec\r\n",
        "from sklearn.decomposition import PCA\r\n",
        "from matplotlib import pyplot\r\n",
        "X = model[voc100]\r\n",
        "pca = PCA(n_components=2)\r\n",
        "result = pca.fit_transform(X)\r\n",
        "# create a scatter plot of the projection\r\n",
        "pyplot.scatter(result[:, 0], result[:, 1])\r\n",
        "words = voc100#list(model.wv.vocab)\r\n",
        "for i, word in enumerate(words):\r\n",
        "\tpyplot.annotate(word, xy=(result[i, 0], result[i, 1]))\r\n",
        "pyplot.show()"
      ],
      "execution_count": null,
      "outputs": [
        {
          "output_type": "stream",
          "text": [
            "/usr/local/lib/python3.6/dist-packages/ipykernel_launcher.py:4: DeprecationWarning: Call to deprecated `__getitem__` (Method will be removed in 4.0.0, use self.wv.__getitem__() instead).\n",
            "  after removing the cwd from sys.path.\n"
          ],
          "name": "stderr"
        },
        {
          "output_type": "display_data",
          "data": {
            "image/png": "[encoded data removed]",
            "text/plain": [
              "<Figure size 432x288 with 1 Axes>"
            ]
          },
          "metadata": {
            "tags": [],
            "needs_background": "light"
          }
        }
      ]
    },
    {
      "cell_type": "code",
      "metadata": {
        "id": "0LaPxn8t944k"
      },
      "source": [
        "def tokenize_text(raw_text: str):\r\n",
        "    \"\"\"Функция для токенизации текста    \r\n",
        "    :param raw_text: исходная текстовая строка\r\n",
        "    \"\"\"\r\n",
        "    tokenized_str = nltk.word_tokenize(raw_text)\r\n",
        "    tokens = [i.lower() for i in tokenized_str if ( i not in string.punctuation )]\r\n",
        "    filtered_tokens = [i for i in tokens if ( i not in stop_words )]\r\n",
        "    return filtered_tokens"
      ],
      "execution_count": null,
      "outputs": []
    },
    {
      "cell_type": "code",
      "metadata": {
        "colab": {
          "base_uri": "https://localhost:8080/"
        },
        "id": "-_hCr2rCyJ0z",
        "outputId": "ea244e6c-67e0-4e43-c7c9-1310e807f72b"
      },
      "source": [
        "from sklearn.feature_extraction.text import CountVectorizer\r\n",
        "\r\n",
        "# инициализируем объект, который токенизирует наш текст\r\n",
        "# в качестве единственного аргимента передаём функцию, которая\r\n",
        "# разбивает каждый документ на токены\r\n",
        "vectorizer = CountVectorizer(tokenizer=tokenize_text)\r\n",
        "# применяем наш объект-токенизатор к датафрейму \r\n",
        "document_matrix = vectorizer.fit_transform(df_train_lite['DESCRIPTION'])\r\n",
        "# результат - матрица, в которой находятся числа, строк в мастрице столько, сколько документов\r\n",
        "# а столбцов столько, сколько токенов\r\n",
        "document_matrix"
      ],
      "execution_count": null,
      "outputs": [
        {
          "output_type": "execute_result",
          "data": {
            "text/plain": [
              "<11190x58108 sparse matrix of type '<class 'numpy.int64'>'\n",
              "\twith 544511 stored elements in Compressed Sparse Row format>"
            ]
          },
          "metadata": {
            "tags": []
          },
          "execution_count": 152
        }
      ]
    },
    {
      "cell_type": "code",
      "metadata": {
        "colab": {
          "base_uri": "https://localhost:8080/"
        },
        "id": "zO8biImQ08qb",
        "outputId": "e38c7a88-c839-4fa6-c57d-0b4e868c3393"
      },
      "source": [
        "document_matrix"
      ],
      "execution_count": null,
      "outputs": [
        {
          "output_type": "execute_result",
          "data": {
            "text/plain": [
              "<11190x58108 sparse matrix of type '<class 'numpy.int64'>'\n",
              "\twith 544511 stored elements in Compressed Sparse Row format>"
            ]
          },
          "metadata": {
            "tags": []
          },
          "execution_count": 153
        }
      ]
    },
    {
      "cell_type": "code",
      "metadata": {
        "id": "pw1Wlfoxei-a",
        "colab": {
          "base_uri": "https://localhost:8080/"
        },
        "outputId": "81915edd-5625-4cd0-b62b-67229eaac898"
      },
      "source": [
        "sum(pow((model.wv.get_vector('blows')-model.wv.get_vector('pizza')),2))"
      ],
      "execution_count": null,
      "outputs": [
        {
          "output_type": "execute_result",
          "data": {
            "text/plain": [
              "0.02735986958577996"
            ]
          },
          "metadata": {
            "tags": []
          },
          "execution_count": 173
        }
      ]
    },
    {
      "cell_type": "code",
      "metadata": {
        "id": "2KoQah2JeqlV",
        "colab": {
          "base_uri": "https://localhost:8080/"
        },
        "outputId": "90fd02c9-ecac-4b18-d3be-0749e527aa93"
      },
      "source": [
        "from sklearn.metrics import pairwise_distances\r\n",
        "\r\n",
        "tweet_distance = 1-pairwise_distances(document_matrix, metric=\"cosine\")\r\n",
        "\r\n",
        "tweet_distance.shape"
      ],
      "execution_count": null,
      "outputs": [
        {
          "output_type": "execute_result",
          "data": {
            "text/plain": [
              "(11190, 11190)"
            ]
          },
          "metadata": {
            "tags": []
          },
          "execution_count": 154
        }
      ]
    },
    {
      "cell_type": "code",
      "metadata": {
        "colab": {
          "base_uri": "https://localhost:8080/"
        },
        "id": "X0jYr4aezkik",
        "outputId": "420ac863-0438-43a5-f207-d10b406aa10a"
      },
      "source": [
        "matrix_05=tweet_distance>0.5\r\n",
        "matrix_05.shape"
      ],
      "execution_count": null,
      "outputs": [
        {
          "output_type": "execute_result",
          "data": {
            "text/plain": [
              "(11190, 11190)"
            ]
          },
          "metadata": {
            "tags": []
          },
          "execution_count": 56
        }
      ]
    },
    {
      "cell_type": "code",
      "metadata": {
        "id": "1pml8aK0y8t9"
      },
      "source": [
        "td_hist=tweet_distance#+0.000001\r\n",
        "td_hist_flat=np.triu(td_hist).ravel()[np.flatnonzero(np.triu(td_hist))]\r\n",
        "td_hist_flat_log=np.log(td_hist_flat)\r\n",
        "fig,ax=plt.subplots(figsize=(10,6))\r\n",
        "#ax.hist(td_hist_flat,bins=20,color='blue',alpha=0.5,rwidth=0.95)\r\n",
        "ax.hist(td_hist_flat_log,bins=20,color='blue',alpha=0.5,rwidth=0.95)\r\n",
        "\r\n",
        "ax.tick_params(labelsize=12,labelcolor='White')\r\n",
        "ax.set_xticks(np.linspace(-6,-1,11))\r\n",
        "\r\n",
        "ax.set_title('Гистограмма распределения схожести твиттов',fontsize=16,color='White')\r\n",
        "ax.set_xlabel('схожесть',fontsize=14,color='White')\r\n",
        "ax.set_ylabel('число пар твиттов',fontsize=14,color='White')"
      ],
      "execution_count": null,
      "outputs": []
    },
    {
      "cell_type": "code",
      "metadata": {
        "colab": {
          "base_uri": "https://localhost:8080/"
        },
        "id": "vUdPmifdq6m0",
        "outputId": "eead8693-3f22-4c4c-bab6-430c3b4107e7"
      },
      "source": [
        "!pip install -q tensorflow-text"
      ],
      "execution_count": null,
      "outputs": [
        {
          "output_type": "stream",
          "text": [
            "\u001b[?25l\r\u001b[K     |                                | 10kB 29.4MB/s eta 0:00:01\r\u001b[K     |▏                               | 20kB 35.3MB/s eta 0:00:01\r\u001b[K     |▎                               | 30kB 25.3MB/s eta 0:00:01\r\u001b[K     |▍                               | 40kB 21.5MB/s eta 0:00:01\r\u001b[K     |▌                               | 51kB 22.3MB/s eta 0:00:01\r\u001b[K     |▋                               | 61kB 16.0MB/s eta 0:00:01\r\u001b[K     |▊                               | 71kB 16.5MB/s eta 0:00:01\r\u001b[K     |▉                               | 81kB 15.8MB/s eta 0:00:01\r\u001b[K     |▉                               | 92kB 15.6MB/s eta 0:00:01\r\u001b[K     |█                               | 102kB 16.1MB/s eta 0:00:01\r\u001b[K     |█                               | 112kB 16.1MB/s eta 0:00:01\r\u001b[K     |█▏                              | 122kB 16.1MB/s eta 0:00:01\r\u001b[K     |█▎                              | 133kB 16.1MB/s eta 0:00:01\r\u001b[K     |█▍                              | 143kB 16.1MB/s eta 0:00:01\r\u001b[K     |█▌                              | 153kB 16.1MB/s eta 0:00:01\r\u001b[K     |█▋                              | 163kB 16.1MB/s eta 0:00:01\r\u001b[K     |█▋                              | 174kB 16.1MB/s eta 0:00:01\r\u001b[K     |█▊                              | 184kB 16.1MB/s eta 0:00:01\r\u001b[K     |█▉                              | 194kB 16.1MB/s eta 0:00:01\r\u001b[K     |██                              | 204kB 16.1MB/s eta 0:00:01\r\u001b[K     |██                              | 215kB 16.1MB/s eta 0:00:01\r\u001b[K     |██▏                             | 225kB 16.1MB/s eta 0:00:01\r\u001b[K     |██▎                             | 235kB 16.1MB/s eta 0:00:01\r\u001b[K     |██▍                             | 245kB 16.1MB/s eta 0:00:01\r\u001b[K     |██▍                             | 256kB 16.1MB/s eta 0:00:01\r\u001b[K     |██▌                             | 266kB 16.1MB/s eta 0:00:01\r\u001b[K     |██▋                             | 276kB 16.1MB/s eta 0:00:01\r\u001b[K     |██▊                             | 286kB 16.1MB/s eta 0:00:01\r\u001b[K     |██▉                             | 296kB 16.1MB/s eta 0:00:01\r\u001b[K     |███                             | 307kB 16.1MB/s eta 0:00:01\r\u001b[K     |███                             | 317kB 16.1MB/s eta 0:00:01\r\u001b[K     |███▏                            | 327kB 16.1MB/s eta 0:00:01\r\u001b[K     |███▏                            | 337kB 16.1MB/s eta 0:00:01\r\u001b[K     |███▎                            | 348kB 16.1MB/s eta 0:00:01\r\u001b[K     |███▍                            | 358kB 16.1MB/s eta 0:00:01\r\u001b[K     |███▌                            | 368kB 16.1MB/s eta 0:00:01\r\u001b[K     |███▋                            | 378kB 16.1MB/s eta 0:00:01\r\u001b[K     |███▊                            | 389kB 16.1MB/s eta 0:00:01\r\u001b[K     |███▉                            | 399kB 16.1MB/s eta 0:00:01\r\u001b[K     |████                            | 409kB 16.1MB/s eta 0:00:01\r\u001b[K     |████                            | 419kB 16.1MB/s eta 0:00:01\r\u001b[K     |████                            | 430kB 16.1MB/s eta 0:00:01\r\u001b[K     |████▏                           | 440kB 16.1MB/s eta 0:00:01\r\u001b[K     |████▎                           | 450kB 16.1MB/s eta 0:00:01\r\u001b[K     |████▍                           | 460kB 16.1MB/s eta 0:00:01\r\u001b[K     |████▌                           | 471kB 16.1MB/s eta 0:00:01\r\u001b[K     |████▋                           | 481kB 16.1MB/s eta 0:00:01\r\u001b[K     |████▊                           | 491kB 16.1MB/s eta 0:00:01\r\u001b[K     |████▊                           | 501kB 16.1MB/s eta 0:00:01\r\u001b[K     |████▉                           | 512kB 16.1MB/s eta 0:00:01\r\u001b[K     |█████                           | 522kB 16.1MB/s eta 0:00:01\r\u001b[K     |█████                           | 532kB 16.1MB/s eta 0:00:01\r\u001b[K     |█████▏                          | 542kB 16.1MB/s eta 0:00:01\r\u001b[K     |█████▎                          | 552kB 16.1MB/s eta 0:00:01\r\u001b[K     |█████▍                          | 563kB 16.1MB/s eta 0:00:01\r\u001b[K     |█████▌                          | 573kB 16.1MB/s eta 0:00:01\r\u001b[K     |█████▌                          | 583kB 16.1MB/s eta 0:00:01\r\u001b[K     |█████▋                          | 593kB 16.1MB/s eta 0:00:01\r\u001b[K     |█████▊                          | 604kB 16.1MB/s eta 0:00:01\r\u001b[K     |█████▉                          | 614kB 16.1MB/s eta 0:00:01\r\u001b[K     |██████                          | 624kB 16.1MB/s eta 0:00:01\r\u001b[K     |██████                          | 634kB 16.1MB/s eta 0:00:01\r\u001b[K     |██████▏                         | 645kB 16.1MB/s eta 0:00:01\r\u001b[K     |██████▎                         | 655kB 16.1MB/s eta 0:00:01\r\u001b[K     |██████▎                         | 665kB 16.1MB/s eta 0:00:01\r\u001b[K     |██████▍                         | 675kB 16.1MB/s eta 0:00:01\r\u001b[K     |██████▌                         | 686kB 16.1MB/s eta 0:00:01\r\u001b[K     |██████▋                         | 696kB 16.1MB/s eta 0:00:01\r\u001b[K     |██████▊                         | 706kB 16.1MB/s eta 0:00:01\r\u001b[K     |██████▉                         | 716kB 16.1MB/s eta 0:00:01\r\u001b[K     |███████                         | 727kB 16.1MB/s eta 0:00:01\r\u001b[K     |███████                         | 737kB 16.1MB/s eta 0:00:01\r\u001b[K     |███████                         | 747kB 16.1MB/s eta 0:00:01\r\u001b[K     |███████▏                        | 757kB 16.1MB/s eta 0:00:01\r\u001b[K     |███████▎                        | 768kB 16.1MB/s eta 0:00:01\r\u001b[K     |███████▍                        | 778kB 16.1MB/s eta 0:00:01\r\u001b[K     |███████▌                        | 788kB 16.1MB/s eta 0:00:01\r\u001b[K     |███████▋                        | 798kB 16.1MB/s eta 0:00:01\r\u001b[K     |███████▊                        | 808kB 16.1MB/s eta 0:00:01\r\u001b[K     |███████▉                        | 819kB 16.1MB/s eta 0:00:01\r\u001b[K     |███████▉                        | 829kB 16.1MB/s eta 0:00:01\r\u001b[K     |████████                        | 839kB 16.1MB/s eta 0:00:01\r\u001b[K     |████████                        | 849kB 16.1MB/s eta 0:00:01\r\u001b[K     |████████▏                       | 860kB 16.1MB/s eta 0:00:01\r\u001b[K     |████████▎                       | 870kB 16.1MB/s eta 0:00:01\r\u001b[K     |████████▍                       | 880kB 16.1MB/s eta 0:00:01\r\u001b[K     |████████▌                       | 890kB 16.1MB/s eta 0:00:01\r\u001b[K     |████████▋                       | 901kB 16.1MB/s eta 0:00:01\r\u001b[K     |████████▋                       | 911kB 16.1MB/s eta 0:00:01\r\u001b[K     |████████▊                       | 921kB 16.1MB/s eta 0:00:01\r\u001b[K     |████████▉                       | 931kB 16.1MB/s eta 0:00:01\r\u001b[K     |█████████                       | 942kB 16.1MB/s eta 0:00:01\r\u001b[K     |█████████                       | 952kB 16.1MB/s eta 0:00:01\r\u001b[K     |█████████▏                      | 962kB 16.1MB/s eta 0:00:01\r\u001b[K     |█████████▎                      | 972kB 16.1MB/s eta 0:00:01\r\u001b[K     |█████████▍                      | 983kB 16.1MB/s eta 0:00:01\r\u001b[K     |█████████▌                      | 993kB 16.1MB/s eta 0:00:01\r\u001b[K     |█████████▌                      | 1.0MB 16.1MB/s eta 0:00:01\r\u001b[K     |█████████▋                      | 1.0MB 16.1MB/s eta 0:00:01\r\u001b[K     |█████████▊                      | 1.0MB 16.1MB/s eta 0:00:01\r\u001b[K     |█████████▉                      | 1.0MB 16.1MB/s eta 0:00:01\r\u001b[K     |██████████                      | 1.0MB 16.1MB/s eta 0:00:01\r\u001b[K     |██████████                      | 1.1MB 16.1MB/s eta 0:00:01\r\u001b[K     |██████████▏                     | 1.1MB 16.1MB/s eta 0:00:01\r\u001b[K     |██████████▎                     | 1.1MB 16.1MB/s eta 0:00:01\r\u001b[K     |██████████▎                     | 1.1MB 16.1MB/s eta 0:00:01\r\u001b[K     |██████████▍                     | 1.1MB 16.1MB/s eta 0:00:01\r\u001b[K     |██████████▌                     | 1.1MB 16.1MB/s eta 0:00:01\r\u001b[K     |██████████▋                     | 1.1MB 16.1MB/s eta 0:00:01\r\u001b[K     |██████████▊                     | 1.1MB 16.1MB/s eta 0:00:01\r\u001b[K     |██████████▉                     | 1.1MB 16.1MB/s eta 0:00:01\r\u001b[K     |███████████                     | 1.1MB 16.1MB/s eta 0:00:01\r\u001b[K     |███████████                     | 1.2MB 16.1MB/s eta 0:00:01\r\u001b[K     |███████████                     | 1.2MB 16.1MB/s eta 0:00:01\r\u001b[K     |███████████▏                    | 1.2MB 16.1MB/s eta 0:00:01\r\u001b[K     |███████████▎                    | 1.2MB 16.1MB/s eta 0:00:01\r\u001b[K     |███████████▍                    | 1.2MB 16.1MB/s eta 0:00:01\r\u001b[K     |███████████▌                    | 1.2MB 16.1MB/s eta 0:00:01\r\u001b[K     |███████████▋                    | 1.2MB 16.1MB/s eta 0:00:01\r\u001b[K     |███████████▊                    | 1.2MB 16.1MB/s eta 0:00:01\r\u001b[K     |███████████▉                    | 1.2MB 16.1MB/s eta 0:00:01\r\u001b[K     |███████████▉                    | 1.2MB 16.1MB/s eta 0:00:01\r\u001b[K     |████████████                    | 1.3MB 16.1MB/s eta 0:00:01\r\u001b[K     |████████████                    | 1.3MB 16.1MB/s eta 0:00:01\r\u001b[K     |████████████▏                   | 1.3MB 16.1MB/s eta 0:00:01\r\u001b[K     |████████████▎                   | 1.3MB 16.1MB/s eta 0:00:01\r\u001b[K     |████████████▍                   | 1.3MB 16.1MB/s eta 0:00:01\r\u001b[K     |████████████▌                   | 1.3MB 16.1MB/s eta 0:00:01\r\u001b[K     |████████████▋                   | 1.3MB 16.1MB/s eta 0:00:01\r\u001b[K     |████████████▋                   | 1.3MB 16.1MB/s eta 0:00:01\r\u001b[K     |████████████▊                   | 1.3MB 16.1MB/s eta 0:00:01\r\u001b[K     |████████████▉                   | 1.4MB 16.1MB/s eta 0:00:01\r\u001b[K     |█████████████                   | 1.4MB 16.1MB/s eta 0:00:01\r\u001b[K     |█████████████                   | 1.4MB 16.1MB/s eta 0:00:01\r\u001b[K     |█████████████▏                  | 1.4MB 16.1MB/s eta 0:00:01\r\u001b[K     |█████████████▎                  | 1.4MB 16.1MB/s eta 0:00:01\r\u001b[K     |█████████████▍                  | 1.4MB 16.1MB/s eta 0:00:01\r\u001b[K     |█████████████▍                  | 1.4MB 16.1MB/s eta 0:00:01\r\u001b[K     |█████████████▌                  | 1.4MB 16.1MB/s eta 0:00:01\r\u001b[K     |█████████████▋                  | 1.4MB 16.1MB/s eta 0:00:01\r\u001b[K     |█████████████▊                  | 1.4MB 16.1MB/s eta 0:00:01\r\u001b[K     |█████████████▉                  | 1.5MB 16.1MB/s eta 0:00:01\r\u001b[K     |██████████████                  | 1.5MB 16.1MB/s eta 0:00:01\r\u001b[K     |██████████████                  | 1.5MB 16.1MB/s eta 0:00:01\r\u001b[K     |██████████████▏                 | 1.5MB 16.1MB/s eta 0:00:01\r\u001b[K     |██████████████▏                 | 1.5MB 16.1MB/s eta 0:00:01\r\u001b[K     |██████████████▎                 | 1.5MB 16.1MB/s eta 0:00:01\r\u001b[K     |██████████████▍                 | 1.5MB 16.1MB/s eta 0:00:01\r\u001b[K     |██████████████▌                 | 1.5MB 16.1MB/s eta 0:00:01\r\u001b[K     |██████████████▋                 | 1.5MB 16.1MB/s eta 0:00:01\r\u001b[K     |██████████████▊                 | 1.5MB 16.1MB/s eta 0:00:01\r\u001b[K     |██████████████▉                 | 1.6MB 16.1MB/s eta 0:00:01\r\u001b[K     |███████████████                 | 1.6MB 16.1MB/s eta 0:00:01\r\u001b[K     |███████████████                 | 1.6MB 16.1MB/s eta 0:00:01\r\u001b[K     |███████████████                 | 1.6MB 16.1MB/s eta 0:00:01\r\u001b[K     |███████████████▏                | 1.6MB 16.1MB/s eta 0:00:01\r\u001b[K     |███████████████▎                | 1.6MB 16.1MB/s eta 0:00:01\r\u001b[K     |███████████████▍                | 1.6MB 16.1MB/s eta 0:00:01\r\u001b[K     |███████████████▌                | 1.6MB 16.1MB/s eta 0:00:01\r\u001b[K     |███████████████▋                | 1.6MB 16.1MB/s eta 0:00:01\r\u001b[K     |███████████████▊                | 1.6MB 16.1MB/s eta 0:00:01\r\u001b[K     |███████████████▊                | 1.7MB 16.1MB/s eta 0:00:01\r\u001b[K     |███████████████▉                | 1.7MB 16.1MB/s eta 0:00:01\r\u001b[K     |████████████████                | 1.7MB 16.1MB/s eta 0:00:01\r\u001b[K     |████████████████                | 1.7MB 16.1MB/s eta 0:00:01\r\u001b[K     |████████████████▏               | 1.7MB 16.1MB/s eta 0:00:01\r\u001b[K     |████████████████▎               | 1.7MB 16.1MB/s eta 0:00:01\r\u001b[K     |████████████████▍               | 1.7MB 16.1MB/s eta 0:00:01\r\u001b[K     |████████████████▌               | 1.7MB 16.1MB/s eta 0:00:01\r\u001b[K     |████████████████▌               | 1.7MB 16.1MB/s eta 0:00:01\r\u001b[K     |████████████████▋               | 1.8MB 16.1MB/s eta 0:00:01\r\u001b[K     |████████████████▊               | 1.8MB 16.1MB/s eta 0:00:01\r\u001b[K     |████████████████▉               | 1.8MB 16.1MB/s eta 0:00:01\r\u001b[K     |█████████████████               | 1.8MB 16.1MB/s eta 0:00:01\r\u001b[K     |█████████████████               | 1.8MB 16.1MB/s eta 0:00:01\r\u001b[K     |█████████████████▏              | 1.8MB 16.1MB/s eta 0:00:01\r\u001b[K     |█████████████████▎              | 1.8MB 16.1MB/s eta 0:00:01\r\u001b[K     |█████████████████▎              | 1.8MB 16.1MB/s eta 0:00:01\r\u001b[K     |█████████████████▍              | 1.8MB 16.1MB/s eta 0:00:01\r\u001b[K     |█████████████████▌              | 1.8MB 16.1MB/s eta 0:00:01\r\u001b[K     |█████████████████▋              | 1.9MB 16.1MB/s eta 0:00:01\r\u001b[K     |█████████████████▊              | 1.9MB 16.1MB/s eta 0:00:01\r\u001b[K     |█████████████████▉              | 1.9MB 16.1MB/s eta 0:00:01\r\u001b[K     |██████████████████              | 1.9MB 16.1MB/s eta 0:00:01\r\u001b[K     |██████████████████              | 1.9MB 16.1MB/s eta 0:00:01\r\u001b[K     |██████████████████              | 1.9MB 16.1MB/s eta 0:00:01\r\u001b[K     |██████████████████▏             | 1.9MB 16.1MB/s eta 0:00:01\r\u001b[K     |██████████████████▎             | 1.9MB 16.1MB/s eta 0:00:01\r\u001b[K     |██████████████████▍             | 1.9MB 16.1MB/s eta 0:00:01\r\u001b[K     |██████████████████▌             | 1.9MB 16.1MB/s eta 0:00:01\r\u001b[K     |██████████████████▋             | 2.0MB 16.1MB/s eta 0:00:01\r\u001b[K     |██████████████████▊             | 2.0MB 16.1MB/s eta 0:00:01\r\u001b[K     |██████████████████▉             | 2.0MB 16.1MB/s eta 0:00:01\r\u001b[K     |███████████████████             | 2.0MB 16.1MB/s eta 0:00:01\r\u001b[K     |███████████████████             | 2.0MB 16.1MB/s eta 0:00:01\r\u001b[K     |███████████████████             | 2.0MB 16.1MB/s eta 0:00:01\r\u001b[K     |███████████████████▏            | 2.0MB 16.1MB/s eta 0:00:01\r\u001b[K     |███████████████████▎            | 2.0MB 16.1MB/s eta 0:00:01\r\u001b[K     |███████████████████▍            | 2.0MB 16.1MB/s eta 0:00:01\r\u001b[K     |███████████████████▌            | 2.0MB 16.1MB/s eta 0:00:01\r\u001b[K     |███████████████████▋            | 2.1MB 16.1MB/s eta 0:00:01\r\u001b[K     |███████████████████▊            | 2.1MB 16.1MB/s eta 0:00:01\r\u001b[K     |███████████████████▊            | 2.1MB 16.1MB/s eta 0:00:01\r\u001b[K     |███████████████████▉            | 2.1MB 16.1MB/s eta 0:00:01\r\u001b[K     |████████████████████            | 2.1MB 16.1MB/s eta 0:00:01\r\u001b[K     |████████████████████            | 2.1MB 16.1MB/s eta 0:00:01\r\u001b[K     |████████████████████▏           | 2.1MB 16.1MB/s eta 0:00:01\r\u001b[K     |████████████████████▎           | 2.1MB 16.1MB/s eta 0:00:01\r\u001b[K     |████████████████████▍           | 2.1MB 16.1MB/s eta 0:00:01\r\u001b[K     |████████████████████▌           | 2.2MB 16.1MB/s eta 0:00:01\r\u001b[K     |████████████████████▌           | 2.2MB 16.1MB/s eta 0:00:01\r\u001b[K     |████████████████████▋           | 2.2MB 16.1MB/s eta 0:00:01\r\u001b[K     |████████████████████▊           | 2.2MB 16.1MB/s eta 0:00:01\r\u001b[K     |████████████████████▉           | 2.2MB 16.1MB/s eta 0:00:01\r\u001b[K     |█████████████████████           | 2.2MB 16.1MB/s eta 0:00:01\r\u001b[K     |█████████████████████           | 2.2MB 16.1MB/s eta 0:00:01\r\u001b[K     |█████████████████████▏          | 2.2MB 16.1MB/s eta 0:00:01\r\u001b[K     |█████████████████████▎          | 2.2MB 16.1MB/s eta 0:00:01\r\u001b[K     |█████████████████████▎          | 2.2MB 16.1MB/s eta 0:00:01\r\u001b[K     |█████████████████████▍          | 2.3MB 16.1MB/s eta 0:00:01\r\u001b[K     |█████████████████████▌          | 2.3MB 16.1MB/s eta 0:00:01\r\u001b[K     |█████████████████████▋          | 2.3MB 16.1MB/s eta 0:00:01\r\u001b[K     |█████████████████████▊          | 2.3MB 16.1MB/s eta 0:00:01\r\u001b[K     |█████████████████████▉          | 2.3MB 16.1MB/s eta 0:00:01\r\u001b[K     |██████████████████████          | 2.3MB 16.1MB/s eta 0:00:01\r\u001b[K     |██████████████████████          | 2.3MB 16.1MB/s eta 0:00:01\r\u001b[K     |██████████████████████          | 2.3MB 16.1MB/s eta 0:00:01\r\u001b[K     |██████████████████████▏         | 2.3MB 16.1MB/s eta 0:00:01\r\u001b[K     |██████████████████████▎         | 2.3MB 16.1MB/s eta 0:00:01\r\u001b[K     |██████████████████████▍         | 2.4MB 16.1MB/s eta 0:00:01\r\u001b[K     |██████████████████████▌         | 2.4MB 16.1MB/s eta 0:00:01\r\u001b[K     |██████████████████████▋         | 2.4MB 16.1MB/s eta 0:00:01\r\u001b[K     |██████████████████████▊         | 2.4MB 16.1MB/s eta 0:00:01\r\u001b[K     |██████████████████████▉         | 2.4MB 16.1MB/s eta 0:00:01\r\u001b[K     |██████████████████████▉         | 2.4MB 16.1MB/s eta 0:00:01\r\u001b[K     |███████████████████████         | 2.4MB 16.1MB/s eta 0:00:01\r\u001b[K     |███████████████████████         | 2.4MB 16.1MB/s eta 0:00:01\r\u001b[K     |███████████████████████▏        | 2.4MB 16.1MB/s eta 0:00:01\r\u001b[K     |███████████████████████▎        | 2.4MB 16.1MB/s eta 0:00:01\r\u001b[K     |███████████████████████▍        | 2.5MB 16.1MB/s eta 0:00:01\r\u001b[K     |███████████████████████▌        | 2.5MB 16.1MB/s eta 0:00:01\r\u001b[K     |███████████████████████▋        | 2.5MB 16.1MB/s eta 0:00:01\r\u001b[K     |███████████████████████▋        | 2.5MB 16.1MB/s eta 0:00:01\r\u001b[K     |███████████████████████▊        | 2.5MB 16.1MB/s eta 0:00:01\r\u001b[K     |███████████████████████▉        | 2.5MB 16.1MB/s eta 0:00:01\r\u001b[K     |████████████████████████        | 2.5MB 16.1MB/s eta 0:00:01\r\u001b[K     |████████████████████████        | 2.5MB 16.1MB/s eta 0:00:01\r\u001b[K     |████████████████████████▏       | 2.5MB 16.1MB/s eta 0:00:01\r\u001b[K     |████████████████████████▎       | 2.5MB 16.1MB/s eta 0:00:01\r\u001b[K     |████████████████████████▍       | 2.6MB 16.1MB/s eta 0:00:01\r\u001b[K     |████████████████████████▍       | 2.6MB 16.1MB/s eta 0:00:01\r\u001b[K     |████████████████████████▌       | 2.6MB 16.1MB/s eta 0:00:01\r\u001b[K     |████████████████████████▋       | 2.6MB 16.1MB/s eta 0:00:01\r\u001b[K     |████████████████████████▊       | 2.6MB 16.1MB/s eta 0:00:01\r\u001b[K     |████████████████████████▉       | 2.6MB 16.1MB/s eta 0:00:01\r\u001b[K     |█████████████████████████       | 2.6MB 16.1MB/s eta 0:00:01\r\u001b[K     |█████████████████████████       | 2.6MB 16.1MB/s eta 0:00:01\r\u001b[K     |█████████████████████████▏      | 2.6MB 16.1MB/s eta 0:00:01\r\u001b[K     |█████████████████████████▏      | 2.7MB 16.1MB/s eta 0:00:01\r\u001b[K     |█████████████████████████▎      | 2.7MB 16.1MB/s eta 0:00:01\r\u001b[K     |█████████████████████████▍      | 2.7MB 16.1MB/s eta 0:00:01\r\u001b[K     |█████████████████████████▌      | 2.7MB 16.1MB/s eta 0:00:01\r\u001b[K     |█████████████████████████▋      | 2.7MB 16.1MB/s eta 0:00:01\r\u001b[K     |█████████████████████████▊      | 2.7MB 16.1MB/s eta 0:00:01\r\u001b[K     |█████████████████████████▉      | 2.7MB 16.1MB/s eta 0:00:01\r\u001b[K     |██████████████████████████      | 2.7MB 16.1MB/s eta 0:00:01\r\u001b[K     |██████████████████████████      | 2.7MB 16.1MB/s eta 0:00:01\r\u001b[K     |██████████████████████████      | 2.7MB 16.1MB/s eta 0:00:01\r\u001b[K     |██████████████████████████▏     | 2.8MB 16.1MB/s eta 0:00:01\r\u001b[K     |██████████████████████████▎     | 2.8MB 16.1MB/s eta 0:00:01\r\u001b[K     |██████████████████████████▍     | 2.8MB 16.1MB/s eta 0:00:01\r\u001b[K     |██████████████████████████▌     | 2.8MB 16.1MB/s eta 0:00:01\r\u001b[K     |██████████████████████████▋     | 2.8MB 16.1MB/s eta 0:00:01\r\u001b[K     |██████████████████████████▊     | 2.8MB 16.1MB/s eta 0:00:01\r\u001b[K     |██████████████████████████▊     | 2.8MB 16.1MB/s eta 0:00:01\r\u001b[K     |██████████████████████████▉     | 2.8MB 16.1MB/s eta 0:00:01\r\u001b[K     |███████████████████████████     | 2.8MB 16.1MB/s eta 0:00:01\r\u001b[K     |███████████████████████████     | 2.8MB 16.1MB/s eta 0:00:01\r\u001b[K     |███████████████████████████▏    | 2.9MB 16.1MB/s eta 0:00:01\r\u001b[K     |███████████████████████████▎    | 2.9MB 16.1MB/s eta 0:00:01\r\u001b[K     |███████████████████████████▍    | 2.9MB 16.1MB/s eta 0:00:01\r\u001b[K     |███████████████████████████▌    | 2.9MB 16.1MB/s eta 0:00:01\r\u001b[K     |███████████████████████████▌    | 2.9MB 16.1MB/s eta 0:00:01\r\u001b[K     |███████████████████████████▋    | 2.9MB 16.1MB/s eta 0:00:01\r\u001b[K     |███████████████████████████▊    | 2.9MB 16.1MB/s eta 0:00:01\r\u001b[K     |███████████████████████████▉    | 2.9MB 16.1MB/s eta 0:00:01\r\u001b[K     |████████████████████████████    | 2.9MB 16.1MB/s eta 0:00:01\r\u001b[K     |████████████████████████████    | 2.9MB 16.1MB/s eta 0:00:01\r\u001b[K     |████████████████████████████▏   | 3.0MB 16.1MB/s eta 0:00:01\r\u001b[K     |████████████████████████████▎   | 3.0MB 16.1MB/s eta 0:00:01\r\u001b[K     |████████████████████████████▍   | 3.0MB 16.1MB/s eta 0:00:01\r\u001b[K     |████████████████████████████▍   | 3.0MB 16.1MB/s eta 0:00:01\r\u001b[K     |████████████████████████████▌   | 3.0MB 16.1MB/s eta 0:00:01\r\u001b[K     |████████████████████████████▋   | 3.0MB 16.1MB/s eta 0:00:01\r\u001b[K     |████████████████████████████▊   | 3.0MB 16.1MB/s eta 0:00:01\r\u001b[K     |████████████████████████████▉   | 3.0MB 16.1MB/s eta 0:00:01\r\u001b[K     |█████████████████████████████   | 3.0MB 16.1MB/s eta 0:00:01\r\u001b[K     |█████████████████████████████   | 3.1MB 16.1MB/s eta 0:00:01\r\u001b[K     |█████████████████████████████▏  | 3.1MB 16.1MB/s eta 0:00:01\r\u001b[K     |█████████████████████████████▏  | 3.1MB 16.1MB/s eta 0:00:01\r\u001b[K     |█████████████████████████████▎  | 3.1MB 16.1MB/s eta 0:00:01\r\u001b[K     |█████████████████████████████▍  | 3.1MB 16.1MB/s eta 0:00:01\r\u001b[K     |█████████████████████████████▌  | 3.1MB 16.1MB/s eta 0:00:01\r\u001b[K     |█████████████████████████████▋  | 3.1MB 16.1MB/s eta 0:00:01\r\u001b[K     |█████████████████████████████▊  | 3.1MB 16.1MB/s eta 0:00:01\r\u001b[K     |█████████████████████████████▉  | 3.1MB 16.1MB/s eta 0:00:01\r\u001b[K     |██████████████████████████████  | 3.1MB 16.1MB/s eta 0:00:01\r\u001b[K     |██████████████████████████████  | 3.2MB 16.1MB/s eta 0:00:01\r\u001b[K     |██████████████████████████████  | 3.2MB 16.1MB/s eta 0:00:01\r\u001b[K     |██████████████████████████████▏ | 3.2MB 16.1MB/s eta 0:00:01\r\u001b[K     |██████████████████████████████▎ | 3.2MB 16.1MB/s eta 0:00:01\r\u001b[K     |██████████████████████████████▍ | 3.2MB 16.1MB/s eta 0:00:01\r\u001b[K     |██████████████████████████████▌ | 3.2MB 16.1MB/s eta 0:00:01\r\u001b[K     |██████████████████████████████▋ | 3.2MB 16.1MB/s eta 0:00:01\r\u001b[K     |██████████████████████████████▊ | 3.2MB 16.1MB/s eta 0:00:01\r\u001b[K     |██████████████████████████████▊ | 3.2MB 16.1MB/s eta 0:00:01\r\u001b[K     |██████████████████████████████▉ | 3.2MB 16.1MB/s eta 0:00:01\r\u001b[K     |███████████████████████████████ | 3.3MB 16.1MB/s eta 0:00:01\r\u001b[K     |███████████████████████████████ | 3.3MB 16.1MB/s eta 0:00:01\r\u001b[K     |███████████████████████████████▏| 3.3MB 16.1MB/s eta 0:00:01\r\u001b[K     |███████████████████████████████▎| 3.3MB 16.1MB/s eta 0:00:01\r\u001b[K     |███████████████████████████████▍| 3.3MB 16.1MB/s eta 0:00:01\r\u001b[K     |███████████████████████████████▌| 3.3MB 16.1MB/s eta 0:00:01\r\u001b[K     |███████████████████████████████▌| 3.3MB 16.1MB/s eta 0:00:01\r\u001b[K     |███████████████████████████████▋| 3.3MB 16.1MB/s eta 0:00:01\r\u001b[K     |███████████████████████████████▊| 3.3MB 16.1MB/s eta 0:00:01\r\u001b[K     |███████████████████████████████▉| 3.3MB 16.1MB/s eta 0:00:01\r\u001b[K     |████████████████████████████████| 3.4MB 16.1MB/s eta 0:00:01\r\u001b[K     |████████████████████████████████| 3.4MB 16.1MB/s \n",
            "\u001b[?25h"
          ],
          "name": "stdout"
        }
      ]
    },
    {
      "cell_type": "code",
      "metadata": {
        "id": "Mp0BcKEXgbUy"
      },
      "source": [
        "import tensorflow_hub as hub\r\n",
        "def build_classifier_model():\r\n",
        "  text_input = tf.keras.layers.Input(shape=(), dtype=tf.string, name='text')\r\n",
        "  preprocessing_layer = make_bert_preprocess_model(['my_input1'], 256)\r\n",
        "  encoder_inputs = preprocessing_layer(text_input)\r\n",
        "  encoder = hub.KerasLayer(tfhub_handle_encoder, trainable=True, name='BERT_encoder')\r\n",
        "  outputs = encoder(encoder_inputs)\r\n",
        "  net = outputs['pooled_output']\r\n",
        "  net = tf.keras.layers.Dropout(0.1)(net)\r\n",
        "  net = tf.keras.layers.Dense(27, activation=None, name='classifier')(net)\r\n",
        "  return tf.keras.Model(text_input, net)"
      ],
      "execution_count": null,
      "outputs": []
    },
    {
      "cell_type": "code",
      "metadata": {
        "id": "Js1546GjoWCM"
      },
      "source": [
        "def make_bert_preprocess_model(sentence_features, seq_length=128):\r\n",
        "  \"\"\"Returns Model mapping string features to BERT inputs.\r\n",
        "\r\n",
        "  Args:\r\n",
        "    sentence_features: a list with the names of string-valued features.\r\n",
        "    seq_length: an integer that defines the sequence length of BERT inputs.\r\n",
        "\r\n",
        "  Returns:\r\n",
        "    A Keras Model that can be called on a list or dict of string Tensors\r\n",
        "    (with the order or names, resp., given by sentence_features) and\r\n",
        "    returns a dict of tensors for input to BERT.\r\n",
        "  \"\"\"\r\n",
        "\r\n",
        "  input_segments = [\r\n",
        "      tf.keras.layers.Input(shape=(), dtype=tf.string, name=ft)\r\n",
        "      for ft in sentence_features]\r\n",
        "\r\n",
        "  # Tokenize the text to word pieces.\r\n",
        "  bert_preprocess = hub.load(tfhub_handle_preprocess)\r\n",
        "  tokenizer = hub.KerasLayer(bert_preprocess.tokenize, name='tokenizer')\r\n",
        "  segments = [tokenizer(s) for s in input_segments]\r\n",
        "\r\n",
        "  # Optional: Trim segments in a smart way to fit seq_length.\r\n",
        "  # Simple cases (like this example) can skip this step and let\r\n",
        "  # the next step apply a default truncation to approximately equal lengths.\r\n",
        "  truncated_segments = segments\r\n",
        "\r\n",
        "  # Pack inputs. The details (start/end token ids, dict of output tensors)\r\n",
        "  # are model-dependent, so this gets loaded from the SavedModel.\r\n",
        "  packer = hub.KerasLayer(bert_preprocess.bert_pack_inputs,\r\n",
        "                          arguments=dict(seq_length=seq_length),\r\n",
        "                          #output_shape=[seq_length],\r\n",
        "                          name='packer')\r\n",
        "  model_inputs = packer(truncated_segments)\r\n",
        "  return tf.keras.Model(input_segments, model_inputs)"
      ],
      "execution_count": null,
      "outputs": []
    },
    {
      "cell_type": "code",
      "metadata": {
        "id": "ZBgbaKNrgdWX"
      },
      "source": [
        "classifier_model = build_classifier_model()\r\n",
        "bert_raw_result = classifier_model(tf.constant(text_test))\r\n",
        "print(tf.sigmoid(bert_raw_result))"
      ],
      "execution_count": null,
      "outputs": []
    },
    {
      "cell_type": "code",
      "metadata": {
        "id": "4u8CDAy1gh3z"
      },
      "source": [
        "tf.keras.utils.plot_model(classifier_model)"
      ],
      "execution_count": null,
      "outputs": []
    },
    {
      "cell_type": "code",
      "metadata": {
        "id": "IthXEeAAgmd-"
      },
      "source": [
        "loss = tf.keras.losses.SparseCategoricalCrossentropy(from_logits=True)\r\n",
        "metrics = tf.keras.metrics.SparseCategoricalAccuracy(\r\n",
        "        'accuracy', dtype=tf.float32)"
      ],
      "execution_count": null,
      "outputs": []
    },
    {
      "cell_type": "code",
      "metadata": {
        "id": "w8VKlEGggrjY"
      },
      "source": [
        "classifier_model.compile(optimizer=optimizer,\r\n",
        "                         loss=loss,\r\n",
        "                         metrics=metrics)"
      ],
      "execution_count": null,
      "outputs": []
    },
    {
      "cell_type": "code",
      "metadata": {
        "id": "N44J1_a2g-0a",
        "colab": {
          "base_uri": "https://localhost:8080/"
        },
        "outputId": "ddc65e43-aa74-4319-9f70-3094c8d0b7b5"
      },
      "source": [
        "label_name=df_train['GENRE'].unique()\r\n",
        "label_name"
      ],
      "execution_count": null,
      "outputs": [
        {
          "output_type": "execute_result",
          "data": {
            "text/plain": [
              "array(['drama', 'thriller', 'adult', 'documentary', 'comedy', 'crime',\n",
              "       'reality-tv', 'horror', 'sport', 'animation', 'action', 'fantasy',\n",
              "       'short', 'sci-fi', 'music', 'adventure', 'talk-show', 'western',\n",
              "       'family', 'mystery', 'history', 'news', 'biography', 'romance',\n",
              "       'game-show', 'musical', 'war'], dtype=object)"
            ]
          },
          "metadata": {
            "tags": []
          },
          "execution_count": 11
        }
      ]
    },
    {
      "cell_type": "code",
      "metadata": {
        "colab": {
          "base_uri": "https://localhost:8080/"
        },
        "id": "bdsuDrSInuNq",
        "outputId": "b1a7480b-1ef8-40e4-a281-88dd329d31e2"
      },
      "source": [
        "label_name=df_train_lite['GENRE'].unique()\r\n",
        "label_name"
      ],
      "execution_count": null,
      "outputs": [
        {
          "output_type": "execute_result",
          "data": {
            "text/plain": [
              "array(['adult', 'crime', 'reality-tv', 'sport', 'animation', 'action',\n",
              "       'fantasy', 'sci-fi', 'music', 'adventure', 'talk-show', 'western',\n",
              "       'family', 'mystery', 'history', 'news', 'biography', 'romance',\n",
              "       'game-show', 'musical', 'war'], dtype=object)"
            ]
          },
          "metadata": {
            "tags": []
          },
          "execution_count": 18
        }
      ]
    },
    {
      "cell_type": "code",
      "metadata": {
        "colab": {
          "base_uri": "https://localhost:8080/",
          "height": 886
        },
        "id": "4moH2iJ1iBs5",
        "outputId": "05c37a9c-039f-45f9-80de-ea4ec040dabc"
      },
      "source": [
        "genre_count=df_train.groupby(['GENRE']).count().reset_index()\r\n",
        "genre_count.sort_values('ID',ascending=False)"
      ],
      "execution_count": null,
      "outputs": [
        {
          "output_type": "execute_result",
          "data": {
            "text/html": [
              "<div>\n",
              "<style scoped>\n",
              "    .dataframe tbody tr th:only-of-type {\n",
              "        vertical-align: middle;\n",
              "    }\n",
              "\n",
              "    .dataframe tbody tr th {\n",
              "        vertical-align: top;\n",
              "    }\n",
              "\n",
              "    .dataframe thead th {\n",
              "        text-align: right;\n",
              "    }\n",
              "</style>\n",
              "<table border=\"1\" class=\"dataframe\">\n",
              "  <thead>\n",
              "    <tr style=\"text-align: right;\">\n",
              "      <th></th>\n",
              "      <th>GENRE</th>\n",
              "      <th>ID</th>\n",
              "      <th>TITLE</th>\n",
              "      <th>DESCRIPTION</th>\n",
              "    </tr>\n",
              "  </thead>\n",
              "  <tbody>\n",
              "    <tr>\n",
              "      <th>8</th>\n",
              "      <td>drama</td>\n",
              "      <td>13613</td>\n",
              "      <td>13613</td>\n",
              "      <td>13613</td>\n",
              "    </tr>\n",
              "    <tr>\n",
              "      <th>7</th>\n",
              "      <td>documentary</td>\n",
              "      <td>13096</td>\n",
              "      <td>13096</td>\n",
              "      <td>13096</td>\n",
              "    </tr>\n",
              "    <tr>\n",
              "      <th>5</th>\n",
              "      <td>comedy</td>\n",
              "      <td>7447</td>\n",
              "      <td>7447</td>\n",
              "      <td>7447</td>\n",
              "    </tr>\n",
              "    <tr>\n",
              "      <th>21</th>\n",
              "      <td>short</td>\n",
              "      <td>5073</td>\n",
              "      <td>5073</td>\n",
              "      <td>5073</td>\n",
              "    </tr>\n",
              "    <tr>\n",
              "      <th>13</th>\n",
              "      <td>horror</td>\n",
              "      <td>2204</td>\n",
              "      <td>2204</td>\n",
              "      <td>2204</td>\n",
              "    </tr>\n",
              "    <tr>\n",
              "      <th>24</th>\n",
              "      <td>thriller</td>\n",
              "      <td>1591</td>\n",
              "      <td>1591</td>\n",
              "      <td>1591</td>\n",
              "    </tr>\n",
              "    <tr>\n",
              "      <th>0</th>\n",
              "      <td>action</td>\n",
              "      <td>1315</td>\n",
              "      <td>1315</td>\n",
              "      <td>1315</td>\n",
              "    </tr>\n",
              "    <tr>\n",
              "      <th>26</th>\n",
              "      <td>western</td>\n",
              "      <td>1032</td>\n",
              "      <td>1032</td>\n",
              "      <td>1032</td>\n",
              "    </tr>\n",
              "    <tr>\n",
              "      <th>18</th>\n",
              "      <td>reality-tv</td>\n",
              "      <td>884</td>\n",
              "      <td>884</td>\n",
              "      <td>884</td>\n",
              "    </tr>\n",
              "    <tr>\n",
              "      <th>9</th>\n",
              "      <td>family</td>\n",
              "      <td>784</td>\n",
              "      <td>784</td>\n",
              "      <td>784</td>\n",
              "    </tr>\n",
              "    <tr>\n",
              "      <th>2</th>\n",
              "      <td>adventure</td>\n",
              "      <td>775</td>\n",
              "      <td>775</td>\n",
              "      <td>775</td>\n",
              "    </tr>\n",
              "    <tr>\n",
              "      <th>14</th>\n",
              "      <td>music</td>\n",
              "      <td>731</td>\n",
              "      <td>731</td>\n",
              "      <td>731</td>\n",
              "    </tr>\n",
              "    <tr>\n",
              "      <th>19</th>\n",
              "      <td>romance</td>\n",
              "      <td>672</td>\n",
              "      <td>672</td>\n",
              "      <td>672</td>\n",
              "    </tr>\n",
              "    <tr>\n",
              "      <th>20</th>\n",
              "      <td>sci-fi</td>\n",
              "      <td>647</td>\n",
              "      <td>647</td>\n",
              "      <td>647</td>\n",
              "    </tr>\n",
              "    <tr>\n",
              "      <th>1</th>\n",
              "      <td>adult</td>\n",
              "      <td>590</td>\n",
              "      <td>590</td>\n",
              "      <td>590</td>\n",
              "    </tr>\n",
              "    <tr>\n",
              "      <th>6</th>\n",
              "      <td>crime</td>\n",
              "      <td>505</td>\n",
              "      <td>505</td>\n",
              "      <td>505</td>\n",
              "    </tr>\n",
              "    <tr>\n",
              "      <th>3</th>\n",
              "      <td>animation</td>\n",
              "      <td>498</td>\n",
              "      <td>498</td>\n",
              "      <td>498</td>\n",
              "    </tr>\n",
              "    <tr>\n",
              "      <th>22</th>\n",
              "      <td>sport</td>\n",
              "      <td>432</td>\n",
              "      <td>432</td>\n",
              "      <td>432</td>\n",
              "    </tr>\n",
              "    <tr>\n",
              "      <th>23</th>\n",
              "      <td>talk-show</td>\n",
              "      <td>391</td>\n",
              "      <td>391</td>\n",
              "      <td>391</td>\n",
              "    </tr>\n",
              "    <tr>\n",
              "      <th>10</th>\n",
              "      <td>fantasy</td>\n",
              "      <td>323</td>\n",
              "      <td>323</td>\n",
              "      <td>323</td>\n",
              "    </tr>\n",
              "    <tr>\n",
              "      <th>16</th>\n",
              "      <td>mystery</td>\n",
              "      <td>319</td>\n",
              "      <td>319</td>\n",
              "      <td>319</td>\n",
              "    </tr>\n",
              "    <tr>\n",
              "      <th>15</th>\n",
              "      <td>musical</td>\n",
              "      <td>277</td>\n",
              "      <td>277</td>\n",
              "      <td>277</td>\n",
              "    </tr>\n",
              "    <tr>\n",
              "      <th>4</th>\n",
              "      <td>biography</td>\n",
              "      <td>265</td>\n",
              "      <td>265</td>\n",
              "      <td>265</td>\n",
              "    </tr>\n",
              "    <tr>\n",
              "      <th>12</th>\n",
              "      <td>history</td>\n",
              "      <td>243</td>\n",
              "      <td>243</td>\n",
              "      <td>243</td>\n",
              "    </tr>\n",
              "    <tr>\n",
              "      <th>11</th>\n",
              "      <td>game-show</td>\n",
              "      <td>194</td>\n",
              "      <td>194</td>\n",
              "      <td>194</td>\n",
              "    </tr>\n",
              "    <tr>\n",
              "      <th>17</th>\n",
              "      <td>news</td>\n",
              "      <td>181</td>\n",
              "      <td>181</td>\n",
              "      <td>181</td>\n",
              "    </tr>\n",
              "    <tr>\n",
              "      <th>25</th>\n",
              "      <td>war</td>\n",
              "      <td>132</td>\n",
              "      <td>132</td>\n",
              "      <td>132</td>\n",
              "    </tr>\n",
              "  </tbody>\n",
              "</table>\n",
              "</div>"
            ],
            "text/plain": [
              "          GENRE     ID  TITLE  DESCRIPTION\n",
              "8         drama  13613  13613        13613\n",
              "7   documentary  13096  13096        13096\n",
              "5        comedy   7447   7447         7447\n",
              "21        short   5073   5073         5073\n",
              "13       horror   2204   2204         2204\n",
              "24     thriller   1591   1591         1591\n",
              "0        action   1315   1315         1315\n",
              "26      western   1032   1032         1032\n",
              "18   reality-tv    884    884          884\n",
              "9        family    784    784          784\n",
              "2     adventure    775    775          775\n",
              "14        music    731    731          731\n",
              "19      romance    672    672          672\n",
              "20       sci-fi    647    647          647\n",
              "1         adult    590    590          590\n",
              "6         crime    505    505          505\n",
              "3     animation    498    498          498\n",
              "22        sport    432    432          432\n",
              "23    talk-show    391    391          391\n",
              "10      fantasy    323    323          323\n",
              "16      mystery    319    319          319\n",
              "15      musical    277    277          277\n",
              "4     biography    265    265          265\n",
              "12      history    243    243          243\n",
              "11    game-show    194    194          194\n",
              "17         news    181    181          181\n",
              "25          war    132    132          132"
            ]
          },
          "metadata": {
            "tags": []
          },
          "execution_count": 23
        }
      ]
    },
    {
      "cell_type": "markdown",
      "metadata": {
        "id": "W5CSo9DQ4-4Z"
      },
      "source": [
        "Кодирование меток"
      ]
    },
    {
      "cell_type": "code",
      "metadata": {
        "colab": {
          "base_uri": "https://localhost:8080/"
        },
        "id": "wpiKl7fqoK20",
        "outputId": "59ed6800-2950-4274-cca4-20dfbcaea0f6"
      },
      "source": [
        "label_train=df_train_lite['GENRE'].values\r\n",
        "label_train"
      ],
      "execution_count": null,
      "outputs": [
        {
          "output_type": "execute_result",
          "data": {
            "text/plain": [
              "array(['adult', 'crime', 'reality-tv', ..., 'music', 'family', 'history'],\n",
              "      dtype=object)"
            ]
          },
          "metadata": {
            "tags": []
          },
          "execution_count": 19
        }
      ]
    },
    {
      "cell_type": "code",
      "metadata": {
        "id": "j39gh_lGhZsw"
      },
      "source": [
        "label_num=[]\r\n",
        "m=0\r\n",
        "for i in range(len(label_train)):\r\n",
        "  for m in range(len(label_name)):  \r\n",
        "    if label_train[i]==label_name[m]:\r\n",
        "      label_num.append(m)"
      ],
      "execution_count": null,
      "outputs": []
    },
    {
      "cell_type": "code",
      "metadata": {
        "id": "2jQv-omsHurp"
      },
      "source": [
        "MAX_SEQ_LEN = 128 # Финальная длина последовательности\n",
        "\n",
        "train_data = tf.keras.preprocessing.sequence.pad_sequences(\n",
        "    token_train,\n",
        "    value=word_index[\"<PAD>\"],\n",
        "    padding='post',\n",
        "    maxlen=MAX_SEQ_LEN)"
      ],
      "execution_count": null,
      "outputs": []
    },
    {
      "cell_type": "markdown",
      "metadata": {
        "id": "3DFY3ibTUUqO"
      },
      "source": [
        "### Создание модели\n",
        "Создадим модель для классификации текстов.\n"
      ]
    },
    {
      "cell_type": "code",
      "metadata": {
        "id": "VYm4JuJey2NN"
      },
      "source": [
        "EMB_SIZE = 16 # Размер векторного представления (эмбеддинга)\r\n",
        "VOCAB_SIZE=len(word_index)+1"
      ],
      "execution_count": null,
      "outputs": []
    },
    {
      "cell_type": "code",
      "metadata": {
        "id": "xpKOoWgu-llD",
        "colab": {
          "base_uri": "https://localhost:8080/"
        },
        "outputId": "496e7986-e971-49bf-ed8c-0a6820660e81"
      },
      "source": [
        "model = tf.keras.Sequential([\n",
        "    tf.keras.layers.Embedding(VOCAB_SIZE, EMB_SIZE),\n",
        "    tf.keras.layers.GlobalAveragePooling1D(),\n",
        "    tf.keras.layers.Dense(32, activation=tf.nn.relu),\n",
        "    tf.keras.layers.Dense(len(label_name), activation=tf.nn.softmax),\n",
        "])\n",
        "\n",
        "model.summary()"
      ],
      "execution_count": null,
      "outputs": [
        {
          "output_type": "stream",
          "text": [
            "Model: \"sequential\"\n",
            "_________________________________________________________________\n",
            "Layer (type)                 Output Shape              Param #   \n",
            "=================================================================\n",
            "embedding (Embedding)        (None, None, 64)          5669632   \n",
            "_________________________________________________________________\n",
            "global_average_pooling1d (Gl (None, 64)                0         \n",
            "_________________________________________________________________\n",
            "dense (Dense)                (None, 32)                2080      \n",
            "_________________________________________________________________\n",
            "dense_1 (Dense)              (None, 21)                693       \n",
            "=================================================================\n",
            "Total params: 5,672,405\n",
            "Trainable params: 5,672,405\n",
            "Non-trainable params: 0\n",
            "_________________________________________________________________\n"
          ],
          "name": "stdout"
        }
      ]
    },
    {
      "cell_type": "code",
      "metadata": {
        "id": "R_P-0nObqdwY"
      },
      "source": [
        "model = tf.keras.Sequential([\r\n",
        "    tf.keras.layers.Embedding(VOCAB_SIZE, EMB_SIZE),\r\n",
        "    tf.keras.layers.GlobalAveragePooling1D(),\r\n",
        "    tf.keras.layers.Dense(32, activation=tf.nn.relu),\r\n",
        "    tf.keras.layers.Dense(df_train['GENRE'].nunique(), activation=tf.nn.softmax),\r\n",
        "])\r\n",
        "\r\n",
        "model.summary()"
      ],
      "execution_count": null,
      "outputs": []
    },
    {
      "cell_type": "code",
      "metadata": {
        "colab": {
          "base_uri": "https://localhost:8080/"
        },
        "id": "_XAey8cRv9_C",
        "outputId": "5dc1659f-f13b-4178-d7bd-151a2ab57a7f"
      },
      "source": [
        "model = tf.keras.Sequential([\r\n",
        "    tf.keras.layers.Embedding(VOCAB_SIZE, EMB_SIZE),\r\n",
        "    tf.keras.layers.LSTM(16, return_sequences=False, dropout=0.5, recurrent_dropout=0.5),\r\n",
        "    tf.keras.layers.Dense(len(label_name), activation=tf.nn.softmax),\r\n",
        "])\r\n",
        "\r\n",
        "model.summary()"
      ],
      "execution_count": null,
      "outputs": [
        {
          "output_type": "stream",
          "text": [
            "WARNING:tensorflow:Layer lstm will not use cuDNN kernel since it doesn't meet the cuDNN kernel criteria. It will use generic GPU kernel as fallback when running on GPU\n",
            "Model: \"sequential\"\n",
            "_________________________________________________________________\n",
            "Layer (type)                 Output Shape              Param #   \n",
            "=================================================================\n",
            "embedding (Embedding)        (None, None, 16)          50592     \n",
            "_________________________________________________________________\n",
            "lstm (LSTM)                  (None, 16)                2112      \n",
            "_________________________________________________________________\n",
            "dense (Dense)                (None, 21)                357       \n",
            "=================================================================\n",
            "Total params: 53,061\n",
            "Trainable params: 53,061\n",
            "Non-trainable params: 0\n",
            "_________________________________________________________________\n"
          ],
          "name": "stdout"
        }
      ]
    },
    {
      "cell_type": "code",
      "metadata": {
        "id": "7HuQ6nbGwK1t"
      },
      "source": [
        "y = model(x)\r\n",
        "print(y.shape)"
      ],
      "execution_count": null,
      "outputs": []
    },
    {
      "cell_type": "code",
      "metadata": {
        "id": "Mr0GP-cQ-llN"
      },
      "source": [
        "model.compile(optimizer='adam',\n",
        "              loss='sparse_categorical_crossentropy',            \n",
        "              metrics=['acc'])"
      ],
      "execution_count": null,
      "outputs": []
    },
    {
      "cell_type": "code",
      "metadata": {
        "id": "BsPGLPOwlZMe"
      },
      "source": [
        "label_num_np=np.array(label_num)"
      ],
      "execution_count": null,
      "outputs": []
    },
    {
      "cell_type": "code",
      "metadata": {
        "id": "-NpcXY9--llS"
      },
      "source": [
        "partial_x_train, x_val, partial_y_train, y_val = train_test_split(train_data,label_num_np, test_size=0.2, random_state=7, stratify=label_num_np)"
      ],
      "execution_count": null,
      "outputs": []
    },
    {
      "cell_type": "code",
      "metadata": {
        "id": "tXSGrjWZ-llW",
        "scrolled": false,
        "colab": {
          "base_uri": "https://localhost:8080/"
        },
        "outputId": "7d03a674-67bd-40b2-c105-a1977a3ae370"
      },
      "source": [
        "BATCH_SIZE = 256\n",
        "NUM_EPOCHS =200\n",
        "\n",
        "history = model.fit(partial_x_train,\n",
        "                    partial_y_train,\n",
        "                    epochs=NUM_EPOCHS,\n",
        "                    batch_size=BATCH_SIZE,\n",
        "                    validation_data=(x_val, y_val),\n",
        "                    verbose=1)"
      ],
      "execution_count": null,
      "outputs": [
        {
          "output_type": "stream",
          "text": [
            "Epoch 1/200\n",
            "35/35 [==============================] - 17s 482ms/step - loss: 0.7409 - acc: 0.7496 - val_loss: 3.2486 - val_acc: 0.3986\n",
            "Epoch 2/200\n",
            "35/35 [==============================] - 17s 477ms/step - loss: 0.7471 - acc: 0.7407 - val_loss: 3.2349 - val_acc: 0.3954\n",
            "Epoch 3/200\n",
            "35/35 [==============================] - 17s 473ms/step - loss: 0.7428 - acc: 0.7525 - val_loss: 3.2817 - val_acc: 0.3990\n",
            "Epoch 4/200\n",
            "35/35 [==============================] - 17s 498ms/step - loss: 0.7435 - acc: 0.7522 - val_loss: 3.2770 - val_acc: 0.3986\n",
            "Epoch 5/200\n",
            "35/35 [==============================] - 17s 482ms/step - loss: 0.7428 - acc: 0.7502 - val_loss: 3.2773 - val_acc: 0.4013\n",
            "Epoch 6/200\n",
            "35/35 [==============================] - 17s 476ms/step - loss: 0.7249 - acc: 0.7506 - val_loss: 3.2730 - val_acc: 0.3945\n",
            "Epoch 7/200\n",
            "35/35 [==============================] - 17s 488ms/step - loss: 0.7188 - acc: 0.7584 - val_loss: 3.2740 - val_acc: 0.3968\n",
            "Epoch 8/200\n",
            "35/35 [==============================] - 17s 480ms/step - loss: 0.7499 - acc: 0.7408 - val_loss: 3.2714 - val_acc: 0.3945\n",
            "Epoch 9/200\n",
            "35/35 [==============================] - 17s 486ms/step - loss: 0.7466 - acc: 0.7450 - val_loss: 3.2631 - val_acc: 0.3950\n",
            "Epoch 10/200\n",
            "35/35 [==============================] - 17s 488ms/step - loss: 0.7352 - acc: 0.7492 - val_loss: 3.2623 - val_acc: 0.3977\n",
            "Epoch 11/200\n",
            "35/35 [==============================] - 17s 473ms/step - loss: 0.7280 - acc: 0.7563 - val_loss: 3.3058 - val_acc: 0.3972\n",
            "Epoch 12/200\n",
            "35/35 [==============================] - 17s 477ms/step - loss: 0.7254 - acc: 0.7527 - val_loss: 3.2984 - val_acc: 0.4017\n",
            "Epoch 13/200\n",
            "35/35 [==============================] - 17s 476ms/step - loss: 0.7252 - acc: 0.7529 - val_loss: 3.3005 - val_acc: 0.3995\n",
            "Epoch 14/200\n",
            "35/35 [==============================] - 17s 488ms/step - loss: 0.7247 - acc: 0.7530 - val_loss: 3.2706 - val_acc: 0.3986\n",
            "Epoch 15/200\n",
            "35/35 [==============================] - 17s 473ms/step - loss: 0.7364 - acc: 0.7521 - val_loss: 3.3007 - val_acc: 0.4017\n",
            "Epoch 16/200\n",
            "35/35 [==============================] - 17s 485ms/step - loss: 0.7423 - acc: 0.7468 - val_loss: 3.2513 - val_acc: 0.3981\n",
            "Epoch 17/200\n",
            "35/35 [==============================] - 17s 479ms/step - loss: 0.7317 - acc: 0.7541 - val_loss: 3.2636 - val_acc: 0.3959\n",
            "Epoch 18/200\n",
            "35/35 [==============================] - 17s 479ms/step - loss: 0.7527 - acc: 0.7447 - val_loss: 3.2533 - val_acc: 0.3972\n",
            "Epoch 19/200\n",
            "35/35 [==============================] - 17s 484ms/step - loss: 0.7382 - acc: 0.7439 - val_loss: 3.2548 - val_acc: 0.3977\n",
            "Epoch 20/200\n",
            "35/35 [==============================] - 17s 486ms/step - loss: 0.7324 - acc: 0.7475 - val_loss: 3.2891 - val_acc: 0.3954\n",
            "Epoch 21/200\n",
            "35/35 [==============================] - 17s 479ms/step - loss: 0.7260 - acc: 0.7539 - val_loss: 3.2988 - val_acc: 0.3923\n",
            "Epoch 22/200\n",
            "35/35 [==============================] - 17s 490ms/step - loss: 0.7201 - acc: 0.7553 - val_loss: 3.2674 - val_acc: 0.3941\n",
            "Epoch 23/200\n",
            "35/35 [==============================] - 17s 494ms/step - loss: 0.7433 - acc: 0.7511 - val_loss: 3.2744 - val_acc: 0.3945\n",
            "Epoch 24/200\n",
            "35/35 [==============================] - 17s 485ms/step - loss: 0.7308 - acc: 0.7509 - val_loss: 3.2692 - val_acc: 0.4039\n",
            "Epoch 25/200\n",
            "35/35 [==============================] - 17s 488ms/step - loss: 0.7200 - acc: 0.7536 - val_loss: 3.2803 - val_acc: 0.3923\n",
            "Epoch 26/200\n",
            "35/35 [==============================] - 17s 476ms/step - loss: 0.7425 - acc: 0.7452 - val_loss: 3.2711 - val_acc: 0.3995\n",
            "Epoch 27/200\n",
            "35/35 [==============================] - 17s 480ms/step - loss: 0.7266 - acc: 0.7508 - val_loss: 3.2829 - val_acc: 0.4035\n",
            "Epoch 28/200\n",
            "35/35 [==============================] - 17s 486ms/step - loss: 0.7256 - acc: 0.7517 - val_loss: 3.2715 - val_acc: 0.3963\n",
            "Epoch 29/200\n",
            "35/35 [==============================] - 17s 480ms/step - loss: 0.7321 - acc: 0.7508 - val_loss: 3.2867 - val_acc: 0.4004\n",
            "Epoch 30/200\n",
            "35/35 [==============================] - 17s 488ms/step - loss: 0.7245 - acc: 0.7545 - val_loss: 3.2780 - val_acc: 0.3963\n",
            "Epoch 31/200\n",
            "35/35 [==============================] - 17s 481ms/step - loss: 0.7259 - acc: 0.7498 - val_loss: 3.3093 - val_acc: 0.3963\n",
            "Epoch 32/200\n",
            "35/35 [==============================] - 17s 475ms/step - loss: 0.7328 - acc: 0.7580 - val_loss: 3.3270 - val_acc: 0.3981\n",
            "Epoch 33/200\n",
            "35/35 [==============================] - 17s 486ms/step - loss: 0.7322 - acc: 0.7506 - val_loss: 3.3207 - val_acc: 0.3972\n",
            "Epoch 34/200\n",
            "35/35 [==============================] - 17s 482ms/step - loss: 0.7313 - acc: 0.7507 - val_loss: 3.2693 - val_acc: 0.3968\n",
            "Epoch 35/200\n",
            "35/35 [==============================] - 17s 485ms/step - loss: 0.7120 - acc: 0.7577 - val_loss: 3.3166 - val_acc: 0.3950\n",
            "Epoch 36/200\n",
            "35/35 [==============================] - 17s 476ms/step - loss: 0.7381 - acc: 0.7526 - val_loss: 3.2528 - val_acc: 0.4004\n",
            "Epoch 37/200\n",
            "35/35 [==============================] - 17s 482ms/step - loss: 0.7262 - acc: 0.7531 - val_loss: 3.2652 - val_acc: 0.3990\n",
            "Epoch 38/200\n",
            "35/35 [==============================] - 17s 477ms/step - loss: 0.7188 - acc: 0.7519 - val_loss: 3.2727 - val_acc: 0.3986\n",
            "Epoch 39/200\n",
            "35/35 [==============================] - 17s 488ms/step - loss: 0.7336 - acc: 0.7526 - val_loss: 3.2705 - val_acc: 0.3999\n",
            "Epoch 40/200\n",
            "35/35 [==============================] - 17s 481ms/step - loss: 0.7132 - acc: 0.7598 - val_loss: 3.2809 - val_acc: 0.3968\n",
            "Epoch 41/200\n",
            "35/35 [==============================] - 17s 488ms/step - loss: 0.7357 - acc: 0.7502 - val_loss: 3.3112 - val_acc: 0.3937\n",
            "Epoch 42/200\n",
            "35/35 [==============================] - 17s 487ms/step - loss: 0.7053 - acc: 0.7578 - val_loss: 3.3056 - val_acc: 0.3972\n",
            "Epoch 43/200\n",
            "35/35 [==============================] - 17s 480ms/step - loss: 0.7184 - acc: 0.7563 - val_loss: 3.3067 - val_acc: 0.3959\n",
            "Epoch 44/200\n",
            "35/35 [==============================] - 17s 487ms/step - loss: 0.7315 - acc: 0.7487 - val_loss: 3.3001 - val_acc: 0.3954\n",
            "Epoch 45/200\n",
            "35/35 [==============================] - 17s 482ms/step - loss: 0.7117 - acc: 0.7588 - val_loss: 3.3226 - val_acc: 0.3972\n",
            "Epoch 46/200\n",
            "35/35 [==============================] - 17s 478ms/step - loss: 0.7319 - acc: 0.7565 - val_loss: 3.3035 - val_acc: 0.3950\n",
            "Epoch 47/200\n",
            "35/35 [==============================] - 17s 478ms/step - loss: 0.7257 - acc: 0.7503 - val_loss: 3.2927 - val_acc: 0.3919\n",
            "Epoch 48/200\n",
            "35/35 [==============================] - 17s 482ms/step - loss: 0.7293 - acc: 0.7532 - val_loss: 3.3259 - val_acc: 0.3905\n",
            "Epoch 49/200\n",
            "35/35 [==============================] - 17s 478ms/step - loss: 0.7361 - acc: 0.7539 - val_loss: 3.2737 - val_acc: 0.3986\n",
            "Epoch 50/200\n",
            "35/35 [==============================] - 17s 479ms/step - loss: 0.7295 - acc: 0.7532 - val_loss: 3.2874 - val_acc: 0.3968\n",
            "Epoch 51/200\n",
            "35/35 [==============================] - 17s 488ms/step - loss: 0.7210 - acc: 0.7579 - val_loss: 3.2822 - val_acc: 0.3950\n",
            "Epoch 52/200\n",
            "35/35 [==============================] - 17s 479ms/step - loss: 0.7224 - acc: 0.7549 - val_loss: 3.2992 - val_acc: 0.4004\n",
            "Epoch 53/200\n",
            "35/35 [==============================] - 17s 488ms/step - loss: 0.7101 - acc: 0.7596 - val_loss: 3.3359 - val_acc: 0.4017\n",
            "Epoch 54/200\n",
            "35/35 [==============================] - 17s 484ms/step - loss: 0.7103 - acc: 0.7579 - val_loss: 3.3317 - val_acc: 0.4004\n",
            "Epoch 55/200\n",
            "35/35 [==============================] - 17s 484ms/step - loss: 0.7277 - acc: 0.7517 - val_loss: 3.3146 - val_acc: 0.3954\n",
            "Epoch 56/200\n",
            "35/35 [==============================] - 17s 482ms/step - loss: 0.7170 - acc: 0.7538 - val_loss: 3.2948 - val_acc: 0.3945\n",
            "Epoch 57/200\n",
            "35/35 [==============================] - 17s 485ms/step - loss: 0.7293 - acc: 0.7509 - val_loss: 3.3365 - val_acc: 0.3968\n",
            "Epoch 58/200\n",
            "35/35 [==============================] - 17s 485ms/step - loss: 0.7239 - acc: 0.7555 - val_loss: 3.3137 - val_acc: 0.3941\n",
            "Epoch 59/200\n",
            "35/35 [==============================] - 17s 494ms/step - loss: 0.7202 - acc: 0.7565 - val_loss: 3.3195 - val_acc: 0.3968\n",
            "Epoch 60/200\n",
            "35/35 [==============================] - 17s 485ms/step - loss: 0.7200 - acc: 0.7577 - val_loss: 3.3158 - val_acc: 0.3914\n",
            "Epoch 61/200\n",
            "35/35 [==============================] - 17s 489ms/step - loss: 0.7355 - acc: 0.7500 - val_loss: 3.3087 - val_acc: 0.3995\n",
            "Epoch 62/200\n",
            "35/35 [==============================] - 17s 485ms/step - loss: 0.7284 - acc: 0.7482 - val_loss: 3.3251 - val_acc: 0.3959\n",
            "Epoch 63/200\n",
            "35/35 [==============================] - 17s 479ms/step - loss: 0.7356 - acc: 0.7478 - val_loss: 3.2845 - val_acc: 0.3986\n",
            "Epoch 64/200\n",
            "35/35 [==============================] - 17s 487ms/step - loss: 0.7150 - acc: 0.7558 - val_loss: 3.3471 - val_acc: 0.3932\n",
            "Epoch 65/200\n",
            "35/35 [==============================] - 17s 487ms/step - loss: 0.7275 - acc: 0.7499 - val_loss: 3.2969 - val_acc: 0.3986\n",
            "Epoch 66/200\n",
            "35/35 [==============================] - 17s 473ms/step - loss: 0.7064 - acc: 0.7574 - val_loss: 3.2910 - val_acc: 0.3928\n",
            "Epoch 67/200\n",
            "35/35 [==============================] - 17s 483ms/step - loss: 0.7183 - acc: 0.7559 - val_loss: 3.3244 - val_acc: 0.3963\n",
            "Epoch 68/200\n",
            "35/35 [==============================] - 17s 477ms/step - loss: 0.7246 - acc: 0.7509 - val_loss: 3.3347 - val_acc: 0.3963\n",
            "Epoch 69/200\n",
            "35/35 [==============================] - 17s 479ms/step - loss: 0.6994 - acc: 0.7633 - val_loss: 3.3590 - val_acc: 0.3977\n",
            "Epoch 70/200\n",
            "35/35 [==============================] - 17s 482ms/step - loss: 0.7104 - acc: 0.7607 - val_loss: 3.3312 - val_acc: 0.3870\n",
            "Epoch 71/200\n",
            "35/35 [==============================] - 17s 479ms/step - loss: 0.7269 - acc: 0.7498 - val_loss: 3.3090 - val_acc: 0.3954\n",
            "Epoch 72/200\n",
            "35/35 [==============================] - 17s 475ms/step - loss: 0.7132 - acc: 0.7609 - val_loss: 3.3358 - val_acc: 0.3995\n",
            "Epoch 73/200\n",
            "35/35 [==============================] - 17s 484ms/step - loss: 0.7081 - acc: 0.7611 - val_loss: 3.3313 - val_acc: 0.3932\n",
            "Epoch 74/200\n",
            "35/35 [==============================] - 17s 485ms/step - loss: 0.7116 - acc: 0.7555 - val_loss: 3.3415 - val_acc: 0.3986\n",
            "Epoch 75/200\n",
            "35/35 [==============================] - 17s 474ms/step - loss: 0.7159 - acc: 0.7519 - val_loss: 3.3578 - val_acc: 0.3905\n",
            "Epoch 76/200\n",
            "35/35 [==============================] - 17s 492ms/step - loss: 0.7297 - acc: 0.7498 - val_loss: 3.3221 - val_acc: 0.3950\n",
            "Epoch 77/200\n",
            "35/35 [==============================] - 17s 483ms/step - loss: 0.7114 - acc: 0.7555 - val_loss: 3.3287 - val_acc: 0.3945\n",
            "Epoch 78/200\n",
            "35/35 [==============================] - 17s 497ms/step - loss: 0.7045 - acc: 0.7603 - val_loss: 3.3104 - val_acc: 0.3981\n",
            "Epoch 79/200\n",
            "35/35 [==============================] - 17s 487ms/step - loss: 0.7156 - acc: 0.7573 - val_loss: 3.3015 - val_acc: 0.3995\n",
            "Epoch 80/200\n",
            "35/35 [==============================] - 17s 485ms/step - loss: 0.7139 - acc: 0.7555 - val_loss: 3.3370 - val_acc: 0.3932\n",
            "Epoch 81/200\n",
            "35/35 [==============================] - 17s 483ms/step - loss: 0.7124 - acc: 0.7627 - val_loss: 3.3529 - val_acc: 0.3919\n",
            "Epoch 82/200\n",
            "35/35 [==============================] - 17s 477ms/step - loss: 0.7174 - acc: 0.7597 - val_loss: 3.3300 - val_acc: 0.3937\n",
            "Epoch 83/200\n",
            "35/35 [==============================] - 17s 485ms/step - loss: 0.6987 - acc: 0.7650 - val_loss: 3.3665 - val_acc: 0.3968\n",
            "Epoch 84/200\n",
            "35/35 [==============================] - 17s 485ms/step - loss: 0.7250 - acc: 0.7516 - val_loss: 3.3641 - val_acc: 0.3923\n",
            "Epoch 85/200\n",
            "35/35 [==============================] - 17s 475ms/step - loss: 0.6939 - acc: 0.7642 - val_loss: 3.3680 - val_acc: 0.3986\n",
            "Epoch 86/200\n",
            "35/35 [==============================] - 17s 477ms/step - loss: 0.6992 - acc: 0.7668 - val_loss: 3.3755 - val_acc: 0.3923\n",
            "Epoch 87/200\n",
            "35/35 [==============================] - 17s 488ms/step - loss: 0.7049 - acc: 0.7636 - val_loss: 3.3718 - val_acc: 0.3963\n",
            "Epoch 88/200\n",
            "35/35 [==============================] - 17s 483ms/step - loss: 0.7022 - acc: 0.7616 - val_loss: 3.3655 - val_acc: 0.3914\n",
            "Epoch 89/200\n",
            "35/35 [==============================] - 17s 478ms/step - loss: 0.7059 - acc: 0.7531 - val_loss: 3.3596 - val_acc: 0.3959\n",
            "Epoch 90/200\n",
            "35/35 [==============================] - 17s 484ms/step - loss: 0.6907 - acc: 0.7635 - val_loss: 3.4020 - val_acc: 0.3901\n",
            "Epoch 91/200\n",
            "35/35 [==============================] - 17s 479ms/step - loss: 0.7178 - acc: 0.7576 - val_loss: 3.3638 - val_acc: 0.3919\n",
            "Epoch 92/200\n",
            "35/35 [==============================] - 17s 483ms/step - loss: 0.7056 - acc: 0.7599 - val_loss: 3.3531 - val_acc: 0.3932\n",
            "Epoch 93/200\n",
            "35/35 [==============================] - 17s 484ms/step - loss: 0.6985 - acc: 0.7658 - val_loss: 3.3559 - val_acc: 0.3950\n",
            "Epoch 94/200\n",
            "35/35 [==============================] - 17s 490ms/step - loss: 0.7029 - acc: 0.7607 - val_loss: 3.3563 - val_acc: 0.3977\n",
            "Epoch 95/200\n",
            "35/35 [==============================] - 17s 484ms/step - loss: 0.7076 - acc: 0.7596 - val_loss: 3.3806 - val_acc: 0.3914\n",
            "Epoch 96/200\n",
            "35/35 [==============================] - 17s 497ms/step - loss: 0.7061 - acc: 0.7568 - val_loss: 3.3823 - val_acc: 0.3981\n",
            "Epoch 97/200\n",
            "35/35 [==============================] - 17s 485ms/step - loss: 0.7088 - acc: 0.7548 - val_loss: 3.3746 - val_acc: 0.3919\n",
            "Epoch 98/200\n",
            "35/35 [==============================] - 17s 482ms/step - loss: 0.7051 - acc: 0.7568 - val_loss: 3.3570 - val_acc: 0.3959\n",
            "Epoch 99/200\n",
            "35/35 [==============================] - 17s 486ms/step - loss: 0.7068 - acc: 0.7510 - val_loss: 3.3803 - val_acc: 0.3919\n",
            "Epoch 100/200\n",
            "35/35 [==============================] - 17s 488ms/step - loss: 0.7180 - acc: 0.7529 - val_loss: 3.2812 - val_acc: 0.3999\n",
            "Epoch 101/200\n",
            "35/35 [==============================] - 17s 482ms/step - loss: 0.7193 - acc: 0.7604 - val_loss: 3.3395 - val_acc: 0.4004\n",
            "Epoch 102/200\n",
            "35/35 [==============================] - 17s 486ms/step - loss: 0.7160 - acc: 0.7574 - val_loss: 3.3374 - val_acc: 0.3990\n",
            "Epoch 103/200\n",
            "35/35 [==============================] - 17s 481ms/step - loss: 0.7026 - acc: 0.7643 - val_loss: 3.3780 - val_acc: 0.3945\n",
            "Epoch 104/200\n",
            "35/35 [==============================] - 17s 481ms/step - loss: 0.7022 - acc: 0.7604 - val_loss: 3.3614 - val_acc: 0.3950\n",
            "Epoch 105/200\n",
            "35/35 [==============================] - 17s 480ms/step - loss: 0.6978 - acc: 0.7620 - val_loss: 3.3975 - val_acc: 0.3950\n",
            "Epoch 106/200\n",
            "35/35 [==============================] - 17s 484ms/step - loss: 0.6977 - acc: 0.7702 - val_loss: 3.3554 - val_acc: 0.3928\n",
            "Epoch 107/200\n",
            "35/35 [==============================] - 17s 482ms/step - loss: 0.7087 - acc: 0.7593 - val_loss: 3.3271 - val_acc: 0.3905\n",
            "Epoch 108/200\n",
            "35/35 [==============================] - 17s 484ms/step - loss: 0.7080 - acc: 0.7590 - val_loss: 3.3521 - val_acc: 0.4013\n",
            "Epoch 109/200\n",
            "35/35 [==============================] - 17s 491ms/step - loss: 0.7023 - acc: 0.7564 - val_loss: 3.3582 - val_acc: 0.3896\n",
            "Epoch 110/200\n",
            "35/35 [==============================] - 17s 484ms/step - loss: 0.7151 - acc: 0.7579 - val_loss: 3.3544 - val_acc: 0.3941\n",
            "Epoch 111/200\n",
            "35/35 [==============================] - 17s 487ms/step - loss: 0.7050 - acc: 0.7612 - val_loss: 3.3520 - val_acc: 0.3923\n",
            "Epoch 112/200\n",
            "35/35 [==============================] - 17s 488ms/step - loss: 0.7248 - acc: 0.7542 - val_loss: 3.3569 - val_acc: 0.3945\n",
            "Epoch 113/200\n",
            "35/35 [==============================] - 17s 487ms/step - loss: 0.7077 - acc: 0.7612 - val_loss: 3.3422 - val_acc: 0.3954\n",
            "Epoch 114/200\n",
            "35/35 [==============================] - 17s 493ms/step - loss: 0.7014 - acc: 0.7661 - val_loss: 3.3662 - val_acc: 0.3896\n",
            "Epoch 115/200\n",
            "35/35 [==============================] - 17s 491ms/step - loss: 0.7034 - acc: 0.7607 - val_loss: 3.3811 - val_acc: 0.3914\n",
            "Epoch 116/200\n",
            "35/35 [==============================] - 17s 482ms/step - loss: 0.6991 - acc: 0.7592 - val_loss: 3.3936 - val_acc: 0.3923\n",
            "Epoch 117/200\n",
            "35/35 [==============================] - 17s 485ms/step - loss: 0.6991 - acc: 0.7659 - val_loss: 3.3602 - val_acc: 0.3968\n",
            "Epoch 118/200\n",
            "35/35 [==============================] - 17s 489ms/step - loss: 0.7125 - acc: 0.7566 - val_loss: 3.3659 - val_acc: 0.3954\n",
            "Epoch 119/200\n",
            "35/35 [==============================] - 17s 480ms/step - loss: 0.7010 - acc: 0.7592 - val_loss: 3.3783 - val_acc: 0.3937\n",
            "Epoch 120/200\n",
            "35/35 [==============================] - 17s 484ms/step - loss: 0.7066 - acc: 0.7603 - val_loss: 3.3618 - val_acc: 0.3963\n",
            "Epoch 121/200\n",
            "35/35 [==============================] - 17s 485ms/step - loss: 0.7152 - acc: 0.7584 - val_loss: 3.3753 - val_acc: 0.3905\n",
            "Epoch 122/200\n",
            "35/35 [==============================] - 17s 483ms/step - loss: 0.7064 - acc: 0.7599 - val_loss: 3.3558 - val_acc: 0.3959\n",
            "Epoch 123/200\n",
            "35/35 [==============================] - 17s 486ms/step - loss: 0.7017 - acc: 0.7622 - val_loss: 3.3696 - val_acc: 0.3928\n",
            "Epoch 124/200\n",
            "35/35 [==============================] - 17s 484ms/step - loss: 0.7001 - acc: 0.7568 - val_loss: 3.3426 - val_acc: 0.3954\n",
            "Epoch 125/200\n",
            "35/35 [==============================] - 17s 484ms/step - loss: 0.6968 - acc: 0.7651 - val_loss: 3.3619 - val_acc: 0.3950\n",
            "Epoch 126/200\n",
            "35/35 [==============================] - 17s 484ms/step - loss: 0.6927 - acc: 0.7687 - val_loss: 3.4128 - val_acc: 0.3981\n",
            "Epoch 127/200\n",
            "35/35 [==============================] - 17s 483ms/step - loss: 0.7004 - acc: 0.7589 - val_loss: 3.3869 - val_acc: 0.3941\n",
            "Epoch 128/200\n",
            "35/35 [==============================] - 17s 479ms/step - loss: 0.7111 - acc: 0.7578 - val_loss: 3.3768 - val_acc: 0.3919\n",
            "Epoch 129/200\n",
            "35/35 [==============================] - 17s 489ms/step - loss: 0.6992 - acc: 0.7599 - val_loss: 3.3379 - val_acc: 0.3959\n",
            "Epoch 130/200\n",
            "35/35 [==============================] - 17s 481ms/step - loss: 0.6930 - acc: 0.7626 - val_loss: 3.3854 - val_acc: 0.3954\n",
            "Epoch 131/200\n",
            "35/35 [==============================] - 17s 484ms/step - loss: 0.7071 - acc: 0.7628 - val_loss: 3.3769 - val_acc: 0.3941\n",
            "Epoch 132/200\n",
            "35/35 [==============================] - 17s 480ms/step - loss: 0.6783 - acc: 0.7751 - val_loss: 3.4020 - val_acc: 0.3954\n",
            "Epoch 133/200\n",
            "35/35 [==============================] - 17s 493ms/step - loss: 0.6883 - acc: 0.7655 - val_loss: 3.3770 - val_acc: 0.3986\n",
            "Epoch 134/200\n",
            "35/35 [==============================] - 17s 481ms/step - loss: 0.7001 - acc: 0.7585 - val_loss: 3.3762 - val_acc: 0.3968\n",
            "Epoch 135/200\n",
            "35/35 [==============================] - 17s 483ms/step - loss: 0.6920 - acc: 0.7692 - val_loss: 3.3870 - val_acc: 0.3954\n",
            "Epoch 136/200\n",
            "35/35 [==============================] - 17s 481ms/step - loss: 0.6777 - acc: 0.7687 - val_loss: 3.3991 - val_acc: 0.3905\n",
            "Epoch 137/200\n",
            "35/35 [==============================] - 17s 481ms/step - loss: 0.6871 - acc: 0.7646 - val_loss: 3.3791 - val_acc: 0.3968\n",
            "Epoch 138/200\n",
            "35/35 [==============================] - 17s 485ms/step - loss: 0.6957 - acc: 0.7630 - val_loss: 3.3673 - val_acc: 0.3977\n",
            "Epoch 139/200\n",
            "35/35 [==============================] - 17s 475ms/step - loss: 0.7076 - acc: 0.7609 - val_loss: 3.3772 - val_acc: 0.3896\n",
            "Epoch 140/200\n",
            "35/35 [==============================] - 17s 483ms/step - loss: 0.6921 - acc: 0.7662 - val_loss: 3.3612 - val_acc: 0.3963\n",
            "Epoch 141/200\n",
            "35/35 [==============================] - 17s 494ms/step - loss: 0.6894 - acc: 0.7589 - val_loss: 3.3790 - val_acc: 0.3963\n",
            "Epoch 142/200\n",
            "35/35 [==============================] - 17s 473ms/step - loss: 0.6924 - acc: 0.7630 - val_loss: 3.3963 - val_acc: 0.3928\n",
            "Epoch 143/200\n",
            "35/35 [==============================] - 17s 477ms/step - loss: 0.6734 - acc: 0.7713 - val_loss: 3.3811 - val_acc: 0.3941\n",
            "Epoch 144/200\n",
            "35/35 [==============================] - 17s 484ms/step - loss: 0.7040 - acc: 0.7594 - val_loss: 3.3645 - val_acc: 0.3914\n",
            "Epoch 145/200\n",
            "35/35 [==============================] - 17s 490ms/step - loss: 0.6780 - acc: 0.7729 - val_loss: 3.3890 - val_acc: 0.3928\n",
            "Epoch 146/200\n",
            "35/35 [==============================] - 17s 476ms/step - loss: 0.6984 - acc: 0.7580 - val_loss: 3.3824 - val_acc: 0.4017\n",
            "Epoch 147/200\n",
            "35/35 [==============================] - 17s 481ms/step - loss: 0.6873 - acc: 0.7655 - val_loss: 3.3883 - val_acc: 0.3928\n",
            "Epoch 148/200\n",
            "35/35 [==============================] - 17s 481ms/step - loss: 0.6964 - acc: 0.7641 - val_loss: 3.3489 - val_acc: 0.3937\n",
            "Epoch 149/200\n",
            "35/35 [==============================] - 17s 486ms/step - loss: 0.6947 - acc: 0.7641 - val_loss: 3.3917 - val_acc: 0.3963\n",
            "Epoch 150/200\n",
            "35/35 [==============================] - 17s 489ms/step - loss: 0.6984 - acc: 0.7635 - val_loss: 3.3726 - val_acc: 0.3914\n",
            "Epoch 151/200\n",
            "35/35 [==============================] - 17s 496ms/step - loss: 0.6923 - acc: 0.7644 - val_loss: 3.3921 - val_acc: 0.3977\n",
            "Epoch 152/200\n",
            "35/35 [==============================] - 17s 486ms/step - loss: 0.6811 - acc: 0.7684 - val_loss: 3.4087 - val_acc: 0.3950\n",
            "Epoch 153/200\n",
            "35/35 [==============================] - 17s 480ms/step - loss: 0.7131 - acc: 0.7540 - val_loss: 3.3863 - val_acc: 0.3950\n",
            "Epoch 154/200\n",
            "35/35 [==============================] - 17s 482ms/step - loss: 0.6966 - acc: 0.7626 - val_loss: 3.3791 - val_acc: 0.3905\n",
            "Epoch 155/200\n",
            "35/35 [==============================] - 17s 485ms/step - loss: 0.7014 - acc: 0.7617 - val_loss: 3.3956 - val_acc: 0.3932\n",
            "Epoch 156/200\n",
            "35/35 [==============================] - 17s 478ms/step - loss: 0.6924 - acc: 0.7643 - val_loss: 3.4059 - val_acc: 0.3852\n",
            "Epoch 157/200\n",
            "35/35 [==============================] - 17s 482ms/step - loss: 0.6929 - acc: 0.7613 - val_loss: 3.4026 - val_acc: 0.3950\n",
            "Epoch 158/200\n",
            "35/35 [==============================] - 17s 484ms/step - loss: 0.6863 - acc: 0.7635 - val_loss: 3.3739 - val_acc: 0.3972\n",
            "Epoch 159/200\n",
            "35/35 [==============================] - 17s 484ms/step - loss: 0.6728 - acc: 0.7712 - val_loss: 3.4005 - val_acc: 0.3945\n",
            "Epoch 160/200\n",
            "35/35 [==============================] - 17s 479ms/step - loss: 0.6851 - acc: 0.7663 - val_loss: 3.4076 - val_acc: 0.3981\n",
            "Epoch 161/200\n",
            "35/35 [==============================] - 17s 488ms/step - loss: 0.6851 - acc: 0.7632 - val_loss: 3.4030 - val_acc: 0.3937\n",
            "Epoch 162/200\n",
            "35/35 [==============================] - 17s 489ms/step - loss: 0.6872 - acc: 0.7666 - val_loss: 3.3891 - val_acc: 0.3937\n",
            "Epoch 163/200\n",
            "35/35 [==============================] - 17s 479ms/step - loss: 0.6870 - acc: 0.7693 - val_loss: 3.3514 - val_acc: 0.3950\n",
            "Epoch 164/200\n",
            "35/35 [==============================] - 17s 486ms/step - loss: 0.6855 - acc: 0.7637 - val_loss: 3.3996 - val_acc: 0.3910\n",
            "Epoch 165/200\n",
            "35/35 [==============================] - 17s 483ms/step - loss: 0.6807 - acc: 0.7664 - val_loss: 3.4311 - val_acc: 0.3896\n",
            "Epoch 166/200\n",
            "35/35 [==============================] - 17s 486ms/step - loss: 0.7020 - acc: 0.7555 - val_loss: 3.3817 - val_acc: 0.3968\n",
            "Epoch 167/200\n",
            "35/35 [==============================] - 17s 482ms/step - loss: 0.6895 - acc: 0.7709 - val_loss: 3.3790 - val_acc: 0.3986\n",
            "Epoch 168/200\n",
            "35/35 [==============================] - 17s 484ms/step - loss: 0.6857 - acc: 0.7654 - val_loss: 3.3789 - val_acc: 0.3954\n",
            "Epoch 169/200\n",
            "35/35 [==============================] - 17s 496ms/step - loss: 0.6920 - acc: 0.7665 - val_loss: 3.4180 - val_acc: 0.3892\n",
            "Epoch 170/200\n",
            "35/35 [==============================] - 17s 489ms/step - loss: 0.6870 - acc: 0.7698 - val_loss: 3.3919 - val_acc: 0.3959\n",
            "Epoch 171/200\n",
            "35/35 [==============================] - 17s 488ms/step - loss: 0.6993 - acc: 0.7625 - val_loss: 3.3776 - val_acc: 0.3937\n",
            "Epoch 172/200\n",
            "35/35 [==============================] - 17s 483ms/step - loss: 0.6860 - acc: 0.7665 - val_loss: 3.4159 - val_acc: 0.3910\n",
            "Epoch 173/200\n",
            "35/35 [==============================] - 17s 485ms/step - loss: 0.6845 - acc: 0.7711 - val_loss: 3.4075 - val_acc: 0.3923\n",
            "Epoch 174/200\n",
            "35/35 [==============================] - 17s 484ms/step - loss: 0.6818 - acc: 0.7689 - val_loss: 3.4052 - val_acc: 0.3968\n",
            "Epoch 175/200\n",
            "35/35 [==============================] - 17s 484ms/step - loss: 0.6879 - acc: 0.7710 - val_loss: 3.4144 - val_acc: 0.3910\n",
            "Epoch 176/200\n",
            "35/35 [==============================] - 17s 482ms/step - loss: 0.6792 - acc: 0.7644 - val_loss: 3.3871 - val_acc: 0.3972\n",
            "Epoch 177/200\n",
            "35/35 [==============================] - 17s 490ms/step - loss: 0.6915 - acc: 0.7654 - val_loss: 3.3975 - val_acc: 0.3932\n",
            "Epoch 178/200\n",
            "35/35 [==============================] - 17s 481ms/step - loss: 0.6917 - acc: 0.7640 - val_loss: 3.3897 - val_acc: 0.3941\n",
            "Epoch 179/200\n",
            "35/35 [==============================] - 17s 482ms/step - loss: 0.6780 - acc: 0.7695 - val_loss: 3.3835 - val_acc: 0.3932\n",
            "Epoch 180/200\n",
            "35/35 [==============================] - 17s 475ms/step - loss: 0.6858 - acc: 0.7658 - val_loss: 3.4061 - val_acc: 0.3901\n",
            "Epoch 181/200\n",
            "35/35 [==============================] - 17s 488ms/step - loss: 0.6904 - acc: 0.7587 - val_loss: 3.4094 - val_acc: 0.3977\n",
            "Epoch 182/200\n",
            "35/35 [==============================] - 17s 487ms/step - loss: 0.6830 - acc: 0.7655 - val_loss: 3.4359 - val_acc: 0.3945\n",
            "Epoch 183/200\n",
            "35/35 [==============================] - 17s 482ms/step - loss: 0.6908 - acc: 0.7655 - val_loss: 3.3980 - val_acc: 0.3950\n",
            "Epoch 184/200\n",
            "35/35 [==============================] - 17s 485ms/step - loss: 0.6829 - acc: 0.7682 - val_loss: 3.4120 - val_acc: 0.3954\n",
            "Epoch 185/200\n",
            "35/35 [==============================] - 17s 475ms/step - loss: 0.6866 - acc: 0.7703 - val_loss: 3.4695 - val_acc: 0.3865\n",
            "Epoch 186/200\n",
            "35/35 [==============================] - 17s 486ms/step - loss: 0.6841 - acc: 0.7721 - val_loss: 3.3898 - val_acc: 0.3972\n",
            "Epoch 187/200\n",
            "35/35 [==============================] - 17s 484ms/step - loss: 0.6849 - acc: 0.7641 - val_loss: 3.4041 - val_acc: 0.3945\n",
            "Epoch 188/200\n",
            "35/35 [==============================] - 17s 496ms/step - loss: 0.6736 - acc: 0.7654 - val_loss: 3.4144 - val_acc: 0.3963\n",
            "Epoch 189/200\n",
            "35/35 [==============================] - 17s 484ms/step - loss: 0.6876 - acc: 0.7659 - val_loss: 3.4507 - val_acc: 0.3941\n",
            "Epoch 190/200\n",
            "35/35 [==============================] - 17s 483ms/step - loss: 0.6919 - acc: 0.7664 - val_loss: 3.3801 - val_acc: 0.3937\n",
            "Epoch 191/200\n",
            "35/35 [==============================] - 17s 476ms/step - loss: 0.6774 - acc: 0.7698 - val_loss: 3.4013 - val_acc: 0.3972\n",
            "Epoch 192/200\n",
            "35/35 [==============================] - 17s 483ms/step - loss: 0.6856 - acc: 0.7704 - val_loss: 3.4024 - val_acc: 0.3977\n",
            "Epoch 193/200\n",
            "35/35 [==============================] - 17s 477ms/step - loss: 0.6766 - acc: 0.7739 - val_loss: 3.3842 - val_acc: 0.4008\n",
            "Epoch 194/200\n",
            "35/35 [==============================] - 17s 473ms/step - loss: 0.7015 - acc: 0.7599 - val_loss: 3.3882 - val_acc: 0.3892\n",
            "Epoch 195/200\n",
            "35/35 [==============================] - 17s 488ms/step - loss: 0.6768 - acc: 0.7718 - val_loss: 3.3552 - val_acc: 0.3999\n",
            "Epoch 196/200\n",
            "35/35 [==============================] - 17s 480ms/step - loss: 0.6814 - acc: 0.7690 - val_loss: 3.4174 - val_acc: 0.3932\n",
            "Epoch 197/200\n",
            "35/35 [==============================] - 17s 479ms/step - loss: 0.7052 - acc: 0.7628 - val_loss: 3.3684 - val_acc: 0.3990\n",
            "Epoch 198/200\n",
            "35/35 [==============================] - 17s 485ms/step - loss: 0.6810 - acc: 0.7692 - val_loss: 3.4122 - val_acc: 0.3932\n",
            "Epoch 199/200\n",
            "35/35 [==============================] - 17s 480ms/step - loss: 0.6742 - acc: 0.7687 - val_loss: 3.4178 - val_acc: 0.3977\n",
            "Epoch 200/200\n",
            "35/35 [==============================] - 17s 478ms/step - loss: 0.6767 - acc: 0.7680 - val_loss: 3.4173 - val_acc: 0.3919\n"
          ],
          "name": "stdout"
        }
      ]
    },
    {
      "cell_type": "code",
      "metadata": {
        "id": "nGoYf2Js-lle",
        "scrolled": false,
        "colab": {
          "base_uri": "https://localhost:8080/",
          "height": 573
        },
        "outputId": "772688b1-c1d5-405b-838b-3af538ed359f"
      },
      "source": [
        "epochs = range(1, len(history.history['acc']) + 1)\n",
        "\n",
        "plt.figure()\n",
        "plt.plot(epochs, history.history['loss'], 'bo', label='Training loss')\n",
        "plt.plot(epochs, history.history['val_loss'], 'b', label='Validation loss')\n",
        "plt.title('Training and validation loss')\n",
        "plt.xlabel('Epochs')\n",
        "plt.ylabel('Loss')\n",
        "plt.legend()\n",
        "plt.grid()\n",
        "\n",
        "plt.figure()\n",
        "plt.plot(epochs, history.history['acc'], 'bo', label='Training acc')\n",
        "plt.plot(epochs, history.history['val_acc'], 'b', label='Validation acc')\n",
        "plt.title('Training and validation accuracy')\n",
        "plt.xlabel('Epochs')\n",
        "plt.ylabel('Accuracy')\n",
        "plt.legend()\n",
        "plt.grid()"
      ],
      "execution_count": null,
      "outputs": [
        {
          "output_type": "display_data",
          "data": {
            "image/png": "[encoded data removed]",
            "text/plain": [
              "<Figure size 432x288 with 1 Axes>"
            ]
          },
          "metadata": {
            "tags": [],
            "needs_background": "light"
          }
        },
        {
          "output_type": "display_data",
          "data": {
            "image/png": "[encoded data removed]",
            "text/plain": [
              "<Figure size 432x288 with 1 Axes>"
            ]
          },
          "metadata": {
            "tags": [],
            "needs_background": "light"
          }
        }
      ]
    },
    {
      "cell_type": "code",
      "metadata": {
        "id": "OCrqqoy4xFkp"
      },
      "source": [
        "pred_test=[]\n",
        "for i in token_test:\n",
        "  prediction = model.predict(np.array(i)[None, :])\n",
        "  #np.argmax(prediction)\n",
        "  pred_test.append(label_name[np.argmax(prediction)])\n",
        "  #print(label_name[np.argmax(prediction)])\n",
        "#pred_test "
      ],
      "execution_count": null,
      "outputs": []
    },
    {
      "cell_type": "code",
      "metadata": {
        "id": "p5s0rIOTauNJ"
      },
      "source": [
        "pred_test_base_dict=np.array(pred_test)\r\n",
        "pred_test_base_dict\r\n",
        "df_base_dict_pred=pd.DataFrame(data=pred_test_base_dict,\r\n",
        "          index=np.array(range(len(pred_test_base_dict))),\r\n",
        "          columns=['predict'])\r\n"
      ],
      "execution_count": null,
      "outputs": []
    },
    {
      "cell_type": "code",
      "metadata": {
        "id": "OSp63DRwqo-s"
      },
      "source": [
        "pred_self_dict=np.array(pred_test)\r\n",
        "#pred_test_base_dict\r\n",
        "df_self_dict_pred=pd.DataFrame(data=pred_self_dict,\r\n",
        "          index=np.array(range(len(pred_test_base_dict))),\r\n",
        "          columns=['predict'])\r\n"
      ],
      "execution_count": null,
      "outputs": []
    },
    {
      "cell_type": "markdown",
      "metadata": {
        "id": "aroHXM7J3dNB"
      },
      "source": [
        "Прогноз с использованием словаря полученного по данным обучающего DataFrame (train_data)"
      ]
    },
    {
      "cell_type": "code",
      "metadata": {
        "colab": {
          "base_uri": "https://localhost:8080/",
          "height": 204
        },
        "id": "Dy0OE_s8rNtD",
        "outputId": "aa5169d3-7b28-49be-c0c2-e876d9d0d4f7"
      },
      "source": [
        "df_self_dict_pred.head()"
      ],
      "execution_count": null,
      "outputs": [
        {
          "output_type": "execute_result",
          "data": {
            "text/html": [
              "<div>\n",
              "<style scoped>\n",
              "    .dataframe tbody tr th:only-of-type {\n",
              "        vertical-align: middle;\n",
              "    }\n",
              "\n",
              "    .dataframe tbody tr th {\n",
              "        vertical-align: top;\n",
              "    }\n",
              "\n",
              "    .dataframe thead th {\n",
              "        text-align: right;\n",
              "    }\n",
              "</style>\n",
              "<table border=\"1\" class=\"dataframe\">\n",
              "  <thead>\n",
              "    <tr style=\"text-align: right;\">\n",
              "      <th></th>\n",
              "      <th>predict</th>\n",
              "    </tr>\n",
              "  </thead>\n",
              "  <tbody>\n",
              "    <tr>\n",
              "      <th>0</th>\n",
              "      <td>thriller</td>\n",
              "    </tr>\n",
              "    <tr>\n",
              "      <th>1</th>\n",
              "      <td>drama</td>\n",
              "    </tr>\n",
              "    <tr>\n",
              "      <th>2</th>\n",
              "      <td>documentary</td>\n",
              "    </tr>\n",
              "    <tr>\n",
              "      <th>3</th>\n",
              "      <td>drama</td>\n",
              "    </tr>\n",
              "    <tr>\n",
              "      <th>4</th>\n",
              "      <td>drama</td>\n",
              "    </tr>\n",
              "  </tbody>\n",
              "</table>\n",
              "</div>"
            ],
            "text/plain": [
              "       predict\n",
              "0     thriller\n",
              "1        drama\n",
              "2  documentary\n",
              "3        drama\n",
              "4        drama"
            ]
          },
          "metadata": {
            "tags": []
          },
          "execution_count": 168
        }
      ]
    },
    {
      "cell_type": "markdown",
      "metadata": {
        "id": "_NrIpUWY3KT7"
      },
      "source": [
        "Прогноз по модели с использованием словаря tf"
      ]
    },
    {
      "cell_type": "code",
      "metadata": {
        "colab": {
          "base_uri": "https://localhost:8080/",
          "height": 204
        },
        "id": "MaKE6sPpeNEk",
        "outputId": "f625040d-0d8c-4865-c916-41b8b4be6a35"
      },
      "source": [
        "df_base_dict_pred.head()"
      ],
      "execution_count": null,
      "outputs": [
        {
          "output_type": "execute_result",
          "data": {
            "text/html": [
              "<div>\n",
              "<style scoped>\n",
              "    .dataframe tbody tr th:only-of-type {\n",
              "        vertical-align: middle;\n",
              "    }\n",
              "\n",
              "    .dataframe tbody tr th {\n",
              "        vertical-align: top;\n",
              "    }\n",
              "\n",
              "    .dataframe thead th {\n",
              "        text-align: right;\n",
              "    }\n",
              "</style>\n",
              "<table border=\"1\" class=\"dataframe\">\n",
              "  <thead>\n",
              "    <tr style=\"text-align: right;\">\n",
              "      <th></th>\n",
              "      <th>predict</th>\n",
              "    </tr>\n",
              "  </thead>\n",
              "  <tbody>\n",
              "    <tr>\n",
              "      <th>0</th>\n",
              "      <td>thriller</td>\n",
              "    </tr>\n",
              "    <tr>\n",
              "      <th>1</th>\n",
              "      <td>drama</td>\n",
              "    </tr>\n",
              "    <tr>\n",
              "      <th>2</th>\n",
              "      <td>documentary</td>\n",
              "    </tr>\n",
              "    <tr>\n",
              "      <th>3</th>\n",
              "      <td>drama</td>\n",
              "    </tr>\n",
              "    <tr>\n",
              "      <th>4</th>\n",
              "      <td>drama</td>\n",
              "    </tr>\n",
              "  </tbody>\n",
              "</table>\n",
              "</div>"
            ],
            "text/plain": [
              "       predict\n",
              "0     thriller\n",
              "1        drama\n",
              "2  documentary\n",
              "3        drama\n",
              "4        drama"
            ]
          },
          "metadata": {
            "tags": []
          },
          "execution_count": 165
        }
      ]
    },
    {
      "cell_type": "code",
      "metadata": {
        "id": "h_7M3H_jSm_q"
      },
      "source": [
        "df_base_dict_pred.to_csv('df_base_dict_pred.csv')\r\n",
        "df_self_dict_pred.to_csv('df_self_dict_pred.csv')"
      ],
      "execution_count": null,
      "outputs": []
    },
    {
      "cell_type": "code",
      "metadata": {
        "id": "zHPc4R02X1T1"
      },
      "source": [
        "df_tokens.to_csv('tokens_train.csv')"
      ],
      "execution_count": null,
      "outputs": []
    },
    {
      "cell_type": "code",
      "metadata": {
        "colab": {
          "base_uri": "https://localhost:8080/"
        },
        "id": "BlMsvmK1z4ba",
        "outputId": "090a1a51-bf0e-42aa-df5b-7c3ca8242260"
      },
      "source": [
        "df_test_sol=pd.read_table('/content/test_data_solution.txt',sep=' ::: ',names=['ID','TITLE','GENRE','DESCRIPTION'])"
      ],
      "execution_count": null,
      "outputs": [
        {
          "output_type": "stream",
          "text": [
            "/usr/local/lib/python3.6/dist-packages/pandas/io/parsers.py:767: ParserWarning: Falling back to the 'python' engine because the 'c' engine does not support regex separators (separators > 1 char and different from '\\s+' are interpreted as regex); you can avoid this warning by specifying engine='python'.\n",
            "  return read_csv(**locals())\n"
          ],
          "name": "stderr"
        }
      ]
    },
    {
      "cell_type": "code",
      "metadata": {
        "id": "ROsBTdajQFmW"
      },
      "source": [
        "df_tokens=pd.read_csv('/content/tokens_train.csv')"
      ],
      "execution_count": null,
      "outputs": []
    },
    {
      "cell_type": "markdown",
      "metadata": {
        "id": "dBLq3dhe54F7"
      },
      "source": [
        "## Загрузка данных для проверки модели"
      ]
    },
    {
      "cell_type": "code",
      "metadata": {
        "id": "A6hCZcUI0gUE"
      },
      "source": [
        "token_test=df_test_sol['DESCRIPTION'].apply(encode_review)"
      ],
      "execution_count": null,
      "outputs": []
    },
    {
      "cell_type": "code",
      "metadata": {
        "id": "1Rj7N0kk1GBi"
      },
      "source": [
        "test_data = tf.keras.preprocessing.sequence.pad_sequences(\r\n",
        "    token_test,\r\n",
        "    value=word_index[\"<PAD>\"],\r\n",
        "    padding='post',\r\n",
        "    maxlen=MAX_SEQ_LEN)"
      ],
      "execution_count": null,
      "outputs": []
    },
    {
      "cell_type": "code",
      "metadata": {
        "id": "_-8HwfqK1M_E"
      },
      "source": [
        "test_labels=df_test_sol['GENRE'].values"
      ],
      "execution_count": null,
      "outputs": []
    },
    {
      "cell_type": "code",
      "metadata": {
        "id": "9PRWX9La2I4F"
      },
      "source": [
        "label_test_num=[]\r\n",
        "m=0\r\n",
        "for i in range(len(test_labels)):\r\n",
        "  for m in range(len(label_name)):  \r\n",
        "    if test_labels[i]==label_name[m]:\r\n",
        "      label_test_num.append(m)\r\n"
      ],
      "execution_count": null,
      "outputs": []
    },
    {
      "cell_type": "code",
      "metadata": {
        "id": "8aYC9Kkz2dIv"
      },
      "source": [
        "label_test=np.array(label_test_num)"
      ],
      "execution_count": null,
      "outputs": []
    },
    {
      "cell_type": "markdown",
      "metadata": {
        "id": "eo3qpeqTUUqb"
      },
      "source": [
        "### Оценка качества на тестовом датасете"
      ]
    },
    {
      "cell_type": "code",
      "metadata": {
        "id": "zOMKywn4zReN",
        "colab": {
          "base_uri": "https://localhost:8080/"
        },
        "outputId": "e46808e6-5e5f-4e11-c238-f5d34f427b82"
      },
      "source": [
        "results = model.evaluate(test_data, label_test)\n",
        "\n",
        "print('Test loss: {:.4f}'.format(results[0]))\n",
        "print('Test accuracy: {:.2f} %'.format(results[1]*100))"
      ],
      "execution_count": null,
      "outputs": [
        {
          "output_type": "stream",
          "text": [
            "1694/1694 [==============================] - 3s 2ms/step - loss: 1.6802 - acc: 0.5385\n",
            "Test loss: 1.6802\n",
            "Test accuracy: 53.85 %\n"
          ],
          "name": "stdout"
        }
      ]
    }
  ]
}