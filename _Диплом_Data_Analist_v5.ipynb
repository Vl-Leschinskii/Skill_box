{
  "nbformat": 4,
  "nbformat_minor": 0,
  "metadata": {
    "kernelspec": {
      "display_name": "Python 3",
      "language": "python",
      "name": "python3"
    },
    "language_info": {
      "codemirror_mode": {
        "name": "ipython",
        "version": 3
      },
      "file_extension": ".py",
      "mimetype": "text/x-python",
      "name": "python",
      "nbconvert_exporter": "python",
      "pygments_lexer": "ipython3",
      "version": "3.6.3"
    },
    "colab": {
      "name": "\"Диплом Data Analist v5\"",
      "provenance": [],
      "collapsed_sections": [
        "Z0D3oYRI1Nom",
        "rA1tAULzOJSg"
      ]
    }
  },
  "cells": [
    {
      "cell_type": "markdown",
      "metadata": {
        "id": "Z0D3oYRI1Nom"
      },
      "source": [
        "# Диплом\n",
        "\n",
        "\n",
        "[Постановка задачи](#Постановка-задачи) <br>\n",
        "[Codebook](#Codebook)<br>\n",
        "[Требования к работе](#Требования-к-работе)<br>\n",
        "[Критерии оценивания](#Критерии-оценивания)<br>\n",
        "[Дополнительные материалы](#Дополнительные-материалы) <br>\n"
      ]
    },
    {
      "cell_type": "markdown",
      "metadata": {
        "id": "J2-8KamxKxSF"
      },
      "source": [
        "# Начало"
      ]
    },
    {
      "cell_type": "code",
      "metadata": {
        "id": "AAvHFaLj1Noy"
      },
      "source": [
        "import numpy as np\r\n",
        "import pandas as pd\r\n",
        "import math\r\n",
        "\r\n",
        "import matplotlib.pyplot as plt\r\n",
        "%matplotlib inline\r\n",
        "import seaborn as sns\r\n",
        "plt.style.use('seaborn-darkgrid')\r\n",
        "palette = plt.get_cmap('Set2')\r\n",
        "\r\n",
        "import os"
      ],
      "execution_count": null,
      "outputs": []
    },
    {
      "cell_type": "code",
      "metadata": {
        "id": "m161cJKSlGXA"
      },
      "source": [
        "import plotly as plotly\r\n",
        "import plotly.graph_objects as go"
      ],
      "execution_count": null,
      "outputs": []
    },
    {
      "cell_type": "code",
      "metadata": {
        "id": "vABnexi_WK34"
      },
      "source": [
        "import plotly.express as px\r\n",
        "from plotly.subplots import make_subplots"
      ],
      "execution_count": null,
      "outputs": []
    },
    {
      "cell_type": "code",
      "metadata": {
        "id": "Ym0hzcr-jCKk"
      },
      "source": [
        "#megafon = pd.read_csv(\"/content/megafon.csv\")\r\n",
        "#megafon.head()"
      ],
      "execution_count": null,
      "outputs": []
    },
    {
      "cell_type": "markdown",
      "metadata": {
        "id": "jnXd-r7-6Vci"
      },
      "source": [
        "# Подготовка данных для анализа"
      ]
    },
    {
      "cell_type": "code",
      "metadata": {
        "colab": {
          "base_uri": "https://localhost:8080/"
        },
        "id": "Ouw_KjQDkj6V",
        "outputId": "7feb5503-2a1f-48ea-fb6d-6e033d57c4bc"
      },
      "source": [
        "megafon.info()"
      ],
      "execution_count": null,
      "outputs": [
        {
          "output_type": "stream",
          "text": [
            "<class 'pandas.core.frame.DataFrame'>\n",
            "RangeIndex: 3112 entries, 0 to 3111\n",
            "Data columns (total 11 columns):\n",
            " #   Column                                     Non-Null Count  Dtype  \n",
            "---  ------                                     --------------  -----  \n",
            " 0   user_id                                    3112 non-null   int64  \n",
            " 1   Q1                                         3110 non-null   object \n",
            " 2   Q2                                         1315 non-null   object \n",
            " 3   Total Traffic(MB)                          3112 non-null   float64\n",
            " 4   Downlink Throughput(Kbps)                  3112 non-null   float64\n",
            " 5   Uplink Throughput(Kbps)                    3112 non-null   float64\n",
            " 6   Downlink TCP Retransmission Rate(%)        3112 non-null   float64\n",
            " 7   Video Streaming Download Throughput(Kbps)  3112 non-null   float64\n",
            " 8   Video Streaming xKB Start Delay(ms)        3112 non-null   int64  \n",
            " 9   Web Page Download Throughput(Kbps)         3112 non-null   float64\n",
            " 10  Web Average TCP RTT(ms)                    3112 non-null   int64  \n",
            "dtypes: float64(6), int64(3), object(2)\n",
            "memory usage: 267.6+ KB\n"
          ],
          "name": "stdout"
        }
      ]
    },
    {
      "cell_type": "code",
      "metadata": {
        "id": "nf5C0fhIkzuZ"
      },
      "source": [
        "megafon.describe()"
      ],
      "execution_count": null,
      "outputs": []
    },
    {
      "cell_type": "markdown",
      "metadata": {
        "id": "iZQrkOd_YpNo"
      },
      "source": [
        "Поскольку на вопрос Q2 были допустимы множественные ответы, преобразуем данные так, чтобы каждому ответу Q2 соответствовала отдельная запись."
      ]
    },
    {
      "cell_type": "markdown",
      "metadata": {
        "id": "6_UvThSpZS8D"
      },
      "source": [
        "Сформируем временную таблицу с полями 'user_id'  и  'Q2'"
      ]
    },
    {
      "cell_type": "code",
      "metadata": {
        "colab": {
          "base_uri": "https://localhost:8080/",
          "height": 419
        },
        "id": "GAVlhpKJlp3Q",
        "outputId": "375db787-ece5-4391-e934-e4f25707699a"
      },
      "source": [
        "meg_base=megafon[['user_id','Q2']]\r\n",
        "meg_base"
      ],
      "execution_count": null,
      "outputs": [
        {
          "output_type": "execute_result",
          "data": {
            "text/html": [
              "<div>\n",
              "<style scoped>\n",
              "    .dataframe tbody tr th:only-of-type {\n",
              "        vertical-align: middle;\n",
              "    }\n",
              "\n",
              "    .dataframe tbody tr th {\n",
              "        vertical-align: top;\n",
              "    }\n",
              "\n",
              "    .dataframe thead th {\n",
              "        text-align: right;\n",
              "    }\n",
              "</style>\n",
              "<table border=\"1\" class=\"dataframe\">\n",
              "  <thead>\n",
              "    <tr style=\"text-align: right;\">\n",
              "      <th></th>\n",
              "      <th>user_id</th>\n",
              "      <th>Q2</th>\n",
              "    </tr>\n",
              "  </thead>\n",
              "  <tbody>\n",
              "    <tr>\n",
              "      <th>0</th>\n",
              "      <td>1</td>\n",
              "      <td>NaN</td>\n",
              "    </tr>\n",
              "    <tr>\n",
              "      <th>1</th>\n",
              "      <td>2</td>\n",
              "      <td>4</td>\n",
              "    </tr>\n",
              "    <tr>\n",
              "      <th>2</th>\n",
              "      <td>3</td>\n",
              "      <td>4</td>\n",
              "    </tr>\n",
              "    <tr>\n",
              "      <th>3</th>\n",
              "      <td>4</td>\n",
              "      <td>3</td>\n",
              "    </tr>\n",
              "    <tr>\n",
              "      <th>4</th>\n",
              "      <td>5</td>\n",
              "      <td>2, 3, 4</td>\n",
              "    </tr>\n",
              "    <tr>\n",
              "      <th>...</th>\n",
              "      <td>...</td>\n",
              "      <td>...</td>\n",
              "    </tr>\n",
              "    <tr>\n",
              "      <th>3107</th>\n",
              "      <td>3108</td>\n",
              "      <td>1, 4, 5</td>\n",
              "    </tr>\n",
              "    <tr>\n",
              "      <th>3108</th>\n",
              "      <td>3109</td>\n",
              "      <td>1, 3, 4, 5</td>\n",
              "    </tr>\n",
              "    <tr>\n",
              "      <th>3109</th>\n",
              "      <td>3110</td>\n",
              "      <td>NaN</td>\n",
              "    </tr>\n",
              "    <tr>\n",
              "      <th>3110</th>\n",
              "      <td>3111</td>\n",
              "      <td>1, 3</td>\n",
              "    </tr>\n",
              "    <tr>\n",
              "      <th>3111</th>\n",
              "      <td>3112</td>\n",
              "      <td>NaN</td>\n",
              "    </tr>\n",
              "  </tbody>\n",
              "</table>\n",
              "<p>3112 rows × 2 columns</p>\n",
              "</div>"
            ],
            "text/plain": [
              "      user_id          Q2\n",
              "0           1         NaN\n",
              "1           2           4\n",
              "2           3           4\n",
              "3           4           3\n",
              "4           5     2, 3, 4\n",
              "...       ...         ...\n",
              "3107     3108     1, 4, 5\n",
              "3108     3109  1, 3, 4, 5\n",
              "3109     3110         NaN\n",
              "3110     3111        1, 3\n",
              "3111     3112         NaN\n",
              "\n",
              "[3112 rows x 2 columns]"
            ]
          },
          "metadata": {
            "tags": []
          },
          "execution_count": 6
        }
      ]
    },
    {
      "cell_type": "markdown",
      "metadata": {
        "id": "9GxcdF6ZZ0co"
      },
      "source": [
        "Заменим пропущенные значения в Q2 на значение не использованное в опросе - 9"
      ]
    },
    {
      "cell_type": "code",
      "metadata": {
        "colab": {
          "base_uri": "https://localhost:8080/",
          "height": 538
        },
        "id": "MhHkw5_lzyHf",
        "outputId": "d23b4e8d-56e2-410c-d3b7-9677201b334b"
      },
      "source": [
        "meg_base.fillna(9,inplace=True)\r\n",
        "meg_base.head()"
      ],
      "execution_count": null,
      "outputs": [
        {
          "output_type": "stream",
          "text": [
            "/usr/local/lib/python3.6/dist-packages/pandas/core/frame.py:4327: SettingWithCopyWarning:\n",
            "\n",
            "\n",
            "A value is trying to be set on a copy of a slice from a DataFrame\n",
            "\n",
            "See the caveats in the documentation: https://pandas.pydata.org/pandas-docs/stable/user_guide/indexing.html#returning-a-view-versus-a-copy\n",
            "\n"
          ],
          "name": "stderr"
        },
        {
          "output_type": "execute_result",
          "data": {
            "text/html": [
              "<div>\n",
              "<style scoped>\n",
              "    .dataframe tbody tr th:only-of-type {\n",
              "        vertical-align: middle;\n",
              "    }\n",
              "\n",
              "    .dataframe tbody tr th {\n",
              "        vertical-align: top;\n",
              "    }\n",
              "\n",
              "    .dataframe thead th {\n",
              "        text-align: right;\n",
              "    }\n",
              "</style>\n",
              "<table border=\"1\" class=\"dataframe\">\n",
              "  <thead>\n",
              "    <tr style=\"text-align: right;\">\n",
              "      <th></th>\n",
              "      <th>user_id</th>\n",
              "      <th>Q2</th>\n",
              "    </tr>\n",
              "  </thead>\n",
              "  <tbody>\n",
              "    <tr>\n",
              "      <th>0</th>\n",
              "      <td>1</td>\n",
              "      <td>9</td>\n",
              "    </tr>\n",
              "    <tr>\n",
              "      <th>1</th>\n",
              "      <td>2</td>\n",
              "      <td>4</td>\n",
              "    </tr>\n",
              "    <tr>\n",
              "      <th>2</th>\n",
              "      <td>3</td>\n",
              "      <td>4</td>\n",
              "    </tr>\n",
              "    <tr>\n",
              "      <th>3</th>\n",
              "      <td>4</td>\n",
              "      <td>3</td>\n",
              "    </tr>\n",
              "    <tr>\n",
              "      <th>4</th>\n",
              "      <td>5</td>\n",
              "      <td>2, 3, 4</td>\n",
              "    </tr>\n",
              "    <tr>\n",
              "      <th>...</th>\n",
              "      <td>...</td>\n",
              "      <td>...</td>\n",
              "    </tr>\n",
              "    <tr>\n",
              "      <th>3107</th>\n",
              "      <td>3108</td>\n",
              "      <td>1, 4, 5</td>\n",
              "    </tr>\n",
              "    <tr>\n",
              "      <th>3108</th>\n",
              "      <td>3109</td>\n",
              "      <td>1, 3, 4, 5</td>\n",
              "    </tr>\n",
              "    <tr>\n",
              "      <th>3109</th>\n",
              "      <td>3110</td>\n",
              "      <td>9</td>\n",
              "    </tr>\n",
              "    <tr>\n",
              "      <th>3110</th>\n",
              "      <td>3111</td>\n",
              "      <td>1, 3</td>\n",
              "    </tr>\n",
              "    <tr>\n",
              "      <th>3111</th>\n",
              "      <td>3112</td>\n",
              "      <td>9</td>\n",
              "    </tr>\n",
              "  </tbody>\n",
              "</table>\n",
              "<p>3112 rows × 2 columns</p>\n",
              "</div>"
            ],
            "text/plain": [
              "      user_id          Q2\n",
              "0           1           9\n",
              "1           2           4\n",
              "2           3           4\n",
              "3           4           3\n",
              "4           5     2, 3, 4\n",
              "...       ...         ...\n",
              "3107     3108     1, 4, 5\n",
              "3108     3109  1, 3, 4, 5\n",
              "3109     3110           9\n",
              "3110     3111        1, 3\n",
              "3111     3112           9\n",
              "\n",
              "[3112 rows x 2 columns]"
            ]
          },
          "metadata": {
            "tags": []
          },
          "execution_count": 14
        }
      ]
    },
    {
      "cell_type": "markdown",
      "metadata": {
        "id": "qx-cbP5VaM2i"
      },
      "source": [
        "создадим новый датафрейм, с исправленными данными"
      ]
    },
    {
      "cell_type": "code",
      "metadata": {
        "colab": {
          "base_uri": "https://localhost:8080/",
          "height": 487
        },
        "id": "jzM3AwQ6nhRN",
        "outputId": "d40c8492-9640-48b8-8541-dfbee6e93910"
      },
      "source": [
        "new_meg=[]\r\n",
        "for index, row in meg_base.iterrows():\r\n",
        "  result = list(str(row[1]))\r\n",
        "#  print(result)\r\n",
        "  for m in range(len(result)):\r\n",
        "    if (result[m]!=',') and (result[m]!=' '):\r\n",
        "        time_row=[row[0],result[m]]\r\n",
        "        new_meg.append(time_row)\r\n",
        "new_meg\r\n",
        "\r\n",
        "df_new_mef=pd.DataFrame(new_meg)\r\n",
        "df_new_mef.columns=['user_id','Q_2_new']\r\n",
        "new_data=df_new_mef.merge(megafon)\r\n",
        "new_data\r\n"
      ],
      "execution_count": null,
      "outputs": [
        {
          "output_type": "execute_result",
          "data": {
            "text/html": [
              "<div>\n",
              "<style scoped>\n",
              "    .dataframe tbody tr th:only-of-type {\n",
              "        vertical-align: middle;\n",
              "    }\n",
              "\n",
              "    .dataframe tbody tr th {\n",
              "        vertical-align: top;\n",
              "    }\n",
              "\n",
              "    .dataframe thead th {\n",
              "        text-align: right;\n",
              "    }\n",
              "</style>\n",
              "<table border=\"1\" class=\"dataframe\">\n",
              "  <thead>\n",
              "    <tr style=\"text-align: right;\">\n",
              "      <th></th>\n",
              "      <th>user_id</th>\n",
              "      <th>Q_2_new</th>\n",
              "      <th>Q1</th>\n",
              "      <th>Q2</th>\n",
              "      <th>Total Traffic(MB)</th>\n",
              "      <th>Downlink Throughput(Kbps)</th>\n",
              "      <th>Uplink Throughput(Kbps)</th>\n",
              "      <th>Downlink TCP Retransmission Rate(%)</th>\n",
              "      <th>Video Streaming Download Throughput(Kbps)</th>\n",
              "      <th>Video Streaming xKB Start Delay(ms)</th>\n",
              "      <th>Web Page Download Throughput(Kbps)</th>\n",
              "      <th>Web Average TCP RTT(ms)</th>\n",
              "    </tr>\n",
              "  </thead>\n",
              "  <tbody>\n",
              "    <tr>\n",
              "      <th>0</th>\n",
              "      <td>1</td>\n",
              "      <td>9</td>\n",
              "      <td>5</td>\n",
              "      <td>NaN</td>\n",
              "      <td>775.48846</td>\n",
              "      <td>360.13</td>\n",
              "      <td>86.56</td>\n",
              "      <td>3.93</td>\n",
              "      <td>1859.15</td>\n",
              "      <td>2309</td>\n",
              "      <td>1007.82</td>\n",
              "      <td>83</td>\n",
              "    </tr>\n",
              "    <tr>\n",
              "      <th>1</th>\n",
              "      <td>2</td>\n",
              "      <td>4</td>\n",
              "      <td>5</td>\n",
              "      <td>4</td>\n",
              "      <td>861.96324</td>\n",
              "      <td>3023.54</td>\n",
              "      <td>411.18</td>\n",
              "      <td>1.27</td>\n",
              "      <td>667.47</td>\n",
              "      <td>2080</td>\n",
              "      <td>255.36</td>\n",
              "      <td>425</td>\n",
              "    </tr>\n",
              "    <tr>\n",
              "      <th>2</th>\n",
              "      <td>3</td>\n",
              "      <td>4</td>\n",
              "      <td>1</td>\n",
              "      <td>4</td>\n",
              "      <td>261.11860</td>\n",
              "      <td>790.96</td>\n",
              "      <td>34.20</td>\n",
              "      <td>1.79</td>\n",
              "      <td>1079.60</td>\n",
              "      <td>6367</td>\n",
              "      <td>535.85</td>\n",
              "      <td>485</td>\n",
              "    </tr>\n",
              "    <tr>\n",
              "      <th>3</th>\n",
              "      <td>4</td>\n",
              "      <td>3</td>\n",
              "      <td>8</td>\n",
              "      <td>3</td>\n",
              "      <td>179.18564</td>\n",
              "      <td>2590.97</td>\n",
              "      <td>325.88</td>\n",
              "      <td>0.80</td>\n",
              "      <td>7053.81</td>\n",
              "      <td>3218</td>\n",
              "      <td>1221.02</td>\n",
              "      <td>51</td>\n",
              "    </tr>\n",
              "    <tr>\n",
              "      <th>4</th>\n",
              "      <td>5</td>\n",
              "      <td>2</td>\n",
              "      <td>2</td>\n",
              "      <td>2, 3, 4</td>\n",
              "      <td>351.99208</td>\n",
              "      <td>731.61</td>\n",
              "      <td>223.54</td>\n",
              "      <td>1.15</td>\n",
              "      <td>4550.38</td>\n",
              "      <td>1767</td>\n",
              "      <td>2336.56</td>\n",
              "      <td>68</td>\n",
              "    </tr>\n",
              "    <tr>\n",
              "      <th>...</th>\n",
              "      <td>...</td>\n",
              "      <td>...</td>\n",
              "      <td>...</td>\n",
              "      <td>...</td>\n",
              "      <td>...</td>\n",
              "      <td>...</td>\n",
              "      <td>...</td>\n",
              "      <td>...</td>\n",
              "      <td>...</td>\n",
              "      <td>...</td>\n",
              "      <td>...</td>\n",
              "      <td>...</td>\n",
              "    </tr>\n",
              "    <tr>\n",
              "      <th>4285</th>\n",
              "      <td>3109</td>\n",
              "      <td>5</td>\n",
              "      <td>3</td>\n",
              "      <td>1, 3, 4, 5</td>\n",
              "      <td>171.52629</td>\n",
              "      <td>670.32</td>\n",
              "      <td>40.94</td>\n",
              "      <td>2.35</td>\n",
              "      <td>1711.54</td>\n",
              "      <td>2780</td>\n",
              "      <td>954.91</td>\n",
              "      <td>251</td>\n",
              "    </tr>\n",
              "    <tr>\n",
              "      <th>4286</th>\n",
              "      <td>3110</td>\n",
              "      <td>9</td>\n",
              "      <td>10</td>\n",
              "      <td>NaN</td>\n",
              "      <td>187.44936</td>\n",
              "      <td>590.29</td>\n",
              "      <td>186.36</td>\n",
              "      <td>2.06</td>\n",
              "      <td>3182.83</td>\n",
              "      <td>2195</td>\n",
              "      <td>1094.62</td>\n",
              "      <td>109</td>\n",
              "    </tr>\n",
              "    <tr>\n",
              "      <th>4287</th>\n",
              "      <td>3111</td>\n",
              "      <td>1</td>\n",
              "      <td>6</td>\n",
              "      <td>1, 3</td>\n",
              "      <td>827.74515</td>\n",
              "      <td>1841.90</td>\n",
              "      <td>373.53</td>\n",
              "      <td>1.21</td>\n",
              "      <td>5675.93</td>\n",
              "      <td>1905</td>\n",
              "      <td>2361.88</td>\n",
              "      <td>202</td>\n",
              "    </tr>\n",
              "    <tr>\n",
              "      <th>4288</th>\n",
              "      <td>3111</td>\n",
              "      <td>3</td>\n",
              "      <td>6</td>\n",
              "      <td>1, 3</td>\n",
              "      <td>827.74515</td>\n",
              "      <td>1841.90</td>\n",
              "      <td>373.53</td>\n",
              "      <td>1.21</td>\n",
              "      <td>5675.93</td>\n",
              "      <td>1905</td>\n",
              "      <td>2361.88</td>\n",
              "      <td>202</td>\n",
              "    </tr>\n",
              "    <tr>\n",
              "      <th>4289</th>\n",
              "      <td>3112</td>\n",
              "      <td>9</td>\n",
              "      <td>6</td>\n",
              "      <td>NaN</td>\n",
              "      <td>596.22757</td>\n",
              "      <td>2196.00</td>\n",
              "      <td>265.87</td>\n",
              "      <td>0.41</td>\n",
              "      <td>9295.59</td>\n",
              "      <td>2036</td>\n",
              "      <td>5009.29</td>\n",
              "      <td>156</td>\n",
              "    </tr>\n",
              "  </tbody>\n",
              "</table>\n",
              "<p>4290 rows × 12 columns</p>\n",
              "</div>"
            ],
            "text/plain": [
              "      user_id  ... Web Average TCP RTT(ms)\n",
              "0           1  ...                      83\n",
              "1           2  ...                     425\n",
              "2           3  ...                     485\n",
              "3           4  ...                      51\n",
              "4           5  ...                      68\n",
              "...       ...  ...                     ...\n",
              "4285     3109  ...                     251\n",
              "4286     3110  ...                     109\n",
              "4287     3111  ...                     202\n",
              "4288     3111  ...                     202\n",
              "4289     3112  ...                     156\n",
              "\n",
              "[4290 rows x 12 columns]"
            ]
          },
          "metadata": {
            "tags": []
          },
          "execution_count": 15
        }
      ]
    },
    {
      "cell_type": "code",
      "metadata": {
        "colab": {
          "base_uri": "https://localhost:8080/"
        },
        "id": "CkVf-8gf4GEY",
        "outputId": "093fbbaa-9f6c-48a2-c5e5-c6567f49493d"
      },
      "source": [
        "new_data.nunique()"
      ],
      "execution_count": null,
      "outputs": [
        {
          "output_type": "execute_result",
          "data": {
            "text/plain": [
              "user_id                                      3112\n",
              "Q_2_new                                         9\n",
              "Q1                                             49\n",
              "Q2                                             51\n",
              "Total Traffic(MB)                            3112\n",
              "Downlink Throughput(Kbps)                    3102\n",
              "Uplink Throughput(Kbps)                      2955\n",
              "Downlink TCP Retransmission Rate(%)           573\n",
              "Video Streaming Download Throughput(Kbps)    3108\n",
              "Video Streaming xKB Start Delay(ms)          1882\n",
              "Web Page Download Throughput(Kbps)           3097\n",
              "Web Average TCP RTT(ms)                       583\n",
              "dtype: int64"
            ]
          },
          "metadata": {
            "tags": []
          },
          "execution_count": 10
        }
      ]
    },
    {
      "cell_type": "code",
      "metadata": {
        "id": "H4O2lxMP2muD"
      },
      "source": [
        "new_data.to_csv('new_megafon.csv')"
      ],
      "execution_count": null,
      "outputs": []
    },
    {
      "cell_type": "markdown",
      "metadata": {
        "id": "bl1vGPi6lklC"
      },
      "source": [
        "Сохранение подготовленных данных"
      ]
    },
    {
      "cell_type": "markdown",
      "metadata": {
        "id": "7WU7sdA3-RUB"
      },
      "source": [
        "Сформулируем гипотезы для проверки:\r\n",
        "\r\n",
        "ГИПОТЕЗА 1 \"Для всех технических показателей качество оказания услуг для пользователей поставивших баллы 9-10, лучше чем для пользователей поставивших баллы от 1 до 8.\r\n",
        "\r\n",
        "\r\n",
        ">\r\n",
        "ГИПОТЕЗА 2 \"Технические показатели собранные техническим отделом, влияют на качество оказания услуг для пользователей поставивших баллы 1-8\r\n",
        "\r\n",
        "\r\n",
        "> \r\n",
        "ГИПОТЕЗА 3 Опрос проведенный компанией позволит исправить большую часть (более 50%) обращений пользователей высказаных ими в опросе.\r\n"
      ]
    },
    {
      "cell_type": "markdown",
      "metadata": {
        "id": "kFTAXRRgSPSD"
      },
      "source": [
        "\r\n",
        "\r\n",
        "---\r\n",
        "\r\n"
      ]
    },
    {
      "cell_type": "markdown",
      "metadata": {
        "id": "egqiSSwuzvoH"
      },
      "source": [
        "# Гипотеза 1. Разведочный анализ"
      ]
    },
    {
      "cell_type": "markdown",
      "metadata": {
        "id": "1HjAhDXslVRZ"
      },
      "source": [
        "Загрузка сохраненных подготовленных данных"
      ]
    },
    {
      "cell_type": "code",
      "metadata": {
        "id": "tUnWgFov3LsP"
      },
      "source": [
        "new_data = pd.read_csv(\"/content/new_megafon.csv\")"
      ],
      "execution_count": null,
      "outputs": []
    },
    {
      "cell_type": "markdown",
      "metadata": {
        "id": "ty8IQVy9XYa5"
      },
      "source": [
        "Выделим данные для пользователей давших на вопрос Q1 оценки 9 и 10 "
      ]
    },
    {
      "cell_type": "code",
      "metadata": {
        "id": "PkV52CEb5KEa"
      },
      "source": [
        "new_data_best=new_data[(new_data['Q1']=='9')|(new_data['Q1']=='10')]\r\n",
        "#new_data_best.head()"
      ],
      "execution_count": null,
      "outputs": []
    },
    {
      "cell_type": "markdown",
      "metadata": {
        "id": "clBp5JUOX_PT"
      },
      "source": [
        "Выделим данные пользователей давших на вопрос Q1 ответы отличные от 9 и 10"
      ]
    },
    {
      "cell_type": "code",
      "metadata": {
        "id": "Q-0VbvhBVH44"
      },
      "source": [
        "new_data_other=new_data[(new_data['Q1']!='9')&(new_data['Q1']!='10')]\r\n",
        "#new_data_other.head()"
      ],
      "execution_count": null,
      "outputs": []
    },
    {
      "cell_type": "markdown",
      "metadata": {
        "id": "iS_c3cI_bn7g"
      },
      "source": [
        "поскольку, ответы на вопрос Q1, содержит не только цифры"
      ]
    },
    {
      "cell_type": "code",
      "metadata": {
        "colab": {
          "base_uri": "https://localhost:8080/"
        },
        "id": "CxQ0EbdPwc2J",
        "outputId": "12fdd821-742e-4ce6-f269-ede4621c822f"
      },
      "source": [
        "new_data_other['Q1'].unique()"
      ],
      "execution_count": null,
      "outputs": [
        {
          "output_type": "execute_result",
          "data": {
            "text/plain": [
              "array(['5', '1', '8', '2', '3', '7', '4', '11', '6', '2, 9', '0', '1, 3',\n",
              "       '19', '15', nan, '1, 6', '***** ** ***',\n",
              "       '3 - дер.Ширяево Волоколамского района, 9 - в Москве', '10, 9',\n",
              "       'Чем даль ше,тем лучше.Спасибо за ваш труд.Оценка 10 !',\n",
              "       'ОЦЕНКА-3/НЕВАЖНО/', 'Отвратительно',\n",
              "       'Я ценой услуг не удовлетворен', 'Пока не понял', '3, 9', '5, 6',\n",
              "       '0, 1, 5', '5, 7', 'Hi',\n",
              "       '4. Тульская область Заокский район. Романовские дачи связи почти нет',\n",
              "       'Немагу дать атценку денги незашто снимаеть скоро выклучаю',\n",
              "       '10, 50',\n",
              "       'Очень  хорошо. Обслуживания  я довольно. Спасибо вам.555', '?',\n",
              "       'Поохое',\n",
              "       'Когда в Москве-10 а когда в калужской области в деревне Бели-1',\n",
              "       'Нет', 'Да', 'Ужасно',\n",
              "       '3 тройка, связь отвратительная, жалко платить за такой тарив',\n",
              "       'Чдтчдтччдтччч', '3, 7', '20, 89031081392', '1, 8', 'Без з',\n",
              "       '10, 5', '2, 5',\n",
              "       'Я в Смол. Области живу сейчас, не пользуюсь телефоном совсем'],\n",
              "      dtype=object)"
            ]
          },
          "metadata": {
            "tags": []
          },
          "execution_count": 31
        }
      ]
    },
    {
      "cell_type": "markdown",
      "metadata": {
        "id": "eam7lTCHcB_W"
      },
      "source": [
        "создадим новый датафрейм только с ответами 1-8.\r\n",
        "Прочие ответы в данном исследовании анализировать не будем"
      ]
    },
    {
      "cell_type": "code",
      "metadata": {
        "id": "EwZjuzlo5Nu2"
      },
      "source": [
        "new_data_other_filt=new_data[new_data['Q1'].isin(['1', '2', '3', '4', '5', '6', '7', '8'])]\r\n",
        "#new_data_other_filt.head()"
      ],
      "execution_count": null,
      "outputs": []
    },
    {
      "cell_type": "code",
      "metadata": {
        "id": "3HlMHLv6IEb3"
      },
      "source": [
        "col_all=['Downlink Throughput(Kbps)', 'Uplink Throughput(Kbps)','Downlink TCP Retransmission Rate(%)','Video Streaming Download Throughput(Kbps)',\r\n",
        "       'Video Streaming xKB Start Delay(ms)','Web Page Download Throughput(Kbps)', 'Web Average TCP RTT(ms)']"
      ],
      "execution_count": null,
      "outputs": []
    },
    {
      "cell_type": "code",
      "metadata": {
        "id": "Bz-J270JXMrU"
      },
      "source": [
        "data_best=new_data_best[new_data_best['Q1'].isin(['9','10'])][col_all]\r\n",
        "data_no_best=new_data_other_filt[new_data_other_filt['Q1'].isin(['1','2','3','4','5,','7','8'])][col_all]\r\n",
        "#data_no_best.head()  "
      ],
      "execution_count": null,
      "outputs": []
    },
    {
      "cell_type": "code",
      "metadata": {
        "id": "d9tyOj08eBiB"
      },
      "source": [
        "#data_best"
      ],
      "execution_count": null,
      "outputs": []
    },
    {
      "cell_type": "markdown",
      "metadata": {
        "id": "Z7OTn54iIeLb"
      },
      "source": [
        "Визуально сравним средние выборочные значения для пользователей удовлетворенных услугами компании и пользователей поставивших оценки 1-8.\r\n",
        "Если проверяемая гипотеза верна, то значения средних для группы удовлетворенных услугами (группа «best») будут для всех технических параметров лучше, чем для группы поставившей баллы 1-8 (группа «no_best»)"
      ]
    },
    {
      "cell_type": "markdown",
      "metadata": {
        "id": "kS3BdPM8NSdq"
      },
      "source": [
        "https://dev-gang.ru/article/sohranit-grafik-kak-izobrazhenie-s-pomosczu-matplotlib-qf2ql46hx8/"
      ]
    },
    {
      "cell_type": "code",
      "metadata": {
        "colab": {
          "base_uri": "https://localhost:8080/",
          "height": 1000
        },
        "id": "wfm_gW7ZewZl",
        "outputId": "1b6995a1-b788-41c6-eb5f-1203dbd805cc"
      },
      "source": [
        "width = 0.35\r\n",
        "for col in col_all:\r\n",
        "  fig, ax = plt.subplots() \r\n",
        "  ax.bar(1 - width/2, data_best[col].mean(), width, label='9,10')\r\n",
        "  ax.bar(1 + width/2, data_no_best[col].mean(), width, label='1-8')\r\n",
        "  ax.tick_params(axis='y',labelcolor='Black')\r\n",
        "  ax.set_xticklabels('  ')\r\n",
        "  ax.legend() \r\n",
        "  ax.set_title(col,color='Black',fontsize='16')\r\n",
        "  fig.savefig('Hip1_' + col,transparent=True)\r\n",
        "  plt.show()\r\n"
      ],
      "execution_count": null,
      "outputs": [
        {
          "output_type": "display_data",
          "data": {
            "image/png": "[encoded data removed]",
            "text/plain": [
              "<Figure size 432x288 with 1 Axes>"
            ]
          },
          "metadata": {
            "tags": []
          }
        },
        {
          "output_type": "display_data",
          "data": {
            "image/png": "[encoded data removed]",
            "text/plain": [
              "<Figure size 432x288 with 1 Axes>"
            ]
          },
          "metadata": {
            "tags": []
          }
        },
        {
          "output_type": "display_data",
          "data": {
            "image/png": "[encoded data removed]",
            "text/plain": [
              "<Figure size 432x288 with 1 Axes>"
            ]
          },
          "metadata": {
            "tags": []
          }
        },
        {
          "output_type": "display_data",
          "data": {
            "image/png": "[encoded data removed]",
            "text/plain": [
              "<Figure size 432x288 with 1 Axes>"
            ]
          },
          "metadata": {
            "tags": []
          }
        },
        {
          "output_type": "display_data",
          "data": {
            "image/png": "[encoded data removed]",
            "text/plain": [
              "<Figure size 432x288 with 1 Axes>"
            ]
          },
          "metadata": {
            "tags": []
          }
        },
        {
          "output_type": "display_data",
          "data": {
            "image/png": "[encoded data removed]",
            "text/plain": [
              "<Figure size 432x288 with 1 Axes>"
            ]
          },
          "metadata": {
            "tags": []
          }
        },
        {
          "output_type": "display_data",
          "data": {
            "image/png": "[encoded data removed]",
            "text/plain": [
              "<Figure size 432x288 with 1 Axes>"
            ]
          },
          "metadata": {
            "tags": []
          }
        }
      ]
    },
    {
      "cell_type": "markdown",
      "metadata": {
        "id": "Mr0kwz4_Iy2Y"
      },
      "source": [
        "Видно , что для всех сравниваемых технических показателей для группы \"best\", получены более препочтительные для пользователей значения."
      ]
    },
    {
      "cell_type": "markdown",
      "metadata": {
        "id": "Bhd92AsxGypx"
      },
      "source": [
        "Оценим статистическую достоверность наблюдаемых различий"
      ]
    },
    {
      "cell_type": "markdown",
      "metadata": {
        "id": "pXLOCQ_9HITN"
      },
      "source": [
        "# Гипотеза 1. Статистические тесты"
      ]
    },
    {
      "cell_type": "markdown",
      "metadata": {
        "id": "kzy1k2WbSiLo"
      },
      "source": [
        "Построим для каждого из исследуемого технического показателя доверительные интервалы для выборочных средних для групп \"best\" и \"no_best\"."
      ]
    },
    {
      "cell_type": "code",
      "metadata": {
        "colab": {
          "base_uri": "https://localhost:8080/"
        },
        "id": "cgxOW9Yz0BBI",
        "outputId": "4460a326-b55e-4f51-cea9-ff0f4e06b2da"
      },
      "source": [
        "import scipy.stats as st\r\n",
        "for col in col_all:\r\n",
        "  print('Для переменной',col)\r\n",
        "  print('Выыборочная средняя bad=',data_no_best[col].mean(),'  good=',data_best[col].mean())\r\n",
        "  print('Доверительный интервал bad: ',st.t.interval(0.95, data_no_best[col].count()-1, loc=data_no_best[col].mean(), scale=st.sem(data_no_best[col])),' good: ',st.t.interval(0.95, data_best[col].count()-1, loc=data_best[col].mean(), scale=st.sem(data_best[col])))"
      ],
      "execution_count": null,
      "outputs": [
        {
          "output_type": "stream",
          "text": [
            "Для переменной Downlink Throughput(Kbps)\n",
            "Выыборочная средняя bad= 1903.8670129870118   good= 2506.0169003690007\n",
            "Доверительный интервал bad:  (1811.7052618127964, 1996.0287641612272)  good:  (2342.6554811976916, 2669.37831954031)\n",
            "Для переменной Uplink Throughput(Kbps)\n",
            "Выыборочная средняя bad= 157.7853705118412   good= 182.43023985239847\n",
            "Доверительный интервал bad:  (151.01755890600737, 164.55318211767502)  good:  (168.65366239143808, 196.20681731335887)\n",
            "Для переменной Downlink TCP Retransmission Rate(%)\n",
            "Выыборочная средняя bad= 2.0656073338426255   good= 1.652730627306272\n",
            "Доверительный интервал bad:  (1.9739443696409655, 2.1572702980442853)  good:  (1.5443978298287027, 1.7610634247838415)\n",
            "Для переменной Video Streaming Download Throughput(Kbps)\n",
            "Выыборочная средняя bad= 4994.800187165788   good= 6303.191808118076\n",
            "Доверительный интервал bad:  (4814.433017942448, 5175.167356389128)  good:  (5986.712961710575, 6619.6706545255765)\n",
            "Для переменной Video Streaming xKB Start Delay(ms)\n",
            "Выыборочная средняя bad= 2299.035905271199   good= 1919.189114391144\n",
            "Доверительный интервал bad:  (2230.0712553456806, 2368.000555196718)  good:  (1835.1707666764537, 2003.207462105834)\n",
            "Для переменной Web Page Download Throughput(Kbps)\n",
            "Выыборочная средняя bad= 1910.1390679908377   good= 2290.297490774906\n",
            "Доверительный интервал bad:  (1829.143264257547, 1991.1348717241285)  good:  (2171.162388085217, 2409.4325934645944)\n",
            "Для переменной Web Average TCP RTT(ms)\n",
            "Выыборочная средняя bad= 228.39381207028265   good= 167.37638376383765\n",
            "Доверительный интервал bad:  (215.66431841124557, 241.12330572931972)  good:  (154.19714334889744, 180.55562417877786)\n"
          ],
          "name": "stdout"
        }
      ]
    },
    {
      "cell_type": "code",
      "metadata": {
        "id": "8aiEIa3rOdjR",
        "colab": {
          "base_uri": "https://localhost:8080/",
          "height": 1000
        },
        "outputId": "1603840c-d95d-4132-f2ef-4e5519f1ddce"
      },
      "source": [
        "#col_graph=['Downlink Throughput(Kbps)', 'Uplink Throughput(Kbps)','Video Streaming Download Throughput(Kbps)',\r\n",
        "#       'Video Streaming xKB Start Delay(ms)','Web Page Download Throughput(Kbps)', 'Web Average TCP RTT(ms)']\r\n",
        "\r\n",
        "#fig, ax = plt.subplots() \r\n",
        "for col in col_all:#col_graph:\r\n",
        "  fig, ax = plt.subplots() \r\n",
        "  mean1=data_no_best[col].mean()  \r\n",
        "  mean2=data_best[col].mean()\r\n",
        "\r\n",
        "  freedoms1=data_no_best[col].count()-1 \r\n",
        "  freedoms2=data_best[col].count()-1\r\n",
        "  #dov1=st.t.interval(0.95, freedoms1, loc=mean1)\r\n",
        "  #dov2=st.t.interval(0.95, freedoms2, loc=mean2)\r\n",
        "  dov1=st.t.interval(0.95, freedoms1, loc=mean1,scale=st.sem(data_no_best[col]))\r\n",
        "  dov2=st.t.interval(0.95, freedoms2, loc=mean2,scale=st.sem(data_best[col]))\r\n",
        "\r\n",
        "  err1=dov1[1]-dov1[0]\r\n",
        "  err2=dov2[1]-dov2[0]\r\n",
        "\r\n",
        "  #ax.errorbar( 0, mean1,xerr=np.log(err1), capsize=3,linestyle=\"None\",marker=\"s\", markersize=7)\r\n",
        "  ax.errorbar( 0, mean1,xerr=(err1)/2, capsize=3,linestyle=\"None\",marker=\"s\", markersize=7)\r\n",
        "  #ax.errorbar( np.log(abs(mean2-mean1)), mean2, xerr=np.log(err2),capsize=3,linestyle=\"None\",marker=\"s\", markersize=7)\r\n",
        "  ax.errorbar( (abs(mean2-mean1)), mean2, xerr=(err2)/2,capsize=3,linestyle=\"None\",marker=\"s\", markersize=7)\r\n",
        "  \r\n",
        "  ax.set_title(col,color='Black',fontsize='16')\r\n",
        "  fig.savefig('Dov1_' + col,transparent=True) \r\n",
        "  plt.show()"
      ],
      "execution_count": null,
      "outputs": [
        {
          "output_type": "display_data",
          "data": {
            "image/png": "[encoded data removed]",
            "text/plain": [
              "<Figure size 432x288 with 1 Axes>"
            ]
          },
          "metadata": {
            "tags": []
          }
        },
        {
          "output_type": "display_data",
          "data": {
            "image/png": "[encoded data removed]",
            "text/plain": [
              "<Figure size 432x288 with 1 Axes>"
            ]
          },
          "metadata": {
            "tags": []
          }
        },
        {
          "output_type": "display_data",
          "data": {
            "image/png": "[encoded data removed]",
            "text/plain": [
              "<Figure size 432x288 with 1 Axes>"
            ]
          },
          "metadata": {
            "tags": []
          }
        },
        {
          "output_type": "display_data",
          "data": {
            "image/png": "[encoded data removed]",
            "text/plain": [
              "<Figure size 432x288 with 1 Axes>"
            ]
          },
          "metadata": {
            "tags": []
          }
        },
        {
          "output_type": "display_data",
          "data": {
            "image/png": "[encoded data removed]",
            "text/plain": [
              "<Figure size 432x288 with 1 Axes>"
            ]
          },
          "metadata": {
            "tags": []
          }
        },
        {
          "output_type": "display_data",
          "data": {
            "image/png": "[encoded data removed]",
            "text/plain": [
              "<Figure size 432x288 with 1 Axes>"
            ]
          },
          "metadata": {
            "tags": []
          }
        },
        {
          "output_type": "display_data",
          "data": {
            "image/png": "[encoded data removed]",
            "text/plain": [
              "<Figure size 432x288 with 1 Axes>"
            ]
          },
          "metadata": {
            "tags": []
          }
        }
      ]
    },
    {
      "cell_type": "markdown",
      "metadata": {
        "id": "dukpBhMa5rCL"
      },
      "source": [
        "# Гипотеза 1. Выводы\r\n",
        "\r\n",
        "Как видно из приведенных расчетов для всех технических показателей, доверительные интервалы для выборочных средних, не пересекаются. \r\n",
        "Таким образом можно говорить, что\r\n",
        "\r\n",
        "***ГИПОТЕЗА 1 \"Для всех технических показателей качество оказания услуг для пользователей поставивших баллы 9-10, лучше чем для пользователей поставивших баллы от 1 до 8\"***\r\n",
        "\r\n",
        "## Принимается."
      ]
    },
    {
      "cell_type": "markdown",
      "metadata": {
        "id": "xhFt7yw3XuOm"
      },
      "source": [
        "Подтвердим или опровергнем гипотезу 2:\r\n",
        "\r\n",
        "> \r\n",
        " \"Технические показатели собранные техническим отделом, влияют на качество оказания услуг для пользователей поставивших баллы 1-8\"\r\n"
      ]
    },
    {
      "cell_type": "markdown",
      "metadata": {
        "id": "wMIMElYeAVkd"
      },
      "source": [
        "# Гипотеза 2. Разведочный анализ"
      ]
    },
    {
      "cell_type": "markdown",
      "metadata": {
        "id": "tNfdGGQnY68Q"
      },
      "source": [
        "В данных пользователей ответивших на вопрос Q1 баллами 1-8, можно выделить 4 группы. \r\n",
        "1.\tПользователи, выбиравшие ответы 1-3, не удовлетворены услугами мобильной связи.\r\n",
        "2.\tПользователи, выбравшие ответ 4, не удовлетворены услугами мобильного интернета.\r\n",
        "3.\tПользователи выбравшие ответ 5, не удовлетворены услугами доступа к мобильному контенту .\r\n",
        "4.\tПользователи, выбравшие ответ 6-7, не удовлетворены иными услугами Компании.\r\n",
        "\r\n",
        "На мой взгляд, технические показатели собранные в анализируемые данные, являются значимыми для оценки качества оказываемых услуг для групп\r\n",
        "Q2=4 и Q2=5.\r\n",
        "Произведем проверку гипотезы 2 только на данных по этим группам.\r\n"
      ]
    },
    {
      "cell_type": "markdown",
      "metadata": {
        "id": "f-CdUxz0fNuq"
      },
      "source": [
        "Выделим в данных пользователей недовольных услугами (группа \"no_best\"), данные пользователей связанными с мобильным интернетом (Q2=4)"
      ]
    },
    {
      "cell_type": "markdown",
      "metadata": {
        "id": "7CgG0LuahD9o"
      },
      "source": [
        "Данные для  пользователей недовольных мобильным интеренетом (ответ 4 на вопрос Q2)"
      ]
    },
    {
      "cell_type": "code",
      "metadata": {
        "colab": {
          "base_uri": "https://localhost:8080/"
        },
        "id": "sG7aHSau15Ck",
        "outputId": "8c26a4af-859f-4f48-98d4-2fd514d0428d"
      },
      "source": [
        "internet_user_q2_4=new_data_other_filt[new_data_other_filt['Q_2_new']==4]\r\n",
        "internet_user_q2_4.user_id.count()"
      ],
      "execution_count": null,
      "outputs": [
        {
          "output_type": "execute_result",
          "data": {
            "text/plain": [
              "626"
            ]
          },
          "metadata": {
            "tags": []
          },
          "execution_count": 112
        }
      ]
    },
    {
      "cell_type": "markdown",
      "metadata": {
        "id": "AYI78-jfhmyi"
      },
      "source": [
        "Рассчитаем медианные значения для персонализированных значений технических показателей оказания услуг.\r\n",
        "Показатель Total Traffic(MB), в дальнейшем анализе не используется, поскольку на мой взгляд, этот показатель в первую очередь характеризует стиль пользователя, но не имеет однозначного влияния на оценку качества предоставляемых услуг.\r\n",
        "Выбор медианного значения, в качестве обощающего оценочного значений характеризующего качество оказания услуги, на стадии разведочного анализа, объясняется более высокой робастностью этой метрики на \"коротких\" выборках и  позволяет сгладить влияние выбросов."
      ]
    },
    {
      "cell_type": "code",
      "metadata": {
        "colab": {
          "base_uri": "https://localhost:8080/",
          "height": 343
        },
        "id": "uRAXBEH-LiSQ",
        "outputId": "7a2a5f20-8900-462f-a1d2-5f0b49521fc8"
      },
      "source": [
        "internet_user_gr_Q1=internet_user_q2_4.groupby(['Q1'])['Downlink Throughput(Kbps)', 'Uplink Throughput(Kbps)',\r\n",
        "       'Downlink TCP Retransmission Rate(%)',\r\n",
        "       'Video Streaming Download Throughput(Kbps)',\r\n",
        "       'Video Streaming xKB Start Delay(ms)',\r\n",
        "       'Web Page Download Throughput(Kbps)', 'Web Average TCP RTT(ms)'].agg('median').reset_index().sort_values(['Q1'])\r\n",
        "internet_user_gr_Q1.head()"
      ],
      "execution_count": null,
      "outputs": [
        {
          "output_type": "stream",
          "text": [
            "/usr/local/lib/python3.6/dist-packages/ipykernel_launcher.py:5: FutureWarning:\n",
            "\n",
            "Indexing with multiple keys (implicitly converted to a tuple of keys) will be deprecated, use a list instead.\n",
            "\n"
          ],
          "name": "stderr"
        },
        {
          "output_type": "execute_result",
          "data": {
            "text/html": [
              "<div>\n",
              "<style scoped>\n",
              "    .dataframe tbody tr th:only-of-type {\n",
              "        vertical-align: middle;\n",
              "    }\n",
              "\n",
              "    .dataframe tbody tr th {\n",
              "        vertical-align: top;\n",
              "    }\n",
              "\n",
              "    .dataframe thead th {\n",
              "        text-align: right;\n",
              "    }\n",
              "</style>\n",
              "<table border=\"1\" class=\"dataframe\">\n",
              "  <thead>\n",
              "    <tr style=\"text-align: right;\">\n",
              "      <th></th>\n",
              "      <th>Q1</th>\n",
              "      <th>Downlink Throughput(Kbps)</th>\n",
              "      <th>Uplink Throughput(Kbps)</th>\n",
              "      <th>Downlink TCP Retransmission Rate(%)</th>\n",
              "      <th>Video Streaming Download Throughput(Kbps)</th>\n",
              "      <th>Video Streaming xKB Start Delay(ms)</th>\n",
              "      <th>Web Page Download Throughput(Kbps)</th>\n",
              "      <th>Web Average TCP RTT(ms)</th>\n",
              "    </tr>\n",
              "  </thead>\n",
              "  <tbody>\n",
              "    <tr>\n",
              "      <th>0</th>\n",
              "      <td>1</td>\n",
              "      <td>951.440</td>\n",
              "      <td>87.110</td>\n",
              "      <td>1.58</td>\n",
              "      <td>2596.580</td>\n",
              "      <td>2094.0</td>\n",
              "      <td>1154.940</td>\n",
              "      <td>158.0</td>\n",
              "    </tr>\n",
              "    <tr>\n",
              "      <th>1</th>\n",
              "      <td>2</td>\n",
              "      <td>877.500</td>\n",
              "      <td>99.825</td>\n",
              "      <td>1.74</td>\n",
              "      <td>3386.740</td>\n",
              "      <td>2031.5</td>\n",
              "      <td>1331.895</td>\n",
              "      <td>141.5</td>\n",
              "    </tr>\n",
              "    <tr>\n",
              "      <th>2</th>\n",
              "      <td>3</td>\n",
              "      <td>996.380</td>\n",
              "      <td>122.210</td>\n",
              "      <td>1.53</td>\n",
              "      <td>2892.020</td>\n",
              "      <td>1948.0</td>\n",
              "      <td>1372.010</td>\n",
              "      <td>162.0</td>\n",
              "    </tr>\n",
              "    <tr>\n",
              "      <th>3</th>\n",
              "      <td>4</td>\n",
              "      <td>1481.070</td>\n",
              "      <td>105.290</td>\n",
              "      <td>1.41</td>\n",
              "      <td>2776.170</td>\n",
              "      <td>2083.0</td>\n",
              "      <td>1329.030</td>\n",
              "      <td>135.0</td>\n",
              "    </tr>\n",
              "    <tr>\n",
              "      <th>4</th>\n",
              "      <td>5</td>\n",
              "      <td>1030.215</td>\n",
              "      <td>114.980</td>\n",
              "      <td>1.57</td>\n",
              "      <td>3553.025</td>\n",
              "      <td>1744.5</td>\n",
              "      <td>1415.430</td>\n",
              "      <td>137.5</td>\n",
              "    </tr>\n",
              "  </tbody>\n",
              "</table>\n",
              "</div>"
            ],
            "text/plain": [
              "  Q1  ...  Web Average TCP RTT(ms)\n",
              "0  1  ...                    158.0\n",
              "1  2  ...                    141.5\n",
              "2  3  ...                    162.0\n",
              "3  4  ...                    135.0\n",
              "4  5  ...                    137.5\n",
              "\n",
              "[5 rows x 8 columns]"
            ]
          },
          "metadata": {
            "tags": []
          },
          "execution_count": 113
        }
      ]
    },
    {
      "cell_type": "markdown",
      "metadata": {
        "id": "lKIagoZQjyVS"
      },
      "source": [
        "В разведочном анализе,  для  выбора направлений исследований, значительную роль,играет возможность визуализировать данные в удобном для анализа виде.\r\n",
        "Проведем подготовку данных для визуализации.\r\n",
        "1. Проведем нормирование данных по каждому техническому показателю.\r\n",
        "2. Преобразуем данные в удобный для визуализации вид\r\n",
        "3. Визуализируем данные с использованием инстурмента plotly"
      ]
    },
    {
      "cell_type": "code",
      "metadata": {
        "colab": {
          "base_uri": "https://localhost:8080/",
          "height": 274
        },
        "id": "Gi1GmJ68ob0s",
        "outputId": "ec545e99-c645-4b92-9aa0-368605b2cfac"
      },
      "source": [
        "internet_user_gr_Q1_norm=internet_user_gr_Q1.set_index('Q1').apply( lambda x: (x - np.mean(x)) / (np.max(x) - np.min(x))).reset_index()\r\n",
        "internet_user_gr_Q1_norm.head()"
      ],
      "execution_count": null,
      "outputs": [
        {
          "output_type": "execute_result",
          "data": {
            "text/html": [
              "<div>\n",
              "<style scoped>\n",
              "    .dataframe tbody tr th:only-of-type {\n",
              "        vertical-align: middle;\n",
              "    }\n",
              "\n",
              "    .dataframe tbody tr th {\n",
              "        vertical-align: top;\n",
              "    }\n",
              "\n",
              "    .dataframe thead th {\n",
              "        text-align: right;\n",
              "    }\n",
              "</style>\n",
              "<table border=\"1\" class=\"dataframe\">\n",
              "  <thead>\n",
              "    <tr style=\"text-align: right;\">\n",
              "      <th></th>\n",
              "      <th>Q1</th>\n",
              "      <th>Downlink Throughput(Kbps)</th>\n",
              "      <th>Uplink Throughput(Kbps)</th>\n",
              "      <th>Downlink TCP Retransmission Rate(%)</th>\n",
              "      <th>Video Streaming Download Throughput(Kbps)</th>\n",
              "      <th>Video Streaming xKB Start Delay(ms)</th>\n",
              "      <th>Web Page Download Throughput(Kbps)</th>\n",
              "      <th>Web Average TCP RTT(ms)</th>\n",
              "    </tr>\n",
              "  </thead>\n",
              "  <tbody>\n",
              "    <tr>\n",
              "      <th>0</th>\n",
              "      <td>1</td>\n",
              "      <td>-0.403547</td>\n",
              "      <td>-0.549736</td>\n",
              "      <td>0.169811</td>\n",
              "      <td>-0.498626</td>\n",
              "      <td>0.496815</td>\n",
              "      <td>-0.430832</td>\n",
              "      <td>0.441860</td>\n",
              "    </tr>\n",
              "    <tr>\n",
              "      <th>1</th>\n",
              "      <td>2</td>\n",
              "      <td>-0.514090</td>\n",
              "      <td>-0.308190</td>\n",
              "      <td>0.471698</td>\n",
              "      <td>-0.061755</td>\n",
              "      <td>0.364119</td>\n",
              "      <td>-0.112407</td>\n",
              "      <td>0.058140</td>\n",
              "    </tr>\n",
              "    <tr>\n",
              "      <th>2</th>\n",
              "      <td>3</td>\n",
              "      <td>-0.336360</td>\n",
              "      <td>0.117057</td>\n",
              "      <td>0.075472</td>\n",
              "      <td>-0.335280</td>\n",
              "      <td>0.186837</td>\n",
              "      <td>-0.040221</td>\n",
              "      <td>0.534884</td>\n",
              "    </tr>\n",
              "    <tr>\n",
              "      <th>3</th>\n",
              "      <td>4</td>\n",
              "      <td>0.388269</td>\n",
              "      <td>-0.204372</td>\n",
              "      <td>-0.150943</td>\n",
              "      <td>-0.399332</td>\n",
              "      <td>0.473461</td>\n",
              "      <td>-0.117563</td>\n",
              "      <td>-0.093023</td>\n",
              "    </tr>\n",
              "    <tr>\n",
              "      <th>4</th>\n",
              "      <td>5</td>\n",
              "      <td>-0.285775</td>\n",
              "      <td>-0.020291</td>\n",
              "      <td>0.150943</td>\n",
              "      <td>0.030183</td>\n",
              "      <td>-0.245223</td>\n",
              "      <td>0.037911</td>\n",
              "      <td>-0.034884</td>\n",
              "    </tr>\n",
              "  </tbody>\n",
              "</table>\n",
              "</div>"
            ],
            "text/plain": [
              "  Q1  ...  Web Average TCP RTT(ms)\n",
              "0  1  ...                 0.441860\n",
              "1  2  ...                 0.058140\n",
              "2  3  ...                 0.534884\n",
              "3  4  ...                -0.093023\n",
              "4  5  ...                -0.034884\n",
              "\n",
              "[5 rows x 8 columns]"
            ]
          },
          "metadata": {
            "tags": []
          },
          "execution_count": 114
        }
      ]
    },
    {
      "cell_type": "markdown",
      "metadata": {
        "id": "eIVdty5sEBkE"
      },
      "source": [
        "Для лучшей визуализации переименуем название технических параметров"
      ]
    },
    {
      "cell_type": "code",
      "metadata": {
        "colab": {
          "base_uri": "https://localhost:8080/",
          "height": 204
        },
        "id": "rySV_avtOcVd",
        "outputId": "6e3a8f1b-7cba-4d81-dd57-31dbe8daf239"
      },
      "source": [
        "internet_user_gr_Q1_norm.columns=['Q1','Downlink','Uplink','Rate(%)','Video Download','Video Delay(ms)','Web Download','Web RTT']\r\n",
        "internet_user_gr_Q1_norm.head()"
      ],
      "execution_count": null,
      "outputs": [
        {
          "output_type": "execute_result",
          "data": {
            "text/html": [
              "<div>\n",
              "<style scoped>\n",
              "    .dataframe tbody tr th:only-of-type {\n",
              "        vertical-align: middle;\n",
              "    }\n",
              "\n",
              "    .dataframe tbody tr th {\n",
              "        vertical-align: top;\n",
              "    }\n",
              "\n",
              "    .dataframe thead th {\n",
              "        text-align: right;\n",
              "    }\n",
              "</style>\n",
              "<table border=\"1\" class=\"dataframe\">\n",
              "  <thead>\n",
              "    <tr style=\"text-align: right;\">\n",
              "      <th></th>\n",
              "      <th>Q1</th>\n",
              "      <th>Downlink</th>\n",
              "      <th>Uplink</th>\n",
              "      <th>Rate(%)</th>\n",
              "      <th>Video Download</th>\n",
              "      <th>Video Delay(ms)</th>\n",
              "      <th>Web Download</th>\n",
              "      <th>Web RTT</th>\n",
              "    </tr>\n",
              "  </thead>\n",
              "  <tbody>\n",
              "    <tr>\n",
              "      <th>0</th>\n",
              "      <td>1</td>\n",
              "      <td>-0.403547</td>\n",
              "      <td>-0.549736</td>\n",
              "      <td>0.169811</td>\n",
              "      <td>-0.498626</td>\n",
              "      <td>0.496815</td>\n",
              "      <td>-0.430832</td>\n",
              "      <td>0.441860</td>\n",
              "    </tr>\n",
              "    <tr>\n",
              "      <th>1</th>\n",
              "      <td>2</td>\n",
              "      <td>-0.514090</td>\n",
              "      <td>-0.308190</td>\n",
              "      <td>0.471698</td>\n",
              "      <td>-0.061755</td>\n",
              "      <td>0.364119</td>\n",
              "      <td>-0.112407</td>\n",
              "      <td>0.058140</td>\n",
              "    </tr>\n",
              "    <tr>\n",
              "      <th>2</th>\n",
              "      <td>3</td>\n",
              "      <td>-0.336360</td>\n",
              "      <td>0.117057</td>\n",
              "      <td>0.075472</td>\n",
              "      <td>-0.335280</td>\n",
              "      <td>0.186837</td>\n",
              "      <td>-0.040221</td>\n",
              "      <td>0.534884</td>\n",
              "    </tr>\n",
              "    <tr>\n",
              "      <th>3</th>\n",
              "      <td>4</td>\n",
              "      <td>0.388269</td>\n",
              "      <td>-0.204372</td>\n",
              "      <td>-0.150943</td>\n",
              "      <td>-0.399332</td>\n",
              "      <td>0.473461</td>\n",
              "      <td>-0.117563</td>\n",
              "      <td>-0.093023</td>\n",
              "    </tr>\n",
              "    <tr>\n",
              "      <th>4</th>\n",
              "      <td>5</td>\n",
              "      <td>-0.285775</td>\n",
              "      <td>-0.020291</td>\n",
              "      <td>0.150943</td>\n",
              "      <td>0.030183</td>\n",
              "      <td>-0.245223</td>\n",
              "      <td>0.037911</td>\n",
              "      <td>-0.034884</td>\n",
              "    </tr>\n",
              "  </tbody>\n",
              "</table>\n",
              "</div>"
            ],
            "text/plain": [
              "  Q1  Downlink    Uplink  ...  Video Delay(ms)  Web Download   Web RTT\n",
              "0  1 -0.403547 -0.549736  ...         0.496815     -0.430832  0.441860\n",
              "1  2 -0.514090 -0.308190  ...         0.364119     -0.112407  0.058140\n",
              "2  3 -0.336360  0.117057  ...         0.186837     -0.040221  0.534884\n",
              "3  4  0.388269 -0.204372  ...         0.473461     -0.117563 -0.093023\n",
              "4  5 -0.285775 -0.020291  ...        -0.245223      0.037911 -0.034884\n",
              "\n",
              "[5 rows x 8 columns]"
            ]
          },
          "metadata": {
            "tags": []
          },
          "execution_count": 18
        }
      ]
    },
    {
      "cell_type": "code",
      "metadata": {
        "colab": {
          "base_uri": "https://localhost:8080/",
          "height": 1000
        },
        "id": "gm8XpMc-RR2S",
        "outputId": "94f22bd2-1df9-4ac3-eea3-a58850a1f5f8"
      },
      "source": [
        "internet_user_stack=internet_user_gr_Q1_norm.set_index('Q1').stack().reset_index()\r\n",
        "internet_user_stack.columns=['Q1','feature','median']\r\n",
        "internet_user_stack"
      ],
      "execution_count": null,
      "outputs": [
        {
          "output_type": "execute_result",
          "data": {
            "text/html": [
              "<div>\n",
              "<style scoped>\n",
              "    .dataframe tbody tr th:only-of-type {\n",
              "        vertical-align: middle;\n",
              "    }\n",
              "\n",
              "    .dataframe tbody tr th {\n",
              "        vertical-align: top;\n",
              "    }\n",
              "\n",
              "    .dataframe thead th {\n",
              "        text-align: right;\n",
              "    }\n",
              "</style>\n",
              "<table border=\"1\" class=\"dataframe\">\n",
              "  <thead>\n",
              "    <tr style=\"text-align: right;\">\n",
              "      <th></th>\n",
              "      <th>Q1</th>\n",
              "      <th>feature</th>\n",
              "      <th>median</th>\n",
              "    </tr>\n",
              "  </thead>\n",
              "  <tbody>\n",
              "    <tr>\n",
              "      <th>0</th>\n",
              "      <td>1</td>\n",
              "      <td>Downlink</td>\n",
              "      <td>-0.403547</td>\n",
              "    </tr>\n",
              "    <tr>\n",
              "      <th>1</th>\n",
              "      <td>1</td>\n",
              "      <td>Uplink</td>\n",
              "      <td>-0.549736</td>\n",
              "    </tr>\n",
              "    <tr>\n",
              "      <th>2</th>\n",
              "      <td>1</td>\n",
              "      <td>Rate(%)</td>\n",
              "      <td>0.169811</td>\n",
              "    </tr>\n",
              "    <tr>\n",
              "      <th>3</th>\n",
              "      <td>1</td>\n",
              "      <td>Video Download</td>\n",
              "      <td>-0.498626</td>\n",
              "    </tr>\n",
              "    <tr>\n",
              "      <th>4</th>\n",
              "      <td>1</td>\n",
              "      <td>Video Delay(ms)</td>\n",
              "      <td>0.496815</td>\n",
              "    </tr>\n",
              "    <tr>\n",
              "      <th>5</th>\n",
              "      <td>1</td>\n",
              "      <td>Web Download</td>\n",
              "      <td>-0.430832</td>\n",
              "    </tr>\n",
              "    <tr>\n",
              "      <th>6</th>\n",
              "      <td>1</td>\n",
              "      <td>Web RTT</td>\n",
              "      <td>0.441860</td>\n",
              "    </tr>\n",
              "    <tr>\n",
              "      <th>7</th>\n",
              "      <td>2</td>\n",
              "      <td>Downlink</td>\n",
              "      <td>-0.514090</td>\n",
              "    </tr>\n",
              "    <tr>\n",
              "      <th>8</th>\n",
              "      <td>2</td>\n",
              "      <td>Uplink</td>\n",
              "      <td>-0.308190</td>\n",
              "    </tr>\n",
              "    <tr>\n",
              "      <th>9</th>\n",
              "      <td>2</td>\n",
              "      <td>Rate(%)</td>\n",
              "      <td>0.471698</td>\n",
              "    </tr>\n",
              "    <tr>\n",
              "      <th>10</th>\n",
              "      <td>2</td>\n",
              "      <td>Video Download</td>\n",
              "      <td>-0.061755</td>\n",
              "    </tr>\n",
              "    <tr>\n",
              "      <th>11</th>\n",
              "      <td>2</td>\n",
              "      <td>Video Delay(ms)</td>\n",
              "      <td>0.364119</td>\n",
              "    </tr>\n",
              "    <tr>\n",
              "      <th>12</th>\n",
              "      <td>2</td>\n",
              "      <td>Web Download</td>\n",
              "      <td>-0.112407</td>\n",
              "    </tr>\n",
              "    <tr>\n",
              "      <th>13</th>\n",
              "      <td>2</td>\n",
              "      <td>Web RTT</td>\n",
              "      <td>0.058140</td>\n",
              "    </tr>\n",
              "    <tr>\n",
              "      <th>14</th>\n",
              "      <td>3</td>\n",
              "      <td>Downlink</td>\n",
              "      <td>-0.336360</td>\n",
              "    </tr>\n",
              "    <tr>\n",
              "      <th>15</th>\n",
              "      <td>3</td>\n",
              "      <td>Uplink</td>\n",
              "      <td>0.117057</td>\n",
              "    </tr>\n",
              "    <tr>\n",
              "      <th>16</th>\n",
              "      <td>3</td>\n",
              "      <td>Rate(%)</td>\n",
              "      <td>0.075472</td>\n",
              "    </tr>\n",
              "    <tr>\n",
              "      <th>17</th>\n",
              "      <td>3</td>\n",
              "      <td>Video Download</td>\n",
              "      <td>-0.335280</td>\n",
              "    </tr>\n",
              "    <tr>\n",
              "      <th>18</th>\n",
              "      <td>3</td>\n",
              "      <td>Video Delay(ms)</td>\n",
              "      <td>0.186837</td>\n",
              "    </tr>\n",
              "    <tr>\n",
              "      <th>19</th>\n",
              "      <td>3</td>\n",
              "      <td>Web Download</td>\n",
              "      <td>-0.040221</td>\n",
              "    </tr>\n",
              "    <tr>\n",
              "      <th>20</th>\n",
              "      <td>3</td>\n",
              "      <td>Web RTT</td>\n",
              "      <td>0.534884</td>\n",
              "    </tr>\n",
              "    <tr>\n",
              "      <th>21</th>\n",
              "      <td>4</td>\n",
              "      <td>Downlink</td>\n",
              "      <td>0.388269</td>\n",
              "    </tr>\n",
              "    <tr>\n",
              "      <th>22</th>\n",
              "      <td>4</td>\n",
              "      <td>Uplink</td>\n",
              "      <td>-0.204372</td>\n",
              "    </tr>\n",
              "    <tr>\n",
              "      <th>23</th>\n",
              "      <td>4</td>\n",
              "      <td>Rate(%)</td>\n",
              "      <td>-0.150943</td>\n",
              "    </tr>\n",
              "    <tr>\n",
              "      <th>24</th>\n",
              "      <td>4</td>\n",
              "      <td>Video Download</td>\n",
              "      <td>-0.399332</td>\n",
              "    </tr>\n",
              "    <tr>\n",
              "      <th>25</th>\n",
              "      <td>4</td>\n",
              "      <td>Video Delay(ms)</td>\n",
              "      <td>0.473461</td>\n",
              "    </tr>\n",
              "    <tr>\n",
              "      <th>26</th>\n",
              "      <td>4</td>\n",
              "      <td>Web Download</td>\n",
              "      <td>-0.117563</td>\n",
              "    </tr>\n",
              "    <tr>\n",
              "      <th>27</th>\n",
              "      <td>4</td>\n",
              "      <td>Web RTT</td>\n",
              "      <td>-0.093023</td>\n",
              "    </tr>\n",
              "    <tr>\n",
              "      <th>28</th>\n",
              "      <td>5</td>\n",
              "      <td>Downlink</td>\n",
              "      <td>-0.285775</td>\n",
              "    </tr>\n",
              "    <tr>\n",
              "      <th>29</th>\n",
              "      <td>5</td>\n",
              "      <td>Uplink</td>\n",
              "      <td>-0.020291</td>\n",
              "    </tr>\n",
              "    <tr>\n",
              "      <th>30</th>\n",
              "      <td>5</td>\n",
              "      <td>Rate(%)</td>\n",
              "      <td>0.150943</td>\n",
              "    </tr>\n",
              "    <tr>\n",
              "      <th>31</th>\n",
              "      <td>5</td>\n",
              "      <td>Video Download</td>\n",
              "      <td>0.030183</td>\n",
              "    </tr>\n",
              "    <tr>\n",
              "      <th>32</th>\n",
              "      <td>5</td>\n",
              "      <td>Video Delay(ms)</td>\n",
              "      <td>-0.245223</td>\n",
              "    </tr>\n",
              "    <tr>\n",
              "      <th>33</th>\n",
              "      <td>5</td>\n",
              "      <td>Web Download</td>\n",
              "      <td>0.037911</td>\n",
              "    </tr>\n",
              "    <tr>\n",
              "      <th>34</th>\n",
              "      <td>5</td>\n",
              "      <td>Web RTT</td>\n",
              "      <td>-0.034884</td>\n",
              "    </tr>\n",
              "    <tr>\n",
              "      <th>35</th>\n",
              "      <td>6</td>\n",
              "      <td>Downlink</td>\n",
              "      <td>0.485910</td>\n",
              "    </tr>\n",
              "    <tr>\n",
              "      <th>36</th>\n",
              "      <td>6</td>\n",
              "      <td>Uplink</td>\n",
              "      <td>0.450264</td>\n",
              "    </tr>\n",
              "    <tr>\n",
              "      <th>37</th>\n",
              "      <td>6</td>\n",
              "      <td>Rate(%)</td>\n",
              "      <td>-0.245283</td>\n",
              "    </tr>\n",
              "    <tr>\n",
              "      <th>38</th>\n",
              "      <td>6</td>\n",
              "      <td>Video Download</td>\n",
              "      <td>0.333108</td>\n",
              "    </tr>\n",
              "    <tr>\n",
              "      <th>39</th>\n",
              "      <td>6</td>\n",
              "      <td>Video Delay(ms)</td>\n",
              "      <td>-0.441614</td>\n",
              "    </tr>\n",
              "    <tr>\n",
              "      <th>40</th>\n",
              "      <td>6</td>\n",
              "      <td>Web Download</td>\n",
              "      <td>0.212388</td>\n",
              "    </tr>\n",
              "    <tr>\n",
              "      <th>41</th>\n",
              "      <td>6</td>\n",
              "      <td>Web RTT</td>\n",
              "      <td>-0.465116</td>\n",
              "    </tr>\n",
              "    <tr>\n",
              "      <th>42</th>\n",
              "      <td>7</td>\n",
              "      <td>Downlink</td>\n",
              "      <td>0.319722</td>\n",
              "    </tr>\n",
              "    <tr>\n",
              "      <th>43</th>\n",
              "      <td>7</td>\n",
              "      <td>Uplink</td>\n",
              "      <td>0.343881</td>\n",
              "    </tr>\n",
              "    <tr>\n",
              "      <th>44</th>\n",
              "      <td>7</td>\n",
              "      <td>Rate(%)</td>\n",
              "      <td>0.056604</td>\n",
              "    </tr>\n",
              "    <tr>\n",
              "      <th>45</th>\n",
              "      <td>7</td>\n",
              "      <td>Video Download</td>\n",
              "      <td>0.501374</td>\n",
              "    </tr>\n",
              "    <tr>\n",
              "      <th>46</th>\n",
              "      <td>7</td>\n",
              "      <td>Video Delay(ms)</td>\n",
              "      <td>-0.503185</td>\n",
              "    </tr>\n",
              "    <tr>\n",
              "      <th>47</th>\n",
              "      <td>7</td>\n",
              "      <td>Web Download</td>\n",
              "      <td>0.569168</td>\n",
              "    </tr>\n",
              "    <tr>\n",
              "      <th>48</th>\n",
              "      <td>7</td>\n",
              "      <td>Web RTT</td>\n",
              "      <td>-0.209302</td>\n",
              "    </tr>\n",
              "    <tr>\n",
              "      <th>49</th>\n",
              "      <td>8</td>\n",
              "      <td>Downlink</td>\n",
              "      <td>0.345870</td>\n",
              "    </tr>\n",
              "    <tr>\n",
              "      <th>50</th>\n",
              "      <td>8</td>\n",
              "      <td>Uplink</td>\n",
              "      <td>0.171388</td>\n",
              "    </tr>\n",
              "    <tr>\n",
              "      <th>51</th>\n",
              "      <td>8</td>\n",
              "      <td>Rate(%)</td>\n",
              "      <td>-0.528302</td>\n",
              "    </tr>\n",
              "    <tr>\n",
              "      <th>52</th>\n",
              "      <td>8</td>\n",
              "      <td>Video Download</td>\n",
              "      <td>0.430328</td>\n",
              "    </tr>\n",
              "    <tr>\n",
              "      <th>53</th>\n",
              "      <td>8</td>\n",
              "      <td>Video Delay(ms)</td>\n",
              "      <td>-0.331210</td>\n",
              "    </tr>\n",
              "    <tr>\n",
              "      <th>54</th>\n",
              "      <td>8</td>\n",
              "      <td>Web Download</td>\n",
              "      <td>-0.118444</td>\n",
              "    </tr>\n",
              "    <tr>\n",
              "      <th>55</th>\n",
              "      <td>8</td>\n",
              "      <td>Web RTT</td>\n",
              "      <td>-0.232558</td>\n",
              "    </tr>\n",
              "  </tbody>\n",
              "</table>\n",
              "</div>"
            ],
            "text/plain": [
              "   Q1          feature    median\n",
              "0   1         Downlink -0.403547\n",
              "1   1           Uplink -0.549736\n",
              "2   1          Rate(%)  0.169811\n",
              "3   1   Video Download -0.498626\n",
              "4   1  Video Delay(ms)  0.496815\n",
              "5   1     Web Download -0.430832\n",
              "6   1          Web RTT  0.441860\n",
              "7   2         Downlink -0.514090\n",
              "8   2           Uplink -0.308190\n",
              "9   2          Rate(%)  0.471698\n",
              "10  2   Video Download -0.061755\n",
              "11  2  Video Delay(ms)  0.364119\n",
              "12  2     Web Download -0.112407\n",
              "13  2          Web RTT  0.058140\n",
              "14  3         Downlink -0.336360\n",
              "15  3           Uplink  0.117057\n",
              "16  3          Rate(%)  0.075472\n",
              "17  3   Video Download -0.335280\n",
              "18  3  Video Delay(ms)  0.186837\n",
              "19  3     Web Download -0.040221\n",
              "20  3          Web RTT  0.534884\n",
              "21  4         Downlink  0.388269\n",
              "22  4           Uplink -0.204372\n",
              "23  4          Rate(%) -0.150943\n",
              "24  4   Video Download -0.399332\n",
              "25  4  Video Delay(ms)  0.473461\n",
              "26  4     Web Download -0.117563\n",
              "27  4          Web RTT -0.093023\n",
              "28  5         Downlink -0.285775\n",
              "29  5           Uplink -0.020291\n",
              "30  5          Rate(%)  0.150943\n",
              "31  5   Video Download  0.030183\n",
              "32  5  Video Delay(ms) -0.245223\n",
              "33  5     Web Download  0.037911\n",
              "34  5          Web RTT -0.034884\n",
              "35  6         Downlink  0.485910\n",
              "36  6           Uplink  0.450264\n",
              "37  6          Rate(%) -0.245283\n",
              "38  6   Video Download  0.333108\n",
              "39  6  Video Delay(ms) -0.441614\n",
              "40  6     Web Download  0.212388\n",
              "41  6          Web RTT -0.465116\n",
              "42  7         Downlink  0.319722\n",
              "43  7           Uplink  0.343881\n",
              "44  7          Rate(%)  0.056604\n",
              "45  7   Video Download  0.501374\n",
              "46  7  Video Delay(ms) -0.503185\n",
              "47  7     Web Download  0.569168\n",
              "48  7          Web RTT -0.209302\n",
              "49  8         Downlink  0.345870\n",
              "50  8           Uplink  0.171388\n",
              "51  8          Rate(%) -0.528302\n",
              "52  8   Video Download  0.430328\n",
              "53  8  Video Delay(ms) -0.331210\n",
              "54  8     Web Download -0.118444\n",
              "55  8          Web RTT -0.232558"
            ]
          },
          "metadata": {
            "tags": []
          },
          "execution_count": 41
        }
      ]
    },
    {
      "cell_type": "code",
      "metadata": {
        "colab": {
          "base_uri": "https://localhost:8080/",
          "height": 542
        },
        "id": "wHpIBWlDPQGr",
        "outputId": "36e65155-65c2-453c-cb45-4b4e8925d884"
      },
      "source": [
        "px.scatter(internet_user_stack, x='Q1', y='median', facet_col='feature')"
      ],
      "execution_count": null,
      "outputs": [
        {
          "output_type": "display_data",
          "data": {
            "text/html": [
              "<html>\n",
              "<head><meta charset=\"utf-8\" /></head>\n",
              "<body>\n",
              "    <div>\n",
              "            <script src=\"https://cdnjs.cloudflare.com/ajax/libs/mathjax/2.7.5/MathJax.js?config=TeX-AMS-MML_SVG\"></script><script type=\"text/javascript\">if (window.MathJax) {MathJax.Hub.Config({SVG: {font: \"STIX-Web\"}});}</script>\n",
              "                <script type=\"text/javascript\">window.PlotlyConfig = {MathJaxConfig: 'local'};</script>\n",
              "        <script src=\"https://cdn.plot.ly/plotly-latest.min.js\"></script>    \n",
              "            <div id=\"e27ba0c7-f66d-4792-a11b-6730f7bf75f9\" class=\"plotly-graph-div\" style=\"height:525px; width:100%;\"></div>\n",
              "            <script type=\"text/javascript\">\n",
              "                \n",
              "                    window.PLOTLYENV=window.PLOTLYENV || {};\n",
              "                    \n",
              "                if (document.getElementById(\"e27ba0c7-f66d-4792-a11b-6730f7bf75f9\")) {\n",
              "                    Plotly.newPlot(\n",
              "                        'e27ba0c7-f66d-4792-a11b-6730f7bf75f9',\n",
              "                        [{\"hoverlabel\": {\"namelength\": 0}, \"hovertemplate\": \"feature=Downlink<br>Q1=%{x}<br>median=%{y}\", \"legendgroup\": \"\", \"marker\": {\"color\": \"#636efa\", \"symbol\": \"circle\"}, \"mode\": \"markers\", \"name\": \"\", \"showlegend\": false, \"type\": \"scatter\", \"x\": [\"1\", \"2\", \"3\", \"4\", \"5\", \"6\", \"7\", \"8\"], \"xaxis\": \"x\", \"y\": [-0.40354678716660686, -0.5140897844157398, -0.33635984780528655, 0.3882693831479485, -0.28577528854204065, 0.4859102155842602, 0.31972196059083824, 0.34587014860662585], \"yaxis\": \"y\"}, {\"hoverlabel\": {\"namelength\": 0}, \"hovertemplate\": \"feature=Uplink<br>Q1=%{x}<br>median=%{y}\", \"legendgroup\": \"\", \"marker\": {\"color\": \"#636efa\", \"symbol\": \"circle\"}, \"mode\": \"markers\", \"name\": \"\", \"showlegend\": false, \"type\": \"scatter\", \"x\": [\"1\", \"2\", \"3\", \"4\", \"5\", \"6\", \"7\", \"8\"], \"xaxis\": \"x2\", \"y\": [-0.5497364171732523, -0.3081900645896656, 0.11705689589665644, -0.20437167553191476, -0.02029112841945279, 0.4502635828267477, 0.3438806041033436, 0.1713882028875379], \"yaxis\": \"y2\"}, {\"hoverlabel\": {\"namelength\": 0}, \"hovertemplate\": \"feature=Rate(%)<br>Q1=%{x}<br>median=%{y}\", \"legendgroup\": \"\", \"marker\": {\"color\": \"#636efa\", \"symbol\": \"circle\"}, \"mode\": \"markers\", \"name\": \"\", \"showlegend\": false, \"type\": \"scatter\", \"x\": [\"1\", \"2\", \"3\", \"4\", \"5\", \"6\", \"7\", \"8\"], \"xaxis\": \"x3\", \"y\": [0.16981132075471755, 0.47169811320754756, 0.07547169811320803, -0.1509433962264148, 0.15094339622641523, -0.2452830188679239, 0.05660377358490613, -0.5283018867924524], \"yaxis\": \"y3\"}, {\"hoverlabel\": {\"namelength\": 0}, \"hovertemplate\": \"feature=Video Download<br>Q1=%{x}<br>median=%{y}\", \"legendgroup\": \"\", \"marker\": {\"color\": \"#636efa\", \"symbol\": \"circle\"}, \"mode\": \"markers\", \"name\": \"\", \"showlegend\": false, \"type\": \"scatter\", \"x\": [\"1\", \"2\", \"3\", \"4\", \"5\", \"6\", \"7\", \"8\"], \"xaxis\": \"x4\", \"y\": [-0.49862572428511437, -0.06175463597761955, -0.3352800799478076, -0.39933231693831994, 0.030182577902116103, 0.33310791571753945, 0.5013742757148857, 0.43032798781431725], \"yaxis\": \"y4\"}, {\"hoverlabel\": {\"namelength\": 0}, \"hovertemplate\": \"feature=Video Delay(ms)<br>Q1=%{x}<br>median=%{y}\", \"legendgroup\": \"\", \"marker\": {\"color\": \"#636efa\", \"symbol\": \"circle\"}, \"mode\": \"markers\", \"name\": \"\", \"showlegend\": false, \"type\": \"scatter\", \"x\": [\"1\", \"2\", \"3\", \"4\", \"5\", \"6\", \"7\", \"8\"], \"xaxis\": \"x5\", \"y\": [0.4968152866242038, 0.3641188959660297, 0.18683651804670912, 0.4734607218683652, -0.24522292993630573, -0.4416135881104034, -0.5031847133757962, -0.33121019108280253], \"yaxis\": \"y5\"}, {\"hoverlabel\": {\"namelength\": 0}, \"hovertemplate\": \"feature=Web Download<br>Q1=%{x}<br>median=%{y}\", \"legendgroup\": \"\", \"marker\": {\"color\": \"#636efa\", \"symbol\": \"circle\"}, \"mode\": \"markers\", \"name\": \"\", \"showlegend\": false, \"type\": \"scatter\", \"x\": [\"1\", \"2\", \"3\", \"4\", \"5\", \"6\", \"7\", \"8\"], \"xaxis\": \"x6\", \"y\": [-0.43083184877276326, -0.11240710249766082, -0.04022146944504438, -0.11756257647736285, 0.03791140322464511, 0.2123877582235659, 0.5691681512272367, -0.1184443154826173], \"yaxis\": \"y6\"}, {\"hoverlabel\": {\"namelength\": 0}, \"hovertemplate\": \"feature=Web RTT<br>Q1=%{x}<br>median=%{y}\", \"legendgroup\": \"\", \"marker\": {\"color\": \"#636efa\", \"symbol\": \"circle\"}, \"mode\": \"markers\", \"name\": \"\", \"showlegend\": false, \"type\": \"scatter\", \"x\": [\"1\", \"2\", \"3\", \"4\", \"5\", \"6\", \"7\", \"8\"], \"xaxis\": \"x7\", \"y\": [0.4418604651162791, 0.05813953488372093, 0.5348837209302325, -0.09302325581395349, -0.03488372093023256, -0.46511627906976744, -0.20930232558139536, -0.23255813953488372], \"yaxis\": \"y7\"}],\n",
              "                        {\"annotations\": [{\"font\": {}, \"showarrow\": false, \"text\": \"feature=Downlink\", \"x\": 0.06285714285714285, \"xanchor\": \"center\", \"xref\": \"paper\", \"y\": 1.0, \"yanchor\": \"bottom\", \"yref\": \"paper\"}, {\"font\": {}, \"showarrow\": false, \"text\": \"feature=Uplink\", \"x\": 0.20857142857142852, \"xanchor\": \"center\", \"xref\": \"paper\", \"y\": 1.0, \"yanchor\": \"bottom\", \"yref\": \"paper\"}, {\"font\": {}, \"showarrow\": false, \"text\": \"feature=Rate(%)\", \"x\": 0.3542857142857142, \"xanchor\": \"center\", \"xref\": \"paper\", \"y\": 1.0, \"yanchor\": \"bottom\", \"yref\": \"paper\"}, {\"font\": {}, \"showarrow\": false, \"text\": \"feature=Video Download\", \"x\": 0.5, \"xanchor\": \"center\", \"xref\": \"paper\", \"y\": 1.0, \"yanchor\": \"bottom\", \"yref\": \"paper\"}, {\"font\": {}, \"showarrow\": false, \"text\": \"feature=Video Delay(ms)\", \"x\": 0.6457142857142856, \"xanchor\": \"center\", \"xref\": \"paper\", \"y\": 1.0, \"yanchor\": \"bottom\", \"yref\": \"paper\"}, {\"font\": {}, \"showarrow\": false, \"text\": \"feature=Web Download\", \"x\": 0.7914285714285713, \"xanchor\": \"center\", \"xref\": \"paper\", \"y\": 1.0, \"yanchor\": \"bottom\", \"yref\": \"paper\"}, {\"font\": {}, \"showarrow\": false, \"text\": \"feature=Web RTT\", \"x\": 0.9371428571428569, \"xanchor\": \"center\", \"xref\": \"paper\", \"y\": 1.0, \"yanchor\": \"bottom\", \"yref\": \"paper\"}], \"legend\": {\"tracegroupgap\": 0}, \"margin\": {\"t\": 60}, \"template\": {\"data\": {\"bar\": [{\"error_x\": {\"color\": \"#2a3f5f\"}, \"error_y\": {\"color\": \"#2a3f5f\"}, \"marker\": {\"line\": {\"color\": \"#E5ECF6\", \"width\": 0.5}}, \"type\": \"bar\"}], \"barpolar\": [{\"marker\": {\"line\": {\"color\": \"#E5ECF6\", \"width\": 0.5}}, \"type\": \"barpolar\"}], \"carpet\": [{\"aaxis\": {\"endlinecolor\": \"#2a3f5f\", \"gridcolor\": \"white\", \"linecolor\": \"white\", \"minorgridcolor\": \"white\", \"startlinecolor\": \"#2a3f5f\"}, \"baxis\": {\"endlinecolor\": \"#2a3f5f\", \"gridcolor\": \"white\", \"linecolor\": \"white\", \"minorgridcolor\": \"white\", \"startlinecolor\": \"#2a3f5f\"}, \"type\": \"carpet\"}], \"choropleth\": [{\"colorbar\": {\"outlinewidth\": 0, \"ticks\": \"\"}, \"type\": \"choropleth\"}], \"contour\": [{\"colorbar\": {\"outlinewidth\": 0, \"ticks\": \"\"}, \"colorscale\": [[0.0, \"#0d0887\"], [0.1111111111111111, \"#46039f\"], [0.2222222222222222, \"#7201a8\"], [0.3333333333333333, \"#9c179e\"], [0.4444444444444444, \"#bd3786\"], [0.5555555555555556, \"#d8576b\"], [0.6666666666666666, \"#ed7953\"], [0.7777777777777778, \"#fb9f3a\"], [0.8888888888888888, \"#fdca26\"], [1.0, \"#f0f921\"]], \"type\": \"contour\"}], \"contourcarpet\": [{\"colorbar\": {\"outlinewidth\": 0, \"ticks\": \"\"}, \"type\": \"contourcarpet\"}], \"heatmap\": [{\"colorbar\": {\"outlinewidth\": 0, \"ticks\": \"\"}, \"colorscale\": [[0.0, \"#0d0887\"], [0.1111111111111111, \"#46039f\"], [0.2222222222222222, \"#7201a8\"], [0.3333333333333333, \"#9c179e\"], [0.4444444444444444, \"#bd3786\"], [0.5555555555555556, \"#d8576b\"], [0.6666666666666666, \"#ed7953\"], [0.7777777777777778, \"#fb9f3a\"], [0.8888888888888888, \"#fdca26\"], [1.0, \"#f0f921\"]], \"type\": \"heatmap\"}], \"heatmapgl\": [{\"colorbar\": {\"outlinewidth\": 0, \"ticks\": \"\"}, \"colorscale\": [[0.0, \"#0d0887\"], [0.1111111111111111, \"#46039f\"], [0.2222222222222222, \"#7201a8\"], [0.3333333333333333, \"#9c179e\"], [0.4444444444444444, \"#bd3786\"], [0.5555555555555556, \"#d8576b\"], [0.6666666666666666, \"#ed7953\"], [0.7777777777777778, \"#fb9f3a\"], [0.8888888888888888, \"#fdca26\"], [1.0, \"#f0f921\"]], \"type\": \"heatmapgl\"}], \"histogram\": [{\"marker\": {\"colorbar\": {\"outlinewidth\": 0, \"ticks\": \"\"}}, \"type\": \"histogram\"}], \"histogram2d\": [{\"colorbar\": {\"outlinewidth\": 0, \"ticks\": \"\"}, \"colorscale\": [[0.0, \"#0d0887\"], [0.1111111111111111, \"#46039f\"], [0.2222222222222222, \"#7201a8\"], [0.3333333333333333, \"#9c179e\"], [0.4444444444444444, \"#bd3786\"], [0.5555555555555556, \"#d8576b\"], [0.6666666666666666, \"#ed7953\"], [0.7777777777777778, \"#fb9f3a\"], [0.8888888888888888, \"#fdca26\"], [1.0, \"#f0f921\"]], \"type\": \"histogram2d\"}], \"histogram2dcontour\": [{\"colorbar\": {\"outlinewidth\": 0, \"ticks\": \"\"}, \"colorscale\": [[0.0, \"#0d0887\"], [0.1111111111111111, \"#46039f\"], [0.2222222222222222, \"#7201a8\"], [0.3333333333333333, \"#9c179e\"], [0.4444444444444444, \"#bd3786\"], [0.5555555555555556, \"#d8576b\"], [0.6666666666666666, \"#ed7953\"], [0.7777777777777778, \"#fb9f3a\"], [0.8888888888888888, \"#fdca26\"], [1.0, \"#f0f921\"]], \"type\": \"histogram2dcontour\"}], \"mesh3d\": [{\"colorbar\": {\"outlinewidth\": 0, \"ticks\": \"\"}, \"type\": \"mesh3d\"}], \"parcoords\": [{\"line\": {\"colorbar\": {\"outlinewidth\": 0, \"ticks\": \"\"}}, \"type\": \"parcoords\"}], \"pie\": [{\"automargin\": true, \"type\": \"pie\"}], \"scatter\": [{\"marker\": {\"colorbar\": {\"outlinewidth\": 0, \"ticks\": \"\"}}, \"type\": \"scatter\"}], \"scatter3d\": [{\"line\": {\"colorbar\": {\"outlinewidth\": 0, \"ticks\": \"\"}}, \"marker\": {\"colorbar\": {\"outlinewidth\": 0, \"ticks\": \"\"}}, \"type\": \"scatter3d\"}], \"scattercarpet\": [{\"marker\": {\"colorbar\": {\"outlinewidth\": 0, \"ticks\": \"\"}}, \"type\": \"scattercarpet\"}], \"scattergeo\": [{\"marker\": {\"colorbar\": {\"outlinewidth\": 0, \"ticks\": \"\"}}, \"type\": \"scattergeo\"}], \"scattergl\": [{\"marker\": {\"colorbar\": {\"outlinewidth\": 0, \"ticks\": \"\"}}, \"type\": \"scattergl\"}], \"scattermapbox\": [{\"marker\": {\"colorbar\": {\"outlinewidth\": 0, \"ticks\": \"\"}}, \"type\": \"scattermapbox\"}], \"scatterpolar\": [{\"marker\": {\"colorbar\": {\"outlinewidth\": 0, \"ticks\": \"\"}}, \"type\": \"scatterpolar\"}], \"scatterpolargl\": [{\"marker\": {\"colorbar\": {\"outlinewidth\": 0, \"ticks\": \"\"}}, \"type\": \"scatterpolargl\"}], \"scatterternary\": [{\"marker\": {\"colorbar\": {\"outlinewidth\": 0, \"ticks\": \"\"}}, \"type\": \"scatterternary\"}], \"surface\": [{\"colorbar\": {\"outlinewidth\": 0, \"ticks\": \"\"}, \"colorscale\": [[0.0, \"#0d0887\"], [0.1111111111111111, \"#46039f\"], [0.2222222222222222, \"#7201a8\"], [0.3333333333333333, \"#9c179e\"], [0.4444444444444444, \"#bd3786\"], [0.5555555555555556, \"#d8576b\"], [0.6666666666666666, \"#ed7953\"], [0.7777777777777778, \"#fb9f3a\"], [0.8888888888888888, \"#fdca26\"], [1.0, \"#f0f921\"]], \"type\": \"surface\"}], \"table\": [{\"cells\": {\"fill\": {\"color\": \"#EBF0F8\"}, \"line\": {\"color\": \"white\"}}, \"header\": {\"fill\": {\"color\": \"#C8D4E3\"}, \"line\": {\"color\": \"white\"}}, \"type\": \"table\"}]}, \"layout\": {\"annotationdefaults\": {\"arrowcolor\": \"#2a3f5f\", \"arrowhead\": 0, \"arrowwidth\": 1}, \"coloraxis\": {\"colorbar\": {\"outlinewidth\": 0, \"ticks\": \"\"}}, \"colorscale\": {\"diverging\": [[0, \"#8e0152\"], [0.1, \"#c51b7d\"], [0.2, \"#de77ae\"], [0.3, \"#f1b6da\"], [0.4, \"#fde0ef\"], [0.5, \"#f7f7f7\"], [0.6, \"#e6f5d0\"], [0.7, \"#b8e186\"], [0.8, \"#7fbc41\"], [0.9, \"#4d9221\"], [1, \"#276419\"]], \"sequential\": [[0.0, \"#0d0887\"], [0.1111111111111111, \"#46039f\"], [0.2222222222222222, \"#7201a8\"], [0.3333333333333333, \"#9c179e\"], [0.4444444444444444, \"#bd3786\"], [0.5555555555555556, \"#d8576b\"], [0.6666666666666666, \"#ed7953\"], [0.7777777777777778, \"#fb9f3a\"], [0.8888888888888888, \"#fdca26\"], [1.0, \"#f0f921\"]], \"sequentialminus\": [[0.0, \"#0d0887\"], [0.1111111111111111, \"#46039f\"], [0.2222222222222222, \"#7201a8\"], [0.3333333333333333, \"#9c179e\"], [0.4444444444444444, \"#bd3786\"], [0.5555555555555556, \"#d8576b\"], [0.6666666666666666, \"#ed7953\"], [0.7777777777777778, \"#fb9f3a\"], [0.8888888888888888, \"#fdca26\"], [1.0, \"#f0f921\"]]}, \"colorway\": [\"#636efa\", \"#EF553B\", \"#00cc96\", \"#ab63fa\", \"#FFA15A\", \"#19d3f3\", \"#FF6692\", \"#B6E880\", \"#FF97FF\", \"#FECB52\"], \"font\": {\"color\": \"#2a3f5f\"}, \"geo\": {\"bgcolor\": \"white\", \"lakecolor\": \"white\", \"landcolor\": \"#E5ECF6\", \"showlakes\": true, \"showland\": true, \"subunitcolor\": \"white\"}, \"hoverlabel\": {\"align\": \"left\"}, \"hovermode\": \"closest\", \"mapbox\": {\"style\": \"light\"}, \"paper_bgcolor\": \"white\", \"plot_bgcolor\": \"#E5ECF6\", \"polar\": {\"angularaxis\": {\"gridcolor\": \"white\", \"linecolor\": \"white\", \"ticks\": \"\"}, \"bgcolor\": \"#E5ECF6\", \"radialaxis\": {\"gridcolor\": \"white\", \"linecolor\": \"white\", \"ticks\": \"\"}}, \"scene\": {\"xaxis\": {\"backgroundcolor\": \"#E5ECF6\", \"gridcolor\": \"white\", \"gridwidth\": 2, \"linecolor\": \"white\", \"showbackground\": true, \"ticks\": \"\", \"zerolinecolor\": \"white\"}, \"yaxis\": {\"backgroundcolor\": \"#E5ECF6\", \"gridcolor\": \"white\", \"gridwidth\": 2, \"linecolor\": \"white\", \"showbackground\": true, \"ticks\": \"\", \"zerolinecolor\": \"white\"}, \"zaxis\": {\"backgroundcolor\": \"#E5ECF6\", \"gridcolor\": \"white\", \"gridwidth\": 2, \"linecolor\": \"white\", \"showbackground\": true, \"ticks\": \"\", \"zerolinecolor\": \"white\"}}, \"shapedefaults\": {\"line\": {\"color\": \"#2a3f5f\"}}, \"ternary\": {\"aaxis\": {\"gridcolor\": \"white\", \"linecolor\": \"white\", \"ticks\": \"\"}, \"baxis\": {\"gridcolor\": \"white\", \"linecolor\": \"white\", \"ticks\": \"\"}, \"bgcolor\": \"#E5ECF6\", \"caxis\": {\"gridcolor\": \"white\", \"linecolor\": \"white\", \"ticks\": \"\"}}, \"title\": {\"x\": 0.05}, \"xaxis\": {\"automargin\": true, \"gridcolor\": \"white\", \"linecolor\": \"white\", \"ticks\": \"\", \"title\": {\"standoff\": 15}, \"zerolinecolor\": \"white\", \"zerolinewidth\": 2}, \"yaxis\": {\"automargin\": true, \"gridcolor\": \"white\", \"linecolor\": \"white\", \"ticks\": \"\", \"title\": {\"standoff\": 15}, \"zerolinecolor\": \"white\", \"zerolinewidth\": 2}}}, \"xaxis\": {\"anchor\": \"y\", \"domain\": [0.0, 0.1257142857142857], \"title\": {\"text\": \"Q1\"}}, \"xaxis2\": {\"anchor\": \"y2\", \"domain\": [0.14571428571428569, 0.27142857142857135], \"matches\": \"x\", \"title\": {\"text\": \"Q1\"}}, \"xaxis3\": {\"anchor\": \"y3\", \"domain\": [0.29142857142857137, 0.41714285714285704], \"matches\": \"x\", \"title\": {\"text\": \"Q1\"}}, \"xaxis4\": {\"anchor\": \"y4\", \"domain\": [0.4371428571428571, 0.5628571428571428], \"matches\": \"x\", \"title\": {\"text\": \"Q1\"}}, \"xaxis5\": {\"anchor\": \"y5\", \"domain\": [0.5828571428571427, 0.7085714285714284], \"matches\": \"x\", \"title\": {\"text\": \"Q1\"}}, \"xaxis6\": {\"anchor\": \"y6\", \"domain\": [0.7285714285714284, 0.8542857142857141], \"matches\": \"x\", \"title\": {\"text\": \"Q1\"}}, \"xaxis7\": {\"anchor\": \"y7\", \"domain\": [0.8742857142857141, 0.9999999999999998], \"matches\": \"x\", \"title\": {\"text\": \"Q1\"}}, \"yaxis\": {\"anchor\": \"x\", \"domain\": [0.0, 1.0], \"title\": {\"text\": \"median\"}}, \"yaxis2\": {\"anchor\": \"x2\", \"domain\": [0.0, 1.0], \"matches\": \"y\", \"showticklabels\": false}, \"yaxis3\": {\"anchor\": \"x3\", \"domain\": [0.0, 1.0], \"matches\": \"y\", \"showticklabels\": false}, \"yaxis4\": {\"anchor\": \"x4\", \"domain\": [0.0, 1.0], \"matches\": \"y\", \"showticklabels\": false}, \"yaxis5\": {\"anchor\": \"x5\", \"domain\": [0.0, 1.0], \"matches\": \"y\", \"showticklabels\": false}, \"yaxis6\": {\"anchor\": \"x6\", \"domain\": [0.0, 1.0], \"matches\": \"y\", \"showticklabels\": false}, \"yaxis7\": {\"anchor\": \"x7\", \"domain\": [0.0, 1.0], \"matches\": \"y\", \"showticklabels\": false}},\n",
              "                        {\"responsive\": true}\n",
              "                    ).then(function(){\n",
              "                            \n",
              "var gd = document.getElementById('e27ba0c7-f66d-4792-a11b-6730f7bf75f9');\n",
              "var x = new MutationObserver(function (mutations, observer) {{\n",
              "        var display = window.getComputedStyle(gd).display;\n",
              "        if (!display || display === 'none') {{\n",
              "            console.log([gd, 'removed!']);\n",
              "            Plotly.purge(gd);\n",
              "            observer.disconnect();\n",
              "        }}\n",
              "}});\n",
              "\n",
              "// Listen for the removal of the full notebook cells\n",
              "var notebookContainer = gd.closest('#notebook-container');\n",
              "if (notebookContainer) {{\n",
              "    x.observe(notebookContainer, {childList: true});\n",
              "}}\n",
              "\n",
              "// Listen for the clearing of the current output cell\n",
              "var outputEl = gd.closest('.output');\n",
              "if (outputEl) {{\n",
              "    x.observe(outputEl, {childList: true});\n",
              "}}\n",
              "\n",
              "                        })\n",
              "                };\n",
              "                \n",
              "            </script>\n",
              "        </div>\n",
              "</body>\n",
              "</html>"
            ]
          },
          "metadata": {
            "tags": []
          }
        }
      ]
    },
    {
      "cell_type": "markdown",
      "metadata": {
        "id": "3fB0mm7vlYSh"
      },
      "source": [
        "Полученные графики наглядно показывают, что существует связь между значениями поставленного балла за качество услуг и медианным значением числовой характеристики оказания услуг. Чем выше оценка, тем выше (в смысле качества), значение технического параметра.\r\n",
        "\r\n",
        "Дополнительно,  визуальный анализ позволяет высказать эмпирическое заключение, что оценки 7 и 8, не во всех случаях являются лучшими, чем значение для балла 6.\r\n",
        "На основании этого можно сформулировать дополнительную гипотезу, о том, что  высокие баллы 7 и 8, выставляются пользователями, с учетом ими более широкого круга оцениваниемых характеристик компании, а не только технических показателей"
      ]
    },
    {
      "cell_type": "markdown",
      "metadata": {
        "id": "clASFcVppQtz"
      },
      "source": [
        "\r\n",
        "\r\n",
        "---\r\n",
        "\r\n"
      ]
    },
    {
      "cell_type": "markdown",
      "metadata": {
        "id": "smm1tRPDpVwH"
      },
      "source": [
        "Аналогичным образом, без дополнительных пояснений проведем визуализацию данных для пользователей недовольных доступом к видео (ответ 5 на вопрос Q2)"
      ]
    },
    {
      "cell_type": "code",
      "metadata": {
        "colab": {
          "base_uri": "https://localhost:8080/"
        },
        "id": "ySZcledE7Z0z",
        "outputId": "e3e17021-66c6-41e7-da70-e3419dc5ab3d"
      },
      "source": [
        "video_user_q2_5=new_data_other_filt[new_data_other_filt['Q_2_new']==5]\r\n",
        "video_user_q2_5.user_id.count()"
      ],
      "execution_count": null,
      "outputs": [
        {
          "output_type": "execute_result",
          "data": {
            "text/plain": [
              "222"
            ]
          },
          "metadata": {
            "tags": []
          },
          "execution_count": 139
        }
      ]
    },
    {
      "cell_type": "code",
      "metadata": {
        "id": "5yEqnVTeMhOD"
      },
      "source": [
        "video_user_gr_Q1=video_user_q2_5.groupby(['Q1'])[['Downlink Throughput(Kbps)', 'Uplink Throughput(Kbps)',\r\n",
        "       'Downlink TCP Retransmission Rate(%)',\r\n",
        "       'Video Streaming Download Throughput(Kbps)',\r\n",
        "       'Video Streaming xKB Start Delay(ms)',\r\n",
        "       'Web Page Download Throughput(Kbps)', 'Web Average TCP RTT(ms)']].agg('median').reset_index().sort_values(['Q1'])\r\n",
        "#video_user_gr_Q1.head()"
      ],
      "execution_count": null,
      "outputs": []
    },
    {
      "cell_type": "code",
      "metadata": {
        "colab": {
          "base_uri": "https://localhost:8080/",
          "height": 1000
        },
        "id": "wHUMixrEqJcU",
        "outputId": "db5a5146-d406-4834-f745-c2eefc734bf7"
      },
      "source": [
        "video_user_gr_Q1_norm=video_user_gr_Q1.set_index('Q1').apply( lambda x: (x - np.mean(x)) / (np.max(x) - np.min(x))).reset_index()\r\n",
        "video_user_gr_Q1_norm.columns=['Q1','Downlink','Uplink','Rate(%)','Video Download','Video Delay(ms)','Web Download','Web RTT']\r\n",
        "video_user_stack=video_user_gr_Q1_norm.set_index('Q1').stack().reset_index()\r\n",
        "video_user_stack.columns=['Q1','feature','median']\r\n",
        "video_user_stack"
      ],
      "execution_count": null,
      "outputs": [
        {
          "output_type": "execute_result",
          "data": {
            "text/html": [
              "<div>\n",
              "<style scoped>\n",
              "    .dataframe tbody tr th:only-of-type {\n",
              "        vertical-align: middle;\n",
              "    }\n",
              "\n",
              "    .dataframe tbody tr th {\n",
              "        vertical-align: top;\n",
              "    }\n",
              "\n",
              "    .dataframe thead th {\n",
              "        text-align: right;\n",
              "    }\n",
              "</style>\n",
              "<table border=\"1\" class=\"dataframe\">\n",
              "  <thead>\n",
              "    <tr style=\"text-align: right;\">\n",
              "      <th></th>\n",
              "      <th>Q1</th>\n",
              "      <th>feature</th>\n",
              "      <th>median</th>\n",
              "    </tr>\n",
              "  </thead>\n",
              "  <tbody>\n",
              "    <tr>\n",
              "      <th>0</th>\n",
              "      <td>1</td>\n",
              "      <td>Downlink</td>\n",
              "      <td>-0.227214</td>\n",
              "    </tr>\n",
              "    <tr>\n",
              "      <th>1</th>\n",
              "      <td>1</td>\n",
              "      <td>Uplink</td>\n",
              "      <td>-0.258356</td>\n",
              "    </tr>\n",
              "    <tr>\n",
              "      <th>2</th>\n",
              "      <td>1</td>\n",
              "      <td>Rate(%)</td>\n",
              "      <td>0.087798</td>\n",
              "    </tr>\n",
              "    <tr>\n",
              "      <th>3</th>\n",
              "      <td>1</td>\n",
              "      <td>Video Download</td>\n",
              "      <td>-0.292486</td>\n",
              "    </tr>\n",
              "    <tr>\n",
              "      <th>4</th>\n",
              "      <td>1</td>\n",
              "      <td>Video Delay(ms)</td>\n",
              "      <td>0.342684</td>\n",
              "    </tr>\n",
              "    <tr>\n",
              "      <th>5</th>\n",
              "      <td>1</td>\n",
              "      <td>Web Download</td>\n",
              "      <td>-0.008499</td>\n",
              "    </tr>\n",
              "    <tr>\n",
              "      <th>6</th>\n",
              "      <td>1</td>\n",
              "      <td>Web RTT</td>\n",
              "      <td>0.198718</td>\n",
              "    </tr>\n",
              "    <tr>\n",
              "      <th>7</th>\n",
              "      <td>2</td>\n",
              "      <td>Downlink</td>\n",
              "      <td>-0.336646</td>\n",
              "    </tr>\n",
              "    <tr>\n",
              "      <th>8</th>\n",
              "      <td>2</td>\n",
              "      <td>Uplink</td>\n",
              "      <td>-0.167401</td>\n",
              "    </tr>\n",
              "    <tr>\n",
              "      <th>9</th>\n",
              "      <td>2</td>\n",
              "      <td>Rate(%)</td>\n",
              "      <td>0.444940</td>\n",
              "    </tr>\n",
              "    <tr>\n",
              "      <th>10</th>\n",
              "      <td>2</td>\n",
              "      <td>Video Download</td>\n",
              "      <td>-0.258115</td>\n",
              "    </tr>\n",
              "    <tr>\n",
              "      <th>11</th>\n",
              "      <td>2</td>\n",
              "      <td>Video Delay(ms)</td>\n",
              "      <td>0.568695</td>\n",
              "    </tr>\n",
              "    <tr>\n",
              "      <th>12</th>\n",
              "      <td>2</td>\n",
              "      <td>Web Download</td>\n",
              "      <td>-0.372969</td>\n",
              "    </tr>\n",
              "    <tr>\n",
              "      <th>13</th>\n",
              "      <td>2</td>\n",
              "      <td>Web RTT</td>\n",
              "      <td>0.053419</td>\n",
              "    </tr>\n",
              "    <tr>\n",
              "      <th>14</th>\n",
              "      <td>3</td>\n",
              "      <td>Downlink</td>\n",
              "      <td>-0.444780</td>\n",
              "    </tr>\n",
              "    <tr>\n",
              "      <th>15</th>\n",
              "      <td>3</td>\n",
              "      <td>Uplink</td>\n",
              "      <td>-0.268318</td>\n",
              "    </tr>\n",
              "    <tr>\n",
              "      <th>16</th>\n",
              "      <td>3</td>\n",
              "      <td>Rate(%)</td>\n",
              "      <td>0.028274</td>\n",
              "    </tr>\n",
              "    <tr>\n",
              "      <th>17</th>\n",
              "      <td>3</td>\n",
              "      <td>Video Download</td>\n",
              "      <td>-0.374149</td>\n",
              "    </tr>\n",
              "    <tr>\n",
              "      <th>18</th>\n",
              "      <td>3</td>\n",
              "      <td>Video Delay(ms)</td>\n",
              "      <td>0.150773</td>\n",
              "    </tr>\n",
              "    <tr>\n",
              "      <th>19</th>\n",
              "      <td>3</td>\n",
              "      <td>Web Download</td>\n",
              "      <td>-0.433070</td>\n",
              "    </tr>\n",
              "    <tr>\n",
              "      <th>20</th>\n",
              "      <td>3</td>\n",
              "      <td>Web RTT</td>\n",
              "      <td>0.403846</td>\n",
              "    </tr>\n",
              "    <tr>\n",
              "      <th>21</th>\n",
              "      <td>4</td>\n",
              "      <td>Downlink</td>\n",
              "      <td>0.213275</td>\n",
              "    </tr>\n",
              "    <tr>\n",
              "      <th>22</th>\n",
              "      <td>4</td>\n",
              "      <td>Uplink</td>\n",
              "      <td>0.674300</td>\n",
              "    </tr>\n",
              "    <tr>\n",
              "      <th>23</th>\n",
              "      <td>4</td>\n",
              "      <td>Rate(%)</td>\n",
              "      <td>-0.043155</td>\n",
              "    </tr>\n",
              "    <tr>\n",
              "      <th>24</th>\n",
              "      <td>4</td>\n",
              "      <td>Video Download</td>\n",
              "      <td>-0.149185</td>\n",
              "    </tr>\n",
              "    <tr>\n",
              "      <th>25</th>\n",
              "      <td>4</td>\n",
              "      <td>Video Delay(ms)</td>\n",
              "      <td>0.006443</td>\n",
              "    </tr>\n",
              "    <tr>\n",
              "      <th>26</th>\n",
              "      <td>4</td>\n",
              "      <td>Web Download</td>\n",
              "      <td>-0.072023</td>\n",
              "    </tr>\n",
              "    <tr>\n",
              "      <th>27</th>\n",
              "      <td>4</td>\n",
              "      <td>Web RTT</td>\n",
              "      <td>0.070513</td>\n",
              "    </tr>\n",
              "    <tr>\n",
              "      <th>28</th>\n",
              "      <td>5</td>\n",
              "      <td>Downlink</td>\n",
              "      <td>0.046909</td>\n",
              "    </tr>\n",
              "    <tr>\n",
              "      <th>29</th>\n",
              "      <td>5</td>\n",
              "      <td>Uplink</td>\n",
              "      <td>-0.325700</td>\n",
              "    </tr>\n",
              "    <tr>\n",
              "      <th>30</th>\n",
              "      <td>5</td>\n",
              "      <td>Rate(%)</td>\n",
              "      <td>0.444940</td>\n",
              "    </tr>\n",
              "    <tr>\n",
              "      <th>31</th>\n",
              "      <td>5</td>\n",
              "      <td>Video Download</td>\n",
              "      <td>0.003871</td>\n",
              "    </tr>\n",
              "    <tr>\n",
              "      <th>32</th>\n",
              "      <td>5</td>\n",
              "      <td>Video Delay(ms)</td>\n",
              "      <td>-0.431305</td>\n",
              "    </tr>\n",
              "    <tr>\n",
              "      <th>33</th>\n",
              "      <td>5</td>\n",
              "      <td>Web Download</td>\n",
              "      <td>-0.193121</td>\n",
              "    </tr>\n",
              "    <tr>\n",
              "      <th>34</th>\n",
              "      <td>5</td>\n",
              "      <td>Web RTT</td>\n",
              "      <td>0.010684</td>\n",
              "    </tr>\n",
              "    <tr>\n",
              "      <th>35</th>\n",
              "      <td>6</td>\n",
              "      <td>Downlink</td>\n",
              "      <td>0.555220</td>\n",
              "    </tr>\n",
              "    <tr>\n",
              "      <th>36</th>\n",
              "      <td>6</td>\n",
              "      <td>Uplink</td>\n",
              "      <td>0.672905</td>\n",
              "    </tr>\n",
              "    <tr>\n",
              "      <th>37</th>\n",
              "      <td>6</td>\n",
              "      <td>Rate(%)</td>\n",
              "      <td>-0.352679</td>\n",
              "    </tr>\n",
              "    <tr>\n",
              "      <th>38</th>\n",
              "      <td>6</td>\n",
              "      <td>Video Download</td>\n",
              "      <td>0.625851</td>\n",
              "    </tr>\n",
              "    <tr>\n",
              "      <th>39</th>\n",
              "      <td>6</td>\n",
              "      <td>Video Delay(ms)</td>\n",
              "      <td>-0.058584</td>\n",
              "    </tr>\n",
              "    <tr>\n",
              "      <th>40</th>\n",
              "      <td>6</td>\n",
              "      <td>Web Download</td>\n",
              "      <td>0.566930</td>\n",
              "    </tr>\n",
              "    <tr>\n",
              "      <th>41</th>\n",
              "      <td>6</td>\n",
              "      <td>Web RTT</td>\n",
              "      <td>-0.596154</td>\n",
              "    </tr>\n",
              "    <tr>\n",
              "      <th>42</th>\n",
              "      <td>7</td>\n",
              "      <td>Downlink</td>\n",
              "      <td>-0.041351</td>\n",
              "    </tr>\n",
              "    <tr>\n",
              "      <th>43</th>\n",
              "      <td>7</td>\n",
              "      <td>Uplink</td>\n",
              "      <td>-0.284656</td>\n",
              "    </tr>\n",
              "    <tr>\n",
              "      <th>44</th>\n",
              "      <td>7</td>\n",
              "      <td>Rate(%)</td>\n",
              "      <td>-0.055060</td>\n",
              "    </tr>\n",
              "    <tr>\n",
              "      <th>45</th>\n",
              "      <td>7</td>\n",
              "      <td>Video Download</td>\n",
              "      <td>0.357214</td>\n",
              "    </tr>\n",
              "    <tr>\n",
              "      <th>46</th>\n",
              "      <td>7</td>\n",
              "      <td>Video Delay(ms)</td>\n",
              "      <td>-0.418616</td>\n",
              "    </tr>\n",
              "    <tr>\n",
              "      <th>47</th>\n",
              "      <td>7</td>\n",
              "      <td>Web Download</td>\n",
              "      <td>0.066685</td>\n",
              "    </tr>\n",
              "    <tr>\n",
              "      <th>48</th>\n",
              "      <td>7</td>\n",
              "      <td>Web RTT</td>\n",
              "      <td>-0.014957</td>\n",
              "    </tr>\n",
              "    <tr>\n",
              "      <th>49</th>\n",
              "      <td>8</td>\n",
              "      <td>Downlink</td>\n",
              "      <td>0.234586</td>\n",
              "    </tr>\n",
              "    <tr>\n",
              "      <th>50</th>\n",
              "      <td>8</td>\n",
              "      <td>Uplink</td>\n",
              "      <td>-0.042775</td>\n",
              "    </tr>\n",
              "    <tr>\n",
              "      <th>51</th>\n",
              "      <td>8</td>\n",
              "      <td>Rate(%)</td>\n",
              "      <td>-0.555060</td>\n",
              "    </tr>\n",
              "    <tr>\n",
              "      <th>52</th>\n",
              "      <td>8</td>\n",
              "      <td>Video Download</td>\n",
              "      <td>0.087000</td>\n",
              "    </tr>\n",
              "    <tr>\n",
              "      <th>53</th>\n",
              "      <td>8</td>\n",
              "      <td>Video Delay(ms)</td>\n",
              "      <td>-0.160091</td>\n",
              "    </tr>\n",
              "    <tr>\n",
              "      <th>54</th>\n",
              "      <td>8</td>\n",
              "      <td>Web Download</td>\n",
              "      <td>0.446068</td>\n",
              "    </tr>\n",
              "    <tr>\n",
              "      <th>55</th>\n",
              "      <td>8</td>\n",
              "      <td>Web RTT</td>\n",
              "      <td>-0.126068</td>\n",
              "    </tr>\n",
              "  </tbody>\n",
              "</table>\n",
              "</div>"
            ],
            "text/plain": [
              "   Q1          feature    median\n",
              "0   1         Downlink -0.227214\n",
              "1   1           Uplink -0.258356\n",
              "2   1          Rate(%)  0.087798\n",
              "3   1   Video Download -0.292486\n",
              "4   1  Video Delay(ms)  0.342684\n",
              "5   1     Web Download -0.008499\n",
              "6   1          Web RTT  0.198718\n",
              "7   2         Downlink -0.336646\n",
              "8   2           Uplink -0.167401\n",
              "9   2          Rate(%)  0.444940\n",
              "10  2   Video Download -0.258115\n",
              "11  2  Video Delay(ms)  0.568695\n",
              "12  2     Web Download -0.372969\n",
              "13  2          Web RTT  0.053419\n",
              "14  3         Downlink -0.444780\n",
              "15  3           Uplink -0.268318\n",
              "16  3          Rate(%)  0.028274\n",
              "17  3   Video Download -0.374149\n",
              "18  3  Video Delay(ms)  0.150773\n",
              "19  3     Web Download -0.433070\n",
              "20  3          Web RTT  0.403846\n",
              "21  4         Downlink  0.213275\n",
              "22  4           Uplink  0.674300\n",
              "23  4          Rate(%) -0.043155\n",
              "24  4   Video Download -0.149185\n",
              "25  4  Video Delay(ms)  0.006443\n",
              "26  4     Web Download -0.072023\n",
              "27  4          Web RTT  0.070513\n",
              "28  5         Downlink  0.046909\n",
              "29  5           Uplink -0.325700\n",
              "30  5          Rate(%)  0.444940\n",
              "31  5   Video Download  0.003871\n",
              "32  5  Video Delay(ms) -0.431305\n",
              "33  5     Web Download -0.193121\n",
              "34  5          Web RTT  0.010684\n",
              "35  6         Downlink  0.555220\n",
              "36  6           Uplink  0.672905\n",
              "37  6          Rate(%) -0.352679\n",
              "38  6   Video Download  0.625851\n",
              "39  6  Video Delay(ms) -0.058584\n",
              "40  6     Web Download  0.566930\n",
              "41  6          Web RTT -0.596154\n",
              "42  7         Downlink -0.041351\n",
              "43  7           Uplink -0.284656\n",
              "44  7          Rate(%) -0.055060\n",
              "45  7   Video Download  0.357214\n",
              "46  7  Video Delay(ms) -0.418616\n",
              "47  7     Web Download  0.066685\n",
              "48  7          Web RTT -0.014957\n",
              "49  8         Downlink  0.234586\n",
              "50  8           Uplink -0.042775\n",
              "51  8          Rate(%) -0.555060\n",
              "52  8   Video Download  0.087000\n",
              "53  8  Video Delay(ms) -0.160091\n",
              "54  8     Web Download  0.446068\n",
              "55  8          Web RTT -0.126068"
            ]
          },
          "metadata": {
            "tags": []
          },
          "execution_count": 141
        }
      ]
    },
    {
      "cell_type": "code",
      "metadata": {
        "colab": {
          "base_uri": "https://localhost:8080/",
          "height": 542
        },
        "id": "OojDExCKxbz9",
        "outputId": "a6055d4f-5a97-4e08-bb6b-62dac00ba41f"
      },
      "source": [
        "px.scatter(video_user_stack, x='Q1', y='median', facet_col='feature')"
      ],
      "execution_count": null,
      "outputs": [
        {
          "output_type": "display_data",
          "data": {
            "text/html": [
              "<html>\n",
              "<head><meta charset=\"utf-8\" /></head>\n",
              "<body>\n",
              "    <div>\n",
              "            <script src=\"https://cdnjs.cloudflare.com/ajax/libs/mathjax/2.7.5/MathJax.js?config=TeX-AMS-MML_SVG\"></script><script type=\"text/javascript\">if (window.MathJax) {MathJax.Hub.Config({SVG: {font: \"STIX-Web\"}});}</script>\n",
              "                <script type=\"text/javascript\">window.PlotlyConfig = {MathJaxConfig: 'local'};</script>\n",
              "        <script src=\"https://cdn.plot.ly/plotly-latest.min.js\"></script>    \n",
              "            <div id=\"e8e200c2-68cb-4bda-b0fd-a705d76d4944\" class=\"plotly-graph-div\" style=\"height:525px; width:100%;\"></div>\n",
              "            <script type=\"text/javascript\">\n",
              "                \n",
              "                    window.PLOTLYENV=window.PLOTLYENV || {};\n",
              "                    \n",
              "                if (document.getElementById(\"e8e200c2-68cb-4bda-b0fd-a705d76d4944\")) {\n",
              "                    Plotly.newPlot(\n",
              "                        'e8e200c2-68cb-4bda-b0fd-a705d76d4944',\n",
              "                        [{\"hoverlabel\": {\"namelength\": 0}, \"hovertemplate\": \"feature=Downlink<br>Q1=%{x}<br>median=%{y}\", \"legendgroup\": \"\", \"marker\": {\"color\": \"#636efa\", \"symbol\": \"circle\"}, \"mode\": \"markers\", \"name\": \"\", \"showlegend\": false, \"type\": \"scatter\", \"x\": [\"1\", \"2\", \"3\", \"4\", \"5\", \"6\", \"7\", \"8\"], \"xaxis\": \"x\", \"y\": [-0.22721360507775729, -0.33664592870361354, -0.4447795931950262, 0.2132753400863607, 0.04690898834453412, 0.5552204068049738, -0.04135113308009496, 0.23458552482062267], \"yaxis\": \"y\"}, {\"hoverlabel\": {\"namelength\": 0}, \"hovertemplate\": \"feature=Uplink<br>Q1=%{x}<br>median=%{y}\", \"legendgroup\": \"\", \"marker\": {\"color\": \"#636efa\", \"symbol\": \"circle\"}, \"mode\": \"markers\", \"name\": \"\", \"showlegend\": false, \"type\": \"scatter\", \"x\": [\"1\", \"2\", \"3\", \"4\", \"5\", \"6\", \"7\", \"8\"], \"xaxis\": \"x2\", \"y\": [-0.25835574815700374, -0.16740137477585212, -0.26831789201036094, 0.6743001593943011, -0.3256998406056989, 0.6729054592548313, -0.284655807929867, -0.04277495517035312], \"yaxis\": \"y2\"}, {\"hoverlabel\": {\"namelength\": 0}, \"hovertemplate\": \"feature=Rate(%)<br>Q1=%{x}<br>median=%{y}\", \"legendgroup\": \"\", \"marker\": {\"color\": \"#636efa\", \"symbol\": \"circle\"}, \"mode\": \"markers\", \"name\": \"\", \"showlegend\": false, \"type\": \"scatter\", \"x\": [\"1\", \"2\", \"3\", \"4\", \"5\", \"6\", \"7\", \"8\"], \"xaxis\": \"x3\", \"y\": [0.08779761904761928, 0.44494047619047644, 0.02827380952380971, -0.04315476190476177, 0.44494047619047644, -0.3526785714285713, -0.05505952380952369, -0.5550595238095235], \"yaxis\": \"y3\"}, {\"hoverlabel\": {\"namelength\": 0}, \"hovertemplate\": \"feature=Video Download<br>Q1=%{x}<br>median=%{y}\", \"legendgroup\": \"\", \"marker\": {\"color\": \"#636efa\", \"symbol\": \"circle\"}, \"mode\": \"markers\", \"name\": \"\", \"showlegend\": false, \"type\": \"scatter\", \"x\": [\"1\", \"2\", \"3\", \"4\", \"5\", \"6\", \"7\", \"8\"], \"xaxis\": \"x4\", \"y\": [-0.29248564554959783, -0.25811509865200566, -0.37414922879669993, -0.14918502782045787, 0.003871041638358367, 0.6258507712033001, 0.3572135032872388, 0.08699968468986377], \"yaxis\": \"y4\"}, {\"hoverlabel\": {\"namelength\": 0}, \"hovertemplate\": \"feature=Video Delay(ms)<br>Q1=%{x}<br>median=%{y}\", \"legendgroup\": \"\", \"marker\": {\"color\": \"#636efa\", \"symbol\": \"circle\"}, \"mode\": \"markers\", \"name\": \"\", \"showlegend\": false, \"type\": \"scatter\", \"x\": [\"1\", \"2\", \"3\", \"4\", \"5\", \"6\", \"7\", \"8\"], \"xaxis\": \"x5\", \"y\": [0.3426843774781919, 0.568695479777954, 0.15077319587628865, 0.006443298969072165, -0.431304520222046, -0.05858445678033307, -0.4186161776367962, -0.16009119746233147], \"yaxis\": \"y5\"}, {\"hoverlabel\": {\"namelength\": 0}, \"hovertemplate\": \"feature=Web Download<br>Q1=%{x}<br>median=%{y}\", \"legendgroup\": \"\", \"marker\": {\"color\": \"#636efa\", \"symbol\": \"circle\"}, \"mode\": \"markers\", \"name\": \"\", \"showlegend\": false, \"type\": \"scatter\", \"x\": [\"1\", \"2\", \"3\", \"4\", \"5\", \"6\", \"7\", \"8\"], \"xaxis\": \"x6\", \"y\": [-0.008499155048584062, -0.37296894803548764, -0.4330703422053226, -0.0720226024503587, -0.19312103929024016, 0.5669296577946774, 0.06668462188424232, 0.4460678073510776], \"yaxis\": \"y6\"}, {\"hoverlabel\": {\"namelength\": 0}, \"hovertemplate\": \"feature=Web RTT<br>Q1=%{x}<br>median=%{y}\", \"legendgroup\": \"\", \"marker\": {\"color\": \"#636efa\", \"symbol\": \"circle\"}, \"mode\": \"markers\", \"name\": \"\", \"showlegend\": false, \"type\": \"scatter\", \"x\": [\"1\", \"2\", \"3\", \"4\", \"5\", \"6\", \"7\", \"8\"], \"xaxis\": \"x7\", \"y\": [0.1987179487179487, 0.053418803418803416, 0.40384615384615385, 0.07051282051282051, 0.010683760683760684, -0.5961538461538461, -0.014957264957264958, -0.12606837606837606], \"yaxis\": \"y7\"}],\n",
              "                        {\"annotations\": [{\"font\": {}, \"showarrow\": false, \"text\": \"feature=Downlink\", \"x\": 0.06285714285714285, \"xanchor\": \"center\", \"xref\": \"paper\", \"y\": 1.0, \"yanchor\": \"bottom\", \"yref\": \"paper\"}, {\"font\": {}, \"showarrow\": false, \"text\": \"feature=Uplink\", \"x\": 0.20857142857142852, \"xanchor\": \"center\", \"xref\": \"paper\", \"y\": 1.0, \"yanchor\": \"bottom\", \"yref\": \"paper\"}, {\"font\": {}, \"showarrow\": false, \"text\": \"feature=Rate(%)\", \"x\": 0.3542857142857142, \"xanchor\": \"center\", \"xref\": \"paper\", \"y\": 1.0, \"yanchor\": \"bottom\", \"yref\": \"paper\"}, {\"font\": {}, \"showarrow\": false, \"text\": \"feature=Video Download\", \"x\": 0.5, \"xanchor\": \"center\", \"xref\": \"paper\", \"y\": 1.0, \"yanchor\": \"bottom\", \"yref\": \"paper\"}, {\"font\": {}, \"showarrow\": false, \"text\": \"feature=Video Delay(ms)\", \"x\": 0.6457142857142856, \"xanchor\": \"center\", \"xref\": \"paper\", \"y\": 1.0, \"yanchor\": \"bottom\", \"yref\": \"paper\"}, {\"font\": {}, \"showarrow\": false, \"text\": \"feature=Web Download\", \"x\": 0.7914285714285713, \"xanchor\": \"center\", \"xref\": \"paper\", \"y\": 1.0, \"yanchor\": \"bottom\", \"yref\": \"paper\"}, {\"font\": {}, \"showarrow\": false, \"text\": \"feature=Web RTT\", \"x\": 0.9371428571428569, \"xanchor\": \"center\", \"xref\": \"paper\", \"y\": 1.0, \"yanchor\": \"bottom\", \"yref\": \"paper\"}], \"legend\": {\"tracegroupgap\": 0}, \"margin\": {\"t\": 60}, \"template\": {\"data\": {\"bar\": [{\"error_x\": {\"color\": \"#2a3f5f\"}, \"error_y\": {\"color\": \"#2a3f5f\"}, \"marker\": {\"line\": {\"color\": \"#E5ECF6\", \"width\": 0.5}}, \"type\": \"bar\"}], \"barpolar\": [{\"marker\": {\"line\": {\"color\": \"#E5ECF6\", \"width\": 0.5}}, \"type\": \"barpolar\"}], \"carpet\": [{\"aaxis\": {\"endlinecolor\": \"#2a3f5f\", \"gridcolor\": \"white\", \"linecolor\": \"white\", \"minorgridcolor\": \"white\", \"startlinecolor\": \"#2a3f5f\"}, \"baxis\": {\"endlinecolor\": \"#2a3f5f\", \"gridcolor\": \"white\", \"linecolor\": \"white\", \"minorgridcolor\": \"white\", \"startlinecolor\": \"#2a3f5f\"}, \"type\": \"carpet\"}], \"choropleth\": [{\"colorbar\": {\"outlinewidth\": 0, \"ticks\": \"\"}, \"type\": \"choropleth\"}], \"contour\": [{\"colorbar\": {\"outlinewidth\": 0, \"ticks\": \"\"}, \"colorscale\": [[0.0, \"#0d0887\"], [0.1111111111111111, \"#46039f\"], [0.2222222222222222, \"#7201a8\"], [0.3333333333333333, \"#9c179e\"], [0.4444444444444444, \"#bd3786\"], [0.5555555555555556, \"#d8576b\"], [0.6666666666666666, \"#ed7953\"], [0.7777777777777778, \"#fb9f3a\"], [0.8888888888888888, \"#fdca26\"], [1.0, \"#f0f921\"]], \"type\": \"contour\"}], \"contourcarpet\": [{\"colorbar\": {\"outlinewidth\": 0, \"ticks\": \"\"}, \"type\": \"contourcarpet\"}], \"heatmap\": [{\"colorbar\": {\"outlinewidth\": 0, \"ticks\": \"\"}, \"colorscale\": [[0.0, \"#0d0887\"], [0.1111111111111111, \"#46039f\"], [0.2222222222222222, \"#7201a8\"], [0.3333333333333333, \"#9c179e\"], [0.4444444444444444, \"#bd3786\"], [0.5555555555555556, \"#d8576b\"], [0.6666666666666666, \"#ed7953\"], [0.7777777777777778, \"#fb9f3a\"], [0.8888888888888888, \"#fdca26\"], [1.0, \"#f0f921\"]], \"type\": \"heatmap\"}], \"heatmapgl\": [{\"colorbar\": {\"outlinewidth\": 0, \"ticks\": \"\"}, \"colorscale\": [[0.0, \"#0d0887\"], [0.1111111111111111, \"#46039f\"], [0.2222222222222222, \"#7201a8\"], [0.3333333333333333, \"#9c179e\"], [0.4444444444444444, \"#bd3786\"], [0.5555555555555556, \"#d8576b\"], [0.6666666666666666, \"#ed7953\"], [0.7777777777777778, \"#fb9f3a\"], [0.8888888888888888, \"#fdca26\"], [1.0, \"#f0f921\"]], \"type\": \"heatmapgl\"}], \"histogram\": [{\"marker\": {\"colorbar\": {\"outlinewidth\": 0, \"ticks\": \"\"}}, \"type\": \"histogram\"}], \"histogram2d\": [{\"colorbar\": {\"outlinewidth\": 0, \"ticks\": \"\"}, \"colorscale\": [[0.0, \"#0d0887\"], [0.1111111111111111, \"#46039f\"], [0.2222222222222222, \"#7201a8\"], [0.3333333333333333, \"#9c179e\"], [0.4444444444444444, \"#bd3786\"], [0.5555555555555556, \"#d8576b\"], [0.6666666666666666, \"#ed7953\"], [0.7777777777777778, \"#fb9f3a\"], [0.8888888888888888, \"#fdca26\"], [1.0, \"#f0f921\"]], \"type\": \"histogram2d\"}], \"histogram2dcontour\": [{\"colorbar\": {\"outlinewidth\": 0, \"ticks\": \"\"}, \"colorscale\": [[0.0, \"#0d0887\"], [0.1111111111111111, \"#46039f\"], [0.2222222222222222, \"#7201a8\"], [0.3333333333333333, \"#9c179e\"], [0.4444444444444444, \"#bd3786\"], [0.5555555555555556, \"#d8576b\"], [0.6666666666666666, \"#ed7953\"], [0.7777777777777778, \"#fb9f3a\"], [0.8888888888888888, \"#fdca26\"], [1.0, \"#f0f921\"]], \"type\": \"histogram2dcontour\"}], \"mesh3d\": [{\"colorbar\": {\"outlinewidth\": 0, \"ticks\": \"\"}, \"type\": \"mesh3d\"}], \"parcoords\": [{\"line\": {\"colorbar\": {\"outlinewidth\": 0, \"ticks\": \"\"}}, \"type\": \"parcoords\"}], \"pie\": [{\"automargin\": true, \"type\": \"pie\"}], \"scatter\": [{\"marker\": {\"colorbar\": {\"outlinewidth\": 0, \"ticks\": \"\"}}, \"type\": \"scatter\"}], \"scatter3d\": [{\"line\": {\"colorbar\": {\"outlinewidth\": 0, \"ticks\": \"\"}}, \"marker\": {\"colorbar\": {\"outlinewidth\": 0, \"ticks\": \"\"}}, \"type\": \"scatter3d\"}], \"scattercarpet\": [{\"marker\": {\"colorbar\": {\"outlinewidth\": 0, \"ticks\": \"\"}}, \"type\": \"scattercarpet\"}], \"scattergeo\": [{\"marker\": {\"colorbar\": {\"outlinewidth\": 0, \"ticks\": \"\"}}, \"type\": \"scattergeo\"}], \"scattergl\": [{\"marker\": {\"colorbar\": {\"outlinewidth\": 0, \"ticks\": \"\"}}, \"type\": \"scattergl\"}], \"scattermapbox\": [{\"marker\": {\"colorbar\": {\"outlinewidth\": 0, \"ticks\": \"\"}}, \"type\": \"scattermapbox\"}], \"scatterpolar\": [{\"marker\": {\"colorbar\": {\"outlinewidth\": 0, \"ticks\": \"\"}}, \"type\": \"scatterpolar\"}], \"scatterpolargl\": [{\"marker\": {\"colorbar\": {\"outlinewidth\": 0, \"ticks\": \"\"}}, \"type\": \"scatterpolargl\"}], \"scatterternary\": [{\"marker\": {\"colorbar\": {\"outlinewidth\": 0, \"ticks\": \"\"}}, \"type\": \"scatterternary\"}], \"surface\": [{\"colorbar\": {\"outlinewidth\": 0, \"ticks\": \"\"}, \"colorscale\": [[0.0, \"#0d0887\"], [0.1111111111111111, \"#46039f\"], [0.2222222222222222, \"#7201a8\"], [0.3333333333333333, \"#9c179e\"], [0.4444444444444444, \"#bd3786\"], [0.5555555555555556, \"#d8576b\"], [0.6666666666666666, \"#ed7953\"], [0.7777777777777778, \"#fb9f3a\"], [0.8888888888888888, \"#fdca26\"], [1.0, \"#f0f921\"]], \"type\": \"surface\"}], \"table\": [{\"cells\": {\"fill\": {\"color\": \"#EBF0F8\"}, \"line\": {\"color\": \"white\"}}, \"header\": {\"fill\": {\"color\": \"#C8D4E3\"}, \"line\": {\"color\": \"white\"}}, \"type\": \"table\"}]}, \"layout\": {\"annotationdefaults\": {\"arrowcolor\": \"#2a3f5f\", \"arrowhead\": 0, \"arrowwidth\": 1}, \"coloraxis\": {\"colorbar\": {\"outlinewidth\": 0, \"ticks\": \"\"}}, \"colorscale\": {\"diverging\": [[0, \"#8e0152\"], [0.1, \"#c51b7d\"], [0.2, \"#de77ae\"], [0.3, \"#f1b6da\"], [0.4, \"#fde0ef\"], [0.5, \"#f7f7f7\"], [0.6, \"#e6f5d0\"], [0.7, \"#b8e186\"], [0.8, \"#7fbc41\"], [0.9, \"#4d9221\"], [1, \"#276419\"]], \"sequential\": [[0.0, \"#0d0887\"], [0.1111111111111111, \"#46039f\"], [0.2222222222222222, \"#7201a8\"], [0.3333333333333333, \"#9c179e\"], [0.4444444444444444, \"#bd3786\"], [0.5555555555555556, \"#d8576b\"], [0.6666666666666666, \"#ed7953\"], [0.7777777777777778, \"#fb9f3a\"], [0.8888888888888888, \"#fdca26\"], [1.0, \"#f0f921\"]], \"sequentialminus\": [[0.0, \"#0d0887\"], [0.1111111111111111, \"#46039f\"], [0.2222222222222222, \"#7201a8\"], [0.3333333333333333, \"#9c179e\"], [0.4444444444444444, \"#bd3786\"], [0.5555555555555556, \"#d8576b\"], [0.6666666666666666, \"#ed7953\"], [0.7777777777777778, \"#fb9f3a\"], [0.8888888888888888, \"#fdca26\"], [1.0, \"#f0f921\"]]}, \"colorway\": [\"#636efa\", \"#EF553B\", \"#00cc96\", \"#ab63fa\", \"#FFA15A\", \"#19d3f3\", \"#FF6692\", \"#B6E880\", \"#FF97FF\", \"#FECB52\"], \"font\": {\"color\": \"#2a3f5f\"}, \"geo\": {\"bgcolor\": \"white\", \"lakecolor\": \"white\", \"landcolor\": \"#E5ECF6\", \"showlakes\": true, \"showland\": true, \"subunitcolor\": \"white\"}, \"hoverlabel\": {\"align\": \"left\"}, \"hovermode\": \"closest\", \"mapbox\": {\"style\": \"light\"}, \"paper_bgcolor\": \"white\", \"plot_bgcolor\": \"#E5ECF6\", \"polar\": {\"angularaxis\": {\"gridcolor\": \"white\", \"linecolor\": \"white\", \"ticks\": \"\"}, \"bgcolor\": \"#E5ECF6\", \"radialaxis\": {\"gridcolor\": \"white\", \"linecolor\": \"white\", \"ticks\": \"\"}}, \"scene\": {\"xaxis\": {\"backgroundcolor\": \"#E5ECF6\", \"gridcolor\": \"white\", \"gridwidth\": 2, \"linecolor\": \"white\", \"showbackground\": true, \"ticks\": \"\", \"zerolinecolor\": \"white\"}, \"yaxis\": {\"backgroundcolor\": \"#E5ECF6\", \"gridcolor\": \"white\", \"gridwidth\": 2, \"linecolor\": \"white\", \"showbackground\": true, \"ticks\": \"\", \"zerolinecolor\": \"white\"}, \"zaxis\": {\"backgroundcolor\": \"#E5ECF6\", \"gridcolor\": \"white\", \"gridwidth\": 2, \"linecolor\": \"white\", \"showbackground\": true, \"ticks\": \"\", \"zerolinecolor\": \"white\"}}, \"shapedefaults\": {\"line\": {\"color\": \"#2a3f5f\"}}, \"ternary\": {\"aaxis\": {\"gridcolor\": \"white\", \"linecolor\": \"white\", \"ticks\": \"\"}, \"baxis\": {\"gridcolor\": \"white\", \"linecolor\": \"white\", \"ticks\": \"\"}, \"bgcolor\": \"#E5ECF6\", \"caxis\": {\"gridcolor\": \"white\", \"linecolor\": \"white\", \"ticks\": \"\"}}, \"title\": {\"x\": 0.05}, \"xaxis\": {\"automargin\": true, \"gridcolor\": \"white\", \"linecolor\": \"white\", \"ticks\": \"\", \"title\": {\"standoff\": 15}, \"zerolinecolor\": \"white\", \"zerolinewidth\": 2}, \"yaxis\": {\"automargin\": true, \"gridcolor\": \"white\", \"linecolor\": \"white\", \"ticks\": \"\", \"title\": {\"standoff\": 15}, \"zerolinecolor\": \"white\", \"zerolinewidth\": 2}}}, \"xaxis\": {\"anchor\": \"y\", \"domain\": [0.0, 0.1257142857142857], \"title\": {\"text\": \"Q1\"}}, \"xaxis2\": {\"anchor\": \"y2\", \"domain\": [0.14571428571428569, 0.27142857142857135], \"matches\": \"x\", \"title\": {\"text\": \"Q1\"}}, \"xaxis3\": {\"anchor\": \"y3\", \"domain\": [0.29142857142857137, 0.41714285714285704], \"matches\": \"x\", \"title\": {\"text\": \"Q1\"}}, \"xaxis4\": {\"anchor\": \"y4\", \"domain\": [0.4371428571428571, 0.5628571428571428], \"matches\": \"x\", \"title\": {\"text\": \"Q1\"}}, \"xaxis5\": {\"anchor\": \"y5\", \"domain\": [0.5828571428571427, 0.7085714285714284], \"matches\": \"x\", \"title\": {\"text\": \"Q1\"}}, \"xaxis6\": {\"anchor\": \"y6\", \"domain\": [0.7285714285714284, 0.8542857142857141], \"matches\": \"x\", \"title\": {\"text\": \"Q1\"}}, \"xaxis7\": {\"anchor\": \"y7\", \"domain\": [0.8742857142857141, 0.9999999999999998], \"matches\": \"x\", \"title\": {\"text\": \"Q1\"}}, \"yaxis\": {\"anchor\": \"x\", \"domain\": [0.0, 1.0], \"title\": {\"text\": \"median\"}}, \"yaxis2\": {\"anchor\": \"x2\", \"domain\": [0.0, 1.0], \"matches\": \"y\", \"showticklabels\": false}, \"yaxis3\": {\"anchor\": \"x3\", \"domain\": [0.0, 1.0], \"matches\": \"y\", \"showticklabels\": false}, \"yaxis4\": {\"anchor\": \"x4\", \"domain\": [0.0, 1.0], \"matches\": \"y\", \"showticklabels\": false}, \"yaxis5\": {\"anchor\": \"x5\", \"domain\": [0.0, 1.0], \"matches\": \"y\", \"showticklabels\": false}, \"yaxis6\": {\"anchor\": \"x6\", \"domain\": [0.0, 1.0], \"matches\": \"y\", \"showticklabels\": false}, \"yaxis7\": {\"anchor\": \"x7\", \"domain\": [0.0, 1.0], \"matches\": \"y\", \"showticklabels\": false}},\n",
              "                        {\"responsive\": true}\n",
              "                    ).then(function(){\n",
              "                            \n",
              "var gd = document.getElementById('e8e200c2-68cb-4bda-b0fd-a705d76d4944');\n",
              "var x = new MutationObserver(function (mutations, observer) {{\n",
              "        var display = window.getComputedStyle(gd).display;\n",
              "        if (!display || display === 'none') {{\n",
              "            console.log([gd, 'removed!']);\n",
              "            Plotly.purge(gd);\n",
              "            observer.disconnect();\n",
              "        }}\n",
              "}});\n",
              "\n",
              "// Listen for the removal of the full notebook cells\n",
              "var notebookContainer = gd.closest('#notebook-container');\n",
              "if (notebookContainer) {{\n",
              "    x.observe(notebookContainer, {childList: true});\n",
              "}}\n",
              "\n",
              "// Listen for the clearing of the current output cell\n",
              "var outputEl = gd.closest('.output');\n",
              "if (outputEl) {{\n",
              "    x.observe(outputEl, {childList: true});\n",
              "}}\n",
              "\n",
              "                        })\n",
              "                };\n",
              "                \n",
              "            </script>\n",
              "        </div>\n",
              "</body>\n",
              "</html>"
            ]
          },
          "metadata": {
            "tags": []
          }
        }
      ]
    },
    {
      "cell_type": "markdown",
      "metadata": {
        "id": "i1RLEApy57ju"
      },
      "source": [
        "# Гипотеза 2. Статистический анализ"
      ]
    },
    {
      "cell_type": "markdown",
      "metadata": {
        "id": "LrY54rFG6g3v"
      },
      "source": [
        "В блоке статистического анализа проведем проверку гипотез, о достоверности различий в технологических характеристиках оказания услуг для пользователей поставивших высокие и низкие баллы за качество услуг."
      ]
    },
    {
      "cell_type": "markdown",
      "metadata": {
        "id": "2gAaWLeD6rca"
      },
      "source": [
        "Для оценки статистической значимости различий полученных на предыдущем этапе оценим значения доверительных интервалов для выборочного математического ожидания. Для этого определим, размеры выборок для каждого варианта ответа на вопрос Q1.\r\n"
      ]
    },
    {
      "cell_type": "code",
      "metadata": {
        "colab": {
          "base_uri": "https://localhost:8080/",
          "height": 294
        },
        "id": "9aUxUWPun6pY",
        "outputId": "06616da6-0334-4289-939a-7d8c976cb7b8"
      },
      "source": [
        "count_Q1=internet_user_q2_4.groupby(['Q1'])['Downlink Throughput(Kbps)'].count().reset_index()\r\n",
        "count_Q1"
      ],
      "execution_count": null,
      "outputs": [
        {
          "output_type": "execute_result",
          "data": {
            "text/html": [
              "<div>\n",
              "<style scoped>\n",
              "    .dataframe tbody tr th:only-of-type {\n",
              "        vertical-align: middle;\n",
              "    }\n",
              "\n",
              "    .dataframe tbody tr th {\n",
              "        vertical-align: top;\n",
              "    }\n",
              "\n",
              "    .dataframe thead th {\n",
              "        text-align: right;\n",
              "    }\n",
              "</style>\n",
              "<table border=\"1\" class=\"dataframe\">\n",
              "  <thead>\n",
              "    <tr style=\"text-align: right;\">\n",
              "      <th></th>\n",
              "      <th>Q1</th>\n",
              "      <th>Downlink Throughput(Kbps)</th>\n",
              "    </tr>\n",
              "  </thead>\n",
              "  <tbody>\n",
              "    <tr>\n",
              "      <th>0</th>\n",
              "      <td>1</td>\n",
              "      <td>165</td>\n",
              "    </tr>\n",
              "    <tr>\n",
              "      <th>1</th>\n",
              "      <td>2</td>\n",
              "      <td>60</td>\n",
              "    </tr>\n",
              "    <tr>\n",
              "      <th>2</th>\n",
              "      <td>3</td>\n",
              "      <td>121</td>\n",
              "    </tr>\n",
              "    <tr>\n",
              "      <th>3</th>\n",
              "      <td>4</td>\n",
              "      <td>45</td>\n",
              "    </tr>\n",
              "    <tr>\n",
              "      <th>4</th>\n",
              "      <td>5</td>\n",
              "      <td>78</td>\n",
              "    </tr>\n",
              "    <tr>\n",
              "      <th>5</th>\n",
              "      <td>6</td>\n",
              "      <td>29</td>\n",
              "    </tr>\n",
              "    <tr>\n",
              "      <th>6</th>\n",
              "      <td>7</td>\n",
              "      <td>67</td>\n",
              "    </tr>\n",
              "    <tr>\n",
              "      <th>7</th>\n",
              "      <td>8</td>\n",
              "      <td>61</td>\n",
              "    </tr>\n",
              "  </tbody>\n",
              "</table>\n",
              "</div>"
            ],
            "text/plain": [
              "  Q1  Downlink Throughput(Kbps)\n",
              "0  1                        165\n",
              "1  2                         60\n",
              "2  3                        121\n",
              "3  4                         45\n",
              "4  5                         78\n",
              "5  6                         29\n",
              "6  7                         67\n",
              "7  8                         61"
            ]
          },
          "metadata": {
            "tags": []
          },
          "execution_count": 115
        }
      ]
    },
    {
      "cell_type": "markdown",
      "metadata": {
        "id": "6KwSSBT58pIF"
      },
      "source": [
        "Как предсталяется, для пользователей оценивающих качество мобильного интернета наиболее важными переменными будут:\r\n",
        "\r\n",
        ">     Downlink Throughput(Kbps) — средняя скорость «к абоненту» ;\r\n",
        "     Downlink TCP Retransmission Rate(%) — частота переотправок пакетов «к абоненту»;\r\n",
        "     Web Page Download Throughput(Kbps) — скорость загрузки web-страниц через браузер;\r\n",
        "     Web Average TCP RTT(ms) — пинг при просмотре web-страниц.\r\n",
        "\r\n",
        "Произведем оценку доверительных интервалов, выборчных средних для выбранных переменных."
      ]
    },
    {
      "cell_type": "markdown",
      "metadata": {
        "id": "iyxQ1mpL_C2u"
      },
      "source": [
        "Основываясь на графике полученном на стадии разведочного анализа выскажем дополнительное упрощающее допущение, о том что данные полученные от пользователей поставивших оценки на вопрос Q1:  1,2,3  можно объединить в группу «плохо», а данные  ответивших 6,7,8 в группу «хорошо».\r\n",
        "Для подтверждения гипотезы 2 необходимо чтобы для всех или части отобранных параметров лучшие значения советуют группе «хорошо».\r\n",
        "Для этого сформируем два массива данных сгруппированных по приставленному выше принципу. "
      ]
    },
    {
      "cell_type": "code",
      "metadata": {
        "id": "oeaUJ_LjEtBz"
      },
      "source": [
        "IU_4_Q2_bad=internet_user_q2_4[internet_user_q2_4['Q1'].isin(['1','2','3'])][['Downlink Throughput(Kbps)', 'Downlink TCP Retransmission Rate(%)','Web Page Download Throughput(Kbps)', 'Web Average TCP RTT(ms)']]\r\n",
        "IU_4_Q2_good=internet_user_q2_4[internet_user_q2_4['Q1'].isin(['6','7','8'])][['Downlink Throughput(Kbps)', 'Downlink TCP Retransmission Rate(%)','Web Page Download Throughput(Kbps)', 'Web Average TCP RTT(ms)']]"
      ],
      "execution_count": null,
      "outputs": []
    },
    {
      "cell_type": "code",
      "metadata": {
        "id": "v9BjKyIBGWaw"
      },
      "source": [
        "IU_4_Q2_good.head()"
      ],
      "execution_count": null,
      "outputs": []
    },
    {
      "cell_type": "code",
      "metadata": {
        "id": "rovx4cLqETAL"
      },
      "source": [
        "IU_4_Q2_bad.head()"
      ],
      "execution_count": null,
      "outputs": []
    },
    {
      "cell_type": "markdown",
      "metadata": {
        "id": "jK8cI4D6Fh4e"
      },
      "source": [
        "Визуализируем функции распределения для выбранных переменных:"
      ]
    },
    {
      "cell_type": "code",
      "metadata": {
        "id": "hyRZT17TAdZL"
      },
      "source": [
        "col_for_test=['Downlink Throughput(Kbps)', 'Downlink TCP Retransmission Rate(%)','Web Page Download Throughput(Kbps)', 'Web Average TCP RTT(ms)']"
      ],
      "execution_count": null,
      "outputs": []
    },
    {
      "cell_type": "code",
      "metadata": {
        "colab": {
          "base_uri": "https://localhost:8080/",
          "height": 740
        },
        "id": "RHOzjSVAH3os",
        "outputId": "7041d5ae-e7a8-4475-904e-42fe7d6d13ac"
      },
      "source": [
        "for col in col_for_test:\r\n",
        "  fig, ax1 = plt.subplots(figsize=(4, 2))\r\n",
        "  ax1.set_title(col,color='Black',fontsize='16')\r\n",
        "  lab=['bad','good']\r\n",
        "  ax1.tick_params(axis='both',labelcolor='Black')\r\n",
        "  ax1.hist([IU_4_Q2_bad[col],IU_4_Q2_good[col]],bins=10,label=lab)\r\n",
        "  ax1.legend(prop={'size': 10})\r\n",
        "  fig.savefig('Hip2_Inet' + col,transparent=True)  \r\n",
        "plt.show"
      ],
      "execution_count": null,
      "outputs": [
        {
          "output_type": "stream",
          "text": [
            "/usr/local/lib/python3.6/dist-packages/numpy/core/_asarray.py:83: VisibleDeprecationWarning:\n",
            "\n",
            "Creating an ndarray from ragged nested sequences (which is a list-or-tuple of lists-or-tuples-or ndarrays with different lengths or shapes) is deprecated. If you meant to do this, you must specify 'dtype=object' when creating the ndarray\n",
            "\n"
          ],
          "name": "stderr"
        },
        {
          "output_type": "execute_result",
          "data": {
            "text/plain": [
              "<function matplotlib.pyplot.show>"
            ]
          },
          "metadata": {
            "tags": []
          },
          "execution_count": 121
        },
        {
          "output_type": "display_data",
          "data": {
            "image/png": "[encoded data removed]",
            "text/plain": [
              "<Figure size 288x144 with 1 Axes>"
            ]
          },
          "metadata": {
            "tags": []
          }
        },
        {
          "output_type": "display_data",
          "data": {
            "image/png": "[encoded data removed]",
            "text/plain": [
              "<Figure size 288x144 with 1 Axes>"
            ]
          },
          "metadata": {
            "tags": []
          }
        },
        {
          "output_type": "display_data",
          "data": {
            "image/png": "[encoded data removed]",
            "text/plain": [
              "<Figure size 288x144 with 1 Axes>"
            ]
          },
          "metadata": {
            "tags": []
          }
        },
        {
          "output_type": "display_data",
          "data": {
            "image/png": "[encoded data removed]",
            "text/plain": [
              "<Figure size 288x144 with 1 Axes>"
            ]
          },
          "metadata": {
            "tags": []
          }
        }
      ]
    },
    {
      "cell_type": "markdown",
      "metadata": {
        "id": "oQeSFcLsGHyJ"
      },
      "source": [
        "Как видно распределения не выглядят нормальными.\r\n",
        "Возможно данные распределения относятся к логнормальным?\r\n",
        "Проверим. Для этого получим новый датафрейм, логарифмов исходных величин.\r\n",
        "Поскольку мы используем функцию логарифма исключим из датафрейма данные со значениями меньшими или равными нулю."
      ]
    },
    {
      "cell_type": "code",
      "metadata": {
        "id": "r53-gKLAVitz"
      },
      "source": [
        "IU_4_Q2_good_log=IU_4_Q2_good[(IU_4_Q2_good['Web Average TCP RTT(ms)']>0)&(IU_4_Q2_good['Web Page Download Throughput(Kbps)']>0)]\r\n",
        "#IU_4_Q2_bad_log=internet_user_q2_4[(internet_user_q2_4['Web Average TCP RTT(ms)']!=0)&(internet_user_q2_4['Web Page Download Throughput(Kbps)']!=0)][['Q1','Downlink Throughput(Kbps)', 'Downlink TCP Retransmission Rate(%)','Web Page Download Throughput(Kbps)', 'Web Average TCP RTT(ms)']]\r\n",
        "IU_4_Q2_bad_log=IU_4_Q2_bad[(IU_4_Q2_bad['Web Average TCP RTT(ms)']>0)&(IU_4_Q2_bad['Web Page Download Throughput(Kbps)']>0)]"
      ],
      "execution_count": null,
      "outputs": []
    },
    {
      "cell_type": "code",
      "metadata": {
        "id": "Gpn42J-MOceW"
      },
      "source": [
        "IU_4_Q2_good_log=IU_4_Q2_good_log.apply(lambda x: np.log(x))\r\n",
        "IU_4_Q2_bad_log=IU_4_Q2_bad_log.apply(lambda x: np.log(x))"
      ],
      "execution_count": null,
      "outputs": []
    },
    {
      "cell_type": "code",
      "metadata": {
        "colab": {
          "base_uri": "https://localhost:8080/",
          "height": 740
        },
        "id": "IwtK3FVcP0gH",
        "outputId": "a5da5f0b-41e2-4f34-8c9a-2761c311eadc"
      },
      "source": [
        "for col in col_for_test:\r\n",
        "  fig, ax1 = plt.subplots( nrows=1, ncols=1,figsize=(4, 2))\r\n",
        "  ax1.set_title(col,color='Black',fontsize='16')\r\n",
        "  ax1.tick_params(axis='both',labelcolor='Black')\r\n",
        "  plt.hist([IU_4_Q2_bad_log[col],IU_4_Q2_good_log[col]],bins=10,label=['bad','good'])\r\n",
        "  ax1.legend(prop={'size': 10}) \r\n",
        "  fig.savefig('Hip2_Inet_log_' + col,transparent=True)   \r\n",
        "plt.show"
      ],
      "execution_count": null,
      "outputs": [
        {
          "output_type": "stream",
          "text": [
            "/usr/local/lib/python3.6/dist-packages/numpy/core/_asarray.py:83: VisibleDeprecationWarning:\n",
            "\n",
            "Creating an ndarray from ragged nested sequences (which is a list-or-tuple of lists-or-tuples-or ndarrays with different lengths or shapes) is deprecated. If you meant to do this, you must specify 'dtype=object' when creating the ndarray\n",
            "\n"
          ],
          "name": "stderr"
        },
        {
          "output_type": "execute_result",
          "data": {
            "text/plain": [
              "<function matplotlib.pyplot.show>"
            ]
          },
          "metadata": {
            "tags": []
          },
          "execution_count": 125
        },
        {
          "output_type": "display_data",
          "data": {
            "image/png": "[encoded data removed]",
            "text/plain": [
              "<Figure size 288x144 with 1 Axes>"
            ]
          },
          "metadata": {
            "tags": []
          }
        },
        {
          "output_type": "display_data",
          "data": {
            "image/png": "[encoded data removed]",
            "text/plain": [
              "<Figure size 288x144 with 1 Axes>"
            ]
          },
          "metadata": {
            "tags": []
          }
        },
        {
          "output_type": "display_data",
          "data": {
            "image/png": "[encoded data removed]",
            "text/plain": [
              "<Figure size 288x144 with 1 Axes>"
            ]
          },
          "metadata": {
            "tags": []
          }
        },
        {
          "output_type": "display_data",
          "data": {
            "image/png": "[encoded data removed]",
            "text/plain": [
              "<Figure size 288x144 with 1 Axes>"
            ]
          },
          "metadata": {
            "tags": []
          }
        }
      ]
    },
    {
      "cell_type": "markdown",
      "metadata": {
        "id": "6MM28jjzNGie"
      },
      "source": [
        "Как видно полученные диаграммы визуально ближе к привычному нормальному распределению.\r\n",
        "Дальнейший анализ будем проводить с этими обновленными данными"
      ]
    },
    {
      "cell_type": "markdown",
      "metadata": {
        "id": "Y5klz0HoDAQc"
      },
      "source": [
        "Для вычисления доверительного интервала воспользуемся функциями библиотеки scipy.\r\n",
        "Поскольку выборки достаточно \"короткие\", воспользуемся t-статистикой"
      ]
    },
    {
      "cell_type": "code",
      "metadata": {
        "id": "zVD24crq8nrz"
      },
      "source": [
        "import scipy.stats as st"
      ],
      "execution_count": null,
      "outputs": []
    },
    {
      "cell_type": "code",
      "metadata": {
        "colab": {
          "base_uri": "https://localhost:8080/"
        },
        "id": "d1npMN1rHjK5",
        "outputId": "4233cf55-3f09-4253-c0b1-01142b97d77b"
      },
      "source": [
        "for col in col_for_test:\r\n",
        "  print('Для переменной',col)\r\n",
        "  print('Выыборочная средняя bad=',np.mean(([IU_4_Q2_bad_log[col]])),'  good=',np.mean(([IU_4_Q2_good_log[col]])))\r\n",
        "  print('Доверительный интервал bad: ', st.t.interval(0.95, len(IU_4_Q2_bad_log[col])-1, loc=np.mean(IU_4_Q2_bad_log[col]), scale=st.sem(IU_4_Q2_bad_log[col])),' good: ', st.t.interval(0.95, len(IU_4_Q2_good_log[col])-1, loc=np.mean(IU_4_Q2_good_log[col]), scale=st.sem(IU_4_Q2_good_log[col]))) "
      ],
      "execution_count": null,
      "outputs": [
        {
          "output_type": "stream",
          "text": [
            "Для переменной Downlink Throughput(Kbps)\n",
            "Выыборочная средняя bad= 6.758055818841228   good= 7.189574447981046\n",
            "Доверительный интервал bad:  (6.6282333648616225, 6.887878272820839)  good:  (7.02945209510325, 7.34969680085885)\n",
            "Для переменной Downlink TCP Retransmission Rate(%)\n",
            "Выыборочная средняя bad= 0.4403443327422695   good= 0.312425297227471\n",
            "Доверительный интервал bad:  (0.3478353968339035, 0.5328532686506348)  good:  (0.17630004717208153, 0.4485505472828603)\n",
            "Для переменной Web Page Download Throughput(Kbps)\n",
            "Выыборочная средняя bad= 7.060944032263993   good= 7.282319891225137\n",
            "Доверительный интервал bad:  (6.962829510925006, 7.1590585536029865)  good:  (7.152241479984545, 7.412398302465732)\n",
            "Для переменной Web Average TCP RTT(ms)\n",
            "Выыборочная средняя bad= 5.1730648347436325   good= 4.990403059997274\n",
            "Доверительный интервал bad:  (5.0768859657509715, 5.2692437037362865)  good:  (4.86414156388562, 5.116664556108927)\n"
          ],
          "name": "stdout"
        }
      ]
    },
    {
      "cell_type": "code",
      "metadata": {
        "colab": {
          "base_uri": "https://localhost:8080/",
          "height": 1000
        },
        "id": "_-xQvrom_iEq",
        "outputId": "31d03c7b-7d1c-4f0b-d9fd-91ee40055608"
      },
      "source": [
        "for col in col_for_test:#col_graph:\r\n",
        "  fig, ax = plt.subplots() \r\n",
        "  mean1=IU_4_Q2_bad_log[col].mean()  \r\n",
        "  mean2=IU_4_Q2_good_log[col].mean()\r\n",
        "\r\n",
        "  freedoms1=IU_4_Q2_bad_log[col].count()-1 \r\n",
        "  freedoms2=IU_4_Q2_good_log[col].count()-1\r\n",
        "  dov1=st.t.interval(0.95, freedoms1, loc=mean1,scale=st.sem(IU_4_Q2_bad_log[col]))\r\n",
        "  dov2=st.t.interval(0.95, freedoms2, loc=mean2,scale=st.sem(IU_4_Q2_good_log[col]))\r\n",
        "\r\n",
        "  err1=dov1[1]-dov1[0]\r\n",
        "  err2=dov2[1]-dov2[0]\r\n",
        "\r\n",
        "  #ax.errorbar( 0, mean1,xerr=np.log(err1), capsize=3,linestyle=\"None\",marker=\"s\", markersize=7)\r\n",
        "  ax.errorbar( 0, mean1,xerr=(err1)/2, capsize=3,linestyle=\"None\",marker=\"s\", markersize=7)\r\n",
        "  #ax.errorbar( np.log(abs(mean2-mean1)), mean2, xerr=np.log(err2),capsize=3,linestyle=\"None\",marker=\"s\", markersize=7)\r\n",
        "  ax.errorbar( (abs(mean2-mean1)), mean2, xerr=(err2)/2,capsize=3,linestyle=\"None\",marker=\"s\", markersize=7)\r\n",
        "  \r\n",
        "  ax.set_title(col,color='Black',fontsize='16')\r\n",
        "  fig.savefig('Hip2_Dov1_' + col,transparent=True) \r\n",
        "  plt.show()"
      ],
      "execution_count": null,
      "outputs": [
        {
          "output_type": "display_data",
          "data": {
            "image/png": "[encoded data removed]",
            "text/plain": [
              "<Figure size 432x288 with 1 Axes>"
            ]
          },
          "metadata": {
            "tags": []
          }
        },
        {
          "output_type": "display_data",
          "data": {
            "image/png": "[encoded data removed]",
            "text/plain": [
              "<Figure size 432x288 with 1 Axes>"
            ]
          },
          "metadata": {
            "tags": []
          }
        },
        {
          "output_type": "display_data",
          "data": {
            "image/png": "[encoded data removed]",
            "text/plain": [
              "<Figure size 432x288 with 1 Axes>"
            ]
          },
          "metadata": {
            "tags": []
          }
        },
        {
          "output_type": "display_data",
          "data": {
            "image/png": "[encoded data removed]",
            "text/plain": [
              "<Figure size 432x288 with 1 Axes>"
            ]
          },
          "metadata": {
            "tags": []
          }
        }
      ]
    },
    {
      "cell_type": "markdown",
      "metadata": {
        "id": "OnjgWbvKcn7E"
      },
      "source": [
        "Как видно из приведенных расчетов, для переменных \r\n",
        "\r\n",
        "> Downlink TCP Retransmission Rate(%)\r\n",
        "\r\n",
        "> Web Page Download Throughput(Kbps)\r\n",
        "\r\n",
        "> Web Average TCP RTT(ms)\r\n",
        "\r\n",
        "Доверительные интервалы пересекаются и по этой причине невозможно дать однозначного ответа - различаются ли значений выборочных средних, чтобы подтвердить или опровергнуть гипотезу 2.\r\n",
        "Для дальнейшего продвижения к решению воспользуемся алгоритмом увеличения размера выборок, \"bootstrap\" и дальнейшим сравнение получившихся выборок  и проведением теста, на нормальность распределения.\r\n",
        "\r\n",
        "\r\n",
        "\r\n",
        "\r\n",
        "\r\n"
      ]
    },
    {
      "cell_type": "code",
      "metadata": {
        "id": "lWbD8694zzc2"
      },
      "source": [
        "def get_bootstrap_samples(data, n_samples):\r\n",
        "    #indices = np.random.randint(0, len(data), (n_samples, len(data)))\r\n",
        "    indices = np.random.randint(0, len(data), (n_samples))    \r\n",
        "    samples = data[indices]\r\n",
        "    return samples"
      ],
      "execution_count": null,
      "outputs": []
    },
    {
      "cell_type": "code",
      "metadata": {
        "id": "QC4-ntEfLTfN"
      },
      "source": [
        "import scipy"
      ],
      "execution_count": null,
      "outputs": []
    },
    {
      "cell_type": "markdown",
      "metadata": {
        "id": "lokrx7gRjnb4"
      },
      "source": [
        "Проведем описанную процедуру для каждой технической характеристики"
      ]
    },
    {
      "cell_type": "markdown",
      "metadata": {
        "id": "qT8Dciceg_4d"
      },
      "source": [
        "Для Downlink TCP Retransmission Rate(%)"
      ]
    },
    {
      "cell_type": "code",
      "metadata": {
        "colab": {
          "base_uri": "https://localhost:8080/"
        },
        "id": "A1ZXeMnhz1Xk",
        "outputId": "4b27b2ea-c61e-4ce0-ca5d-0ea85188f8cd"
      },
      "source": [
        "bs1=get_bootstrap_samples(IU_4_Q2_good_log['Downlink TCP Retransmission Rate(%)'].values,1000)\r\n",
        "bs2=get_bootstrap_samples(IU_4_Q2_bad_log['Downlink TCP Retransmission Rate(%)'].values,1000)\r\n",
        "print('Выборочные средние Good', bs1.mean(),'Bad', bs2.mean())"
      ],
      "execution_count": null,
      "outputs": [
        {
          "output_type": "stream",
          "text": [
            "Выборочные средние Good 0.34650321249201327 Bad 0.4078432928429138\n"
          ],
          "name": "stdout"
        }
      ]
    },
    {
      "cell_type": "markdown",
      "metadata": {
        "id": "8gmSR9cHgRUg"
      },
      "source": [
        "Получим новую переменную разницы между полученными выборками, оценим ее среднее и стандартное отклонение, построим график"
      ]
    },
    {
      "cell_type": "code",
      "metadata": {
        "colab": {
          "base_uri": "https://localhost:8080/"
        },
        "id": "XrW7uvUo2A-8",
        "outputId": "445b6b5f-b83d-4844-abaf-a228e919e971"
      },
      "source": [
        "diff=((bs2-bs1))\r\n",
        "print(diff.mean(),diff.std())                  "
      ],
      "execution_count": null,
      "outputs": [
        {
          "output_type": "stream",
          "text": [
            "0.06134008035090054 1.270546651807891\n"
          ],
          "name": "stdout"
        }
      ]
    },
    {
      "cell_type": "code",
      "metadata": {
        "colab": {
          "base_uri": "https://localhost:8080/",
          "height": 398
        },
        "id": "_dIEG6SME5rm",
        "outputId": "34dc8cc1-98d8-45e0-9837-1e7c84cea8e9"
      },
      "source": [
        "plt.hist(diff,bins=20)"
      ],
      "execution_count": null,
      "outputs": [
        {
          "output_type": "execute_result",
          "data": {
            "text/plain": [
              "(array([  5.,   2.,  10.,  15.,  20.,  30.,  48.,  85., 110., 129., 125.,\n",
              "        121.,  92.,  71.,  57.,  31.,  29.,  10.,   8.,   2.]),\n",
              " array([-4.02535169, -3.6327427 , -3.24013371, -2.84752471, -2.45491572,\n",
              "        -2.06230673, -1.66969774, -1.27708874, -0.88447975, -0.49187076,\n",
              "        -0.09926177,  0.29334723,  0.68595622,  1.07856521,  1.4711742 ,\n",
              "         1.8637832 ,  2.25639219,  2.64900118,  3.04161017,  3.43421917,\n",
              "         3.82682816]),\n",
              " <a list of 20 Patch objects>)"
            ]
          },
          "metadata": {
            "tags": []
          },
          "execution_count": 55
        },
        {
          "output_type": "display_data",
          "data": {
            "image/png": "[encoded data removed]",
            "text/plain": [
              "<Figure size 432x288 with 1 Axes>"
            ]
          },
          "metadata": {
            "tags": [],
            "needs_background": "light"
          }
        }
      ]
    },
    {
      "cell_type": "markdown",
      "metadata": {
        "id": "-90DBXoNlp1o"
      },
      "source": [
        "Проведем  p-value тест Шапиро-Уилка"
      ]
    },
    {
      "cell_type": "code",
      "metadata": {
        "colab": {
          "base_uri": "https://localhost:8080/"
        },
        "id": "JRxP4zq5L0Mx",
        "outputId": "404063f0-2143-468f-ec7a-efb0600b84c0"
      },
      "source": [
        "stat, p = scipy.stats.shapiro(diff)\r\n",
        "print('Statistics=%.3f, p-value=%.3f' % (stat, p))\r\n",
        "alpha = 0.05\r\n",
        "if p > alpha:\r\n",
        "    print('Принять гипотезу о нормальности')\r\n",
        "else:\r\n",
        "    print('Отклонить гипотезу о нормальности')"
      ],
      "execution_count": null,
      "outputs": [
        {
          "output_type": "stream",
          "text": [
            "Statistics=0.997, p-value=0.122\n",
            "Принять гипотезу о нормальности\n"
          ],
          "name": "stdout"
        }
      ]
    },
    {
      "cell_type": "markdown",
      "metadata": {
        "id": "nVu-6arvqYnq"
      },
      "source": [
        "Такм образом принимаем гипотезу о том, что значения для \"bad\" и \"good\"  для параметра Downlink TCP Retransmission Rate(%) достоверно статистически различаются."
      ]
    },
    {
      "cell_type": "markdown",
      "metadata": {
        "id": "EDQC3xIerGwr"
      },
      "source": [
        "Для Web Page Download Throughput(Kbps)"
      ]
    },
    {
      "cell_type": "code",
      "metadata": {
        "colab": {
          "base_uri": "https://localhost:8080/"
        },
        "id": "wjgAYX-ShNVu",
        "outputId": "302ee414-5cd4-4ce0-9c4d-ca8e4fb1bb61"
      },
      "source": [
        "bs1=get_bootstrap_samples(IU_4_Q2_good_log['Web Page Download Throughput(Kbps)'].values,1000)\r\n",
        "bs2=get_bootstrap_samples(IU_4_Q2_bad_log['Web Page Download Throughput(Kbps)'].values,1000)\r\n",
        "print(bs1.mean(),bs2.mean())"
      ],
      "execution_count": null,
      "outputs": [
        {
          "output_type": "stream",
          "text": [
            "7.276394298551751 7.10025781537857\n"
          ],
          "name": "stdout"
        }
      ]
    },
    {
      "cell_type": "code",
      "metadata": {
        "colab": {
          "base_uri": "https://localhost:8080/",
          "height": 415
        },
        "id": "sTZ7bxCPhNor",
        "outputId": "12ab1f69-89c5-4bff-fa35-3f06a0f3df26"
      },
      "source": [
        "diff=((bs2-bs1))\r\n",
        "print(diff.mean(),diff.std())\r\n",
        "plt.hist(diff,bins=20)  "
      ],
      "execution_count": null,
      "outputs": [
        {
          "output_type": "stream",
          "text": [
            "-0.17613648317318228 1.2741772125306752\n"
          ],
          "name": "stdout"
        },
        {
          "output_type": "execute_result",
          "data": {
            "text/plain": [
              "(array([  1.,   5.,   4.,  12.,  17.,  26.,  40.,  75., 111., 139., 148.,\n",
              "        134., 111.,  69.,  44.,  29.,  18.,  12.,   3.,   2.]),\n",
              " array([-4.7185288 , -4.28440736, -3.85028593, -3.41616449, -2.98204306,\n",
              "        -2.54792162, -2.11380018, -1.67967875, -1.24555731, -0.81143588,\n",
              "        -0.37731444,  0.05680699,  0.49092843,  0.92504987,  1.3591713 ,\n",
              "         1.79329274,  2.22741417,  2.66153561,  3.09565704,  3.52977848,\n",
              "         3.96389992]),\n",
              " <a list of 20 Patch objects>)"
            ]
          },
          "metadata": {
            "tags": []
          },
          "execution_count": 44
        },
        {
          "output_type": "display_data",
          "data": {
            "image/png": "[encoded data removed]",
            "text/plain": [
              "<Figure size 432x288 with 1 Axes>"
            ]
          },
          "metadata": {
            "tags": [],
            "needs_background": "light"
          }
        }
      ]
    },
    {
      "cell_type": "code",
      "metadata": {
        "colab": {
          "base_uri": "https://localhost:8080/"
        },
        "id": "eIgzqj63hfh-",
        "outputId": "a66af49f-3d86-47f9-e739-2468cd518687"
      },
      "source": [
        "stat, p = scipy.stats.shapiro(diff) # тест Шапиро-Уилк\r\n",
        "print('Statistics=%.3f, p-value=%.3f' % (stat, p))\r\n",
        "alpha = 0.05\r\n",
        "if p > alpha:\r\n",
        "    print('Принять гипотезу о нормальности')\r\n",
        "else:\r\n",
        "    print('Отклонить гипотезу о нормальности')"
      ],
      "execution_count": null,
      "outputs": [
        {
          "output_type": "stream",
          "text": [
            "Statistics=0.997, p-value=0.026\n",
            "Отклонить гипотезу о нормальности\n"
          ],
          "name": "stdout"
        }
      ]
    },
    {
      "cell_type": "markdown",
      "metadata": {
        "id": "9usgA4K0rsRV"
      },
      "source": [
        "Для данной переменно, гипотеза о статистическом различии отвергается"
      ]
    },
    {
      "cell_type": "markdown",
      "metadata": {
        "id": "e9s7Nnv6r4SG"
      },
      "source": [
        "Проведем проверку для переменной Web Average TCP RTT(ms)"
      ]
    },
    {
      "cell_type": "code",
      "metadata": {
        "colab": {
          "base_uri": "https://localhost:8080/",
          "height": 432
        },
        "id": "Tcgv1bGHh7iR",
        "outputId": "660df3ce-a0bf-4edf-e319-d6adf5316dc2"
      },
      "source": [
        "bs1=get_bootstrap_samples(IU_4_Q2_good_log['Web Average TCP RTT(ms)'].values,1000)\r\n",
        "bs2=get_bootstrap_samples(IU_4_Q2_bad_log['Web Average TCP RTT(ms)'].values,1000)\r\n",
        "print(bs1.mean(),bs2.mean())\r\n",
        "diff=((bs2-bs1))\r\n",
        "print(diff.mean(),diff.std())\r\n",
        "plt.hist(diff,bins=20)  "
      ],
      "execution_count": null,
      "outputs": [
        {
          "output_type": "stream",
          "text": [
            "5.065013798492743 5.144805144313672\n",
            "0.07979134582092945 1.1837447944529083\n"
          ],
          "name": "stdout"
        },
        {
          "output_type": "execute_result",
          "data": {
            "text/plain": [
              "(array([  2.,   1.,   7.,   8.,  18.,  35.,  31.,  72., 113., 158., 133.,\n",
              "        127., 103.,  72.,  57.,  37.,  11.,   8.,   6.,   1.]),\n",
              " array([-4.13081424, -3.72941635, -3.32801846, -2.92662056, -2.52522267,\n",
              "        -2.12382478, -1.72242688, -1.32102899, -0.9196311 , -0.5182332 ,\n",
              "        -0.11683531,  0.28456258,  0.68596048,  1.08735837,  1.48875626,\n",
              "         1.89015416,  2.29155205,  2.69294994,  3.09434784,  3.49574573,\n",
              "         3.89714362]),\n",
              " <a list of 20 Patch objects>)"
            ]
          },
          "metadata": {
            "tags": []
          },
          "execution_count": 47
        },
        {
          "output_type": "display_data",
          "data": {
            "image/png": "[encoded data removed]",
            "text/plain": [
              "<Figure size 432x288 with 1 Axes>"
            ]
          },
          "metadata": {
            "tags": [],
            "needs_background": "light"
          }
        }
      ]
    },
    {
      "cell_type": "code",
      "metadata": {
        "colab": {
          "base_uri": "https://localhost:8080/"
        },
        "id": "OPV2bNbQh8ry",
        "outputId": "7fef683b-5eec-47e4-e55e-b40f3ee0354a"
      },
      "source": [
        "stat, p = scipy.stats.shapiro(diff) # тест Шапиро-Уилк\r\n",
        "print('Statistics=%.3f, p-value=%.3f' % (stat, p))\r\n",
        "alpha = 0.05\r\n",
        "if p > alpha:\r\n",
        "    print('Принять гипотезу о нормальности')\r\n",
        "else:\r\n",
        "    print('Отклонить гипотезу о нормальности')"
      ],
      "execution_count": null,
      "outputs": [
        {
          "output_type": "stream",
          "text": [
            "Statistics=0.996, p-value=0.023\n",
            "Отклонить гипотезу о нормальности\n"
          ],
          "name": "stdout"
        }
      ]
    },
    {
      "cell_type": "markdown",
      "metadata": {
        "id": "8QXQdYTGsFu9"
      },
      "source": [
        "Аналогично предудущему анализу нельзя подвердить статистическую значимость различия между \"good\" и \"bad\" выборками для переменной Web Average TCP RTT(ms)"
      ]
    },
    {
      "cell_type": "markdown",
      "metadata": {
        "id": "3qiC9EF1snSy"
      },
      "source": [
        "\"Разделавшись\" с отвечавшими на вопросы о мобильном интернете, проведем исходя из аналогичных предположений с пользователями недовольными доступом к видео контенту."
      ]
    },
    {
      "cell_type": "code",
      "metadata": {
        "id": "rvBdSVFkty4V"
      },
      "source": [
        "col_video=['Downlink Throughput(Kbps)', 'Uplink Throughput(Kbps)','Downlink TCP Retransmission Rate(%)','Video Streaming Download Throughput(Kbps)','Video Streaming xKB Start Delay(ms)']"
      ],
      "execution_count": null,
      "outputs": []
    },
    {
      "cell_type": "code",
      "metadata": {
        "id": "S7UxnvJ3PhrB",
        "colab": {
          "base_uri": "https://localhost:8080/",
          "height": 294
        },
        "outputId": "ef4d8902-bdad-443b-c762-35a105eca07a"
      },
      "source": [
        "count_Q1_5=video_user_q2_5.groupby(['Q1'])['Downlink Throughput(Kbps)'].count().reset_index()\r\n",
        "count_Q1_5"
      ],
      "execution_count": null,
      "outputs": [
        {
          "output_type": "execute_result",
          "data": {
            "text/html": [
              "<div>\n",
              "<style scoped>\n",
              "    .dataframe tbody tr th:only-of-type {\n",
              "        vertical-align: middle;\n",
              "    }\n",
              "\n",
              "    .dataframe tbody tr th {\n",
              "        vertical-align: top;\n",
              "    }\n",
              "\n",
              "    .dataframe thead th {\n",
              "        text-align: right;\n",
              "    }\n",
              "</style>\n",
              "<table border=\"1\" class=\"dataframe\">\n",
              "  <thead>\n",
              "    <tr style=\"text-align: right;\">\n",
              "      <th></th>\n",
              "      <th>Q1</th>\n",
              "      <th>Downlink Throughput(Kbps)</th>\n",
              "    </tr>\n",
              "  </thead>\n",
              "  <tbody>\n",
              "    <tr>\n",
              "      <th>0</th>\n",
              "      <td>1</td>\n",
              "      <td>67</td>\n",
              "    </tr>\n",
              "    <tr>\n",
              "      <th>1</th>\n",
              "      <td>2</td>\n",
              "      <td>18</td>\n",
              "    </tr>\n",
              "    <tr>\n",
              "      <th>2</th>\n",
              "      <td>3</td>\n",
              "      <td>41</td>\n",
              "    </tr>\n",
              "    <tr>\n",
              "      <th>3</th>\n",
              "      <td>4</td>\n",
              "      <td>11</td>\n",
              "    </tr>\n",
              "    <tr>\n",
              "      <th>4</th>\n",
              "      <td>5</td>\n",
              "      <td>25</td>\n",
              "    </tr>\n",
              "    <tr>\n",
              "      <th>5</th>\n",
              "      <td>6</td>\n",
              "      <td>9</td>\n",
              "    </tr>\n",
              "    <tr>\n",
              "      <th>6</th>\n",
              "      <td>7</td>\n",
              "      <td>25</td>\n",
              "    </tr>\n",
              "    <tr>\n",
              "      <th>7</th>\n",
              "      <td>8</td>\n",
              "      <td>26</td>\n",
              "    </tr>\n",
              "  </tbody>\n",
              "</table>\n",
              "</div>"
            ],
            "text/plain": [
              "  Q1  Downlink Throughput(Kbps)\n",
              "0  1                         67\n",
              "1  2                         18\n",
              "2  3                         41\n",
              "3  4                         11\n",
              "4  5                         25\n",
              "5  6                          9\n",
              "6  7                         25\n",
              "7  8                         26"
            ]
          },
          "metadata": {
            "tags": []
          },
          "execution_count": 143
        }
      ]
    },
    {
      "cell_type": "code",
      "metadata": {
        "colab": {
          "base_uri": "https://localhost:8080/",
          "height": 237
        },
        "id": "KeadgoNdtZrT",
        "outputId": "23aee017-0910-4694-adee-8c6d2de71a0a"
      },
      "source": [
        "IU_5_Q2_bad=video_user_q2_5[video_user_q2_5['Q1'].isin(['1','2','3'])][col_video]\r\n",
        "IU_5_Q2_good=video_user_q2_5[video_user_q2_5['Q1'].isin(['6','7','8'])][col_video]\r\n",
        "IU_5_Q2_good.head()"
      ],
      "execution_count": null,
      "outputs": [
        {
          "output_type": "execute_result",
          "data": {
            "text/html": [
              "<div>\n",
              "<style scoped>\n",
              "    .dataframe tbody tr th:only-of-type {\n",
              "        vertical-align: middle;\n",
              "    }\n",
              "\n",
              "    .dataframe tbody tr th {\n",
              "        vertical-align: top;\n",
              "    }\n",
              "\n",
              "    .dataframe thead th {\n",
              "        text-align: right;\n",
              "    }\n",
              "</style>\n",
              "<table border=\"1\" class=\"dataframe\">\n",
              "  <thead>\n",
              "    <tr style=\"text-align: right;\">\n",
              "      <th></th>\n",
              "      <th>Downlink Throughput(Kbps)</th>\n",
              "      <th>Uplink Throughput(Kbps)</th>\n",
              "      <th>Downlink TCP Retransmission Rate(%)</th>\n",
              "      <th>Video Streaming Download Throughput(Kbps)</th>\n",
              "      <th>Video Streaming xKB Start Delay(ms)</th>\n",
              "    </tr>\n",
              "  </thead>\n",
              "  <tbody>\n",
              "    <tr>\n",
              "      <th>35</th>\n",
              "      <td>1167.36</td>\n",
              "      <td>30.56</td>\n",
              "      <td>0.48</td>\n",
              "      <td>1560.77</td>\n",
              "      <td>4949</td>\n",
              "    </tr>\n",
              "    <tr>\n",
              "      <th>87</th>\n",
              "      <td>2117.83</td>\n",
              "      <td>132.56</td>\n",
              "      <td>2.21</td>\n",
              "      <td>20236.29</td>\n",
              "      <td>648</td>\n",
              "    </tr>\n",
              "    <tr>\n",
              "      <th>120</th>\n",
              "      <td>886.86</td>\n",
              "      <td>157.48</td>\n",
              "      <td>2.05</td>\n",
              "      <td>4303.92</td>\n",
              "      <td>3198</td>\n",
              "    </tr>\n",
              "    <tr>\n",
              "      <th>143</th>\n",
              "      <td>4973.39</td>\n",
              "      <td>104.63</td>\n",
              "      <td>0.88</td>\n",
              "      <td>4236.16</td>\n",
              "      <td>1261</td>\n",
              "    </tr>\n",
              "    <tr>\n",
              "      <th>286</th>\n",
              "      <td>1732.61</td>\n",
              "      <td>132.59</td>\n",
              "      <td>3.90</td>\n",
              "      <td>4526.04</td>\n",
              "      <td>1275</td>\n",
              "    </tr>\n",
              "  </tbody>\n",
              "</table>\n",
              "</div>"
            ],
            "text/plain": [
              "     Downlink Throughput(Kbps)  ...  Video Streaming xKB Start Delay(ms)\n",
              "35                     1167.36  ...                                 4949\n",
              "87                     2117.83  ...                                  648\n",
              "120                     886.86  ...                                 3198\n",
              "143                    4973.39  ...                                 1261\n",
              "286                    1732.61  ...                                 1275\n",
              "\n",
              "[5 rows x 5 columns]"
            ]
          },
          "metadata": {
            "tags": []
          },
          "execution_count": 144
        }
      ]
    },
    {
      "cell_type": "code",
      "metadata": {
        "colab": {
          "base_uri": "https://localhost:8080/",
          "height": 894
        },
        "id": "IehynPsPvzbw",
        "outputId": "ffff0e77-bfd3-4274-e5a3-fd6c8f94d198"
      },
      "source": [
        "for col in col_video:\r\n",
        "  fig, ax1 = plt.subplots( nrows=1, ncols=1,figsize=(4, 2))\r\n",
        "  ax1.set_title(col,color='Black',fontsize='16')\r\n",
        "  ax1.tick_params(axis='both',labelcolor='Black')\r\n",
        "  plt.hist([IU_5_Q2_bad[col],IU_5_Q2_good[col]],bins=10,label=['bad','good'])\r\n",
        "  ax1.legend(prop={'size': 10}) \r\n",
        "  fig.savefig('Hip2_Video_' + col,transparent=True)   \r\n",
        "plt.show"
      ],
      "execution_count": null,
      "outputs": [
        {
          "output_type": "stream",
          "text": [
            "/usr/local/lib/python3.6/dist-packages/numpy/core/_asarray.py:83: VisibleDeprecationWarning:\n",
            "\n",
            "Creating an ndarray from ragged nested sequences (which is a list-or-tuple of lists-or-tuples-or ndarrays with different lengths or shapes) is deprecated. If you meant to do this, you must specify 'dtype=object' when creating the ndarray\n",
            "\n"
          ],
          "name": "stderr"
        },
        {
          "output_type": "execute_result",
          "data": {
            "text/plain": [
              "<function matplotlib.pyplot.show>"
            ]
          },
          "metadata": {
            "tags": []
          },
          "execution_count": 149
        },
        {
          "output_type": "display_data",
          "data": {
            "image/png": "[encoded data removed]",
            "text/plain": [
              "<Figure size 288x144 with 1 Axes>"
            ]
          },
          "metadata": {
            "tags": []
          }
        },
        {
          "output_type": "display_data",
          "data": {
            "image/png": "[encoded data removed]",
            "text/plain": [
              "<Figure size 288x144 with 1 Axes>"
            ]
          },
          "metadata": {
            "tags": []
          }
        },
        {
          "output_type": "display_data",
          "data": {
            "image/png": "[encoded data removed]",
            "text/plain": [
              "<Figure size 288x144 with 1 Axes>"
            ]
          },
          "metadata": {
            "tags": []
          }
        },
        {
          "output_type": "display_data",
          "data": {
            "image/png": "[encoded data removed]",
            "text/plain": [
              "<Figure size 288x144 with 1 Axes>"
            ]
          },
          "metadata": {
            "tags": []
          }
        },
        {
          "output_type": "display_data",
          "data": {
            "image/png": "[encoded data removed]",
            "text/plain": [
              "<Figure size 288x144 with 1 Axes>"
            ]
          },
          "metadata": {
            "tags": []
          }
        }
      ]
    },
    {
      "cell_type": "code",
      "metadata": {
        "colab": {
          "base_uri": "https://localhost:8080/",
          "height": 237
        },
        "id": "Qz5y1_nawnNd",
        "outputId": "2fe8ba5c-1f9d-46c6-bc0f-79ed8d1c5540"
      },
      "source": [
        "IU_5_Q2_good_log=IU_5_Q2_good[(IU_5_Q2_good['Downlink TCP Retransmission Rate(%)']>0)]\r\n",
        "IU_5_Q2_bad_log=IU_5_Q2_bad[(IU_5_Q2_bad['Downlink TCP Retransmission Rate(%)']>0)]\r\n",
        "IU_5_Q2_good_log=IU_5_Q2_good_log.apply(lambda x: np.log(x))\r\n",
        "IU_5_Q2_bad_log=IU_5_Q2_bad_log.apply(lambda x: np.log(x))\r\n",
        "IU_5_Q2_bad_log.head()"
      ],
      "execution_count": null,
      "outputs": [
        {
          "output_type": "execute_result",
          "data": {
            "text/html": [
              "<div>\n",
              "<style scoped>\n",
              "    .dataframe tbody tr th:only-of-type {\n",
              "        vertical-align: middle;\n",
              "    }\n",
              "\n",
              "    .dataframe tbody tr th {\n",
              "        vertical-align: top;\n",
              "    }\n",
              "\n",
              "    .dataframe thead th {\n",
              "        text-align: right;\n",
              "    }\n",
              "</style>\n",
              "<table border=\"1\" class=\"dataframe\">\n",
              "  <thead>\n",
              "    <tr style=\"text-align: right;\">\n",
              "      <th></th>\n",
              "      <th>Downlink Throughput(Kbps)</th>\n",
              "      <th>Uplink Throughput(Kbps)</th>\n",
              "      <th>Downlink TCP Retransmission Rate(%)</th>\n",
              "      <th>Video Streaming Download Throughput(Kbps)</th>\n",
              "      <th>Video Streaming xKB Start Delay(ms)</th>\n",
              "    </tr>\n",
              "  </thead>\n",
              "  <tbody>\n",
              "    <tr>\n",
              "      <th>9</th>\n",
              "      <td>6.082835</td>\n",
              "      <td>4.398392</td>\n",
              "      <td>0.683097</td>\n",
              "      <td>7.438172</td>\n",
              "      <td>8.348301</td>\n",
              "    </tr>\n",
              "    <tr>\n",
              "      <th>17</th>\n",
              "      <td>6.414164</td>\n",
              "      <td>4.405010</td>\n",
              "      <td>1.410987</td>\n",
              "      <td>7.183689</td>\n",
              "      <td>8.116716</td>\n",
              "    </tr>\n",
              "    <tr>\n",
              "      <th>58</th>\n",
              "      <td>6.904129</td>\n",
              "      <td>5.005891</td>\n",
              "      <td>2.953347</td>\n",
              "      <td>6.982250</td>\n",
              "      <td>8.189800</td>\n",
              "    </tr>\n",
              "    <tr>\n",
              "      <th>94</th>\n",
              "      <td>7.012088</td>\n",
              "      <td>4.610158</td>\n",
              "      <td>-0.235722</td>\n",
              "      <td>8.586876</td>\n",
              "      <td>7.245655</td>\n",
              "    </tr>\n",
              "    <tr>\n",
              "      <th>98</th>\n",
              "      <td>5.551680</td>\n",
              "      <td>3.793239</td>\n",
              "      <td>0.223144</td>\n",
              "      <td>6.464993</td>\n",
              "      <td>8.031710</td>\n",
              "    </tr>\n",
              "  </tbody>\n",
              "</table>\n",
              "</div>"
            ],
            "text/plain": [
              "    Downlink Throughput(Kbps)  ...  Video Streaming xKB Start Delay(ms)\n",
              "9                    6.082835  ...                             8.348301\n",
              "17                   6.414164  ...                             8.116716\n",
              "58                   6.904129  ...                             8.189800\n",
              "94                   7.012088  ...                             7.245655\n",
              "98                   5.551680  ...                             8.031710\n",
              "\n",
              "[5 rows x 5 columns]"
            ]
          },
          "metadata": {
            "tags": []
          },
          "execution_count": 147
        }
      ]
    },
    {
      "cell_type": "code",
      "metadata": {
        "colab": {
          "base_uri": "https://localhost:8080/",
          "height": 894
        },
        "id": "wVw-apzbxcmz",
        "outputId": "0f36df68-f926-4cc1-d4a4-57f4648e142e"
      },
      "source": [
        "for col in col_video:\r\n",
        "  fig, ax1 = plt.subplots( nrows=1, ncols=1,figsize=(4, 2))\r\n",
        "  ax1.set_title(col,color='Black',fontsize='16')\r\n",
        "  ax1.tick_params(axis='both',labelcolor='Black')\r\n",
        "  plt.hist([IU_5_Q2_bad_log[col],IU_5_Q2_good_log[col]],bins=10,label=['bad','good'])\r\n",
        "  ax1.legend(prop={'size': 10})\r\n",
        "  fig.savefig('Hip2_Video_log_' + col,transparent=True)    \r\n",
        "plt.show"
      ],
      "execution_count": null,
      "outputs": [
        {
          "output_type": "stream",
          "text": [
            "/usr/local/lib/python3.6/dist-packages/numpy/core/_asarray.py:83: VisibleDeprecationWarning:\n",
            "\n",
            "Creating an ndarray from ragged nested sequences (which is a list-or-tuple of lists-or-tuples-or ndarrays with different lengths or shapes) is deprecated. If you meant to do this, you must specify 'dtype=object' when creating the ndarray\n",
            "\n"
          ],
          "name": "stderr"
        },
        {
          "output_type": "execute_result",
          "data": {
            "text/plain": [
              "<function matplotlib.pyplot.show>"
            ]
          },
          "metadata": {
            "tags": []
          },
          "execution_count": 150
        },
        {
          "output_type": "display_data",
          "data": {
            "image/png": "[encoded data removed]",
            "text/plain": [
              "<Figure size 288x144 with 1 Axes>"
            ]
          },
          "metadata": {
            "tags": []
          }
        },
        {
          "output_type": "display_data",
          "data": {
            "image/png": "[encoded data removed]",
            "text/plain": [
              "<Figure size 288x144 with 1 Axes>"
            ]
          },
          "metadata": {
            "tags": []
          }
        },
        {
          "output_type": "display_data",
          "data": {
            "image/png": "[encoded data removed]",
            "text/plain": [
              "<Figure size 288x144 with 1 Axes>"
            ]
          },
          "metadata": {
            "tags": []
          }
        },
        {
          "output_type": "display_data",
          "data": {
            "image/png": "[encoded data removed]",
            "text/plain": [
              "<Figure size 288x144 with 1 Axes>"
            ]
          },
          "metadata": {
            "tags": []
          }
        },
        {
          "output_type": "display_data",
          "data": {
            "image/png": "[encoded data removed]",
            "text/plain": [
              "<Figure size 288x144 with 1 Axes>"
            ]
          },
          "metadata": {
            "tags": []
          }
        }
      ]
    },
    {
      "cell_type": "code",
      "metadata": {
        "colab": {
          "base_uri": "https://localhost:8080/"
        },
        "id": "xfPzXP6mhQ-h",
        "outputId": "2a7d2cdd-cbf3-4dd4-f84d-de829c1b35d8"
      },
      "source": [
        "for col in col_video:\r\n",
        "  print('Для переменной',col)\r\n",
        "  print('Выборочная средняя bad=',np.mean(([IU_5_Q2_bad_log[col]])),'  good=',np.mean(([IU_5_Q2_good_log[col]])))\r\n",
        "  print('Доверительный интервал bad: ', st.t.interval(0.95, len(IU_5_Q2_bad_log[col])-1, loc=np.mean(IU_5_Q2_bad_log[col]), scale=st.sem(IU_5_Q2_bad_log[col])),' good: ', st.t.interval(0.95, len(IU_5_Q2_good_log[col])-1, loc=np.mean(IU_5_Q2_good_log[col]), scale=st.sem(IU_5_Q2_good_log[col]))) "
      ],
      "execution_count": null,
      "outputs": [
        {
          "output_type": "stream",
          "text": [
            "Для переменной Downlink Throughput(Kbps)\n",
            "Выборочная средняя bad= 6.487250945007702   good= 7.15951771614115\n",
            "Доверительный интервал bad:  (6.2639682395892775, 6.710533650426128)  good:  (6.8819323671968915, 7.437103065085409)\n",
            "Для переменной Uplink Throughput(Kbps)\n",
            "Выборочная средняя bad= 4.507671637842827   good= 4.636617425685551\n",
            "Доверительный интервал bad:  (4.355375303623073, 4.659967972062581)  good:  (4.464480466918118, 4.808754384452984)\n",
            "Для переменной Downlink TCP Retransmission Rate(%)\n",
            "Выборочная средняя bad= 0.4976469832512157   good= 0.2741531592372439\n",
            "Доверительный интервал bad:  (0.33748698491228646, 0.6578069815901453)  good:  (0.0036719714046112295, 0.5446343470698767)\n",
            "Для переменной Video Streaming Download Throughput(Kbps)\n",
            "Выборочная средняя bad= 7.670342686209952   good= 8.164155792112846\n",
            "Доверительный интервал bad:  (7.480059831936689, 7.860625540483211)  good:  (7.935986061141215, 8.392325523084478)\n",
            "Для переменной Video Streaming xKB Start Delay(ms)\n",
            "Выборочная средняя bad= 7.67588723918779   good= 7.526902386448727\n",
            "Доверительный интервал bad:  (7.591117752439585, 7.7606567259359895)  good:  (7.397613024717352, 7.6561917481801)\n"
          ],
          "name": "stdout"
        }
      ]
    },
    {
      "cell_type": "code",
      "metadata": {
        "colab": {
          "base_uri": "https://localhost:8080/",
          "height": 1000
        },
        "id": "5db0BTclVWTP",
        "outputId": "ef7cdba2-6556-4a23-fe9a-01a533fcd540"
      },
      "source": [
        "for col in col_video:#col_graph:\r\n",
        "  fig, ax = plt.subplots() \r\n",
        "  mean1=IU_5_Q2_bad_log[col].mean()  \r\n",
        "  mean2=IU_5_Q2_good_log[col].mean()\r\n",
        "\r\n",
        "  freedoms1=IU_5_Q2_bad_log[col].count()-1 \r\n",
        "  freedoms2=IU_5_Q2_good_log[col].count()-1\r\n",
        "  dov1=st.t.interval(0.95, freedoms1, loc=mean1,scale=st.sem(IU_5_Q2_bad_log[col]))\r\n",
        "  dov2=st.t.interval(0.95, freedoms2, loc=mean2,scale=st.sem(IU_5_Q2_good_log[col]))\r\n",
        "\r\n",
        "  err1=dov1[1]-dov1[0]\r\n",
        "  err2=dov2[1]-dov2[0]\r\n",
        "\r\n",
        "  #ax.errorbar( 0, mean1,xerr=np.log(err1), capsize=3,linestyle=\"None\",marker=\"s\", markersize=7)\r\n",
        "  ax.errorbar( 0, mean1,xerr=(err1)/2, capsize=3,linestyle=\"None\",marker=\"s\", markersize=7)\r\n",
        "  #ax.errorbar( np.log(abs(mean2-mean1)), mean2, xerr=np.log(err2),capsize=3,linestyle=\"None\",marker=\"s\", markersize=7)\r\n",
        "  ax.errorbar( (abs(mean2-mean1)), mean2, xerr=(err2)/2,capsize=3,linestyle=\"None\",marker=\"s\", markersize=7)\r\n",
        "  \r\n",
        "  ax.set_title(col,color='Black',fontsize='16')\r\n",
        "  fig.savefig('Hip2_Dov2_' + col,transparent=True) \r\n",
        "  plt.show()"
      ],
      "execution_count": null,
      "outputs": [
        {
          "output_type": "display_data",
          "data": {
            "image/png": "[encoded data removed]",
            "text/plain": [
              "<Figure size 432x288 with 1 Axes>"
            ]
          },
          "metadata": {
            "tags": []
          }
        },
        {
          "output_type": "display_data",
          "data": {
            "image/png": "[encoded data removed]",
            "text/plain": [
              "<Figure size 432x288 with 1 Axes>"
            ]
          },
          "metadata": {
            "tags": []
          }
        },
        {
          "output_type": "display_data",
          "data": {
            "image/png": "[encoded data removed]",
            "text/plain": [
              "<Figure size 432x288 with 1 Axes>"
            ]
          },
          "metadata": {
            "tags": []
          }
        },
        {
          "output_type": "display_data",
          "data": {
            "image/png": "[encoded data removed]",
            "text/plain": [
              "<Figure size 432x288 with 1 Axes>"
            ]
          },
          "metadata": {
            "tags": []
          }
        },
        {
          "output_type": "display_data",
          "data": {
            "image/png": "[encoded data removed]",
            "text/plain": [
              "<Figure size 432x288 with 1 Axes>"
            ]
          },
          "metadata": {
            "tags": []
          }
        }
      ]
    },
    {
      "cell_type": "markdown",
      "metadata": {
        "id": "tFu_qxVQzD9d"
      },
      "source": [
        "Downlink Throughput(Kbps)"
      ]
    },
    {
      "cell_type": "code",
      "metadata": {
        "colab": {
          "base_uri": "https://localhost:8080/",
          "height": 432
        },
        "id": "SWi4htFaLZj5",
        "outputId": "6e953114-f871-48e1-833c-ff03ad3c9137"
      },
      "source": [
        "bs1=get_bootstrap_samples(IU_5_Q2_good_log['Downlink Throughput(Kbps)'].values,1000)\r\n",
        "bs2=get_bootstrap_samples(IU_5_Q2_bad_log['Downlink Throughput(Kbps)'].values,1000)\r\n",
        "print(bs1.mean(),bs2.mean())\r\n",
        "diff=((bs2-bs1))\r\n",
        "print(diff.mean(),diff.std())\r\n",
        "plt.hist(diff,bins=20)  "
      ],
      "execution_count": null,
      "outputs": [
        {
          "output_type": "stream",
          "text": [
            "7.215778971449126 6.467505508579508\n",
            "-0.7482734628696173 1.6586748803246525\n"
          ],
          "name": "stdout"
        },
        {
          "output_type": "execute_result",
          "data": {
            "text/plain": [
              "(array([  2.,   6.,  15.,  23.,  41.,  70.,  89., 108., 125., 124., 110.,\n",
              "         85.,  82.,  56.,  31.,  18.,   6.,   7.,   1.,   1.]),\n",
              " array([-5.61753743, -5.0902386 , -4.56293977, -4.03564093, -3.5083421 ,\n",
              "        -2.98104327, -2.45374444, -1.9264456 , -1.39914677, -0.87184794,\n",
              "        -0.34454911,  0.18274973,  0.71004856,  1.23734739,  1.76464622,\n",
              "         2.29194506,  2.81924389,  3.34654272,  3.87384155,  4.40114039,\n",
              "         4.92843922]),\n",
              " <a list of 20 Patch objects>)"
            ]
          },
          "metadata": {
            "tags": []
          },
          "execution_count": 24
        },
        {
          "output_type": "display_data",
          "data": {
            "image/png": "[encoded data removed]",
            "text/plain": [
              "<Figure size 432x288 with 1 Axes>"
            ]
          },
          "metadata": {
            "tags": []
          }
        }
      ]
    },
    {
      "cell_type": "code",
      "metadata": {
        "colab": {
          "base_uri": "https://localhost:8080/"
        },
        "id": "HPpA9loOLblC",
        "outputId": "f4ce9925-adb0-42a9-a6e1-5a6313376966"
      },
      "source": [
        "stat, p = scipy.stats.shapiro(diff) # тест Шапиро-Уилк\r\n",
        "print('Statistics=%.3f, p-value=%.3f' % (stat, p))\r\n",
        "alpha = 0.05\r\n",
        "if p > alpha:\r\n",
        "    print('Принять гипотезу о нормальности')\r\n",
        "else:\r\n",
        "    print('Отклонить гипотезу о нормальности')"
      ],
      "execution_count": null,
      "outputs": [
        {
          "output_type": "stream",
          "text": [
            "Statistics=0.999, p-value=0.937\n",
            "Принять гипотезу о нормальности\n"
          ],
          "name": "stdout"
        }
      ]
    },
    {
      "cell_type": "markdown",
      "metadata": {
        "id": "XJLiLNm9MJps"
      },
      "source": [
        "Для переменной Uplink Throughput(Kbps)"
      ]
    },
    {
      "cell_type": "code",
      "metadata": {
        "colab": {
          "base_uri": "https://localhost:8080/",
          "height": 330
        },
        "id": "WVSMOeBwMAbq",
        "outputId": "3bbc5c81-beb1-443e-f0c3-06e1b9fa0aeb"
      },
      "source": [
        "bs1=get_bootstrap_samples(IU_5_Q2_good_log['Uplink Throughput(Kbps)'].values,1000)\r\n",
        "bs2=get_bootstrap_samples(IU_5_Q2_bad_log['Uplink Throughput(Kbps)'].values,1000)\r\n",
        "print(bs1.mean(),bs2.mean())\r\n",
        "diff=((bs2-bs1))\r\n",
        "print(diff.mean(),diff.std())\r\n",
        "plt.hist(diff,bins=20)  \r\n",
        "stat, p = scipy.stats.shapiro(diff) # тест Шапиро-Уилк\r\n",
        "print('Statistics=%.3f, p-value=%.3f' % (stat, p))\r\n",
        "alpha = 0.05\r\n",
        "if p > alpha:\r\n",
        "    print('Принять гипотезу о нормальности')\r\n",
        "else:\r\n",
        "    print('Отклонить гипотезу о нормальности')"
      ],
      "execution_count": null,
      "outputs": [
        {
          "output_type": "stream",
          "text": [
            "4.645887214088299 4.471975374692657\n",
            "-0.17391183939564206 1.0797035455374604\n",
            "Statistics=0.999, p-value=0.593\n",
            "Принять гипотезу о нормальности\n"
          ],
          "name": "stdout"
        },
        {
          "output_type": "display_data",
          "data": {
            "image/png": "[encoded data removed]",
            "text/plain": [
              "<Figure size 432x288 with 1 Axes>"
            ]
          },
          "metadata": {
            "tags": []
          }
        }
      ]
    },
    {
      "cell_type": "markdown",
      "metadata": {
        "id": "946WsIx_Mezq"
      },
      "source": [
        "Для переменной Downlink TCP Retransmission Rate(%)"
      ]
    },
    {
      "cell_type": "code",
      "metadata": {
        "colab": {
          "base_uri": "https://localhost:8080/",
          "height": 330
        },
        "id": "iDb4R6V6Ms96",
        "outputId": "ac81f2b7-14d4-43db-d13f-7da421615f15"
      },
      "source": [
        "bs1=get_bootstrap_samples(IU_5_Q2_good_log['Downlink TCP Retransmission Rate(%)'].values,1000)\r\n",
        "bs2=get_bootstrap_samples(IU_5_Q2_bad_log['Downlink TCP Retransmission Rate(%)'].values,1000)\r\n",
        "print(bs1.mean(),bs2.mean())\r\n",
        "diff=((bs2-bs1))\r\n",
        "print(diff.mean(),diff.std())\r\n",
        "plt.hist(diff,bins=20)  \r\n",
        "stat, p = scipy.stats.shapiro(diff) # тест Шапиро-Уилк\r\n",
        "print('Statistics=%.3f, p-value=%.3f' % (stat, p))\r\n",
        "alpha = 0.05\r\n",
        "if p > alpha:\r\n",
        "    print('Принять гипотезу о нормальности')\r\n",
        "else:\r\n",
        "    print('Отклонить гипотезу о нормальности')"
      ],
      "execution_count": null,
      "outputs": [
        {
          "output_type": "stream",
          "text": [
            "0.28886800455500367 0.46595108328552565\n",
            "0.177083078730522 1.3943719274150823\n",
            "Statistics=0.999, p-value=0.900\n",
            "Принять гипотезу о нормальности\n"
          ],
          "name": "stdout"
        },
        {
          "output_type": "display_data",
          "data": {
            "image/png": "[encoded data removed]",
            "text/plain": [
              "<Figure size 432x288 with 1 Axes>"
            ]
          },
          "metadata": {
            "tags": []
          }
        }
      ]
    },
    {
      "cell_type": "markdown",
      "metadata": {
        "id": "ArqfkHU_M-uP"
      },
      "source": [
        "Для переменной Video Streaming Download Throughput(Kbps)"
      ]
    },
    {
      "cell_type": "code",
      "metadata": {
        "colab": {
          "base_uri": "https://localhost:8080/",
          "height": 330
        },
        "id": "zgTvzD0WM4Uo",
        "outputId": "abfdd4b9-aede-4843-85b8-32592ae7ae38"
      },
      "source": [
        "bs1=get_bootstrap_samples(IU_5_Q2_good_log['Video Streaming Download Throughput(Kbps)'].values,1000)\r\n",
        "bs2=get_bootstrap_samples(IU_5_Q2_bad_log['Video Streaming Download Throughput(Kbps)'].values,1000)\r\n",
        "print(bs1.mean(),bs2.mean())\r\n",
        "diff=((bs2-bs1))\r\n",
        "print(diff.mean(),diff.std())\r\n",
        "plt.hist(diff,bins=20)  \r\n",
        "stat, p = scipy.stats.shapiro(diff) # тест Шапиро-Уилк\r\n",
        "print('Statistics=%.3f, p-value=%.3f' % (stat, p))\r\n",
        "alpha = 0.05\r\n",
        "if p > alpha:\r\n",
        "    print('Принять гипотезу о нормальности')\r\n",
        "else:\r\n",
        "    print('Отклонить гипотезу о нормальности')"
      ],
      "execution_count": null,
      "outputs": [
        {
          "output_type": "stream",
          "text": [
            "8.141600356026213 7.676835754661864\n",
            "-0.46476460136434783 1.3911061714308073\n",
            "Statistics=0.989, p-value=0.000\n",
            "Отклонить гипотезу о нормальности\n"
          ],
          "name": "stdout"
        },
        {
          "output_type": "display_data",
          "data": {
            "image/png": "[encoded data removed]",
            "text/plain": [
              "<Figure size 432x288 with 1 Axes>"
            ]
          },
          "metadata": {
            "tags": []
          }
        }
      ]
    },
    {
      "cell_type": "markdown",
      "metadata": {
        "id": "03-lA_egNZRR"
      },
      "source": [
        "Для переменной Video Streaming xKB Start Delay(ms)"
      ]
    },
    {
      "cell_type": "code",
      "metadata": {
        "colab": {
          "base_uri": "https://localhost:8080/",
          "height": 330
        },
        "id": "PvdteOWkM8Sh",
        "outputId": "60111def-18ef-46ef-c585-46444a12862e"
      },
      "source": [
        "bs1=get_bootstrap_samples(IU_5_Q2_good_log['Video Streaming xKB Start Delay(ms)'].values,1000)\r\n",
        "bs2=get_bootstrap_samples(IU_5_Q2_bad_log['Video Streaming xKB Start Delay(ms)'].values,1000)\r\n",
        "print(bs1.mean(),bs2.mean())\r\n",
        "diff=((bs2-bs1))\r\n",
        "print(diff.mean(),diff.std())\r\n",
        "plt.hist(diff,bins=20)  \r\n",
        "stat, p = scipy.stats.shapiro(diff) # тест Шапиро-Уилк\r\n",
        "print('Statistics=%.3f, p-value=%.3f' % (stat, p))\r\n",
        "alpha = 0.05\r\n",
        "if p > alpha:\r\n",
        "    print('Принять гипотезу о нормальности')\r\n",
        "else:\r\n",
        "    print('Отклонить гипотезу о нормальности')"
      ],
      "execution_count": null,
      "outputs": [
        {
          "output_type": "stream",
          "text": [
            "7.520358097137845 7.709956596467874\n",
            "0.18959849933002995 0.668142154890086\n",
            "Statistics=0.990, p-value=0.000\n",
            "Отклонить гипотезу о нормальности\n"
          ],
          "name": "stdout"
        },
        {
          "output_type": "display_data",
          "data": {
            "image/png": "[encoded data removed]",
            "text/plain": [
              "<Figure size 432x288 with 1 Axes>"
            ]
          },
          "metadata": {
            "tags": []
          }
        }
      ]
    },
    {
      "cell_type": "markdown",
      "metadata": {
        "id": "bpzQXVmWKaqc"
      },
      "source": [
        "#Гипотеза 2. Выводы\r\n",
        "\r\n",
        "Для Пользователей недовольных услугами мобильного интернета\r\n",
        "для показателей: ***Downlink Throughput(Kbps)*** и ***Downlink TCP Retransmission Rate(%)*** \r\n",
        "было обнаружено статистического значимое различие качества оказания услуг для пользователей поставивших различные баллы при ответе на вопрос Q1.\r\n",
        "\r\n",
        "Для показателей показателей Web Page Download Throughput(Kbps) и Для переменной Web Average TCP RTT(ms) такого различия обнаружено не было.\r\n",
        "\r\n",
        "Таким образом \r\n",
        "# Гипотеза 2, для группы Пользователей недовольных услугами мобильного интернета\r\n",
        "# подтверждена\r\n",
        "\r\n",
        "Для Пользователей недовольных услугами доступа к видео  контенту\r\n",
        "для показателей: ***Downlink Throughput(Kbps), Uplink Throughput(Kbps) и Downlink TCP Retransmission Rate(%) *** \r\n",
        "было обнаружено статистического значимое различие качества оказания услуг для пользователей поставивших различные баллы при ответе на вопрос Q1.\r\n",
        "\r\n",
        "Для показателей показателей ***Video Streaming Download Throughput(Kbps) и Video Streaming xKB Start Delay(ms)*** такого различия обнаружено не было.\r\n",
        "\r\n",
        "\r\n",
        "Таким образом можно аналогично, заключению по пользователем неудовлетворенных мобильным интернетом ,сделать вывод о том что \r\n",
        "# Гипотеза 2, для группы Пользователей недовольных доступомо к видео  контенту\r\n",
        "# подтверждена\r\n"
      ]
    },
    {
      "cell_type": "markdown",
      "metadata": {
        "id": "UW2089a5Bci7"
      },
      "source": [
        "# Гипотеза 3. Разведочный анализ"
      ]
    },
    {
      "cell_type": "markdown",
      "metadata": {
        "id": "Knbso8szCQiR"
      },
      "source": [
        "Оценим количество пользователей удовлетворенных услугами Мегафон\r\n",
        "\r\n",
        "Оценим количество пользователей не удовлетворенных, по мнению Мегафон услугами компании\r\n",
        "\r\n",
        "В том числе выделим количество пользователей недовольных услугами голосовой связи\r\n",
        "Данные для пользователей недовольных прочими сервисами Мегафона (ответ 6, 7 и без ответа на вопрос Q2)"
      ]
    },
    {
      "cell_type": "markdown",
      "metadata": {
        "id": "rHhmHHYRsECf"
      },
      "source": [
        "При этом один пользователей мог выбирать сразу несколько вариантов ответа на Q2 и по этой причине пользователей с одним user_id мог попадать одновременно в разные группы. По этой причине в подготовительной части исследования была произведена обработка данных с выделением каждого уникального обращения"
      ]
    },
    {
      "cell_type": "markdown",
      "metadata": {
        "id": "owTZkKparoaI"
      },
      "source": [
        "Оценим количество пользователей удовлетворенных услугами Мегафон, поскольку для этой группы пользователей ответы на вопрос Q2 не собирались то здесь количество ответов совпадает с число пользователей"
      ]
    },
    {
      "cell_type": "code",
      "metadata": {
        "colab": {
          "base_uri": "https://localhost:8080/"
        },
        "id": "RzWSnyCnrm3V",
        "outputId": "83fe9b92-fe19-4ac4-db51-ed5b8016d110"
      },
      "source": [
        "best=new_data_best.user_id.count()\r\n",
        "best"
      ],
      "execution_count": null,
      "outputs": [
        {
          "output_type": "execute_result",
          "data": {
            "text/plain": [
              "1084"
            ]
          },
          "metadata": {
            "tags": []
          },
          "execution_count": 79
        }
      ]
    },
    {
      "cell_type": "markdown",
      "metadata": {
        "id": "oFRCCS2-r8Vm"
      },
      "source": [
        "Оценим количество ответов отражающих то или иное недовольство услугами компании"
      ]
    },
    {
      "cell_type": "code",
      "metadata": {
        "colab": {
          "base_uri": "https://localhost:8080/"
        },
        "id": "LKIqpckRt3Cg",
        "outputId": "81af5158-4151-4078-f6a1-85212e7e347b"
      },
      "source": [
        "all_no_best=new_data_other_filt.user_id.count()\r\n",
        "all_no_best"
      ],
      "execution_count": null,
      "outputs": [
        {
          "output_type": "execute_result",
          "data": {
            "text/plain": [
              "3152"
            ]
          },
          "metadata": {
            "tags": []
          },
          "execution_count": 77
        }
      ]
    },
    {
      "cell_type": "code",
      "metadata": {
        "colab": {
          "base_uri": "https://localhost:8080/",
          "height": 325
        },
        "id": "Mwios-iCIJ2A",
        "outputId": "20a4846c-c49f-4dc3-bede-71fe9a74f9d9"
      },
      "source": [
        "user_counts=new_data_other_filt.groupby(['Q_2_new']).user_id.count().reset_index()\r\n",
        "user_counts"
      ],
      "execution_count": null,
      "outputs": [
        {
          "output_type": "execute_result",
          "data": {
            "text/html": [
              "<div>\n",
              "<style scoped>\n",
              "    .dataframe tbody tr th:only-of-type {\n",
              "        vertical-align: middle;\n",
              "    }\n",
              "\n",
              "    .dataframe tbody tr th {\n",
              "        vertical-align: top;\n",
              "    }\n",
              "\n",
              "    .dataframe thead th {\n",
              "        text-align: right;\n",
              "    }\n",
              "</style>\n",
              "<table border=\"1\" class=\"dataframe\">\n",
              "  <thead>\n",
              "    <tr style=\"text-align: right;\">\n",
              "      <th></th>\n",
              "      <th>Q_2_new</th>\n",
              "      <th>user_id</th>\n",
              "    </tr>\n",
              "  </thead>\n",
              "  <tbody>\n",
              "    <tr>\n",
              "      <th>0</th>\n",
              "      <td>0</td>\n",
              "      <td>6</td>\n",
              "    </tr>\n",
              "    <tr>\n",
              "      <th>1</th>\n",
              "      <td>1</td>\n",
              "      <td>648</td>\n",
              "    </tr>\n",
              "    <tr>\n",
              "      <th>2</th>\n",
              "      <td>2</td>\n",
              "      <td>185</td>\n",
              "    </tr>\n",
              "    <tr>\n",
              "      <th>3</th>\n",
              "      <td>3</td>\n",
              "      <td>706</td>\n",
              "    </tr>\n",
              "    <tr>\n",
              "      <th>4</th>\n",
              "      <td>4</td>\n",
              "      <td>626</td>\n",
              "    </tr>\n",
              "    <tr>\n",
              "      <th>5</th>\n",
              "      <td>5</td>\n",
              "      <td>222</td>\n",
              "    </tr>\n",
              "    <tr>\n",
              "      <th>6</th>\n",
              "      <td>6</td>\n",
              "      <td>13</td>\n",
              "    </tr>\n",
              "    <tr>\n",
              "      <th>7</th>\n",
              "      <td>7</td>\n",
              "      <td>87</td>\n",
              "    </tr>\n",
              "    <tr>\n",
              "      <th>8</th>\n",
              "      <td>9</td>\n",
              "      <td>659</td>\n",
              "    </tr>\n",
              "  </tbody>\n",
              "</table>\n",
              "</div>"
            ],
            "text/plain": [
              "   Q_2_new  user_id\n",
              "0        0        6\n",
              "1        1      648\n",
              "2        2      185\n",
              "3        3      706\n",
              "4        4      626\n",
              "5        5      222\n",
              "6        6       13\n",
              "7        7       87\n",
              "8        9      659"
            ]
          },
          "metadata": {
            "tags": []
          },
          "execution_count": 171
        }
      ]
    },
    {
      "cell_type": "code",
      "metadata": {
        "colab": {
          "base_uri": "https://localhost:8080/",
          "height": 171
        },
        "id": "CnvW5rcMK_Dd",
        "outputId": "ce547d08-bcbc-4ab3-ff8e-e0fe34e027b2"
      },
      "source": [
        "def func(x):\r\n",
        "    if (x>0) and (x < 4):\r\n",
        "        return \"Недовольные голосовой связью\"\r\n",
        "    elif x == 4:\r\n",
        "        return \"Недовольные мобильным интернетом\"\r\n",
        "    elif x == 5:\r\n",
        "        return \"Недовольные доступом к видео\"  \r\n",
        "    else:\r\n",
        "        return 'Другие'\r\n",
        "user_counts['type']=user_counts['Q_2_new'].apply(func)\r\n",
        "user_type=user_counts.groupby(['type']).user_id.sum().reset_index()\r\n",
        "user_type"
      ],
      "execution_count": null,
      "outputs": [
        {
          "output_type": "execute_result",
          "data": {
            "text/html": [
              "<div>\n",
              "<style scoped>\n",
              "    .dataframe tbody tr th:only-of-type {\n",
              "        vertical-align: middle;\n",
              "    }\n",
              "\n",
              "    .dataframe tbody tr th {\n",
              "        vertical-align: top;\n",
              "    }\n",
              "\n",
              "    .dataframe thead th {\n",
              "        text-align: right;\n",
              "    }\n",
              "</style>\n",
              "<table border=\"1\" class=\"dataframe\">\n",
              "  <thead>\n",
              "    <tr style=\"text-align: right;\">\n",
              "      <th></th>\n",
              "      <th>type</th>\n",
              "      <th>user_id</th>\n",
              "    </tr>\n",
              "  </thead>\n",
              "  <tbody>\n",
              "    <tr>\n",
              "      <th>0</th>\n",
              "      <td>Другие</td>\n",
              "      <td>765</td>\n",
              "    </tr>\n",
              "    <tr>\n",
              "      <th>1</th>\n",
              "      <td>Недовольные голосовой связью</td>\n",
              "      <td>1539</td>\n",
              "    </tr>\n",
              "    <tr>\n",
              "      <th>2</th>\n",
              "      <td>Недовольные доступом к видео</td>\n",
              "      <td>222</td>\n",
              "    </tr>\n",
              "    <tr>\n",
              "      <th>3</th>\n",
              "      <td>Недовольные мобильным интернетом</td>\n",
              "      <td>626</td>\n",
              "    </tr>\n",
              "  </tbody>\n",
              "</table>\n",
              "</div>"
            ],
            "text/plain": [
              "                               type  user_id\n",
              "0                            Другие      765\n",
              "1      Недовольные голосовой связью     1539\n",
              "2      Недовольные доступом к видео      222\n",
              "3  Недовольные мобильным интернетом      626"
            ]
          },
          "metadata": {
            "tags": []
          },
          "execution_count": 177
        }
      ]
    },
    {
      "cell_type": "code",
      "metadata": {
        "colab": {
          "base_uri": "https://localhost:8080/",
          "height": 542
        },
        "id": "-nD6ijfSRZvd",
        "outputId": "430ee7a5-8980-4a06-fd07-6e0751b51711"
      },
      "source": [
        "#df = px.data.gapminder().query(\"year == 2007\").query(\"continent == 'Europe'\")\r\n",
        "#df.loc[df['pop'] < 2.e6, 'country'] = 'Other countries' # Represent only large countries\r\n",
        "fig = px.pie(user_type, values='user_id', names='type', title='Структура ответивших')\r\n",
        "fig.show()"
      ],
      "execution_count": null,
      "outputs": [
        {
          "output_type": "display_data",
          "data": {
            "text/html": [
              "<html>\n",
              "<head><meta charset=\"utf-8\" /></head>\n",
              "<body>\n",
              "    <div>\n",
              "            <script src=\"https://cdnjs.cloudflare.com/ajax/libs/mathjax/2.7.5/MathJax.js?config=TeX-AMS-MML_SVG\"></script><script type=\"text/javascript\">if (window.MathJax) {MathJax.Hub.Config({SVG: {font: \"STIX-Web\"}});}</script>\n",
              "                <script type=\"text/javascript\">window.PlotlyConfig = {MathJaxConfig: 'local'};</script>\n",
              "        <script src=\"https://cdn.plot.ly/plotly-latest.min.js\"></script>    \n",
              "            <div id=\"28f46fb2-f344-4af8-b92a-1845945490fc\" class=\"plotly-graph-div\" style=\"height:525px; width:100%;\"></div>\n",
              "            <script type=\"text/javascript\">\n",
              "                \n",
              "                    window.PLOTLYENV=window.PLOTLYENV || {};\n",
              "                    \n",
              "                if (document.getElementById(\"28f46fb2-f344-4af8-b92a-1845945490fc\")) {\n",
              "                    Plotly.newPlot(\n",
              "                        '28f46fb2-f344-4af8-b92a-1845945490fc',\n",
              "                        [{\"domain\": {\"x\": [0.0, 1.0], \"y\": [0.0, 1.0]}, \"hoverlabel\": {\"namelength\": 0}, \"hovertemplate\": \"type=%{label}<br>user_id=%{value}\", \"labels\": [\"\\u0414\\u0440\\u0443\\u0433\\u0438\\u0435\", \"\\u041d\\u0435\\u0434\\u043e\\u0432\\u043e\\u043b\\u044c\\u043d\\u044b\\u0435 \\u0433\\u043e\\u043b\\u043e\\u0441\\u043e\\u0432\\u043e\\u0439 \\u0441\\u0432\\u044f\\u0437\\u044c\\u044e\", \"\\u041d\\u0435\\u0434\\u043e\\u0432\\u043e\\u043b\\u044c\\u043d\\u044b\\u0435 \\u0434\\u043e\\u0441\\u0442\\u0443\\u043f\\u043e\\u043c \\u043a \\u0432\\u0438\\u0434\\u0435\\u043e\", \"\\u041d\\u0435\\u0434\\u043e\\u0432\\u043e\\u043b\\u044c\\u043d\\u044b\\u0435 \\u043c\\u043e\\u0431\\u0438\\u043b\\u044c\\u043d\\u044b\\u043c \\u0438\\u043d\\u0442\\u0435\\u0440\\u043d\\u0435\\u0442\\u043e\\u043c\"], \"legendgroup\": \"\", \"name\": \"\", \"showlegend\": true, \"type\": \"pie\", \"values\": [765, 1539, 222, 626]}],\n",
              "                        {\"legend\": {\"tracegroupgap\": 0}, \"template\": {\"data\": {\"bar\": [{\"error_x\": {\"color\": \"#2a3f5f\"}, \"error_y\": {\"color\": \"#2a3f5f\"}, \"marker\": {\"line\": {\"color\": \"#E5ECF6\", \"width\": 0.5}}, \"type\": \"bar\"}], \"barpolar\": [{\"marker\": {\"line\": {\"color\": \"#E5ECF6\", \"width\": 0.5}}, \"type\": \"barpolar\"}], \"carpet\": [{\"aaxis\": {\"endlinecolor\": \"#2a3f5f\", \"gridcolor\": \"white\", \"linecolor\": \"white\", \"minorgridcolor\": \"white\", \"startlinecolor\": \"#2a3f5f\"}, \"baxis\": {\"endlinecolor\": \"#2a3f5f\", \"gridcolor\": \"white\", \"linecolor\": \"white\", \"minorgridcolor\": \"white\", \"startlinecolor\": \"#2a3f5f\"}, \"type\": \"carpet\"}], \"choropleth\": [{\"colorbar\": {\"outlinewidth\": 0, \"ticks\": \"\"}, \"type\": \"choropleth\"}], \"contour\": [{\"colorbar\": {\"outlinewidth\": 0, \"ticks\": \"\"}, \"colorscale\": [[0.0, \"#0d0887\"], [0.1111111111111111, \"#46039f\"], [0.2222222222222222, \"#7201a8\"], [0.3333333333333333, \"#9c179e\"], [0.4444444444444444, \"#bd3786\"], [0.5555555555555556, \"#d8576b\"], [0.6666666666666666, \"#ed7953\"], [0.7777777777777778, \"#fb9f3a\"], [0.8888888888888888, \"#fdca26\"], [1.0, \"#f0f921\"]], \"type\": \"contour\"}], \"contourcarpet\": [{\"colorbar\": {\"outlinewidth\": 0, \"ticks\": \"\"}, \"type\": \"contourcarpet\"}], \"heatmap\": [{\"colorbar\": {\"outlinewidth\": 0, \"ticks\": \"\"}, \"colorscale\": [[0.0, \"#0d0887\"], [0.1111111111111111, \"#46039f\"], [0.2222222222222222, \"#7201a8\"], [0.3333333333333333, \"#9c179e\"], [0.4444444444444444, \"#bd3786\"], [0.5555555555555556, \"#d8576b\"], [0.6666666666666666, \"#ed7953\"], [0.7777777777777778, \"#fb9f3a\"], [0.8888888888888888, \"#fdca26\"], [1.0, \"#f0f921\"]], \"type\": \"heatmap\"}], \"heatmapgl\": [{\"colorbar\": {\"outlinewidth\": 0, \"ticks\": \"\"}, \"colorscale\": [[0.0, \"#0d0887\"], [0.1111111111111111, \"#46039f\"], [0.2222222222222222, \"#7201a8\"], [0.3333333333333333, \"#9c179e\"], [0.4444444444444444, \"#bd3786\"], [0.5555555555555556, \"#d8576b\"], [0.6666666666666666, \"#ed7953\"], [0.7777777777777778, \"#fb9f3a\"], [0.8888888888888888, \"#fdca26\"], [1.0, \"#f0f921\"]], \"type\": \"heatmapgl\"}], \"histogram\": [{\"marker\": {\"colorbar\": {\"outlinewidth\": 0, \"ticks\": \"\"}}, \"type\": \"histogram\"}], \"histogram2d\": [{\"colorbar\": {\"outlinewidth\": 0, \"ticks\": \"\"}, \"colorscale\": [[0.0, \"#0d0887\"], [0.1111111111111111, \"#46039f\"], [0.2222222222222222, \"#7201a8\"], [0.3333333333333333, \"#9c179e\"], [0.4444444444444444, \"#bd3786\"], [0.5555555555555556, \"#d8576b\"], [0.6666666666666666, \"#ed7953\"], [0.7777777777777778, \"#fb9f3a\"], [0.8888888888888888, \"#fdca26\"], [1.0, \"#f0f921\"]], \"type\": \"histogram2d\"}], \"histogram2dcontour\": [{\"colorbar\": {\"outlinewidth\": 0, \"ticks\": \"\"}, \"colorscale\": [[0.0, \"#0d0887\"], [0.1111111111111111, \"#46039f\"], [0.2222222222222222, \"#7201a8\"], [0.3333333333333333, \"#9c179e\"], [0.4444444444444444, \"#bd3786\"], [0.5555555555555556, \"#d8576b\"], [0.6666666666666666, \"#ed7953\"], [0.7777777777777778, \"#fb9f3a\"], [0.8888888888888888, \"#fdca26\"], [1.0, \"#f0f921\"]], \"type\": \"histogram2dcontour\"}], \"mesh3d\": [{\"colorbar\": {\"outlinewidth\": 0, \"ticks\": \"\"}, \"type\": \"mesh3d\"}], \"parcoords\": [{\"line\": {\"colorbar\": {\"outlinewidth\": 0, \"ticks\": \"\"}}, \"type\": \"parcoords\"}], \"pie\": [{\"automargin\": true, \"type\": \"pie\"}], \"scatter\": [{\"marker\": {\"colorbar\": {\"outlinewidth\": 0, \"ticks\": \"\"}}, \"type\": \"scatter\"}], \"scatter3d\": [{\"line\": {\"colorbar\": {\"outlinewidth\": 0, \"ticks\": \"\"}}, \"marker\": {\"colorbar\": {\"outlinewidth\": 0, \"ticks\": \"\"}}, \"type\": \"scatter3d\"}], \"scattercarpet\": [{\"marker\": {\"colorbar\": {\"outlinewidth\": 0, \"ticks\": \"\"}}, \"type\": \"scattercarpet\"}], \"scattergeo\": [{\"marker\": {\"colorbar\": {\"outlinewidth\": 0, \"ticks\": \"\"}}, \"type\": \"scattergeo\"}], \"scattergl\": [{\"marker\": {\"colorbar\": {\"outlinewidth\": 0, \"ticks\": \"\"}}, \"type\": \"scattergl\"}], \"scattermapbox\": [{\"marker\": {\"colorbar\": {\"outlinewidth\": 0, \"ticks\": \"\"}}, \"type\": \"scattermapbox\"}], \"scatterpolar\": [{\"marker\": {\"colorbar\": {\"outlinewidth\": 0, \"ticks\": \"\"}}, \"type\": \"scatterpolar\"}], \"scatterpolargl\": [{\"marker\": {\"colorbar\": {\"outlinewidth\": 0, \"ticks\": \"\"}}, \"type\": \"scatterpolargl\"}], \"scatterternary\": [{\"marker\": {\"colorbar\": {\"outlinewidth\": 0, \"ticks\": \"\"}}, \"type\": \"scatterternary\"}], \"surface\": [{\"colorbar\": {\"outlinewidth\": 0, \"ticks\": \"\"}, \"colorscale\": [[0.0, \"#0d0887\"], [0.1111111111111111, \"#46039f\"], [0.2222222222222222, \"#7201a8\"], [0.3333333333333333, \"#9c179e\"], [0.4444444444444444, \"#bd3786\"], [0.5555555555555556, \"#d8576b\"], [0.6666666666666666, \"#ed7953\"], [0.7777777777777778, \"#fb9f3a\"], [0.8888888888888888, \"#fdca26\"], [1.0, \"#f0f921\"]], \"type\": \"surface\"}], \"table\": [{\"cells\": {\"fill\": {\"color\": \"#EBF0F8\"}, \"line\": {\"color\": \"white\"}}, \"header\": {\"fill\": {\"color\": \"#C8D4E3\"}, \"line\": {\"color\": \"white\"}}, \"type\": \"table\"}]}, \"layout\": {\"annotationdefaults\": {\"arrowcolor\": \"#2a3f5f\", \"arrowhead\": 0, \"arrowwidth\": 1}, \"coloraxis\": {\"colorbar\": {\"outlinewidth\": 0, \"ticks\": \"\"}}, \"colorscale\": {\"diverging\": [[0, \"#8e0152\"], [0.1, \"#c51b7d\"], [0.2, \"#de77ae\"], [0.3, \"#f1b6da\"], [0.4, \"#fde0ef\"], [0.5, \"#f7f7f7\"], [0.6, \"#e6f5d0\"], [0.7, \"#b8e186\"], [0.8, \"#7fbc41\"], [0.9, \"#4d9221\"], [1, \"#276419\"]], \"sequential\": [[0.0, \"#0d0887\"], [0.1111111111111111, \"#46039f\"], [0.2222222222222222, \"#7201a8\"], [0.3333333333333333, \"#9c179e\"], [0.4444444444444444, \"#bd3786\"], [0.5555555555555556, \"#d8576b\"], [0.6666666666666666, \"#ed7953\"], [0.7777777777777778, \"#fb9f3a\"], [0.8888888888888888, \"#fdca26\"], [1.0, \"#f0f921\"]], \"sequentialminus\": [[0.0, \"#0d0887\"], [0.1111111111111111, \"#46039f\"], [0.2222222222222222, \"#7201a8\"], [0.3333333333333333, \"#9c179e\"], [0.4444444444444444, \"#bd3786\"], [0.5555555555555556, \"#d8576b\"], [0.6666666666666666, \"#ed7953\"], [0.7777777777777778, \"#fb9f3a\"], [0.8888888888888888, \"#fdca26\"], [1.0, \"#f0f921\"]]}, \"colorway\": [\"#636efa\", \"#EF553B\", \"#00cc96\", \"#ab63fa\", \"#FFA15A\", \"#19d3f3\", \"#FF6692\", \"#B6E880\", \"#FF97FF\", \"#FECB52\"], \"font\": {\"color\": \"#2a3f5f\"}, \"geo\": {\"bgcolor\": \"white\", \"lakecolor\": \"white\", \"landcolor\": \"#E5ECF6\", \"showlakes\": true, \"showland\": true, \"subunitcolor\": \"white\"}, \"hoverlabel\": {\"align\": \"left\"}, \"hovermode\": \"closest\", \"mapbox\": {\"style\": \"light\"}, \"paper_bgcolor\": \"white\", \"plot_bgcolor\": \"#E5ECF6\", \"polar\": {\"angularaxis\": {\"gridcolor\": \"white\", \"linecolor\": \"white\", \"ticks\": \"\"}, \"bgcolor\": \"#E5ECF6\", \"radialaxis\": {\"gridcolor\": \"white\", \"linecolor\": \"white\", \"ticks\": \"\"}}, \"scene\": {\"xaxis\": {\"backgroundcolor\": \"#E5ECF6\", \"gridcolor\": \"white\", \"gridwidth\": 2, \"linecolor\": \"white\", \"showbackground\": true, \"ticks\": \"\", \"zerolinecolor\": \"white\"}, \"yaxis\": {\"backgroundcolor\": \"#E5ECF6\", \"gridcolor\": \"white\", \"gridwidth\": 2, \"linecolor\": \"white\", \"showbackground\": true, \"ticks\": \"\", \"zerolinecolor\": \"white\"}, \"zaxis\": {\"backgroundcolor\": \"#E5ECF6\", \"gridcolor\": \"white\", \"gridwidth\": 2, \"linecolor\": \"white\", \"showbackground\": true, \"ticks\": \"\", \"zerolinecolor\": \"white\"}}, \"shapedefaults\": {\"line\": {\"color\": \"#2a3f5f\"}}, \"ternary\": {\"aaxis\": {\"gridcolor\": \"white\", \"linecolor\": \"white\", \"ticks\": \"\"}, \"baxis\": {\"gridcolor\": \"white\", \"linecolor\": \"white\", \"ticks\": \"\"}, \"bgcolor\": \"#E5ECF6\", \"caxis\": {\"gridcolor\": \"white\", \"linecolor\": \"white\", \"ticks\": \"\"}}, \"title\": {\"x\": 0.05}, \"xaxis\": {\"automargin\": true, \"gridcolor\": \"white\", \"linecolor\": \"white\", \"ticks\": \"\", \"title\": {\"standoff\": 15}, \"zerolinecolor\": \"white\", \"zerolinewidth\": 2}, \"yaxis\": {\"automargin\": true, \"gridcolor\": \"white\", \"linecolor\": \"white\", \"ticks\": \"\", \"title\": {\"standoff\": 15}, \"zerolinecolor\": \"white\", \"zerolinewidth\": 2}}}, \"title\": {\"text\": \"\\u0421\\u0442\\u0440\\u0443\\u043a\\u0442\\u0443\\u0440\\u0430 \\u043e\\u0442\\u0432\\u0435\\u0442\\u0438\\u0432\\u0448\\u0438\\u0445\"}},\n",
              "                        {\"responsive\": true}\n",
              "                    ).then(function(){\n",
              "                            \n",
              "var gd = document.getElementById('28f46fb2-f344-4af8-b92a-1845945490fc');\n",
              "var x = new MutationObserver(function (mutations, observer) {{\n",
              "        var display = window.getComputedStyle(gd).display;\n",
              "        if (!display || display === 'none') {{\n",
              "            console.log([gd, 'removed!']);\n",
              "            Plotly.purge(gd);\n",
              "            observer.disconnect();\n",
              "        }}\n",
              "}});\n",
              "\n",
              "// Listen for the removal of the full notebook cells\n",
              "var notebookContainer = gd.closest('#notebook-container');\n",
              "if (notebookContainer) {{\n",
              "    x.observe(notebookContainer, {childList: true});\n",
              "}}\n",
              "\n",
              "// Listen for the clearing of the current output cell\n",
              "var outputEl = gd.closest('.output');\n",
              "if (outputEl) {{\n",
              "    x.observe(outputEl, {childList: true});\n",
              "}}\n",
              "\n",
              "                        })\n",
              "                };\n",
              "                \n",
              "            </script>\n",
              "        </div>\n",
              "</body>\n",
              "</html>"
            ]
          },
          "metadata": {
            "tags": []
          }
        }
      ]
    },
    {
      "cell_type": "markdown",
      "metadata": {
        "id": "bqwzm8FluOS5"
      },
      "source": [
        "В том числе выделим количество ответов пользователей недовольных услугами голосовой связи "
      ]
    },
    {
      "cell_type": "code",
      "metadata": {
        "colab": {
          "base_uri": "https://localhost:8080/"
        },
        "id": "Znx1VO2FugVb",
        "outputId": "e0f5804d-b0d0-4ccd-ac82-66d747446e31"
      },
      "source": [
        "phones=new_data_other_filt[(new_data_other_filt['Q_2_new']<4)].user_id.count()\r\n",
        "phones"
      ],
      "execution_count": null,
      "outputs": [
        {
          "output_type": "execute_result",
          "data": {
            "text/plain": [
              "1545"
            ]
          },
          "metadata": {
            "tags": []
          },
          "execution_count": 72
        }
      ]
    },
    {
      "cell_type": "markdown",
      "metadata": {
        "id": "uhocCojKuzun"
      },
      "source": [
        "В том числе выделим количество ответов пользователей недовольных услугами мобильного интернета"
      ]
    },
    {
      "cell_type": "code",
      "metadata": {
        "colab": {
          "base_uri": "https://localhost:8080/"
        },
        "id": "4JNIQ7CMvB_Z",
        "outputId": "c2236f39-e36a-49b9-8a65-a457545bdc8f"
      },
      "source": [
        "internet=new_data_other_filt[new_data_other_filt['Q_2_new']==4].user_id.count()\r\n",
        "internet"
      ],
      "execution_count": null,
      "outputs": [
        {
          "output_type": "execute_result",
          "data": {
            "text/plain": [
              "626"
            ]
          },
          "metadata": {
            "tags": []
          },
          "execution_count": 73
        }
      ]
    },
    {
      "cell_type": "markdown",
      "metadata": {
        "id": "byKfoO20vTAe"
      },
      "source": [
        "В том числе выделим количество ответов пользователей недовольных услугами доступа к видеоконтенту"
      ]
    },
    {
      "cell_type": "code",
      "metadata": {
        "colab": {
          "base_uri": "https://localhost:8080/"
        },
        "id": "ZSEdUvzxvfj7",
        "outputId": "b951cfd1-73ef-48c6-b402-797a9a634fa5"
      },
      "source": [
        "video=new_data_other_filt[new_data_other_filt['Q_2_new']==5].user_id.count()\r\n",
        "video"
      ],
      "execution_count": null,
      "outputs": [
        {
          "output_type": "execute_result",
          "data": {
            "text/plain": [
              "222"
            ]
          },
          "metadata": {
            "tags": []
          },
          "execution_count": 74
        }
      ]
    },
    {
      "cell_type": "markdown",
      "metadata": {
        "id": "r68jpQeBvs6z"
      },
      "source": [
        "В том числе выделим количество ответов пользователей недовольных иными услугами Компании"
      ]
    },
    {
      "cell_type": "code",
      "metadata": {
        "colab": {
          "base_uri": "https://localhost:8080/"
        },
        "id": "Wa5dvZx6euJ7",
        "outputId": "1d5718d8-e870-4dbe-eaa3-d599c4979507"
      },
      "source": [
        "other=new_data_other_filt[(new_data_other_filt['Q_2_new']>5)].user_id.count()\r\n",
        "other"
      ],
      "execution_count": null,
      "outputs": [
        {
          "output_type": "execute_result",
          "data": {
            "text/plain": [
              "759"
            ]
          },
          "metadata": {
            "tags": []
          },
          "execution_count": 170
        }
      ]
    },
    {
      "cell_type": "markdown",
      "metadata": {
        "id": "YkUPBhj25ypE"
      },
      "source": [
        "# Гипотеза 3. Выводы\r\n",
        "\r\n",
        "Представленные в датасете данные не позволяют детализировать технологические причины недовольства самой большой группы недовольных - голосовой связь. Также данные не позволяют отреагировать на недовольство группы пользователей высказавших свои личные пожелания.\r\n",
        "# Не подтверждена"
      ]
    },
    {
      "cell_type": "markdown",
      "metadata": {
        "id": "rA1tAULzOJSg"
      },
      "source": [
        "# Заключение\r\n",
        "Подведем итоги проведенного исследования. \r\n",
        "\r\n",
        "В задании стояли задачи: \r\n",
        "1.\tпроанализировать, как зависит (и зависит ли) оценка, которую ставит клиент в опросе, от технических показателей, которые были собраны \r\n",
        "2.\tопределить, какие технические показатели качества связи сильнее всего влияют на удовлетворённость клиентов, и в первую очередь направить ресурсы на работу с ними \r\n",
        "Для этого Компанией был проведен опрос и по каждому ответившему собраны технические показатели:\r\n",
        "\r\n",
        "> Total Traffic(MB) — объем трафика передачи данных\r\n",
        "\r\n",
        ">  Downlink Throughput(Kbps) — средняя скорость «к абоненту»;\r\n",
        "\r\n",
        ">  Uplink Throughput(Kbps)— средняя скорость «от абонента»;\r\n",
        "\r\n",
        "> Downlink TCP Retransmission Rate(%) — частота переотправок пакетов «к абоненту» ;\r\n",
        "\r\n",
        "> Video Streaming Download Throughput(Kbps) — скорость загрузки потокового видео  ;\r\n",
        "\r\n",
        "> Video Streaming xKB Start Delay(ms) — задержка старта воспроизведения видео  ;\r\n",
        "\r\n",
        "> Web Page Download Throughput(Kbps) — скорость загрузки web-страниц через браузер  ;\r\n",
        "\r\n",
        "> Web Average TCP RTT(ms) — пинг при просмотре web-страниц \r\n",
        "\r\n",
        "Для решения поставленной задачи.\r\n",
        "Было  сформулировано 3 гипотезы:\r\n",
        "\r\n",
        "ГИПОТЕЗА 1 \"Для всех технических показателей качество оказания услуг для пользователей поставивших баллы 9-10, лучше чем для пользователей поставивших баллы от 1 до 8.\r\n",
        "\r\n",
        "ГИПОТЕЗА 2 \"Технические показатели собранные техническим отделом, влияют на качество оказания услуг для пользователей поставивших баллы 1-8\r\n",
        "\r\n",
        "ГИПОТЕЗА 3 Опрос проведенный компанией позволит исправить большую часть (более 50%) обращений пользователей высказаных ими в опросе.\r\n",
        "\r\n",
        "ГИПОТЕЗА 1 подтверждена\r\n",
        "и тем самым получен ответ на 1 вопрос - да оценка которую ставит клиент зависит от качества оказываемых услуг по тем техническим показателям которые были собраны.\r\n",
        "\r\n",
        "ГИПОТЕЗА 2 подтверждена, для пользователей которые непосредсвенно зависили от качества предоставляемых им услуг определяемых собранными техническими показателями.\r\n",
        "И это позволяет ответить на 2 вопрос, определены технические показатели качества связи сильнее всего влияют на удовлетворённость клиентов, это:\r\n",
        "*** Downlink Throughput(Kbps) и Downlink TCP Retransmission Rate(%)*** для пользователей мобильного интерента\r\n",
        "и ***Downlink Throughput(Kbps), Uplink Throughput(Kbps) и Downlink TCP Retransmission Rate(%)***\r\n",
        "для пользователей услугами доступа к видео контенту.\r\n",
        "На улучшение этих параметров необходимо направить ресурсы.\r\n",
        "\r\n",
        "Гипотеза 3, оказалась неподтвержденной, поскольку даже если компания напрвит все усилия на повышение качества параметров ***Downlink Throughput(Kbps), Uplink Throughput(Kbps) и Downlink TCP Retransmission Rate(%)***\r\n",
        "окажутся неудовлетворенными обращения пользователей голосовой связи которые составляют 49.02% от общего числа и прочие обращения -24.08%.\r\n",
        "\r\n",
        "По этому поводу предлагается получить данные, содержащие технические и не технические показатели, отражающие проблемы неохваченной части опрошенных и провести дополнительный анализ для более полного учета замечаний к работе Компании.\r\n"
      ]
    }
  ]
}