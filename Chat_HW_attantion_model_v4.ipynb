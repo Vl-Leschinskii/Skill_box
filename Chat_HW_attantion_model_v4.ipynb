{
  "nbformat": 4,
  "nbformat_minor": 0,
  "metadata": {
    "colab": {
      "name": "Chat_HW_attantion_model_v4",
      "provenance": [],
      "collapsed_sections": [
        "LhSxL9vSP9-S"
      ],
      "toc_visible": true,
      "authorship_tag": "ABX9TyOOnblpV7VdPio8AohN6ZS9",
      "include_colab_link": true
    },
    "kernelspec": {
      "name": "python3",
      "display_name": "Python 3"
    },
    "accelerator": "GPU"
  },
  "cells": [
    {
      "cell_type": "markdown",
      "metadata": {
        "id": "view-in-github",
        "colab_type": "text"
      },
      "source": [
        "<a href=\"https://colab.research.google.com/github/Vl-Leschinskii/Skill_box/blob/main/Chat_HW_attantion_model_v4.ipynb\" target=\"_parent\"><img src=\"https://colab.research.google.com/assets/colab-badge.svg\" alt=\"Open In Colab\"/></a>"
      ]
    },
    {
      "cell_type": "code",
      "metadata": {
        "id": "wW63SjiRLUaq",
        "colab": {
          "base_uri": "https://localhost:8080/"
        },
        "outputId": "b357ba30-f519-48f9-a5e6-4d3ceeb42c8c"
      },
      "source": [
        "import codecs\r\n",
        "import numpy as np\r\n",
        "import pandas as pd\r\n",
        "import re\r\n",
        "import tensorflow as tf\r\n",
        "import nltk\r\n",
        "import string\r\n",
        "from itertools import chain\r\n",
        "print(tf.__version__)"
      ],
      "execution_count": 1,
      "outputs": [
        {
          "output_type": "stream",
          "text": [
            "2.4.1\n"
          ],
          "name": "stdout"
        }
      ]
    },
    {
      "cell_type": "markdown",
      "metadata": {
        "id": "g7HNWeRqPJUF"
      },
      "source": [
        "#Подготовка данных"
      ]
    },
    {
      "cell_type": "code",
      "metadata": {
        "id": "2o6zNBnnhbme"
      },
      "source": [
        "data_fpath = '/content/movie_conversations.txt'\r\n",
        "max_sentences = 10000\r\n",
        "\r\n",
        "LcharacterID_f=[]\r\n",
        "LcharacterID_s=[]\r\n",
        "LmovieID=[]\r\n",
        "Lorder=[]\r\n",
        "f = open(data_fpath)\r\n",
        "for line in f:\r\n",
        "  uni_str=line.encode(\"windows-1251\").decode(\"utf-8\")\r\n",
        "  characterID_f,characterID_s, movieID, order= uni_str.split(' +++$+++ ')\r\n",
        "  LcharacterID_f.append(characterID_f)\r\n",
        "  LcharacterID_s.append(characterID_s)\r\n",
        "  LmovieID.append(movieID)\r\n",
        "  ge= re.sub(\"']\\n\",'',order)\r\n",
        "  ge= re.sub(\"\\['\",'',ge)\r\n",
        "  ge= re.sub(\"'\",'',ge)\r\n",
        "  ge= re.sub(' ','',ge)\r\n",
        "  ge=re.split(',',ge)   \r\n",
        "  Lorder.append(ge)      "
      ],
      "execution_count": null,
      "outputs": []
    },
    {
      "cell_type": "code",
      "metadata": {
        "colab": {
          "base_uri": "https://localhost:8080/"
        },
        "id": "F-saDZrXn3AW",
        "outputId": "56a0ff53-482d-4a89-845f-85ae0622e344"
      },
      "source": [
        "np_movie_conversations=np.asarray((LcharacterID_f,LcharacterID_s,LmovieID,Lorder)).T"
      ],
      "execution_count": null,
      "outputs": [
        {
          "output_type": "stream",
          "text": [
            "/usr/local/lib/python3.6/dist-packages/numpy/core/_asarray.py:83: VisibleDeprecationWarning: Creating an ndarray from ragged nested sequences (which is a list-or-tuple of lists-or-tuples-or ndarrays with different lengths or shapes) is deprecated. If you meant to do this, you must specify 'dtype=object' when creating the ndarray\n",
            "  return array(a, dtype, copy=False, order=order)\n"
          ],
          "name": "stderr"
        }
      ]
    },
    {
      "cell_type": "code",
      "metadata": {
        "id": "TCuXkvbOn15c"
      },
      "source": [
        "df_movie_conversations=pd.DataFrame(data=np_movie_conversations,\r\n",
        "          index=np.array(range(len(np_movie_conversations))),\r\n",
        "          columns=['characterID_f','characterID_s', 'movieID','order'] )"
      ],
      "execution_count": null,
      "outputs": []
    },
    {
      "cell_type": "code",
      "metadata": {
        "colab": {
          "base_uri": "https://localhost:8080/",
          "height": 204
        },
        "id": "jw_HMesVokhs",
        "outputId": "5d987581-0bf2-4f71-c9c2-0946d2d4027e"
      },
      "source": [
        "df_movie_conversations.head()"
      ],
      "execution_count": null,
      "outputs": [
        {
          "output_type": "execute_result",
          "data": {
            "text/html": [
              "<div>\n",
              "<style scoped>\n",
              "    .dataframe tbody tr th:only-of-type {\n",
              "        vertical-align: middle;\n",
              "    }\n",
              "\n",
              "    .dataframe tbody tr th {\n",
              "        vertical-align: top;\n",
              "    }\n",
              "\n",
              "    .dataframe thead th {\n",
              "        text-align: right;\n",
              "    }\n",
              "</style>\n",
              "<table border=\"1\" class=\"dataframe\">\n",
              "  <thead>\n",
              "    <tr style=\"text-align: right;\">\n",
              "      <th></th>\n",
              "      <th>characterID_f</th>\n",
              "      <th>characterID_s</th>\n",
              "      <th>movieID</th>\n",
              "      <th>order</th>\n",
              "    </tr>\n",
              "  </thead>\n",
              "  <tbody>\n",
              "    <tr>\n",
              "      <th>0</th>\n",
              "      <td>u0</td>\n",
              "      <td>u2</td>\n",
              "      <td>m0</td>\n",
              "      <td>[L194, L195, L196, L197]</td>\n",
              "    </tr>\n",
              "    <tr>\n",
              "      <th>1</th>\n",
              "      <td>u0</td>\n",
              "      <td>u2</td>\n",
              "      <td>m0</td>\n",
              "      <td>[L198, L199]</td>\n",
              "    </tr>\n",
              "    <tr>\n",
              "      <th>2</th>\n",
              "      <td>u0</td>\n",
              "      <td>u2</td>\n",
              "      <td>m0</td>\n",
              "      <td>[L200, L201, L202, L203]</td>\n",
              "    </tr>\n",
              "    <tr>\n",
              "      <th>3</th>\n",
              "      <td>u0</td>\n",
              "      <td>u2</td>\n",
              "      <td>m0</td>\n",
              "      <td>[L204, L205, L206]</td>\n",
              "    </tr>\n",
              "    <tr>\n",
              "      <th>4</th>\n",
              "      <td>u0</td>\n",
              "      <td>u2</td>\n",
              "      <td>m0</td>\n",
              "      <td>[L207, L208]</td>\n",
              "    </tr>\n",
              "  </tbody>\n",
              "</table>\n",
              "</div>"
            ],
            "text/plain": [
              "  characterID_f characterID_s movieID                     order\n",
              "0            u0            u2      m0  [L194, L195, L196, L197]\n",
              "1            u0            u2      m0              [L198, L199]\n",
              "2            u0            u2      m0  [L200, L201, L202, L203]\n",
              "3            u0            u2      m0        [L204, L205, L206]\n",
              "4            u0            u2      m0              [L207, L208]"
            ]
          },
          "metadata": {
            "tags": []
          },
          "execution_count": 6
        }
      ]
    },
    {
      "cell_type": "code",
      "metadata": {
        "id": "-X77daMGpAtf"
      },
      "source": [
        "sum_char=df_movie_conversations.groupby(['characterID_f','characterID_s']).count().reset_index() "
      ],
      "execution_count": null,
      "outputs": []
    },
    {
      "cell_type": "code",
      "metadata": {
        "colab": {
          "base_uri": "https://localhost:8080/",
          "height": 204
        },
        "id": "StZMmBK2vy_Q",
        "outputId": "74e94b47-b093-4e65-9025-776a78b81141"
      },
      "source": [
        "df_movie_conversations['dia_len']=df_movie_conversations.order.apply(len)\r\n",
        "df_movie_conversations.head()"
      ],
      "execution_count": null,
      "outputs": [
        {
          "output_type": "execute_result",
          "data": {
            "text/html": [
              "<div>\n",
              "<style scoped>\n",
              "    .dataframe tbody tr th:only-of-type {\n",
              "        vertical-align: middle;\n",
              "    }\n",
              "\n",
              "    .dataframe tbody tr th {\n",
              "        vertical-align: top;\n",
              "    }\n",
              "\n",
              "    .dataframe thead th {\n",
              "        text-align: right;\n",
              "    }\n",
              "</style>\n",
              "<table border=\"1\" class=\"dataframe\">\n",
              "  <thead>\n",
              "    <tr style=\"text-align: right;\">\n",
              "      <th></th>\n",
              "      <th>characterID_f</th>\n",
              "      <th>characterID_s</th>\n",
              "      <th>movieID</th>\n",
              "      <th>order</th>\n",
              "      <th>dia_len</th>\n",
              "    </tr>\n",
              "  </thead>\n",
              "  <tbody>\n",
              "    <tr>\n",
              "      <th>0</th>\n",
              "      <td>u0</td>\n",
              "      <td>u2</td>\n",
              "      <td>m0</td>\n",
              "      <td>[L194, L195, L196, L197]</td>\n",
              "      <td>4</td>\n",
              "    </tr>\n",
              "    <tr>\n",
              "      <th>1</th>\n",
              "      <td>u0</td>\n",
              "      <td>u2</td>\n",
              "      <td>m0</td>\n",
              "      <td>[L198, L199]</td>\n",
              "      <td>2</td>\n",
              "    </tr>\n",
              "    <tr>\n",
              "      <th>2</th>\n",
              "      <td>u0</td>\n",
              "      <td>u2</td>\n",
              "      <td>m0</td>\n",
              "      <td>[L200, L201, L202, L203]</td>\n",
              "      <td>4</td>\n",
              "    </tr>\n",
              "    <tr>\n",
              "      <th>3</th>\n",
              "      <td>u0</td>\n",
              "      <td>u2</td>\n",
              "      <td>m0</td>\n",
              "      <td>[L204, L205, L206]</td>\n",
              "      <td>3</td>\n",
              "    </tr>\n",
              "    <tr>\n",
              "      <th>4</th>\n",
              "      <td>u0</td>\n",
              "      <td>u2</td>\n",
              "      <td>m0</td>\n",
              "      <td>[L207, L208]</td>\n",
              "      <td>2</td>\n",
              "    </tr>\n",
              "  </tbody>\n",
              "</table>\n",
              "</div>"
            ],
            "text/plain": [
              "  characterID_f characterID_s movieID                     order  dia_len\n",
              "0            u0            u2      m0  [L194, L195, L196, L197]        4\n",
              "1            u0            u2      m0              [L198, L199]        2\n",
              "2            u0            u2      m0  [L200, L201, L202, L203]        4\n",
              "3            u0            u2      m0        [L204, L205, L206]        3\n",
              "4            u0            u2      m0              [L207, L208]        2"
            ]
          },
          "metadata": {
            "tags": []
          },
          "execution_count": 8
        }
      ]
    },
    {
      "cell_type": "code",
      "metadata": {
        "colab": {
          "base_uri": "https://localhost:8080/",
          "height": 204
        },
        "id": "plPOSvrWx_8y",
        "outputId": "8d5a0ba8-7227-4b10-c1df-2c7ad06792e1"
      },
      "source": [
        "dia_2=df_movie_conversations[df_movie_conversations['dia_len']==2][['characterID_f','characterID_s','order']]\r\n",
        "dia_2.head()"
      ],
      "execution_count": null,
      "outputs": [
        {
          "output_type": "execute_result",
          "data": {
            "text/html": [
              "<div>\n",
              "<style scoped>\n",
              "    .dataframe tbody tr th:only-of-type {\n",
              "        vertical-align: middle;\n",
              "    }\n",
              "\n",
              "    .dataframe tbody tr th {\n",
              "        vertical-align: top;\n",
              "    }\n",
              "\n",
              "    .dataframe thead th {\n",
              "        text-align: right;\n",
              "    }\n",
              "</style>\n",
              "<table border=\"1\" class=\"dataframe\">\n",
              "  <thead>\n",
              "    <tr style=\"text-align: right;\">\n",
              "      <th></th>\n",
              "      <th>characterID_f</th>\n",
              "      <th>characterID_s</th>\n",
              "      <th>order</th>\n",
              "    </tr>\n",
              "  </thead>\n",
              "  <tbody>\n",
              "    <tr>\n",
              "      <th>1</th>\n",
              "      <td>u0</td>\n",
              "      <td>u2</td>\n",
              "      <td>[L198, L199]</td>\n",
              "    </tr>\n",
              "    <tr>\n",
              "      <th>4</th>\n",
              "      <td>u0</td>\n",
              "      <td>u2</td>\n",
              "      <td>[L207, L208]</td>\n",
              "    </tr>\n",
              "    <tr>\n",
              "      <th>6</th>\n",
              "      <td>u0</td>\n",
              "      <td>u2</td>\n",
              "      <td>[L276, L277]</td>\n",
              "    </tr>\n",
              "    <tr>\n",
              "      <th>7</th>\n",
              "      <td>u0</td>\n",
              "      <td>u2</td>\n",
              "      <td>[L280, L281]</td>\n",
              "    </tr>\n",
              "    <tr>\n",
              "      <th>8</th>\n",
              "      <td>u0</td>\n",
              "      <td>u2</td>\n",
              "      <td>[L363, L364]</td>\n",
              "    </tr>\n",
              "  </tbody>\n",
              "</table>\n",
              "</div>"
            ],
            "text/plain": [
              "  characterID_f characterID_s         order\n",
              "1            u0            u2  [L198, L199]\n",
              "4            u0            u2  [L207, L208]\n",
              "6            u0            u2  [L276, L277]\n",
              "7            u0            u2  [L280, L281]\n",
              "8            u0            u2  [L363, L364]"
            ]
          },
          "metadata": {
            "tags": []
          },
          "execution_count": 9
        }
      ]
    },
    {
      "cell_type": "code",
      "metadata": {
        "id": "CdQIX27AyxLU"
      },
      "source": [
        "LQA=dia_2.order.values\r\n",
        "LA=[]\r\n",
        "LQ=[]\r\n",
        "for di in LQA:\r\n",
        "  LQ.append(di[0])\r\n",
        "  LA.append(di[1])"
      ],
      "execution_count": null,
      "outputs": []
    },
    {
      "cell_type": "code",
      "metadata": {
        "id": "v3r8Rsbo4dSA"
      },
      "source": [
        "np_dia=np.asarray((LQ,LA)).T"
      ],
      "execution_count": null,
      "outputs": []
    },
    {
      "cell_type": "code",
      "metadata": {
        "colab": {
          "base_uri": "https://localhost:8080/",
          "height": 419
        },
        "id": "1m35ZHsx5fwh",
        "outputId": "d1d7f70a-c656-4350-8c6b-b52a8709a2a8"
      },
      "source": [
        "df_dia=pd.DataFrame(data=np_dia,\r\n",
        "          index=np.array(range(len(np_dia))),\r\n",
        "          columns=['Q','A'] )\r\n",
        "#df_dia"
      ],
      "execution_count": null,
      "outputs": [
        {
          "output_type": "execute_result",
          "data": {
            "text/html": [
              "<div>\n",
              "<style scoped>\n",
              "    .dataframe tbody tr th:only-of-type {\n",
              "        vertical-align: middle;\n",
              "    }\n",
              "\n",
              "    .dataframe tbody tr th {\n",
              "        vertical-align: top;\n",
              "    }\n",
              "\n",
              "    .dataframe thead th {\n",
              "        text-align: right;\n",
              "    }\n",
              "</style>\n",
              "<table border=\"1\" class=\"dataframe\">\n",
              "  <thead>\n",
              "    <tr style=\"text-align: right;\">\n",
              "      <th></th>\n",
              "      <th>Q</th>\n",
              "      <th>A</th>\n",
              "    </tr>\n",
              "  </thead>\n",
              "  <tbody>\n",
              "    <tr>\n",
              "      <th>0</th>\n",
              "      <td>L198</td>\n",
              "      <td>L199</td>\n",
              "    </tr>\n",
              "    <tr>\n",
              "      <th>1</th>\n",
              "      <td>L207</td>\n",
              "      <td>L208</td>\n",
              "    </tr>\n",
              "    <tr>\n",
              "      <th>2</th>\n",
              "      <td>L276</td>\n",
              "      <td>L277</td>\n",
              "    </tr>\n",
              "    <tr>\n",
              "      <th>3</th>\n",
              "      <td>L280</td>\n",
              "      <td>L281</td>\n",
              "    </tr>\n",
              "    <tr>\n",
              "      <th>4</th>\n",
              "      <td>L363</td>\n",
              "      <td>L364</td>\n",
              "    </tr>\n",
              "    <tr>\n",
              "      <th>...</th>\n",
              "      <td>...</td>\n",
              "      <td>...</td>\n",
              "    </tr>\n",
              "    <tr>\n",
              "      <th>38086</th>\n",
              "      <td>L666460</td>\n",
              "      <td>L666461</td>\n",
              "    </tr>\n",
              "    <tr>\n",
              "      <th>38087</th>\n",
              "      <td>L666485</td>\n",
              "      <td>L666486</td>\n",
              "    </tr>\n",
              "    <tr>\n",
              "      <th>38088</th>\n",
              "      <td>L666546</td>\n",
              "      <td>L666547</td>\n",
              "    </tr>\n",
              "    <tr>\n",
              "      <th>38089</th>\n",
              "      <td>L666575</td>\n",
              "      <td>L666576</td>\n",
              "    </tr>\n",
              "    <tr>\n",
              "      <th>38090</th>\n",
              "      <td>L666256</td>\n",
              "      <td>L666257</td>\n",
              "    </tr>\n",
              "  </tbody>\n",
              "</table>\n",
              "<p>38091 rows × 2 columns</p>\n",
              "</div>"
            ],
            "text/plain": [
              "             Q        A\n",
              "0         L198     L199\n",
              "1         L207     L208\n",
              "2         L276     L277\n",
              "3         L280     L281\n",
              "4         L363     L364\n",
              "...        ...      ...\n",
              "38086  L666460  L666461\n",
              "38087  L666485  L666486\n",
              "38088  L666546  L666547\n",
              "38089  L666575  L666576\n",
              "38090  L666256  L666257\n",
              "\n",
              "[38091 rows x 2 columns]"
            ]
          },
          "metadata": {
            "tags": []
          },
          "execution_count": 13
        }
      ]
    },
    {
      "cell_type": "code",
      "metadata": {
        "id": "nkUsIMhTZ-s6"
      },
      "source": [
        "data_fpath = '/content/movie_lines_3.txt'\r\n",
        "max_sentences = 10000\r\n",
        "LlineID=[]\r\n",
        "LcharacterID=[]\r\n",
        "LmovieID=[]\r\n",
        "Lcharacter_name=[]\r\n",
        "Ltext_of_the_utterance=[]\r\n",
        "#lines = codecs.open(data_fpath, 'r', encoding='ANSI').readlines()#[:max_sentences]\r\n",
        "i=0\r\n",
        "f = open(data_fpath)\r\n",
        "#try:\r\n",
        "for line in f:\r\n",
        "  uni_str=line.encode(\"windows-1251\").decode(\"utf-8\")\r\n",
        "  #.decode(\"utf-8\").encode(\"windows-1251\").decode(\"utf-8\")\r\n",
        "  lineID,characterID,movieID,character_name,text_of_the_utterance= uni_str.split(' +++$+++ ')   \r\n",
        "  #print(i)\r\n",
        "  i=i+1\r\n",
        "  LlineID.append(lineID)\r\n",
        "  LcharacterID.append(characterID)\r\n",
        "  LmovieID.append(movieID)\r\n",
        "  Lcharacter_name.append(character_name)\r\n",
        "  pos= re.sub(\"\\n\",'',text_of_the_utterance)    \r\n",
        "  Ltext_of_the_utterance.append(pos)\r\n"
      ],
      "execution_count": null,
      "outputs": []
    },
    {
      "cell_type": "code",
      "metadata": {
        "colab": {
          "base_uri": "https://localhost:8080/",
          "height": 204
        },
        "id": "45ouuhbX7Akk",
        "outputId": "e982a245-b006-473f-fcdd-8542f1925c0b"
      },
      "source": [
        "np_movie_line=np.asarray((LlineID,LcharacterID,Ltext_of_the_utterance)).T\r\n",
        "df_movie_line=pd.DataFrame(data=np_movie_line,\r\n",
        "          index=np.array(range(len(np_movie_line))),\r\n",
        "          columns=['LlineID','LcharacterID','Ltext_of_the_utterance'])\r\n",
        "df_movieLlineID_line.head()"
      ],
      "execution_count": null,
      "outputs": [
        {
          "output_type": "execute_result",
          "data": {
            "text/html": [
              "<div>\n",
              "<style scoped>\n",
              "    .dataframe tbody tr th:only-of-type {\n",
              "        vertical-align: middle;\n",
              "    }\n",
              "\n",
              "    .dataframe tbody tr th {\n",
              "        vertical-align: top;\n",
              "    }\n",
              "\n",
              "    .dataframe thead th {\n",
              "        text-align: right;\n",
              "    }\n",
              "</style>\n",
              "<table border=\"1\" class=\"dataframe\">\n",
              "  <thead>\n",
              "    <tr style=\"text-align: right;\">\n",
              "      <th></th>\n",
              "      <th>LlineID</th>\n",
              "      <th>LcharacterID</th>\n",
              "      <th>Ltext_of_the_utterance</th>\n",
              "    </tr>\n",
              "  </thead>\n",
              "  <tbody>\n",
              "    <tr>\n",
              "      <th>0</th>\n",
              "      <td>L1045</td>\n",
              "      <td>u0</td>\n",
              "      <td>They do not!</td>\n",
              "    </tr>\n",
              "    <tr>\n",
              "      <th>1</th>\n",
              "      <td>L1044</td>\n",
              "      <td>u2</td>\n",
              "      <td>They do to!</td>\n",
              "    </tr>\n",
              "    <tr>\n",
              "      <th>2</th>\n",
              "      <td>L985</td>\n",
              "      <td>u0</td>\n",
              "      <td>I hope so.</td>\n",
              "    </tr>\n",
              "    <tr>\n",
              "      <th>3</th>\n",
              "      <td>L984</td>\n",
              "      <td>u2</td>\n",
              "      <td>She okay?</td>\n",
              "    </tr>\n",
              "    <tr>\n",
              "      <th>4</th>\n",
              "      <td>L925</td>\n",
              "      <td>u0</td>\n",
              "      <td>Let's go.</td>\n",
              "    </tr>\n",
              "  </tbody>\n",
              "</table>\n",
              "</div>"
            ],
            "text/plain": [
              "  LlineID LcharacterID Ltext_of_the_utterance\n",
              "0   L1045           u0           They do not!\n",
              "1   L1044           u2            They do to!\n",
              "2    L985           u0             I hope so.\n",
              "3    L984           u2              She okay?\n",
              "4    L925           u0              Let's go."
            ]
          },
          "metadata": {
            "tags": []
          },
          "execution_count": 15
        }
      ]
    },
    {
      "cell_type": "code",
      "metadata": {
        "id": "HHAEYEH194V5"
      },
      "source": [
        "df_diaA=df_dia.merge(df_movie_line,left_on='A', right_on='LlineID')\r\n",
        "df_diaAQ=df_diaA.merge(df_movie_line,left_on='Q', right_on='LlineID')"
      ],
      "execution_count": null,
      "outputs": []
    },
    {
      "cell_type": "code",
      "metadata": {
        "id": "WKOkYW_V_7sK"
      },
      "source": [
        "df_diaAQ.columns=['LQ','LA','Line_A','LcharacterID_A','Ans','Line_B','LcharacterID_Q','Qwe']\r\n",
        "df_diaAQ"
      ],
      "execution_count": null,
      "outputs": []
    },
    {
      "cell_type": "code",
      "metadata": {
        "id": "NERcx958A8UO",
        "colab": {
          "base_uri": "https://localhost:8080/",
          "height": 163
        },
        "outputId": "4bf99e3e-0a6d-47c0-8322-32839bfdfa76"
      },
      "source": [
        "df_diaAQ_work=df_diaAQ[['LQ','LA','LcharacterID_A','Ans','LcharacterID_Q','Qwe']]\r\n"
      ],
      "execution_count": null,
      "outputs": [
        {
          "output_type": "error",
          "ename": "NameError",
          "evalue": "ignored",
          "traceback": [
            "\u001b[0;31m---------------------------------------------------------------------------\u001b[0m",
            "\u001b[0;31mNameError\u001b[0m                                 Traceback (most recent call last)",
            "\u001b[0;32m<ipython-input-1-b814f873325d>\u001b[0m in \u001b[0;36m<module>\u001b[0;34m()\u001b[0m\n\u001b[0;32m----> 1\u001b[0;31m \u001b[0mdf_diaAQ_work\u001b[0m\u001b[0;34m=\u001b[0m\u001b[0mdf_diaAQ\u001b[0m\u001b[0;34m[\u001b[0m\u001b[0;34m[\u001b[0m\u001b[0;34m'LQ'\u001b[0m\u001b[0;34m,\u001b[0m\u001b[0;34m'LA'\u001b[0m\u001b[0;34m,\u001b[0m\u001b[0;34m'LcharacterID_A'\u001b[0m\u001b[0;34m,\u001b[0m\u001b[0;34m'Ans'\u001b[0m\u001b[0;34m,\u001b[0m\u001b[0;34m'LcharacterID_Q'\u001b[0m\u001b[0;34m,\u001b[0m\u001b[0;34m'Qwe'\u001b[0m\u001b[0;34m]\u001b[0m\u001b[0;34m]\u001b[0m\u001b[0;34m\u001b[0m\u001b[0;34m\u001b[0m\u001b[0m\n\u001b[0m",
            "\u001b[0;31mNameError\u001b[0m: name 'df_diaAQ' is not defined"
          ]
        }
      ]
    },
    {
      "cell_type": "code",
      "metadata": {
        "id": "yiURmJLoBcCR"
      },
      "source": [
        "df_diaAQ_work.to_csv('work_data.csv')"
      ],
      "execution_count": null,
      "outputs": []
    },
    {
      "cell_type": "code",
      "metadata": {
        "id": "C53I_EtNDI52"
      },
      "source": [
        "work_data=pd.read_csv('/content/work_data.csv')\r\n"
      ],
      "execution_count": 11,
      "outputs": []
    },
    {
      "cell_type": "code",
      "metadata": {
        "colab": {
          "base_uri": "https://localhost:8080/"
        },
        "id": "ugXIFqYPF0qp",
        "outputId": "85b94e9e-6196-4167-976b-864af173d4b9"
      },
      "source": [
        "work_data.info()"
      ],
      "execution_count": 12,
      "outputs": [
        {
          "output_type": "stream",
          "text": [
            "<class 'pandas.core.frame.DataFrame'>\n",
            "RangeIndex: 38091 entries, 0 to 38090\n",
            "Data columns (total 7 columns):\n",
            " #   Column          Non-Null Count  Dtype \n",
            "---  ------          --------------  ----- \n",
            " 0   Unnamed: 0      38091 non-null  int64 \n",
            " 1   LQ              38091 non-null  object\n",
            " 2   LA              38091 non-null  object\n",
            " 3   LcharacterID_A  38091 non-null  object\n",
            " 4   Ans             38062 non-null  object\n",
            " 5   LcharacterID_Q  38091 non-null  object\n",
            " 6   Qwe             38059 non-null  object\n",
            "dtypes: int64(1), object(6)\n",
            "memory usage: 2.0+ MB\n"
          ],
          "name": "stdout"
        }
      ]
    },
    {
      "cell_type": "code",
      "metadata": {
        "id": "cJh-n31yfMyV"
      },
      "source": [
        "work_data['len_A']=(work_data['Ans']).apply(str).apply(len)\r\n",
        "work_data['len_Q']=(work_data['Qwe']).apply(str).apply(len)"
      ],
      "execution_count": 13,
      "outputs": []
    },
    {
      "cell_type": "code",
      "metadata": {
        "colab": {
          "base_uri": "https://localhost:8080/",
          "height": 285
        },
        "id": "crJaJAtxJCwG",
        "outputId": "d2fde799-503e-4449-b42a-70e80186d21e"
      },
      "source": [
        "work_data.head()"
      ],
      "execution_count": null,
      "outputs": [
        {
          "output_type": "execute_result",
          "data": {
            "text/html": [
              "<div>\n",
              "<style scoped>\n",
              "    .dataframe tbody tr th:only-of-type {\n",
              "        vertical-align: middle;\n",
              "    }\n",
              "\n",
              "    .dataframe tbody tr th {\n",
              "        vertical-align: top;\n",
              "    }\n",
              "\n",
              "    .dataframe thead th {\n",
              "        text-align: right;\n",
              "    }\n",
              "</style>\n",
              "<table border=\"1\" class=\"dataframe\">\n",
              "  <thead>\n",
              "    <tr style=\"text-align: right;\">\n",
              "      <th></th>\n",
              "      <th>Unnamed: 0</th>\n",
              "      <th>LQ</th>\n",
              "      <th>LA</th>\n",
              "      <th>LcharacterID_A</th>\n",
              "      <th>Ans</th>\n",
              "      <th>LcharacterID_Q</th>\n",
              "      <th>Qwe</th>\n",
              "      <th>len_A</th>\n",
              "      <th>len_Q</th>\n",
              "    </tr>\n",
              "  </thead>\n",
              "  <tbody>\n",
              "    <tr>\n",
              "      <th>0</th>\n",
              "      <td>0</td>\n",
              "      <td>L198</td>\n",
              "      <td>L199</td>\n",
              "      <td>u2</td>\n",
              "      <td>Forget it.</td>\n",
              "      <td>u0</td>\n",
              "      <td>You're asking me out.  That's so cute. What's ...</td>\n",
              "      <td>10</td>\n",
              "      <td>62</td>\n",
              "    </tr>\n",
              "    <tr>\n",
              "      <th>1</th>\n",
              "      <td>1</td>\n",
              "      <td>L207</td>\n",
              "      <td>L208</td>\n",
              "      <td>u2</td>\n",
              "      <td>Let me see what I can do.</td>\n",
              "      <td>u0</td>\n",
              "      <td>Gosh, if only we could find Kat a boyfriend...</td>\n",
              "      <td>25</td>\n",
              "      <td>46</td>\n",
              "    </tr>\n",
              "    <tr>\n",
              "      <th>2</th>\n",
              "      <td>2</td>\n",
              "      <td>L276</td>\n",
              "      <td>L277</td>\n",
              "      <td>u2</td>\n",
              "      <td>Well, there's someone I think might be --</td>\n",
              "      <td>u0</td>\n",
              "      <td>How is our little Find the Wench A Date plan p...</td>\n",
              "      <td>41</td>\n",
              "      <td>57</td>\n",
              "    </tr>\n",
              "    <tr>\n",
              "      <th>3</th>\n",
              "      <td>3</td>\n",
              "      <td>L280</td>\n",
              "      <td>L281</td>\n",
              "      <td>u0</td>\n",
              "      <td>Where?</td>\n",
              "      <td>u2</td>\n",
              "      <td>There.</td>\n",
              "      <td>6</td>\n",
              "      <td>6</td>\n",
              "    </tr>\n",
              "    <tr>\n",
              "      <th>4</th>\n",
              "      <td>4</td>\n",
              "      <td>L363</td>\n",
              "      <td>L364</td>\n",
              "      <td>u0</td>\n",
              "      <td>I counted on you to help my cause. You and tha...</td>\n",
              "      <td>u2</td>\n",
              "      <td>You got something on your mind?</td>\n",
              "      <td>109</td>\n",
              "      <td>31</td>\n",
              "    </tr>\n",
              "  </tbody>\n",
              "</table>\n",
              "</div>"
            ],
            "text/plain": [
              "   Unnamed: 0    LQ  ... len_A len_Q\n",
              "0           0  L198  ...    10    62\n",
              "1           1  L207  ...    25    46\n",
              "2           2  L276  ...    41    57\n",
              "3           3  L280  ...     6     6\n",
              "4           4  L363  ...   109    31\n",
              "\n",
              "[5 rows x 9 columns]"
            ]
          },
          "metadata": {
            "tags": []
          },
          "execution_count": 5
        }
      ]
    },
    {
      "cell_type": "code",
      "metadata": {
        "colab": {
          "base_uri": "https://localhost:8080/",
          "height": 283
        },
        "id": "sr8iGWFRfrGU",
        "outputId": "92fb1273-04e4-4d4e-f8df-84f4bc085cf8"
      },
      "source": [
        "work_data.len_A.hist()"
      ],
      "execution_count": null,
      "outputs": [
        {
          "output_type": "execute_result",
          "data": {
            "text/plain": [
              "<matplotlib.axes._subplots.AxesSubplot at 0x7fb52bf6ce10>"
            ]
          },
          "metadata": {
            "tags": []
          },
          "execution_count": 6
        },
        {
          "output_type": "display_data",
          "data": {
            "image/png": "[encoded data removed]",
            "text/plain": [
              "<Figure size 432x288 with 1 Axes>"
            ]
          },
          "metadata": {
            "tags": [],
            "needs_background": "light"
          }
        }
      ]
    },
    {
      "cell_type": "code",
      "metadata": {
        "colab": {
          "base_uri": "https://localhost:8080/",
          "height": 283
        },
        "id": "vk4XToKhf5m4",
        "outputId": "c4dbdf44-0754-4010-c225-cd1458d68d0b"
      },
      "source": [
        "work_data.len_Q.hist()"
      ],
      "execution_count": null,
      "outputs": [
        {
          "output_type": "execute_result",
          "data": {
            "text/plain": [
              "<matplotlib.axes._subplots.AxesSubplot at 0x7fb52bf3fe48>"
            ]
          },
          "metadata": {
            "tags": []
          },
          "execution_count": 8
        },
        {
          "output_type": "display_data",
          "data": {
            "image/png": "[encoded data removed]",
            "text/plain": [
              "<Figure size 432x288 with 1 Axes>"
            ]
          },
          "metadata": {
            "tags": [],
            "needs_background": "light"
          }
        }
      ]
    },
    {
      "cell_type": "code",
      "metadata": {
        "id": "hqGlIfrgOOfW"
      },
      "source": [
        "work_chat=work_data[(work_data['len_Q']>64)&(work_data['len_A']>64)]\r\n"
      ],
      "execution_count": 14,
      "outputs": []
    },
    {
      "cell_type": "code",
      "metadata": {
        "colab": {
          "base_uri": "https://localhost:8080/",
          "height": 283
        },
        "id": "XQTGQYOSggXU",
        "outputId": "d0695a26-fb46-4dad-bc08-7b78c7e5df81"
      },
      "source": [
        "work_chat.len_Q.hist()"
      ],
      "execution_count": null,
      "outputs": [
        {
          "output_type": "execute_result",
          "data": {
            "text/plain": [
              "<matplotlib.axes._subplots.AxesSubplot at 0x7f9d55130da0>"
            ]
          },
          "metadata": {
            "tags": []
          },
          "execution_count": 14
        },
        {
          "output_type": "display_data",
          "data": {
            "image/png": "[encoded data removed]",
            "text/plain": [
              "<Figure size 432x288 with 1 Axes>"
            ]
          },
          "metadata": {
            "tags": [],
            "needs_background": "light"
          }
        }
      ]
    },
    {
      "cell_type": "code",
      "metadata": {
        "colab": {
          "base_uri": "https://localhost:8080/",
          "height": 283
        },
        "id": "GcuzdINbFCXE",
        "outputId": "54b9d78e-5fa6-4914-e03f-dc19056c9c7e"
      },
      "source": [
        "work_chat.len_A.hist()"
      ],
      "execution_count": null,
      "outputs": [
        {
          "output_type": "execute_result",
          "data": {
            "text/plain": [
              "<matplotlib.axes._subplots.AxesSubplot at 0x7f9d5375e1d0>"
            ]
          },
          "metadata": {
            "tags": []
          },
          "execution_count": 15
        },
        {
          "output_type": "display_data",
          "data": {
            "image/png": "[encoded data removed]",
            "text/plain": [
              "<Figure size 432x288 with 1 Axes>"
            ]
          },
          "metadata": {
            "tags": [],
            "needs_background": "light"
          }
        }
      ]
    },
    {
      "cell_type": "markdown",
      "metadata": {
        "id": "pYBswmEsPgiB"
      },
      "source": [
        "## Массив данных для обучения чат бота"
      ]
    },
    {
      "cell_type": "code",
      "metadata": {
        "colab": {
          "base_uri": "https://localhost:8080/"
        },
        "id": "a_-5q6tRO3b3",
        "outputId": "df9ed699-8e1f-4b69-a4ae-f20b98830e31"
      },
      "source": [
        "work_chat.info()"
      ],
      "execution_count": 15,
      "outputs": [
        {
          "output_type": "stream",
          "text": [
            "<class 'pandas.core.frame.DataFrame'>\n",
            "Int64Index: 2750 entries, 35 to 38081\n",
            "Data columns (total 9 columns):\n",
            " #   Column          Non-Null Count  Dtype \n",
            "---  ------          --------------  ----- \n",
            " 0   Unnamed: 0      2750 non-null   int64 \n",
            " 1   LQ              2750 non-null   object\n",
            " 2   LA              2750 non-null   object\n",
            " 3   LcharacterID_A  2750 non-null   object\n",
            " 4   Ans             2750 non-null   object\n",
            " 5   LcharacterID_Q  2750 non-null   object\n",
            " 6   Qwe             2750 non-null   object\n",
            " 7   len_A           2750 non-null   int64 \n",
            " 8   len_Q           2750 non-null   int64 \n",
            "dtypes: int64(3), object(6)\n",
            "memory usage: 214.8+ KB\n"
          ],
          "name": "stdout"
        }
      ]
    },
    {
      "cell_type": "code",
      "metadata": {
        "id": "Ooq1yUKGQUQM"
      },
      "source": [
        "input_texts=work_chat['Qwe'].apply(str).sum()\r\n",
        "#input_texts1=re.sub(\"\\\\'\",\"\",input_texts)"
      ],
      "execution_count": 16,
      "outputs": []
    },
    {
      "cell_type": "code",
      "metadata": {
        "id": "fVOpDV9mQsY7"
      },
      "source": [
        "target_texts=work_chat['Ans'].apply(str).values.sum()"
      ],
      "execution_count": 17,
      "outputs": []
    },
    {
      "cell_type": "code",
      "metadata": {
        "id": "459bFxllGmqn"
      },
      "source": [
        "def prepare_vocab(texts):\r\n",
        "    vocab = sorted(set(''.join(texts)))\r\n",
        "    vocab.append('<START>')\r\n",
        "    vocab.append('<END>')\r\n",
        "    vocab_size = len(vocab)\r\n",
        "    char2idx = {u:i for i, u in enumerate(vocab)}\r\n",
        "    idx2char = np.array(vocab)\r\n",
        "    return vocab_size, char2idx, idx2char"
      ],
      "execution_count": 18,
      "outputs": []
    },
    {
      "cell_type": "code",
      "metadata": {
        "id": "7hjhllNeGr8z"
      },
      "source": [
        "INPUT_VOCAB_SIZE, input_char2idx, input_idx2char = prepare_vocab(input_texts)\r\n",
        "TARGET_VOCAB_SIZE, target_char2idx, target_idx2char = prepare_vocab(target_texts)"
      ],
      "execution_count": 19,
      "outputs": []
    },
    {
      "cell_type": "code",
      "metadata": {
        "id": "20CnhRA0T7fK"
      },
      "source": [
        "input_texts_data=work_chat['Qwe'].apply(str).values\r\n",
        "#target_texts_data=work_chat['Ans'].apply(str)\r\n",
        "target_texts_data=work_chat['Ans'].apply(str).values"
      ],
      "execution_count": 20,
      "outputs": []
    },
    {
      "cell_type": "code",
      "metadata": {
        "id": "qTxobPTXSEKh"
      },
      "source": [
        "input_texts_as_int = [[input_char2idx[c] for c in text] for text in input_texts_data]\r\n",
        "target_texts_as_int = [[target_char2idx[c] for c in text] for text in target_texts_data]\r\n",
        "\r\n",
        "encoder_input_seqs = [np.array(text) for text in input_texts_as_int]\r\n",
        "decoder_input_seqs = []\r\n",
        "decoder_target_seqs = []\r\n",
        "for target_text in target_texts_as_int:\r\n",
        "    decoder_input_seqs.append(np.array([target_char2idx['<START>']] + target_text))\r\n",
        "    decoder_target_seqs.append(np.array(target_text + [target_char2idx['<END>']]))"
      ],
      "execution_count": 21,
      "outputs": []
    },
    {
      "cell_type": "code",
      "metadata": {
        "colab": {
          "base_uri": "https://localhost:8080/"
        },
        "id": "jfcJPOWbSGO0",
        "outputId": "577d5eff-4505-4e81-a08d-bb8b810a462c"
      },
      "source": [
        "input_texts_data"
      ],
      "execution_count": null,
      "outputs": [
        {
          "output_type": "execute_result",
          "data": {
            "text/plain": [
              "array([\"You're asking me out.  That's so cute. What's your name again?\",\n",
              "       'Gosh, if only we could find Kat a boyfriend...',\n",
              "       'How is our little Find the Wench A Date plan progressing?', ...,\n",
              "       'Splendid site, Crealock, splendil I want to establish Camp here immediately.',\n",
              "       \"Choose your targets men. That's right Watch those markers. 55\",\n",
              "       \"Colonel Durnford... William Vereker. I hear you 've been seeking Officers?\"],\n",
              "      dtype=object)"
            ]
          },
          "metadata": {
            "tags": []
          },
          "execution_count": 18
        }
      ]
    },
    {
      "cell_type": "code",
      "metadata": {
        "id": "a323Bf7CV4PD"
      },
      "source": [
        "max_enc_seq_length = 256 # max np.median([len(seq) for seq in encoder_input_seqs])\r\n",
        "#max_enc_seq_length = np.median([len(seq) for seq in encoder_input_seqs])\r\n",
        "max_dec_seq_length = 256 # max([len(seq) for seq in decoder_input_seqs])\r\n",
        "#max_dec_seq_length = np.median([len(seq) for seq in decoder_input_seqs])\r\n",
        "\r\n",
        "encoder_input_seqs = tf.keras.preprocessing.sequence.pad_sequences(\r\n",
        "    encoder_input_seqs,\r\n",
        "    value=input_char2idx[' '],\r\n",
        "    padding='post',\r\n",
        "    maxlen=max_enc_seq_length)\r\n",
        "\r\n",
        "decoder_input_seqs = tf.keras.preprocessing.sequence.pad_sequences(\r\n",
        "    decoder_input_seqs,\r\n",
        "    value=target_char2idx[' '],\r\n",
        "    padding='post',\r\n",
        "    maxlen=max_dec_seq_length)\r\n",
        "\r\n",
        "decoder_target_seqs = tf.keras.preprocessing.sequence.pad_sequences(\r\n",
        "    decoder_target_seqs,\r\n",
        "    value=target_char2idx[' '],\r\n",
        "    padding='post',\r\n",
        "    maxlen=max_dec_seq_length)"
      ],
      "execution_count": 22,
      "outputs": []
    },
    {
      "cell_type": "markdown",
      "metadata": {
        "id": "24MKE4EXUHYa"
      },
      "source": [
        "# Модель Seq2Seq"
      ]
    },
    {
      "cell_type": "code",
      "metadata": {
        "id": "yvdcjEO3WGux"
      },
      "source": [
        "H_SIZE = 256 # Размерность скрытого состояния LSTM\r\n",
        "EMB_SIZE = 256# размерность эмбеддингов (и для входных и для выходных цепочек)\r\n",
        "#INPUT_VOCAB_SIZE=128\r\n",
        "#TARGET_VOCAB_SIZE=128\r\n",
        "class Encoder(tf.keras.Model):\r\n",
        "    def __init__(self):\r\n",
        "        super().__init__()\r\n",
        "        self.embed = tf.keras.layers.Embedding(INPUT_VOCAB_SIZE, EMB_SIZE)\r\n",
        "        self.lstm = tf.keras.layers.LSTM(H_SIZE, return_sequences=True, return_state=True)\r\n",
        "        self.lstm1 = tf.keras.layers.LSTM(H_SIZE, return_sequences=False, return_state=True)\r\n",
        "        \r\n",
        "    def call(self, x):\r\n",
        "        out = self.embed(x)\r\n",
        "        out, h, c = self.lstm(out)\r\n",
        "        _, h1, c1 = self.lstm1(out)\r\n",
        "        state = (h, c)\r\n",
        "        state1 = (h1, c1)\r\n",
        "        return (state, state1)\r\n",
        "\r\n",
        "class Decoder(tf.keras.Model):\r\n",
        "    def __init__(self):\r\n",
        "        super().__init__()\r\n",
        "        self.embed = tf.keras.layers.Embedding(TARGET_VOCAB_SIZE, EMB_SIZE)\r\n",
        "        self.lstm = tf.keras.layers.LSTM(H_SIZE, return_sequences=True, return_state=True)\r\n",
        "        self.lstm1 = tf.keras.layers.LSTM(H_SIZE, return_sequences=True, return_state=True)\r\n",
        "        self.fc = tf.keras.layers.Dense(TARGET_VOCAB_SIZE, activation='softmax')\r\n",
        "        \r\n",
        "    def call(self, x, init_state):\r\n",
        "        out = self.embed(x)\r\n",
        "        out, h, c = self.lstm(out, initial_state=init_state[0])\r\n",
        "        out, h1, c1 = self.lstm1(out, initial_state=init_state[1])\r\n",
        "        out = self.fc(out)\r\n",
        "        state = (h, c)\r\n",
        "        state1 = (h1, c1)\r\n",
        "        return out, (state, state1)\r\n",
        "\r\n",
        "encoder_model = Encoder()\r\n",
        "decoder_model = Decoder()\r\n",
        "\r\n",
        "encoder_inputs = tf.keras.layers.Input(shape=(None,))\r\n",
        "decoder_inputs = tf.keras.layers.Input(shape=(None,))\r\n",
        "\r\n",
        "enc_state = encoder_model(encoder_inputs)\r\n",
        "decoder_outputs, _ = decoder_model(decoder_inputs, enc_state)\r\n",
        "\r\n",
        "seq2seq = tf.keras.Model([encoder_inputs, decoder_inputs], decoder_outputs)"
      ],
      "execution_count": 23,
      "outputs": []
    },
    {
      "cell_type": "code",
      "metadata": {
        "id": "_cfitXXtXYSi"
      },
      "source": [
        "from attention_keras.layers.attention import AttentionLayer\r\n",
        "attn_layer = AttentionLayer(name='attention_layer')\r\n",
        "attn_out, attn_states = attn_layer([encoder_outputs, decoder_outputs])"
      ],
      "execution_count": null,
      "outputs": []
    },
    {
      "cell_type": "code",
      "metadata": {
        "colab": {
          "base_uri": "https://localhost:8080/"
        },
        "id": "6vpsbM1PWPvn",
        "outputId": "0816a45a-43c9-401c-b658-a17f3cd0e4d3"
      },
      "source": [
        "BATCH_SIZE = 64\r\n",
        "EPOCHS = 100\r\n",
        "\r\n",
        "loss = tf.losses.SparseCategoricalCrossentropy()\r\n",
        "seq2seq.compile(optimizer='rmsprop', loss=loss, metrics=['accuracy'])\r\n",
        "seq2seq.fit([encoder_input_seqs, decoder_input_seqs], decoder_target_seqs,\r\n",
        "          batch_size=BATCH_SIZE,\r\n",
        "          epochs=EPOCHS)"
      ],
      "execution_count": null,
      "outputs": [
        {
          "output_type": "stream",
          "text": [
            "Epoch 1/100\n",
            "43/43 [==============================] - 9s 115ms/step - loss: 2.3527 - accuracy: 0.5492\n",
            "Epoch 2/100\n",
            "43/43 [==============================] - 5s 115ms/step - loss: 1.5451 - accuracy: 0.6039\n",
            "Epoch 3/100\n",
            "43/43 [==============================] - 5s 116ms/step - loss: 1.4684 - accuracy: 0.6161\n",
            "Epoch 4/100\n",
            "43/43 [==============================] - 5s 117ms/step - loss: 1.3672 - accuracy: 0.6320\n",
            "Epoch 5/100\n",
            "43/43 [==============================] - 5s 117ms/step - loss: 1.2497 - accuracy: 0.6545\n",
            "Epoch 6/100\n",
            "43/43 [==============================] - 5s 117ms/step - loss: 1.1721 - accuracy: 0.6728\n",
            "Epoch 7/100\n",
            "43/43 [==============================] - 5s 118ms/step - loss: 1.1025 - accuracy: 0.6892\n",
            "Epoch 8/100\n",
            "43/43 [==============================] - 5s 119ms/step - loss: 1.0712 - accuracy: 0.6972\n",
            "Epoch 9/100\n",
            "43/43 [==============================] - 5s 120ms/step - loss: 1.0482 - accuracy: 0.7013\n",
            "Epoch 10/100\n",
            "43/43 [==============================] - 5s 120ms/step - loss: 0.9866 - accuracy: 0.7167\n",
            "Epoch 11/100\n",
            "43/43 [==============================] - 5s 121ms/step - loss: 0.9626 - accuracy: 0.7216\n",
            "Epoch 12/100\n",
            "43/43 [==============================] - 5s 120ms/step - loss: 0.9482 - accuracy: 0.7262\n",
            "Epoch 13/100\n",
            "43/43 [==============================] - 5s 119ms/step - loss: 0.9042 - accuracy: 0.7366\n",
            "Epoch 14/100\n",
            "43/43 [==============================] - 5s 119ms/step - loss: 0.8773 - accuracy: 0.7448\n",
            "Epoch 15/100\n",
            "43/43 [==============================] - 5s 118ms/step - loss: 0.8682 - accuracy: 0.7461\n",
            "Epoch 16/100\n",
            "43/43 [==============================] - 5s 118ms/step - loss: 0.8427 - accuracy: 0.7532\n",
            "Epoch 17/100\n",
            "43/43 [==============================] - 5s 118ms/step - loss: 0.8352 - accuracy: 0.7547\n",
            "Epoch 18/100\n",
            "43/43 [==============================] - 5s 118ms/step - loss: 0.8145 - accuracy: 0.7604\n",
            "Epoch 19/100\n",
            "43/43 [==============================] - 5s 118ms/step - loss: 0.7974 - accuracy: 0.7647\n",
            "Epoch 20/100\n",
            "43/43 [==============================] - 5s 118ms/step - loss: 0.7887 - accuracy: 0.7671\n",
            "Epoch 21/100\n",
            "43/43 [==============================] - 5s 118ms/step - loss: 0.7846 - accuracy: 0.7673\n",
            "Epoch 22/100\n",
            "43/43 [==============================] - 5s 118ms/step - loss: 0.7740 - accuracy: 0.7707\n",
            "Epoch 23/100\n",
            "43/43 [==============================] - 5s 118ms/step - loss: 0.7627 - accuracy: 0.7734\n",
            "Epoch 24/100\n",
            "43/43 [==============================] - 5s 118ms/step - loss: 0.7485 - accuracy: 0.7773\n",
            "Epoch 25/100\n",
            "43/43 [==============================] - 5s 119ms/step - loss: 0.7415 - accuracy: 0.7788\n",
            "Epoch 26/100\n",
            "43/43 [==============================] - 5s 119ms/step - loss: 0.7326 - accuracy: 0.7809\n",
            "Epoch 27/100\n",
            "43/43 [==============================] - 5s 119ms/step - loss: 0.7186 - accuracy: 0.7861\n",
            "Epoch 28/100\n",
            "43/43 [==============================] - 5s 119ms/step - loss: 0.7155 - accuracy: 0.7860\n",
            "Epoch 29/100\n",
            "43/43 [==============================] - 5s 119ms/step - loss: 0.6995 - accuracy: 0.7905\n",
            "Epoch 30/100\n",
            "43/43 [==============================] - 5s 119ms/step - loss: 0.6952 - accuracy: 0.7913\n",
            "Epoch 31/100\n",
            "43/43 [==============================] - 5s 119ms/step - loss: 0.6906 - accuracy: 0.7935\n",
            "Epoch 32/100\n",
            "43/43 [==============================] - 5s 119ms/step - loss: 0.6858 - accuracy: 0.7939\n",
            "Epoch 33/100\n",
            "43/43 [==============================] - 5s 119ms/step - loss: 0.6736 - accuracy: 0.7978\n",
            "Epoch 34/100\n",
            "43/43 [==============================] - 5s 118ms/step - loss: 0.6722 - accuracy: 0.7982\n",
            "Epoch 35/100\n",
            "43/43 [==============================] - 5s 118ms/step - loss: 0.6653 - accuracy: 0.7999\n",
            "Epoch 36/100\n",
            "43/43 [==============================] - 5s 118ms/step - loss: 0.6606 - accuracy: 0.8009\n",
            "Epoch 37/100\n",
            "43/43 [==============================] - 5s 119ms/step - loss: 0.6481 - accuracy: 0.8044\n",
            "Epoch 38/100\n",
            "43/43 [==============================] - 5s 119ms/step - loss: 0.6494 - accuracy: 0.8043\n",
            "Epoch 39/100\n",
            "43/43 [==============================] - 5s 119ms/step - loss: 0.6464 - accuracy: 0.8047\n",
            "Epoch 40/100\n",
            "43/43 [==============================] - 5s 119ms/step - loss: 0.6371 - accuracy: 0.8072\n",
            "Epoch 41/100\n",
            "43/43 [==============================] - 5s 119ms/step - loss: 0.6197 - accuracy: 0.8130\n",
            "Epoch 42/100\n",
            "43/43 [==============================] - 5s 119ms/step - loss: 0.6174 - accuracy: 0.8136\n",
            "Epoch 43/100\n",
            "43/43 [==============================] - 5s 119ms/step - loss: 0.6215 - accuracy: 0.8122\n",
            "Epoch 44/100\n",
            "43/43 [==============================] - 5s 119ms/step - loss: 0.6087 - accuracy: 0.8160\n",
            "Epoch 45/100\n",
            "43/43 [==============================] - 5s 118ms/step - loss: 0.6098 - accuracy: 0.8157\n",
            "Epoch 46/100\n",
            "43/43 [==============================] - 5s 118ms/step - loss: 0.5946 - accuracy: 0.8194\n",
            "Epoch 47/100\n",
            "43/43 [==============================] - 5s 118ms/step - loss: 0.6101 - accuracy: 0.8148\n",
            "Epoch 48/100\n",
            "43/43 [==============================] - 5s 119ms/step - loss: 0.5853 - accuracy: 0.8231\n",
            "Epoch 49/100\n",
            "43/43 [==============================] - 5s 119ms/step - loss: 0.5839 - accuracy: 0.8229\n",
            "Epoch 50/100\n",
            "43/43 [==============================] - 5s 118ms/step - loss: 0.5732 - accuracy: 0.8262\n",
            "Epoch 51/100\n",
            "43/43 [==============================] - 5s 118ms/step - loss: 0.5769 - accuracy: 0.8254\n",
            "Epoch 52/100\n",
            "43/43 [==============================] - 5s 119ms/step - loss: 0.5653 - accuracy: 0.8283\n",
            "Epoch 53/100\n",
            "43/43 [==============================] - 5s 119ms/step - loss: 0.5617 - accuracy: 0.8295\n",
            "Epoch 54/100\n",
            "43/43 [==============================] - 5s 119ms/step - loss: 0.5514 - accuracy: 0.8332\n",
            "Epoch 55/100\n",
            "43/43 [==============================] - 5s 119ms/step - loss: 0.5362 - accuracy: 0.8373\n",
            "Epoch 56/100\n",
            "43/43 [==============================] - 5s 119ms/step - loss: 0.5420 - accuracy: 0.8363\n",
            "Epoch 57/100\n",
            "43/43 [==============================] - 5s 119ms/step - loss: 0.5396 - accuracy: 0.8372\n",
            "Epoch 58/100\n",
            "43/43 [==============================] - 5s 118ms/step - loss: 0.5290 - accuracy: 0.8400\n",
            "Epoch 59/100\n",
            "43/43 [==============================] - 5s 119ms/step - loss: 0.5174 - accuracy: 0.8436\n",
            "Epoch 60/100\n",
            "43/43 [==============================] - 5s 119ms/step - loss: 0.5221 - accuracy: 0.8415\n",
            "Epoch 61/100\n",
            "43/43 [==============================] - 5s 119ms/step - loss: 0.5118 - accuracy: 0.8450\n",
            "Epoch 62/100\n",
            "43/43 [==============================] - 5s 119ms/step - loss: 0.5031 - accuracy: 0.8480\n",
            "Epoch 63/100\n",
            "43/43 [==============================] - 5s 119ms/step - loss: 0.5006 - accuracy: 0.8485\n",
            "Epoch 64/100\n",
            "43/43 [==============================] - 5s 118ms/step - loss: 0.4978 - accuracy: 0.8501\n",
            "Epoch 65/100\n",
            "43/43 [==============================] - 5s 119ms/step - loss: 0.4954 - accuracy: 0.8502\n",
            "Epoch 66/100\n",
            "43/43 [==============================] - 5s 118ms/step - loss: 0.4882 - accuracy: 0.8528\n",
            "Epoch 67/100\n",
            "43/43 [==============================] - 5s 119ms/step - loss: 0.4716 - accuracy: 0.8577\n",
            "Epoch 68/100\n",
            "43/43 [==============================] - 5s 119ms/step - loss: 0.4744 - accuracy: 0.8572\n",
            "Epoch 69/100\n",
            "43/43 [==============================] - 5s 119ms/step - loss: 0.4774 - accuracy: 0.8562\n",
            "Epoch 70/100\n",
            "43/43 [==============================] - 5s 118ms/step - loss: 0.4599 - accuracy: 0.8616\n",
            "Epoch 71/100\n",
            "43/43 [==============================] - 5s 119ms/step - loss: 0.4527 - accuracy: 0.8643\n",
            "Epoch 72/100\n",
            "43/43 [==============================] - 5s 119ms/step - loss: 0.4543 - accuracy: 0.8634\n",
            "Epoch 73/100\n",
            "43/43 [==============================] - 5s 119ms/step - loss: 0.4521 - accuracy: 0.8646\n",
            "Epoch 74/100\n",
            "43/43 [==============================] - 5s 119ms/step - loss: 0.4376 - accuracy: 0.8694\n",
            "Epoch 75/100\n",
            "43/43 [==============================] - 5s 118ms/step - loss: 0.4433 - accuracy: 0.8672\n",
            "Epoch 76/100\n",
            "43/43 [==============================] - 5s 119ms/step - loss: 0.4381 - accuracy: 0.8689\n",
            "Epoch 77/100\n",
            "43/43 [==============================] - 5s 119ms/step - loss: 0.4308 - accuracy: 0.8717\n",
            "Epoch 78/100\n",
            "43/43 [==============================] - 5s 119ms/step - loss: 0.4239 - accuracy: 0.8735\n",
            "Epoch 79/100\n",
            "43/43 [==============================] - 5s 119ms/step - loss: 0.4163 - accuracy: 0.8757\n",
            "Epoch 80/100\n",
            "43/43 [==============================] - 5s 119ms/step - loss: 0.4159 - accuracy: 0.8759\n",
            "Epoch 81/100\n",
            "43/43 [==============================] - 5s 119ms/step - loss: 0.4107 - accuracy: 0.8779\n",
            "Epoch 82/100\n",
            "43/43 [==============================] - 5s 119ms/step - loss: 0.3979 - accuracy: 0.8815\n",
            "Epoch 83/100\n",
            "43/43 [==============================] - 5s 119ms/step - loss: 0.3951 - accuracy: 0.8822\n",
            "Epoch 84/100\n",
            "43/43 [==============================] - 5s 119ms/step - loss: 0.3968 - accuracy: 0.8823\n",
            "Epoch 85/100\n",
            "43/43 [==============================] - 5s 119ms/step - loss: 0.3824 - accuracy: 0.8864\n",
            "Epoch 86/100\n",
            "43/43 [==============================] - 5s 119ms/step - loss: 0.3834 - accuracy: 0.8872\n",
            "Epoch 87/100\n",
            "43/43 [==============================] - 5s 118ms/step - loss: 0.3736 - accuracy: 0.8894\n",
            "Epoch 88/100\n",
            "43/43 [==============================] - 5s 119ms/step - loss: 0.3700 - accuracy: 0.8905\n",
            "Epoch 89/100\n",
            "43/43 [==============================] - 5s 119ms/step - loss: 0.3646 - accuracy: 0.8925\n",
            "Epoch 90/100\n",
            "43/43 [==============================] - 5s 119ms/step - loss: 0.3589 - accuracy: 0.8949\n",
            "Epoch 91/100\n",
            "43/43 [==============================] - 5s 119ms/step - loss: 0.3614 - accuracy: 0.8938\n",
            "Epoch 92/100\n",
            "43/43 [==============================] - 5s 119ms/step - loss: 0.3524 - accuracy: 0.8961\n",
            "Epoch 93/100\n",
            "43/43 [==============================] - 5s 119ms/step - loss: 0.3481 - accuracy: 0.8980\n",
            "Epoch 94/100\n",
            "43/43 [==============================] - 5s 119ms/step - loss: 0.3407 - accuracy: 0.8999\n",
            "Epoch 95/100\n",
            "43/43 [==============================] - 5s 119ms/step - loss: 0.3444 - accuracy: 0.8983\n",
            "Epoch 96/100\n",
            "43/43 [==============================] - 5s 119ms/step - loss: 0.3302 - accuracy: 0.9038\n",
            "Epoch 97/100\n",
            "43/43 [==============================] - 5s 119ms/step - loss: 0.3279 - accuracy: 0.9048\n",
            "Epoch 98/100\n",
            "43/43 [==============================] - 5s 118ms/step - loss: 0.3266 - accuracy: 0.9047\n",
            "Epoch 99/100\n",
            "43/43 [==============================] - 5s 118ms/step - loss: 0.3190 - accuracy: 0.9072\n",
            "Epoch 100/100\n",
            "43/43 [==============================] - 5s 119ms/step - loss: 0.3169 - accuracy: 0.9079\n"
          ],
          "name": "stdout"
        },
        {
          "output_type": "execute_result",
          "data": {
            "text/plain": [
              "<tensorflow.python.keras.callbacks.History at 0x7f9d536ea390>"
            ]
          },
          "metadata": {
            "tags": []
          },
          "execution_count": 30
        }
      ]
    },
    {
      "cell_type": "markdown",
      "metadata": {
        "id": "8TqZQflaTZM4"
      },
      "source": [
        "# Немножко \"Внимания\""
      ]
    },
    {
      "cell_type": "code",
      "metadata": {
        "colab": {
          "base_uri": "https://localhost:8080/"
        },
        "id": "fOfAAfP4br5f",
        "outputId": "4071ea17-ce14-43cf-92f8-8406e00bdb80"
      },
      "source": [
        "#import tensorflow as tf\r\n",
        "max_len = max_enc_seq_length \r\n",
        "rnn_cell_size = 128\r\n",
        "vocab_size=INPUT_VOCAB_SIZE\r\n",
        "\r\n",
        "class Attention(tf.keras.Model):\r\n",
        "    def __init__(self, units):\r\n",
        "        super(Attention, self).__init__()\r\n",
        "        self.W1 = tf.keras.layers.Dense(units)\r\n",
        "        self.W2 = tf.keras.layers.Dense(units)\r\n",
        "        self.V = tf.keras.layers.Dense(1)\r\n",
        "    def call(self, features, hidden):\r\n",
        "        hidden_with_time_axis = tf.expand_dims(hidden, 1)\r\n",
        "        score = tf.nn.tanh(self.W1(features) + self.W2(hidden_with_time_axis))\r\n",
        "        attention_weights = tf.nn.softmax(self.V(score), axis=1)\r\n",
        "        context_vector = attention_weights * features\r\n",
        "        context_vector = tf.reduce_sum(context_vector, axis=1)\r\n",
        "        return context_vector, attention_weights\r\n",
        "\r\n",
        "sequence_input = tf.keras.layers.Input(shape=(max_len,), dtype='int32')\r\n",
        "\r\n",
        "embedded_sequences = tf.keras.layers.Embedding(INPUT_VOCAB_SIZE, EMB_SIZE, input_length=max_len)(sequence_input)\r\n",
        "\r\n",
        "lstm = tf.keras.layers.Bidirectional(tf.keras.layers.LSTM\r\n",
        "                                     (rnn_cell_size,\r\n",
        "                                      dropout=0.3,\r\n",
        "                                      return_sequences=True,\r\n",
        "                                      return_state=True,\r\n",
        "                                      recurrent_activation='relu',\r\n",
        "                                      recurrent_initializer='glorot_uniform'), name=\"bi_lstm_0\")(embedded_sequences)\r\n",
        "\r\n",
        "lstm, forward_h, forward_c, backward_h, backward_c = tf.keras.layers.Bidirectional \\\r\n",
        "    (tf.keras.layers.LSTM\r\n",
        "     (rnn_cell_size,\r\n",
        "      dropout=0.2,\r\n",
        "      return_sequences=True,\r\n",
        "      return_state=True,\r\n",
        "      recurrent_activation='relu',\r\n",
        "      recurrent_initializer='glorot_uniform'))(lstm)\r\n",
        "\r\n",
        "state_h = tf.keras.layers.Concatenate()([forward_h, backward_h])\r\n",
        "state_c = tf.keras.layers.Concatenate()([forward_c, backward_c])\r\n",
        "\r\n",
        "context_vector, attention_weights = Attention(32)(lstm, state_h)\r\n",
        "\r\n",
        "output2 = tf.keras.layers.Dense(1, activation=\"softmax\")(context_vector)\r\n",
        "\r\n",
        "model = tf.keras.Model([encoder_inputs, decoder_inputs], decoder_outputs)\r\n",
        "\r\n",
        "# summarize layers\r\n",
        "print(model.summary())"
      ],
      "execution_count": 31,
      "outputs": [
        {
          "output_type": "stream",
          "text": [
            "WARNING:tensorflow:Layer lstm_26 will not use cuDNN kernel since it doesn't meet the cuDNN kernel criteria. It will use generic GPU kernel as fallback when running on GPU\n",
            "WARNING:tensorflow:Layer lstm_26 will not use cuDNN kernel since it doesn't meet the cuDNN kernel criteria. It will use generic GPU kernel as fallback when running on GPU\n",
            "WARNING:tensorflow:Layer lstm_26 will not use cuDNN kernel since it doesn't meet the cuDNN kernel criteria. It will use generic GPU kernel as fallback when running on GPU\n",
            "WARNING:tensorflow:Layer lstm_27 will not use cuDNN kernel since it doesn't meet the cuDNN kernel criteria. It will use generic GPU kernel as fallback when running on GPU\n",
            "WARNING:tensorflow:Layer lstm_27 will not use cuDNN kernel since it doesn't meet the cuDNN kernel criteria. It will use generic GPU kernel as fallback when running on GPU\n",
            "WARNING:tensorflow:Layer lstm_27 will not use cuDNN kernel since it doesn't meet the cuDNN kernel criteria. It will use generic GPU kernel as fallback when running on GPU\n",
            "Model: \"model_8\"\n",
            "__________________________________________________________________________________________________\n",
            "Layer (type)                    Output Shape         Param #     Connected to                     \n",
            "==================================================================================================\n",
            "input_9 (InputLayer)            [(None, None)]       0                                            \n",
            "__________________________________________________________________________________________________\n",
            "input_10 (InputLayer)           [(None, None)]       0                                            \n",
            "__________________________________________________________________________________________________\n",
            "encoder_5 (Encoder)             (((None, 256), (None 1073152     input_9[0][0]                    \n",
            "__________________________________________________________________________________________________\n",
            "decoder_3 (Decoder)             ((None, None, 89), ( 1096281     input_10[0][0]                   \n",
            "                                                                 encoder_5[0][0]                  \n",
            "                                                                 encoder_5[0][1]                  \n",
            "                                                                 encoder_5[0][2]                  \n",
            "                                                                 encoder_5[0][3]                  \n",
            "==================================================================================================\n",
            "Total params: 2,169,433\n",
            "Trainable params: 2,169,433\n",
            "Non-trainable params: 0\n",
            "__________________________________________________________________________________________________\n",
            "None\n"
          ],
          "name": "stdout"
        }
      ]
    },
    {
      "cell_type": "code",
      "metadata": {
        "colab": {
          "base_uri": "https://localhost:8080/"
        },
        "id": "135iqbf_ceIa",
        "outputId": "95dc20ca-483c-4897-89c2-c57b22d5f47a"
      },
      "source": [
        "BATCH_SIZE = 64\r\n",
        "EPOCHS = 100\r\n",
        "\r\n",
        "loss = tf.losses.SparseCategoricalCrossentropy()\r\n",
        "model.compile(optimizer='rmsprop', loss=loss, metrics=['accuracy'])\r\n",
        "model.fit([encoder_input_seqs, decoder_input_seqs], decoder_target_seqs,\r\n",
        "          batch_size=BATCH_SIZE,\r\n",
        "          epochs=EPOCHS)"
      ],
      "execution_count": 29,
      "outputs": [
        {
          "output_type": "stream",
          "text": [
            "Epoch 1/100\n",
            "43/43 [==============================] - 20s 336ms/step - loss: 0.3310 - accuracy: 0.9035\n",
            "Epoch 2/100\n",
            "43/43 [==============================] - 14s 336ms/step - loss: 0.2818 - accuracy: 0.9202\n",
            "Epoch 3/100\n",
            "43/43 [==============================] - 14s 336ms/step - loss: 0.2735 - accuracy: 0.9228\n",
            "Epoch 4/100\n",
            "43/43 [==============================] - 14s 336ms/step - loss: 0.2743 - accuracy: 0.9223\n",
            "Epoch 5/100\n",
            "43/43 [==============================] - 14s 336ms/step - loss: 0.2736 - accuracy: 0.9227\n",
            "Epoch 6/100\n",
            "43/43 [==============================] - 14s 336ms/step - loss: 0.2665 - accuracy: 0.9243\n",
            "Epoch 7/100\n",
            "43/43 [==============================] - 14s 337ms/step - loss: 0.2621 - accuracy: 0.9261\n",
            "Epoch 8/100\n",
            "43/43 [==============================] - 14s 336ms/step - loss: 0.2584 - accuracy: 0.9279\n",
            "Epoch 9/100\n",
            "43/43 [==============================] - 14s 336ms/step - loss: 0.2522 - accuracy: 0.9302\n",
            "Epoch 10/100\n",
            "43/43 [==============================] - 14s 335ms/step - loss: 0.2482 - accuracy: 0.9307\n",
            "Epoch 11/100\n",
            "43/43 [==============================] - 14s 336ms/step - loss: 0.2457 - accuracy: 0.9314\n",
            "Epoch 12/100\n",
            "43/43 [==============================] - 14s 336ms/step - loss: 0.2416 - accuracy: 0.9329\n",
            "Epoch 13/100\n",
            "43/43 [==============================] - 14s 336ms/step - loss: 0.2390 - accuracy: 0.9342\n",
            "Epoch 14/100\n",
            "43/43 [==============================] - 14s 335ms/step - loss: 0.2345 - accuracy: 0.9352\n",
            "Epoch 15/100\n",
            "43/43 [==============================] - 14s 335ms/step - loss: 0.2314 - accuracy: 0.9365\n",
            "Epoch 16/100\n",
            "43/43 [==============================] - 14s 335ms/step - loss: 0.2261 - accuracy: 0.9381\n",
            "Epoch 17/100\n",
            "43/43 [==============================] - 14s 335ms/step - loss: 0.2245 - accuracy: 0.9389\n",
            "Epoch 18/100\n",
            "43/43 [==============================] - 14s 336ms/step - loss: 0.2152 - accuracy: 0.9414\n",
            "Epoch 19/100\n",
            "43/43 [==============================] - 14s 336ms/step - loss: 0.2145 - accuracy: 0.9421\n",
            "Epoch 20/100\n",
            "43/43 [==============================] - 14s 336ms/step - loss: 0.2078 - accuracy: 0.9435\n",
            "Epoch 21/100\n",
            "43/43 [==============================] - 14s 336ms/step - loss: 0.2069 - accuracy: 0.9446\n",
            "Epoch 22/100\n",
            "43/43 [==============================] - 14s 334ms/step - loss: 0.2057 - accuracy: 0.9443\n",
            "Epoch 23/100\n",
            "43/43 [==============================] - 14s 336ms/step - loss: 0.2033 - accuracy: 0.9447\n",
            "Epoch 24/100\n",
            "43/43 [==============================] - 14s 335ms/step - loss: 0.1989 - accuracy: 0.9464\n",
            "Epoch 25/100\n",
            "43/43 [==============================] - 14s 336ms/step - loss: 0.1960 - accuracy: 0.9473\n",
            "Epoch 26/100\n",
            "43/43 [==============================] - 14s 337ms/step - loss: 0.1902 - accuracy: 0.9493\n",
            "Epoch 27/100\n",
            "43/43 [==============================] - 14s 335ms/step - loss: 0.1883 - accuracy: 0.9498\n",
            "Epoch 28/100\n",
            "43/43 [==============================] - 14s 336ms/step - loss: 0.1850 - accuracy: 0.9507\n",
            "Epoch 29/100\n",
            "43/43 [==============================] - 14s 336ms/step - loss: 0.1791 - accuracy: 0.9532\n",
            "Epoch 30/100\n",
            "43/43 [==============================] - 14s 336ms/step - loss: 0.1791 - accuracy: 0.9524\n",
            "Epoch 31/100\n",
            "43/43 [==============================] - 14s 336ms/step - loss: 0.1775 - accuracy: 0.9538\n",
            "Epoch 32/100\n",
            "43/43 [==============================] - 14s 337ms/step - loss: 0.1717 - accuracy: 0.9554\n",
            "Epoch 33/100\n",
            "43/43 [==============================] - 14s 337ms/step - loss: 0.1652 - accuracy: 0.9574\n",
            "Epoch 34/100\n",
            "43/43 [==============================] - 15s 337ms/step - loss: 0.1690 - accuracy: 0.9559\n",
            "Epoch 35/100\n",
            "43/43 [==============================] - 14s 336ms/step - loss: 0.1657 - accuracy: 0.9561\n",
            "Epoch 36/100\n",
            "43/43 [==============================] - 15s 338ms/step - loss: 0.1598 - accuracy: 0.9591\n",
            "Epoch 37/100\n",
            "43/43 [==============================] - 14s 337ms/step - loss: 0.1619 - accuracy: 0.9576\n",
            "Epoch 38/100\n",
            "43/43 [==============================] - 15s 337ms/step - loss: 0.1581 - accuracy: 0.9591\n",
            "Epoch 39/100\n",
            "43/43 [==============================] - 15s 337ms/step - loss: 0.1519 - accuracy: 0.9617\n",
            "Epoch 40/100\n",
            "43/43 [==============================] - 15s 338ms/step - loss: 0.1478 - accuracy: 0.9628\n",
            "Epoch 41/100\n",
            "43/43 [==============================] - 14s 337ms/step - loss: 0.1516 - accuracy: 0.9603\n",
            "Epoch 42/100\n",
            "43/43 [==============================] - 15s 338ms/step - loss: 0.1438 - accuracy: 0.9637\n",
            "Epoch 43/100\n",
            "43/43 [==============================] - 15s 338ms/step - loss: 0.1412 - accuracy: 0.9647\n",
            "Epoch 44/100\n",
            "43/43 [==============================] - 15s 337ms/step - loss: 0.1422 - accuracy: 0.9643\n",
            "Epoch 45/100\n",
            "43/43 [==============================] - 14s 337ms/step - loss: 0.1381 - accuracy: 0.9657\n",
            "Epoch 46/100\n",
            "43/43 [==============================] - 15s 337ms/step - loss: 0.1414 - accuracy: 0.9634\n",
            "Epoch 47/100\n",
            "43/43 [==============================] - 15s 338ms/step - loss: 0.1364 - accuracy: 0.9657\n",
            "Epoch 48/100\n",
            "43/43 [==============================] - 15s 338ms/step - loss: 0.1332 - accuracy: 0.9667\n",
            "Epoch 49/100\n",
            "43/43 [==============================] - 14s 337ms/step - loss: 0.1283 - accuracy: 0.9686\n",
            "Epoch 50/100\n",
            "43/43 [==============================] - 15s 338ms/step - loss: 0.1276 - accuracy: 0.9685\n",
            "Epoch 51/100\n",
            "43/43 [==============================] - 15s 338ms/step - loss: 0.1237 - accuracy: 0.9701\n",
            "Epoch 52/100\n",
            "43/43 [==============================] - 15s 338ms/step - loss: 0.1243 - accuracy: 0.9696\n",
            "Epoch 53/100\n",
            "43/43 [==============================] - 15s 338ms/step - loss: 0.1195 - accuracy: 0.9711\n",
            "Epoch 54/100\n",
            "43/43 [==============================] - 15s 337ms/step - loss: 0.1160 - accuracy: 0.9720\n",
            "Epoch 55/100\n",
            "43/43 [==============================] - 15s 338ms/step - loss: 0.1153 - accuracy: 0.9724\n",
            "Epoch 56/100\n",
            "43/43 [==============================] - 15s 338ms/step - loss: 0.1144 - accuracy: 0.9721\n",
            "Epoch 57/100\n",
            "43/43 [==============================] - 15s 339ms/step - loss: 0.1082 - accuracy: 0.9744\n",
            "Epoch 58/100\n",
            "43/43 [==============================] - 15s 337ms/step - loss: 0.1124 - accuracy: 0.9727\n",
            "Epoch 59/100\n",
            "43/43 [==============================] - 14s 337ms/step - loss: 0.1057 - accuracy: 0.9749\n",
            "Epoch 60/100\n",
            "43/43 [==============================] - 15s 338ms/step - loss: 0.1043 - accuracy: 0.9756\n",
            "Epoch 61/100\n",
            "43/43 [==============================] - 15s 338ms/step - loss: 0.1026 - accuracy: 0.9760\n",
            "Epoch 62/100\n",
            "43/43 [==============================] - 15s 338ms/step - loss: 0.1010 - accuracy: 0.9761\n",
            "Epoch 63/100\n",
            "43/43 [==============================] - 14s 336ms/step - loss: 0.0988 - accuracy: 0.9770\n",
            "Epoch 64/100\n",
            "43/43 [==============================] - 14s 337ms/step - loss: 0.1023 - accuracy: 0.9751\n",
            "Epoch 65/100\n",
            "43/43 [==============================] - 15s 338ms/step - loss: 0.0966 - accuracy: 0.9774\n",
            "Epoch 66/100\n",
            "43/43 [==============================] - 15s 338ms/step - loss: 0.0953 - accuracy: 0.9777\n",
            "Epoch 67/100\n",
            "43/43 [==============================] - 15s 338ms/step - loss: 0.0963 - accuracy: 0.9770\n",
            "Epoch 68/100\n",
            "43/43 [==============================] - 15s 338ms/step - loss: 0.0933 - accuracy: 0.9782\n",
            "Epoch 69/100\n",
            "43/43 [==============================] - 14s 337ms/step - loss: 0.0915 - accuracy: 0.9787\n",
            "Epoch 70/100\n",
            "43/43 [==============================] - 15s 338ms/step - loss: 0.0863 - accuracy: 0.9803\n",
            "Epoch 71/100\n",
            "43/43 [==============================] - 15s 338ms/step - loss: 0.0893 - accuracy: 0.9797\n",
            "Epoch 72/100\n",
            "43/43 [==============================] - 15s 338ms/step - loss: 0.0888 - accuracy: 0.9792\n",
            "Epoch 73/100\n",
            "43/43 [==============================] - 15s 339ms/step - loss: 0.0932 - accuracy: 0.9773\n",
            "Epoch 74/100\n",
            "43/43 [==============================] - 15s 338ms/step - loss: 0.0860 - accuracy: 0.9803\n",
            "Epoch 75/100\n",
            "43/43 [==============================] - 15s 338ms/step - loss: 0.0790 - accuracy: 0.9826\n",
            "Epoch 76/100\n",
            "43/43 [==============================] - 15s 338ms/step - loss: 0.0817 - accuracy: 0.9813\n",
            "Epoch 77/100\n",
            "43/43 [==============================] - 15s 338ms/step - loss: 0.0841 - accuracy: 0.9802\n",
            "Epoch 78/100\n",
            "43/43 [==============================] - 15s 338ms/step - loss: 0.0748 - accuracy: 0.9836\n",
            "Epoch 79/100\n",
            "43/43 [==============================] - 15s 338ms/step - loss: 0.0756 - accuracy: 0.9831\n",
            "Epoch 80/100\n",
            "43/43 [==============================] - 15s 338ms/step - loss: 0.0733 - accuracy: 0.9836\n",
            "Epoch 81/100\n",
            "43/43 [==============================] - 15s 338ms/step - loss: 0.0724 - accuracy: 0.9839\n",
            "Epoch 82/100\n",
            "43/43 [==============================] - 15s 338ms/step - loss: 0.0732 - accuracy: 0.9832\n",
            "Epoch 83/100\n",
            "43/43 [==============================] - 15s 338ms/step - loss: 0.0737 - accuracy: 0.9828\n",
            "Epoch 84/100\n",
            "43/43 [==============================] - 15s 338ms/step - loss: 0.0694 - accuracy: 0.9846\n",
            "Epoch 85/100\n",
            "43/43 [==============================] - 15s 338ms/step - loss: 0.0759 - accuracy: 0.9820\n",
            "Epoch 86/100\n",
            "43/43 [==============================] - 15s 338ms/step - loss: 0.0775 - accuracy: 0.9812\n",
            "Epoch 87/100\n",
            "43/43 [==============================] - 15s 338ms/step - loss: 0.0718 - accuracy: 0.9832\n",
            "Epoch 88/100\n",
            "43/43 [==============================] - 15s 337ms/step - loss: 0.0709 - accuracy: 0.9830\n",
            "Epoch 89/100\n",
            "43/43 [==============================] - 15s 339ms/step - loss: 0.0626 - accuracy: 0.9865\n",
            "Epoch 90/100\n",
            "43/43 [==============================] - 15s 338ms/step - loss: 0.0618 - accuracy: 0.9866\n",
            "Epoch 91/100\n",
            "43/43 [==============================] - 15s 338ms/step - loss: 0.0614 - accuracy: 0.9865\n",
            "Epoch 92/100\n",
            "43/43 [==============================] - 15s 338ms/step - loss: 0.0621 - accuracy: 0.9862\n",
            "Epoch 93/100\n",
            "43/43 [==============================] - 15s 338ms/step - loss: 0.0590 - accuracy: 0.9873\n",
            "Epoch 94/100\n",
            "43/43 [==============================] - 15s 338ms/step - loss: 0.0585 - accuracy: 0.9877\n",
            "Epoch 95/100\n",
            "43/43 [==============================] - 15s 339ms/step - loss: 0.0671 - accuracy: 0.9837\n",
            "Epoch 96/100\n",
            "43/43 [==============================] - 15s 339ms/step - loss: 0.0581 - accuracy: 0.9870\n",
            "Epoch 97/100\n",
            "43/43 [==============================] - 15s 338ms/step - loss: 0.0680 - accuracy: 0.9829\n",
            "Epoch 98/100\n",
            "43/43 [==============================] - 15s 338ms/step - loss: 0.0727 - accuracy: 0.9808\n",
            "Epoch 99/100\n",
            "43/43 [==============================] - 15s 338ms/step - loss: 0.0691 - accuracy: 0.9824\n",
            "Epoch 100/100\n",
            "43/43 [==============================] - 15s 338ms/step - loss: 0.0648 - accuracy: 0.9842\n"
          ],
          "name": "stdout"
        },
        {
          "output_type": "execute_result",
          "data": {
            "text/plain": [
              "<tensorflow.python.keras.callbacks.History at 0x7fe6c6bb54e0>"
            ]
          },
          "metadata": {
            "tags": []
          },
          "execution_count": 29
        }
      ]
    },
    {
      "cell_type": "markdown",
      "metadata": {
        "id": "44yqs6EOUYgq"
      },
      "source": [
        "# Проверка обученной модели"
      ]
    },
    {
      "cell_type": "code",
      "metadata": {
        "id": "vvjC-dv_X2uM"
      },
      "source": [
        "def seq2seq_inference(input_seq):\r\n",
        "    state = encoder_model(input_seq)\r\n",
        "\r\n",
        "    target_seq = np.array([[target_char2idx['<START>']]])\r\n",
        "\r\n",
        "    decoded_sentence = ''\r\n",
        "    while True:\r\n",
        "        output_tokens, state = decoder_model(target_seq, state)\r\n",
        "\r\n",
        "        sampled_token_index = np.argmax(output_tokens[0, -1, :])\r\n",
        "        sampled_char = target_idx2char[sampled_token_index]\r\n",
        "        decoded_sentence += sampled_char\r\n",
        "\r\n",
        "        if (sampled_char == '<END>' or\r\n",
        "           len(decoded_sentence) > max_dec_seq_length):\r\n",
        "            break\r\n",
        "\r\n",
        "        target_seq = np.array([[sampled_token_index]])\r\n",
        "\r\n",
        "    return decoded_sentence"
      ],
      "execution_count": 26,
      "outputs": []
    },
    {
      "cell_type": "code",
      "metadata": {
        "colab": {
          "base_uri": "https://localhost:8080/"
        },
        "id": "QDXeRTQ-X-Mg",
        "outputId": "75a7846a-6ed2-4d5e-901d-9c9ecd7845b3"
      },
      "source": [
        "lst = np.random.randint(0, len(input_texts_data), 100)\r\n",
        "\r\n",
        "for seq_index in lst: #range(100, 200):\r\n",
        "    input_seq = encoder_input_seqs[seq_index: seq_index + 1]\r\n",
        "    decoded_sentence = seq2seq_inference(input_seq)\r\n",
        "    print('-')\r\n",
        "    print('Input sentence:', input_texts_data[seq_index])\r\n",
        "    print('Result sentence:', decoded_sentence)\r\n",
        "    print('Target sentence:', target_texts_data[seq_index])"
      ],
      "execution_count": 30,
      "outputs": [
        {
          "output_type": "stream",
          "text": [
            "-\n",
            "Input sentence: How long you been lying there playing possum with us, huh? Answer me!\n",
            "Result sentence: I'm sorry, Mr. Ward, you end my word. I mean, this has be eason, Nickyes in the morning.<END>\n",
            "Target sentence: He'll tell them everything to save his ass. That's how they all work it!\n",
            "-\n",
            "Input sentence: Isn't it great up here... He's gone now, but we had him on the run! We would've had his ass if we had horses! He's running scared!\n",
            "Result sentence: The successes obtained are the results of those methods. One presupposes the other and vice versa.<END>\n",
            "Target sentence: WHO! WHO'S RUNNING?!! WHO HAVE WE BEEN CHASING!?? CAN I ASK THIS QUESTION NOW!!!\n",
            "-\n",
            "Input sentence: I've got to put these tapes in some kind of order... and... Oh, I should get my sports jacket cleaned...  ... There's coffee if you want...\n",
            "Result sentence: Nothing..  Gee, they only got out, better than the woman.<END>\n",
            "Target sentence: <u>You</u> made coffee?... You're going back to work <u>and</u> you made coffee?... I love this!\n",
            "-\n",
            "Input sentence: Oh, book?  Oh, no, I...  I'm killing time.  I...I-I just, uh, w-want to browse, uh...\n",
            "Result sentence: Oh, it's only a machine, Harold. It's not as if it were <u>alive</u>, like a horse or a camel. We may live in a machine age, but I simply can't tun the world, so you urreed your drugs to Lone.<END>\n",
            "Target sentence: Well, you sure picked the right place.  I mean, you can stay here all afternoon, not buy anything and just read.\n",
            "-\n",
            "Input sentence: The estate stuff is pretty straight forward.  Just lots of forms and an appearance at the county seat.\n",
            "Result sentence: It is no trouble at all, my child. This is the strange, vicarious pleasure that remains for me -- to see others enjoy the belonging over with you.<END>\n",
            "Target sentence: It will take some time for the forms to clear before you go to Gettysburg.\n",
            "-\n",
            "Input sentence: If you're sayin' you're somethin' better'n what I am, that's one thing. But I can't say much a someone who'd run off an' leave a woman in a situation like this an' feel easy about it. An' that's all I gotta say.\n",
            "Result sentence: I hope that's all you gotta say, El, 'cause I'm about as tired of your mouth as I am workin' this stinkin' hole!<END>\n",
            "Target sentence: I hope that's all you gotta say, El, 'cause I'm about as tired of your mouth as I am workin' this stinkin' hole!\n",
            "-\n",
            "Input sentence: Remember, Gus. A machine doesn't want anything except to keep on being a machine. You've got to make sure it can figure out how to beat any opponent.\n",
            "Result sentence: Man, all it got to do is find their weak spot.  You bet on the machine in any fight you name, you gonna win your bet.<END>\n",
            "Target sentence: Man, all it got to do is find their weak spot.  You bet on the machine in any fight you name, you gonna win your bet.\n",
            "-\n",
            "Input sentence: Lovely. How is your gold digging whore of a mother enjoying Bali? Zipping through my inheritance per usual?\n",
            "Result sentence: Hold up, hold up, I'm getting shots over the scanners, tons of traffic -- jus' chill for a sec, lemme listen...<END>\n",
            "Target sentence: Hopefully, though she suspects that your decrepit alcoholic father is diddling the maid.\n",
            "-\n",
            "Input sentence: This is <u>nothing</u>,  Wait'll you've worked with a movie star, one time, this is nothing, we keep him shot-up and happy -- the Old Days, I used to think I was a <u>pharmacist</u>, the kind of stuff I had to do.  One time...\n",
            "Result sentence: Cause the beans, y'know, y'can tell if they're <u>puttin</u> stuff in it.<END>\n",
            "Target sentence: Cause the beans, y'know, y'can tell if they're <u>puttin</u> stuff in it.\n",
            "-\n",
            "Input sentence: But it's in the desert where lots of the town's problems are solved.\n",
            "Result sentence: That's what I'm talking about it with the Frenking is wear that your station from just to sip all a ship nature is the name of the kids, Ed?                                                                                                                     \n",
            "Target sentence: Got a lot of holes in the desert, and a lot of problems are buried in those holes. Except you gotta do it right. I mean, you gotta have the hole already dug before you show up with a package in the trunk. Otherwise you're talkin' about a half-hour or forty-five minutes of diggin'. And who knows who's gonna be comin' along in that time? Before you know it, you gotta dig a few more holes. You could be there all fuckin' night.\n",
            "-\n",
            "Input sentence: Will you all stop it, you're like a gang of school kids. I knew this was going to happen one day.\n",
            "Result sentence: Well, if the bugs have hatched, and they're not here... then where are they?<END>\n",
            "Target sentence: Well, you shouldn't have had bacon for your breakfast, you cannibal.\n",
            "-\n",
            "Input sentence: No, just that one word -- Zuul -- but I have no idea what it means.\n",
            "Result sentence: Oh, it's only a machine, Harold. It's not as if it were <u>alive</u>, like a horse or a camel. We may live in a machine age, but I simply can't tun the world, so you urreed your drugs to Lone.<END>\n",
            "Target sentence: Spengler,  see if you can find the word \"Zuul\" in any of the literature.  I'll take Miss Barrett home and check out her apartment.\n",
            "-\n",
            "Input sentence: There's a war on, good chance they're not still making lingerie in Caen.\n",
            "Result sentence: This won't be an' interrogation, Handay, I was just straight to fisty.  I want to get waid it back there.<END>\n",
            "Target sentence: Oh, Captain, they'll always make lingerie, it's one of the three basic needs of man -- food, shelter, silk teddies.  Miller Dream on, private.\n",
            "-\n",
            "Input sentence: Oh my god. She's become my pimp. And she's whoring her bitch-son out to the highest bidder.\n",
            "Result sentence: It will scarcely be considered credible, perhaps, but our whole business consisted in eating cherries together.<END>\n",
            "Target sentence: No. It's not like that. You're being completely neurotic. I was just playing along...\n",
            "-\n",
            "Input sentence: This was taken when Richter was arrested in Washington state, 1985. He was charged with interstate arms trafficking, skipped bail, and has since been a fugitive.\n",
            "Result sentence: And we can't purge the Edistening Horries.  We must take an and right now is the baster would have chower about some people who wanted to last this one at the very general and here.<END>\n",
            "Target sentence: Chemco is willing to deal with him, meet his demands.  I can have the money there in an hour.\n",
            "-\n",
            "Input sentence: What are you <u>doing</u>? You just can't go.....Besides, she'd never drink anything that looks like that.\n",
            "Result sentence: We have to cover both possibilities.  We'll take care of the Bridge.  Put you can do to your family.                                                                                                                                                             \n",
            "Target sentence: Okay we'll use this. She won't be able to tell what she's drinking.\n",
            "-\n",
            "Input sentence: I don't understand a one of you. What's the matter with you? It's your men back there! We got plenty a' room for more.\n",
            "Result sentence: If you were me, I'd kill us both. C'mon, you wanna sit at the grown-up table or not?<END>\n",
            "Target sentence: If you don't shut that hole in yer face, there'll be one less in this boat!\n",
            "-\n",
            "Input sentence: Well, believe what you want, boss, but we got to be more careful.  All these new volunteers, any one of them could be...\n",
            "Result sentence: Oh, I'm more modern in my ways. I don't believe in sin, though there is good and evil.  And evil is a thing you work at.<END>\n",
            "Target sentence: Okay, you handle it, Numa.  I don't have time for this nonsense.  We've obviously got the bastards worried now.  I'm going to Washington.\n",
            "-\n",
            "Input sentence: For Chrissake!  Gimme a break.  The guy disappears for seven years and as soon as he comes back it starts again.\n",
            "Result sentence: If that's true, then it's a lot together, He best serving used you....  -- whing Captain, do you think the Captain people have treated to up to your party.<END>\n",
            "Target sentence: I see your point, Bedsoe, but I have to look at this from the law's point of view.  There's something missing here.  It's something I'm sure you've come across many times in your career.  It's called evidence.  Get me a murder weapon with his fingerprints on it.  Find me an eye witness.  Dig up a motive.  Until then we don't have a case against him.\n",
            "-\n",
            "Input sentence: Boss-man, what were you going on about last night: \"I am the Law and I am the Danish...\"\n",
            "Result sentence: I don't mind him...but I do think it's time for him to get back down below with the rest of the playgroup.<END>\n",
            "Target sentence: I don't know what I was saying. I totally phoned it in last night. I haven't been getting a lot of sleep lately...\n",
            "-\n",
            "Input sentence: Life?! How long is life? We were just walking back to the truck. We didn't do nothing! Fuck life!\n",
            "Result sentence: This guy was a bad monkey.  He dabbled in all the times of the machine in a sweet maily body that doesn't clear problem in plain.                                                                                                                                \n",
            "Target sentence: Life?! What's life mean? There's no way I can do life. I got a job starts Monday morning!\n",
            "-\n",
            "Input sentence: Come on Walter, it's just--it's Smokey.  So his toe slipped over a little, it's just a game.\n",
            "Result sentence: This is a man's game.  I'll that the part agenters!  He sinks get out of here.<END>\n",
            "Target sentence: This is a league game.  This determines who enters the next round- robin, am I wrong?\n",
            "-\n",
            "Input sentence: Shall I tell you something -- I believed what was called love came after the union -- and I was surprised when my husband, making me a woman, made me know it only by pain, unaccompanied by any pleasure. I saw that my imaginings had stood me in better stead.  And so we became only friends, seldom sleeping together and arousing no curiosity in each other, yet on good terms for a while, as whenever he wanted me, I was at his service, but since the offering was not seasoned with love, he found it tasteless, and seldom demanded it.\n",
            "Result sentence: O, my dearest love.  Enough!  I beg you.  Stop believing in your experience.  You have never known love.                                                                                                                                                         \n",
            "Target sentence: O, my dearest love.  Enough!  I beg you.  Stop believing in your experience.  You have never known love.  My very soul is leaving me! Catch it on your lips, and give me yours!\n",
            "-\n",
            "Input sentence: I hope you know what you mean to me. Not just because of what you're doing. Because of who you are.\n",
            "Result sentence: No.  If he's lost somewhere is one this yearing asshole -- just like you.<END>\n",
            "Target sentence: I do know, Gary. I feel the same way. I thought I was coming here for a job. But it's meant a lot more.\n",
            "-\n",
            "Input sentence: Let the rest of the world beat their brains out for a buck. It's friends that count. And I got friends.\n",
            "Result sentence: I'll do better than that. I'll send you off with your own private guide.<END>\n",
            "Target sentence: I love you, Max. I really mean it. I love you. Come to the pantry.\n",
            "-\n",
            "Input sentence: ...People catch on quick to such an item.  Van Cleve already called me - he's firing the quintet.\n",
            "Result sentence: That would presuppose a feeling, Commander... compassion. I sensed I was just thinking you say, huh he has to between off tonight. He won't tell you what.<END>\n",
            "Target sentence: Then what are you doing here?  Go over there and fight!  If Van Cleve fires your boy, it gives a lie the ring of truth!\n",
            "-\n",
            "Input sentence: Sorry about not ringing back.  The whole two-names concept was totally too much for my flatman's pea-sized intellect.\n",
            "Result sentence: Hey, why don't you swallow your cock and choke on our diff.  Bright to hear and that's a copal and I will have to do with this sitting looken down at firmonic on the champer, wait.<END>\n",
            "Target sentence: No, it's a stupid privacy thing.  I always choose a cartoon character -- last time out, I was Mrs. Bambi.\n",
            "-\n",
            "Input sentence: Naked girls, wild sex, video games. No wonder it's called \"Heaven.\"\n",
            "Result sentence: All of us undomesticated writers eventually make their way out here to the stafe care.                                                                                                                                                                           \n",
            "Target sentence: This is a fun place...but we don't usually come here until after the orgies.\n",
            "-\n",
            "Input sentence: D'Artagnan... Those are young Musketeers down there.  They have been weaned on our legends.  They revere us -- it is an advantage. Why don't we charge them?\n",
            "Result sentence: I thought this way I can puss you for this none of Mominard\" will bun as if you don't want to have a little basebology to get it back.<END>\n",
            "Target sentence: I trained those men myself.  They will stand and fight.  But if we are to die, let it be this way.\n",
            "-\n",
            "Input sentence: In the sheriff's report, Mrs. Mercer, it says you were at Dealey Plaza two hours before the assassination but that...\n",
            "Result sentence: And if they saw me pitch the way I did today -- they'd hire me just to strike out Babe Ruth!<END>\n",
            "Target sentence: Yes, it was about 11 in the morning. I was driving west on Elm Street toward the Triple Underpass, in a rented car - a blue Valiant.  I'll never forget that day.\n",
            "-\n",
            "Input sentence: Mrs. Hallstrom, why don't you join my family for dinner. You'll love my Grandma Rosa.\n",
            "Result sentence: That would presuppose a feeling, Commander... compassion. I sensed I was just thinking you say, huh he has to between off tonight. He won't tell you what.<END>\n",
            "Target sentence: That's so sweet, Michael. But, really, I've so many things to do.\n",
            "-\n",
            "Input sentence: He's so spooked he'd turn over his momma, his daddy, his two-panny granny, and Anna and the King of Siam if he had anything on him.\n",
            "Result sentence: Why not?  You think I can afford a suite like that on my salary? Is Jean-Claude done yet?\t\t\t\t\t\t*<END>\n",
            "Target sentence: This rabbit'll do anything not to do time, including wearing a wire.\n",
            "-\n",
            "Input sentence: Ma'am.  Your husband, Bernie.  You didn't, by any chance, lead him to the lake blindfolded?\n",
            "Result sentence: You sold me out. You should have trusted me like I trusted you. You fucked up. You fucked up HUGE.<END>\n",
            "Target sentence: <u>No</u>, <u>I</u> <u>did</u> <u>not</u>.  The crocodile <u>did</u> kill him, though. But it was all... it was a mistake.\n",
            "-\n",
            "Input sentence: I don't know the last time I've been out of the city... Hey, my arms are tanning. I used to tan great. We gotta stop soon so'se I can check on Spencer.\n",
            "Result sentence: I'm sorry, son, but you must have me confused with someone else. My name is Roger Murdock. I'm the co-pilot.<END>\n",
            "Target sentence: I'm sorry... I can't hear you. I can't turn my head all the way yet... tell her we can't hear her.\n",
            "-\n",
            "Input sentence: Carnivores hunt near stream beds.  Do you want to set up base camp or an all-you-can-eat people bar?\n",
            "Result sentence: Yeah.  I know what it's like to live with a secret, and worry about what people are gonna think of you... My girlfriend still doesn't know why her sweaters are always stretched out.<END>\n",
            "Target sentence: You heard his, Dieter.  Find a new spot.  And remember, we're after herbivores only -- no unnecessary risks.\n",
            "-\n",
            "Input sentence: Uhuh, uhuh, what's I tell ya? That sick piece of shit was a stone cold psycho.\n",
            "Result sentence: All these twond week - this happens you was gonna be with you and place.<END>\n",
            "Target sentence: You could've asked the cop, if you didn't just kill him. He talked about what he was going to do when he was slicing him up.\n",
            "-\n",
            "Input sentence: What's the use of asking, Gru -- he is at the train -- He will be there.\n",
            "Result sentence: What a heel!  I spend four dollars to get my hair marcelled, I buy me a new negligee, I bake him a great big pizza pie...  - and where were you?<END>\n",
            "Target sentence: The troupe, the scenery, everything -- all on board, waiting. You have a rehearsal in Vienna tomorrow morning. Come, Madam, are you mad?\n",
            "-\n",
            "Input sentence: Two bucks a buckle, Perryman. Look at that shine! Boonies'll cost you five.\n",
            "Result sentence: The contracts?  That's the easy part. Finding the money to buy the company, that's why - there are we got a disposmengeter.<END>\n",
            "Target sentence: Who's got two bucks? It's costing me every penny they pay us just to keep my old Lady and my kids in that motel.\n",
            "-\n",
            "Input sentence: You laugh now, but wait until you need a clean place to powder. This is New York city, Sister. Public sanitation does not run very high on the city hall agenda. You know what you can get off a toilet or doorknob? Let's do the list... Hepatitis, influenza, the flesh eating disease --\n",
            "Result sentence: Here's what's going to be my million wasn't always wasting you to get up in a shorp our suched a Map Brout... ... Hollan way it in the middle of this whole to speak for this respons... but the guy who hired the world have even taken time, then.<END>\n",
            "Target sentence: Here's what's going to happen. Gordo, we need to find a guy in Gillette's bank. Miles, we need papers, corporate, insurance...\n",
            "-\n",
            "Input sentence: So, Edwin, baby, this is Sunrise Confession time... what have you got for us?\n",
            "Result sentence: We have to cover both possibilities.  We'll take care of the Bridge.  Put you can do to your family.                                                                                                                                                             \n",
            "Target sentence: I... I... went to this bar... this very, ya know -- hard-to-get-in place... called Babbitt's...\n",
            "-\n",
            "Input sentence: And when he came home.  Did he write you about this?  Or phone, perhaps.\n",
            "Result sentence: But sir, I don't understand.  This report -- these treaxeds though, he will tell you Mr. Wila.<END>\n",
            "Target sentence: Just showed up at my door, big as life and twice as mean.  Wanted to talk to my son.\n",
            "-\n",
            "Input sentence: Kennedy. International terminal. Gordo with a black suitcase. You got Moonan under control?\n",
            "Result sentence: And if they saw me pitch the way I did today -- they'd hire me just to strike out Babe Ruth!<END>\n",
            "Target sentence: Don't worry about Moonan. We got him covered. When...?  It was him. There's a shipment coming through tonight. Kennedy.\n",
            "-\n",
            "Input sentence: Track with me, here...  They knew the \"Russians\" were undercover Feeb?  They should have no-showed.  But, no, these guys show anyway, and commit murder upon federal officers.  And steal all your money...  What does that say to you?\n",
            "Result sentence: It says, \"We do not fearth, Ann. HE in the planet will be in the case...                                                                                                                                                                                         \n",
            "Target sentence: It says, \"We do not fear you.\"  It says, \"Fuck off and die.\"  It says, \"We get down for recreation...\"\n",
            "-\n",
            "Input sentence: \"--We hold these truths to be self- evident, that all men are created equal, that they are endowed by their Creator with certain unalienable Rights--\"  Well--looks like the night shift's comin' on.\n",
            "Result sentence: The contracts?  That's the easy part. Finding the money to buy the company, that's why.<END>\n",
            "Target sentence: The Senator will please suspend until order is restored in the chamber.\n",
            "-\n",
            "Input sentence: Thanks. Sure is a hot day for driving. Late afternoon is better. You guys have plenty of time. Make Pittsburgh in two, maybe three hours.\n",
            "Result sentence: No, it's a stupid privacy thing.  I always choose a cartoon character -- last time out, I was so specially are a-man who cann't believe it's in nexer recess.<END>\n",
            "Target sentence: Hey, he's right!  Whaddya say, Charlie, huh? Play a little pool? Wait out the heat?\n",
            "-\n",
            "Input sentence: I knew it! I knew this was gonna happen! I had a bad feeling since last night. Remember? We are so totally fucked!\n",
            "Result sentence: Waitaminit, dudes! I got it! Maybe we can glue the tickets back together!<END>\n",
            "Target sentence: Waitaminit, dudes! I got it! Maybe we can glue the tickets back together!\n",
            "-\n",
            "Input sentence: I don't know. But it has gone far enough! I'm sick of it!  <b>Something must be done! Change has got to come around! They're taking all our laughter and burning it to the ground! Can't you see what this is leading to? A world of chains and ties and glue! We have to fight before they've taken every one! Something must be done!</b>\n",
            "Result sentence: I agree! The only way to save our future is to unite and fight!  <b>Something must be done! We must take action fast! My parents have gotten so strict they forgot they were children in the past!</b><END>\n",
            "Target sentence: I agree! The only way to save our future is to unite and fight!  <b>Something must be done! We must take action fast! My parents have gotten so strict they forgot they were children in the past!</b>\n",
            "-\n",
            "Input sentence: I never could figure out why this guy orders a traceable weapon to that post office box when you can go into any store in Texas, give a phony name and walk out with a cheap rifle which can never be traced.\n",
            "Result sentence: That's two hundred dollars a day? So he can get a hooker and a bourdence it...<END>\n",
            "Target sentence: Unless he or someone else wants him to get caught.  Maybe he never ordered the weapon, Lou.  Somebody else did. It was picked up at the post office early morning when Oswald's time sheet shows him clocked in at his job.  Lou, come alive.  These things are not adding up.\n",
            "-\n",
            "Input sentence: I'm accused of using some government wagons to ship personal property.\n",
            "Result sentence: Yeah, it's not the kind of thing you'd want to hang in the rec room.  You know what it needs any Grough of Dr. Kaniem I was read to be on mine.<END>\n",
            "Target sentence: Congress has been using our supply wagons for years to ship their black market goods -- probably their whores!\n",
            "-\n",
            "Input sentence: Alright, Alice... you'll be contacted by Inspector Rock. Arthur Rock. He'll be posing as a politician.\n",
            "Result sentence: I don't know.  It all happened so much as ifside you're a minute.                                                                                                                                                                                                \n",
            "Target sentence: Inspector Rock will pay you. In cash. A thousand dollars on the ninth of every month.\n",
            "-\n",
            "Input sentence: No response.  I'm not reading any Starfleet com traffic in this entire sector.\n",
            "Result sentence: The contracts?  That's the easy part. Finding the money to buy the company, that's why.<END>\n",
            "Target sentence: Captain, I've scanned the planet. The atmosphere contains a high concentration of methane, carbon monoxide and fluorine. The oceans have been chemically altered, as well.\n",
            "-\n",
            "Input sentence: Bruno called. In Europe, people are saying you're gonna die from drugs. They think they can cash in on your death.\n",
            "Result sentence: They're on their way...  Eoce.  It's that poor of right in the tentround... and he has to see sem.<END>\n",
            "Target sentence: When I was poor, everybody doubted I could make it. When I got rich, everyone said, `yeah, but he'll never keep it up.' Now everyone says `he's killing himself.' So I clean up, and then they say `Look. His art's dead.' I don't take drugs, anyway. I'm healthy now.\n",
            "-\n",
            "Input sentence: But it ain't runnin' away, Ma. All I wanta do is go away with another fella an' look aroun' for work by ourself--\n",
            "Result sentence: I'm going down to my cabin. I have to send a wireless-- see you later.                                                                                                                                                                                           \n",
            "Target sentence: Well, you ain't a-goin'! Ain't *nobody* else a-goin'! We *got* here an' we gonna *stay* here, together! As long as we got the fambly unbroke I ain't scared, but it's a long bitter road we got ahead of us--  --an' I'm here to tell ya ef anybody else tries to bust us up anymore I'm a-goin' cat wild with this here piece a bar-arn!\n",
            "-\n",
            "Input sentence: Sick stuff.  Necrophilia.  I wonder if they knew how sick they were.\n",
            "Result sentence: Me and her got a car -- nothing gets in the dayk to him that at open and puss he is cospett you in the gane of a time.<END>\n",
            "Target sentence: The Monster's lonely and he wants a friend, a girlfriend, somebody. What sick about that?\n",
            "-\n",
            "Input sentence: All the companies know. The faculties tell 'em. At the target schools.\n",
            "Result sentence: I don't know.  It all happened so Fast.  If I'd had a chance to Think about it I guess I probably Would've been scared but... Swear To God, Doc, I just don't know.<END>\n",
            "Target sentence: In exchange for endowments. They should just drop the pretense and name the schools after 'em.\n",
            "-\n",
            "Input sentence: Don't you think I have any feelings? What am I?  A bowl of fruit?  A tangerine that peels in a minute?\n",
            "Result sentence: Oh, and don't forget, you're shoving a pineapple up Hitler's ass at four o'clock.<END>\n",
            "Target sentence: I beg your pardon!  I turn myself inside out to help you and now I'm a heavy.  Here's your shoe, there's your coat, that's the door!\n",
            "-\n",
            "Input sentence: You've only searched -- what is it, sixteen hundred stars without a peep?  Try not to take it too personally.\n",
            "Result sentence: I'm not putting Twert luncky back the war stain the wild a dead dead down doubt to loss up.                                                                                                                                                                      \n",
            "Target sentence: Thank you, Mr. Sensitive.  I'm coming at this wrong... missing something... something...\n",
            "-\n",
            "Input sentence: We had the greatest afternoon of my life until Adrian made me tell her she had a heart-shaped ass.\n",
            "Result sentence: I will.  I'll pick you up on the same corner at three thirty-five, okay?<END>\n",
            "Target sentence: Maybe you love her. But what do I know? I'm baked out of my mind.\n",
            "-\n",
            "Input sentence: Not more than a year ago, a mob hung a man for stealing a horse.  For stealing a horse!  And, you dig up our dead.\n",
            "Result sentence: And I haven't been with anyone since my divorce. This has been a big deal for me, Maya -- hanging out with you, and last night. I want to get up stay up todight.<END>\n",
            "Target sentence: Are you saying I should be frightened? Is this a message passed on from Clergyman Steenwyck?\n",
            "-\n",
            "Input sentence: The fact is, that the milk has been spilled and now we need you to tell us how to clean it up.\n",
            "Result sentence: It's cosmetic. They don't cover cosmetic. Last year I had a tooth capped. The dentist tells me I'm not covered for caps. It's cosmetic.<END>\n",
            "Target sentence: Cleaned up?  It can't be cleaned up! Without the nanobot the waste can't be stabilized!  That's what we've been trying to tell you!  The only thing we can do is run!  Run!  Run!\n",
            "-\n",
            "Input sentence: None of these are ours.  <u>None</u> of em are ours....  ....that's <u>real politik</u>, Buddy.\n",
            "Result sentence: I told you what to do. Drive around the corner out of sight of the house. I want to get a closer look at the place.<END>\n",
            "Target sentence: Waal, I gotta tell you.  I've been inside the Beltway fourteen years, and I feel like I Just Got My Feet Wet.\n",
            "-\n",
            "Input sentence: Doc, these are my friends. We're superheroes, and we need your help.\n",
            "Result sentence: Well, if the bugs have hatched, and they're not here... then where are they?<END>\n",
            "Target sentence: Well, I give to the United Way, and I feel that sort of covers --\n",
            "-\n",
            "Input sentence: .... I hate to ask, but... Did you ever think you'd miss Communism?\n",
            "Result sentence: I gotta tell you, that guy scares me a lot more than she's with himselfhing land?<END>\n",
            "Target sentence: We serve the interests of the British people, 007. No matter who we may be foolish enough to elect.\n",
            "-\n",
            "Input sentence: You're hitting Rutherford's Auction House.  Easy as my brother's wife.  Directions are in the bag.  Just open the seventh floor safe and take out the thingie...\n",
            "Result sentence: Alright, Ms. Paleontologist.  I wanna know why that monster is here.  You got a theory?<END>\n",
            "Target sentence: Or you cut off my thingie. Directions even your brother would understand.\n",
            "-\n",
            "Input sentence: Yeah, all right, don't tell me, I'll go along with it, it's just irritating to me I can't figure it out.\n",
            "Result sentence: All I want you to do is think about what's best for you.  What are you looking for?<END>\n",
            "Target sentence: All you have to do is tell me what it's worth to you.  What's a person worth to you.\n",
            "-\n",
            "Input sentence: She said, 'I know you love me, Mac, but you've never loved me enough.'\n",
            "Result sentence: No. It's important to be a money mother making than subs.  Not a lot of money, will you get out of here.<END>\n",
            "Target sentence: Not loving enough. That is a terrible thing to do to someone. I suppose I did it to Clive. Always held something back.\n",
            "-\n",
            "Input sentence: \"4/17: Subject, when unaware of observation, prefers to hold eating utensils...with feet. Successfully carves turkey roll holding eating utensils...with feet.\"\n",
            "Result sentence: The only other thing I can think of is for somebody to crawl in there and flush it out.<END>\n",
            "Target sentence: They had a case like that at Johns Hopkins. Wires got crossed between hands and feet.\n",
            "-\n",
            "Input sentence: These are Ich Luge bullets. My grandfather snared a shitload of them in W.W. Two. They're like tranquilizers only they break the surface of the skin, enough to cause blood, but not any real harm.\n",
            "Result sentence: So it looks like the person's been shot and killed when they're really just unconscious and bleeding.<END>\n",
            "Target sentence: So it looks like the person's been shot and killed when they're really just unconscious and bleeding.\n",
            "-\n",
            "Input sentence: He must have driven through a pool of blood. If the police stop you again, they may impound the car while they have the blood analyzed. Vaughan kneels beside him and inspects the smears of blood.\n",
            "Result sentence: Well, he put me in a spot, didn't he? But that's all right- after all, I'm responsible for everything that happens here. And it certainly won't do much for morale if a man-eater's on the prowl.<END>\n",
            "Target sentence: You're right, Ballard. There's an all- night car-wash in the airport service area.\n",
            "-\n",
            "Input sentence: There's my little darling.  The night wouldn't be complete without you.\n",
            "Result sentence: You know, I don't know it would beat since hirdaybat--ed in place with you back and stay in the first place?<END>\n",
            "Target sentence: Yeah, mom cut me some slack -- but I decided ... I'd like to be here for you.  Here, mom.  You can have it back.  Thanks, though.\n",
            "-\n",
            "Input sentence: I'm sure you'll excuse me if I am not gracious, but you see, Major Strasser, I'm a Czechoslovakian.\n",
            "Result sentence: All right already.  I'll take it off.  And if we ran into any more Iraqis you know he'd sell up on my own show and I'm ausone never snated to see the transwer.                                                                                                  \n",
            "Target sentence: You were a Czechoslovakian. Now you are a subject of the German Reich!\n",
            "-\n",
            "Input sentence: Okay. If you've never kissed a guy, we got bigger problems than the underwear.\n",
            "Result sentence: I want to protect the boy. I also want to protect Suspect Zero -- from you.<END>\n",
            "Target sentence: I've kissed guys. I've just never kissed a guy. Felt that thing--\n",
            "-\n",
            "Input sentence: After all your posturing, all your speeches...you're nothing but a common thief.\n",
            "Result sentence: I'm an exceptional thief, Mrs. McClane. And now that I'm moving up to kidnapping, you should be more polite.<END>\n",
            "Target sentence: I'm an exceptional thief, Mrs. McClane. And now that I'm moving up to kidnapping, you should be more polite.\n",
            "-\n",
            "Input sentence: I mean...Your Majesty, they do not, they have not, but I believe there is one who can\n",
            "Result sentence: Well, you can live here as long as you want. I want you to make love to me. My job's who killed Finane Carchass, but keep drownned what he doesn't know it would ond hardly love to me.<END>\n",
            "Target sentence: Lady Viola is...young in the world. Your Majesty is wise in it. Nature and truth are the very enemies of playacting. I'll wager my fortune.\n",
            "-\n",
            "Input sentence: Oh, no, Harold.  He doesn't respond well to humor.  Maybe if you talk to Mother she can ...\n",
            "Result sentence: I'm trying to spare you an embarrassment.  Johnny Roselli is on his way back here.<END>\n",
            "Target sentence: I'd rather get a whipping than have another talk with her.  Anything but a talk with her.\n",
            "-\n",
            "Input sentence: If we launch the third wave and annihilate their fuel depots, we destroy their ability to operate in the Pacific for at least a year!\n",
            "Result sentence: Yeah -- you can really get hung up on them like the cat in the Delta.<END>\n",
            "Target sentence: And if we fail, and lose our carriers, we destroy our ability to fight them at all.  As soon as the second wave returns, we will withdraw.\n",
            "-\n",
            "Input sentence: One hour, y'hear?  Some Saturday night date you are.  Mama warned me this would happen if I married such a serious man.\n",
            "Result sentence: Aw, come on. Be a sport. Just dance with her one time and you'll give her the trees of because a psychol?<END>\n",
            "Target sentence: Oh, she did, huh?  When I come up I'll show you how Saturday night got invented.\n",
            "-\n",
            "Input sentence: Ms. President, this is communist paranoia right out of War of the Worlds.  There is no reason whatsoever to believe the ETIs intentions are hostile.  We pose no threat to them -- it would be like us going out of our way to destroy microbes on a beach in Africa.\n",
            "Result sentence: Interesting analogy.  And how guilty would we feel if we happened to destroy some microbes on a beach in Africa?<END>\n",
            "Target sentence: Interesting analogy.  And how guilty would we feel if we happened to destroy some microbes on a beach in Africa?\n",
            "-\n",
            "Input sentence: Well, Mr. Smarty-Pants Detective, your logic is specious.  What prevented Mr. Acme from putting the will back in the safe before they killed him?\n",
            "Result sentence: I don't mind him...but I do think it's time for him to get back down below with the rest of the playgroup.<END>\n",
            "Target sentence: Because he's not forty feet tall.  The safe was up on the ceiling, remember?\n",
            "-\n",
            "Input sentence: Let's hear from you, you goddam Yankee. Be nice to see you some time.\n",
            "Result sentence: Who cares what you think.  I know that for us to come charge.  Let's be any more revodian to night.  I do.<END>\n",
            "Target sentence: Like the Spearchucker said, that's possible. Anyway, it's been an interesting association.\n",
            "-\n",
            "Input sentence: The estate stuff is pretty straight forward.  Just lots of forms and an appearance at the county seat.\n",
            "Result sentence: It is no trouble at all, my child. This is the strange, vicarious pleasure that remains for me -- to see others enjoy the belonging over with you.<END>\n",
            "Target sentence: It will take some time for the forms to clear before you go to Gettysburg.\n",
            "-\n",
            "Input sentence: Here's that certified check, Walter.  I drew out my wife's savings, and if this isn't back by 5:30 I'm a ruined man!\n",
            "Result sentence: Any problems, you remind them those chains of commands end at one place. Me.<END>\n",
            "Target sentence: Don't worry, Duffy, you'll have it back by five.  Thanks, Duffy. Stick around. \n",
            "-\n",
            "Input sentence: Yeah. I know. Leather would be more practical, but whatcha gonna do?\n",
            "Result sentence: Mistake? We're all alone here.  In the best feectures from one people down the war?<END>\n",
            "Target sentence: Miles, I know you're busy and that you charge by the hour so I'll come to the point. Howard and I are planning to marry.\n",
            "-\n",
            "Input sentence: I'd like to talk to you, I really would, but my lawyers say I shouldn't until after the Watergate trial.\n",
            "Result sentence: That's what I'm talking about it with the Frenking is will take this philosophible.<END>\n",
            "Target sentence: You handed out the money. Maybe there's a legitimate explanation for the way it was done--\n",
            "-\n",
            "Input sentence: If I could accept the offer right now, I would.  They took it back.\n",
            "Result sentence: I want to protect the boy. I also want to protect Suspect Zero -- from you.<END>\n",
            "Target sentence: I understand.  I went to the Bar Association. They tell me you're going to be disbarred.\n",
            "-\n",
            "Input sentence: With you? I don't understand why you can't just show someone how to plant the virus, somebody trained for this kind of mission?\n",
            "Result sentence: I'm not putting Tincernens. That's when he says it's about !-  I bust like you.<END>\n",
            "Target sentence: If anything goes wrong I'll have to think quickly, adjust the signal, who knows?\n",
            "-\n",
            "Input sentence: Here we are.  Rembrandt's drawings. Edward Hopper. Van Gogh's letters.\n",
            "Result sentence: I'm not putting Tincernen.  I never wait it on a semality and I have all night to say you had an after.  I brother Jeanake You been chame's got 'emotionals, that would be a must fuckin' tubout at the bankmadn solthies - and every thing you know about this c\n",
            "Target sentence: Pick two or three. Now that the coffers are open, you might as well take advantage of me.\n",
            "-\n",
            "Input sentence: Well--it started with a little mimeograph sheet--and it's just grown out of all sense and reason--\n",
            "Result sentence: I don't mean everyone.  Just people who can do things because they can arrest people or convict them.  And that's the kind of danger.<END>\n",
            "Target sentence: Excellent! Excellent! My boy, I'm convinced our State has a great debt of gratitude to you--\n",
            "-\n",
            "Input sentence: Objection!  May I remind Mr. Dulaney that the person on trial here is Miss Lawson -- not Dr. Paley.\n",
            "Result sentence: Your Honor: I imagine that, no matter how careful my questioning, Mr. Ortega would, in his well-intentioned way, dig my client's hole even deeper.<END>\n",
            "Target sentence: Your Honor, I'm trying to establish a pattern in Dr. Paley's behavior with women.\n",
            "-\n",
            "Input sentence: Let's concentrate on my smarts. Pierce Patchett made you, didn't he?  He taught you how to dress and talk and think and I am very impressed with the results.  But I need some answers and if I don't get them, I'm going to take you and Patchett down.\n",
            "Result sentence: He can take care of himself and I'm not afraid of you.  And you forgot one thing, Lieutenant. Pierce also taught me how to fuck you!<END>\n",
            "Target sentence: He can take care of himself and I'm not afraid of you.  And you forgot one thing, Lieutenant. Pierce also taught me how to fuck... Can I get you a drink?\n",
            "-\n",
            "Input sentence: Ed, you're 30.  Your father didn't make lieutenant until he was 33.\n",
            "Result sentence: I know that for six months you've worked hard and asked for little. That you're a good and honest man. What more need I know?<END>\n",
            "Target sentence: I know that, sir.  I also know that when he made lieutenant, it was as a detective.\n",
            "-\n",
            "Input sentence: No dates indicated, placed on the shelves in no discernible order.  It's just his mind poured out on paper.  I don't think it's going to give us any specifics.\n",
            "Result sentence: The weather's good, I already checked, but I'll be off in a minute.<END>\n",
            "Target sentence: Looking around... I've got a bad feeling these murders are his life's work.\n",
            "-\n",
            "Input sentence: Let me clarify things for you, Jeanne.  On the one hand there is the Church Triumphant, that is to say God, his saints, and the souls that are saved.  And then there is the Church Militant, that is to say our Holy Father the Pope, the cardinals, the prelates of the Church, the clergy, and all good Catholic Christians.  Moreover this Church, when assembled, is guided by the Holy Spirit and therefore cannot be in error.  That is why we ask you to submit to the Church Militant... that is to say, us.\n",
            "Result sentence: So it is the Church Militant that refuses to confess me, and so prevents me from being a good Christian?<END>\n",
            "Target sentence: So it is the Church Militant that refuses to confess me, and so prevents me from being a good Christian?\n",
            "-\n",
            "Input sentence: Jesus Jumped-Up Christ! If this were to fall into the wrong hands...\n",
            "Result sentence: It's a dog, what else you got, sport, besides connections at the airport?<END>\n",
            "Target sentence: It gets worse. The unit wasn't finished. It has a flaw - the casing. If hit hard enough, it could break open, releasing the virus.\n",
            "-\n",
            "Input sentence: I meet gestapo tactics...I meet gestapo tactics...That's not right... No man has the right to...\"Call an attorney,\" that means you're guilt... you're under sus...\"Co...,\" he says, \"cooperate\" or we'll go downtown.  That's not...as long as I've...\n",
            "Result sentence: Will you get out of here.  Will you get out of here.  Will you.  I'm trying to run an office here.  Will you go to lunch?  Go to lunch. Will you go to lunch? <END>\n",
            "Target sentence: Will you get out of here.  Will you get out of here.  Will you.  I'm trying to run an office here.  Will you go to lunch?  Go to lunch. Will you go to lunch? \n",
            "-\n",
            "Input sentence: Say something, Theo. Give me something. A doll's legs catch fire. Theo stares into Sheila's eyes.\n",
            "Result sentence: You know, I don't know if I could do this even if I wanted to. The Gaming Commission would never give me a little straight with the skill about a high contains as a gut.<END>\n",
            "Target sentence: Plan C. From now on it's gonna be plan C. Both bodies throb and grind, their sandy hands sliding over each others' sweaty skin.\n",
            "-\n",
            "Input sentence: Oh, I do that all the time. Whenever I have a few minutes after lunch.\n",
            "Result sentence: This is to make sure you stay cured. Georgie hits Alex in the stomach with his blackjack. Then, they push his head under the water and methodically start to beat him with their blackjacks.  The only after I betray the most important to sack you all your fat\n",
            "Target sentence: Ever get shot at, run over, sandbagged at night because people got unfavorable publicity from your camera?\n",
            "-\n",
            "Input sentence: Nice girl, that--  I'd hate to see <U>her</U> get a raw deal.  You know, the great trouble with crooks is they're <U>too</U> smart. Now if I'd taken that bracelet, I'd find some way to slip it back--I'd know I could never get ashore with it.\n",
            "Result sentence: Anybody that's taken the trouble to get it would be a mug to put it back.<END>\n",
            "Target sentence: Anybody that's taken the trouble to get it would be a mug to put it back.\n",
            "-\n",
            "Input sentence: But, Mrs. Lowood, I can't just stay here not knowing what's happened to my sister. Maybe if I went to New York -- if I saw Mrs. Redi myself --\n",
            "Result sentence: I didn't know what really being alone was.  No one back here believe me -- the kind of guy thinks you've got turnse, Perseartake I want an charcean bark.<END>\n",
            "Target sentence: I doubt if you'll get anything out of that woman. But if  you'd like to try, I'll advance you the money to make the trip to New York. Of course, my dear, if you don't find your sister, you can always come back here.\n",
            "-\n",
            "Input sentence: I guess I'll try to back it out on the rim... at least to the main road.\n",
            "Result sentence: I thought this way you got James of related my ass a down.  We can do anything out about.                                                                                                                                                                        \n",
            "Target sentence: If you keep going straight you can get back on the interstate... it's easier.\n"
          ],
          "name": "stdout"
        }
      ]
    },
    {
      "cell_type": "markdown",
      "metadata": {
        "id": "LhSxL9vSP9-S"
      },
      "source": [
        "# Вспомогательные вычисления"
      ]
    },
    {
      "cell_type": "code",
      "metadata": {
        "colab": {
          "base_uri": "https://localhost:8080/",
          "height": 204
        },
        "id": "JY5hF1iypd-m",
        "outputId": "0a99fa67-e801-48ca-b8d2-c3d045a4134a"
      },
      "source": [
        "sum_lite=sum_char[sum_char['order']>2].sort_values('order',ascending=False)\r\n",
        "sum_lite.head()"
      ],
      "execution_count": null,
      "outputs": [
        {
          "output_type": "execute_result",
          "data": {
            "text/html": [
              "<div>\n",
              "<style scoped>\n",
              "    .dataframe tbody tr th:only-of-type {\n",
              "        vertical-align: middle;\n",
              "    }\n",
              "\n",
              "    .dataframe tbody tr th {\n",
              "        vertical-align: top;\n",
              "    }\n",
              "\n",
              "    .dataframe thead th {\n",
              "        text-align: right;\n",
              "    }\n",
              "</style>\n",
              "<table border=\"1\" class=\"dataframe\">\n",
              "  <thead>\n",
              "    <tr style=\"text-align: right;\">\n",
              "      <th></th>\n",
              "      <th>characterID_f</th>\n",
              "      <th>characterID_s</th>\n",
              "      <th>movieID</th>\n",
              "      <th>order</th>\n",
              "    </tr>\n",
              "  </thead>\n",
              "  <tbody>\n",
              "    <tr>\n",
              "      <th>609</th>\n",
              "      <td>u1469</td>\n",
              "      <td>u1475</td>\n",
              "      <td>166</td>\n",
              "      <td>166</td>\n",
              "    </tr>\n",
              "    <tr>\n",
              "      <th>5184</th>\n",
              "      <td>u5064</td>\n",
              "      <td>u5065</td>\n",
              "      <td>152</td>\n",
              "      <td>152</td>\n",
              "    </tr>\n",
              "    <tr>\n",
              "      <th>9377</th>\n",
              "      <td>u8408</td>\n",
              "      <td>u8409</td>\n",
              "      <td>113</td>\n",
              "      <td>113</td>\n",
              "    </tr>\n",
              "    <tr>\n",
              "      <th>2219</th>\n",
              "      <td>u2735</td>\n",
              "      <td>u2738</td>\n",
              "      <td>111</td>\n",
              "      <td>111</td>\n",
              "    </tr>\n",
              "    <tr>\n",
              "      <th>4357</th>\n",
              "      <td>u4404</td>\n",
              "      <td>u4405</td>\n",
              "      <td>109</td>\n",
              "      <td>109</td>\n",
              "    </tr>\n",
              "  </tbody>\n",
              "</table>\n",
              "</div>"
            ],
            "text/plain": [
              "     characterID_f characterID_s  movieID  order\n",
              "609          u1469         u1475      166    166\n",
              "5184         u5064         u5065      152    152\n",
              "9377         u8408         u8409      113    113\n",
              "2219         u2735         u2738      111    111\n",
              "4357         u4404         u4405      109    109"
            ]
          },
          "metadata": {
            "tags": []
          },
          "execution_count": 12
        }
      ]
    },
    {
      "cell_type": "code",
      "metadata": {
        "colab": {
          "base_uri": "https://localhost:8080/",
          "height": 282
        },
        "id": "7_oSW2rkuL1-",
        "outputId": "5c6171db-a1c2-458c-a04b-95e784e72d18"
      },
      "source": [
        "sum_lite.order.agg(np.log10).hist()"
      ],
      "execution_count": null,
      "outputs": [
        {
          "output_type": "execute_result",
          "data": {
            "text/plain": [
              "<matplotlib.axes._subplots.AxesSubplot at 0x7f630422c080>"
            ]
          },
          "metadata": {
            "tags": []
          },
          "execution_count": 14
        },
        {
          "output_type": "display_data",
          "data": {
            "image/png": "[encoded data removed]",
            "text/plain": [
              "<Figure size 432x288 with 1 Axes>"
            ]
          },
          "metadata": {
            "tags": [],
            "needs_background": "light"
          }
        }
      ]
    },
    {
      "cell_type": "code",
      "metadata": {
        "id": "KMzpYqsTEYzR"
      },
      "source": [
        "rel=sum_lite['characterID_f'].values+','+sum_lite['characterID_s'].values\r\n",
        "rel_list=[]\r\n",
        "for i in range(len(rel)):\r\n",
        "  rel_list.append(rel[i].split(',')) \r\n",
        "for i  in range(len(rel_list)-1):\r\n",
        "  for m in range(i,len(rel_list)):\r\n",
        "    if (rel_list[i][1]==rel_list[m][0]):\r\n",
        "      print(rel_list[i],rel_list[m])"
      ],
      "execution_count": null,
      "outputs": []
    },
    {
      "cell_type": "code",
      "metadata": {
        "id": "Pt3fzbdjYcr_"
      },
      "source": [
        "data_fpath = '/content/movie_titles_metadata_utf.txt'\r\n",
        "max_sentences = 10000\r\n",
        "\r\n",
        "LmovieID=[]\r\n",
        "Lmovie_title=[]\r\n",
        "Lmovie_year=[]\r\n",
        "LIMDB_rating=[]\r\n",
        "Lno_IMDB_votes=[]\r\n",
        "Lgenres=[]\r\n",
        "\r\n",
        "#lines = codecs.open(data_fpath, 'r', encoding='ANSI').readlines()#[:max_sentences]\r\n",
        "lines = codecs.open(data_fpath, 'r').readlines()#[:max_sentences]\r\n",
        "for line in lines:\r\n",
        "    movieID, movie_title, movie_year, IMDB_rating,no_IMDB_votes,genres,= line.split(' +++$+++ ')#[:2]\r\n",
        "    LmovieID.append(movieID)\r\n",
        "    Lmovie_title.append(movie_title)\r\n",
        "    Lmovie_year.append(movie_year)\r\n",
        "    LIMDB_rating.append(IMDB_rating)\r\n",
        "    Lno_IMDB_votes.append(no_IMDB_votes)\r\n",
        "    ge= re.sub(\"']\\n\",'',genres)\r\n",
        "    ge= re.sub(\"\\['\",'',ge)\r\n",
        "    ge= re.sub(\"'\",'',ge)\r\n",
        "    ge=re.split(',',ge)   \r\n",
        "    Lgenres.append(ge)         "
      ],
      "execution_count": null,
      "outputs": []
    },
    {
      "cell_type": "code",
      "metadata": {
        "id": "RWGE2VFN_2Nr",
        "colab": {
          "base_uri": "https://localhost:8080/"
        },
        "outputId": "9d676774-c27d-45b5-dae4-254662730463"
      },
      "source": [
        "np_movie_titles_metadata=np.asarray((LmovieID, Lmovie_title,Lmovie_year,LIMDB_rating,Lno_IMDB_votes,Lgenres)).T\r\n"
      ],
      "execution_count": null,
      "outputs": [
        {
          "output_type": "stream",
          "text": [
            "/usr/local/lib/python3.6/dist-packages/numpy/core/_asarray.py:83: VisibleDeprecationWarning: Creating an ndarray from ragged nested sequences (which is a list-or-tuple of lists-or-tuples-or ndarrays with different lengths or shapes) is deprecated. If you meant to do this, you must specify 'dtype=object' when creating the ndarray\n",
            "  return array(a, dtype, copy=False, order=order)\n"
          ],
          "name": "stderr"
        },
        {
          "output_type": "execute_result",
          "data": {
            "text/plain": [
              "array(['m9', 'the atomic submarine', '1959', '4.90', '513',\n",
              "       list(['sci-fi', ' thriller'])], dtype=object)"
            ]
          },
          "metadata": {
            "tags": []
          },
          "execution_count": 92
        }
      ]
    },
    {
      "cell_type": "code",
      "metadata": {
        "colab": {
          "base_uri": "https://localhost:8080/",
          "height": 336
        },
        "id": "En8itRhaD4Nf",
        "outputId": "7b631129-bfd7-4651-8045-8610227f92e2"
      },
      "source": [
        "df_movie_titles_metadata.head()"
      ],
      "execution_count": null,
      "outputs": [
        {
          "output_type": "execute_result",
          "data": {
            "text/html": [
              "<div>\n",
              "<style scoped>\n",
              "    .dataframe tbody tr th:only-of-type {\n",
              "        vertical-align: middle;\n",
              "    }\n",
              "\n",
              "    .dataframe tbody tr th {\n",
              "        vertical-align: top;\n",
              "    }\n",
              "\n",
              "    .dataframe thead th {\n",
              "        text-align: right;\n",
              "    }\n",
              "</style>\n",
              "<table border=\"1\" class=\"dataframe\">\n",
              "  <thead>\n",
              "    <tr style=\"text-align: right;\">\n",
              "      <th></th>\n",
              "      <th>movieID</th>\n",
              "      <th>movie_title</th>\n",
              "      <th>movie_year</th>\n",
              "      <th>IMDB_rating</th>\n",
              "      <th>no. IMDB_votes</th>\n",
              "      <th>genres</th>\n",
              "    </tr>\n",
              "  </thead>\n",
              "  <tbody>\n",
              "    <tr>\n",
              "      <th>0</th>\n",
              "      <td>m0</td>\n",
              "      <td>10 things i hate about you</td>\n",
              "      <td>1999</td>\n",
              "      <td>6.90</td>\n",
              "      <td>62847</td>\n",
              "      <td>[comedy,  romance]</td>\n",
              "    </tr>\n",
              "    <tr>\n",
              "      <th>1</th>\n",
              "      <td>m1</td>\n",
              "      <td>1492: conquest of paradise</td>\n",
              "      <td>1992</td>\n",
              "      <td>6.20</td>\n",
              "      <td>10421</td>\n",
              "      <td>[adventure,  biography,  drama,  history]</td>\n",
              "    </tr>\n",
              "    <tr>\n",
              "      <th>2</th>\n",
              "      <td>m2</td>\n",
              "      <td>15 minutes</td>\n",
              "      <td>2001</td>\n",
              "      <td>6.10</td>\n",
              "      <td>25854</td>\n",
              "      <td>[action,  crime,  drama,  thriller]</td>\n",
              "    </tr>\n",
              "    <tr>\n",
              "      <th>3</th>\n",
              "      <td>m3</td>\n",
              "      <td>2001: a space odyssey</td>\n",
              "      <td>1968</td>\n",
              "      <td>8.40</td>\n",
              "      <td>163227</td>\n",
              "      <td>[adventure,  mystery,  sci-fi]</td>\n",
              "    </tr>\n",
              "    <tr>\n",
              "      <th>4</th>\n",
              "      <td>m4</td>\n",
              "      <td>48 hrs.</td>\n",
              "      <td>1982</td>\n",
              "      <td>6.90</td>\n",
              "      <td>22289</td>\n",
              "      <td>[action,  comedy,  crime,  drama,  thriller]</td>\n",
              "    </tr>\n",
              "  </tbody>\n",
              "</table>\n",
              "</div>"
            ],
            "text/plain": [
              "  movieID  ...                                        genres\n",
              "0      m0  ...                            [comedy,  romance]\n",
              "1      m1  ...     [adventure,  biography,  drama,  history]\n",
              "2      m2  ...           [action,  crime,  drama,  thriller]\n",
              "3      m3  ...                [adventure,  mystery,  sci-fi]\n",
              "4      m4  ...  [action,  comedy,  crime,  drama,  thriller]\n",
              "\n",
              "[5 rows x 6 columns]"
            ]
          },
          "metadata": {
            "tags": []
          },
          "execution_count": 94
        }
      ]
    },
    {
      "cell_type": "code",
      "metadata": {
        "id": "_mcR-wccBdhy"
      },
      "source": [
        "Lposition"
      ],
      "execution_count": null,
      "outputs": []
    },
    {
      "cell_type": "markdown",
      "metadata": {
        "id": "ZpFqVPiDCKez"
      },
      "source": [
        "https://habr.com/ru/post/317732/\r\n",
        "\r\n",
        "https://habr.com/ru/company/meanotek/blog/256987/"
      ]
    },
    {
      "cell_type": "code",
      "metadata": {
        "id": "1b08xqXqJXhS"
      },
      "source": [
        "np_movie_titles_metadata=np.asarray((LmovieID, Lmovie_title,Lmovie_year,LIMDB_rating,Lno_IMDB_votes,Lgenres)).T"
      ],
      "execution_count": null,
      "outputs": []
    },
    {
      "cell_type": "code",
      "metadata": {
        "id": "kO8cVQikDL4H"
      },
      "source": [
        "df_movie_titles_metadata=pd.DataFrame(data=np_movie_titles_metadata,\r\n",
        "          index=np.array(range(len(np_movie_titles_metadata))),\r\n",
        "          columns=['movieID', 'movie_title','movie_year', 'IMDB_rating','no. IMDB_votes','genres'] )"
      ],
      "execution_count": null,
      "outputs": []
    },
    {
      "cell_type": "code",
      "metadata": {
        "id": "S-GnOO4dLaia"
      },
      "source": [
        "df_movie_characters_metadata=pd.read_table('/content/movie_characters_metadata.txt',sep=' +++$+++ ')"
      ],
      "execution_count": null,
      "outputs": []
    },
    {
      "cell_type": "code",
      "metadata": {
        "id": "M5RBak6dEkws"
      },
      "source": [
        "['characterID','character name','movieID','movie title','gender','position']"
      ],
      "execution_count": null,
      "outputs": []
    },
    {
      "cell_type": "code",
      "metadata": {
        "id": "QdeWqdeyQmO_"
      },
      "source": [
        "\t\t['movieID', 'movie_title','movie_year', 'IMDB_rating','no. IMDB_votes','genres'] "
      ],
      "execution_count": null,
      "outputs": []
    },
    {
      "cell_type": "code",
      "metadata": {
        "id": "L46kLCWkEJzj"
      },
      "source": [
        "data_fpath = '/content/movie_characters_metadata_utf2.txt'\r\n",
        "max_sentences = 10000\r\n",
        "\r\n",
        "LcharacterID=[]\r\n",
        "Lcharacter_name=[]\r\n",
        "LmovieID=[]\r\n",
        "Lmovie_title=[]\r\n",
        "Lgender=[]\r\n",
        "Lposition=[]\r\n",
        "#lines = codecs.open(data_fpath, 'r', encoding='ANSI').readlines()#[:max_sentences]\r\n",
        "i=0\r\n",
        "f = open(data_fpath)\r\n",
        "for line in f:\r\n",
        "    characterID,character_name,movieID,movie_title,gender,position= line.split(' +++$+++ ')\r\n",
        "    LcharacterID.append(characterID)\r\n",
        "    Lcharacter_name.append(character_name)\r\n",
        "    LmovieID.append(movieID)\r\n",
        "    Lmovie_title.append(movie_title)\r\n",
        "    Lgender.append(gender)\r\n",
        "    pos= re.sub(\"\\n\",'',position)\r\n",
        "    Lposition.append(pos)"
      ],
      "execution_count": null,
      "outputs": []
    },
    {
      "cell_type": "code",
      "metadata": {
        "id": "VeAx5A7wx11O"
      },
      "source": [
        "for i  in range(len(rel_list)-1):\r\n",
        "  for m in range(i,len(rel_list)):\r\n",
        "    if (rel_list[i][1]==rel_list[m][0]) and (rel_list[i][0]==rel_list[m][1]):\r\n",
        "      print(rel_list[i],rel_list[m])"
      ],
      "execution_count": null,
      "outputs": []
    },
    {
      "cell_type": "code",
      "metadata": {
        "colab": {
          "base_uri": "https://localhost:8080/"
        },
        "id": "rNHkDEqy-3wD",
        "outputId": "d586d69f-a260-476d-89e0-732ac82f81cc"
      },
      "source": [
        "sum_char['rel'].values"
      ],
      "execution_count": null,
      "outputs": [
        {
          "output_type": "execute_result",
          "data": {
            "text/plain": [
              "array(['u0,u11', 'u0,u2', 'u0,u3', ..., 'u998,u1004', 'u998,u1005',\n",
              "       'u999,u1006'], dtype=object)"
            ]
          },
          "metadata": {
            "tags": []
          },
          "execution_count": 94
        }
      ]
    },
    {
      "cell_type": "code",
      "metadata": {
        "id": "jwC1fm0otxAs"
      },
      "source": [
        "sum_char_h=df_movie_conversations.groupby(['characterID_f']).count().reset_index() "
      ],
      "execution_count": null,
      "outputs": []
    },
    {
      "cell_type": "code",
      "metadata": {
        "colab": {
          "base_uri": "https://localhost:8080/"
        },
        "id": "HfA4wFbNuH5Z",
        "outputId": "2bd91b30-40b5-4ce0-c82d-6d13f0ba0c49"
      },
      "source": [
        "sum_char_h.info()"
      ],
      "execution_count": null,
      "outputs": [
        {
          "output_type": "stream",
          "text": [
            "<class 'pandas.core.frame.DataFrame'>\n",
            "RangeIndex: 5420 entries, 0 to 5419\n",
            "Data columns (total 4 columns):\n",
            " #   Column         Non-Null Count  Dtype \n",
            "---  ------         --------------  ----- \n",
            " 0   characterID_f  5420 non-null   object\n",
            " 1   characterID_s  5420 non-null   int64 \n",
            " 2   movieID        5420 non-null   int64 \n",
            " 3   order          5420 non-null   int64 \n",
            "dtypes: int64(3), object(1)\n",
            "memory usage: 169.5+ KB\n"
          ],
          "name": "stdout"
        }
      ]
    },
    {
      "cell_type": "code",
      "metadata": {
        "id": "dTAkkRLuvvwn"
      },
      "source": [
        "sum_char_w=df_movie_conversations.groupby(['characterID_f','characterID_s']).order.count()"
      ],
      "execution_count": null,
      "outputs": []
    },
    {
      "cell_type": "code",
      "metadata": {
        "id": "vAvzovG1ykwp"
      },
      "source": [
        "matrix=sum_char_w.unstack().reset_index()"
      ],
      "execution_count": null,
      "outputs": []
    },
    {
      "cell_type": "code",
      "metadata": {
        "colab": {
          "base_uri": "https://localhost:8080/",
          "height": 249
        },
        "id": "uGQ1IQm2y9HK",
        "outputId": "49282e61-f79d-462f-b12e-59c606defd87"
      },
      "source": [
        "matrix.head()"
      ],
      "execution_count": null,
      "outputs": [
        {
          "output_type": "execute_result",
          "data": {
            "text/html": [
              "<div>\n",
              "<style scoped>\n",
              "    .dataframe tbody tr th:only-of-type {\n",
              "        vertical-align: middle;\n",
              "    }\n",
              "\n",
              "    .dataframe tbody tr th {\n",
              "        vertical-align: top;\n",
              "    }\n",
              "\n",
              "    .dataframe thead th {\n",
              "        text-align: right;\n",
              "    }\n",
              "</style>\n",
              "<table border=\"1\" class=\"dataframe\">\n",
              "  <thead>\n",
              "    <tr style=\"text-align: right;\">\n",
              "      <th>characterID_s</th>\n",
              "      <th>characterID_f</th>\n",
              "      <th>u1001</th>\n",
              "      <th>u1003</th>\n",
              "      <th>u1004</th>\n",
              "      <th>u1005</th>\n",
              "      <th>u1006</th>\n",
              "      <th>u1010</th>\n",
              "      <th>u1011</th>\n",
              "      <th>u1014</th>\n",
              "      <th>u1017</th>\n",
              "      <th>u1018</th>\n",
              "      <th>u1019</th>\n",
              "      <th>u1020</th>\n",
              "      <th>u1021</th>\n",
              "      <th>u1022</th>\n",
              "      <th>u1023</th>\n",
              "      <th>u1025</th>\n",
              "      <th>u1026</th>\n",
              "      <th>u1029</th>\n",
              "      <th>u1031</th>\n",
              "      <th>u1032</th>\n",
              "      <th>u1033</th>\n",
              "      <th>u1034</th>\n",
              "      <th>u1035</th>\n",
              "      <th>u1040</th>\n",
              "      <th>u1041</th>\n",
              "      <th>u1042</th>\n",
              "      <th>u1043</th>\n",
              "      <th>u1045</th>\n",
              "      <th>u1046</th>\n",
              "      <th>u1047</th>\n",
              "      <th>u1048</th>\n",
              "      <th>u1049</th>\n",
              "      <th>u105</th>\n",
              "      <th>u1054</th>\n",
              "      <th>u1060</th>\n",
              "      <th>u1061</th>\n",
              "      <th>u1063</th>\n",
              "      <th>u1064</th>\n",
              "      <th>u1065</th>\n",
              "      <th>...</th>\n",
              "      <th>u939</th>\n",
              "      <th>u940</th>\n",
              "      <th>u941</th>\n",
              "      <th>u944</th>\n",
              "      <th>u955</th>\n",
              "      <th>u956</th>\n",
              "      <th>u957</th>\n",
              "      <th>u958</th>\n",
              "      <th>u959</th>\n",
              "      <th>u96</th>\n",
              "      <th>u961</th>\n",
              "      <th>u962</th>\n",
              "      <th>u963</th>\n",
              "      <th>u964</th>\n",
              "      <th>u966</th>\n",
              "      <th>u967</th>\n",
              "      <th>u968</th>\n",
              "      <th>u969</th>\n",
              "      <th>u97</th>\n",
              "      <th>u970</th>\n",
              "      <th>u973</th>\n",
              "      <th>u974</th>\n",
              "      <th>u977</th>\n",
              "      <th>u979</th>\n",
              "      <th>u98</th>\n",
              "      <th>u980</th>\n",
              "      <th>u981</th>\n",
              "      <th>u982</th>\n",
              "      <th>u985</th>\n",
              "      <th>u986</th>\n",
              "      <th>u987</th>\n",
              "      <th>u988</th>\n",
              "      <th>u989</th>\n",
              "      <th>u99</th>\n",
              "      <th>u990</th>\n",
              "      <th>u991</th>\n",
              "      <th>u993</th>\n",
              "      <th>u994</th>\n",
              "      <th>u997</th>\n",
              "      <th>u998</th>\n",
              "    </tr>\n",
              "  </thead>\n",
              "  <tbody>\n",
              "    <tr>\n",
              "      <th>0</th>\n",
              "      <td>u0</td>\n",
              "      <td>NaN</td>\n",
              "      <td>NaN</td>\n",
              "      <td>NaN</td>\n",
              "      <td>NaN</td>\n",
              "      <td>NaN</td>\n",
              "      <td>NaN</td>\n",
              "      <td>NaN</td>\n",
              "      <td>NaN</td>\n",
              "      <td>NaN</td>\n",
              "      <td>NaN</td>\n",
              "      <td>NaN</td>\n",
              "      <td>NaN</td>\n",
              "      <td>NaN</td>\n",
              "      <td>NaN</td>\n",
              "      <td>NaN</td>\n",
              "      <td>NaN</td>\n",
              "      <td>NaN</td>\n",
              "      <td>NaN</td>\n",
              "      <td>NaN</td>\n",
              "      <td>NaN</td>\n",
              "      <td>NaN</td>\n",
              "      <td>NaN</td>\n",
              "      <td>NaN</td>\n",
              "      <td>NaN</td>\n",
              "      <td>NaN</td>\n",
              "      <td>NaN</td>\n",
              "      <td>NaN</td>\n",
              "      <td>NaN</td>\n",
              "      <td>NaN</td>\n",
              "      <td>NaN</td>\n",
              "      <td>NaN</td>\n",
              "      <td>NaN</td>\n",
              "      <td>NaN</td>\n",
              "      <td>NaN</td>\n",
              "      <td>NaN</td>\n",
              "      <td>NaN</td>\n",
              "      <td>NaN</td>\n",
              "      <td>NaN</td>\n",
              "      <td>NaN</td>\n",
              "      <td>...</td>\n",
              "      <td>NaN</td>\n",
              "      <td>NaN</td>\n",
              "      <td>NaN</td>\n",
              "      <td>NaN</td>\n",
              "      <td>NaN</td>\n",
              "      <td>NaN</td>\n",
              "      <td>NaN</td>\n",
              "      <td>NaN</td>\n",
              "      <td>NaN</td>\n",
              "      <td>NaN</td>\n",
              "      <td>NaN</td>\n",
              "      <td>NaN</td>\n",
              "      <td>NaN</td>\n",
              "      <td>NaN</td>\n",
              "      <td>NaN</td>\n",
              "      <td>NaN</td>\n",
              "      <td>NaN</td>\n",
              "      <td>NaN</td>\n",
              "      <td>NaN</td>\n",
              "      <td>NaN</td>\n",
              "      <td>NaN</td>\n",
              "      <td>NaN</td>\n",
              "      <td>NaN</td>\n",
              "      <td>NaN</td>\n",
              "      <td>NaN</td>\n",
              "      <td>NaN</td>\n",
              "      <td>NaN</td>\n",
              "      <td>NaN</td>\n",
              "      <td>NaN</td>\n",
              "      <td>NaN</td>\n",
              "      <td>NaN</td>\n",
              "      <td>NaN</td>\n",
              "      <td>NaN</td>\n",
              "      <td>NaN</td>\n",
              "      <td>NaN</td>\n",
              "      <td>NaN</td>\n",
              "      <td>NaN</td>\n",
              "      <td>NaN</td>\n",
              "      <td>NaN</td>\n",
              "      <td>NaN</td>\n",
              "    </tr>\n",
              "    <tr>\n",
              "      <th>1</th>\n",
              "      <td>u1</td>\n",
              "      <td>NaN</td>\n",
              "      <td>NaN</td>\n",
              "      <td>NaN</td>\n",
              "      <td>NaN</td>\n",
              "      <td>NaN</td>\n",
              "      <td>NaN</td>\n",
              "      <td>NaN</td>\n",
              "      <td>NaN</td>\n",
              "      <td>NaN</td>\n",
              "      <td>NaN</td>\n",
              "      <td>NaN</td>\n",
              "      <td>NaN</td>\n",
              "      <td>NaN</td>\n",
              "      <td>NaN</td>\n",
              "      <td>NaN</td>\n",
              "      <td>NaN</td>\n",
              "      <td>NaN</td>\n",
              "      <td>NaN</td>\n",
              "      <td>NaN</td>\n",
              "      <td>NaN</td>\n",
              "      <td>NaN</td>\n",
              "      <td>NaN</td>\n",
              "      <td>NaN</td>\n",
              "      <td>NaN</td>\n",
              "      <td>NaN</td>\n",
              "      <td>NaN</td>\n",
              "      <td>NaN</td>\n",
              "      <td>NaN</td>\n",
              "      <td>NaN</td>\n",
              "      <td>NaN</td>\n",
              "      <td>NaN</td>\n",
              "      <td>NaN</td>\n",
              "      <td>NaN</td>\n",
              "      <td>NaN</td>\n",
              "      <td>NaN</td>\n",
              "      <td>NaN</td>\n",
              "      <td>NaN</td>\n",
              "      <td>NaN</td>\n",
              "      <td>NaN</td>\n",
              "      <td>...</td>\n",
              "      <td>NaN</td>\n",
              "      <td>NaN</td>\n",
              "      <td>NaN</td>\n",
              "      <td>NaN</td>\n",
              "      <td>NaN</td>\n",
              "      <td>NaN</td>\n",
              "      <td>NaN</td>\n",
              "      <td>NaN</td>\n",
              "      <td>NaN</td>\n",
              "      <td>NaN</td>\n",
              "      <td>NaN</td>\n",
              "      <td>NaN</td>\n",
              "      <td>NaN</td>\n",
              "      <td>NaN</td>\n",
              "      <td>NaN</td>\n",
              "      <td>NaN</td>\n",
              "      <td>NaN</td>\n",
              "      <td>NaN</td>\n",
              "      <td>NaN</td>\n",
              "      <td>NaN</td>\n",
              "      <td>NaN</td>\n",
              "      <td>NaN</td>\n",
              "      <td>NaN</td>\n",
              "      <td>NaN</td>\n",
              "      <td>NaN</td>\n",
              "      <td>NaN</td>\n",
              "      <td>NaN</td>\n",
              "      <td>NaN</td>\n",
              "      <td>NaN</td>\n",
              "      <td>NaN</td>\n",
              "      <td>NaN</td>\n",
              "      <td>NaN</td>\n",
              "      <td>NaN</td>\n",
              "      <td>NaN</td>\n",
              "      <td>NaN</td>\n",
              "      <td>NaN</td>\n",
              "      <td>NaN</td>\n",
              "      <td>NaN</td>\n",
              "      <td>NaN</td>\n",
              "      <td>NaN</td>\n",
              "    </tr>\n",
              "    <tr>\n",
              "      <th>2</th>\n",
              "      <td>u10</td>\n",
              "      <td>NaN</td>\n",
              "      <td>NaN</td>\n",
              "      <td>NaN</td>\n",
              "      <td>NaN</td>\n",
              "      <td>NaN</td>\n",
              "      <td>NaN</td>\n",
              "      <td>NaN</td>\n",
              "      <td>NaN</td>\n",
              "      <td>NaN</td>\n",
              "      <td>NaN</td>\n",
              "      <td>NaN</td>\n",
              "      <td>NaN</td>\n",
              "      <td>NaN</td>\n",
              "      <td>NaN</td>\n",
              "      <td>NaN</td>\n",
              "      <td>NaN</td>\n",
              "      <td>NaN</td>\n",
              "      <td>NaN</td>\n",
              "      <td>NaN</td>\n",
              "      <td>NaN</td>\n",
              "      <td>NaN</td>\n",
              "      <td>NaN</td>\n",
              "      <td>NaN</td>\n",
              "      <td>NaN</td>\n",
              "      <td>NaN</td>\n",
              "      <td>NaN</td>\n",
              "      <td>NaN</td>\n",
              "      <td>NaN</td>\n",
              "      <td>NaN</td>\n",
              "      <td>NaN</td>\n",
              "      <td>NaN</td>\n",
              "      <td>NaN</td>\n",
              "      <td>NaN</td>\n",
              "      <td>NaN</td>\n",
              "      <td>NaN</td>\n",
              "      <td>NaN</td>\n",
              "      <td>NaN</td>\n",
              "      <td>NaN</td>\n",
              "      <td>NaN</td>\n",
              "      <td>...</td>\n",
              "      <td>NaN</td>\n",
              "      <td>NaN</td>\n",
              "      <td>NaN</td>\n",
              "      <td>NaN</td>\n",
              "      <td>NaN</td>\n",
              "      <td>NaN</td>\n",
              "      <td>NaN</td>\n",
              "      <td>NaN</td>\n",
              "      <td>NaN</td>\n",
              "      <td>NaN</td>\n",
              "      <td>NaN</td>\n",
              "      <td>NaN</td>\n",
              "      <td>NaN</td>\n",
              "      <td>NaN</td>\n",
              "      <td>NaN</td>\n",
              "      <td>NaN</td>\n",
              "      <td>NaN</td>\n",
              "      <td>NaN</td>\n",
              "      <td>NaN</td>\n",
              "      <td>NaN</td>\n",
              "      <td>NaN</td>\n",
              "      <td>NaN</td>\n",
              "      <td>NaN</td>\n",
              "      <td>NaN</td>\n",
              "      <td>NaN</td>\n",
              "      <td>NaN</td>\n",
              "      <td>NaN</td>\n",
              "      <td>NaN</td>\n",
              "      <td>NaN</td>\n",
              "      <td>NaN</td>\n",
              "      <td>NaN</td>\n",
              "      <td>NaN</td>\n",
              "      <td>NaN</td>\n",
              "      <td>NaN</td>\n",
              "      <td>NaN</td>\n",
              "      <td>NaN</td>\n",
              "      <td>NaN</td>\n",
              "      <td>NaN</td>\n",
              "      <td>NaN</td>\n",
              "      <td>NaN</td>\n",
              "    </tr>\n",
              "    <tr>\n",
              "      <th>3</th>\n",
              "      <td>u100</td>\n",
              "      <td>NaN</td>\n",
              "      <td>NaN</td>\n",
              "      <td>NaN</td>\n",
              "      <td>NaN</td>\n",
              "      <td>NaN</td>\n",
              "      <td>NaN</td>\n",
              "      <td>NaN</td>\n",
              "      <td>NaN</td>\n",
              "      <td>NaN</td>\n",
              "      <td>NaN</td>\n",
              "      <td>NaN</td>\n",
              "      <td>NaN</td>\n",
              "      <td>NaN</td>\n",
              "      <td>NaN</td>\n",
              "      <td>NaN</td>\n",
              "      <td>NaN</td>\n",
              "      <td>NaN</td>\n",
              "      <td>NaN</td>\n",
              "      <td>NaN</td>\n",
              "      <td>NaN</td>\n",
              "      <td>NaN</td>\n",
              "      <td>NaN</td>\n",
              "      <td>NaN</td>\n",
              "      <td>NaN</td>\n",
              "      <td>NaN</td>\n",
              "      <td>NaN</td>\n",
              "      <td>NaN</td>\n",
              "      <td>NaN</td>\n",
              "      <td>NaN</td>\n",
              "      <td>NaN</td>\n",
              "      <td>NaN</td>\n",
              "      <td>NaN</td>\n",
              "      <td>NaN</td>\n",
              "      <td>NaN</td>\n",
              "      <td>NaN</td>\n",
              "      <td>NaN</td>\n",
              "      <td>NaN</td>\n",
              "      <td>NaN</td>\n",
              "      <td>NaN</td>\n",
              "      <td>...</td>\n",
              "      <td>NaN</td>\n",
              "      <td>NaN</td>\n",
              "      <td>NaN</td>\n",
              "      <td>NaN</td>\n",
              "      <td>NaN</td>\n",
              "      <td>NaN</td>\n",
              "      <td>NaN</td>\n",
              "      <td>NaN</td>\n",
              "      <td>NaN</td>\n",
              "      <td>NaN</td>\n",
              "      <td>NaN</td>\n",
              "      <td>NaN</td>\n",
              "      <td>NaN</td>\n",
              "      <td>NaN</td>\n",
              "      <td>NaN</td>\n",
              "      <td>NaN</td>\n",
              "      <td>NaN</td>\n",
              "      <td>NaN</td>\n",
              "      <td>NaN</td>\n",
              "      <td>NaN</td>\n",
              "      <td>NaN</td>\n",
              "      <td>NaN</td>\n",
              "      <td>NaN</td>\n",
              "      <td>NaN</td>\n",
              "      <td>NaN</td>\n",
              "      <td>NaN</td>\n",
              "      <td>NaN</td>\n",
              "      <td>NaN</td>\n",
              "      <td>NaN</td>\n",
              "      <td>NaN</td>\n",
              "      <td>NaN</td>\n",
              "      <td>NaN</td>\n",
              "      <td>NaN</td>\n",
              "      <td>NaN</td>\n",
              "      <td>NaN</td>\n",
              "      <td>NaN</td>\n",
              "      <td>NaN</td>\n",
              "      <td>NaN</td>\n",
              "      <td>NaN</td>\n",
              "      <td>NaN</td>\n",
              "    </tr>\n",
              "    <tr>\n",
              "      <th>4</th>\n",
              "      <td>u1000</td>\n",
              "      <td>4.0</td>\n",
              "      <td>NaN</td>\n",
              "      <td>NaN</td>\n",
              "      <td>NaN</td>\n",
              "      <td>NaN</td>\n",
              "      <td>NaN</td>\n",
              "      <td>NaN</td>\n",
              "      <td>NaN</td>\n",
              "      <td>NaN</td>\n",
              "      <td>NaN</td>\n",
              "      <td>NaN</td>\n",
              "      <td>NaN</td>\n",
              "      <td>NaN</td>\n",
              "      <td>NaN</td>\n",
              "      <td>NaN</td>\n",
              "      <td>NaN</td>\n",
              "      <td>NaN</td>\n",
              "      <td>NaN</td>\n",
              "      <td>NaN</td>\n",
              "      <td>NaN</td>\n",
              "      <td>NaN</td>\n",
              "      <td>NaN</td>\n",
              "      <td>NaN</td>\n",
              "      <td>NaN</td>\n",
              "      <td>NaN</td>\n",
              "      <td>NaN</td>\n",
              "      <td>NaN</td>\n",
              "      <td>NaN</td>\n",
              "      <td>NaN</td>\n",
              "      <td>NaN</td>\n",
              "      <td>NaN</td>\n",
              "      <td>NaN</td>\n",
              "      <td>NaN</td>\n",
              "      <td>NaN</td>\n",
              "      <td>NaN</td>\n",
              "      <td>NaN</td>\n",
              "      <td>NaN</td>\n",
              "      <td>NaN</td>\n",
              "      <td>NaN</td>\n",
              "      <td>...</td>\n",
              "      <td>NaN</td>\n",
              "      <td>NaN</td>\n",
              "      <td>NaN</td>\n",
              "      <td>NaN</td>\n",
              "      <td>NaN</td>\n",
              "      <td>NaN</td>\n",
              "      <td>NaN</td>\n",
              "      <td>NaN</td>\n",
              "      <td>NaN</td>\n",
              "      <td>NaN</td>\n",
              "      <td>NaN</td>\n",
              "      <td>NaN</td>\n",
              "      <td>NaN</td>\n",
              "      <td>NaN</td>\n",
              "      <td>NaN</td>\n",
              "      <td>NaN</td>\n",
              "      <td>NaN</td>\n",
              "      <td>NaN</td>\n",
              "      <td>NaN</td>\n",
              "      <td>NaN</td>\n",
              "      <td>NaN</td>\n",
              "      <td>NaN</td>\n",
              "      <td>NaN</td>\n",
              "      <td>NaN</td>\n",
              "      <td>NaN</td>\n",
              "      <td>NaN</td>\n",
              "      <td>NaN</td>\n",
              "      <td>NaN</td>\n",
              "      <td>NaN</td>\n",
              "      <td>NaN</td>\n",
              "      <td>NaN</td>\n",
              "      <td>NaN</td>\n",
              "      <td>NaN</td>\n",
              "      <td>NaN</td>\n",
              "      <td>NaN</td>\n",
              "      <td>NaN</td>\n",
              "      <td>NaN</td>\n",
              "      <td>NaN</td>\n",
              "      <td>NaN</td>\n",
              "      <td>NaN</td>\n",
              "    </tr>\n",
              "  </tbody>\n",
              "</table>\n",
              "<p>5 rows × 5609 columns</p>\n",
              "</div>"
            ],
            "text/plain": [
              "characterID_s characterID_f  u1001  u1003  u1004  ...  u993  u994  u997  u998\n",
              "0                        u0    NaN    NaN    NaN  ...   NaN   NaN   NaN   NaN\n",
              "1                        u1    NaN    NaN    NaN  ...   NaN   NaN   NaN   NaN\n",
              "2                       u10    NaN    NaN    NaN  ...   NaN   NaN   NaN   NaN\n",
              "3                      u100    NaN    NaN    NaN  ...   NaN   NaN   NaN   NaN\n",
              "4                     u1000    4.0    NaN    NaN  ...   NaN   NaN   NaN   NaN\n",
              "\n",
              "[5 rows x 5609 columns]"
            ]
          },
          "metadata": {
            "tags": []
          },
          "execution_count": 63
        }
      ]
    },
    {
      "cell_type": "code",
      "metadata": {
        "colab": {
          "base_uri": "https://localhost:8080/"
        },
        "id": "XZbXYFpv0Vzb",
        "outputId": "309002de-b40e-44f7-c75a-fb12192b0c04"
      },
      "source": [
        "matrix.columns"
      ],
      "execution_count": null,
      "outputs": [
        {
          "output_type": "execute_result",
          "data": {
            "text/plain": [
              "Index(['characterID_f', 'u1001', 'u1003', 'u1004', 'u1005', 'u1006', 'u1010',\n",
              "       'u1011', 'u1014', 'u1017',\n",
              "       ...\n",
              "       'u987', 'u988', 'u989', 'u99', 'u990', 'u991', 'u993', 'u994', 'u997',\n",
              "       'u998'],\n",
              "      dtype='object', name='characterID_s', length=5609)"
            ]
          },
          "metadata": {
            "tags": []
          },
          "execution_count": 64
        }
      ]
    },
    {
      "cell_type": "code",
      "metadata": {
        "id": "PaCGFcfc3r-1"
      },
      "source": [
        "row_iterator = matrix.iterrows()\r\n",
        "\r\n",
        "#_, last = row_iterator.next()  # take first item from row_iterator\r\n",
        "for i, row in row_iterator:\r\n",
        "  for m in range(2,len(matrix.columns)):\r\n",
        "    col=matrix.columns[6]\r\n",
        "    row[col]>1\r\n",
        "#    print(last['characterID_f'])\r\n",
        "#    last = row"
      ],
      "execution_count": null,
      "outputs": []
    },
    {
      "cell_type": "code",
      "metadata": {
        "id": "XcwAQFsv1XPE"
      },
      "source": [
        ""
      ],
      "execution_count": null,
      "outputs": []
    }
  ]
}