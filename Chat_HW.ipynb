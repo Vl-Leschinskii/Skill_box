{
  "nbformat": 4,
  "nbformat_minor": 0,
  "metadata": {
    "colab": {
      "name": "Chat_HW",
      "provenance": [],
      "collapsed_sections": [
        "LhSxL9vSP9-S"
      ]
    },
    "kernelspec": {
      "name": "python3",
      "display_name": "Python 3"
    },
    "accelerator": "GPU"
  },
  "cells": [
    {
      "cell_type": "code",
      "metadata": {
        "id": "wW63SjiRLUaq",
        "colab": {
          "base_uri": "https://localhost:8080/"
        },
        "outputId": "6e759c41-df70-49d2-ae27-f636b4e44795"
      },
      "source": [
        "import codecs\r\n",
        "import numpy as np\r\n",
        "import pandas as pd\r\n",
        "import re\r\n",
        "import tensorflow as tf\r\n",
        "import nltk\r\n",
        "import string\r\n",
        "from itertools import chain\r\n",
        "print(tf.__version__)"
      ],
      "execution_count": null,
      "outputs": [
        {
          "output_type": "stream",
          "text": [
            "2.4.1\n"
          ],
          "name": "stdout"
        }
      ]
    },
    {
      "cell_type": "markdown",
      "metadata": {
        "id": "g7HNWeRqPJUF"
      },
      "source": [
        "#Подготовка данных"
      ]
    },
    {
      "cell_type": "code",
      "metadata": {
        "id": "2o6zNBnnhbme"
      },
      "source": [
        "data_fpath = '/content/movie_conversations.txt'\r\n",
        "max_sentences = 10000\r\n",
        "\r\n",
        "LcharacterID_f=[]\r\n",
        "LcharacterID_s=[]\r\n",
        "LmovieID=[]\r\n",
        "Lorder=[]\r\n",
        "f = open(data_fpath)\r\n",
        "for line in f:\r\n",
        "  uni_str=line.encode(\"windows-1251\").decode(\"utf-8\")\r\n",
        "  characterID_f,characterID_s, movieID, order= uni_str.split(' +++$+++ ')\r\n",
        "  LcharacterID_f.append(characterID_f)\r\n",
        "  LcharacterID_s.append(characterID_s)\r\n",
        "  LmovieID.append(movieID)\r\n",
        "  ge= re.sub(\"']\\n\",'',order)\r\n",
        "  ge= re.sub(\"\\['\",'',ge)\r\n",
        "  ge= re.sub(\"'\",'',ge)\r\n",
        "  ge= re.sub(' ','',ge)\r\n",
        "  ge=re.split(',',ge)   \r\n",
        "  Lorder.append(ge)      "
      ],
      "execution_count": null,
      "outputs": []
    },
    {
      "cell_type": "code",
      "metadata": {
        "colab": {
          "base_uri": "https://localhost:8080/"
        },
        "id": "F-saDZrXn3AW",
        "outputId": "56a0ff53-482d-4a89-845f-85ae0622e344"
      },
      "source": [
        "np_movie_conversations=np.asarray((LcharacterID_f,LcharacterID_s,LmovieID,Lorder)).T"
      ],
      "execution_count": null,
      "outputs": [
        {
          "output_type": "stream",
          "text": [
            "/usr/local/lib/python3.6/dist-packages/numpy/core/_asarray.py:83: VisibleDeprecationWarning: Creating an ndarray from ragged nested sequences (which is a list-or-tuple of lists-or-tuples-or ndarrays with different lengths or shapes) is deprecated. If you meant to do this, you must specify 'dtype=object' when creating the ndarray\n",
            "  return array(a, dtype, copy=False, order=order)\n"
          ],
          "name": "stderr"
        }
      ]
    },
    {
      "cell_type": "code",
      "metadata": {
        "id": "TCuXkvbOn15c"
      },
      "source": [
        "df_movie_conversations=pd.DataFrame(data=np_movie_conversations,\r\n",
        "          index=np.array(range(len(np_movie_conversations))),\r\n",
        "          columns=['characterID_f','characterID_s', 'movieID','order'] )"
      ],
      "execution_count": null,
      "outputs": []
    },
    {
      "cell_type": "code",
      "metadata": {
        "colab": {
          "base_uri": "https://localhost:8080/",
          "height": 204
        },
        "id": "jw_HMesVokhs",
        "outputId": "5d987581-0bf2-4f71-c9c2-0946d2d4027e"
      },
      "source": [
        "df_movie_conversations.head()"
      ],
      "execution_count": null,
      "outputs": [
        {
          "output_type": "execute_result",
          "data": {
            "text/html": [
              "<div>\n",
              "<style scoped>\n",
              "    .dataframe tbody tr th:only-of-type {\n",
              "        vertical-align: middle;\n",
              "    }\n",
              "\n",
              "    .dataframe tbody tr th {\n",
              "        vertical-align: top;\n",
              "    }\n",
              "\n",
              "    .dataframe thead th {\n",
              "        text-align: right;\n",
              "    }\n",
              "</style>\n",
              "<table border=\"1\" class=\"dataframe\">\n",
              "  <thead>\n",
              "    <tr style=\"text-align: right;\">\n",
              "      <th></th>\n",
              "      <th>characterID_f</th>\n",
              "      <th>characterID_s</th>\n",
              "      <th>movieID</th>\n",
              "      <th>order</th>\n",
              "    </tr>\n",
              "  </thead>\n",
              "  <tbody>\n",
              "    <tr>\n",
              "      <th>0</th>\n",
              "      <td>u0</td>\n",
              "      <td>u2</td>\n",
              "      <td>m0</td>\n",
              "      <td>[L194, L195, L196, L197]</td>\n",
              "    </tr>\n",
              "    <tr>\n",
              "      <th>1</th>\n",
              "      <td>u0</td>\n",
              "      <td>u2</td>\n",
              "      <td>m0</td>\n",
              "      <td>[L198, L199]</td>\n",
              "    </tr>\n",
              "    <tr>\n",
              "      <th>2</th>\n",
              "      <td>u0</td>\n",
              "      <td>u2</td>\n",
              "      <td>m0</td>\n",
              "      <td>[L200, L201, L202, L203]</td>\n",
              "    </tr>\n",
              "    <tr>\n",
              "      <th>3</th>\n",
              "      <td>u0</td>\n",
              "      <td>u2</td>\n",
              "      <td>m0</td>\n",
              "      <td>[L204, L205, L206]</td>\n",
              "    </tr>\n",
              "    <tr>\n",
              "      <th>4</th>\n",
              "      <td>u0</td>\n",
              "      <td>u2</td>\n",
              "      <td>m0</td>\n",
              "      <td>[L207, L208]</td>\n",
              "    </tr>\n",
              "  </tbody>\n",
              "</table>\n",
              "</div>"
            ],
            "text/plain": [
              "  characterID_f characterID_s movieID                     order\n",
              "0            u0            u2      m0  [L194, L195, L196, L197]\n",
              "1            u0            u2      m0              [L198, L199]\n",
              "2            u0            u2      m0  [L200, L201, L202, L203]\n",
              "3            u0            u2      m0        [L204, L205, L206]\n",
              "4            u0            u2      m0              [L207, L208]"
            ]
          },
          "metadata": {
            "tags": []
          },
          "execution_count": 6
        }
      ]
    },
    {
      "cell_type": "code",
      "metadata": {
        "id": "-X77daMGpAtf"
      },
      "source": [
        "sum_char=df_movie_conversations.groupby(['characterID_f','characterID_s']).count().reset_index() "
      ],
      "execution_count": null,
      "outputs": []
    },
    {
      "cell_type": "code",
      "metadata": {
        "colab": {
          "base_uri": "https://localhost:8080/",
          "height": 204
        },
        "id": "StZMmBK2vy_Q",
        "outputId": "74e94b47-b093-4e65-9025-776a78b81141"
      },
      "source": [
        "df_movie_conversations['dia_len']=df_movie_conversations.order.apply(len)\r\n",
        "df_movie_conversations.head()"
      ],
      "execution_count": null,
      "outputs": [
        {
          "output_type": "execute_result",
          "data": {
            "text/html": [
              "<div>\n",
              "<style scoped>\n",
              "    .dataframe tbody tr th:only-of-type {\n",
              "        vertical-align: middle;\n",
              "    }\n",
              "\n",
              "    .dataframe tbody tr th {\n",
              "        vertical-align: top;\n",
              "    }\n",
              "\n",
              "    .dataframe thead th {\n",
              "        text-align: right;\n",
              "    }\n",
              "</style>\n",
              "<table border=\"1\" class=\"dataframe\">\n",
              "  <thead>\n",
              "    <tr style=\"text-align: right;\">\n",
              "      <th></th>\n",
              "      <th>characterID_f</th>\n",
              "      <th>characterID_s</th>\n",
              "      <th>movieID</th>\n",
              "      <th>order</th>\n",
              "      <th>dia_len</th>\n",
              "    </tr>\n",
              "  </thead>\n",
              "  <tbody>\n",
              "    <tr>\n",
              "      <th>0</th>\n",
              "      <td>u0</td>\n",
              "      <td>u2</td>\n",
              "      <td>m0</td>\n",
              "      <td>[L194, L195, L196, L197]</td>\n",
              "      <td>4</td>\n",
              "    </tr>\n",
              "    <tr>\n",
              "      <th>1</th>\n",
              "      <td>u0</td>\n",
              "      <td>u2</td>\n",
              "      <td>m0</td>\n",
              "      <td>[L198, L199]</td>\n",
              "      <td>2</td>\n",
              "    </tr>\n",
              "    <tr>\n",
              "      <th>2</th>\n",
              "      <td>u0</td>\n",
              "      <td>u2</td>\n",
              "      <td>m0</td>\n",
              "      <td>[L200, L201, L202, L203]</td>\n",
              "      <td>4</td>\n",
              "    </tr>\n",
              "    <tr>\n",
              "      <th>3</th>\n",
              "      <td>u0</td>\n",
              "      <td>u2</td>\n",
              "      <td>m0</td>\n",
              "      <td>[L204, L205, L206]</td>\n",
              "      <td>3</td>\n",
              "    </tr>\n",
              "    <tr>\n",
              "      <th>4</th>\n",
              "      <td>u0</td>\n",
              "      <td>u2</td>\n",
              "      <td>m0</td>\n",
              "      <td>[L207, L208]</td>\n",
              "      <td>2</td>\n",
              "    </tr>\n",
              "  </tbody>\n",
              "</table>\n",
              "</div>"
            ],
            "text/plain": [
              "  characterID_f characterID_s movieID                     order  dia_len\n",
              "0            u0            u2      m0  [L194, L195, L196, L197]        4\n",
              "1            u0            u2      m0              [L198, L199]        2\n",
              "2            u0            u2      m0  [L200, L201, L202, L203]        4\n",
              "3            u0            u2      m0        [L204, L205, L206]        3\n",
              "4            u0            u2      m0              [L207, L208]        2"
            ]
          },
          "metadata": {
            "tags": []
          },
          "execution_count": 8
        }
      ]
    },
    {
      "cell_type": "code",
      "metadata": {
        "colab": {
          "base_uri": "https://localhost:8080/",
          "height": 204
        },
        "id": "plPOSvrWx_8y",
        "outputId": "8d5a0ba8-7227-4b10-c1df-2c7ad06792e1"
      },
      "source": [
        "dia_2=df_movie_conversations[df_movie_conversations['dia_len']==2][['characterID_f','characterID_s','order']]\r\n",
        "dia_2.head()"
      ],
      "execution_count": null,
      "outputs": [
        {
          "output_type": "execute_result",
          "data": {
            "text/html": [
              "<div>\n",
              "<style scoped>\n",
              "    .dataframe tbody tr th:only-of-type {\n",
              "        vertical-align: middle;\n",
              "    }\n",
              "\n",
              "    .dataframe tbody tr th {\n",
              "        vertical-align: top;\n",
              "    }\n",
              "\n",
              "    .dataframe thead th {\n",
              "        text-align: right;\n",
              "    }\n",
              "</style>\n",
              "<table border=\"1\" class=\"dataframe\">\n",
              "  <thead>\n",
              "    <tr style=\"text-align: right;\">\n",
              "      <th></th>\n",
              "      <th>characterID_f</th>\n",
              "      <th>characterID_s</th>\n",
              "      <th>order</th>\n",
              "    </tr>\n",
              "  </thead>\n",
              "  <tbody>\n",
              "    <tr>\n",
              "      <th>1</th>\n",
              "      <td>u0</td>\n",
              "      <td>u2</td>\n",
              "      <td>[L198, L199]</td>\n",
              "    </tr>\n",
              "    <tr>\n",
              "      <th>4</th>\n",
              "      <td>u0</td>\n",
              "      <td>u2</td>\n",
              "      <td>[L207, L208]</td>\n",
              "    </tr>\n",
              "    <tr>\n",
              "      <th>6</th>\n",
              "      <td>u0</td>\n",
              "      <td>u2</td>\n",
              "      <td>[L276, L277]</td>\n",
              "    </tr>\n",
              "    <tr>\n",
              "      <th>7</th>\n",
              "      <td>u0</td>\n",
              "      <td>u2</td>\n",
              "      <td>[L280, L281]</td>\n",
              "    </tr>\n",
              "    <tr>\n",
              "      <th>8</th>\n",
              "      <td>u0</td>\n",
              "      <td>u2</td>\n",
              "      <td>[L363, L364]</td>\n",
              "    </tr>\n",
              "  </tbody>\n",
              "</table>\n",
              "</div>"
            ],
            "text/plain": [
              "  characterID_f characterID_s         order\n",
              "1            u0            u2  [L198, L199]\n",
              "4            u0            u2  [L207, L208]\n",
              "6            u0            u2  [L276, L277]\n",
              "7            u0            u2  [L280, L281]\n",
              "8            u0            u2  [L363, L364]"
            ]
          },
          "metadata": {
            "tags": []
          },
          "execution_count": 9
        }
      ]
    },
    {
      "cell_type": "code",
      "metadata": {
        "id": "CdQIX27AyxLU"
      },
      "source": [
        "LQA=dia_2.order.values\r\n",
        "LA=[]\r\n",
        "LQ=[]\r\n",
        "for di in LQA:\r\n",
        "  LQ.append(di[0])\r\n",
        "  LA.append(di[1])"
      ],
      "execution_count": null,
      "outputs": []
    },
    {
      "cell_type": "code",
      "metadata": {
        "id": "v3r8Rsbo4dSA"
      },
      "source": [
        "np_dia=np.asarray((LQ,LA)).T"
      ],
      "execution_count": null,
      "outputs": []
    },
    {
      "cell_type": "code",
      "metadata": {
        "colab": {
          "base_uri": "https://localhost:8080/",
          "height": 419
        },
        "id": "1m35ZHsx5fwh",
        "outputId": "d1d7f70a-c656-4350-8c6b-b52a8709a2a8"
      },
      "source": [
        "df_dia=pd.DataFrame(data=np_dia,\r\n",
        "          index=np.array(range(len(np_dia))),\r\n",
        "          columns=['Q','A'] )\r\n",
        "df_dia"
      ],
      "execution_count": null,
      "outputs": [
        {
          "output_type": "execute_result",
          "data": {
            "text/html": [
              "<div>\n",
              "<style scoped>\n",
              "    .dataframe tbody tr th:only-of-type {\n",
              "        vertical-align: middle;\n",
              "    }\n",
              "\n",
              "    .dataframe tbody tr th {\n",
              "        vertical-align: top;\n",
              "    }\n",
              "\n",
              "    .dataframe thead th {\n",
              "        text-align: right;\n",
              "    }\n",
              "</style>\n",
              "<table border=\"1\" class=\"dataframe\">\n",
              "  <thead>\n",
              "    <tr style=\"text-align: right;\">\n",
              "      <th></th>\n",
              "      <th>Q</th>\n",
              "      <th>A</th>\n",
              "    </tr>\n",
              "  </thead>\n",
              "  <tbody>\n",
              "    <tr>\n",
              "      <th>0</th>\n",
              "      <td>L198</td>\n",
              "      <td>L199</td>\n",
              "    </tr>\n",
              "    <tr>\n",
              "      <th>1</th>\n",
              "      <td>L207</td>\n",
              "      <td>L208</td>\n",
              "    </tr>\n",
              "    <tr>\n",
              "      <th>2</th>\n",
              "      <td>L276</td>\n",
              "      <td>L277</td>\n",
              "    </tr>\n",
              "    <tr>\n",
              "      <th>3</th>\n",
              "      <td>L280</td>\n",
              "      <td>L281</td>\n",
              "    </tr>\n",
              "    <tr>\n",
              "      <th>4</th>\n",
              "      <td>L363</td>\n",
              "      <td>L364</td>\n",
              "    </tr>\n",
              "    <tr>\n",
              "      <th>...</th>\n",
              "      <td>...</td>\n",
              "      <td>...</td>\n",
              "    </tr>\n",
              "    <tr>\n",
              "      <th>38086</th>\n",
              "      <td>L666460</td>\n",
              "      <td>L666461</td>\n",
              "    </tr>\n",
              "    <tr>\n",
              "      <th>38087</th>\n",
              "      <td>L666485</td>\n",
              "      <td>L666486</td>\n",
              "    </tr>\n",
              "    <tr>\n",
              "      <th>38088</th>\n",
              "      <td>L666546</td>\n",
              "      <td>L666547</td>\n",
              "    </tr>\n",
              "    <tr>\n",
              "      <th>38089</th>\n",
              "      <td>L666575</td>\n",
              "      <td>L666576</td>\n",
              "    </tr>\n",
              "    <tr>\n",
              "      <th>38090</th>\n",
              "      <td>L666256</td>\n",
              "      <td>L666257</td>\n",
              "    </tr>\n",
              "  </tbody>\n",
              "</table>\n",
              "<p>38091 rows × 2 columns</p>\n",
              "</div>"
            ],
            "text/plain": [
              "             Q        A\n",
              "0         L198     L199\n",
              "1         L207     L208\n",
              "2         L276     L277\n",
              "3         L280     L281\n",
              "4         L363     L364\n",
              "...        ...      ...\n",
              "38086  L666460  L666461\n",
              "38087  L666485  L666486\n",
              "38088  L666546  L666547\n",
              "38089  L666575  L666576\n",
              "38090  L666256  L666257\n",
              "\n",
              "[38091 rows x 2 columns]"
            ]
          },
          "metadata": {
            "tags": []
          },
          "execution_count": 13
        }
      ]
    },
    {
      "cell_type": "code",
      "metadata": {
        "id": "nkUsIMhTZ-s6"
      },
      "source": [
        "data_fpath = '/content/movie_lines_3.txt'\r\n",
        "max_sentences = 10000\r\n",
        "LlineID=[]\r\n",
        "LcharacterID=[]\r\n",
        "LmovieID=[]\r\n",
        "Lcharacter_name=[]\r\n",
        "Ltext_of_the_utterance=[]\r\n",
        "#lines = codecs.open(data_fpath, 'r', encoding='ANSI').readlines()#[:max_sentences]\r\n",
        "i=0\r\n",
        "f = open(data_fpath)\r\n",
        "#try:\r\n",
        "for line in f:\r\n",
        "  uni_str=line.encode(\"windows-1251\").decode(\"utf-8\")\r\n",
        "  #.decode(\"utf-8\").encode(\"windows-1251\").decode(\"utf-8\")\r\n",
        "  lineID,characterID,movieID,character_name,text_of_the_utterance= uni_str.split(' +++$+++ ')   \r\n",
        "  #print(i)\r\n",
        "  i=i+1\r\n",
        "  LlineID.append(lineID)\r\n",
        "  LcharacterID.append(characterID)\r\n",
        "  LmovieID.append(movieID)\r\n",
        "  Lcharacter_name.append(character_name)\r\n",
        "  pos= re.sub(\"\\n\",'',text_of_the_utterance)    \r\n",
        "  Ltext_of_the_utterance.append(pos)\r\n"
      ],
      "execution_count": null,
      "outputs": []
    },
    {
      "cell_type": "code",
      "metadata": {
        "colab": {
          "base_uri": "https://localhost:8080/",
          "height": 204
        },
        "id": "45ouuhbX7Akk",
        "outputId": "e982a245-b006-473f-fcdd-8542f1925c0b"
      },
      "source": [
        "np_movie_line=np.asarray((LlineID,LcharacterID,Ltext_of_the_utterance)).T\r\n",
        "df_movie_line=pd.DataFrame(data=np_movie_line,\r\n",
        "          index=np.array(range(len(np_movie_line))),\r\n",
        "          columns=['LlineID','LcharacterID','Ltext_of_the_utterance'])\r\n",
        "df_movieLlineID_line.head()"
      ],
      "execution_count": null,
      "outputs": [
        {
          "output_type": "execute_result",
          "data": {
            "text/html": [
              "<div>\n",
              "<style scoped>\n",
              "    .dataframe tbody tr th:only-of-type {\n",
              "        vertical-align: middle;\n",
              "    }\n",
              "\n",
              "    .dataframe tbody tr th {\n",
              "        vertical-align: top;\n",
              "    }\n",
              "\n",
              "    .dataframe thead th {\n",
              "        text-align: right;\n",
              "    }\n",
              "</style>\n",
              "<table border=\"1\" class=\"dataframe\">\n",
              "  <thead>\n",
              "    <tr style=\"text-align: right;\">\n",
              "      <th></th>\n",
              "      <th>LlineID</th>\n",
              "      <th>LcharacterID</th>\n",
              "      <th>Ltext_of_the_utterance</th>\n",
              "    </tr>\n",
              "  </thead>\n",
              "  <tbody>\n",
              "    <tr>\n",
              "      <th>0</th>\n",
              "      <td>L1045</td>\n",
              "      <td>u0</td>\n",
              "      <td>They do not!</td>\n",
              "    </tr>\n",
              "    <tr>\n",
              "      <th>1</th>\n",
              "      <td>L1044</td>\n",
              "      <td>u2</td>\n",
              "      <td>They do to!</td>\n",
              "    </tr>\n",
              "    <tr>\n",
              "      <th>2</th>\n",
              "      <td>L985</td>\n",
              "      <td>u0</td>\n",
              "      <td>I hope so.</td>\n",
              "    </tr>\n",
              "    <tr>\n",
              "      <th>3</th>\n",
              "      <td>L984</td>\n",
              "      <td>u2</td>\n",
              "      <td>She okay?</td>\n",
              "    </tr>\n",
              "    <tr>\n",
              "      <th>4</th>\n",
              "      <td>L925</td>\n",
              "      <td>u0</td>\n",
              "      <td>Let's go.</td>\n",
              "    </tr>\n",
              "  </tbody>\n",
              "</table>\n",
              "</div>"
            ],
            "text/plain": [
              "  LlineID LcharacterID Ltext_of_the_utterance\n",
              "0   L1045           u0           They do not!\n",
              "1   L1044           u2            They do to!\n",
              "2    L985           u0             I hope so.\n",
              "3    L984           u2              She okay?\n",
              "4    L925           u0              Let's go."
            ]
          },
          "metadata": {
            "tags": []
          },
          "execution_count": 15
        }
      ]
    },
    {
      "cell_type": "code",
      "metadata": {
        "colab": {
          "base_uri": "https://localhost:8080/",
          "height": 419
        },
        "id": "HHAEYEH194V5",
        "outputId": "8f78b6bc-2789-4eba-bbe5-2c7c35ca0cdd"
      },
      "source": [
        "df_diaA=df_dia.merge(df_movie_line,left_on='A', right_on='LlineID')\r\n",
        "df_diaAQ=df_diaA.merge(df_movie_line,left_on='Q', right_on='LlineID')\r\n",
        "df_diaAQ"
      ],
      "execution_count": null,
      "outputs": [
        {
          "output_type": "execute_result",
          "data": {
            "text/html": [
              "<div>\n",
              "<style scoped>\n",
              "    .dataframe tbody tr th:only-of-type {\n",
              "        vertical-align: middle;\n",
              "    }\n",
              "\n",
              "    .dataframe tbody tr th {\n",
              "        vertical-align: top;\n",
              "    }\n",
              "\n",
              "    .dataframe thead th {\n",
              "        text-align: right;\n",
              "    }\n",
              "</style>\n",
              "<table border=\"1\" class=\"dataframe\">\n",
              "  <thead>\n",
              "    <tr style=\"text-align: right;\">\n",
              "      <th></th>\n",
              "      <th>Q</th>\n",
              "      <th>A</th>\n",
              "      <th>LlineID_x</th>\n",
              "      <th>LcharacterID_x</th>\n",
              "      <th>Ltext_of_the_utterance_x</th>\n",
              "      <th>LlineID_y</th>\n",
              "      <th>LcharacterID_y</th>\n",
              "      <th>Ltext_of_the_utterance_y</th>\n",
              "    </tr>\n",
              "  </thead>\n",
              "  <tbody>\n",
              "    <tr>\n",
              "      <th>0</th>\n",
              "      <td>L198</td>\n",
              "      <td>L199</td>\n",
              "      <td>L199</td>\n",
              "      <td>u2</td>\n",
              "      <td>Forget it.</td>\n",
              "      <td>L198</td>\n",
              "      <td>u0</td>\n",
              "      <td>You're asking me out.  That's so cute. What's ...</td>\n",
              "    </tr>\n",
              "    <tr>\n",
              "      <th>1</th>\n",
              "      <td>L207</td>\n",
              "      <td>L208</td>\n",
              "      <td>L208</td>\n",
              "      <td>u2</td>\n",
              "      <td>Let me see what I can do.</td>\n",
              "      <td>L207</td>\n",
              "      <td>u0</td>\n",
              "      <td>Gosh, if only we could find Kat a boyfriend...</td>\n",
              "    </tr>\n",
              "    <tr>\n",
              "      <th>2</th>\n",
              "      <td>L276</td>\n",
              "      <td>L277</td>\n",
              "      <td>L277</td>\n",
              "      <td>u2</td>\n",
              "      <td>Well, there's someone I think might be --</td>\n",
              "      <td>L276</td>\n",
              "      <td>u0</td>\n",
              "      <td>How is our little Find the Wench A Date plan p...</td>\n",
              "    </tr>\n",
              "    <tr>\n",
              "      <th>3</th>\n",
              "      <td>L280</td>\n",
              "      <td>L281</td>\n",
              "      <td>L281</td>\n",
              "      <td>u0</td>\n",
              "      <td>Where?</td>\n",
              "      <td>L280</td>\n",
              "      <td>u2</td>\n",
              "      <td>There.</td>\n",
              "    </tr>\n",
              "    <tr>\n",
              "      <th>4</th>\n",
              "      <td>L363</td>\n",
              "      <td>L364</td>\n",
              "      <td>L364</td>\n",
              "      <td>u0</td>\n",
              "      <td>I counted on you to help my cause. You and tha...</td>\n",
              "      <td>L363</td>\n",
              "      <td>u2</td>\n",
              "      <td>You got something on your mind?</td>\n",
              "    </tr>\n",
              "    <tr>\n",
              "      <th>...</th>\n",
              "      <td>...</td>\n",
              "      <td>...</td>\n",
              "      <td>...</td>\n",
              "      <td>...</td>\n",
              "      <td>...</td>\n",
              "      <td>...</td>\n",
              "      <td>...</td>\n",
              "      <td>...</td>\n",
              "    </tr>\n",
              "    <tr>\n",
              "      <th>38086</th>\n",
              "      <td>L666460</td>\n",
              "      <td>L666461</td>\n",
              "      <td>L666461</td>\n",
              "      <td>u9027</td>\n",
              "      <td>Thank you.</td>\n",
              "      <td>L666460</td>\n",
              "      <td>u9029</td>\n",
              "      <td>The only reports of enemy activity have come f...</td>\n",
              "    </tr>\n",
              "    <tr>\n",
              "      <th>38087</th>\n",
              "      <td>L666485</td>\n",
              "      <td>L666486</td>\n",
              "      <td>L666486</td>\n",
              "      <td>u9029</td>\n",
              "      <td>A large party of Zulus have been sighted in th...</td>\n",
              "      <td>L666485</td>\n",
              "      <td>u9027</td>\n",
              "      <td>Yes?</td>\n",
              "    </tr>\n",
              "    <tr>\n",
              "      <th>38088</th>\n",
              "      <td>L666546</td>\n",
              "      <td>L666547</td>\n",
              "      <td>L666547</td>\n",
              "      <td>u9029</td>\n",
              "      <td>Certainly, Sin</td>\n",
              "      <td>L666546</td>\n",
              "      <td>u9027</td>\n",
              "      <td>Splendid site, Crealock, splendil I want to es...</td>\n",
              "    </tr>\n",
              "    <tr>\n",
              "      <th>38089</th>\n",
              "      <td>L666575</td>\n",
              "      <td>L666576</td>\n",
              "      <td>L666576</td>\n",
              "      <td>u9031</td>\n",
              "      <td>Keep steady. You're the best shots of the Twen...</td>\n",
              "      <td>L666575</td>\n",
              "      <td>u9028</td>\n",
              "      <td>Choose your targets men. That's right Watch th...</td>\n",
              "    </tr>\n",
              "    <tr>\n",
              "      <th>38090</th>\n",
              "      <td>L666256</td>\n",
              "      <td>L666257</td>\n",
              "      <td>L666257</td>\n",
              "      <td>u9030</td>\n",
              "      <td>Good ones, yes, Mr Vereker. Gentlemen who can ...</td>\n",
              "      <td>L666256</td>\n",
              "      <td>u9034</td>\n",
              "      <td>Colonel Durnford... William Vereker. I hear yo...</td>\n",
              "    </tr>\n",
              "  </tbody>\n",
              "</table>\n",
              "<p>38091 rows × 8 columns</p>\n",
              "</div>"
            ],
            "text/plain": [
              "             Q  ...                           Ltext_of_the_utterance_y\n",
              "0         L198  ...  You're asking me out.  That's so cute. What's ...\n",
              "1         L207  ...     Gosh, if only we could find Kat a boyfriend...\n",
              "2         L276  ...  How is our little Find the Wench A Date plan p...\n",
              "3         L280  ...                                             There.\n",
              "4         L363  ...                    You got something on your mind?\n",
              "...        ...  ...                                                ...\n",
              "38086  L666460  ...  The only reports of enemy activity have come f...\n",
              "38087  L666485  ...                                               Yes?\n",
              "38088  L666546  ...  Splendid site, Crealock, splendil I want to es...\n",
              "38089  L666575  ...  Choose your targets men. That's right Watch th...\n",
              "38090  L666256  ...  Colonel Durnford... William Vereker. I hear yo...\n",
              "\n",
              "[38091 rows x 8 columns]"
            ]
          },
          "metadata": {
            "tags": []
          },
          "execution_count": 20
        }
      ]
    },
    {
      "cell_type": "code",
      "metadata": {
        "colab": {
          "base_uri": "https://localhost:8080/",
          "height": 419
        },
        "id": "WKOkYW_V_7sK",
        "outputId": "5bae4266-8c5c-4764-a9f3-fd0f7065e820"
      },
      "source": [
        "df_diaAQ.columns=['LQ','LA','Line_A','LcharacterID_A','Ans','Line_B','LcharacterID_Q','Qwe']\r\n",
        "df_diaAQ"
      ],
      "execution_count": null,
      "outputs": [
        {
          "output_type": "execute_result",
          "data": {
            "text/html": [
              "<div>\n",
              "<style scoped>\n",
              "    .dataframe tbody tr th:only-of-type {\n",
              "        vertical-align: middle;\n",
              "    }\n",
              "\n",
              "    .dataframe tbody tr th {\n",
              "        vertical-align: top;\n",
              "    }\n",
              "\n",
              "    .dataframe thead th {\n",
              "        text-align: right;\n",
              "    }\n",
              "</style>\n",
              "<table border=\"1\" class=\"dataframe\">\n",
              "  <thead>\n",
              "    <tr style=\"text-align: right;\">\n",
              "      <th></th>\n",
              "      <th>LQ</th>\n",
              "      <th>LA</th>\n",
              "      <th>Line_A</th>\n",
              "      <th>LcharacterID_A</th>\n",
              "      <th>Ans</th>\n",
              "      <th>Line_B</th>\n",
              "      <th>LcharacterID_Q</th>\n",
              "      <th>Qwe</th>\n",
              "    </tr>\n",
              "  </thead>\n",
              "  <tbody>\n",
              "    <tr>\n",
              "      <th>0</th>\n",
              "      <td>L198</td>\n",
              "      <td>L199</td>\n",
              "      <td>L199</td>\n",
              "      <td>u2</td>\n",
              "      <td>Forget it.</td>\n",
              "      <td>L198</td>\n",
              "      <td>u0</td>\n",
              "      <td>You're asking me out.  That's so cute. What's ...</td>\n",
              "    </tr>\n",
              "    <tr>\n",
              "      <th>1</th>\n",
              "      <td>L207</td>\n",
              "      <td>L208</td>\n",
              "      <td>L208</td>\n",
              "      <td>u2</td>\n",
              "      <td>Let me see what I can do.</td>\n",
              "      <td>L207</td>\n",
              "      <td>u0</td>\n",
              "      <td>Gosh, if only we could find Kat a boyfriend...</td>\n",
              "    </tr>\n",
              "    <tr>\n",
              "      <th>2</th>\n",
              "      <td>L276</td>\n",
              "      <td>L277</td>\n",
              "      <td>L277</td>\n",
              "      <td>u2</td>\n",
              "      <td>Well, there's someone I think might be --</td>\n",
              "      <td>L276</td>\n",
              "      <td>u0</td>\n",
              "      <td>How is our little Find the Wench A Date plan p...</td>\n",
              "    </tr>\n",
              "    <tr>\n",
              "      <th>3</th>\n",
              "      <td>L280</td>\n",
              "      <td>L281</td>\n",
              "      <td>L281</td>\n",
              "      <td>u0</td>\n",
              "      <td>Where?</td>\n",
              "      <td>L280</td>\n",
              "      <td>u2</td>\n",
              "      <td>There.</td>\n",
              "    </tr>\n",
              "    <tr>\n",
              "      <th>4</th>\n",
              "      <td>L363</td>\n",
              "      <td>L364</td>\n",
              "      <td>L364</td>\n",
              "      <td>u0</td>\n",
              "      <td>I counted on you to help my cause. You and tha...</td>\n",
              "      <td>L363</td>\n",
              "      <td>u2</td>\n",
              "      <td>You got something on your mind?</td>\n",
              "    </tr>\n",
              "    <tr>\n",
              "      <th>...</th>\n",
              "      <td>...</td>\n",
              "      <td>...</td>\n",
              "      <td>...</td>\n",
              "      <td>...</td>\n",
              "      <td>...</td>\n",
              "      <td>...</td>\n",
              "      <td>...</td>\n",
              "      <td>...</td>\n",
              "    </tr>\n",
              "    <tr>\n",
              "      <th>38086</th>\n",
              "      <td>L666460</td>\n",
              "      <td>L666461</td>\n",
              "      <td>L666461</td>\n",
              "      <td>u9027</td>\n",
              "      <td>Thank you.</td>\n",
              "      <td>L666460</td>\n",
              "      <td>u9029</td>\n",
              "      <td>The only reports of enemy activity have come f...</td>\n",
              "    </tr>\n",
              "    <tr>\n",
              "      <th>38087</th>\n",
              "      <td>L666485</td>\n",
              "      <td>L666486</td>\n",
              "      <td>L666486</td>\n",
              "      <td>u9029</td>\n",
              "      <td>A large party of Zulus have been sighted in th...</td>\n",
              "      <td>L666485</td>\n",
              "      <td>u9027</td>\n",
              "      <td>Yes?</td>\n",
              "    </tr>\n",
              "    <tr>\n",
              "      <th>38088</th>\n",
              "      <td>L666546</td>\n",
              "      <td>L666547</td>\n",
              "      <td>L666547</td>\n",
              "      <td>u9029</td>\n",
              "      <td>Certainly, Sin</td>\n",
              "      <td>L666546</td>\n",
              "      <td>u9027</td>\n",
              "      <td>Splendid site, Crealock, splendil I want to es...</td>\n",
              "    </tr>\n",
              "    <tr>\n",
              "      <th>38089</th>\n",
              "      <td>L666575</td>\n",
              "      <td>L666576</td>\n",
              "      <td>L666576</td>\n",
              "      <td>u9031</td>\n",
              "      <td>Keep steady. You're the best shots of the Twen...</td>\n",
              "      <td>L666575</td>\n",
              "      <td>u9028</td>\n",
              "      <td>Choose your targets men. That's right Watch th...</td>\n",
              "    </tr>\n",
              "    <tr>\n",
              "      <th>38090</th>\n",
              "      <td>L666256</td>\n",
              "      <td>L666257</td>\n",
              "      <td>L666257</td>\n",
              "      <td>u9030</td>\n",
              "      <td>Good ones, yes, Mr Vereker. Gentlemen who can ...</td>\n",
              "      <td>L666256</td>\n",
              "      <td>u9034</td>\n",
              "      <td>Colonel Durnford... William Vereker. I hear yo...</td>\n",
              "    </tr>\n",
              "  </tbody>\n",
              "</table>\n",
              "<p>38091 rows × 8 columns</p>\n",
              "</div>"
            ],
            "text/plain": [
              "            LQ  ...                                                Qwe\n",
              "0         L198  ...  You're asking me out.  That's so cute. What's ...\n",
              "1         L207  ...     Gosh, if only we could find Kat a boyfriend...\n",
              "2         L276  ...  How is our little Find the Wench A Date plan p...\n",
              "3         L280  ...                                             There.\n",
              "4         L363  ...                    You got something on your mind?\n",
              "...        ...  ...                                                ...\n",
              "38086  L666460  ...  The only reports of enemy activity have come f...\n",
              "38087  L666485  ...                                               Yes?\n",
              "38088  L666546  ...  Splendid site, Crealock, splendil I want to es...\n",
              "38089  L666575  ...  Choose your targets men. That's right Watch th...\n",
              "38090  L666256  ...  Colonel Durnford... William Vereker. I hear yo...\n",
              "\n",
              "[38091 rows x 8 columns]"
            ]
          },
          "metadata": {
            "tags": []
          },
          "execution_count": 23
        }
      ]
    },
    {
      "cell_type": "code",
      "metadata": {
        "id": "NERcx958A8UO"
      },
      "source": [
        "df_diaAQ_work=df_diaAQ[['LQ','LA','LcharacterID_A','Ans','LcharacterID_Q','Qwe']]\r\n"
      ],
      "execution_count": null,
      "outputs": []
    },
    {
      "cell_type": "code",
      "metadata": {
        "id": "yiURmJLoBcCR"
      },
      "source": [
        "df_diaAQ_work.to_csv('work_data.csv')"
      ],
      "execution_count": null,
      "outputs": []
    },
    {
      "cell_type": "code",
      "metadata": {
        "id": "C53I_EtNDI52"
      },
      "source": [
        "work_data=pd.read_csv('/content/work_data.csv')\r\n"
      ],
      "execution_count": null,
      "outputs": []
    },
    {
      "cell_type": "code",
      "metadata": {
        "colab": {
          "base_uri": "https://localhost:8080/"
        },
        "id": "ugXIFqYPF0qp",
        "outputId": "6d8e8e58-2912-41dc-8461-e94e17c1ab1d"
      },
      "source": [
        "work_data.info()"
      ],
      "execution_count": null,
      "outputs": [
        {
          "output_type": "stream",
          "text": [
            "<class 'pandas.core.frame.DataFrame'>\n",
            "RangeIndex: 38091 entries, 0 to 38090\n",
            "Data columns (total 7 columns):\n",
            " #   Column          Non-Null Count  Dtype \n",
            "---  ------          --------------  ----- \n",
            " 0   Unnamed: 0      38091 non-null  int64 \n",
            " 1   LQ              38091 non-null  object\n",
            " 2   LA              38091 non-null  object\n",
            " 3   LcharacterID_A  38091 non-null  object\n",
            " 4   Ans             38062 non-null  object\n",
            " 5   LcharacterID_Q  38091 non-null  object\n",
            " 6   Qwe             38059 non-null  object\n",
            "dtypes: int64(1), object(6)\n",
            "memory usage: 2.0+ MB\n"
          ],
          "name": "stdout"
        }
      ]
    },
    {
      "cell_type": "code",
      "metadata": {
        "id": "ZU6qy2ZuJWrO"
      },
      "source": [
        "stop_words = [\r\n",
        "    'i', 'me', 'my', 'myself', 'we', 'our', 'ours', 'ourselves', 'you', \"you're\", \"you've\", \"you'll\", \"you'd\",\r\n",
        "    'your', 'yours', 'yourself', 'yourselves', 'he', 'him', 'his', 'himself', 'she', \"she's\", 'her', 'hers',\r\n",
        "    'herself', 'it', \"it's\", 'its', 'itself', 'they', 'them', 'their', 'theirs', 'themselves', 'what', 'which',\r\n",
        "    'who', 'whom', 'this', 'that', \"that'll\", 'these', 'those', 'am', 'is', 'are', 'was', 'were', 'be', 'been',\r\n",
        "    'being', 'have', 'has', 'had', 'having', 'do', 'does', 'did', 'doing', 'a', 'an', 'the', 'and', 'but', 'if',\r\n",
        "    'or', 'because', 'as', 'until', 'while', 'of', 'at', 'by', 'for', 'with', 'about', 'against', 'between',\r\n",
        "    'into', 'through', 'during', 'before', 'after', 'above', 'below', 'to', 'from', 'up', 'down', 'in', 'out',\r\n",
        "    'on', 'off', 'over', 'under', 'again', 'further', 'then', 'once', 'here', 'there', 'when', 'where', 'why',\r\n",
        "    'how', 'all', 'any', 'both', 'each', 'few', 'more', 'most', 'other', 'some', 'such', 'no', 'nor', 'not',\r\n",
        "    'only', 'own', 'same', 'so', 'than', 'too', 'very', 's', 't', 'can', 'will', 'just', 'don', \"don't\", 'shold',\r\n",
        "    \"should've\", 'now', 'd', 'll', 'm', 'o', 're', 've', 'y', 'ain', 'aren', \"aren't\", 'couldn', \"couldn't\",\r\n",
        "    'didn', \"didn't\", 'doesn', \"doesn't\", 'hadn', \"hadn't\", 'hasn', \"hasn't\", 'haven', \"haven't\", 'isn', \"isn't\",\r\n",
        "    'ma', 'mightn', \"mightn't\", 'mustn', \"mustn't\", 'needn', \"needn't\", 'shan', \"shan't\", 'shouldn', \"shouldn't\",\r\n",
        "    'wasn', \"wasn't\", 'weren', \"weren't\", 'won', \"won't\", 'wouldn', \"wouldn't\"]"
      ],
      "execution_count": null,
      "outputs": []
    },
    {
      "cell_type": "code",
      "metadata": {
        "id": "ngiwnklyJAvV"
      },
      "source": [
        "def tokenize_text(raw_text: str):\r\n",
        "    \"\"\"Функция для токенизации текста    \r\n",
        "    :param raw_text: исходная текстовая строка\r\n",
        "    \"\"\"\r\n",
        "    tokenized_str = nltk.word_tokenize(raw_text)\r\n",
        "#    tokens = [i.lower() for i in tokenized_str if ( i not in string.punctuation )]\r\n",
        "#    filtered_tokens = [i for i in tokens if ( i not in stop_words )]\r\n",
        "#    return filtered_tokens\r\n",
        "    return tokenized_str"
      ],
      "execution_count": null,
      "outputs": []
    },
    {
      "cell_type": "code",
      "metadata": {
        "colab": {
          "base_uri": "https://localhost:8080/"
        },
        "id": "XcpFgH8NKFOe",
        "outputId": "2a03d234-1965-4182-8338-a0bfe308db32"
      },
      "source": [
        "nltk.download('punkt', download_dir='.')"
      ],
      "execution_count": null,
      "outputs": [
        {
          "output_type": "stream",
          "text": [
            "[nltk_data] Downloading package punkt to ....\n",
            "[nltk_data]   Unzipping tokenizers/punkt.zip.\n"
          ],
          "name": "stdout"
        },
        {
          "output_type": "execute_result",
          "data": {
            "text/plain": [
              "True"
            ]
          },
          "metadata": {
            "tags": []
          },
          "execution_count": 5
        }
      ]
    },
    {
      "cell_type": "code",
      "metadata": {
        "id": "-_eM5eYYD7PA"
      },
      "source": [
        "work_data['token_A']=(work_data['Ans']).apply(str).apply(tokenize_text)"
      ],
      "execution_count": null,
      "outputs": []
    },
    {
      "cell_type": "code",
      "metadata": {
        "id": "gBSx0Ez_NOYn"
      },
      "source": [
        "work_data['token_A_len']=(work_data['token_A']).apply(len)\r\n"
      ],
      "execution_count": null,
      "outputs": []
    },
    {
      "cell_type": "code",
      "metadata": {
        "id": "0QtMXvoYNrXV"
      },
      "source": [
        "work_data['token_Q']=(work_data['Qwe']).apply(str).apply(tokenize_text)\r\n",
        "work_data['token_Q_len']=(work_data['token_Q']).apply(len)"
      ],
      "execution_count": null,
      "outputs": []
    },
    {
      "cell_type": "code",
      "metadata": {
        "colab": {
          "base_uri": "https://localhost:8080/",
          "height": 289
        },
        "id": "crJaJAtxJCwG",
        "outputId": "a8a45685-8fb9-4b34-dde4-f51e3b96ee04"
      },
      "source": [
        "work_data.head()"
      ],
      "execution_count": null,
      "outputs": [
        {
          "output_type": "execute_result",
          "data": {
            "text/html": [
              "<div>\n",
              "<style scoped>\n",
              "    .dataframe tbody tr th:only-of-type {\n",
              "        vertical-align: middle;\n",
              "    }\n",
              "\n",
              "    .dataframe tbody tr th {\n",
              "        vertical-align: top;\n",
              "    }\n",
              "\n",
              "    .dataframe thead th {\n",
              "        text-align: right;\n",
              "    }\n",
              "</style>\n",
              "<table border=\"1\" class=\"dataframe\">\n",
              "  <thead>\n",
              "    <tr style=\"text-align: right;\">\n",
              "      <th></th>\n",
              "      <th>Unnamed: 0</th>\n",
              "      <th>LQ</th>\n",
              "      <th>LA</th>\n",
              "      <th>LcharacterID_A</th>\n",
              "      <th>Ans</th>\n",
              "      <th>LcharacterID_Q</th>\n",
              "      <th>Qwe</th>\n",
              "      <th>token_A</th>\n",
              "      <th>token_A_len</th>\n",
              "      <th>token_Q</th>\n",
              "      <th>token_Q_len</th>\n",
              "    </tr>\n",
              "  </thead>\n",
              "  <tbody>\n",
              "    <tr>\n",
              "      <th>0</th>\n",
              "      <td>0</td>\n",
              "      <td>L198</td>\n",
              "      <td>L199</td>\n",
              "      <td>u2</td>\n",
              "      <td>Forget it.</td>\n",
              "      <td>u0</td>\n",
              "      <td>You're asking me out.  That's so cute. What's ...</td>\n",
              "      <td>[Forget, it, .]</td>\n",
              "      <td>3</td>\n",
              "      <td>[You, 're, asking, me, out, ., That, 's, so, c...</td>\n",
              "      <td>17</td>\n",
              "    </tr>\n",
              "    <tr>\n",
              "      <th>1</th>\n",
              "      <td>1</td>\n",
              "      <td>L207</td>\n",
              "      <td>L208</td>\n",
              "      <td>u2</td>\n",
              "      <td>Let me see what I can do.</td>\n",
              "      <td>u0</td>\n",
              "      <td>Gosh, if only we could find Kat a boyfriend...</td>\n",
              "      <td>[Let, me, see, what, I, can, do, .]</td>\n",
              "      <td>8</td>\n",
              "      <td>[Gosh, ,, if, only, we, could, find, Kat, a, b...</td>\n",
              "      <td>11</td>\n",
              "    </tr>\n",
              "    <tr>\n",
              "      <th>2</th>\n",
              "      <td>2</td>\n",
              "      <td>L276</td>\n",
              "      <td>L277</td>\n",
              "      <td>u2</td>\n",
              "      <td>Well, there's someone I think might be --</td>\n",
              "      <td>u0</td>\n",
              "      <td>How is our little Find the Wench A Date plan p...</td>\n",
              "      <td>[Well, ,, there, 's, someone, I, think, might,...</td>\n",
              "      <td>10</td>\n",
              "      <td>[How, is, our, little, Find, the, Wench, A, Da...</td>\n",
              "      <td>12</td>\n",
              "    </tr>\n",
              "    <tr>\n",
              "      <th>3</th>\n",
              "      <td>3</td>\n",
              "      <td>L280</td>\n",
              "      <td>L281</td>\n",
              "      <td>u0</td>\n",
              "      <td>Where?</td>\n",
              "      <td>u2</td>\n",
              "      <td>There.</td>\n",
              "      <td>[Where, ?]</td>\n",
              "      <td>2</td>\n",
              "      <td>[There, .]</td>\n",
              "      <td>2</td>\n",
              "    </tr>\n",
              "    <tr>\n",
              "      <th>4</th>\n",
              "      <td>4</td>\n",
              "      <td>L363</td>\n",
              "      <td>L364</td>\n",
              "      <td>u0</td>\n",
              "      <td>I counted on you to help my cause. You and tha...</td>\n",
              "      <td>u2</td>\n",
              "      <td>You got something on your mind?</td>\n",
              "      <td>[I, counted, on, you, to, help, my, cause, ., ...</td>\n",
              "      <td>26</td>\n",
              "      <td>[You, got, something, on, your, mind, ?]</td>\n",
              "      <td>7</td>\n",
              "    </tr>\n",
              "  </tbody>\n",
              "</table>\n",
              "</div>"
            ],
            "text/plain": [
              "   Unnamed: 0  ... token_Q_len\n",
              "0           0  ...          17\n",
              "1           1  ...          11\n",
              "2           2  ...          12\n",
              "3           3  ...           2\n",
              "4           4  ...           7\n",
              "\n",
              "[5 rows x 11 columns]"
            ]
          },
          "metadata": {
            "tags": []
          },
          "execution_count": 9
        }
      ]
    },
    {
      "cell_type": "code",
      "metadata": {
        "id": "hqGlIfrgOOfW"
      },
      "source": [
        "work_chat=work_data[(work_data['token_A_len']<16)&(work_data['token_Q_len']<16)]\r\n"
      ],
      "execution_count": null,
      "outputs": []
    },
    {
      "cell_type": "markdown",
      "metadata": {
        "id": "pYBswmEsPgiB"
      },
      "source": [
        "## Массив данных для обучения чат бота"
      ]
    },
    {
      "cell_type": "code",
      "metadata": {
        "colab": {
          "base_uri": "https://localhost:8080/"
        },
        "id": "a_-5q6tRO3b3",
        "outputId": "e24413d5-0c29-4746-fbde-9605982451b3"
      },
      "source": [
        "work_chat.info()"
      ],
      "execution_count": null,
      "outputs": [
        {
          "output_type": "stream",
          "text": [
            "<class 'pandas.core.frame.DataFrame'>\n",
            "Int64Index: 21659 entries, 1 to 38090\n",
            "Data columns (total 11 columns):\n",
            " #   Column          Non-Null Count  Dtype \n",
            "---  ------          --------------  ----- \n",
            " 0   Unnamed: 0      21659 non-null  int64 \n",
            " 1   LQ              21659 non-null  object\n",
            " 2   LA              21659 non-null  object\n",
            " 3   LcharacterID_A  21659 non-null  object\n",
            " 4   Ans             21633 non-null  object\n",
            " 5   LcharacterID_Q  21659 non-null  object\n",
            " 6   Qwe             21629 non-null  object\n",
            " 7   token_A         21659 non-null  object\n",
            " 8   token_A_len     21659 non-null  int64 \n",
            " 9   token_Q         21659 non-null  object\n",
            " 10  token_Q_len     21659 non-null  int64 \n",
            "dtypes: int64(3), object(8)\n",
            "memory usage: 2.0+ MB\n"
          ],
          "name": "stdout"
        }
      ]
    },
    {
      "cell_type": "code",
      "metadata": {
        "id": "Ooq1yUKGQUQM"
      },
      "source": [
        "input_texts=work_chat['Qwe'].apply(str).sum()\r\n",
        "#input_texts1=re.sub(\"\\\\'\",\"\",input_texts)"
      ],
      "execution_count": null,
      "outputs": []
    },
    {
      "cell_type": "code",
      "metadata": {
        "id": "XwejPBQWnYWJ"
      },
      "source": [
        "input_texts"
      ],
      "execution_count": null,
      "outputs": []
    },
    {
      "cell_type": "code",
      "metadata": {
        "id": "fVOpDV9mQsY7"
      },
      "source": [
        "target_texts=work_chat['Ans'].apply(str).values.sum()"
      ],
      "execution_count": null,
      "outputs": []
    },
    {
      "cell_type": "code",
      "metadata": {
        "id": "459bFxllGmqn"
      },
      "source": [
        "def prepare_vocab(texts):\r\n",
        "    vocab = sorted(set(''.join(texts)))\r\n",
        "    vocab.append('<START>')\r\n",
        "    vocab.append('<END>')\r\n",
        "    vocab_size = len(vocab)\r\n",
        "    char2idx = {u:i for i, u in enumerate(vocab)}\r\n",
        "    idx2char = np.array(vocab)\r\n",
        "    return vocab_size, char2idx, idx2char"
      ],
      "execution_count": null,
      "outputs": []
    },
    {
      "cell_type": "code",
      "metadata": {
        "id": "7hjhllNeGr8z"
      },
      "source": [
        "INPUT_VOCAB_SIZE, input_char2idx, input_idx2char = prepare_vocab(input_texts)\r\n",
        "TARGET_VOCAB_SIZE, target_char2idx, target_idx2char = prepare_vocab(target_texts)"
      ],
      "execution_count": null,
      "outputs": []
    },
    {
      "cell_type": "code",
      "metadata": {
        "id": "20CnhRA0T7fK"
      },
      "source": [
        "input_texts_data=work_chat['Qwe'].apply(str).values\r\n",
        "#target_texts_data=work_chat['Ans'].apply(str)\r\n",
        "target_texts_data=work_chat['Ans'].apply(str).values"
      ],
      "execution_count": null,
      "outputs": []
    },
    {
      "cell_type": "code",
      "metadata": {
        "id": "qTxobPTXSEKh"
      },
      "source": [
        "input_texts_as_int = [[input_char2idx[c] for c in text] for text in input_texts_data]\r\n",
        "target_texts_as_int = [[target_char2idx[c] for c in text] for text in target_texts_data]\r\n",
        "\r\n",
        "encoder_input_seqs = [np.array(text) for text in input_texts_as_int]\r\n",
        "decoder_input_seqs = []\r\n",
        "decoder_target_seqs = []\r\n",
        "for target_text in target_texts_as_int:\r\n",
        "    decoder_input_seqs.append(np.array([target_char2idx['<START>']] + target_text))\r\n",
        "    decoder_target_seqs.append(np.array(target_text + [target_char2idx['<END>']]))"
      ],
      "execution_count": null,
      "outputs": []
    },
    {
      "cell_type": "code",
      "metadata": {
        "colab": {
          "base_uri": "https://localhost:8080/"
        },
        "id": "jfcJPOWbSGO0",
        "outputId": "2485a688-8a6a-40d7-b5fd-fc343f0f7495"
      },
      "source": [
        "input_texts_data"
      ],
      "execution_count": null,
      "outputs": [
        {
          "output_type": "execute_result",
          "data": {
            "text/plain": [
              "array(['Gosh, if only we could find Kat a boyfriend...',\n",
              "       'How is our little Find the Wench A Date plan progressing?',\n",
              "       'There.', ..., 'Are you dictating the strategy of this war, Sir?',\n",
              "       'Splendid site, Crealock, splendil I want to establish Camp here immediately.',\n",
              "       \"Colonel Durnford... William Vereker. I hear you 've been seeking Officers?\"],\n",
              "      dtype=object)"
            ]
          },
          "metadata": {
            "tags": []
          },
          "execution_count": 52
        }
      ]
    },
    {
      "cell_type": "code",
      "metadata": {
        "id": "a323Bf7CV4PD"
      },
      "source": [
        "max_enc_seq_length = max([len(seq) for seq in encoder_input_seqs])\r\n",
        "max_dec_seq_length = max([len(seq) for seq in decoder_input_seqs])\r\n",
        "\r\n",
        "encoder_input_seqs = tf.keras.preprocessing.sequence.pad_sequences(\r\n",
        "    encoder_input_seqs,\r\n",
        "    value=input_char2idx[' '],\r\n",
        "    padding='post',\r\n",
        "    maxlen=max_enc_seq_length)\r\n",
        "\r\n",
        "decoder_input_seqs = tf.keras.preprocessing.sequence.pad_sequences(\r\n",
        "    decoder_input_seqs,\r\n",
        "    value=target_char2idx[' '],\r\n",
        "    padding='post',\r\n",
        "    maxlen=max_dec_seq_length)\r\n",
        "\r\n",
        "decoder_target_seqs = tf.keras.preprocessing.sequence.pad_sequences(\r\n",
        "    decoder_target_seqs,\r\n",
        "    value=target_char2idx[' '],\r\n",
        "    padding='post',\r\n",
        "    maxlen=max_dec_seq_length)"
      ],
      "execution_count": null,
      "outputs": []
    },
    {
      "cell_type": "code",
      "metadata": {
        "id": "yvdcjEO3WGux"
      },
      "source": [
        "H_SIZE = 256 # Размерность скрытого состояния LSTM\r\n",
        "EMB_SIZE = 256 # размерность эмбеддингов (и для входных и для выходных цепочек)\r\n",
        "\r\n",
        "class Encoder(tf.keras.Model):\r\n",
        "    def __init__(self):\r\n",
        "        super().__init__()\r\n",
        "        self.embed = tf.keras.layers.Embedding(INPUT_VOCAB_SIZE, EMB_SIZE)\r\n",
        "        self.lstm = tf.keras.layers.LSTM(H_SIZE, return_sequences=False, return_state=True)\r\n",
        "        \r\n",
        "    def call(self, x):\r\n",
        "        out = self.embed(x)\r\n",
        "        _, h, c = self.lstm(out)\r\n",
        "        state = (h, c)\r\n",
        "        return state\r\n",
        "\r\n",
        "class Decoder(tf.keras.Model):\r\n",
        "    def __init__(self):\r\n",
        "        super().__init__()\r\n",
        "        self.embed = tf.keras.layers.Embedding(TARGET_VOCAB_SIZE, EMB_SIZE)\r\n",
        "        self.lstm = tf.keras.layers.LSTM(H_SIZE, return_sequences=True, return_state=True)\r\n",
        "        self.fc = tf.keras.layers.Dense(TARGET_VOCAB_SIZE, activation='softmax')\r\n",
        "        \r\n",
        "    def call(self, x, init_state):\r\n",
        "        out = self.embed(x)\r\n",
        "        out, h, c = self.lstm(out, initial_state=init_state)\r\n",
        "        out = self.fc(out)\r\n",
        "        state = (h, c)\r\n",
        "        return out, state\r\n",
        "\r\n",
        "encoder_model = Encoder()\r\n",
        "decoder_model = Decoder()\r\n",
        "\r\n",
        "encoder_inputs = tf.keras.layers.Input(shape=(None,))\r\n",
        "decoder_inputs = tf.keras.layers.Input(shape=(None,))\r\n",
        "\r\n",
        "enc_state = encoder_model(encoder_inputs)\r\n",
        "decoder_outputs, _ = decoder_model(decoder_inputs, enc_state)\r\n",
        "\r\n",
        "seq2seq = tf.keras.Model([encoder_inputs, decoder_inputs], decoder_outputs)"
      ],
      "execution_count": null,
      "outputs": []
    },
    {
      "cell_type": "code",
      "metadata": {
        "colab": {
          "base_uri": "https://localhost:8080/"
        },
        "id": "6vpsbM1PWPvn",
        "outputId": "e46deea5-0c51-4723-acb9-c891c32ae4a0"
      },
      "source": [
        "BATCH_SIZE = 64\r\n",
        "EPOCHS = 100\r\n",
        "\r\n",
        "loss = tf.losses.SparseCategoricalCrossentropy()\r\n",
        "seq2seq.compile(optimizer='rmsprop', loss=loss, metrics=['accuracy'])\r\n",
        "seq2seq.fit([encoder_input_seqs, decoder_input_seqs], decoder_target_seqs,\r\n",
        "          batch_size=BATCH_SIZE,\r\n",
        "          epochs=EPOCHS)"
      ],
      "execution_count": null,
      "outputs": [
        {
          "output_type": "stream",
          "text": [
            "Epoch 1/100\n",
            "339/339 [==============================] - 11s 26ms/step - loss: 1.1221 - accuracy: 0.7469\n",
            "Epoch 2/100\n",
            "339/339 [==============================] - 9s 26ms/step - loss: 0.6204 - accuracy: 0.8213\n",
            "Epoch 3/100\n",
            "339/339 [==============================] - 9s 26ms/step - loss: 0.5530 - accuracy: 0.8382\n",
            "Epoch 4/100\n",
            "339/339 [==============================] - 9s 26ms/step - loss: 0.5151 - accuracy: 0.8480\n",
            "Epoch 5/100\n",
            "339/339 [==============================] - 9s 26ms/step - loss: 0.4933 - accuracy: 0.8538\n",
            "Epoch 6/100\n",
            "339/339 [==============================] - 9s 25ms/step - loss: 0.4785 - accuracy: 0.8577\n",
            "Epoch 7/100\n",
            "339/339 [==============================] - 9s 25ms/step - loss: 0.4637 - accuracy: 0.8612\n",
            "Epoch 8/100\n",
            "339/339 [==============================] - 9s 25ms/step - loss: 0.4526 - accuracy: 0.8641\n",
            "Epoch 9/100\n",
            "339/339 [==============================] - 9s 25ms/step - loss: 0.4456 - accuracy: 0.8660\n",
            "Epoch 10/100\n",
            "339/339 [==============================] - 9s 25ms/step - loss: 0.4368 - accuracy: 0.8684\n",
            "Epoch 11/100\n",
            "339/339 [==============================] - 9s 25ms/step - loss: 0.4315 - accuracy: 0.8700\n",
            "Epoch 12/100\n",
            "339/339 [==============================] - 9s 26ms/step - loss: 0.4214 - accuracy: 0.8729\n",
            "Epoch 13/100\n",
            "339/339 [==============================] - 9s 26ms/step - loss: 0.4203 - accuracy: 0.8729\n",
            "Epoch 14/100\n",
            "339/339 [==============================] - 9s 25ms/step - loss: 0.4133 - accuracy: 0.8749\n",
            "Epoch 15/100\n",
            "339/339 [==============================] - 9s 26ms/step - loss: 0.4096 - accuracy: 0.8761\n",
            "Epoch 16/100\n",
            "339/339 [==============================] - 9s 25ms/step - loss: 0.4057 - accuracy: 0.8772\n",
            "Epoch 17/100\n",
            "339/339 [==============================] - 9s 26ms/step - loss: 0.4004 - accuracy: 0.8783\n",
            "Epoch 18/100\n",
            "339/339 [==============================] - 9s 26ms/step - loss: 0.3973 - accuracy: 0.8792\n",
            "Epoch 19/100\n",
            "339/339 [==============================] - 9s 26ms/step - loss: 0.3930 - accuracy: 0.8806\n",
            "Epoch 20/100\n",
            "339/339 [==============================] - 9s 26ms/step - loss: 0.3943 - accuracy: 0.8802\n",
            "Epoch 21/100\n",
            "339/339 [==============================] - 9s 26ms/step - loss: 0.3882 - accuracy: 0.8816\n",
            "Epoch 22/100\n",
            "339/339 [==============================] - 9s 26ms/step - loss: 0.3822 - accuracy: 0.8834\n",
            "Epoch 23/100\n",
            "339/339 [==============================] - 9s 25ms/step - loss: 0.3832 - accuracy: 0.8831\n",
            "Epoch 24/100\n",
            "339/339 [==============================] - 9s 25ms/step - loss: 0.3788 - accuracy: 0.8843\n",
            "Epoch 25/100\n",
            "339/339 [==============================] - 9s 26ms/step - loss: 0.3730 - accuracy: 0.8861\n",
            "Epoch 26/100\n",
            "339/339 [==============================] - 9s 26ms/step - loss: 0.3698 - accuracy: 0.8870\n",
            "Epoch 27/100\n",
            "339/339 [==============================] - 9s 26ms/step - loss: 0.3688 - accuracy: 0.8871\n",
            "Epoch 28/100\n",
            "339/339 [==============================] - 9s 26ms/step - loss: 0.3682 - accuracy: 0.8875\n",
            "Epoch 29/100\n",
            "339/339 [==============================] - 9s 26ms/step - loss: 0.3639 - accuracy: 0.8888\n",
            "Epoch 30/100\n",
            "339/339 [==============================] - 9s 26ms/step - loss: 0.3639 - accuracy: 0.8886\n",
            "Epoch 31/100\n",
            "339/339 [==============================] - 9s 25ms/step - loss: 0.3598 - accuracy: 0.8899\n",
            "Epoch 32/100\n",
            "339/339 [==============================] - 9s 26ms/step - loss: 0.3571 - accuracy: 0.8907\n",
            "Epoch 33/100\n",
            "339/339 [==============================] - 9s 25ms/step - loss: 0.3539 - accuracy: 0.8916\n",
            "Epoch 34/100\n",
            "339/339 [==============================] - 9s 26ms/step - loss: 0.3522 - accuracy: 0.8919\n",
            "Epoch 35/100\n",
            "339/339 [==============================] - 9s 26ms/step - loss: 0.3476 - accuracy: 0.8933\n",
            "Epoch 36/100\n",
            "339/339 [==============================] - 9s 25ms/step - loss: 0.3474 - accuracy: 0.8935\n",
            "Epoch 37/100\n",
            "339/339 [==============================] - 9s 26ms/step - loss: 0.3441 - accuracy: 0.8944\n",
            "Epoch 38/100\n",
            "339/339 [==============================] - 9s 25ms/step - loss: 0.3412 - accuracy: 0.8953\n",
            "Epoch 39/100\n",
            "339/339 [==============================] - 9s 26ms/step - loss: 0.3391 - accuracy: 0.8959\n",
            "Epoch 40/100\n",
            "339/339 [==============================] - 9s 26ms/step - loss: 0.3381 - accuracy: 0.8960\n",
            "Epoch 41/100\n",
            "339/339 [==============================] - 9s 26ms/step - loss: 0.3351 - accuracy: 0.8969\n",
            "Epoch 42/100\n",
            "339/339 [==============================] - 9s 26ms/step - loss: 0.3340 - accuracy: 0.8974\n",
            "Epoch 43/100\n",
            "339/339 [==============================] - 9s 25ms/step - loss: 0.3309 - accuracy: 0.8983\n",
            "Epoch 44/100\n",
            "339/339 [==============================] - 9s 25ms/step - loss: 0.3291 - accuracy: 0.8989\n",
            "Epoch 45/100\n",
            "339/339 [==============================] - 9s 25ms/step - loss: 0.3261 - accuracy: 0.8997\n",
            "Epoch 46/100\n",
            "339/339 [==============================] - 9s 26ms/step - loss: 0.3266 - accuracy: 0.8997\n",
            "Epoch 47/100\n",
            "339/339 [==============================] - 9s 25ms/step - loss: 0.3262 - accuracy: 0.8996\n",
            "Epoch 48/100\n",
            "339/339 [==============================] - 9s 26ms/step - loss: 0.3236 - accuracy: 0.9002\n",
            "Epoch 49/100\n",
            "339/339 [==============================] - 9s 26ms/step - loss: 0.3213 - accuracy: 0.9011\n",
            "Epoch 50/100\n",
            "339/339 [==============================] - 9s 26ms/step - loss: 0.3206 - accuracy: 0.9011\n",
            "Epoch 51/100\n",
            "339/339 [==============================] - 9s 26ms/step - loss: 0.3173 - accuracy: 0.9025\n",
            "Epoch 52/100\n",
            "339/339 [==============================] - 9s 26ms/step - loss: 0.3191 - accuracy: 0.9019\n",
            "Epoch 53/100\n",
            "339/339 [==============================] - 9s 26ms/step - loss: 0.3169 - accuracy: 0.9022\n",
            "Epoch 54/100\n",
            "339/339 [==============================] - 9s 26ms/step - loss: 0.3127 - accuracy: 0.9037\n",
            "Epoch 55/100\n",
            "339/339 [==============================] - 9s 26ms/step - loss: 0.3136 - accuracy: 0.9036\n",
            "Epoch 56/100\n",
            "339/339 [==============================] - 9s 26ms/step - loss: 0.3127 - accuracy: 0.9036\n",
            "Epoch 57/100\n",
            "339/339 [==============================] - 9s 26ms/step - loss: 0.3103 - accuracy: 0.9044\n",
            "Epoch 58/100\n",
            "339/339 [==============================] - 9s 26ms/step - loss: 0.3104 - accuracy: 0.9041\n",
            "Epoch 59/100\n",
            "339/339 [==============================] - 9s 26ms/step - loss: 0.3078 - accuracy: 0.9049\n",
            "Epoch 60/100\n",
            "339/339 [==============================] - 9s 26ms/step - loss: 0.3084 - accuracy: 0.9050\n",
            "Epoch 61/100\n",
            "339/339 [==============================] - 9s 26ms/step - loss: 0.3066 - accuracy: 0.9055\n",
            "Epoch 62/100\n",
            "339/339 [==============================] - 9s 26ms/step - loss: 0.3060 - accuracy: 0.9053\n",
            "Epoch 63/100\n",
            "339/339 [==============================] - 9s 26ms/step - loss: 0.3056 - accuracy: 0.9055\n",
            "Epoch 64/100\n",
            "339/339 [==============================] - 9s 26ms/step - loss: 0.3021 - accuracy: 0.9065\n",
            "Epoch 65/100\n",
            "339/339 [==============================] - 9s 26ms/step - loss: 0.3013 - accuracy: 0.9070\n",
            "Epoch 66/100\n",
            "339/339 [==============================] - 9s 26ms/step - loss: 0.2990 - accuracy: 0.9076\n",
            "Epoch 67/100\n",
            "339/339 [==============================] - 9s 26ms/step - loss: 0.3008 - accuracy: 0.9072\n",
            "Epoch 68/100\n",
            "339/339 [==============================] - 9s 26ms/step - loss: 0.3012 - accuracy: 0.9069\n",
            "Epoch 69/100\n",
            "339/339 [==============================] - 9s 26ms/step - loss: 0.3009 - accuracy: 0.9071\n",
            "Epoch 70/100\n",
            "339/339 [==============================] - 9s 26ms/step - loss: 0.2969 - accuracy: 0.9081\n",
            "Epoch 71/100\n",
            "339/339 [==============================] - 9s 26ms/step - loss: 0.2981 - accuracy: 0.9077\n",
            "Epoch 72/100\n",
            "339/339 [==============================] - 9s 26ms/step - loss: 0.2951 - accuracy: 0.9086\n",
            "Epoch 73/100\n",
            "339/339 [==============================] - 9s 26ms/step - loss: 0.2960 - accuracy: 0.9083\n",
            "Epoch 74/100\n",
            "339/339 [==============================] - 9s 26ms/step - loss: 0.2956 - accuracy: 0.9083\n",
            "Epoch 75/100\n",
            "339/339 [==============================] - 9s 26ms/step - loss: 0.2963 - accuracy: 0.9079\n",
            "Epoch 76/100\n",
            "339/339 [==============================] - 9s 26ms/step - loss: 0.2953 - accuracy: 0.9087\n",
            "Epoch 77/100\n",
            "339/339 [==============================] - 9s 26ms/step - loss: 0.2941 - accuracy: 0.9088\n",
            "Epoch 78/100\n",
            "339/339 [==============================] - 9s 26ms/step - loss: 0.2942 - accuracy: 0.9088\n",
            "Epoch 79/100\n",
            "339/339 [==============================] - 9s 26ms/step - loss: 0.2921 - accuracy: 0.9095\n",
            "Epoch 80/100\n",
            "339/339 [==============================] - 9s 26ms/step - loss: 0.2927 - accuracy: 0.9092\n",
            "Epoch 81/100\n",
            "339/339 [==============================] - 9s 26ms/step - loss: 0.2905 - accuracy: 0.9098\n",
            "Epoch 82/100\n",
            "339/339 [==============================] - 9s 26ms/step - loss: 0.2904 - accuracy: 0.9097\n",
            "Epoch 83/100\n",
            "339/339 [==============================] - 9s 26ms/step - loss: 0.2927 - accuracy: 0.9090\n",
            "Epoch 84/100\n",
            "339/339 [==============================] - 9s 26ms/step - loss: 0.2911 - accuracy: 0.9096\n",
            "Epoch 85/100\n",
            "339/339 [==============================] - 9s 26ms/step - loss: 0.2889 - accuracy: 0.9103\n",
            "Epoch 86/100\n",
            "339/339 [==============================] - 9s 26ms/step - loss: 0.2884 - accuracy: 0.9104\n",
            "Epoch 87/100\n",
            "339/339 [==============================] - 9s 26ms/step - loss: 0.2876 - accuracy: 0.9107\n",
            "Epoch 88/100\n",
            "339/339 [==============================] - 9s 26ms/step - loss: 0.2889 - accuracy: 0.9103\n",
            "Epoch 89/100\n",
            "339/339 [==============================] - 9s 26ms/step - loss: 0.2915 - accuracy: 0.9097\n",
            "Epoch 90/100\n",
            "339/339 [==============================] - 9s 26ms/step - loss: 0.2880 - accuracy: 0.9105\n",
            "Epoch 91/100\n",
            "339/339 [==============================] - 9s 26ms/step - loss: 0.2888 - accuracy: 0.9102\n",
            "Epoch 92/100\n",
            "339/339 [==============================] - 9s 26ms/step - loss: 0.2855 - accuracy: 0.9112\n",
            "Epoch 93/100\n",
            "339/339 [==============================] - 9s 26ms/step - loss: 0.2855 - accuracy: 0.9108\n",
            "Epoch 94/100\n",
            "339/339 [==============================] - 9s 26ms/step - loss: 0.2856 - accuracy: 0.9112\n",
            "Epoch 95/100\n",
            "339/339 [==============================] - 9s 26ms/step - loss: 0.2826 - accuracy: 0.9116\n",
            "Epoch 96/100\n",
            "339/339 [==============================] - 9s 26ms/step - loss: 0.2859 - accuracy: 0.9110\n",
            "Epoch 97/100\n",
            "339/339 [==============================] - 9s 26ms/step - loss: 0.2850 - accuracy: 0.9113\n",
            "Epoch 98/100\n",
            "339/339 [==============================] - 9s 26ms/step - loss: 0.2861 - accuracy: 0.9106\n",
            "Epoch 99/100\n",
            "339/339 [==============================] - 9s 26ms/step - loss: 0.2844 - accuracy: 0.9115\n",
            "Epoch 100/100\n",
            "339/339 [==============================] - 9s 26ms/step - loss: 0.2830 - accuracy: 0.9120\n"
          ],
          "name": "stdout"
        },
        {
          "output_type": "execute_result",
          "data": {
            "text/plain": [
              "<tensorflow.python.keras.callbacks.History at 0x7f83c1bb2518>"
            ]
          },
          "metadata": {
            "tags": []
          },
          "execution_count": 55
        }
      ]
    },
    {
      "cell_type": "code",
      "metadata": {
        "id": "vvjC-dv_X2uM"
      },
      "source": [
        "def seq2seq_inference(input_seq):\r\n",
        "    state = encoder_model(input_seq)\r\n",
        "\r\n",
        "    target_seq = np.array([[target_char2idx['<START>']]])\r\n",
        "\r\n",
        "    decoded_sentence = ''\r\n",
        "    while True:\r\n",
        "        output_tokens, state = decoder_model(target_seq, state)\r\n",
        "\r\n",
        "        sampled_token_index = np.argmax(output_tokens[0, -1, :])\r\n",
        "        sampled_char = target_idx2char[sampled_token_index]\r\n",
        "        decoded_sentence += sampled_char\r\n",
        "\r\n",
        "        if (sampled_char == '<END>' or\r\n",
        "           len(decoded_sentence) > max_dec_seq_length):\r\n",
        "            break\r\n",
        "\r\n",
        "        target_seq = np.array([[sampled_token_index]])\r\n",
        "\r\n",
        "    return decoded_sentence"
      ],
      "execution_count": null,
      "outputs": []
    },
    {
      "cell_type": "code",
      "metadata": {
        "colab": {
          "base_uri": "https://localhost:8080/"
        },
        "id": "QDXeRTQ-X-Mg",
        "outputId": "1bef9a5a-9165-49f7-effa-b60dcca0ffdd"
      },
      "source": [
        "for seq_index in range(250, 290):\r\n",
        "    input_seq = encoder_input_seqs[seq_index: seq_index + 1]\r\n",
        "    decoded_sentence = seq2seq_inference(input_seq)\r\n",
        "    print('-')\r\n",
        "    print('Input sentence:', input_texts_data[seq_index])\r\n",
        "    print('Result sentence:', decoded_sentence)\r\n",
        "    print('Target sentence:', target_texts_data[seq_index])"
      ],
      "execution_count": null,
      "outputs": [
        {
          "output_type": "stream",
          "text": [
            "-\n",
            "Input sentence: Have a pleasant evening.  Will you have tea, Mister Welles?\n",
            "Result sentence: I have to go to the way you will.                                                             \n",
            "Target sentence: Thank you.\n",
            "-\n",
            "Input sentence: He's odd.\n",
            "Result sentence: I don't know.<END>\n",
            "Target sentence: He's a lawyer.  Please, sit, here...\n",
            "-\n",
            "Input sentence: People remember me from the news.  Can you drive me back now?\n",
            "Result sentence: I don't know.<END>\n",
            "Target sentence: Of course.\n",
            "-\n",
            "Input sentence: Rick...I can't.\n",
            "Result sentence: I don't know.<END>\n",
            "Target sentence: Never say can't.  Just do what I do.\n",
            "-\n",
            "Input sentence: You alright?\n",
            "Result sentence: I don't know.<END>\n",
            "Target sentence: Kristen...\n",
            "-\n",
            "Input sentence: I can't go back to sleep again.\n",
            "Result sentence: I don't know.<END>\n",
            "Target sentence: I haven't slept much either.  Since Kristen...\n",
            "-\n",
            "Input sentence: I love to dream, I just hate ones about my dad.\n",
            "Result sentence: I don't know.<END>\n",
            "Target sentence: You could do worse.\n",
            "-\n",
            "Input sentence: No offense, or anything, but it's kind of hard to swallow.\n",
            "Result sentence: I don't know.<END>\n",
            "Target sentence: The story is, the deaths you can't argue with.\n",
            "-\n",
            "Input sentence: How long have you been awake?\n",
            "Result sentence: I don't know.<END>\n",
            "Target sentence: Three days.\n",
            "-\n",
            "Input sentence: As long as your driving doesn't kill us.\n",
            "Result sentence: I don't know.<END>\n",
            "Target sentence: It's okay, we're just about there.\n",
            "-\n",
            "Input sentence: He's going after Debbie.  I gotta stop him.\n",
            "Result sentence: I don't know.<END>\n",
            "Target sentence: You know, I get the weirdest feeling we've been through this before.\n",
            "-\n",
            "Input sentence: Here we are.\n",
            "Result sentence: I don't know.<END>\n",
            "Target sentence: Something's wrong here.  It feels like...\n",
            "-\n",
            "Input sentence: You look great!\n",
            "Result sentence: I don't know.<END>\n",
            "Target sentence: Save it for later.  Come on!\n",
            "-\n",
            "Input sentence: Rick, please.\n",
            "Result sentence: I don't know.<END>\n",
            "Target sentence: Alright, I think I see salvation...\n",
            "-\n",
            "Input sentence: I think Sheila's more interested in dissecting bodies than just admiring them.\n",
            "Result sentence: I have to go to the way you will.                                                             \n",
            "Target sentence: Give her time.  Beauty is skin deep.\n",
            "-\n",
            "Input sentence: T-T-Thanks Alice...\n",
            "Result sentence: I don't know.<END>\n",
            "Target sentence: Earth to Alice...\n",
            "-\n",
            "Input sentence: Hey, Rick!\n",
            "Result sentence: I don't know.<END>\n",
            "Target sentence: Excuse me, ladies.  I'll just be a moment.\n",
            "-\n",
            "Input sentence: I don't get it.\n",
            "Result sentence: I don't know.<END>\n",
            "Target sentence: Let me talk to you.\n",
            "-\n",
            "Input sentence: Hey man, we're all sorry...\n",
            "Result sentence: I don't know.<END>\n",
            "Target sentence: She knew she was gonna die.\n",
            "-\n",
            "Input sentence: What's wrong with me?\n",
            "Result sentence: I don't know.<END>\n",
            "Target sentence: Your distraught.  It'll help...\n",
            "-\n",
            "Input sentence: What is it?\n",
            "Result sentence: I don't know.<END>\n",
            "Target sentence: Oh God!  He killed them!\n",
            "-\n",
            "Input sentence: Excuse us, dear.\n",
            "Result sentence: I don't know.<END>\n",
            "Target sentence: It's okay, Dan\n",
            "-\n",
            "Input sentence: In your present condition, Alice, we're worried about your ability --\n",
            "Result sentence: I was trying to get you out of there.<END>\n",
            "Target sentence: What are you talking about?  My \"condition\"?...\n",
            "-\n",
            "Input sentence: Hey...wake up.\n",
            "Result sentence: I don't know.<END>\n",
            "Target sentence: Huh?\n",
            "-\n",
            "Input sentence: Hi, you don't look very well.  Are you feeling all right?\n",
            "Result sentence: I was trying to get you out of there.<END>\n",
            "Target sentence: Been having bad dreams.\n",
            "-\n",
            "Input sentence: Is that who you're waiting for?\n",
            "Result sentence: I don't know.<END>\n",
            "Target sentence: No...\n",
            "-\n",
            "Input sentence: Who says I don't like you?\n",
            "Result sentence: I don't know.<END>\n",
            "Target sentence: My friend, with the funny hand.\n",
            "-\n",
            "Input sentence: Mommy...?\n",
            "Result sentence: I don't know.<END>\n",
            "Target sentence: Come on downstairs.  He won't hurt you. He needs us both.\n",
            "-\n",
            "Input sentence: Where is he?\n",
            "Result sentence: I don't know.<END>\n",
            "Target sentence: He's inside you, where he hides.\n",
            "-\n",
            "Input sentence: But how...?\n",
            "Result sentence: I don't know.<END>\n",
            "Target sentence: He says it's easy.  Especially with sad people.  With closed-off people.\n",
            "-\n",
            "Input sentence: Where are we going?\n",
            "Result sentence: I don't know.<END>\n",
            "Target sentence: To take a picture.\n",
            "-\n",
            "Input sentence: It was just an accident.  Like with Dan.\n",
            "Result sentence: I don't know.<END>\n",
            "Target sentence: No accident.  I tried to warn all of you about Krueger.\n",
            "-\n",
            "Input sentence: You had me scared on the phone.  What's wrong with the baby?\n",
            "Result sentence: I don't know.<END>\n",
            "Target sentence: I think Krueger's trying to do something to it.\n",
            "-\n",
            "Input sentence: Are you alright?\n",
            "Result sentence: I don't know.<END>\n",
            "Target sentence: Yeah...So that's him.  And you're not crazy.\n",
            "-\n",
            "Input sentence: You think that's the place she's buried?\n",
            "Result sentence: I don't know.<END>\n",
            "Target sentence: If they actually bothered to bury her.\n",
            "-\n",
            "Input sentence: What?\n",
            "Result sentence: I don't know.<END>\n",
            "Target sentence: Jacob.  We've got to get to Amanda before it's too late.\n",
            "-\n",
            "Input sentence: You do good work, Alice.\n",
            "Result sentence: I don't know.<END>\n",
            "Target sentence: So did Dan.\n",
            "-\n",
            "Input sentence: Give up, Mark, it's hopeless.\n",
            "Result sentence: I don't know.<END>\n",
            "Target sentence: I think I'm starting to wear her down.  Have some anyway.\n",
            "-\n",
            "Input sentence: Not to mention the heartbreak of psoriasis.\n",
            "Result sentence: I don't know.<END>\n",
            "Target sentence: Greta, come on.  One burger with me?\n",
            "-\n",
            "Input sentence: My dad's got this thing about drinking in the house.\n",
            "Result sentence: I don't know.<END>\n",
            "Target sentence: Well we gotta do something!\n"
          ],
          "name": "stdout"
        }
      ]
    },
    {
      "cell_type": "markdown",
      "metadata": {
        "id": "LhSxL9vSP9-S"
      },
      "source": [
        "# Вспомогательные вычисления"
      ]
    },
    {
      "cell_type": "code",
      "metadata": {
        "colab": {
          "base_uri": "https://localhost:8080/",
          "height": 204
        },
        "id": "JY5hF1iypd-m",
        "outputId": "0a99fa67-e801-48ca-b8d2-c3d045a4134a"
      },
      "source": [
        "sum_lite=sum_char[sum_char['order']>2].sort_values('order',ascending=False)\r\n",
        "sum_lite.head()"
      ],
      "execution_count": null,
      "outputs": [
        {
          "output_type": "execute_result",
          "data": {
            "text/html": [
              "<div>\n",
              "<style scoped>\n",
              "    .dataframe tbody tr th:only-of-type {\n",
              "        vertical-align: middle;\n",
              "    }\n",
              "\n",
              "    .dataframe tbody tr th {\n",
              "        vertical-align: top;\n",
              "    }\n",
              "\n",
              "    .dataframe thead th {\n",
              "        text-align: right;\n",
              "    }\n",
              "</style>\n",
              "<table border=\"1\" class=\"dataframe\">\n",
              "  <thead>\n",
              "    <tr style=\"text-align: right;\">\n",
              "      <th></th>\n",
              "      <th>characterID_f</th>\n",
              "      <th>characterID_s</th>\n",
              "      <th>movieID</th>\n",
              "      <th>order</th>\n",
              "    </tr>\n",
              "  </thead>\n",
              "  <tbody>\n",
              "    <tr>\n",
              "      <th>609</th>\n",
              "      <td>u1469</td>\n",
              "      <td>u1475</td>\n",
              "      <td>166</td>\n",
              "      <td>166</td>\n",
              "    </tr>\n",
              "    <tr>\n",
              "      <th>5184</th>\n",
              "      <td>u5064</td>\n",
              "      <td>u5065</td>\n",
              "      <td>152</td>\n",
              "      <td>152</td>\n",
              "    </tr>\n",
              "    <tr>\n",
              "      <th>9377</th>\n",
              "      <td>u8408</td>\n",
              "      <td>u8409</td>\n",
              "      <td>113</td>\n",
              "      <td>113</td>\n",
              "    </tr>\n",
              "    <tr>\n",
              "      <th>2219</th>\n",
              "      <td>u2735</td>\n",
              "      <td>u2738</td>\n",
              "      <td>111</td>\n",
              "      <td>111</td>\n",
              "    </tr>\n",
              "    <tr>\n",
              "      <th>4357</th>\n",
              "      <td>u4404</td>\n",
              "      <td>u4405</td>\n",
              "      <td>109</td>\n",
              "      <td>109</td>\n",
              "    </tr>\n",
              "  </tbody>\n",
              "</table>\n",
              "</div>"
            ],
            "text/plain": [
              "     characterID_f characterID_s  movieID  order\n",
              "609          u1469         u1475      166    166\n",
              "5184         u5064         u5065      152    152\n",
              "9377         u8408         u8409      113    113\n",
              "2219         u2735         u2738      111    111\n",
              "4357         u4404         u4405      109    109"
            ]
          },
          "metadata": {
            "tags": []
          },
          "execution_count": 12
        }
      ]
    },
    {
      "cell_type": "code",
      "metadata": {
        "colab": {
          "base_uri": "https://localhost:8080/",
          "height": 282
        },
        "id": "7_oSW2rkuL1-",
        "outputId": "5c6171db-a1c2-458c-a04b-95e784e72d18"
      },
      "source": [
        "sum_lite.order.agg(np.log10).hist()"
      ],
      "execution_count": null,
      "outputs": [
        {
          "output_type": "execute_result",
          "data": {
            "text/plain": [
              "<matplotlib.axes._subplots.AxesSubplot at 0x7f630422c080>"
            ]
          },
          "metadata": {
            "tags": []
          },
          "execution_count": 14
        },
        {
          "output_type": "display_data",
          "data": {
            "image/png": "[encoded data removed]",
            "text/plain": [
              "<Figure size 432x288 with 1 Axes>"
            ]
          },
          "metadata": {
            "tags": [],
            "needs_background": "light"
          }
        }
      ]
    },
    {
      "cell_type": "code",
      "metadata": {
        "id": "KMzpYqsTEYzR"
      },
      "source": [
        "rel=sum_lite['characterID_f'].values+','+sum_lite['characterID_s'].values\r\n",
        "rel_list=[]\r\n",
        "for i in range(len(rel)):\r\n",
        "  rel_list.append(rel[i].split(',')) \r\n",
        "for i  in range(len(rel_list)-1):\r\n",
        "  for m in range(i,len(rel_list)):\r\n",
        "    if (rel_list[i][1]==rel_list[m][0]):\r\n",
        "      print(rel_list[i],rel_list[m])"
      ],
      "execution_count": null,
      "outputs": []
    },
    {
      "cell_type": "code",
      "metadata": {
        "id": "Pt3fzbdjYcr_"
      },
      "source": [
        "data_fpath = '/content/movie_titles_metadata_utf.txt'\r\n",
        "max_sentences = 10000\r\n",
        "\r\n",
        "LmovieID=[]\r\n",
        "Lmovie_title=[]\r\n",
        "Lmovie_year=[]\r\n",
        "LIMDB_rating=[]\r\n",
        "Lno_IMDB_votes=[]\r\n",
        "Lgenres=[]\r\n",
        "\r\n",
        "#lines = codecs.open(data_fpath, 'r', encoding='ANSI').readlines()#[:max_sentences]\r\n",
        "lines = codecs.open(data_fpath, 'r').readlines()#[:max_sentences]\r\n",
        "for line in lines:\r\n",
        "    movieID, movie_title, movie_year, IMDB_rating,no_IMDB_votes,genres,= line.split(' +++$+++ ')#[:2]\r\n",
        "    LmovieID.append(movieID)\r\n",
        "    Lmovie_title.append(movie_title)\r\n",
        "    Lmovie_year.append(movie_year)\r\n",
        "    LIMDB_rating.append(IMDB_rating)\r\n",
        "    Lno_IMDB_votes.append(no_IMDB_votes)\r\n",
        "    ge= re.sub(\"']\\n\",'',genres)\r\n",
        "    ge= re.sub(\"\\['\",'',ge)\r\n",
        "    ge= re.sub(\"'\",'',ge)\r\n",
        "    ge=re.split(',',ge)   \r\n",
        "    Lgenres.append(ge)         "
      ],
      "execution_count": null,
      "outputs": []
    },
    {
      "cell_type": "code",
      "metadata": {
        "id": "RWGE2VFN_2Nr",
        "colab": {
          "base_uri": "https://localhost:8080/"
        },
        "outputId": "9d676774-c27d-45b5-dae4-254662730463"
      },
      "source": [
        "np_movie_titles_metadata=np.asarray((LmovieID, Lmovie_title,Lmovie_year,LIMDB_rating,Lno_IMDB_votes,Lgenres)).T\r\n"
      ],
      "execution_count": null,
      "outputs": [
        {
          "output_type": "stream",
          "text": [
            "/usr/local/lib/python3.6/dist-packages/numpy/core/_asarray.py:83: VisibleDeprecationWarning: Creating an ndarray from ragged nested sequences (which is a list-or-tuple of lists-or-tuples-or ndarrays with different lengths or shapes) is deprecated. If you meant to do this, you must specify 'dtype=object' when creating the ndarray\n",
            "  return array(a, dtype, copy=False, order=order)\n"
          ],
          "name": "stderr"
        },
        {
          "output_type": "execute_result",
          "data": {
            "text/plain": [
              "array(['m9', 'the atomic submarine', '1959', '4.90', '513',\n",
              "       list(['sci-fi', ' thriller'])], dtype=object)"
            ]
          },
          "metadata": {
            "tags": []
          },
          "execution_count": 92
        }
      ]
    },
    {
      "cell_type": "code",
      "metadata": {
        "colab": {
          "base_uri": "https://localhost:8080/",
          "height": 336
        },
        "id": "En8itRhaD4Nf",
        "outputId": "7b631129-bfd7-4651-8045-8610227f92e2"
      },
      "source": [
        "df_movie_titles_metadata.head()"
      ],
      "execution_count": null,
      "outputs": [
        {
          "output_type": "execute_result",
          "data": {
            "text/html": [
              "<div>\n",
              "<style scoped>\n",
              "    .dataframe tbody tr th:only-of-type {\n",
              "        vertical-align: middle;\n",
              "    }\n",
              "\n",
              "    .dataframe tbody tr th {\n",
              "        vertical-align: top;\n",
              "    }\n",
              "\n",
              "    .dataframe thead th {\n",
              "        text-align: right;\n",
              "    }\n",
              "</style>\n",
              "<table border=\"1\" class=\"dataframe\">\n",
              "  <thead>\n",
              "    <tr style=\"text-align: right;\">\n",
              "      <th></th>\n",
              "      <th>movieID</th>\n",
              "      <th>movie_title</th>\n",
              "      <th>movie_year</th>\n",
              "      <th>IMDB_rating</th>\n",
              "      <th>no. IMDB_votes</th>\n",
              "      <th>genres</th>\n",
              "    </tr>\n",
              "  </thead>\n",
              "  <tbody>\n",
              "    <tr>\n",
              "      <th>0</th>\n",
              "      <td>m0</td>\n",
              "      <td>10 things i hate about you</td>\n",
              "      <td>1999</td>\n",
              "      <td>6.90</td>\n",
              "      <td>62847</td>\n",
              "      <td>[comedy,  romance]</td>\n",
              "    </tr>\n",
              "    <tr>\n",
              "      <th>1</th>\n",
              "      <td>m1</td>\n",
              "      <td>1492: conquest of paradise</td>\n",
              "      <td>1992</td>\n",
              "      <td>6.20</td>\n",
              "      <td>10421</td>\n",
              "      <td>[adventure,  biography,  drama,  history]</td>\n",
              "    </tr>\n",
              "    <tr>\n",
              "      <th>2</th>\n",
              "      <td>m2</td>\n",
              "      <td>15 minutes</td>\n",
              "      <td>2001</td>\n",
              "      <td>6.10</td>\n",
              "      <td>25854</td>\n",
              "      <td>[action,  crime,  drama,  thriller]</td>\n",
              "    </tr>\n",
              "    <tr>\n",
              "      <th>3</th>\n",
              "      <td>m3</td>\n",
              "      <td>2001: a space odyssey</td>\n",
              "      <td>1968</td>\n",
              "      <td>8.40</td>\n",
              "      <td>163227</td>\n",
              "      <td>[adventure,  mystery,  sci-fi]</td>\n",
              "    </tr>\n",
              "    <tr>\n",
              "      <th>4</th>\n",
              "      <td>m4</td>\n",
              "      <td>48 hrs.</td>\n",
              "      <td>1982</td>\n",
              "      <td>6.90</td>\n",
              "      <td>22289</td>\n",
              "      <td>[action,  comedy,  crime,  drama,  thriller]</td>\n",
              "    </tr>\n",
              "  </tbody>\n",
              "</table>\n",
              "</div>"
            ],
            "text/plain": [
              "  movieID  ...                                        genres\n",
              "0      m0  ...                            [comedy,  romance]\n",
              "1      m1  ...     [adventure,  biography,  drama,  history]\n",
              "2      m2  ...           [action,  crime,  drama,  thriller]\n",
              "3      m3  ...                [adventure,  mystery,  sci-fi]\n",
              "4      m4  ...  [action,  comedy,  crime,  drama,  thriller]\n",
              "\n",
              "[5 rows x 6 columns]"
            ]
          },
          "metadata": {
            "tags": []
          },
          "execution_count": 94
        }
      ]
    },
    {
      "cell_type": "code",
      "metadata": {
        "id": "_mcR-wccBdhy"
      },
      "source": [
        "Lposition"
      ],
      "execution_count": null,
      "outputs": []
    },
    {
      "cell_type": "markdown",
      "metadata": {
        "id": "ZpFqVPiDCKez"
      },
      "source": [
        "https://habr.com/ru/post/317732/\r\n",
        "\r\n",
        "https://habr.com/ru/company/meanotek/blog/256987/"
      ]
    },
    {
      "cell_type": "code",
      "metadata": {
        "id": "1b08xqXqJXhS"
      },
      "source": [
        "np_movie_titles_metadata=np.asarray((LmovieID, Lmovie_title,Lmovie_year,LIMDB_rating,Lno_IMDB_votes,Lgenres)).T"
      ],
      "execution_count": null,
      "outputs": []
    },
    {
      "cell_type": "code",
      "metadata": {
        "id": "kO8cVQikDL4H"
      },
      "source": [
        "df_movie_titles_metadata=pd.DataFrame(data=np_movie_titles_metadata,\r\n",
        "          index=np.array(range(len(np_movie_titles_metadata))),\r\n",
        "          columns=['movieID', 'movie_title','movie_year', 'IMDB_rating','no. IMDB_votes','genres'] )"
      ],
      "execution_count": null,
      "outputs": []
    },
    {
      "cell_type": "code",
      "metadata": {
        "id": "S-GnOO4dLaia"
      },
      "source": [
        "df_movie_characters_metadata=pd.read_table('/content/movie_characters_metadata.txt',sep=' +++$+++ ')"
      ],
      "execution_count": null,
      "outputs": []
    },
    {
      "cell_type": "code",
      "metadata": {
        "id": "M5RBak6dEkws"
      },
      "source": [
        "['characterID','character name','movieID','movie title','gender','position']"
      ],
      "execution_count": null,
      "outputs": []
    },
    {
      "cell_type": "code",
      "metadata": {
        "id": "QdeWqdeyQmO_"
      },
      "source": [
        "\t\t['movieID', 'movie_title','movie_year', 'IMDB_rating','no. IMDB_votes','genres'] "
      ],
      "execution_count": null,
      "outputs": []
    },
    {
      "cell_type": "code",
      "metadata": {
        "id": "L46kLCWkEJzj"
      },
      "source": [
        "data_fpath = '/content/movie_characters_metadata_utf2.txt'\r\n",
        "max_sentences = 10000\r\n",
        "\r\n",
        "LcharacterID=[]\r\n",
        "Lcharacter_name=[]\r\n",
        "LmovieID=[]\r\n",
        "Lmovie_title=[]\r\n",
        "Lgender=[]\r\n",
        "Lposition=[]\r\n",
        "#lines = codecs.open(data_fpath, 'r', encoding='ANSI').readlines()#[:max_sentences]\r\n",
        "i=0\r\n",
        "f = open(data_fpath)\r\n",
        "for line in f:\r\n",
        "    characterID,character_name,movieID,movie_title,gender,position= line.split(' +++$+++ ')\r\n",
        "    LcharacterID.append(characterID)\r\n",
        "    Lcharacter_name.append(character_name)\r\n",
        "    LmovieID.append(movieID)\r\n",
        "    Lmovie_title.append(movie_title)\r\n",
        "    Lgender.append(gender)\r\n",
        "    pos= re.sub(\"\\n\",'',position)\r\n",
        "    Lposition.append(pos)"
      ],
      "execution_count": null,
      "outputs": []
    },
    {
      "cell_type": "code",
      "metadata": {
        "id": "VeAx5A7wx11O"
      },
      "source": [
        "for i  in range(len(rel_list)-1):\r\n",
        "  for m in range(i,len(rel_list)):\r\n",
        "    if (rel_list[i][1]==rel_list[m][0]) and (rel_list[i][0]==rel_list[m][1]):\r\n",
        "      print(rel_list[i],rel_list[m])"
      ],
      "execution_count": null,
      "outputs": []
    },
    {
      "cell_type": "code",
      "metadata": {
        "colab": {
          "base_uri": "https://localhost:8080/"
        },
        "id": "rNHkDEqy-3wD",
        "outputId": "d586d69f-a260-476d-89e0-732ac82f81cc"
      },
      "source": [
        "sum_char['rel'].values"
      ],
      "execution_count": null,
      "outputs": [
        {
          "output_type": "execute_result",
          "data": {
            "text/plain": [
              "array(['u0,u11', 'u0,u2', 'u0,u3', ..., 'u998,u1004', 'u998,u1005',\n",
              "       'u999,u1006'], dtype=object)"
            ]
          },
          "metadata": {
            "tags": []
          },
          "execution_count": 94
        }
      ]
    },
    {
      "cell_type": "code",
      "metadata": {
        "id": "jwC1fm0otxAs"
      },
      "source": [
        "sum_char_h=df_movie_conversations.groupby(['characterID_f']).count().reset_index() "
      ],
      "execution_count": null,
      "outputs": []
    },
    {
      "cell_type": "code",
      "metadata": {
        "colab": {
          "base_uri": "https://localhost:8080/"
        },
        "id": "HfA4wFbNuH5Z",
        "outputId": "2bd91b30-40b5-4ce0-c82d-6d13f0ba0c49"
      },
      "source": [
        "sum_char_h.info()"
      ],
      "execution_count": null,
      "outputs": [
        {
          "output_type": "stream",
          "text": [
            "<class 'pandas.core.frame.DataFrame'>\n",
            "RangeIndex: 5420 entries, 0 to 5419\n",
            "Data columns (total 4 columns):\n",
            " #   Column         Non-Null Count  Dtype \n",
            "---  ------         --------------  ----- \n",
            " 0   characterID_f  5420 non-null   object\n",
            " 1   characterID_s  5420 non-null   int64 \n",
            " 2   movieID        5420 non-null   int64 \n",
            " 3   order          5420 non-null   int64 \n",
            "dtypes: int64(3), object(1)\n",
            "memory usage: 169.5+ KB\n"
          ],
          "name": "stdout"
        }
      ]
    },
    {
      "cell_type": "code",
      "metadata": {
        "id": "dTAkkRLuvvwn"
      },
      "source": [
        "sum_char_w=df_movie_conversations.groupby(['characterID_f','characterID_s']).order.count()"
      ],
      "execution_count": null,
      "outputs": []
    },
    {
      "cell_type": "code",
      "metadata": {
        "id": "vAvzovG1ykwp"
      },
      "source": [
        "matrix=sum_char_w.unstack().reset_index()"
      ],
      "execution_count": null,
      "outputs": []
    },
    {
      "cell_type": "code",
      "metadata": {
        "colab": {
          "base_uri": "https://localhost:8080/",
          "height": 249
        },
        "id": "uGQ1IQm2y9HK",
        "outputId": "49282e61-f79d-462f-b12e-59c606defd87"
      },
      "source": [
        "matrix.head()"
      ],
      "execution_count": null,
      "outputs": [
        {
          "output_type": "execute_result",
          "data": {
            "text/html": [
              "<div>\n",
              "<style scoped>\n",
              "    .dataframe tbody tr th:only-of-type {\n",
              "        vertical-align: middle;\n",
              "    }\n",
              "\n",
              "    .dataframe tbody tr th {\n",
              "        vertical-align: top;\n",
              "    }\n",
              "\n",
              "    .dataframe thead th {\n",
              "        text-align: right;\n",
              "    }\n",
              "</style>\n",
              "<table border=\"1\" class=\"dataframe\">\n",
              "  <thead>\n",
              "    <tr style=\"text-align: right;\">\n",
              "      <th>characterID_s</th>\n",
              "      <th>characterID_f</th>\n",
              "      <th>u1001</th>\n",
              "      <th>u1003</th>\n",
              "      <th>u1004</th>\n",
              "      <th>u1005</th>\n",
              "      <th>u1006</th>\n",
              "      <th>u1010</th>\n",
              "      <th>u1011</th>\n",
              "      <th>u1014</th>\n",
              "      <th>u1017</th>\n",
              "      <th>u1018</th>\n",
              "      <th>u1019</th>\n",
              "      <th>u1020</th>\n",
              "      <th>u1021</th>\n",
              "      <th>u1022</th>\n",
              "      <th>u1023</th>\n",
              "      <th>u1025</th>\n",
              "      <th>u1026</th>\n",
              "      <th>u1029</th>\n",
              "      <th>u1031</th>\n",
              "      <th>u1032</th>\n",
              "      <th>u1033</th>\n",
              "      <th>u1034</th>\n",
              "      <th>u1035</th>\n",
              "      <th>u1040</th>\n",
              "      <th>u1041</th>\n",
              "      <th>u1042</th>\n",
              "      <th>u1043</th>\n",
              "      <th>u1045</th>\n",
              "      <th>u1046</th>\n",
              "      <th>u1047</th>\n",
              "      <th>u1048</th>\n",
              "      <th>u1049</th>\n",
              "      <th>u105</th>\n",
              "      <th>u1054</th>\n",
              "      <th>u1060</th>\n",
              "      <th>u1061</th>\n",
              "      <th>u1063</th>\n",
              "      <th>u1064</th>\n",
              "      <th>u1065</th>\n",
              "      <th>...</th>\n",
              "      <th>u939</th>\n",
              "      <th>u940</th>\n",
              "      <th>u941</th>\n",
              "      <th>u944</th>\n",
              "      <th>u955</th>\n",
              "      <th>u956</th>\n",
              "      <th>u957</th>\n",
              "      <th>u958</th>\n",
              "      <th>u959</th>\n",
              "      <th>u96</th>\n",
              "      <th>u961</th>\n",
              "      <th>u962</th>\n",
              "      <th>u963</th>\n",
              "      <th>u964</th>\n",
              "      <th>u966</th>\n",
              "      <th>u967</th>\n",
              "      <th>u968</th>\n",
              "      <th>u969</th>\n",
              "      <th>u97</th>\n",
              "      <th>u970</th>\n",
              "      <th>u973</th>\n",
              "      <th>u974</th>\n",
              "      <th>u977</th>\n",
              "      <th>u979</th>\n",
              "      <th>u98</th>\n",
              "      <th>u980</th>\n",
              "      <th>u981</th>\n",
              "      <th>u982</th>\n",
              "      <th>u985</th>\n",
              "      <th>u986</th>\n",
              "      <th>u987</th>\n",
              "      <th>u988</th>\n",
              "      <th>u989</th>\n",
              "      <th>u99</th>\n",
              "      <th>u990</th>\n",
              "      <th>u991</th>\n",
              "      <th>u993</th>\n",
              "      <th>u994</th>\n",
              "      <th>u997</th>\n",
              "      <th>u998</th>\n",
              "    </tr>\n",
              "  </thead>\n",
              "  <tbody>\n",
              "    <tr>\n",
              "      <th>0</th>\n",
              "      <td>u0</td>\n",
              "      <td>NaN</td>\n",
              "      <td>NaN</td>\n",
              "      <td>NaN</td>\n",
              "      <td>NaN</td>\n",
              "      <td>NaN</td>\n",
              "      <td>NaN</td>\n",
              "      <td>NaN</td>\n",
              "      <td>NaN</td>\n",
              "      <td>NaN</td>\n",
              "      <td>NaN</td>\n",
              "      <td>NaN</td>\n",
              "      <td>NaN</td>\n",
              "      <td>NaN</td>\n",
              "      <td>NaN</td>\n",
              "      <td>NaN</td>\n",
              "      <td>NaN</td>\n",
              "      <td>NaN</td>\n",
              "      <td>NaN</td>\n",
              "      <td>NaN</td>\n",
              "      <td>NaN</td>\n",
              "      <td>NaN</td>\n",
              "      <td>NaN</td>\n",
              "      <td>NaN</td>\n",
              "      <td>NaN</td>\n",
              "      <td>NaN</td>\n",
              "      <td>NaN</td>\n",
              "      <td>NaN</td>\n",
              "      <td>NaN</td>\n",
              "      <td>NaN</td>\n",
              "      <td>NaN</td>\n",
              "      <td>NaN</td>\n",
              "      <td>NaN</td>\n",
              "      <td>NaN</td>\n",
              "      <td>NaN</td>\n",
              "      <td>NaN</td>\n",
              "      <td>NaN</td>\n",
              "      <td>NaN</td>\n",
              "      <td>NaN</td>\n",
              "      <td>NaN</td>\n",
              "      <td>...</td>\n",
              "      <td>NaN</td>\n",
              "      <td>NaN</td>\n",
              "      <td>NaN</td>\n",
              "      <td>NaN</td>\n",
              "      <td>NaN</td>\n",
              "      <td>NaN</td>\n",
              "      <td>NaN</td>\n",
              "      <td>NaN</td>\n",
              "      <td>NaN</td>\n",
              "      <td>NaN</td>\n",
              "      <td>NaN</td>\n",
              "      <td>NaN</td>\n",
              "      <td>NaN</td>\n",
              "      <td>NaN</td>\n",
              "      <td>NaN</td>\n",
              "      <td>NaN</td>\n",
              "      <td>NaN</td>\n",
              "      <td>NaN</td>\n",
              "      <td>NaN</td>\n",
              "      <td>NaN</td>\n",
              "      <td>NaN</td>\n",
              "      <td>NaN</td>\n",
              "      <td>NaN</td>\n",
              "      <td>NaN</td>\n",
              "      <td>NaN</td>\n",
              "      <td>NaN</td>\n",
              "      <td>NaN</td>\n",
              "      <td>NaN</td>\n",
              "      <td>NaN</td>\n",
              "      <td>NaN</td>\n",
              "      <td>NaN</td>\n",
              "      <td>NaN</td>\n",
              "      <td>NaN</td>\n",
              "      <td>NaN</td>\n",
              "      <td>NaN</td>\n",
              "      <td>NaN</td>\n",
              "      <td>NaN</td>\n",
              "      <td>NaN</td>\n",
              "      <td>NaN</td>\n",
              "      <td>NaN</td>\n",
              "    </tr>\n",
              "    <tr>\n",
              "      <th>1</th>\n",
              "      <td>u1</td>\n",
              "      <td>NaN</td>\n",
              "      <td>NaN</td>\n",
              "      <td>NaN</td>\n",
              "      <td>NaN</td>\n",
              "      <td>NaN</td>\n",
              "      <td>NaN</td>\n",
              "      <td>NaN</td>\n",
              "      <td>NaN</td>\n",
              "      <td>NaN</td>\n",
              "      <td>NaN</td>\n",
              "      <td>NaN</td>\n",
              "      <td>NaN</td>\n",
              "      <td>NaN</td>\n",
              "      <td>NaN</td>\n",
              "      <td>NaN</td>\n",
              "      <td>NaN</td>\n",
              "      <td>NaN</td>\n",
              "      <td>NaN</td>\n",
              "      <td>NaN</td>\n",
              "      <td>NaN</td>\n",
              "      <td>NaN</td>\n",
              "      <td>NaN</td>\n",
              "      <td>NaN</td>\n",
              "      <td>NaN</td>\n",
              "      <td>NaN</td>\n",
              "      <td>NaN</td>\n",
              "      <td>NaN</td>\n",
              "      <td>NaN</td>\n",
              "      <td>NaN</td>\n",
              "      <td>NaN</td>\n",
              "      <td>NaN</td>\n",
              "      <td>NaN</td>\n",
              "      <td>NaN</td>\n",
              "      <td>NaN</td>\n",
              "      <td>NaN</td>\n",
              "      <td>NaN</td>\n",
              "      <td>NaN</td>\n",
              "      <td>NaN</td>\n",
              "      <td>NaN</td>\n",
              "      <td>...</td>\n",
              "      <td>NaN</td>\n",
              "      <td>NaN</td>\n",
              "      <td>NaN</td>\n",
              "      <td>NaN</td>\n",
              "      <td>NaN</td>\n",
              "      <td>NaN</td>\n",
              "      <td>NaN</td>\n",
              "      <td>NaN</td>\n",
              "      <td>NaN</td>\n",
              "      <td>NaN</td>\n",
              "      <td>NaN</td>\n",
              "      <td>NaN</td>\n",
              "      <td>NaN</td>\n",
              "      <td>NaN</td>\n",
              "      <td>NaN</td>\n",
              "      <td>NaN</td>\n",
              "      <td>NaN</td>\n",
              "      <td>NaN</td>\n",
              "      <td>NaN</td>\n",
              "      <td>NaN</td>\n",
              "      <td>NaN</td>\n",
              "      <td>NaN</td>\n",
              "      <td>NaN</td>\n",
              "      <td>NaN</td>\n",
              "      <td>NaN</td>\n",
              "      <td>NaN</td>\n",
              "      <td>NaN</td>\n",
              "      <td>NaN</td>\n",
              "      <td>NaN</td>\n",
              "      <td>NaN</td>\n",
              "      <td>NaN</td>\n",
              "      <td>NaN</td>\n",
              "      <td>NaN</td>\n",
              "      <td>NaN</td>\n",
              "      <td>NaN</td>\n",
              "      <td>NaN</td>\n",
              "      <td>NaN</td>\n",
              "      <td>NaN</td>\n",
              "      <td>NaN</td>\n",
              "      <td>NaN</td>\n",
              "    </tr>\n",
              "    <tr>\n",
              "      <th>2</th>\n",
              "      <td>u10</td>\n",
              "      <td>NaN</td>\n",
              "      <td>NaN</td>\n",
              "      <td>NaN</td>\n",
              "      <td>NaN</td>\n",
              "      <td>NaN</td>\n",
              "      <td>NaN</td>\n",
              "      <td>NaN</td>\n",
              "      <td>NaN</td>\n",
              "      <td>NaN</td>\n",
              "      <td>NaN</td>\n",
              "      <td>NaN</td>\n",
              "      <td>NaN</td>\n",
              "      <td>NaN</td>\n",
              "      <td>NaN</td>\n",
              "      <td>NaN</td>\n",
              "      <td>NaN</td>\n",
              "      <td>NaN</td>\n",
              "      <td>NaN</td>\n",
              "      <td>NaN</td>\n",
              "      <td>NaN</td>\n",
              "      <td>NaN</td>\n",
              "      <td>NaN</td>\n",
              "      <td>NaN</td>\n",
              "      <td>NaN</td>\n",
              "      <td>NaN</td>\n",
              "      <td>NaN</td>\n",
              "      <td>NaN</td>\n",
              "      <td>NaN</td>\n",
              "      <td>NaN</td>\n",
              "      <td>NaN</td>\n",
              "      <td>NaN</td>\n",
              "      <td>NaN</td>\n",
              "      <td>NaN</td>\n",
              "      <td>NaN</td>\n",
              "      <td>NaN</td>\n",
              "      <td>NaN</td>\n",
              "      <td>NaN</td>\n",
              "      <td>NaN</td>\n",
              "      <td>NaN</td>\n",
              "      <td>...</td>\n",
              "      <td>NaN</td>\n",
              "      <td>NaN</td>\n",
              "      <td>NaN</td>\n",
              "      <td>NaN</td>\n",
              "      <td>NaN</td>\n",
              "      <td>NaN</td>\n",
              "      <td>NaN</td>\n",
              "      <td>NaN</td>\n",
              "      <td>NaN</td>\n",
              "      <td>NaN</td>\n",
              "      <td>NaN</td>\n",
              "      <td>NaN</td>\n",
              "      <td>NaN</td>\n",
              "      <td>NaN</td>\n",
              "      <td>NaN</td>\n",
              "      <td>NaN</td>\n",
              "      <td>NaN</td>\n",
              "      <td>NaN</td>\n",
              "      <td>NaN</td>\n",
              "      <td>NaN</td>\n",
              "      <td>NaN</td>\n",
              "      <td>NaN</td>\n",
              "      <td>NaN</td>\n",
              "      <td>NaN</td>\n",
              "      <td>NaN</td>\n",
              "      <td>NaN</td>\n",
              "      <td>NaN</td>\n",
              "      <td>NaN</td>\n",
              "      <td>NaN</td>\n",
              "      <td>NaN</td>\n",
              "      <td>NaN</td>\n",
              "      <td>NaN</td>\n",
              "      <td>NaN</td>\n",
              "      <td>NaN</td>\n",
              "      <td>NaN</td>\n",
              "      <td>NaN</td>\n",
              "      <td>NaN</td>\n",
              "      <td>NaN</td>\n",
              "      <td>NaN</td>\n",
              "      <td>NaN</td>\n",
              "    </tr>\n",
              "    <tr>\n",
              "      <th>3</th>\n",
              "      <td>u100</td>\n",
              "      <td>NaN</td>\n",
              "      <td>NaN</td>\n",
              "      <td>NaN</td>\n",
              "      <td>NaN</td>\n",
              "      <td>NaN</td>\n",
              "      <td>NaN</td>\n",
              "      <td>NaN</td>\n",
              "      <td>NaN</td>\n",
              "      <td>NaN</td>\n",
              "      <td>NaN</td>\n",
              "      <td>NaN</td>\n",
              "      <td>NaN</td>\n",
              "      <td>NaN</td>\n",
              "      <td>NaN</td>\n",
              "      <td>NaN</td>\n",
              "      <td>NaN</td>\n",
              "      <td>NaN</td>\n",
              "      <td>NaN</td>\n",
              "      <td>NaN</td>\n",
              "      <td>NaN</td>\n",
              "      <td>NaN</td>\n",
              "      <td>NaN</td>\n",
              "      <td>NaN</td>\n",
              "      <td>NaN</td>\n",
              "      <td>NaN</td>\n",
              "      <td>NaN</td>\n",
              "      <td>NaN</td>\n",
              "      <td>NaN</td>\n",
              "      <td>NaN</td>\n",
              "      <td>NaN</td>\n",
              "      <td>NaN</td>\n",
              "      <td>NaN</td>\n",
              "      <td>NaN</td>\n",
              "      <td>NaN</td>\n",
              "      <td>NaN</td>\n",
              "      <td>NaN</td>\n",
              "      <td>NaN</td>\n",
              "      <td>NaN</td>\n",
              "      <td>NaN</td>\n",
              "      <td>...</td>\n",
              "      <td>NaN</td>\n",
              "      <td>NaN</td>\n",
              "      <td>NaN</td>\n",
              "      <td>NaN</td>\n",
              "      <td>NaN</td>\n",
              "      <td>NaN</td>\n",
              "      <td>NaN</td>\n",
              "      <td>NaN</td>\n",
              "      <td>NaN</td>\n",
              "      <td>NaN</td>\n",
              "      <td>NaN</td>\n",
              "      <td>NaN</td>\n",
              "      <td>NaN</td>\n",
              "      <td>NaN</td>\n",
              "      <td>NaN</td>\n",
              "      <td>NaN</td>\n",
              "      <td>NaN</td>\n",
              "      <td>NaN</td>\n",
              "      <td>NaN</td>\n",
              "      <td>NaN</td>\n",
              "      <td>NaN</td>\n",
              "      <td>NaN</td>\n",
              "      <td>NaN</td>\n",
              "      <td>NaN</td>\n",
              "      <td>NaN</td>\n",
              "      <td>NaN</td>\n",
              "      <td>NaN</td>\n",
              "      <td>NaN</td>\n",
              "      <td>NaN</td>\n",
              "      <td>NaN</td>\n",
              "      <td>NaN</td>\n",
              "      <td>NaN</td>\n",
              "      <td>NaN</td>\n",
              "      <td>NaN</td>\n",
              "      <td>NaN</td>\n",
              "      <td>NaN</td>\n",
              "      <td>NaN</td>\n",
              "      <td>NaN</td>\n",
              "      <td>NaN</td>\n",
              "      <td>NaN</td>\n",
              "    </tr>\n",
              "    <tr>\n",
              "      <th>4</th>\n",
              "      <td>u1000</td>\n",
              "      <td>4.0</td>\n",
              "      <td>NaN</td>\n",
              "      <td>NaN</td>\n",
              "      <td>NaN</td>\n",
              "      <td>NaN</td>\n",
              "      <td>NaN</td>\n",
              "      <td>NaN</td>\n",
              "      <td>NaN</td>\n",
              "      <td>NaN</td>\n",
              "      <td>NaN</td>\n",
              "      <td>NaN</td>\n",
              "      <td>NaN</td>\n",
              "      <td>NaN</td>\n",
              "      <td>NaN</td>\n",
              "      <td>NaN</td>\n",
              "      <td>NaN</td>\n",
              "      <td>NaN</td>\n",
              "      <td>NaN</td>\n",
              "      <td>NaN</td>\n",
              "      <td>NaN</td>\n",
              "      <td>NaN</td>\n",
              "      <td>NaN</td>\n",
              "      <td>NaN</td>\n",
              "      <td>NaN</td>\n",
              "      <td>NaN</td>\n",
              "      <td>NaN</td>\n",
              "      <td>NaN</td>\n",
              "      <td>NaN</td>\n",
              "      <td>NaN</td>\n",
              "      <td>NaN</td>\n",
              "      <td>NaN</td>\n",
              "      <td>NaN</td>\n",
              "      <td>NaN</td>\n",
              "      <td>NaN</td>\n",
              "      <td>NaN</td>\n",
              "      <td>NaN</td>\n",
              "      <td>NaN</td>\n",
              "      <td>NaN</td>\n",
              "      <td>NaN</td>\n",
              "      <td>...</td>\n",
              "      <td>NaN</td>\n",
              "      <td>NaN</td>\n",
              "      <td>NaN</td>\n",
              "      <td>NaN</td>\n",
              "      <td>NaN</td>\n",
              "      <td>NaN</td>\n",
              "      <td>NaN</td>\n",
              "      <td>NaN</td>\n",
              "      <td>NaN</td>\n",
              "      <td>NaN</td>\n",
              "      <td>NaN</td>\n",
              "      <td>NaN</td>\n",
              "      <td>NaN</td>\n",
              "      <td>NaN</td>\n",
              "      <td>NaN</td>\n",
              "      <td>NaN</td>\n",
              "      <td>NaN</td>\n",
              "      <td>NaN</td>\n",
              "      <td>NaN</td>\n",
              "      <td>NaN</td>\n",
              "      <td>NaN</td>\n",
              "      <td>NaN</td>\n",
              "      <td>NaN</td>\n",
              "      <td>NaN</td>\n",
              "      <td>NaN</td>\n",
              "      <td>NaN</td>\n",
              "      <td>NaN</td>\n",
              "      <td>NaN</td>\n",
              "      <td>NaN</td>\n",
              "      <td>NaN</td>\n",
              "      <td>NaN</td>\n",
              "      <td>NaN</td>\n",
              "      <td>NaN</td>\n",
              "      <td>NaN</td>\n",
              "      <td>NaN</td>\n",
              "      <td>NaN</td>\n",
              "      <td>NaN</td>\n",
              "      <td>NaN</td>\n",
              "      <td>NaN</td>\n",
              "      <td>NaN</td>\n",
              "    </tr>\n",
              "  </tbody>\n",
              "</table>\n",
              "<p>5 rows × 5609 columns</p>\n",
              "</div>"
            ],
            "text/plain": [
              "characterID_s characterID_f  u1001  u1003  u1004  ...  u993  u994  u997  u998\n",
              "0                        u0    NaN    NaN    NaN  ...   NaN   NaN   NaN   NaN\n",
              "1                        u1    NaN    NaN    NaN  ...   NaN   NaN   NaN   NaN\n",
              "2                       u10    NaN    NaN    NaN  ...   NaN   NaN   NaN   NaN\n",
              "3                      u100    NaN    NaN    NaN  ...   NaN   NaN   NaN   NaN\n",
              "4                     u1000    4.0    NaN    NaN  ...   NaN   NaN   NaN   NaN\n",
              "\n",
              "[5 rows x 5609 columns]"
            ]
          },
          "metadata": {
            "tags": []
          },
          "execution_count": 63
        }
      ]
    },
    {
      "cell_type": "code",
      "metadata": {
        "colab": {
          "base_uri": "https://localhost:8080/"
        },
        "id": "XZbXYFpv0Vzb",
        "outputId": "309002de-b40e-44f7-c75a-fb12192b0c04"
      },
      "source": [
        "matrix.columns"
      ],
      "execution_count": null,
      "outputs": [
        {
          "output_type": "execute_result",
          "data": {
            "text/plain": [
              "Index(['characterID_f', 'u1001', 'u1003', 'u1004', 'u1005', 'u1006', 'u1010',\n",
              "       'u1011', 'u1014', 'u1017',\n",
              "       ...\n",
              "       'u987', 'u988', 'u989', 'u99', 'u990', 'u991', 'u993', 'u994', 'u997',\n",
              "       'u998'],\n",
              "      dtype='object', name='characterID_s', length=5609)"
            ]
          },
          "metadata": {
            "tags": []
          },
          "execution_count": 64
        }
      ]
    },
    {
      "cell_type": "code",
      "metadata": {
        "id": "PaCGFcfc3r-1"
      },
      "source": [
        "row_iterator = matrix.iterrows()\r\n",
        "\r\n",
        "#_, last = row_iterator.next()  # take first item from row_iterator\r\n",
        "for i, row in row_iterator:\r\n",
        "  for m in range(2,len(matrix.columns)):\r\n",
        "    col=matrix.columns[6]\r\n",
        "    row[col]>1\r\n",
        "#    print(last['characterID_f'])\r\n",
        "#    last = row"
      ],
      "execution_count": null,
      "outputs": []
    },
    {
      "cell_type": "code",
      "metadata": {
        "id": "XcwAQFsv1XPE"
      },
      "source": [
        ""
      ],
      "execution_count": null,
      "outputs": []
    }
  ]
}