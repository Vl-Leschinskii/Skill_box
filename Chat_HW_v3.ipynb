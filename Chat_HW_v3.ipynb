{
  "nbformat": 4,
  "nbformat_minor": 0,
  "metadata": {
    "colab": {
      "name": "Chat_HW v3",
      "provenance": [],
      "collapsed_sections": [
        "LhSxL9vSP9-S"
      ],
      "toc_visible": true
    },
    "kernelspec": {
      "name": "python3",
      "display_name": "Python 3"
    },
    "accelerator": "GPU"
  },
  "cells": [
    {
      "cell_type": "code",
      "metadata": {
        "id": "wW63SjiRLUaq",
        "colab": {
          "base_uri": "https://localhost:8080/"
        },
        "outputId": "bb3a0f14-1d82-4e31-e593-2c273227bf67"
      },
      "source": [
        "import codecs\r\n",
        "import numpy as np\r\n",
        "import pandas as pd\r\n",
        "import re\r\n",
        "import tensorflow as tf\r\n",
        "import nltk\r\n",
        "import string\r\n",
        "from itertools import chain\r\n",
        "print(tf.__version__)"
      ],
      "execution_count": 2,
      "outputs": [
        {
          "output_type": "stream",
          "text": [
            "2.4.1\n"
          ],
          "name": "stdout"
        }
      ]
    },
    {
      "cell_type": "markdown",
      "metadata": {
        "id": "g7HNWeRqPJUF"
      },
      "source": [
        "#Подготовка данных"
      ]
    },
    {
      "cell_type": "code",
      "metadata": {
        "id": "2o6zNBnnhbme"
      },
      "source": [
        "data_fpath = '/content/movie_conversations.txt'\r\n",
        "max_sentences = 10000\r\n",
        "\r\n",
        "LcharacterID_f=[]\r\n",
        "LcharacterID_s=[]\r\n",
        "LmovieID=[]\r\n",
        "Lorder=[]\r\n",
        "f = open(data_fpath)\r\n",
        "for line in f:\r\n",
        "  uni_str=line.encode(\"windows-1251\").decode(\"utf-8\")\r\n",
        "  characterID_f,characterID_s, movieID, order= uni_str.split(' +++$+++ ')\r\n",
        "  LcharacterID_f.append(characterID_f)\r\n",
        "  LcharacterID_s.append(characterID_s)\r\n",
        "  LmovieID.append(movieID)\r\n",
        "  ge= re.sub(\"']\\n\",'',order)\r\n",
        "  ge= re.sub(\"\\['\",'',ge)\r\n",
        "  ge= re.sub(\"'\",'',ge)\r\n",
        "  ge= re.sub(' ','',ge)\r\n",
        "  ge=re.split(',',ge)   \r\n",
        "  Lorder.append(ge)      "
      ],
      "execution_count": null,
      "outputs": []
    },
    {
      "cell_type": "code",
      "metadata": {
        "colab": {
          "base_uri": "https://localhost:8080/"
        },
        "id": "F-saDZrXn3AW",
        "outputId": "56a0ff53-482d-4a89-845f-85ae0622e344"
      },
      "source": [
        "np_movie_conversations=np.asarray((LcharacterID_f,LcharacterID_s,LmovieID,Lorder)).T"
      ],
      "execution_count": null,
      "outputs": [
        {
          "output_type": "stream",
          "text": [
            "/usr/local/lib/python3.6/dist-packages/numpy/core/_asarray.py:83: VisibleDeprecationWarning: Creating an ndarray from ragged nested sequences (which is a list-or-tuple of lists-or-tuples-or ndarrays with different lengths or shapes) is deprecated. If you meant to do this, you must specify 'dtype=object' when creating the ndarray\n",
            "  return array(a, dtype, copy=False, order=order)\n"
          ],
          "name": "stderr"
        }
      ]
    },
    {
      "cell_type": "code",
      "metadata": {
        "id": "TCuXkvbOn15c"
      },
      "source": [
        "df_movie_conversations=pd.DataFrame(data=np_movie_conversations,\r\n",
        "          index=np.array(range(len(np_movie_conversations))),\r\n",
        "          columns=['characterID_f','characterID_s', 'movieID','order'] )"
      ],
      "execution_count": null,
      "outputs": []
    },
    {
      "cell_type": "code",
      "metadata": {
        "colab": {
          "base_uri": "https://localhost:8080/",
          "height": 204
        },
        "id": "jw_HMesVokhs",
        "outputId": "5d987581-0bf2-4f71-c9c2-0946d2d4027e"
      },
      "source": [
        "df_movie_conversations.head()"
      ],
      "execution_count": null,
      "outputs": [
        {
          "output_type": "execute_result",
          "data": {
            "text/html": [
              "<div>\n",
              "<style scoped>\n",
              "    .dataframe tbody tr th:only-of-type {\n",
              "        vertical-align: middle;\n",
              "    }\n",
              "\n",
              "    .dataframe tbody tr th {\n",
              "        vertical-align: top;\n",
              "    }\n",
              "\n",
              "    .dataframe thead th {\n",
              "        text-align: right;\n",
              "    }\n",
              "</style>\n",
              "<table border=\"1\" class=\"dataframe\">\n",
              "  <thead>\n",
              "    <tr style=\"text-align: right;\">\n",
              "      <th></th>\n",
              "      <th>characterID_f</th>\n",
              "      <th>characterID_s</th>\n",
              "      <th>movieID</th>\n",
              "      <th>order</th>\n",
              "    </tr>\n",
              "  </thead>\n",
              "  <tbody>\n",
              "    <tr>\n",
              "      <th>0</th>\n",
              "      <td>u0</td>\n",
              "      <td>u2</td>\n",
              "      <td>m0</td>\n",
              "      <td>[L194, L195, L196, L197]</td>\n",
              "    </tr>\n",
              "    <tr>\n",
              "      <th>1</th>\n",
              "      <td>u0</td>\n",
              "      <td>u2</td>\n",
              "      <td>m0</td>\n",
              "      <td>[L198, L199]</td>\n",
              "    </tr>\n",
              "    <tr>\n",
              "      <th>2</th>\n",
              "      <td>u0</td>\n",
              "      <td>u2</td>\n",
              "      <td>m0</td>\n",
              "      <td>[L200, L201, L202, L203]</td>\n",
              "    </tr>\n",
              "    <tr>\n",
              "      <th>3</th>\n",
              "      <td>u0</td>\n",
              "      <td>u2</td>\n",
              "      <td>m0</td>\n",
              "      <td>[L204, L205, L206]</td>\n",
              "    </tr>\n",
              "    <tr>\n",
              "      <th>4</th>\n",
              "      <td>u0</td>\n",
              "      <td>u2</td>\n",
              "      <td>m0</td>\n",
              "      <td>[L207, L208]</td>\n",
              "    </tr>\n",
              "  </tbody>\n",
              "</table>\n",
              "</div>"
            ],
            "text/plain": [
              "  characterID_f characterID_s movieID                     order\n",
              "0            u0            u2      m0  [L194, L195, L196, L197]\n",
              "1            u0            u2      m0              [L198, L199]\n",
              "2            u0            u2      m0  [L200, L201, L202, L203]\n",
              "3            u0            u2      m0        [L204, L205, L206]\n",
              "4            u0            u2      m0              [L207, L208]"
            ]
          },
          "metadata": {
            "tags": []
          },
          "execution_count": 6
        }
      ]
    },
    {
      "cell_type": "code",
      "metadata": {
        "id": "-X77daMGpAtf"
      },
      "source": [
        "sum_char=df_movie_conversations.groupby(['characterID_f','characterID_s']).count().reset_index() "
      ],
      "execution_count": null,
      "outputs": []
    },
    {
      "cell_type": "code",
      "metadata": {
        "colab": {
          "base_uri": "https://localhost:8080/",
          "height": 204
        },
        "id": "StZMmBK2vy_Q",
        "outputId": "74e94b47-b093-4e65-9025-776a78b81141"
      },
      "source": [
        "df_movie_conversations['dia_len']=df_movie_conversations.order.apply(len)\r\n",
        "df_movie_conversations.head()"
      ],
      "execution_count": null,
      "outputs": [
        {
          "output_type": "execute_result",
          "data": {
            "text/html": [
              "<div>\n",
              "<style scoped>\n",
              "    .dataframe tbody tr th:only-of-type {\n",
              "        vertical-align: middle;\n",
              "    }\n",
              "\n",
              "    .dataframe tbody tr th {\n",
              "        vertical-align: top;\n",
              "    }\n",
              "\n",
              "    .dataframe thead th {\n",
              "        text-align: right;\n",
              "    }\n",
              "</style>\n",
              "<table border=\"1\" class=\"dataframe\">\n",
              "  <thead>\n",
              "    <tr style=\"text-align: right;\">\n",
              "      <th></th>\n",
              "      <th>characterID_f</th>\n",
              "      <th>characterID_s</th>\n",
              "      <th>movieID</th>\n",
              "      <th>order</th>\n",
              "      <th>dia_len</th>\n",
              "    </tr>\n",
              "  </thead>\n",
              "  <tbody>\n",
              "    <tr>\n",
              "      <th>0</th>\n",
              "      <td>u0</td>\n",
              "      <td>u2</td>\n",
              "      <td>m0</td>\n",
              "      <td>[L194, L195, L196, L197]</td>\n",
              "      <td>4</td>\n",
              "    </tr>\n",
              "    <tr>\n",
              "      <th>1</th>\n",
              "      <td>u0</td>\n",
              "      <td>u2</td>\n",
              "      <td>m0</td>\n",
              "      <td>[L198, L199]</td>\n",
              "      <td>2</td>\n",
              "    </tr>\n",
              "    <tr>\n",
              "      <th>2</th>\n",
              "      <td>u0</td>\n",
              "      <td>u2</td>\n",
              "      <td>m0</td>\n",
              "      <td>[L200, L201, L202, L203]</td>\n",
              "      <td>4</td>\n",
              "    </tr>\n",
              "    <tr>\n",
              "      <th>3</th>\n",
              "      <td>u0</td>\n",
              "      <td>u2</td>\n",
              "      <td>m0</td>\n",
              "      <td>[L204, L205, L206]</td>\n",
              "      <td>3</td>\n",
              "    </tr>\n",
              "    <tr>\n",
              "      <th>4</th>\n",
              "      <td>u0</td>\n",
              "      <td>u2</td>\n",
              "      <td>m0</td>\n",
              "      <td>[L207, L208]</td>\n",
              "      <td>2</td>\n",
              "    </tr>\n",
              "  </tbody>\n",
              "</table>\n",
              "</div>"
            ],
            "text/plain": [
              "  characterID_f characterID_s movieID                     order  dia_len\n",
              "0            u0            u2      m0  [L194, L195, L196, L197]        4\n",
              "1            u0            u2      m0              [L198, L199]        2\n",
              "2            u0            u2      m0  [L200, L201, L202, L203]        4\n",
              "3            u0            u2      m0        [L204, L205, L206]        3\n",
              "4            u0            u2      m0              [L207, L208]        2"
            ]
          },
          "metadata": {
            "tags": []
          },
          "execution_count": 8
        }
      ]
    },
    {
      "cell_type": "code",
      "metadata": {
        "colab": {
          "base_uri": "https://localhost:8080/",
          "height": 204
        },
        "id": "plPOSvrWx_8y",
        "outputId": "8d5a0ba8-7227-4b10-c1df-2c7ad06792e1"
      },
      "source": [
        "dia_2=df_movie_conversations[df_movie_conversations['dia_len']==2][['characterID_f','characterID_s','order']]\r\n",
        "dia_2.head()"
      ],
      "execution_count": null,
      "outputs": [
        {
          "output_type": "execute_result",
          "data": {
            "text/html": [
              "<div>\n",
              "<style scoped>\n",
              "    .dataframe tbody tr th:only-of-type {\n",
              "        vertical-align: middle;\n",
              "    }\n",
              "\n",
              "    .dataframe tbody tr th {\n",
              "        vertical-align: top;\n",
              "    }\n",
              "\n",
              "    .dataframe thead th {\n",
              "        text-align: right;\n",
              "    }\n",
              "</style>\n",
              "<table border=\"1\" class=\"dataframe\">\n",
              "  <thead>\n",
              "    <tr style=\"text-align: right;\">\n",
              "      <th></th>\n",
              "      <th>characterID_f</th>\n",
              "      <th>characterID_s</th>\n",
              "      <th>order</th>\n",
              "    </tr>\n",
              "  </thead>\n",
              "  <tbody>\n",
              "    <tr>\n",
              "      <th>1</th>\n",
              "      <td>u0</td>\n",
              "      <td>u2</td>\n",
              "      <td>[L198, L199]</td>\n",
              "    </tr>\n",
              "    <tr>\n",
              "      <th>4</th>\n",
              "      <td>u0</td>\n",
              "      <td>u2</td>\n",
              "      <td>[L207, L208]</td>\n",
              "    </tr>\n",
              "    <tr>\n",
              "      <th>6</th>\n",
              "      <td>u0</td>\n",
              "      <td>u2</td>\n",
              "      <td>[L276, L277]</td>\n",
              "    </tr>\n",
              "    <tr>\n",
              "      <th>7</th>\n",
              "      <td>u0</td>\n",
              "      <td>u2</td>\n",
              "      <td>[L280, L281]</td>\n",
              "    </tr>\n",
              "    <tr>\n",
              "      <th>8</th>\n",
              "      <td>u0</td>\n",
              "      <td>u2</td>\n",
              "      <td>[L363, L364]</td>\n",
              "    </tr>\n",
              "  </tbody>\n",
              "</table>\n",
              "</div>"
            ],
            "text/plain": [
              "  characterID_f characterID_s         order\n",
              "1            u0            u2  [L198, L199]\n",
              "4            u0            u2  [L207, L208]\n",
              "6            u0            u2  [L276, L277]\n",
              "7            u0            u2  [L280, L281]\n",
              "8            u0            u2  [L363, L364]"
            ]
          },
          "metadata": {
            "tags": []
          },
          "execution_count": 9
        }
      ]
    },
    {
      "cell_type": "code",
      "metadata": {
        "id": "CdQIX27AyxLU"
      },
      "source": [
        "LQA=dia_2.order.values\r\n",
        "LA=[]\r\n",
        "LQ=[]\r\n",
        "for di in LQA:\r\n",
        "  LQ.append(di[0])\r\n",
        "  LA.append(di[1])"
      ],
      "execution_count": null,
      "outputs": []
    },
    {
      "cell_type": "code",
      "metadata": {
        "id": "v3r8Rsbo4dSA"
      },
      "source": [
        "np_dia=np.asarray((LQ,LA)).T"
      ],
      "execution_count": null,
      "outputs": []
    },
    {
      "cell_type": "code",
      "metadata": {
        "colab": {
          "base_uri": "https://localhost:8080/",
          "height": 419
        },
        "id": "1m35ZHsx5fwh",
        "outputId": "d1d7f70a-c656-4350-8c6b-b52a8709a2a8"
      },
      "source": [
        "df_dia=pd.DataFrame(data=np_dia,\r\n",
        "          index=np.array(range(len(np_dia))),\r\n",
        "          columns=['Q','A'] )\r\n",
        "#df_dia"
      ],
      "execution_count": null,
      "outputs": [
        {
          "output_type": "execute_result",
          "data": {
            "text/html": [
              "<div>\n",
              "<style scoped>\n",
              "    .dataframe tbody tr th:only-of-type {\n",
              "        vertical-align: middle;\n",
              "    }\n",
              "\n",
              "    .dataframe tbody tr th {\n",
              "        vertical-align: top;\n",
              "    }\n",
              "\n",
              "    .dataframe thead th {\n",
              "        text-align: right;\n",
              "    }\n",
              "</style>\n",
              "<table border=\"1\" class=\"dataframe\">\n",
              "  <thead>\n",
              "    <tr style=\"text-align: right;\">\n",
              "      <th></th>\n",
              "      <th>Q</th>\n",
              "      <th>A</th>\n",
              "    </tr>\n",
              "  </thead>\n",
              "  <tbody>\n",
              "    <tr>\n",
              "      <th>0</th>\n",
              "      <td>L198</td>\n",
              "      <td>L199</td>\n",
              "    </tr>\n",
              "    <tr>\n",
              "      <th>1</th>\n",
              "      <td>L207</td>\n",
              "      <td>L208</td>\n",
              "    </tr>\n",
              "    <tr>\n",
              "      <th>2</th>\n",
              "      <td>L276</td>\n",
              "      <td>L277</td>\n",
              "    </tr>\n",
              "    <tr>\n",
              "      <th>3</th>\n",
              "      <td>L280</td>\n",
              "      <td>L281</td>\n",
              "    </tr>\n",
              "    <tr>\n",
              "      <th>4</th>\n",
              "      <td>L363</td>\n",
              "      <td>L364</td>\n",
              "    </tr>\n",
              "    <tr>\n",
              "      <th>...</th>\n",
              "      <td>...</td>\n",
              "      <td>...</td>\n",
              "    </tr>\n",
              "    <tr>\n",
              "      <th>38086</th>\n",
              "      <td>L666460</td>\n",
              "      <td>L666461</td>\n",
              "    </tr>\n",
              "    <tr>\n",
              "      <th>38087</th>\n",
              "      <td>L666485</td>\n",
              "      <td>L666486</td>\n",
              "    </tr>\n",
              "    <tr>\n",
              "      <th>38088</th>\n",
              "      <td>L666546</td>\n",
              "      <td>L666547</td>\n",
              "    </tr>\n",
              "    <tr>\n",
              "      <th>38089</th>\n",
              "      <td>L666575</td>\n",
              "      <td>L666576</td>\n",
              "    </tr>\n",
              "    <tr>\n",
              "      <th>38090</th>\n",
              "      <td>L666256</td>\n",
              "      <td>L666257</td>\n",
              "    </tr>\n",
              "  </tbody>\n",
              "</table>\n",
              "<p>38091 rows × 2 columns</p>\n",
              "</div>"
            ],
            "text/plain": [
              "             Q        A\n",
              "0         L198     L199\n",
              "1         L207     L208\n",
              "2         L276     L277\n",
              "3         L280     L281\n",
              "4         L363     L364\n",
              "...        ...      ...\n",
              "38086  L666460  L666461\n",
              "38087  L666485  L666486\n",
              "38088  L666546  L666547\n",
              "38089  L666575  L666576\n",
              "38090  L666256  L666257\n",
              "\n",
              "[38091 rows x 2 columns]"
            ]
          },
          "metadata": {
            "tags": []
          },
          "execution_count": 13
        }
      ]
    },
    {
      "cell_type": "code",
      "metadata": {
        "id": "nkUsIMhTZ-s6"
      },
      "source": [
        "data_fpath = '/content/movie_lines_3.txt'\r\n",
        "max_sentences = 10000\r\n",
        "LlineID=[]\r\n",
        "LcharacterID=[]\r\n",
        "LmovieID=[]\r\n",
        "Lcharacter_name=[]\r\n",
        "Ltext_of_the_utterance=[]\r\n",
        "#lines = codecs.open(data_fpath, 'r', encoding='ANSI').readlines()#[:max_sentences]\r\n",
        "i=0\r\n",
        "f = open(data_fpath)\r\n",
        "#try:\r\n",
        "for line in f:\r\n",
        "  uni_str=line.encode(\"windows-1251\").decode(\"utf-8\")\r\n",
        "  #.decode(\"utf-8\").encode(\"windows-1251\").decode(\"utf-8\")\r\n",
        "  lineID,characterID,movieID,character_name,text_of_the_utterance= uni_str.split(' +++$+++ ')   \r\n",
        "  #print(i)\r\n",
        "  i=i+1\r\n",
        "  LlineID.append(lineID)\r\n",
        "  LcharacterID.append(characterID)\r\n",
        "  LmovieID.append(movieID)\r\n",
        "  Lcharacter_name.append(character_name)\r\n",
        "  pos= re.sub(\"\\n\",'',text_of_the_utterance)    \r\n",
        "  Ltext_of_the_utterance.append(pos)\r\n"
      ],
      "execution_count": null,
      "outputs": []
    },
    {
      "cell_type": "code",
      "metadata": {
        "colab": {
          "base_uri": "https://localhost:8080/",
          "height": 204
        },
        "id": "45ouuhbX7Akk",
        "outputId": "e982a245-b006-473f-fcdd-8542f1925c0b"
      },
      "source": [
        "np_movie_line=np.asarray((LlineID,LcharacterID,Ltext_of_the_utterance)).T\r\n",
        "df_movie_line=pd.DataFrame(data=np_movie_line,\r\n",
        "          index=np.array(range(len(np_movie_line))),\r\n",
        "          columns=['LlineID','LcharacterID','Ltext_of_the_utterance'])\r\n",
        "df_movieLlineID_line.head()"
      ],
      "execution_count": null,
      "outputs": [
        {
          "output_type": "execute_result",
          "data": {
            "text/html": [
              "<div>\n",
              "<style scoped>\n",
              "    .dataframe tbody tr th:only-of-type {\n",
              "        vertical-align: middle;\n",
              "    }\n",
              "\n",
              "    .dataframe tbody tr th {\n",
              "        vertical-align: top;\n",
              "    }\n",
              "\n",
              "    .dataframe thead th {\n",
              "        text-align: right;\n",
              "    }\n",
              "</style>\n",
              "<table border=\"1\" class=\"dataframe\">\n",
              "  <thead>\n",
              "    <tr style=\"text-align: right;\">\n",
              "      <th></th>\n",
              "      <th>LlineID</th>\n",
              "      <th>LcharacterID</th>\n",
              "      <th>Ltext_of_the_utterance</th>\n",
              "    </tr>\n",
              "  </thead>\n",
              "  <tbody>\n",
              "    <tr>\n",
              "      <th>0</th>\n",
              "      <td>L1045</td>\n",
              "      <td>u0</td>\n",
              "      <td>They do not!</td>\n",
              "    </tr>\n",
              "    <tr>\n",
              "      <th>1</th>\n",
              "      <td>L1044</td>\n",
              "      <td>u2</td>\n",
              "      <td>They do to!</td>\n",
              "    </tr>\n",
              "    <tr>\n",
              "      <th>2</th>\n",
              "      <td>L985</td>\n",
              "      <td>u0</td>\n",
              "      <td>I hope so.</td>\n",
              "    </tr>\n",
              "    <tr>\n",
              "      <th>3</th>\n",
              "      <td>L984</td>\n",
              "      <td>u2</td>\n",
              "      <td>She okay?</td>\n",
              "    </tr>\n",
              "    <tr>\n",
              "      <th>4</th>\n",
              "      <td>L925</td>\n",
              "      <td>u0</td>\n",
              "      <td>Let's go.</td>\n",
              "    </tr>\n",
              "  </tbody>\n",
              "</table>\n",
              "</div>"
            ],
            "text/plain": [
              "  LlineID LcharacterID Ltext_of_the_utterance\n",
              "0   L1045           u0           They do not!\n",
              "1   L1044           u2            They do to!\n",
              "2    L985           u0             I hope so.\n",
              "3    L984           u2              She okay?\n",
              "4    L925           u0              Let's go."
            ]
          },
          "metadata": {
            "tags": []
          },
          "execution_count": 15
        }
      ]
    },
    {
      "cell_type": "code",
      "metadata": {
        "id": "HHAEYEH194V5"
      },
      "source": [
        "df_diaA=df_dia.merge(df_movie_line,left_on='A', right_on='LlineID')\r\n",
        "df_diaAQ=df_diaA.merge(df_movie_line,left_on='Q', right_on='LlineID')"
      ],
      "execution_count": null,
      "outputs": []
    },
    {
      "cell_type": "code",
      "metadata": {
        "id": "WKOkYW_V_7sK"
      },
      "source": [
        "df_diaAQ.columns=['LQ','LA','Line_A','LcharacterID_A','Ans','Line_B','LcharacterID_Q','Qwe']\r\n",
        "df_diaAQ"
      ],
      "execution_count": null,
      "outputs": []
    },
    {
      "cell_type": "code",
      "metadata": {
        "id": "NERcx958A8UO",
        "colab": {
          "base_uri": "https://localhost:8080/",
          "height": 163
        },
        "outputId": "4bf99e3e-0a6d-47c0-8322-32839bfdfa76"
      },
      "source": [
        "df_diaAQ_work=df_diaAQ[['LQ','LA','LcharacterID_A','Ans','LcharacterID_Q','Qwe']]\r\n"
      ],
      "execution_count": null,
      "outputs": [
        {
          "output_type": "error",
          "ename": "NameError",
          "evalue": "ignored",
          "traceback": [
            "\u001b[0;31m---------------------------------------------------------------------------\u001b[0m",
            "\u001b[0;31mNameError\u001b[0m                                 Traceback (most recent call last)",
            "\u001b[0;32m<ipython-input-1-b814f873325d>\u001b[0m in \u001b[0;36m<module>\u001b[0;34m()\u001b[0m\n\u001b[0;32m----> 1\u001b[0;31m \u001b[0mdf_diaAQ_work\u001b[0m\u001b[0;34m=\u001b[0m\u001b[0mdf_diaAQ\u001b[0m\u001b[0;34m[\u001b[0m\u001b[0;34m[\u001b[0m\u001b[0;34m'LQ'\u001b[0m\u001b[0;34m,\u001b[0m\u001b[0;34m'LA'\u001b[0m\u001b[0;34m,\u001b[0m\u001b[0;34m'LcharacterID_A'\u001b[0m\u001b[0;34m,\u001b[0m\u001b[0;34m'Ans'\u001b[0m\u001b[0;34m,\u001b[0m\u001b[0;34m'LcharacterID_Q'\u001b[0m\u001b[0;34m,\u001b[0m\u001b[0;34m'Qwe'\u001b[0m\u001b[0;34m]\u001b[0m\u001b[0;34m]\u001b[0m\u001b[0;34m\u001b[0m\u001b[0;34m\u001b[0m\u001b[0m\n\u001b[0m",
            "\u001b[0;31mNameError\u001b[0m: name 'df_diaAQ' is not defined"
          ]
        }
      ]
    },
    {
      "cell_type": "code",
      "metadata": {
        "id": "yiURmJLoBcCR"
      },
      "source": [
        "df_diaAQ_work.to_csv('work_data.csv')"
      ],
      "execution_count": null,
      "outputs": []
    },
    {
      "cell_type": "code",
      "metadata": {
        "id": "C53I_EtNDI52"
      },
      "source": [
        "work_data=pd.read_csv('/content/work_data.csv')\r\n"
      ],
      "execution_count": 3,
      "outputs": []
    },
    {
      "cell_type": "code",
      "metadata": {
        "colab": {
          "base_uri": "https://localhost:8080/"
        },
        "id": "ugXIFqYPF0qp",
        "outputId": "fa9676d2-fbf2-49db-ce65-7b6bb0e01e2a"
      },
      "source": [
        "work_data.info()"
      ],
      "execution_count": 4,
      "outputs": [
        {
          "output_type": "stream",
          "text": [
            "<class 'pandas.core.frame.DataFrame'>\n",
            "RangeIndex: 38091 entries, 0 to 38090\n",
            "Data columns (total 7 columns):\n",
            " #   Column          Non-Null Count  Dtype \n",
            "---  ------          --------------  ----- \n",
            " 0   Unnamed: 0      38091 non-null  int64 \n",
            " 1   LQ              38091 non-null  object\n",
            " 2   LA              38091 non-null  object\n",
            " 3   LcharacterID_A  38091 non-null  object\n",
            " 4   Ans             38062 non-null  object\n",
            " 5   LcharacterID_Q  38091 non-null  object\n",
            " 6   Qwe             38059 non-null  object\n",
            "dtypes: int64(1), object(6)\n",
            "memory usage: 2.0+ MB\n"
          ],
          "name": "stdout"
        }
      ]
    },
    {
      "cell_type": "code",
      "metadata": {
        "id": "ZU6qy2ZuJWrO"
      },
      "source": [
        "stop_words = [\r\n",
        "    'i', 'me', 'my', 'myself', 'we', 'our', 'ours', 'ourselves', 'you', \"you're\", \"you've\", \"you'll\", \"you'd\",\r\n",
        "    'your', 'yours', 'yourself', 'yourselves', 'he', 'him', 'his', 'himself', 'she', \"she's\", 'her', 'hers',\r\n",
        "    'herself', 'it', \"it's\", 'its', 'itself', 'they', 'them', 'their', 'theirs', 'themselves', 'what', 'which',\r\n",
        "    'who', 'whom', 'this', 'that', \"that'll\", 'these', 'those', 'am', 'is', 'are', 'was', 'were', 'be', 'been',\r\n",
        "    'being', 'have', 'has', 'had', 'having', 'do', 'does', 'did', 'doing', 'a', 'an', 'the', 'and', 'but', 'if',\r\n",
        "    'or', 'because', 'as', 'until', 'while', 'of', 'at', 'by', 'for', 'with', 'about', 'against', 'between',\r\n",
        "    'into', 'through', 'during', 'before', 'after', 'above', 'below', 'to', 'from', 'up', 'down', 'in', 'out',\r\n",
        "    'on', 'off', 'over', 'under', 'again', 'further', 'then', 'once', 'here', 'there', 'when', 'where', 'why',\r\n",
        "    'how', 'all', 'any', 'both', 'each', 'few', 'more', 'most', 'other', 'some', 'such', 'no', 'nor', 'not',\r\n",
        "    'only', 'own', 'same', 'so', 'than', 'too', 'very', 's', 't', 'can', 'will', 'just', 'don', \"don't\", 'shold',\r\n",
        "    \"should've\", 'now', 'd', 'll', 'm', 'o', 're', 've', 'y', 'ain', 'aren', \"aren't\", 'couldn', \"couldn't\",\r\n",
        "    'didn', \"didn't\", 'doesn', \"doesn't\", 'hadn', \"hadn't\", 'hasn', \"hasn't\", 'haven', \"haven't\", 'isn', \"isn't\",\r\n",
        "    'ma', 'mightn', \"mightn't\", 'mustn', \"mustn't\", 'needn', \"needn't\", 'shan', \"shan't\", 'shouldn', \"shouldn't\",\r\n",
        "    'wasn', \"wasn't\", 'weren', \"weren't\", 'won', \"won't\", 'wouldn', \"wouldn't\"]"
      ],
      "execution_count": null,
      "outputs": []
    },
    {
      "cell_type": "code",
      "metadata": {
        "id": "ngiwnklyJAvV"
      },
      "source": [
        "def tokenize_text(raw_text: str):\r\n",
        "    \"\"\"Функция для токенизации текста    \r\n",
        "    :param raw_text: исходная текстовая строка\r\n",
        "    \"\"\"\r\n",
        "    tokenized_str = nltk.word_tokenize(raw_text)\r\n",
        "    tokens = tokenized_str#[i.lower() for i in tokenized_str if ( i not in string.punctuation )]\r\n",
        "    filtered_tokens = [i for i in tokens if ( i not in stop_words )]\r\n",
        "    return filtered_tokens\r\n",
        "   # return tokenized_str"
      ],
      "execution_count": null,
      "outputs": []
    },
    {
      "cell_type": "code",
      "metadata": {
        "colab": {
          "base_uri": "https://localhost:8080/"
        },
        "id": "XcpFgH8NKFOe",
        "outputId": "9d96fb90-60f1-43ef-82fd-e3031b2fd39f"
      },
      "source": [
        "nltk.download('punkt', download_dir='.')"
      ],
      "execution_count": null,
      "outputs": [
        {
          "output_type": "stream",
          "text": [
            "[nltk_data] Downloading package punkt to ....\n",
            "[nltk_data]   Unzipping tokenizers/punkt.zip.\n"
          ],
          "name": "stdout"
        },
        {
          "output_type": "execute_result",
          "data": {
            "text/plain": [
              "True"
            ]
          },
          "metadata": {
            "tags": []
          },
          "execution_count": 8
        }
      ]
    },
    {
      "cell_type": "code",
      "metadata": {
        "id": "-_eM5eYYD7PA"
      },
      "source": [
        "work_data['token_A']=(work_data['Ans']).apply(str).apply(tokenize_text)"
      ],
      "execution_count": null,
      "outputs": []
    },
    {
      "cell_type": "code",
      "metadata": {
        "id": "gBSx0Ez_NOYn"
      },
      "source": [
        "work_data['token_A_len']=(work_data['token_A']).apply(len)\r\n"
      ],
      "execution_count": null,
      "outputs": []
    },
    {
      "cell_type": "code",
      "metadata": {
        "id": "0QtMXvoYNrXV"
      },
      "source": [
        "work_data['token_Q']=(work_data['Qwe']).apply(str).apply(tokenize_text)\r\n",
        "work_data['token_Q_len']=(work_data['token_Q']).apply(len)"
      ],
      "execution_count": null,
      "outputs": []
    },
    {
      "cell_type": "code",
      "metadata": {
        "id": "cJh-n31yfMyV"
      },
      "source": [
        "work_data['len_A']=(work_data['Ans']).apply(str).apply(len)\r\n",
        "work_data['len_Q']=(work_data['Qwe']).apply(str).apply(len)"
      ],
      "execution_count": 5,
      "outputs": []
    },
    {
      "cell_type": "code",
      "metadata": {
        "colab": {
          "base_uri": "https://localhost:8080/",
          "height": 285
        },
        "id": "crJaJAtxJCwG",
        "outputId": "d03e191e-fee7-4bdc-f194-4de3d66fd6ac"
      },
      "source": [
        "work_data.head()"
      ],
      "execution_count": 6,
      "outputs": [
        {
          "output_type": "execute_result",
          "data": {
            "text/html": [
              "<div>\n",
              "<style scoped>\n",
              "    .dataframe tbody tr th:only-of-type {\n",
              "        vertical-align: middle;\n",
              "    }\n",
              "\n",
              "    .dataframe tbody tr th {\n",
              "        vertical-align: top;\n",
              "    }\n",
              "\n",
              "    .dataframe thead th {\n",
              "        text-align: right;\n",
              "    }\n",
              "</style>\n",
              "<table border=\"1\" class=\"dataframe\">\n",
              "  <thead>\n",
              "    <tr style=\"text-align: right;\">\n",
              "      <th></th>\n",
              "      <th>Unnamed: 0</th>\n",
              "      <th>LQ</th>\n",
              "      <th>LA</th>\n",
              "      <th>LcharacterID_A</th>\n",
              "      <th>Ans</th>\n",
              "      <th>LcharacterID_Q</th>\n",
              "      <th>Qwe</th>\n",
              "      <th>len_A</th>\n",
              "      <th>len_Q</th>\n",
              "    </tr>\n",
              "  </thead>\n",
              "  <tbody>\n",
              "    <tr>\n",
              "      <th>0</th>\n",
              "      <td>0</td>\n",
              "      <td>L198</td>\n",
              "      <td>L199</td>\n",
              "      <td>u2</td>\n",
              "      <td>Forget it.</td>\n",
              "      <td>u0</td>\n",
              "      <td>You're asking me out.  That's so cute. What's ...</td>\n",
              "      <td>10</td>\n",
              "      <td>62</td>\n",
              "    </tr>\n",
              "    <tr>\n",
              "      <th>1</th>\n",
              "      <td>1</td>\n",
              "      <td>L207</td>\n",
              "      <td>L208</td>\n",
              "      <td>u2</td>\n",
              "      <td>Let me see what I can do.</td>\n",
              "      <td>u0</td>\n",
              "      <td>Gosh, if only we could find Kat a boyfriend...</td>\n",
              "      <td>25</td>\n",
              "      <td>46</td>\n",
              "    </tr>\n",
              "    <tr>\n",
              "      <th>2</th>\n",
              "      <td>2</td>\n",
              "      <td>L276</td>\n",
              "      <td>L277</td>\n",
              "      <td>u2</td>\n",
              "      <td>Well, there's someone I think might be --</td>\n",
              "      <td>u0</td>\n",
              "      <td>How is our little Find the Wench A Date plan p...</td>\n",
              "      <td>41</td>\n",
              "      <td>57</td>\n",
              "    </tr>\n",
              "    <tr>\n",
              "      <th>3</th>\n",
              "      <td>3</td>\n",
              "      <td>L280</td>\n",
              "      <td>L281</td>\n",
              "      <td>u0</td>\n",
              "      <td>Where?</td>\n",
              "      <td>u2</td>\n",
              "      <td>There.</td>\n",
              "      <td>6</td>\n",
              "      <td>6</td>\n",
              "    </tr>\n",
              "    <tr>\n",
              "      <th>4</th>\n",
              "      <td>4</td>\n",
              "      <td>L363</td>\n",
              "      <td>L364</td>\n",
              "      <td>u0</td>\n",
              "      <td>I counted on you to help my cause. You and tha...</td>\n",
              "      <td>u2</td>\n",
              "      <td>You got something on your mind?</td>\n",
              "      <td>109</td>\n",
              "      <td>31</td>\n",
              "    </tr>\n",
              "  </tbody>\n",
              "</table>\n",
              "</div>"
            ],
            "text/plain": [
              "   Unnamed: 0    LQ  ... len_A len_Q\n",
              "0           0  L198  ...    10    62\n",
              "1           1  L207  ...    25    46\n",
              "2           2  L276  ...    41    57\n",
              "3           3  L280  ...     6     6\n",
              "4           4  L363  ...   109    31\n",
              "\n",
              "[5 rows x 9 columns]"
            ]
          },
          "metadata": {
            "tags": []
          },
          "execution_count": 6
        }
      ]
    },
    {
      "cell_type": "code",
      "metadata": {
        "colab": {
          "base_uri": "https://localhost:8080/",
          "height": 283
        },
        "id": "sr8iGWFRfrGU",
        "outputId": "92fb1273-04e4-4d4e-f8df-84f4bc085cf8"
      },
      "source": [
        "work_data.len_A.hist()"
      ],
      "execution_count": null,
      "outputs": [
        {
          "output_type": "execute_result",
          "data": {
            "text/plain": [
              "<matplotlib.axes._subplots.AxesSubplot at 0x7fb52bf6ce10>"
            ]
          },
          "metadata": {
            "tags": []
          },
          "execution_count": 6
        },
        {
          "output_type": "display_data",
          "data": {
            "image/png": "[encoded data removed]",
            "text/plain": [
              "<Figure size 432x288 with 1 Axes>"
            ]
          },
          "metadata": {
            "tags": [],
            "needs_background": "light"
          }
        }
      ]
    },
    {
      "cell_type": "code",
      "metadata": {
        "colab": {
          "base_uri": "https://localhost:8080/",
          "height": 283
        },
        "id": "vk4XToKhf5m4",
        "outputId": "c4dbdf44-0754-4010-c225-cd1458d68d0b"
      },
      "source": [
        "work_data.len_Q.hist()"
      ],
      "execution_count": null,
      "outputs": [
        {
          "output_type": "execute_result",
          "data": {
            "text/plain": [
              "<matplotlib.axes._subplots.AxesSubplot at 0x7fb52bf3fe48>"
            ]
          },
          "metadata": {
            "tags": []
          },
          "execution_count": 8
        },
        {
          "output_type": "display_data",
          "data": {
            "image/png": "[encoded data removed]",
            "text/plain": [
              "<Figure size 432x288 with 1 Axes>"
            ]
          },
          "metadata": {
            "tags": [],
            "needs_background": "light"
          }
        }
      ]
    },
    {
      "cell_type": "code",
      "metadata": {
        "id": "hqGlIfrgOOfW"
      },
      "source": [
        "work_chat=work_data[(work_data['len_Q']<64)&(work_data['len_A']<64)]\r\n"
      ],
      "execution_count": 42,
      "outputs": []
    },
    {
      "cell_type": "code",
      "metadata": {
        "colab": {
          "base_uri": "https://localhost:8080/",
          "height": 283
        },
        "id": "XQTGQYOSggXU",
        "outputId": "036ed891-4523-4553-dc58-3623687adbd3"
      },
      "source": [
        "work_chat.len_Q.hist()"
      ],
      "execution_count": 40,
      "outputs": [
        {
          "output_type": "execute_result",
          "data": {
            "text/plain": [
              "<matplotlib.axes._subplots.AxesSubplot at 0x7fcafe96b978>"
            ]
          },
          "metadata": {
            "tags": []
          },
          "execution_count": 40
        },
        {
          "output_type": "display_data",
          "data": {
            "image/png": "[encoded data removed]",
            "text/plain": [
              "<Figure size 432x288 with 1 Axes>"
            ]
          },
          "metadata": {
            "tags": [],
            "needs_background": "light"
          }
        }
      ]
    },
    {
      "cell_type": "code",
      "metadata": {
        "colab": {
          "base_uri": "https://localhost:8080/",
          "height": 283
        },
        "id": "GcuzdINbFCXE",
        "outputId": "a7d0d370-6e62-4ba5-d4f5-1628b12bad75"
      },
      "source": [
        "work_chat.len_A.hist()"
      ],
      "execution_count": 43,
      "outputs": [
        {
          "output_type": "execute_result",
          "data": {
            "text/plain": [
              "<matplotlib.axes._subplots.AxesSubplot at 0x7fcb5f091d30>"
            ]
          },
          "metadata": {
            "tags": []
          },
          "execution_count": 43
        },
        {
          "output_type": "display_data",
          "data": {
            "image/png": "[encoded data removed]",
            "text/plain": [
              "<Figure size 432x288 with 1 Axes>"
            ]
          },
          "metadata": {
            "tags": [],
            "needs_background": "light"
          }
        }
      ]
    },
    {
      "cell_type": "markdown",
      "metadata": {
        "id": "pYBswmEsPgiB"
      },
      "source": [
        "## Массив данных для обучения чат бота"
      ]
    },
    {
      "cell_type": "code",
      "metadata": {
        "colab": {
          "base_uri": "https://localhost:8080/"
        },
        "id": "a_-5q6tRO3b3",
        "outputId": "49aa1a44-9d25-4054-e112-60dd1371e4c1"
      },
      "source": [
        "work_chat.info()"
      ],
      "execution_count": 44,
      "outputs": [
        {
          "output_type": "stream",
          "text": [
            "<class 'pandas.core.frame.DataFrame'>\n",
            "Int64Index: 21933 entries, 0 to 38083\n",
            "Data columns (total 9 columns):\n",
            " #   Column          Non-Null Count  Dtype \n",
            "---  ------          --------------  ----- \n",
            " 0   Unnamed: 0      21933 non-null  int64 \n",
            " 1   LQ              21933 non-null  object\n",
            " 2   LA              21933 non-null  object\n",
            " 3   LcharacterID_A  21933 non-null  object\n",
            " 4   Ans             21907 non-null  object\n",
            " 5   LcharacterID_Q  21933 non-null  object\n",
            " 6   Qwe             21903 non-null  object\n",
            " 7   len_A           21933 non-null  int64 \n",
            " 8   len_Q           21933 non-null  int64 \n",
            "dtypes: int64(3), object(6)\n",
            "memory usage: 1.7+ MB\n"
          ],
          "name": "stdout"
        }
      ]
    },
    {
      "cell_type": "code",
      "metadata": {
        "id": "Ooq1yUKGQUQM"
      },
      "source": [
        "input_texts=work_chat['Qwe'].apply(str).sum()\r\n",
        "#input_texts1=re.sub(\"\\\\'\",\"\",input_texts)"
      ],
      "execution_count": 45,
      "outputs": []
    },
    {
      "cell_type": "code",
      "metadata": {
        "id": "fVOpDV9mQsY7"
      },
      "source": [
        "target_texts=work_chat['Ans'].apply(str).values.sum()"
      ],
      "execution_count": 46,
      "outputs": []
    },
    {
      "cell_type": "code",
      "metadata": {
        "id": "459bFxllGmqn"
      },
      "source": [
        "def prepare_vocab(texts):\r\n",
        "    vocab = sorted(set(''.join(texts)))\r\n",
        "    vocab.append('<START>')\r\n",
        "    vocab.append('<END>')\r\n",
        "    vocab_size = len(vocab)\r\n",
        "    char2idx = {u:i for i, u in enumerate(vocab)}\r\n",
        "    idx2char = np.array(vocab)\r\n",
        "    return vocab_size, char2idx, idx2char"
      ],
      "execution_count": 47,
      "outputs": []
    },
    {
      "cell_type": "code",
      "metadata": {
        "id": "7hjhllNeGr8z"
      },
      "source": [
        "INPUT_VOCAB_SIZE, input_char2idx, input_idx2char = prepare_vocab(input_texts)\r\n",
        "TARGET_VOCAB_SIZE, target_char2idx, target_idx2char = prepare_vocab(target_texts)"
      ],
      "execution_count": 48,
      "outputs": []
    },
    {
      "cell_type": "code",
      "metadata": {
        "id": "20CnhRA0T7fK"
      },
      "source": [
        "input_texts_data=work_chat['Qwe'].apply(str).values\r\n",
        "#target_texts_data=work_chat['Ans'].apply(str)\r\n",
        "target_texts_data=work_chat['Ans'].apply(str).values"
      ],
      "execution_count": 49,
      "outputs": []
    },
    {
      "cell_type": "code",
      "metadata": {
        "id": "qTxobPTXSEKh"
      },
      "source": [
        "input_texts_as_int = [[input_char2idx[c] for c in text] for text in input_texts_data]\r\n",
        "target_texts_as_int = [[target_char2idx[c] for c in text] for text in target_texts_data]\r\n",
        "\r\n",
        "encoder_input_seqs = [np.array(text) for text in input_texts_as_int]\r\n",
        "decoder_input_seqs = []\r\n",
        "decoder_target_seqs = []\r\n",
        "for target_text in target_texts_as_int:\r\n",
        "    decoder_input_seqs.append(np.array([target_char2idx['<START>']] + target_text))\r\n",
        "    decoder_target_seqs.append(np.array(target_text + [target_char2idx['<END>']]))"
      ],
      "execution_count": 50,
      "outputs": []
    },
    {
      "cell_type": "code",
      "metadata": {
        "colab": {
          "base_uri": "https://localhost:8080/"
        },
        "id": "jfcJPOWbSGO0",
        "outputId": "577d5eff-4505-4e81-a08d-bb8b810a462c"
      },
      "source": [
        "input_texts_data"
      ],
      "execution_count": 18,
      "outputs": [
        {
          "output_type": "execute_result",
          "data": {
            "text/plain": [
              "array([\"You're asking me out.  That's so cute. What's your name again?\",\n",
              "       'Gosh, if only we could find Kat a boyfriend...',\n",
              "       'How is our little Find the Wench A Date plan progressing?', ...,\n",
              "       'Splendid site, Crealock, splendil I want to establish Camp here immediately.',\n",
              "       \"Choose your targets men. That's right Watch those markers. 55\",\n",
              "       \"Colonel Durnford... William Vereker. I hear you 've been seeking Officers?\"],\n",
              "      dtype=object)"
            ]
          },
          "metadata": {
            "tags": []
          },
          "execution_count": 18
        }
      ]
    },
    {
      "cell_type": "code",
      "metadata": {
        "id": "a323Bf7CV4PD"
      },
      "source": [
        "max_enc_seq_length = 64 # max np.median([len(seq) for seq in encoder_input_seqs])\r\n",
        "#max_enc_seq_length = np.median([len(seq) for seq in encoder_input_seqs])\r\n",
        "max_dec_seq_length = 64# max([len(seq) for seq in decoder_input_seqs])\r\n",
        "#max_dec_seq_length = np.median([len(seq) for seq in decoder_input_seqs])\r\n",
        "\r\n",
        "encoder_input_seqs = tf.keras.preprocessing.sequence.pad_sequences(\r\n",
        "    encoder_input_seqs,\r\n",
        "    value=input_char2idx[' '],\r\n",
        "    padding='post',\r\n",
        "    maxlen=max_enc_seq_length)\r\n",
        "\r\n",
        "decoder_input_seqs = tf.keras.preprocessing.sequence.pad_sequences(\r\n",
        "    decoder_input_seqs,\r\n",
        "    value=target_char2idx[' '],\r\n",
        "    padding='post',\r\n",
        "    maxlen=max_dec_seq_length)\r\n",
        "\r\n",
        "decoder_target_seqs = tf.keras.preprocessing.sequence.pad_sequences(\r\n",
        "    decoder_target_seqs,\r\n",
        "    value=target_char2idx[' '],\r\n",
        "    padding='post',\r\n",
        "    maxlen=max_dec_seq_length)"
      ],
      "execution_count": 51,
      "outputs": []
    },
    {
      "cell_type": "code",
      "metadata": {
        "id": "yvdcjEO3WGux"
      },
      "source": [
        "H_SIZE = 256 # Размерность скрытого состояния LSTM\r\n",
        "EMB_SIZE = 256# размерность эмбеддингов (и для входных и для выходных цепочек)\r\n",
        "\r\n",
        "class Encoder(tf.keras.Model):\r\n",
        "    def __init__(self):\r\n",
        "        super().__init__()\r\n",
        "        self.embed = tf.keras.layers.Embedding(INPUT_VOCAB_SIZE, EMB_SIZE)\r\n",
        "        self.lstm = tf.keras.layers.LSTM(H_SIZE, return_sequences=False, return_state=True)\r\n",
        "        \r\n",
        "    def call(self, x):\r\n",
        "        out = self.embed(x)\r\n",
        "        _, h, c = self.lstm(out)\r\n",
        "        state = (h, c)\r\n",
        "        return state\r\n",
        "\r\n",
        "class Decoder(tf.keras.Model):\r\n",
        "    def __init__(self):\r\n",
        "        super().__init__()\r\n",
        "        self.embed = tf.keras.layers.Embedding(TARGET_VOCAB_SIZE, EMB_SIZE)\r\n",
        "        self.lstm = tf.keras.layers.LSTM(H_SIZE, return_sequences=True, return_state=True)\r\n",
        "        self.fc = tf.keras.layers.Dense(TARGET_VOCAB_SIZE, activation='softmax')\r\n",
        "        \r\n",
        "    def call(self, x, init_state):\r\n",
        "        out = self.embed(x)\r\n",
        "        out, h, c = self.lstm(out, initial_state=init_state)\r\n",
        "        out = self.fc(out)\r\n",
        "        state = (h, c)\r\n",
        "        return out, state\r\n",
        "\r\n",
        "encoder_model = Encoder()\r\n",
        "decoder_model = Decoder()\r\n",
        "\r\n",
        "encoder_inputs = tf.keras.layers.Input(shape=(None,))\r\n",
        "decoder_inputs = tf.keras.layers.Input(shape=(None,))\r\n",
        "\r\n",
        "enc_state = encoder_model(encoder_inputs)\r\n",
        "decoder_outputs, _ = decoder_model(decoder_inputs, enc_state)\r\n",
        "\r\n",
        "seq2seq = tf.keras.Model([encoder_inputs, decoder_inputs], decoder_outputs)"
      ],
      "execution_count": 52,
      "outputs": []
    },
    {
      "cell_type": "code",
      "metadata": {
        "colab": {
          "base_uri": "https://localhost:8080/"
        },
        "id": "6vpsbM1PWPvn",
        "outputId": "d19b92a5-3c0b-48d3-8e3c-5024a6d440c8"
      },
      "source": [
        "BATCH_SIZE = 64\r\n",
        "EPOCHS = 100\r\n",
        "\r\n",
        "loss = tf.losses.SparseCategoricalCrossentropy()\r\n",
        "seq2seq.compile(optimizer='rmsprop', loss=loss, metrics=['accuracy'])\r\n",
        "seq2seq.fit([encoder_input_seqs, decoder_input_seqs], decoder_target_seqs,\r\n",
        "          batch_size=BATCH_SIZE,\r\n",
        "          epochs=EPOCHS)"
      ],
      "execution_count": 53,
      "outputs": [
        {
          "output_type": "stream",
          "text": [
            "Epoch 1/100\n",
            "343/343 [==============================] - 9s 18ms/step - loss: 1.5318 - accuracy: 0.6429\n",
            "Epoch 2/100\n",
            "343/343 [==============================] - 6s 19ms/step - loss: 0.8969 - accuracy: 0.7425\n",
            "Epoch 3/100\n",
            "343/343 [==============================] - 6s 18ms/step - loss: 0.8030 - accuracy: 0.7653\n",
            "Epoch 4/100\n",
            "343/343 [==============================] - 6s 19ms/step - loss: 0.7479 - accuracy: 0.7795\n",
            "Epoch 5/100\n",
            "343/343 [==============================] - 6s 19ms/step - loss: 0.7098 - accuracy: 0.7896\n",
            "Epoch 6/100\n",
            "343/343 [==============================] - 6s 19ms/step - loss: 0.6874 - accuracy: 0.7948\n",
            "Epoch 7/100\n",
            "343/343 [==============================] - 6s 19ms/step - loss: 0.6693 - accuracy: 0.8003\n",
            "Epoch 8/100\n",
            "343/343 [==============================] - 7s 19ms/step - loss: 0.6594 - accuracy: 0.8024\n",
            "Epoch 9/100\n",
            "343/343 [==============================] - 6s 19ms/step - loss: 0.6420 - accuracy: 0.8070\n",
            "Epoch 10/100\n",
            "343/343 [==============================] - 6s 19ms/step - loss: 0.6321 - accuracy: 0.8099\n",
            "Epoch 11/100\n",
            "343/343 [==============================] - 6s 19ms/step - loss: 0.6223 - accuracy: 0.8122\n",
            "Epoch 12/100\n",
            "343/343 [==============================] - 6s 19ms/step - loss: 0.6189 - accuracy: 0.8129\n",
            "Epoch 13/100\n",
            "343/343 [==============================] - 6s 19ms/step - loss: 0.6080 - accuracy: 0.8157\n",
            "Epoch 14/100\n",
            "343/343 [==============================] - 6s 19ms/step - loss: 0.6046 - accuracy: 0.8167\n",
            "Epoch 15/100\n",
            "343/343 [==============================] - 6s 19ms/step - loss: 0.5951 - accuracy: 0.8195\n",
            "Epoch 16/100\n",
            "343/343 [==============================] - 6s 19ms/step - loss: 0.5913 - accuracy: 0.8207\n",
            "Epoch 17/100\n",
            "343/343 [==============================] - 7s 19ms/step - loss: 0.5822 - accuracy: 0.8232\n",
            "Epoch 18/100\n",
            "343/343 [==============================] - 6s 19ms/step - loss: 0.5774 - accuracy: 0.8248\n",
            "Epoch 19/100\n",
            "343/343 [==============================] - 6s 19ms/step - loss: 0.5749 - accuracy: 0.8252\n",
            "Epoch 20/100\n",
            "343/343 [==============================] - 6s 19ms/step - loss: 0.5703 - accuracy: 0.8260\n",
            "Epoch 21/100\n",
            "343/343 [==============================] - 6s 19ms/step - loss: 0.5646 - accuracy: 0.8286\n",
            "Epoch 22/100\n",
            "343/343 [==============================] - 6s 19ms/step - loss: 0.5570 - accuracy: 0.8301\n",
            "Epoch 23/100\n",
            "343/343 [==============================] - 6s 19ms/step - loss: 0.5555 - accuracy: 0.8307\n",
            "Epoch 24/100\n",
            "343/343 [==============================] - 6s 19ms/step - loss: 0.5544 - accuracy: 0.8306\n",
            "Epoch 25/100\n",
            "343/343 [==============================] - 6s 19ms/step - loss: 0.5408 - accuracy: 0.8350\n",
            "Epoch 26/100\n",
            "343/343 [==============================] - 6s 19ms/step - loss: 0.5405 - accuracy: 0.8349\n",
            "Epoch 27/100\n",
            "343/343 [==============================] - 6s 19ms/step - loss: 0.5402 - accuracy: 0.8347\n",
            "Epoch 28/100\n",
            "343/343 [==============================] - 6s 19ms/step - loss: 0.5329 - accuracy: 0.8371\n",
            "Epoch 29/100\n",
            "343/343 [==============================] - 6s 19ms/step - loss: 0.5275 - accuracy: 0.8386\n",
            "Epoch 30/100\n",
            "343/343 [==============================] - 6s 19ms/step - loss: 0.5261 - accuracy: 0.8394\n",
            "Epoch 31/100\n",
            "343/343 [==============================] - 6s 19ms/step - loss: 0.5199 - accuracy: 0.8413\n",
            "Epoch 32/100\n",
            "343/343 [==============================] - 6s 19ms/step - loss: 0.5167 - accuracy: 0.8419\n",
            "Epoch 33/100\n",
            "343/343 [==============================] - 6s 19ms/step - loss: 0.5143 - accuracy: 0.8425\n",
            "Epoch 34/100\n",
            "343/343 [==============================] - 6s 19ms/step - loss: 0.5083 - accuracy: 0.8445\n",
            "Epoch 35/100\n",
            "343/343 [==============================] - 6s 19ms/step - loss: 0.5053 - accuracy: 0.8450\n",
            "Epoch 36/100\n",
            "343/343 [==============================] - 6s 19ms/step - loss: 0.5031 - accuracy: 0.8455\n",
            "Epoch 37/100\n",
            "343/343 [==============================] - 6s 19ms/step - loss: 0.4995 - accuracy: 0.8470\n",
            "Epoch 38/100\n",
            "343/343 [==============================] - 6s 19ms/step - loss: 0.4983 - accuracy: 0.8471\n",
            "Epoch 39/100\n",
            "343/343 [==============================] - 6s 19ms/step - loss: 0.4960 - accuracy: 0.8473\n",
            "Epoch 40/100\n",
            "343/343 [==============================] - 6s 19ms/step - loss: 0.4895 - accuracy: 0.8500\n",
            "Epoch 41/100\n",
            "343/343 [==============================] - 6s 19ms/step - loss: 0.4873 - accuracy: 0.8506\n",
            "Epoch 42/100\n",
            "343/343 [==============================] - 6s 19ms/step - loss: 0.4841 - accuracy: 0.8512\n",
            "Epoch 43/100\n",
            "343/343 [==============================] - 6s 19ms/step - loss: 0.4795 - accuracy: 0.8528\n",
            "Epoch 44/100\n",
            "343/343 [==============================] - 6s 19ms/step - loss: 0.4784 - accuracy: 0.8532\n",
            "Epoch 45/100\n",
            "343/343 [==============================] - 6s 19ms/step - loss: 0.4732 - accuracy: 0.8545\n",
            "Epoch 46/100\n",
            "343/343 [==============================] - 6s 19ms/step - loss: 0.4706 - accuracy: 0.8557\n",
            "Epoch 47/100\n",
            "343/343 [==============================] - 6s 19ms/step - loss: 0.4716 - accuracy: 0.8555\n",
            "Epoch 48/100\n",
            "343/343 [==============================] - 6s 19ms/step - loss: 0.4663 - accuracy: 0.8570\n",
            "Epoch 49/100\n",
            "343/343 [==============================] - 7s 19ms/step - loss: 0.4622 - accuracy: 0.8581\n",
            "Epoch 50/100\n",
            "343/343 [==============================] - 6s 19ms/step - loss: 0.4589 - accuracy: 0.8591\n",
            "Epoch 51/100\n",
            "343/343 [==============================] - 6s 19ms/step - loss: 0.4592 - accuracy: 0.8587\n",
            "Epoch 52/100\n",
            "343/343 [==============================] - 6s 19ms/step - loss: 0.4546 - accuracy: 0.8602\n",
            "Epoch 53/100\n",
            "343/343 [==============================] - 7s 19ms/step - loss: 0.4533 - accuracy: 0.8608\n",
            "Epoch 54/100\n",
            "343/343 [==============================] - 6s 19ms/step - loss: 0.4525 - accuracy: 0.8609\n",
            "Epoch 55/100\n",
            "343/343 [==============================] - 6s 19ms/step - loss: 0.4493 - accuracy: 0.8620\n",
            "Epoch 56/100\n",
            "343/343 [==============================] - 6s 19ms/step - loss: 0.4484 - accuracy: 0.8621\n",
            "Epoch 57/100\n",
            "343/343 [==============================] - 6s 19ms/step - loss: 0.4433 - accuracy: 0.8634\n",
            "Epoch 58/100\n",
            "343/343 [==============================] - 7s 19ms/step - loss: 0.4409 - accuracy: 0.8640\n",
            "Epoch 59/100\n",
            "343/343 [==============================] - 6s 19ms/step - loss: 0.4389 - accuracy: 0.8649\n",
            "Epoch 60/100\n",
            "343/343 [==============================] - 6s 19ms/step - loss: 0.4359 - accuracy: 0.8654\n",
            "Epoch 61/100\n",
            "343/343 [==============================] - 6s 19ms/step - loss: 0.4348 - accuracy: 0.8663\n",
            "Epoch 62/100\n",
            "343/343 [==============================] - 6s 19ms/step - loss: 0.4332 - accuracy: 0.8668\n",
            "Epoch 63/100\n",
            "343/343 [==============================] - 7s 19ms/step - loss: 0.4344 - accuracy: 0.8664\n",
            "Epoch 64/100\n",
            "343/343 [==============================] - 7s 19ms/step - loss: 0.4300 - accuracy: 0.8676\n",
            "Epoch 65/100\n",
            "343/343 [==============================] - 7s 19ms/step - loss: 0.4271 - accuracy: 0.8690\n",
            "Epoch 66/100\n",
            "343/343 [==============================] - 6s 19ms/step - loss: 0.4272 - accuracy: 0.8685\n",
            "Epoch 67/100\n",
            "343/343 [==============================] - 6s 19ms/step - loss: 0.4244 - accuracy: 0.8695\n",
            "Epoch 68/100\n",
            "343/343 [==============================] - 7s 19ms/step - loss: 0.4213 - accuracy: 0.8701\n",
            "Epoch 69/100\n",
            "343/343 [==============================] - 7s 19ms/step - loss: 0.4213 - accuracy: 0.8704\n",
            "Epoch 70/100\n",
            "343/343 [==============================] - 7s 19ms/step - loss: 0.4211 - accuracy: 0.8701\n",
            "Epoch 71/100\n",
            "343/343 [==============================] - 6s 19ms/step - loss: 0.4194 - accuracy: 0.8706\n",
            "Epoch 72/100\n",
            "343/343 [==============================] - 6s 19ms/step - loss: 0.4158 - accuracy: 0.8719\n",
            "Epoch 73/100\n",
            "343/343 [==============================] - 6s 19ms/step - loss: 0.4178 - accuracy: 0.8711\n",
            "Epoch 74/100\n",
            "343/343 [==============================] - 6s 19ms/step - loss: 0.4128 - accuracy: 0.8725\n",
            "Epoch 75/100\n",
            "343/343 [==============================] - 6s 19ms/step - loss: 0.4111 - accuracy: 0.8733\n",
            "Epoch 76/100\n",
            "343/343 [==============================] - 6s 19ms/step - loss: 0.4089 - accuracy: 0.8739\n",
            "Epoch 77/100\n",
            "343/343 [==============================] - 7s 19ms/step - loss: 0.4107 - accuracy: 0.8734\n",
            "Epoch 78/100\n",
            "343/343 [==============================] - 7s 19ms/step - loss: 0.4093 - accuracy: 0.8736\n",
            "Epoch 79/100\n",
            "343/343 [==============================] - 6s 19ms/step - loss: 0.4064 - accuracy: 0.8745\n",
            "Epoch 80/100\n",
            "343/343 [==============================] - 7s 19ms/step - loss: 0.4072 - accuracy: 0.8741\n",
            "Epoch 81/100\n",
            "343/343 [==============================] - 6s 19ms/step - loss: 0.4048 - accuracy: 0.8750\n",
            "Epoch 82/100\n",
            "343/343 [==============================] - 6s 19ms/step - loss: 0.4032 - accuracy: 0.8756\n",
            "Epoch 83/100\n",
            "343/343 [==============================] - 7s 19ms/step - loss: 0.4034 - accuracy: 0.8751\n",
            "Epoch 84/100\n",
            "343/343 [==============================] - 7s 19ms/step - loss: 0.4020 - accuracy: 0.8759\n",
            "Epoch 85/100\n",
            "343/343 [==============================] - 6s 19ms/step - loss: 0.3997 - accuracy: 0.8764\n",
            "Epoch 86/100\n",
            "343/343 [==============================] - 7s 19ms/step - loss: 0.4009 - accuracy: 0.8760\n",
            "Epoch 87/100\n",
            "343/343 [==============================] - 7s 19ms/step - loss: 0.3982 - accuracy: 0.8770\n",
            "Epoch 88/100\n",
            "343/343 [==============================] - 7s 19ms/step - loss: 0.3939 - accuracy: 0.8781\n",
            "Epoch 89/100\n",
            "343/343 [==============================] - 6s 19ms/step - loss: 0.3949 - accuracy: 0.8778\n",
            "Epoch 90/100\n",
            "343/343 [==============================] - 6s 19ms/step - loss: 0.3951 - accuracy: 0.8778\n",
            "Epoch 91/100\n",
            "343/343 [==============================] - 6s 19ms/step - loss: 0.3941 - accuracy: 0.8778\n",
            "Epoch 92/100\n",
            "343/343 [==============================] - 7s 19ms/step - loss: 0.3918 - accuracy: 0.8787\n",
            "Epoch 93/100\n",
            "343/343 [==============================] - 7s 19ms/step - loss: 0.3913 - accuracy: 0.8792\n",
            "Epoch 94/100\n",
            "343/343 [==============================] - 6s 19ms/step - loss: 0.3907 - accuracy: 0.8786\n",
            "Epoch 95/100\n",
            "343/343 [==============================] - 6s 19ms/step - loss: 0.3908 - accuracy: 0.8788\n",
            "Epoch 96/100\n",
            "343/343 [==============================] - 7s 19ms/step - loss: 0.3879 - accuracy: 0.8800\n",
            "Epoch 97/100\n",
            "343/343 [==============================] - 7s 19ms/step - loss: 0.3920 - accuracy: 0.8788\n",
            "Epoch 98/100\n",
            "343/343 [==============================] - 7s 19ms/step - loss: 0.3871 - accuracy: 0.8800\n",
            "Epoch 99/100\n",
            "343/343 [==============================] - 6s 19ms/step - loss: 0.3873 - accuracy: 0.8801\n",
            "Epoch 100/100\n",
            "343/343 [==============================] - 7s 19ms/step - loss: 0.3873 - accuracy: 0.8800\n"
          ],
          "name": "stdout"
        },
        {
          "output_type": "execute_result",
          "data": {
            "text/plain": [
              "<tensorflow.python.keras.callbacks.History at 0x7fcb5fd5e0f0>"
            ]
          },
          "metadata": {
            "tags": []
          },
          "execution_count": 53
        }
      ]
    },
    {
      "cell_type": "code",
      "metadata": {
        "id": "vvjC-dv_X2uM"
      },
      "source": [
        "def seq2seq_inference(input_seq):\r\n",
        "    state = encoder_model(input_seq)\r\n",
        "\r\n",
        "    target_seq = np.array([[target_char2idx['<START>']]])\r\n",
        "\r\n",
        "    decoded_sentence = ''\r\n",
        "    while True:\r\n",
        "        output_tokens, state = decoder_model(target_seq, state)\r\n",
        "\r\n",
        "        sampled_token_index = np.argmax(output_tokens[0, -1, :])\r\n",
        "        sampled_char = target_idx2char[sampled_token_index]\r\n",
        "        decoded_sentence += sampled_char\r\n",
        "\r\n",
        "        if (sampled_char == '<END>' or\r\n",
        "           len(decoded_sentence) > max_dec_seq_length):\r\n",
        "            break\r\n",
        "\r\n",
        "        target_seq = np.array([[sampled_token_index]])\r\n",
        "\r\n",
        "    return decoded_sentence"
      ],
      "execution_count": 22,
      "outputs": []
    },
    {
      "cell_type": "code",
      "metadata": {
        "colab": {
          "base_uri": "https://localhost:8080/"
        },
        "id": "QDXeRTQ-X-Mg",
        "outputId": "c2b666df-d94d-4b42-9b74-ebc6ab87f96c"
      },
      "source": [
        "lst = np.random.randint(0, len(input_texts_data), 100)\r\n",
        "\r\n",
        "for seq_index in lst: #range(100, 200):\r\n",
        "    input_seq = encoder_input_seqs[seq_index: seq_index + 1]\r\n",
        "    decoded_sentence = seq2seq_inference(input_seq)\r\n",
        "    print('-')\r\n",
        "    print('Input sentence:', input_texts_data[seq_index])\r\n",
        "    print('Result sentence:', decoded_sentence)\r\n",
        "    print('Target sentence:', target_texts_data[seq_index])"
      ],
      "execution_count": 54,
      "outputs": [
        {
          "output_type": "stream",
          "text": [
            "-\n",
            "Input sentence: How about a roll in the hay?\n",
            "Result sentence: I don't know.                                                    \n",
            "Target sentence: You can play with yourself, 'cause I'm going in the house.\n",
            "-\n",
            "Input sentence: I'll be okay. Holy shit...\n",
            "Result sentence: What do you mean?<END>\n",
            "Target sentence: Don't get up. Take a second...\n",
            "-\n",
            "Input sentence: Let me guess, you're the goy who stole Hanukkah.\n",
            "Result sentence: I don't know.                                                    \n",
            "Target sentence: The Hebrew Hammer! You're alive.\n",
            "-\n",
            "Input sentence: Leave him alone, Ma--Al's just billy- goatin' around--\n",
            "Result sentence: Yes. Yes.<END>\n",
            "Target sentence: Sure! I was just aimin' to meet up with a couple girls I know.\n",
            "-\n",
            "Input sentence: That's the sort of thing you'll be seeking on this \"farm\"...\n",
            "Result sentence: Well, we still have to get the best of you for nothing.<END>\n",
            "Target sentence: Well, we shall try.\n",
            "-\n",
            "Input sentence: Miss Viridiana ...\n",
            "Result sentence: Hi.<END>\n",
            "Target sentence: Are you Jorge?\n",
            "-\n",
            "Input sentence: Yeah, well, thanks for sticking your head in.\n",
            "Result sentence: Yeah, I think he's right behind you.<END>\n",
            "Target sentence: Hey, business is business.\n",
            "-\n",
            "Input sentence: Beautiful day, isn't it?\n",
            "Result sentence: Yeah.                                                            \n",
            "Target sentence: Yes, yes, it is.\n",
            "-\n",
            "Input sentence: Maxie! Hey Maxie wha'd'ya say!\n",
            "Result sentence: What are you doing here?<END>\n",
            "Target sentence: Hey Geraldine, let's eat!\n",
            "-\n",
            "Input sentence: Because the facts could be misconstrued as murder.\n",
            "Result sentence: Well that's for sure.                                            \n",
            "Target sentence: But if truth was on your side, whatever were you worried about?\n",
            "-\n",
            "Input sentence: Stretch it out.\n",
            "Result sentence: What are you doing here?<END>\n",
            "Target sentence: Don't move me.\n",
            "-\n",
            "Input sentence: No no.  Don't cry at the beginning of the date.\n",
            "Result sentence: I'm sorry.                                                       \n",
            "Target sentence: Oh, knock it off! _ 89.\n",
            "-\n",
            "Input sentence: What do you make of it, Margo?\n",
            "Result sentence: I don't know.                                                    \n",
            "Target sentence: It's not mammalian, that's for sure. I think it's reptilian.\n",
            "-\n",
            "Input sentence: Stomach again.\n",
            "Result sentence: We all did.<END>\n",
            "Target sentence: No way!\n",
            "-\n",
            "Input sentence: Where..? Who . . .?  I'm alive. You brought me back.\n",
            "Result sentence: There's a lot of money.  I wasn't sure.<END>\n",
            "Target sentence: Obviously so.\n",
            "-\n",
            "Input sentence: Forget it!\n",
            "Result sentence: What are you doing here?<END>\n",
            "Target sentence: Calm down.  I found it!\n",
            "-\n",
            "Input sentence: And mean it...\n",
            "Result sentence: That's right.<END>\n",
            "Target sentence: Can we order first?\n",
            "-\n",
            "Input sentence: Good morning Jack.  I hope you haven't been waiting too long.\n",
            "Result sentence: What?<END>\n",
            "Target sentence: No problem.  In fact we had time to grab a bite to eat.\n",
            "-\n",
            "Input sentence: What're you trying to do?  Wake up the whole goddamn hotel?\n",
            "Result sentence: We were standing in a minute ...<END>\n",
            "Target sentence: We were just having a little discussion about morality.\n",
            "-\n",
            "Input sentence: I'm sure we could find a country and western station.\n",
            "Result sentence: And this is me like your head?<END>\n",
            "Target sentence: No, thank you.\n",
            "-\n",
            "Input sentence: Why?\n",
            "Result sentence: That's right.<END>\n",
            "Target sentence: Cause I don't just stick my dick in anything.\n",
            "-\n",
            "Input sentence: Guess who?\n",
            "Result sentence: I don't know.                                                    \n",
            "Target sentence: Heather.\n",
            "-\n",
            "Input sentence: Mn-hm.\n",
            "Result sentence: What?<END>\n",
            "Target sentence: \"Burger Manifesto, Part One\" is gonna make people think?\n",
            "-\n",
            "Input sentence: Mr. Walker's my buddy. Ask him about Ordell.\n",
            "Result sentence: That's right.<END>\n",
            "Target sentence: That coke was yours, wasn't it?\n",
            "-\n",
            "Input sentence: \"Dat's gotta hurt!\"\n",
            "Result sentence: What do you mean?<END>\n",
            "Target sentence: He didn't remember to roll up his window...\n",
            "-\n",
            "Input sentence: We got eggs, water balloons, and a dozen rolls of toilet paper.\n",
            "Result sentence: I saw a couple of hours.<END>\n",
            "Target sentence: I stole four beers from my dad.\n",
            "-\n",
            "Input sentence: Chris!\n",
            "Result sentence: What do you mean?<END>\n",
            "Target sentence: Knox!  what are you doing here?\n",
            "-\n",
            "Input sentence: \"Rosebud? I'll tell you about Rosebud.\"\n",
            "Result sentence: Yeah.                                                            \n",
            "Target sentence: Again\n",
            "-\n",
            "Input sentence: When...what did you do?\n",
            "Result sentence: I don't know.                                                    \n",
            "Target sentence: Oh, we didn't make much sense. Drank too much. Once he tried...\n",
            "-\n",
            "Input sentence: The motherfucker killed Vic.\n",
            "Result sentence: Good evening Mr. Concentration.<END>\n",
            "Target sentence: How do you know all this?\n",
            "-\n",
            "Input sentence: Ooww!\n",
            "Result sentence: What are you doing here?<END>\n",
            "Target sentence: Go on now. Do as I say.\n",
            "-\n",
            "Input sentence: You have to stop doing that!\n",
            "Result sentence: I don't know.                                                    \n",
            "Target sentence: I'll work on it...\n",
            "-\n",
            "Input sentence: I can't seem to let go of you...\n",
            "Result sentence: What do you mean?<END>\n",
            "Target sentence: You hear me complaining about that?\n",
            "-\n",
            "Input sentence: Where's the baby?!\n",
            "Result sentence: What do you mean?<END>\n",
            "Target sentence: He's gone.\n",
            "-\n",
            "Input sentence: It's obviously him!\n",
            "Result sentence: What are you doing here?<END>\n",
            "Target sentence: I can't believe it!\n",
            "-\n",
            "Input sentence: Move it baby, or they're gonna be chewin' on my cojones!\n",
            "Result sentence: That's okay.  I didn't.<END>\n",
            "Target sentence: Couple more seconds!\n",
            "-\n",
            "Input sentence: What's the matter?\n",
            "Result sentence: I don't know.                                                    \n",
            "Target sentence: Shit!\n",
            "-\n",
            "Input sentence: Meat.\n",
            "Result sentence: Hi.<END>\n",
            "Target sentence: Howdy, Mr. Grant. You goin' to the Deer Cheer this weekend?\n",
            "-\n",
            "Input sentence: Me? Why?\n",
            "Result sentence: What do you mean?<END>\n",
            "Target sentence: Bag-snatcher.\n",
            "-\n",
            "Input sentence: Longer.\n",
            "Result sentence: I don't know.<END>\n",
            "Target sentence: I haven't got any new stories for them this morning, either.\n",
            "-\n",
            "Input sentence: Why do my eyes hurt?\n",
            "Result sentence: Yeah.                                                            \n",
            "Target sentence: You've never used them before.\n",
            "-\n",
            "Input sentence: No.\n",
            "Result sentence: What do you mean?<END>\n",
            "Target sentence: Will, this is Sean Maguire. Sean, Will Hunting.\n",
            "-\n",
            "Input sentence: You didn't have to spend your money -- ?\n",
            "Result sentence: I was the protect it of the right.<END>\n",
            "Target sentence: He'll, what else can I do with it all?\n",
            "-\n",
            "Input sentence: What's going on Terrance?\n",
            "Result sentence: Not yet.<END>\n",
            "Target sentence: Canada is saving us!!\n",
            "-\n",
            "Input sentence: Pat does projects all over the world.\n",
            "Result sentence: Where is he?<END>\n",
            "Target sentence: Where would I have seen your work?\n",
            "-\n",
            "Input sentence: Stop it.\n",
            "Result sentence: I know.<END>\n",
            "Target sentence: Okay, \"mom.\"\n",
            "-\n",
            "Input sentence: What for?\n",
            "Result sentence: That's right.<END>\n",
            "Target sentence: Maybe I can get Thorwald out of the apartment.\n",
            "-\n",
            "Input sentence: Look Jeffrey.\n",
            "Result sentence: I don't know.                                                    \n",
            "Target sentence: Yeah. I just saw him outside. Maybe the robins are here.\n",
            "-\n",
            "Input sentence: Stop him, Alex. You've got to stop him.\n",
            "Result sentence: That's right.<END>\n",
            "Target sentence: Let him go. Let him take it all.\n",
            "-\n",
            "Input sentence: Why are we going here, Jimmy?\n",
            "Result sentence: I don't know.                                                    \n",
            "Target sentence: Look on it like a honeymoon.\n",
            "-\n",
            "Input sentence: You think you can learn, McCall?\n",
            "Result sentence: I don't know.                                                    \n",
            "Target sentence: I think so.\n",
            "-\n",
            "Input sentence: Good to see you, son.\n",
            "Result sentence: I know.<END>\n",
            "Target sentence: It's good to see you, Dad.\n",
            "-\n",
            "Input sentence: Are you out of your mind?  What on Earth'd make us-\n",
            "Result sentence: I love you.<END>\n",
            "Target sentence: I'll pay you 500 each in advance And I'll mount you on those.\n",
            "-\n",
            "Input sentence: They're right here.\n",
            "Result sentence: Then you shouldn't have to work here.<END>\n",
            "Target sentence: Oh.\n",
            "-\n",
            "Input sentence: Did you have to use that much explosive?\n",
            "Result sentence: I don't know.                                                    \n",
            "Target sentence: I promised Bonanno I'd destroy the tapes.\n",
            "-\n",
            "Input sentence: Something just must've...frightened her, that's all.\n",
            "Result sentence: Yeah, we'll say a moment.<END>\n",
            "Target sentence: Yeah...something.\n",
            "-\n",
            "Input sentence: How's the water?\n",
            "Result sentence: Yeah.<END>\n",
            "Target sentence: Refreshing.\n",
            "-\n",
            "Input sentence: Now what?\n",
            "Result sentence: That's right.<END>\n",
            "Target sentence: It's locked?\n",
            "-\n",
            "Input sentence: Donde esta? Estoy perdido--[Where are you? I'm lost--]\n",
            "Result sentence: Aqui! [Here!]<END>\n",
            "Target sentence: Aqui! [Here!]\n",
            "-\n",
            "Input sentence: You know it's not like that --\n",
            "Result sentence: You want to do is right here?<END>\n",
            "Target sentence: Do I?\n",
            "-\n",
            "Input sentence: You should always work with a spotter.\n",
            "Result sentence: Yeah, I just want to do.<END>\n",
            "Target sentence: He's busy right now.\n",
            "-\n",
            "Input sentence: Let it go, Captain.\n",
            "Result sentence: You want to know?<END>\n",
            "Target sentence: Goddamned small town bullshit.\n",
            "-\n",
            "Input sentence: Patrick -- is that- a.\n",
            "Result sentence: Just like it.<END>\n",
            "Target sentence: Perm?\n",
            "-\n",
            "Input sentence: I'm so glad you didn't jump on that train, before...\n",
            "Result sentence: I'm sorry.<END>\n",
            "Target sentence: I came here, looking for her.\n",
            "-\n",
            "Input sentence: It's gotta be right for my customer.\n",
            "Result sentence: Thank you.<END>\n",
            "Target sentence: Your customer, eh?\n",
            "-\n",
            "Input sentence: -Do you?\n",
            "Result sentence: Yes.<END>\n",
            "Target sentence: Well, no, Johnny, I just thought I should've been told if-\n",
            "-\n",
            "Input sentence: Some setup you got here.  A real, honest-to-goodness love nest.\n",
            "Result sentence: Sssssh.<END>\n",
            "Target sentence: Sssssh.\n",
            "-\n",
            "Input sentence: Did you break a cup, Jack?\n",
            "Result sentence: What?<END>\n",
            "Target sentence: Eddie did.\n",
            "-\n",
            "Input sentence: Have a nice trip.\n",
            "Result sentence: That's right.<END>\n",
            "Target sentence: Thanks. I will.\n",
            "-\n",
            "Input sentence: Paul! Where is he? Can you see him?\n",
            "Result sentence: I don't know.                                                    \n",
            "Target sentence: I'm trying! That thing took him down this way!\n",
            "-\n",
            "Input sentence: Are you alright?\n",
            "Result sentence: I don't know.                                                    \n",
            "Target sentence: Yes...I'm uh...I'm fine.\n",
            "-\n",
            "Input sentence: You... you... YOU --\n",
            "Result sentence: That's right.<END>\n",
            "Target sentence: We still gonna spend Christmas together?\n",
            "-\n",
            "Input sentence: Who is it?\n",
            "Result sentence: That's right.<END>\n",
            "Target sentence: Babe Brother.\n",
            "-\n",
            "Input sentence: Jamie!\n",
            "Result sentence: What is it?<END>\n",
            "Target sentence: Oh Rachel!\n",
            "-\n",
            "Input sentence: Louder, pal, louder.\n",
            "Result sentence: What do you mean?<END>\n",
            "Target sentence: Joyce, give the assistant Chief Inspector a drink, would you?\n",
            "-\n",
            "Input sentence: All of them!  Just lies!\n",
            "Result sentence: That's right.<END>\n",
            "Target sentence: Colon!  Don't!\n",
            "-\n",
            "Input sentence: Rise...and...shine...!\n",
            "Result sentence: I know.<END>\n",
            "Target sentence: You're jumping, sweetheart...\n",
            "-\n",
            "Input sentence: I guess you won't be coming home tonight.\n",
            "Result sentence: Yeah, I think he's right behind you.<END>\n",
            "Target sentence: I, uh...\n",
            "-\n",
            "Input sentence: Well, what else do we do?\n",
            "Result sentence: I was just married.<END>\n",
            "Target sentence: How about making friends?\n",
            "-\n",
            "Input sentence: No way. No thanks. I can't do it --\n",
            "Result sentence: -- You can do it --<END>\n",
            "Target sentence: -- You can and you will, Mr. Carter.\n",
            "-\n",
            "Input sentence: Are there medical facilities on Yavin?\n",
            "Result sentence: I know.<END>\n",
            "Target sentence: He'll be well cared for.\n",
            "-\n",
            "Input sentence: Mine!\n",
            "Result sentence: We didn't expect about it anywhere.                              \n",
            "Target sentence: You guys have been so colossal...\n",
            "-\n",
            "Input sentence: I'm thinking I might walk tonight, Frank.\n",
            "Result sentence: Did you see the cops six years on the stany?<END>\n",
            "Target sentence: Nice night for it.  I'll have Louis send your car home.\n",
            "-\n",
            "Input sentence: That's what he told you, huh?\n",
            "Result sentence: Yes.<END>\n",
            "Target sentence: No, he showed me one.\n",
            "-\n",
            "Input sentence: Is he okay?\n",
            "Result sentence: I don't know.                                                    \n",
            "Target sentence: Yes... That's the first thing Colleen asked too.\n",
            "-\n",
            "Input sentence: Nancy...\n",
            "Result sentence: I know.<END>\n",
            "Target sentence: I'll be okay.  Just give me a minute.\n",
            "-\n",
            "Input sentence: Howls and shrugs his shoulders.\n",
            "Result sentence: I don't know.                                                    \n",
            "Target sentence: Why don't we just turn him over to Lando to fix?\n",
            "-\n",
            "Input sentence: This place don't seem real popular with the brothers.\n",
            "Result sentence: And you like me? I don't know.<END>\n",
            "Target sentence: My kind of place. I always liked country boys.\n",
            "-\n",
            "Input sentence: See what you can do about this CITIZEN KANE picture, won't you?\n",
            "Result sentence: Yeah.                                                            \n",
            "Target sentence: Yeah\n",
            "-\n",
            "Input sentence: My mother would die.\n",
            "Result sentence: Yeah.<END>\n",
            "Target sentence: Let's shut up and not kill her.\n",
            "-\n",
            "Input sentence: What kind of light?\n",
            "Result sentence: What?<END>\n",
            "Target sentence: He's hallucinating badly.\n",
            "-\n",
            "Input sentence: Oh, fuck off. You should stay where you belong.\n",
            "Result sentence: How did you know I do that?<END>\n",
            "Target sentence: Get out. Get out of here, Goddammit.\n",
            "-\n",
            "Input sentence: Let's keep her.\n",
            "Result sentence: What do you mean?<END>\n",
            "Target sentence: Waste the dude.\n",
            "-\n",
            "Input sentence: Let's get the fuck out of here!\n",
            "Result sentence: I know.<END>\n",
            "Target sentence: Not that tunnel, the other one!\n",
            "-\n",
            "Input sentence: So... how did you find out I didn't do it?\n",
            "Result sentence: I don't know.                                                    \n",
            "Target sentence: I didn't.  I just realized I already knew.\n",
            "-\n",
            "Input sentence: Did your father teach you humility?\n",
            "Result sentence: I don't know.                                                    \n",
            "Target sentence: He tried.  It didn't take.\n",
            "-\n",
            "Input sentence: Who is this?\n",
            "Result sentence: That's right.<END>\n",
            "Target sentence: I'll give you one guess.\n",
            "-\n",
            "Input sentence: So you'll come out, right?\n",
            "Result sentence: I don't know.                                                    \n",
            "Target sentence: Yeah, okay.\n",
            "-\n",
            "Input sentence: Which cabin is Rennie in, Mr. McCulloch?\n",
            "Result sentence: What do you mean?<END>\n",
            "Target sentence: Rennie's not coming.\n",
            "-\n",
            "Input sentence: Right.\n",
            "Result sentence: That's right.<END>\n",
            "Target sentence: That's right.\n"
          ],
          "name": "stdout"
        }
      ]
    },
    {
      "cell_type": "markdown",
      "metadata": {
        "id": "LhSxL9vSP9-S"
      },
      "source": [
        "# Вспомогательные вычисления"
      ]
    },
    {
      "cell_type": "code",
      "metadata": {
        "colab": {
          "base_uri": "https://localhost:8080/",
          "height": 204
        },
        "id": "JY5hF1iypd-m",
        "outputId": "0a99fa67-e801-48ca-b8d2-c3d045a4134a"
      },
      "source": [
        "sum_lite=sum_char[sum_char['order']>2].sort_values('order',ascending=False)\r\n",
        "sum_lite.head()"
      ],
      "execution_count": null,
      "outputs": [
        {
          "output_type": "execute_result",
          "data": {
            "text/html": [
              "<div>\n",
              "<style scoped>\n",
              "    .dataframe tbody tr th:only-of-type {\n",
              "        vertical-align: middle;\n",
              "    }\n",
              "\n",
              "    .dataframe tbody tr th {\n",
              "        vertical-align: top;\n",
              "    }\n",
              "\n",
              "    .dataframe thead th {\n",
              "        text-align: right;\n",
              "    }\n",
              "</style>\n",
              "<table border=\"1\" class=\"dataframe\">\n",
              "  <thead>\n",
              "    <tr style=\"text-align: right;\">\n",
              "      <th></th>\n",
              "      <th>characterID_f</th>\n",
              "      <th>characterID_s</th>\n",
              "      <th>movieID</th>\n",
              "      <th>order</th>\n",
              "    </tr>\n",
              "  </thead>\n",
              "  <tbody>\n",
              "    <tr>\n",
              "      <th>609</th>\n",
              "      <td>u1469</td>\n",
              "      <td>u1475</td>\n",
              "      <td>166</td>\n",
              "      <td>166</td>\n",
              "    </tr>\n",
              "    <tr>\n",
              "      <th>5184</th>\n",
              "      <td>u5064</td>\n",
              "      <td>u5065</td>\n",
              "      <td>152</td>\n",
              "      <td>152</td>\n",
              "    </tr>\n",
              "    <tr>\n",
              "      <th>9377</th>\n",
              "      <td>u8408</td>\n",
              "      <td>u8409</td>\n",
              "      <td>113</td>\n",
              "      <td>113</td>\n",
              "    </tr>\n",
              "    <tr>\n",
              "      <th>2219</th>\n",
              "      <td>u2735</td>\n",
              "      <td>u2738</td>\n",
              "      <td>111</td>\n",
              "      <td>111</td>\n",
              "    </tr>\n",
              "    <tr>\n",
              "      <th>4357</th>\n",
              "      <td>u4404</td>\n",
              "      <td>u4405</td>\n",
              "      <td>109</td>\n",
              "      <td>109</td>\n",
              "    </tr>\n",
              "  </tbody>\n",
              "</table>\n",
              "</div>"
            ],
            "text/plain": [
              "     characterID_f characterID_s  movieID  order\n",
              "609          u1469         u1475      166    166\n",
              "5184         u5064         u5065      152    152\n",
              "9377         u8408         u8409      113    113\n",
              "2219         u2735         u2738      111    111\n",
              "4357         u4404         u4405      109    109"
            ]
          },
          "metadata": {
            "tags": []
          },
          "execution_count": 12
        }
      ]
    },
    {
      "cell_type": "code",
      "metadata": {
        "colab": {
          "base_uri": "https://localhost:8080/",
          "height": 282
        },
        "id": "7_oSW2rkuL1-",
        "outputId": "5c6171db-a1c2-458c-a04b-95e784e72d18"
      },
      "source": [
        "sum_lite.order.agg(np.log10).hist()"
      ],
      "execution_count": null,
      "outputs": [
        {
          "output_type": "execute_result",
          "data": {
            "text/plain": [
              "<matplotlib.axes._subplots.AxesSubplot at 0x7f630422c080>"
            ]
          },
          "metadata": {
            "tags": []
          },
          "execution_count": 14
        },
        {
          "output_type": "display_data",
          "data": {
            "image/png": "[encoded data removed]",
            "text/plain": [
              "<Figure size 432x288 with 1 Axes>"
            ]
          },
          "metadata": {
            "tags": [],
            "needs_background": "light"
          }
        }
      ]
    },
    {
      "cell_type": "code",
      "metadata": {
        "id": "KMzpYqsTEYzR"
      },
      "source": [
        "rel=sum_lite['characterID_f'].values+','+sum_lite['characterID_s'].values\r\n",
        "rel_list=[]\r\n",
        "for i in range(len(rel)):\r\n",
        "  rel_list.append(rel[i].split(',')) \r\n",
        "for i  in range(len(rel_list)-1):\r\n",
        "  for m in range(i,len(rel_list)):\r\n",
        "    if (rel_list[i][1]==rel_list[m][0]):\r\n",
        "      print(rel_list[i],rel_list[m])"
      ],
      "execution_count": null,
      "outputs": []
    },
    {
      "cell_type": "code",
      "metadata": {
        "id": "Pt3fzbdjYcr_"
      },
      "source": [
        "data_fpath = '/content/movie_titles_metadata_utf.txt'\r\n",
        "max_sentences = 10000\r\n",
        "\r\n",
        "LmovieID=[]\r\n",
        "Lmovie_title=[]\r\n",
        "Lmovie_year=[]\r\n",
        "LIMDB_rating=[]\r\n",
        "Lno_IMDB_votes=[]\r\n",
        "Lgenres=[]\r\n",
        "\r\n",
        "#lines = codecs.open(data_fpath, 'r', encoding='ANSI').readlines()#[:max_sentences]\r\n",
        "lines = codecs.open(data_fpath, 'r').readlines()#[:max_sentences]\r\n",
        "for line in lines:\r\n",
        "    movieID, movie_title, movie_year, IMDB_rating,no_IMDB_votes,genres,= line.split(' +++$+++ ')#[:2]\r\n",
        "    LmovieID.append(movieID)\r\n",
        "    Lmovie_title.append(movie_title)\r\n",
        "    Lmovie_year.append(movie_year)\r\n",
        "    LIMDB_rating.append(IMDB_rating)\r\n",
        "    Lno_IMDB_votes.append(no_IMDB_votes)\r\n",
        "    ge= re.sub(\"']\\n\",'',genres)\r\n",
        "    ge= re.sub(\"\\['\",'',ge)\r\n",
        "    ge= re.sub(\"'\",'',ge)\r\n",
        "    ge=re.split(',',ge)   \r\n",
        "    Lgenres.append(ge)         "
      ],
      "execution_count": null,
      "outputs": []
    },
    {
      "cell_type": "code",
      "metadata": {
        "id": "RWGE2VFN_2Nr",
        "colab": {
          "base_uri": "https://localhost:8080/"
        },
        "outputId": "9d676774-c27d-45b5-dae4-254662730463"
      },
      "source": [
        "np_movie_titles_metadata=np.asarray((LmovieID, Lmovie_title,Lmovie_year,LIMDB_rating,Lno_IMDB_votes,Lgenres)).T\r\n"
      ],
      "execution_count": null,
      "outputs": [
        {
          "output_type": "stream",
          "text": [
            "/usr/local/lib/python3.6/dist-packages/numpy/core/_asarray.py:83: VisibleDeprecationWarning: Creating an ndarray from ragged nested sequences (which is a list-or-tuple of lists-or-tuples-or ndarrays with different lengths or shapes) is deprecated. If you meant to do this, you must specify 'dtype=object' when creating the ndarray\n",
            "  return array(a, dtype, copy=False, order=order)\n"
          ],
          "name": "stderr"
        },
        {
          "output_type": "execute_result",
          "data": {
            "text/plain": [
              "array(['m9', 'the atomic submarine', '1959', '4.90', '513',\n",
              "       list(['sci-fi', ' thriller'])], dtype=object)"
            ]
          },
          "metadata": {
            "tags": []
          },
          "execution_count": 92
        }
      ]
    },
    {
      "cell_type": "code",
      "metadata": {
        "colab": {
          "base_uri": "https://localhost:8080/",
          "height": 336
        },
        "id": "En8itRhaD4Nf",
        "outputId": "7b631129-bfd7-4651-8045-8610227f92e2"
      },
      "source": [
        "df_movie_titles_metadata.head()"
      ],
      "execution_count": null,
      "outputs": [
        {
          "output_type": "execute_result",
          "data": {
            "text/html": [
              "<div>\n",
              "<style scoped>\n",
              "    .dataframe tbody tr th:only-of-type {\n",
              "        vertical-align: middle;\n",
              "    }\n",
              "\n",
              "    .dataframe tbody tr th {\n",
              "        vertical-align: top;\n",
              "    }\n",
              "\n",
              "    .dataframe thead th {\n",
              "        text-align: right;\n",
              "    }\n",
              "</style>\n",
              "<table border=\"1\" class=\"dataframe\">\n",
              "  <thead>\n",
              "    <tr style=\"text-align: right;\">\n",
              "      <th></th>\n",
              "      <th>movieID</th>\n",
              "      <th>movie_title</th>\n",
              "      <th>movie_year</th>\n",
              "      <th>IMDB_rating</th>\n",
              "      <th>no. IMDB_votes</th>\n",
              "      <th>genres</th>\n",
              "    </tr>\n",
              "  </thead>\n",
              "  <tbody>\n",
              "    <tr>\n",
              "      <th>0</th>\n",
              "      <td>m0</td>\n",
              "      <td>10 things i hate about you</td>\n",
              "      <td>1999</td>\n",
              "      <td>6.90</td>\n",
              "      <td>62847</td>\n",
              "      <td>[comedy,  romance]</td>\n",
              "    </tr>\n",
              "    <tr>\n",
              "      <th>1</th>\n",
              "      <td>m1</td>\n",
              "      <td>1492: conquest of paradise</td>\n",
              "      <td>1992</td>\n",
              "      <td>6.20</td>\n",
              "      <td>10421</td>\n",
              "      <td>[adventure,  biography,  drama,  history]</td>\n",
              "    </tr>\n",
              "    <tr>\n",
              "      <th>2</th>\n",
              "      <td>m2</td>\n",
              "      <td>15 minutes</td>\n",
              "      <td>2001</td>\n",
              "      <td>6.10</td>\n",
              "      <td>25854</td>\n",
              "      <td>[action,  crime,  drama,  thriller]</td>\n",
              "    </tr>\n",
              "    <tr>\n",
              "      <th>3</th>\n",
              "      <td>m3</td>\n",
              "      <td>2001: a space odyssey</td>\n",
              "      <td>1968</td>\n",
              "      <td>8.40</td>\n",
              "      <td>163227</td>\n",
              "      <td>[adventure,  mystery,  sci-fi]</td>\n",
              "    </tr>\n",
              "    <tr>\n",
              "      <th>4</th>\n",
              "      <td>m4</td>\n",
              "      <td>48 hrs.</td>\n",
              "      <td>1982</td>\n",
              "      <td>6.90</td>\n",
              "      <td>22289</td>\n",
              "      <td>[action,  comedy,  crime,  drama,  thriller]</td>\n",
              "    </tr>\n",
              "  </tbody>\n",
              "</table>\n",
              "</div>"
            ],
            "text/plain": [
              "  movieID  ...                                        genres\n",
              "0      m0  ...                            [comedy,  romance]\n",
              "1      m1  ...     [adventure,  biography,  drama,  history]\n",
              "2      m2  ...           [action,  crime,  drama,  thriller]\n",
              "3      m3  ...                [adventure,  mystery,  sci-fi]\n",
              "4      m4  ...  [action,  comedy,  crime,  drama,  thriller]\n",
              "\n",
              "[5 rows x 6 columns]"
            ]
          },
          "metadata": {
            "tags": []
          },
          "execution_count": 94
        }
      ]
    },
    {
      "cell_type": "code",
      "metadata": {
        "id": "_mcR-wccBdhy"
      },
      "source": [
        "Lposition"
      ],
      "execution_count": null,
      "outputs": []
    },
    {
      "cell_type": "markdown",
      "metadata": {
        "id": "ZpFqVPiDCKez"
      },
      "source": [
        "https://habr.com/ru/post/317732/\r\n",
        "\r\n",
        "https://habr.com/ru/company/meanotek/blog/256987/"
      ]
    },
    {
      "cell_type": "code",
      "metadata": {
        "id": "1b08xqXqJXhS"
      },
      "source": [
        "np_movie_titles_metadata=np.asarray((LmovieID, Lmovie_title,Lmovie_year,LIMDB_rating,Lno_IMDB_votes,Lgenres)).T"
      ],
      "execution_count": null,
      "outputs": []
    },
    {
      "cell_type": "code",
      "metadata": {
        "id": "kO8cVQikDL4H"
      },
      "source": [
        "df_movie_titles_metadata=pd.DataFrame(data=np_movie_titles_metadata,\r\n",
        "          index=np.array(range(len(np_movie_titles_metadata))),\r\n",
        "          columns=['movieID', 'movie_title','movie_year', 'IMDB_rating','no. IMDB_votes','genres'] )"
      ],
      "execution_count": null,
      "outputs": []
    },
    {
      "cell_type": "code",
      "metadata": {
        "id": "S-GnOO4dLaia"
      },
      "source": [
        "df_movie_characters_metadata=pd.read_table('/content/movie_characters_metadata.txt',sep=' +++$+++ ')"
      ],
      "execution_count": null,
      "outputs": []
    },
    {
      "cell_type": "code",
      "metadata": {
        "id": "M5RBak6dEkws"
      },
      "source": [
        "['characterID','character name','movieID','movie title','gender','position']"
      ],
      "execution_count": null,
      "outputs": []
    },
    {
      "cell_type": "code",
      "metadata": {
        "id": "QdeWqdeyQmO_"
      },
      "source": [
        "\t\t['movieID', 'movie_title','movie_year', 'IMDB_rating','no. IMDB_votes','genres'] "
      ],
      "execution_count": null,
      "outputs": []
    },
    {
      "cell_type": "code",
      "metadata": {
        "id": "L46kLCWkEJzj"
      },
      "source": [
        "data_fpath = '/content/movie_characters_metadata_utf2.txt'\r\n",
        "max_sentences = 10000\r\n",
        "\r\n",
        "LcharacterID=[]\r\n",
        "Lcharacter_name=[]\r\n",
        "LmovieID=[]\r\n",
        "Lmovie_title=[]\r\n",
        "Lgender=[]\r\n",
        "Lposition=[]\r\n",
        "#lines = codecs.open(data_fpath, 'r', encoding='ANSI').readlines()#[:max_sentences]\r\n",
        "i=0\r\n",
        "f = open(data_fpath)\r\n",
        "for line in f:\r\n",
        "    characterID,character_name,movieID,movie_title,gender,position= line.split(' +++$+++ ')\r\n",
        "    LcharacterID.append(characterID)\r\n",
        "    Lcharacter_name.append(character_name)\r\n",
        "    LmovieID.append(movieID)\r\n",
        "    Lmovie_title.append(movie_title)\r\n",
        "    Lgender.append(gender)\r\n",
        "    pos= re.sub(\"\\n\",'',position)\r\n",
        "    Lposition.append(pos)"
      ],
      "execution_count": null,
      "outputs": []
    },
    {
      "cell_type": "code",
      "metadata": {
        "id": "VeAx5A7wx11O"
      },
      "source": [
        "for i  in range(len(rel_list)-1):\r\n",
        "  for m in range(i,len(rel_list)):\r\n",
        "    if (rel_list[i][1]==rel_list[m][0]) and (rel_list[i][0]==rel_list[m][1]):\r\n",
        "      print(rel_list[i],rel_list[m])"
      ],
      "execution_count": null,
      "outputs": []
    },
    {
      "cell_type": "code",
      "metadata": {
        "colab": {
          "base_uri": "https://localhost:8080/"
        },
        "id": "rNHkDEqy-3wD",
        "outputId": "d586d69f-a260-476d-89e0-732ac82f81cc"
      },
      "source": [
        "sum_char['rel'].values"
      ],
      "execution_count": null,
      "outputs": [
        {
          "output_type": "execute_result",
          "data": {
            "text/plain": [
              "array(['u0,u11', 'u0,u2', 'u0,u3', ..., 'u998,u1004', 'u998,u1005',\n",
              "       'u999,u1006'], dtype=object)"
            ]
          },
          "metadata": {
            "tags": []
          },
          "execution_count": 94
        }
      ]
    },
    {
      "cell_type": "code",
      "metadata": {
        "id": "jwC1fm0otxAs"
      },
      "source": [
        "sum_char_h=df_movie_conversations.groupby(['characterID_f']).count().reset_index() "
      ],
      "execution_count": null,
      "outputs": []
    },
    {
      "cell_type": "code",
      "metadata": {
        "colab": {
          "base_uri": "https://localhost:8080/"
        },
        "id": "HfA4wFbNuH5Z",
        "outputId": "2bd91b30-40b5-4ce0-c82d-6d13f0ba0c49"
      },
      "source": [
        "sum_char_h.info()"
      ],
      "execution_count": null,
      "outputs": [
        {
          "output_type": "stream",
          "text": [
            "<class 'pandas.core.frame.DataFrame'>\n",
            "RangeIndex: 5420 entries, 0 to 5419\n",
            "Data columns (total 4 columns):\n",
            " #   Column         Non-Null Count  Dtype \n",
            "---  ------         --------------  ----- \n",
            " 0   characterID_f  5420 non-null   object\n",
            " 1   characterID_s  5420 non-null   int64 \n",
            " 2   movieID        5420 non-null   int64 \n",
            " 3   order          5420 non-null   int64 \n",
            "dtypes: int64(3), object(1)\n",
            "memory usage: 169.5+ KB\n"
          ],
          "name": "stdout"
        }
      ]
    },
    {
      "cell_type": "code",
      "metadata": {
        "id": "dTAkkRLuvvwn"
      },
      "source": [
        "sum_char_w=df_movie_conversations.groupby(['characterID_f','characterID_s']).order.count()"
      ],
      "execution_count": null,
      "outputs": []
    },
    {
      "cell_type": "code",
      "metadata": {
        "id": "vAvzovG1ykwp"
      },
      "source": [
        "matrix=sum_char_w.unstack().reset_index()"
      ],
      "execution_count": null,
      "outputs": []
    },
    {
      "cell_type": "code",
      "metadata": {
        "colab": {
          "base_uri": "https://localhost:8080/",
          "height": 249
        },
        "id": "uGQ1IQm2y9HK",
        "outputId": "49282e61-f79d-462f-b12e-59c606defd87"
      },
      "source": [
        "matrix.head()"
      ],
      "execution_count": null,
      "outputs": [
        {
          "output_type": "execute_result",
          "data": {
            "text/html": [
              "<div>\n",
              "<style scoped>\n",
              "    .dataframe tbody tr th:only-of-type {\n",
              "        vertical-align: middle;\n",
              "    }\n",
              "\n",
              "    .dataframe tbody tr th {\n",
              "        vertical-align: top;\n",
              "    }\n",
              "\n",
              "    .dataframe thead th {\n",
              "        text-align: right;\n",
              "    }\n",
              "</style>\n",
              "<table border=\"1\" class=\"dataframe\">\n",
              "  <thead>\n",
              "    <tr style=\"text-align: right;\">\n",
              "      <th>characterID_s</th>\n",
              "      <th>characterID_f</th>\n",
              "      <th>u1001</th>\n",
              "      <th>u1003</th>\n",
              "      <th>u1004</th>\n",
              "      <th>u1005</th>\n",
              "      <th>u1006</th>\n",
              "      <th>u1010</th>\n",
              "      <th>u1011</th>\n",
              "      <th>u1014</th>\n",
              "      <th>u1017</th>\n",
              "      <th>u1018</th>\n",
              "      <th>u1019</th>\n",
              "      <th>u1020</th>\n",
              "      <th>u1021</th>\n",
              "      <th>u1022</th>\n",
              "      <th>u1023</th>\n",
              "      <th>u1025</th>\n",
              "      <th>u1026</th>\n",
              "      <th>u1029</th>\n",
              "      <th>u1031</th>\n",
              "      <th>u1032</th>\n",
              "      <th>u1033</th>\n",
              "      <th>u1034</th>\n",
              "      <th>u1035</th>\n",
              "      <th>u1040</th>\n",
              "      <th>u1041</th>\n",
              "      <th>u1042</th>\n",
              "      <th>u1043</th>\n",
              "      <th>u1045</th>\n",
              "      <th>u1046</th>\n",
              "      <th>u1047</th>\n",
              "      <th>u1048</th>\n",
              "      <th>u1049</th>\n",
              "      <th>u105</th>\n",
              "      <th>u1054</th>\n",
              "      <th>u1060</th>\n",
              "      <th>u1061</th>\n",
              "      <th>u1063</th>\n",
              "      <th>u1064</th>\n",
              "      <th>u1065</th>\n",
              "      <th>...</th>\n",
              "      <th>u939</th>\n",
              "      <th>u940</th>\n",
              "      <th>u941</th>\n",
              "      <th>u944</th>\n",
              "      <th>u955</th>\n",
              "      <th>u956</th>\n",
              "      <th>u957</th>\n",
              "      <th>u958</th>\n",
              "      <th>u959</th>\n",
              "      <th>u96</th>\n",
              "      <th>u961</th>\n",
              "      <th>u962</th>\n",
              "      <th>u963</th>\n",
              "      <th>u964</th>\n",
              "      <th>u966</th>\n",
              "      <th>u967</th>\n",
              "      <th>u968</th>\n",
              "      <th>u969</th>\n",
              "      <th>u97</th>\n",
              "      <th>u970</th>\n",
              "      <th>u973</th>\n",
              "      <th>u974</th>\n",
              "      <th>u977</th>\n",
              "      <th>u979</th>\n",
              "      <th>u98</th>\n",
              "      <th>u980</th>\n",
              "      <th>u981</th>\n",
              "      <th>u982</th>\n",
              "      <th>u985</th>\n",
              "      <th>u986</th>\n",
              "      <th>u987</th>\n",
              "      <th>u988</th>\n",
              "      <th>u989</th>\n",
              "      <th>u99</th>\n",
              "      <th>u990</th>\n",
              "      <th>u991</th>\n",
              "      <th>u993</th>\n",
              "      <th>u994</th>\n",
              "      <th>u997</th>\n",
              "      <th>u998</th>\n",
              "    </tr>\n",
              "  </thead>\n",
              "  <tbody>\n",
              "    <tr>\n",
              "      <th>0</th>\n",
              "      <td>u0</td>\n",
              "      <td>NaN</td>\n",
              "      <td>NaN</td>\n",
              "      <td>NaN</td>\n",
              "      <td>NaN</td>\n",
              "      <td>NaN</td>\n",
              "      <td>NaN</td>\n",
              "      <td>NaN</td>\n",
              "      <td>NaN</td>\n",
              "      <td>NaN</td>\n",
              "      <td>NaN</td>\n",
              "      <td>NaN</td>\n",
              "      <td>NaN</td>\n",
              "      <td>NaN</td>\n",
              "      <td>NaN</td>\n",
              "      <td>NaN</td>\n",
              "      <td>NaN</td>\n",
              "      <td>NaN</td>\n",
              "      <td>NaN</td>\n",
              "      <td>NaN</td>\n",
              "      <td>NaN</td>\n",
              "      <td>NaN</td>\n",
              "      <td>NaN</td>\n",
              "      <td>NaN</td>\n",
              "      <td>NaN</td>\n",
              "      <td>NaN</td>\n",
              "      <td>NaN</td>\n",
              "      <td>NaN</td>\n",
              "      <td>NaN</td>\n",
              "      <td>NaN</td>\n",
              "      <td>NaN</td>\n",
              "      <td>NaN</td>\n",
              "      <td>NaN</td>\n",
              "      <td>NaN</td>\n",
              "      <td>NaN</td>\n",
              "      <td>NaN</td>\n",
              "      <td>NaN</td>\n",
              "      <td>NaN</td>\n",
              "      <td>NaN</td>\n",
              "      <td>NaN</td>\n",
              "      <td>...</td>\n",
              "      <td>NaN</td>\n",
              "      <td>NaN</td>\n",
              "      <td>NaN</td>\n",
              "      <td>NaN</td>\n",
              "      <td>NaN</td>\n",
              "      <td>NaN</td>\n",
              "      <td>NaN</td>\n",
              "      <td>NaN</td>\n",
              "      <td>NaN</td>\n",
              "      <td>NaN</td>\n",
              "      <td>NaN</td>\n",
              "      <td>NaN</td>\n",
              "      <td>NaN</td>\n",
              "      <td>NaN</td>\n",
              "      <td>NaN</td>\n",
              "      <td>NaN</td>\n",
              "      <td>NaN</td>\n",
              "      <td>NaN</td>\n",
              "      <td>NaN</td>\n",
              "      <td>NaN</td>\n",
              "      <td>NaN</td>\n",
              "      <td>NaN</td>\n",
              "      <td>NaN</td>\n",
              "      <td>NaN</td>\n",
              "      <td>NaN</td>\n",
              "      <td>NaN</td>\n",
              "      <td>NaN</td>\n",
              "      <td>NaN</td>\n",
              "      <td>NaN</td>\n",
              "      <td>NaN</td>\n",
              "      <td>NaN</td>\n",
              "      <td>NaN</td>\n",
              "      <td>NaN</td>\n",
              "      <td>NaN</td>\n",
              "      <td>NaN</td>\n",
              "      <td>NaN</td>\n",
              "      <td>NaN</td>\n",
              "      <td>NaN</td>\n",
              "      <td>NaN</td>\n",
              "      <td>NaN</td>\n",
              "    </tr>\n",
              "    <tr>\n",
              "      <th>1</th>\n",
              "      <td>u1</td>\n",
              "      <td>NaN</td>\n",
              "      <td>NaN</td>\n",
              "      <td>NaN</td>\n",
              "      <td>NaN</td>\n",
              "      <td>NaN</td>\n",
              "      <td>NaN</td>\n",
              "      <td>NaN</td>\n",
              "      <td>NaN</td>\n",
              "      <td>NaN</td>\n",
              "      <td>NaN</td>\n",
              "      <td>NaN</td>\n",
              "      <td>NaN</td>\n",
              "      <td>NaN</td>\n",
              "      <td>NaN</td>\n",
              "      <td>NaN</td>\n",
              "      <td>NaN</td>\n",
              "      <td>NaN</td>\n",
              "      <td>NaN</td>\n",
              "      <td>NaN</td>\n",
              "      <td>NaN</td>\n",
              "      <td>NaN</td>\n",
              "      <td>NaN</td>\n",
              "      <td>NaN</td>\n",
              "      <td>NaN</td>\n",
              "      <td>NaN</td>\n",
              "      <td>NaN</td>\n",
              "      <td>NaN</td>\n",
              "      <td>NaN</td>\n",
              "      <td>NaN</td>\n",
              "      <td>NaN</td>\n",
              "      <td>NaN</td>\n",
              "      <td>NaN</td>\n",
              "      <td>NaN</td>\n",
              "      <td>NaN</td>\n",
              "      <td>NaN</td>\n",
              "      <td>NaN</td>\n",
              "      <td>NaN</td>\n",
              "      <td>NaN</td>\n",
              "      <td>NaN</td>\n",
              "      <td>...</td>\n",
              "      <td>NaN</td>\n",
              "      <td>NaN</td>\n",
              "      <td>NaN</td>\n",
              "      <td>NaN</td>\n",
              "      <td>NaN</td>\n",
              "      <td>NaN</td>\n",
              "      <td>NaN</td>\n",
              "      <td>NaN</td>\n",
              "      <td>NaN</td>\n",
              "      <td>NaN</td>\n",
              "      <td>NaN</td>\n",
              "      <td>NaN</td>\n",
              "      <td>NaN</td>\n",
              "      <td>NaN</td>\n",
              "      <td>NaN</td>\n",
              "      <td>NaN</td>\n",
              "      <td>NaN</td>\n",
              "      <td>NaN</td>\n",
              "      <td>NaN</td>\n",
              "      <td>NaN</td>\n",
              "      <td>NaN</td>\n",
              "      <td>NaN</td>\n",
              "      <td>NaN</td>\n",
              "      <td>NaN</td>\n",
              "      <td>NaN</td>\n",
              "      <td>NaN</td>\n",
              "      <td>NaN</td>\n",
              "      <td>NaN</td>\n",
              "      <td>NaN</td>\n",
              "      <td>NaN</td>\n",
              "      <td>NaN</td>\n",
              "      <td>NaN</td>\n",
              "      <td>NaN</td>\n",
              "      <td>NaN</td>\n",
              "      <td>NaN</td>\n",
              "      <td>NaN</td>\n",
              "      <td>NaN</td>\n",
              "      <td>NaN</td>\n",
              "      <td>NaN</td>\n",
              "      <td>NaN</td>\n",
              "    </tr>\n",
              "    <tr>\n",
              "      <th>2</th>\n",
              "      <td>u10</td>\n",
              "      <td>NaN</td>\n",
              "      <td>NaN</td>\n",
              "      <td>NaN</td>\n",
              "      <td>NaN</td>\n",
              "      <td>NaN</td>\n",
              "      <td>NaN</td>\n",
              "      <td>NaN</td>\n",
              "      <td>NaN</td>\n",
              "      <td>NaN</td>\n",
              "      <td>NaN</td>\n",
              "      <td>NaN</td>\n",
              "      <td>NaN</td>\n",
              "      <td>NaN</td>\n",
              "      <td>NaN</td>\n",
              "      <td>NaN</td>\n",
              "      <td>NaN</td>\n",
              "      <td>NaN</td>\n",
              "      <td>NaN</td>\n",
              "      <td>NaN</td>\n",
              "      <td>NaN</td>\n",
              "      <td>NaN</td>\n",
              "      <td>NaN</td>\n",
              "      <td>NaN</td>\n",
              "      <td>NaN</td>\n",
              "      <td>NaN</td>\n",
              "      <td>NaN</td>\n",
              "      <td>NaN</td>\n",
              "      <td>NaN</td>\n",
              "      <td>NaN</td>\n",
              "      <td>NaN</td>\n",
              "      <td>NaN</td>\n",
              "      <td>NaN</td>\n",
              "      <td>NaN</td>\n",
              "      <td>NaN</td>\n",
              "      <td>NaN</td>\n",
              "      <td>NaN</td>\n",
              "      <td>NaN</td>\n",
              "      <td>NaN</td>\n",
              "      <td>NaN</td>\n",
              "      <td>...</td>\n",
              "      <td>NaN</td>\n",
              "      <td>NaN</td>\n",
              "      <td>NaN</td>\n",
              "      <td>NaN</td>\n",
              "      <td>NaN</td>\n",
              "      <td>NaN</td>\n",
              "      <td>NaN</td>\n",
              "      <td>NaN</td>\n",
              "      <td>NaN</td>\n",
              "      <td>NaN</td>\n",
              "      <td>NaN</td>\n",
              "      <td>NaN</td>\n",
              "      <td>NaN</td>\n",
              "      <td>NaN</td>\n",
              "      <td>NaN</td>\n",
              "      <td>NaN</td>\n",
              "      <td>NaN</td>\n",
              "      <td>NaN</td>\n",
              "      <td>NaN</td>\n",
              "      <td>NaN</td>\n",
              "      <td>NaN</td>\n",
              "      <td>NaN</td>\n",
              "      <td>NaN</td>\n",
              "      <td>NaN</td>\n",
              "      <td>NaN</td>\n",
              "      <td>NaN</td>\n",
              "      <td>NaN</td>\n",
              "      <td>NaN</td>\n",
              "      <td>NaN</td>\n",
              "      <td>NaN</td>\n",
              "      <td>NaN</td>\n",
              "      <td>NaN</td>\n",
              "      <td>NaN</td>\n",
              "      <td>NaN</td>\n",
              "      <td>NaN</td>\n",
              "      <td>NaN</td>\n",
              "      <td>NaN</td>\n",
              "      <td>NaN</td>\n",
              "      <td>NaN</td>\n",
              "      <td>NaN</td>\n",
              "    </tr>\n",
              "    <tr>\n",
              "      <th>3</th>\n",
              "      <td>u100</td>\n",
              "      <td>NaN</td>\n",
              "      <td>NaN</td>\n",
              "      <td>NaN</td>\n",
              "      <td>NaN</td>\n",
              "      <td>NaN</td>\n",
              "      <td>NaN</td>\n",
              "      <td>NaN</td>\n",
              "      <td>NaN</td>\n",
              "      <td>NaN</td>\n",
              "      <td>NaN</td>\n",
              "      <td>NaN</td>\n",
              "      <td>NaN</td>\n",
              "      <td>NaN</td>\n",
              "      <td>NaN</td>\n",
              "      <td>NaN</td>\n",
              "      <td>NaN</td>\n",
              "      <td>NaN</td>\n",
              "      <td>NaN</td>\n",
              "      <td>NaN</td>\n",
              "      <td>NaN</td>\n",
              "      <td>NaN</td>\n",
              "      <td>NaN</td>\n",
              "      <td>NaN</td>\n",
              "      <td>NaN</td>\n",
              "      <td>NaN</td>\n",
              "      <td>NaN</td>\n",
              "      <td>NaN</td>\n",
              "      <td>NaN</td>\n",
              "      <td>NaN</td>\n",
              "      <td>NaN</td>\n",
              "      <td>NaN</td>\n",
              "      <td>NaN</td>\n",
              "      <td>NaN</td>\n",
              "      <td>NaN</td>\n",
              "      <td>NaN</td>\n",
              "      <td>NaN</td>\n",
              "      <td>NaN</td>\n",
              "      <td>NaN</td>\n",
              "      <td>NaN</td>\n",
              "      <td>...</td>\n",
              "      <td>NaN</td>\n",
              "      <td>NaN</td>\n",
              "      <td>NaN</td>\n",
              "      <td>NaN</td>\n",
              "      <td>NaN</td>\n",
              "      <td>NaN</td>\n",
              "      <td>NaN</td>\n",
              "      <td>NaN</td>\n",
              "      <td>NaN</td>\n",
              "      <td>NaN</td>\n",
              "      <td>NaN</td>\n",
              "      <td>NaN</td>\n",
              "      <td>NaN</td>\n",
              "      <td>NaN</td>\n",
              "      <td>NaN</td>\n",
              "      <td>NaN</td>\n",
              "      <td>NaN</td>\n",
              "      <td>NaN</td>\n",
              "      <td>NaN</td>\n",
              "      <td>NaN</td>\n",
              "      <td>NaN</td>\n",
              "      <td>NaN</td>\n",
              "      <td>NaN</td>\n",
              "      <td>NaN</td>\n",
              "      <td>NaN</td>\n",
              "      <td>NaN</td>\n",
              "      <td>NaN</td>\n",
              "      <td>NaN</td>\n",
              "      <td>NaN</td>\n",
              "      <td>NaN</td>\n",
              "      <td>NaN</td>\n",
              "      <td>NaN</td>\n",
              "      <td>NaN</td>\n",
              "      <td>NaN</td>\n",
              "      <td>NaN</td>\n",
              "      <td>NaN</td>\n",
              "      <td>NaN</td>\n",
              "      <td>NaN</td>\n",
              "      <td>NaN</td>\n",
              "      <td>NaN</td>\n",
              "    </tr>\n",
              "    <tr>\n",
              "      <th>4</th>\n",
              "      <td>u1000</td>\n",
              "      <td>4.0</td>\n",
              "      <td>NaN</td>\n",
              "      <td>NaN</td>\n",
              "      <td>NaN</td>\n",
              "      <td>NaN</td>\n",
              "      <td>NaN</td>\n",
              "      <td>NaN</td>\n",
              "      <td>NaN</td>\n",
              "      <td>NaN</td>\n",
              "      <td>NaN</td>\n",
              "      <td>NaN</td>\n",
              "      <td>NaN</td>\n",
              "      <td>NaN</td>\n",
              "      <td>NaN</td>\n",
              "      <td>NaN</td>\n",
              "      <td>NaN</td>\n",
              "      <td>NaN</td>\n",
              "      <td>NaN</td>\n",
              "      <td>NaN</td>\n",
              "      <td>NaN</td>\n",
              "      <td>NaN</td>\n",
              "      <td>NaN</td>\n",
              "      <td>NaN</td>\n",
              "      <td>NaN</td>\n",
              "      <td>NaN</td>\n",
              "      <td>NaN</td>\n",
              "      <td>NaN</td>\n",
              "      <td>NaN</td>\n",
              "      <td>NaN</td>\n",
              "      <td>NaN</td>\n",
              "      <td>NaN</td>\n",
              "      <td>NaN</td>\n",
              "      <td>NaN</td>\n",
              "      <td>NaN</td>\n",
              "      <td>NaN</td>\n",
              "      <td>NaN</td>\n",
              "      <td>NaN</td>\n",
              "      <td>NaN</td>\n",
              "      <td>NaN</td>\n",
              "      <td>...</td>\n",
              "      <td>NaN</td>\n",
              "      <td>NaN</td>\n",
              "      <td>NaN</td>\n",
              "      <td>NaN</td>\n",
              "      <td>NaN</td>\n",
              "      <td>NaN</td>\n",
              "      <td>NaN</td>\n",
              "      <td>NaN</td>\n",
              "      <td>NaN</td>\n",
              "      <td>NaN</td>\n",
              "      <td>NaN</td>\n",
              "      <td>NaN</td>\n",
              "      <td>NaN</td>\n",
              "      <td>NaN</td>\n",
              "      <td>NaN</td>\n",
              "      <td>NaN</td>\n",
              "      <td>NaN</td>\n",
              "      <td>NaN</td>\n",
              "      <td>NaN</td>\n",
              "      <td>NaN</td>\n",
              "      <td>NaN</td>\n",
              "      <td>NaN</td>\n",
              "      <td>NaN</td>\n",
              "      <td>NaN</td>\n",
              "      <td>NaN</td>\n",
              "      <td>NaN</td>\n",
              "      <td>NaN</td>\n",
              "      <td>NaN</td>\n",
              "      <td>NaN</td>\n",
              "      <td>NaN</td>\n",
              "      <td>NaN</td>\n",
              "      <td>NaN</td>\n",
              "      <td>NaN</td>\n",
              "      <td>NaN</td>\n",
              "      <td>NaN</td>\n",
              "      <td>NaN</td>\n",
              "      <td>NaN</td>\n",
              "      <td>NaN</td>\n",
              "      <td>NaN</td>\n",
              "      <td>NaN</td>\n",
              "    </tr>\n",
              "  </tbody>\n",
              "</table>\n",
              "<p>5 rows × 5609 columns</p>\n",
              "</div>"
            ],
            "text/plain": [
              "characterID_s characterID_f  u1001  u1003  u1004  ...  u993  u994  u997  u998\n",
              "0                        u0    NaN    NaN    NaN  ...   NaN   NaN   NaN   NaN\n",
              "1                        u1    NaN    NaN    NaN  ...   NaN   NaN   NaN   NaN\n",
              "2                       u10    NaN    NaN    NaN  ...   NaN   NaN   NaN   NaN\n",
              "3                      u100    NaN    NaN    NaN  ...   NaN   NaN   NaN   NaN\n",
              "4                     u1000    4.0    NaN    NaN  ...   NaN   NaN   NaN   NaN\n",
              "\n",
              "[5 rows x 5609 columns]"
            ]
          },
          "metadata": {
            "tags": []
          },
          "execution_count": 63
        }
      ]
    },
    {
      "cell_type": "code",
      "metadata": {
        "colab": {
          "base_uri": "https://localhost:8080/"
        },
        "id": "XZbXYFpv0Vzb",
        "outputId": "309002de-b40e-44f7-c75a-fb12192b0c04"
      },
      "source": [
        "matrix.columns"
      ],
      "execution_count": null,
      "outputs": [
        {
          "output_type": "execute_result",
          "data": {
            "text/plain": [
              "Index(['characterID_f', 'u1001', 'u1003', 'u1004', 'u1005', 'u1006', 'u1010',\n",
              "       'u1011', 'u1014', 'u1017',\n",
              "       ...\n",
              "       'u987', 'u988', 'u989', 'u99', 'u990', 'u991', 'u993', 'u994', 'u997',\n",
              "       'u998'],\n",
              "      dtype='object', name='characterID_s', length=5609)"
            ]
          },
          "metadata": {
            "tags": []
          },
          "execution_count": 64
        }
      ]
    },
    {
      "cell_type": "code",
      "metadata": {
        "id": "PaCGFcfc3r-1"
      },
      "source": [
        "row_iterator = matrix.iterrows()\r\n",
        "\r\n",
        "#_, last = row_iterator.next()  # take first item from row_iterator\r\n",
        "for i, row in row_iterator:\r\n",
        "  for m in range(2,len(matrix.columns)):\r\n",
        "    col=matrix.columns[6]\r\n",
        "    row[col]>1\r\n",
        "#    print(last['characterID_f'])\r\n",
        "#    last = row"
      ],
      "execution_count": null,
      "outputs": []
    },
    {
      "cell_type": "code",
      "metadata": {
        "id": "XcwAQFsv1XPE"
      },
      "source": [
        ""
      ],
      "execution_count": null,
      "outputs": []
    }
  ]
}